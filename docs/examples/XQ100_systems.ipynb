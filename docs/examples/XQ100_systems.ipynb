{
 "cells": [
  {
   "cell_type": "markdown",
   "metadata": {},
   "source": [
    "# Notebook to organize Ingestion of XQ100 datasets (v1.0)"
   ]
  },
  {
   "cell_type": "code",
   "execution_count": 8,
   "metadata": {
    "collapsed": true
   },
   "outputs": [],
   "source": [
    "# imports\n",
    "import warnings\n",
    "from astropy import units as u\n",
    "\n",
    "from linetools.spectralline import AbsLine\n",
    "from linetools import utils as ltu\n",
    "from linetools.isgm.abscomponent import AbsComponent\n",
    "from linetools.isgm import utils as ltiu\n",
    "from linetools.analysis import absline as laa\n",
    "\n",
    "\n",
    "import pyigm\n",
    "from pyigm.surveys import dlasurvey as dlasvy\n",
    "from pyigm.abssys.dla import DLASystem"
   ]
  },
  {
   "cell_type": "markdown",
   "metadata": {},
   "source": [
    "## DLAs"
   ]
  },
  {
   "cell_type": "markdown",
   "metadata": {},
   "source": [
    "### $N_{\\rm HI}$ -- (Sanchez-Ramirez et al. 2016, MNRAS, 456, 4488)"
   ]
  },
  {
   "cell_type": "code",
   "execution_count": 2,
   "metadata": {
    "collapsed": false
   },
   "outputs": [
    {
     "name": "stdout",
     "output_type": "stream",
     "text": [
      "Loading QSOs file /Users/xavier/local/Python/pyigm/pyigm/data/DLA/XQ-100/XQ100_zpath.fit\n"
     ]
    },
    {
     "data": {
      "text/plain": [
       "<IGMSurvey: nsys=41, type=DLA, ref=XQ-100, nsightlines=100>"
      ]
     },
     "execution_count": 2,
     "metadata": {},
     "output_type": "execute_result"
    }
   ],
   "source": [
    "xq100_dla = dlasvy.DLASurvey.load_XQ100(sample='all')\n",
    "xq100_dla"
   ]
  },
  {
   "cell_type": "code",
   "execution_count": 3,
   "metadata": {
    "collapsed": false
   },
   "outputs": [
    {
     "data": {
      "text/plain": [
       "[<DLASystem: 00:03:22.9104 -26:03:16.812, 3.39, NHI=21.4, Z/H=0>,\n",
       " <DLASystem: 00:06:51.6096 -62:08:03.696, 3.203, NHI=20.9, Z/H=0>,\n",
       " <DLASystem: 00:06:51.6096 -62:08:03.696, 3.775, NHI=21, Z/H=0>,\n",
       " <DLASystem: 00:34:54.8208 16:39:19.512, 3.755, NHI=20.4, Z/H=0>,\n",
       " <DLASystem: 01:13:44.3712 -28:03:17.208, 3.106, NHI=21.2, Z/H=0>]"
      ]
     },
     "execution_count": 3,
     "metadata": {},
     "output_type": "execute_result"
    }
   ],
   "source": [
    "xq100_dla._abs_sys[0:5]"
   ]
  },
  {
   "cell_type": "code",
   "execution_count": 4,
   "metadata": {
    "collapsed": false
   },
   "outputs": [
    {
     "data": {
      "text/plain": [
       "<SkyCoord (ICRS): (ra, dec) in deg\n",
       "    [(0.84546, -26.05467), (1.71504, -62.13436), (1.71504, -62.13436),\n",
       "     (8.72842, 16.65542), (18.43488, -28.05478), (21.01571, 0.74244),\n",
       "     (23.04104, 13.69431), (23.418, 4.01662), (23.418, 4.01662),\n",
       "     (38.72975, -18.10236), (43.82741, 0.81318), (43.82741, 0.81318),\n",
       "     (46.84533, -49.76333), (46.84533, -49.76333), (63.81321, -43.96469),\n",
       "     (66.54304, -22.03814), (82.33671, -35.87614), (116.79647, 27.65093),\n",
       "     (116.79647, 27.65093), (124.73242, 9.98001), (140.17401, 7.42892),\n",
       "     (148.75039, -1.50181), (155.16926, 9.38174), (156.2359, 18.31911),\n",
       "     (164.2724, 19.17857), (164.74326, 12.76526), (167.23113, 12.16482),\n",
       "     (167.23113, 12.16482), (198.17863, 8.68475), (215.28232, -6.73232),\n",
       "     (229.4841, 5.18433), (238.22935, 10.09399), (248.3318, 14.19501),\n",
       "     (260.84667, 22.73278), (339.97333, -5.87194), (356.01333, 3.70722),\n",
       "     (8.72842, 16.65542), (8.72842, 16.65542), (120.2095, 19.3497),\n",
       "     (128.79551, 6.848), (238.22935, 10.09399)]>"
      ]
     },
     "execution_count": 4,
     "metadata": {},
     "output_type": "execute_result"
    }
   ],
   "source": [
    "xq100_dla_coords = xq100_dla.coord\n",
    "xq100_dla_coords"
   ]
  },
  {
   "cell_type": "code",
   "execution_count": 16,
   "metadata": {
    "collapsed": false
   },
   "outputs": [
    {
     "data": {
      "text/plain": [
       "array([ 3.39  ,  3.203 ,  3.775 ,  3.755 ,  3.106 ,  2.261 ,  3.936 ,\n",
       "        3.692 ,  3.7725,  3.693 ,  3.9145,  3.2555,  4.4665,  3.591 ,\n",
       "        3.808 ,  2.9825,  3.684 ,  3.4235,  3.901 ,  3.306 ,  2.238 ,\n",
       "        4.0245,  2.592 ,  2.298 ,  3.3735,  3.4315,  3.546 ,  3.3965,\n",
       "        2.66  ,  3.449 ,  2.6885,  3.601 ,  2.882 ,  3.698 ,  4.0805,\n",
       "        3.22  ,  4.2835,  4.2523,  3.9465,  3.9555,  3.6665])"
      ]
     },
     "execution_count": 16,
     "metadata": {},
     "output_type": "execute_result"
    }
   ],
   "source": [
    "xq100_dla_zabs = xq100_dla.zabs\n",
    "xq100_dla_zabs"
   ]
  },
  {
   "cell_type": "markdown",
   "metadata": {},
   "source": [
    "#### Read Berg table"
   ]
  },
  {
   "cell_type": "code",
   "execution_count": 5,
   "metadata": {
    "collapsed": false
   },
   "outputs": [
    {
     "data": {
      "text/html": [
       "&lt;Table length=5&gt;\n",
       "<table id=\"table4579279888\">\n",
       "<thead><tr><th>qso</th><th>ion</th><th>wl</th><th>zab</th><th>zem</th><th>ra</th><th>dec</th><th>vmin</th><th>vmax</th><th>filename</th><th>N</th><th>Nerr</th><th>flg</th><th>flg_analy</th><th>lambda</th><th>f</th></tr></thead>\n",
       "<thead><tr><th>str10</th><th>str4</th><th>int64</th><th>float64</th><th>float64</th><th>str10</th><th>str9</th><th>int64</th><th>int64</th><th>str38</th><th>float64</th><th>float64</th><th>int64</th><th>int64</th><th>float64</th><th>float64</th></tr></thead>\n",
       "<tr><td>J0003-2603</td><td>OI</td><td>1302</td><td>3.39</td><td>4.125</td><td>00:03:22.8</td><td>-26:03:19</td><td>-60</td><td>70</td><td>J0003-2603/tb_J0003-2603_vis_cont.fits</td><td>15.1</td><td>0.02</td><td>3</td><td>-1</td><td>1302.168</td><td>0.04887</td></tr>\n",
       "<tr><td>J0003-2603</td><td>MgI</td><td>2852</td><td>3.39</td><td>4.125</td><td>00:03:22.8</td><td>-26:03:19</td><td>-140</td><td>70</td><td>J0003-2603/tb_J0003-2603_nir_cont.fits</td><td>11.85</td><td>0.03</td><td>1</td><td>0</td><td>2852.964</td><td>1.81</td></tr>\n",
       "<tr><td>J0003-2603</td><td>MgII</td><td>2796</td><td>3.39</td><td>4.125</td><td>00:03:22.8</td><td>-26:03:19</td><td>-220</td><td>200</td><td>J0003-2603/tb_J0003-2603_nir_cont.fits</td><td>13.91</td><td>0.02</td><td>2</td><td>0</td><td>2796.352</td><td>0.6123</td></tr>\n",
       "<tr><td>J0003-2603</td><td>MgII</td><td>2803</td><td>3.39</td><td>4.125</td><td>00:03:22.8</td><td>-26:03:19</td><td>-200</td><td>170</td><td>J0003-2603/tb_J0003-2603_nir_cont.fits</td><td>14.04</td><td>0.01</td><td>2</td><td>0</td><td>2803.531</td><td>0.3054</td></tr>\n",
       "<tr><td>J0003-2603</td><td>CaII</td><td>3934</td><td>3.39</td><td>4.125</td><td>00:03:22.8</td><td>-26:03:19</td><td>-20</td><td>50</td><td>J0003-2603/tb_J0003-2603_nir_cont.fits</td><td>11.81</td><td>0.0</td><td>3</td><td>0</td><td>3934.777</td><td>0.65</td></tr>\n",
       "</table>"
      ],
      "text/plain": [
       "<Table length=5>\n",
       "   qso     ion    wl    zab     zem   ...  flg  flg_analy  lambda     f   \n",
       "  str10    str4 int64 float64 float64 ... int64   int64   float64  float64\n",
       "---------- ---- ----- ------- ------- ... ----- --------- -------- -------\n",
       "J0003-2603   OI  1302    3.39   4.125 ...     3        -1 1302.168 0.04887\n",
       "J0003-2603  MgI  2852    3.39   4.125 ...     1         0 2852.964    1.81\n",
       "J0003-2603 MgII  2796    3.39   4.125 ...     2         0 2796.352  0.6123\n",
       "J0003-2603 MgII  2803    3.39   4.125 ...     2         0 2803.531  0.3054\n",
       "J0003-2603 CaII  3934    3.39   4.125 ...     3         0 3934.777    0.65"
      ]
     },
     "execution_count": 5,
     "metadata": {},
     "output_type": "execute_result"
    }
   ],
   "source": [
    "fil = pyigm.__path__[0]+'/data/DLA/XQ-100/tb_XQ100_metals_to_json.dat'\n",
    "berg_tbl = Table.read(fil,format='ascii')\n",
    "berg_tbl[0:5]"
   ]
  },
  {
   "cell_type": "markdown",
   "metadata": {},
   "source": [
    "#### Systems"
   ]
  },
  {
   "cell_type": "code",
   "execution_count": 6,
   "metadata": {
    "collapsed": false
   },
   "outputs": [
    {
     "data": {
      "text/plain": [
       "array(['J0003-2603_z3.390', 'J0006-6208_z3.203', 'J0006-6208_z3.775',\n",
       "       'J0034+1639_z3.755', 'J0034+1639_z4.252', 'J0034+1639_z4.284',\n",
       "       'J0113-2803_z3.106', 'J0124+0044_z2.261', 'J0132+1341_z3.936',\n",
       "       'J0134+0400_z3.692', 'J0134+0400_z3.772', 'J0234-1806_z3.693',\n",
       "       'J0255+0048_z3.256', 'J0255+0048_z3.914', 'J0307-4945_z3.591',\n",
       "       'J0307-4945_z4.466', 'J0415-4357_z3.808', 'J0424-2209_z2.982',\n",
       "       'J0529-3552_z3.684', 'J0747+2739_z3.424', 'J0747+2739_z3.901',\n",
       "       'J0800+1920_z3.946', 'J0818+0958_z3.306', 'J0835+0650_z3.955',\n",
       "       'J0920+0725_z2.238', 'J0955-0130_z4.024', 'J1020+0922_z2.592',\n",
       "       'J1024+1819_z2.298', 'J1057+1910_z3.373', 'J1058+1245_z3.432',\n",
       "       'J1108+1209_z3.397', 'J1108+1209_z3.546', 'J1312+0841_z2.660',\n",
       "       'J1421-0643_z3.449', 'J1517+0511_z2.688', 'J1552+1005_z3.601',\n",
       "       'J1552+1005_z3.667', 'J1633+1411_z2.882', 'J1723+2243_z3.698',\n",
       "       'J2239-0552_z4.080', 'J2344+0342_z3.220'], \n",
       "      dtype='|S17')"
      ]
     },
     "execution_count": 6,
     "metadata": {},
     "output_type": "execute_result"
    }
   ],
   "source": [
    "dlas = np.array(['{:s}_z{:0.3f}'.format(row['qso'],row['zab']) for row in berg_tbl])\n",
    "unique_dlas = np.unique(dlas)\n",
    "unique_dlas"
   ]
  },
  {
   "cell_type": "markdown",
   "metadata": {},
   "source": [
    "#### Loop on DLAs and generate"
   ]
  },
  {
   "cell_type": "code",
   "execution_count": 19,
   "metadata": {
    "collapsed": false
   },
   "outputs": [
    {
     "name": "stdout",
     "output_type": "stream",
     "text": [
      "Working on DLA <DLASystem: 00:03:22.9104 -26:03:16.812, 3.39, NHI=21.4, Z/H=0>\n",
      "Skipping TiII\n"
     ]
    },
    {
     "name": "stderr",
     "output_type": "stream",
     "text": [
      "/Users/xavier/anaconda/lib/python2.7/site-packages/ipykernel/__main__.py:17: UserWarning: DLA J0003-2603_z3.390 has a large coordinate offset = [ 2.65977323] arcsec\n"
     ]
    }
   ],
   "source": [
    "for cdla in unique_dlas:\n",
    "    # Rows matching this DLA\n",
    "    mti = np.where(dlas == cdla)[0]\n",
    "    # Generate abslines\n",
    "    abslines = []\n",
    "    for jj,ii in enumerate(mti):\n",
    "        row = berg_tbl[ii]\n",
    "        if jj == 0:\n",
    "            coord = ltu.radec_to_coord((row['ra'],row['dec']))\n",
    "            # Match to DLA in XQ-100 survey\n",
    "            sep = coord.separation(xq100_dla_coords)\n",
    "            imin = np.argmin(sep)\n",
    "            mt = np.where((sep < 5*u.arcsec) & (np.abs(row['zab']-xq100_dla_zabs) < 1e-2))[0]\n",
    "            if len(mt) != 1:\n",
    "                xdb.set_trace()\n",
    "            if sep[mt[0]] > 1*u.arcsec:\n",
    "                warnings.warn(\"DLA {} has a large coordinate offset = {}\".format(cdla,sep[mt].to('arcsec')))\n",
    "            dla = xq100_dla._abs_sys[mt[0]]\n",
    "            # Reset DLA\n",
    "            dla.zabs = row['zab']\n",
    "            dla._components= []\n",
    "            print(\"Working on DLA {}\".format(dla))\n",
    "        if row['ion'] == 'TiII':\n",
    "            print('Skipping TiII')\n",
    "            continue\n",
    "        #\n",
    "        trans = '{:s} {:d}'.format(row['ion'],row['wl'])\n",
    "        #print('DLA={:s}, trans={:s}'.format(cdla,trans))\n",
    "        aline = AbsLine(trans)\n",
    "        # Coord, zem, etc. attrib\n",
    "        aline.attrib['coord'] = dla.coord\n",
    "        aline.attrib['z'] = row['zab']\n",
    "        aline.attrib['logN'] = row['N']\n",
    "        aline.attrib['sig_logN'] = row['Nerr']\n",
    "        aline.attrib['flag_N'] = row['flg']\n",
    "        laa.linear_clm(aline.attrib)\n",
    "        #xdb.set_trace()\n",
    "        # Analysis\n",
    "        aline.analy['vlim'] = [row['vmin'], row['vmax']]*u.km/u.s\n",
    "        aline.analy['do_analysis'] = row['flg_analy']+1\n",
    "        aline.analy['spec'] = row['filename']\n",
    "        # Checks\n",
    "        np.testing.assert_allclose(aline.wrest.value, row['lambda'], rtol=1e-4)\n",
    "        try:\n",
    "            np.testing.assert_allclose(aline.data['f'], row['f'], rtol=1e-4)\n",
    "        except AssertionError:\n",
    "            pass\n",
    "            #print(\"f-values do not closely match for trans={:s}\".format(trans))\n",
    "            #print(\"f_lt={:g}, f_Berg={:g}\".format(aline.data['f'], row['f']))\n",
    "        # Add\n",
    "        abslines.append(aline)\n",
    "    # Generate components and add them in\n",
    "    comps = ltiu.build_components_from_abslines(abslines, chk_vel=False)\n",
    "    for comp in comps:\n",
    "        comp.synthesize_colm(overwrite=True)\n",
    "        dla.add_component(comp)\n",
    "    break"
   ]
  },
  {
   "cell_type": "code",
   "execution_count": 23,
   "metadata": {
    "collapsed": false
   },
   "outputs": [
    {
     "data": {
      "text/html": [
       "&lt;Table length=11&gt;\n",
       "<table id=\"table4649159888\">\n",
       "<thead><tr><th>Z</th><th>ion</th><th>A</th><th>Ej</th><th>z</th><th>vmin</th><th>vmax</th><th>flag_N</th><th>logN</th><th>sig_logN</th></tr></thead>\n",
       "<thead><tr><th></th><th></th><th></th><th>1 / cm</th><th></th><th>km / s</th><th>km / s</th><th></th><th></th><th></th></tr></thead>\n",
       "<thead><tr><th>int64</th><th>int64</th><th>int64</th><th>float64</th><th>float64</th><th>float64</th><th>float64</th><th>int64</th><th>float64</th><th>float64</th></tr></thead>\n",
       "<tr><td>8</td><td>1</td><td>0</td><td>0.0</td><td>3.39</td><td>-60.0</td><td>70.0</td><td>0</td><td>0.0</td><td>0.0</td></tr>\n",
       "<tr><td>12</td><td>1</td><td>0</td><td>0.0</td><td>3.39</td><td>-140.0</td><td>70.0</td><td>1</td><td>11.85</td><td>0.03</td></tr>\n",
       "<tr><td>12</td><td>2</td><td>0</td><td>0.0</td><td>3.39</td><td>-220.0</td><td>200.0</td><td>2</td><td>14.04</td><td>0.01</td></tr>\n",
       "<tr><td>14</td><td>2</td><td>0</td><td>0.0</td><td>3.39</td><td>-200.0</td><td>70.0</td><td>2</td><td>14.37</td><td>0.01</td></tr>\n",
       "<tr><td>15</td><td>2</td><td>0</td><td>0.0</td><td>3.39</td><td>-20.0</td><td>50.0</td><td>3</td><td>13.73</td><td>0.0</td></tr>\n",
       "<tr><td>20</td><td>2</td><td>0</td><td>0.0</td><td>3.39</td><td>-20.0</td><td>50.0</td><td>3</td><td>11.81</td><td>0.0</td></tr>\n",
       "<tr><td>24</td><td>2</td><td>0</td><td>0.0</td><td>3.39</td><td>-40.0</td><td>75.0</td><td>1</td><td>13.07</td><td>0.04</td></tr>\n",
       "<tr><td>25</td><td>2</td><td>0</td><td>0.0</td><td>3.39</td><td>-90.0</td><td>60.0</td><td>3</td><td>12.39</td><td>0.06</td></tr>\n",
       "<tr><td>26</td><td>2</td><td>0</td><td>0.0</td><td>3.39</td><td>-110.0</td><td>70.0</td><td>1</td><td>14.75</td><td>0.04</td></tr>\n",
       "<tr><td>28</td><td>2</td><td>0</td><td>0.0</td><td>3.39</td><td>-40.0</td><td>70.0</td><td>1</td><td>13.42</td><td>0.04</td></tr>\n",
       "<tr><td>30</td><td>2</td><td>0</td><td>0.0</td><td>3.39</td><td>-20.0</td><td>50.0</td><td>1</td><td>12.1</td><td>0.05</td></tr>\n",
       "</table>"
      ],
      "text/plain": [
       "<Table length=11>\n",
       "  Z    ion    A      Ej      z      vmin    vmax  flag_N   logN  sig_logN\n",
       "                   1 / cm          km / s  km / s                        \n",
       "int64 int64 int64 float64 float64 float64 float64 int64  float64 float64 \n",
       "----- ----- ----- ------- ------- ------- ------- ------ ------- --------\n",
       "    8     1     0     0.0    3.39   -60.0    70.0      0     0.0      0.0\n",
       "   12     1     0     0.0    3.39  -140.0    70.0      1   11.85     0.03\n",
       "   12     2     0     0.0    3.39  -220.0   200.0      2   14.04     0.01\n",
       "   14     2     0     0.0    3.39  -200.0    70.0      2   14.37     0.01\n",
       "   15     2     0     0.0    3.39   -20.0    50.0      3   13.73      0.0\n",
       "   20     2     0     0.0    3.39   -20.0    50.0      3   11.81      0.0\n",
       "   24     2     0     0.0    3.39   -40.0    75.0      1   13.07     0.04\n",
       "   25     2     0     0.0    3.39   -90.0    60.0      3   12.39     0.06\n",
       "   26     2     0     0.0    3.39  -110.0    70.0      1   14.75     0.04\n",
       "   28     2     0     0.0    3.39   -40.0    70.0      1   13.42     0.04\n",
       "   30     2     0     0.0    3.39   -20.0    50.0      1    12.1     0.05"
      ]
     },
     "execution_count": 23,
     "metadata": {},
     "output_type": "execute_result"
    }
   ],
   "source": [
    "dla.fill_ionN()\n",
    "dla._ionN"
   ]
  },
  {
   "cell_type": "code",
   "execution_count": null,
   "metadata": {
    "collapsed": true
   },
   "outputs": [],
   "source": []
  }
 ],
 "metadata": {
  "kernelspec": {
   "display_name": "Python 2",
   "language": "python",
   "name": "python2"
  },
  "language_info": {
   "codemirror_mode": {
    "name": "ipython",
    "version": 2
   },
   "file_extension": ".py",
   "mimetype": "text/x-python",
   "name": "python",
   "nbconvert_exporter": "python",
   "pygments_lexer": "ipython2",
   "version": "2.7.11"
  }
 },
 "nbformat": 4,
 "nbformat_minor": 0
}
