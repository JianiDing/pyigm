{
 "cells": [
  {
   "cell_type": "markdown",
   "metadata": {},
   "source": [
    "# Notebook to organize Ingestion of XQ100 datasets"
   ]
  },
  {
   "cell_type": "code",
   "execution_count": 36,
   "metadata": {
    "collapsed": true
   },
   "outputs": [],
   "source": [
    "# imports\n",
    "from astropy import units as u\n",
    "\n",
    "from linetools.spectralline import AbsLine\n",
    "from linetools import utils as ltu\n",
    "from linetools.isgm.abscomponent import AbsComponent\n",
    "from linetools.isgm import utils as ltiu\n",
    "\n",
    "\n",
    "import pyigm\n",
    "from pyigm.surveys import dlasurvey as dlasvy"
   ]
  },
  {
   "cell_type": "markdown",
   "metadata": {},
   "source": [
    "## DLAs"
   ]
  },
  {
   "cell_type": "markdown",
   "metadata": {},
   "source": [
    "### $N_{\\rm HI}$ -- (Sanchez-Ramirez et al. 2016, MNRAS, 456, 4488)"
   ]
  },
  {
   "cell_type": "code",
   "execution_count": 3,
   "metadata": {
    "collapsed": false
   },
   "outputs": [
    {
     "name": "stdout",
     "output_type": "stream",
     "text": [
      "Loading QSOs file /Users/xavier/local/Python/pyigm/pyigm/data/DLA/XQ-100/XQ100_zpath.fit\n",
      "Loaded\n"
     ]
    },
    {
     "data": {
      "text/plain": [
       "<IGMSurvey: nsys=41, type=DLA, ref=XQ-100, nsightlines=100>"
      ]
     },
     "execution_count": 3,
     "metadata": {},
     "output_type": "execute_result"
    }
   ],
   "source": [
    "xq100_statdla = dlasvy.DLASurvey.load_XQ100()\n",
    "xq100_statdla"
   ]
  },
  {
   "cell_type": "markdown",
   "metadata": {},
   "source": [
    "### Chemical abundances -- Berg et al. 2016\n",
    "\n",
    "    wget http://www.astro.uvic.ca/~trystynb/XSHOOTER/Metals/tb_XQ100_metals_to_json.dat\n",
    "    Put into pyigm/pyigm/data/DLA/XQ-100/"
   ]
  },
  {
   "cell_type": "markdown",
   "metadata": {},
   "source": [
    "#### Read Berg table"
   ]
  },
  {
   "cell_type": "code",
   "execution_count": 23,
   "metadata": {
    "collapsed": false
   },
   "outputs": [
    {
     "data": {
      "text/html": [
       "&lt;Table length=5&gt;\n",
       "<table id=\"table4595656848\">\n",
       "<thead><tr><th>qso</th><th>ion</th><th>wl</th><th>zab</th><th>zem</th><th>ra</th><th>dec</th><th>vmin</th><th>vmax</th><th>filename</th><th>N</th><th>Nerr</th><th>flg</th><th>flg_analy</th><th>lambda</th><th>f</th></tr></thead>\n",
       "<thead><tr><th>str10</th><th>str4</th><th>int64</th><th>float64</th><th>float64</th><th>str10</th><th>str9</th><th>int64</th><th>int64</th><th>str38</th><th>float64</th><th>float64</th><th>int64</th><th>int64</th><th>float64</th><th>float64</th></tr></thead>\n",
       "<tr><td>J0003-2603</td><td>OI</td><td>1302</td><td>3.39</td><td>4.125</td><td>00:03:22.8</td><td>-26:03:19</td><td>-60</td><td>70</td><td>J0003-2603/tb_J0003-2603_vis_cont.fits</td><td>15.1</td><td>0.02</td><td>3</td><td>-1</td><td>1302.168</td><td>0.04887</td></tr>\n",
       "<tr><td>J0003-2603</td><td>MgI</td><td>2852</td><td>3.39</td><td>4.125</td><td>00:03:22.8</td><td>-26:03:19</td><td>-140</td><td>70</td><td>J0003-2603/tb_J0003-2603_nir_cont.fits</td><td>11.85</td><td>0.03</td><td>1</td><td>0</td><td>2852.964</td><td>1.81</td></tr>\n",
       "<tr><td>J0003-2603</td><td>MgII</td><td>2796</td><td>3.39</td><td>4.125</td><td>00:03:22.8</td><td>-26:03:19</td><td>-220</td><td>200</td><td>J0003-2603/tb_J0003-2603_nir_cont.fits</td><td>13.91</td><td>0.02</td><td>2</td><td>0</td><td>2796.352</td><td>0.6123</td></tr>\n",
       "<tr><td>J0003-2603</td><td>MgII</td><td>2803</td><td>3.39</td><td>4.125</td><td>00:03:22.8</td><td>-26:03:19</td><td>-200</td><td>170</td><td>J0003-2603/tb_J0003-2603_nir_cont.fits</td><td>14.04</td><td>0.01</td><td>2</td><td>0</td><td>2803.531</td><td>0.3054</td></tr>\n",
       "<tr><td>J0003-2603</td><td>CaII</td><td>3934</td><td>3.39</td><td>4.125</td><td>00:03:22.8</td><td>-26:03:19</td><td>-20</td><td>50</td><td>J0003-2603/tb_J0003-2603_nir_cont.fits</td><td>11.81</td><td>0.0</td><td>3</td><td>0</td><td>3934.777</td><td>0.65</td></tr>\n",
       "</table>"
      ],
      "text/plain": [
       "<Table length=5>\n",
       "   qso     ion    wl    zab     zem   ...  flg  flg_analy  lambda     f   \n",
       "  str10    str4 int64 float64 float64 ... int64   int64   float64  float64\n",
       "---------- ---- ----- ------- ------- ... ----- --------- -------- -------\n",
       "J0003-2603   OI  1302    3.39   4.125 ...     3        -1 1302.168 0.04887\n",
       "J0003-2603  MgI  2852    3.39   4.125 ...     1         0 2852.964    1.81\n",
       "J0003-2603 MgII  2796    3.39   4.125 ...     2         0 2796.352  0.6123\n",
       "J0003-2603 MgII  2803    3.39   4.125 ...     2         0 2803.531  0.3054\n",
       "J0003-2603 CaII  3934    3.39   4.125 ...     3         0 3934.777    0.65"
      ]
     },
     "execution_count": 23,
     "metadata": {},
     "output_type": "execute_result"
    }
   ],
   "source": [
    "fil = pyigm.__path__[0]+'/data/DLA/XQ-100/tb_XQ100_metals_to_json.dat'\n",
    "berg_tbl = Table.read(fil,format='ascii')\n",
    "berg_tbl[0:5]"
   ]
  },
  {
   "cell_type": "markdown",
   "metadata": {},
   "source": [
    "#### Systems"
   ]
  },
  {
   "cell_type": "code",
   "execution_count": 24,
   "metadata": {
    "collapsed": false
   },
   "outputs": [
    {
     "data": {
      "text/plain": [
       "array(['J0003-2603_z3.390', 'J0006-6208_z3.203', 'J0006-6208_z3.775',\n",
       "       'J0034+1639_z3.755', 'J0034+1639_z4.252', 'J0034+1639_z4.284',\n",
       "       'J0113-2803_z3.106', 'J0124+0044_z2.261', 'J0132+1341_z3.936',\n",
       "       'J0134+0400_z3.692', 'J0134+0400_z3.772', 'J0234-1806_z3.693',\n",
       "       'J0255+0048_z3.256', 'J0255+0048_z3.914', 'J0307-4945_z3.591',\n",
       "       'J0307-4945_z4.466', 'J0415-4357_z3.808', 'J0424-2209_z2.982',\n",
       "       'J0529-3552_z3.684', 'J0747+2739_z3.424', 'J0747+2739_z3.901',\n",
       "       'J0800+1920_z3.946', 'J0818+0958_z3.306', 'J0835+0650_z3.955',\n",
       "       'J0920+0725_z2.238', 'J0955-0130_z4.024', 'J1020+0922_z2.592',\n",
       "       'J1024+1819_z2.298', 'J1057+1910_z3.373', 'J1058+1245_z3.432',\n",
       "       'J1108+1209_z3.397', 'J1108+1209_z3.546', 'J1312+0841_z2.660',\n",
       "       'J1421-0643_z3.449', 'J1517+0511_z2.688', 'J1552+1005_z3.601',\n",
       "       'J1552+1005_z3.667', 'J1633+1411_z2.882', 'J1723+2243_z3.698',\n",
       "       'J2239-0552_z4.080', 'J2344+0342_z3.220'], \n",
       "      dtype='|S17')"
      ]
     },
     "execution_count": 24,
     "metadata": {},
     "output_type": "execute_result"
    }
   ],
   "source": [
    "dlas = np.array(['{:s}_z{:0.3f}'.format(row['qso'],row['zab']) for row in berg_tbl])\n",
    "unique_dlas = np.unique(dlas)\n",
    "unique_dlas"
   ]
  },
  {
   "cell_type": "markdown",
   "metadata": {},
   "source": [
    "#### Loop on DLAs and generate"
   ]
  },
  {
   "cell_type": "code",
   "execution_count": null,
   "metadata": {
    "collapsed": false
   },
   "outputs": [
    {
     "name": "stdout",
     "output_type": "stream",
     "text": [
      "DLA=J0003-2603_z3.390, trans=OI 1302\n",
      "f-values do not closely match for trans=OI 1302\n",
      "f_lt=0.048, f_Berg=0.04887\n",
      "DLA=J0003-2603_z3.390, trans=MgI 2852\n",
      "f-values do not closely match for trans=MgI 2852\n",
      "f_lt=1.73, f_Berg=1.81\n",
      "DLA=J0003-2603_z3.390, trans=MgII 2796\n",
      "f-values do not closely match for trans=MgII 2796\n",
      "f_lt=0.6155, f_Berg=0.6123\n",
      "DLA=J0003-2603_z3.390, trans=MgII 2803\n",
      "f-values do not closely match for trans=MgII 2803\n",
      "f_lt=0.3058, f_Berg=0.3054\n",
      "DLA=J0003-2603_z3.390, trans=CaII 3934\n",
      "DLA=J0003-2603_z3.390, trans=CaII 3969\n",
      "DLA=J0003-2603_z3.390, trans=SiII 1304\n",
      "f-values do not closely match for trans=SiII 1304\n",
      "f_lt=0.0863, f_Berg=0.094\n",
      "DLA=J0003-2603_z3.390, trans=SiII 1526\n",
      "DLA=J0003-2603_z3.390, trans=SiII 1808\n",
      "f-values do not closely match for trans=SiII 1808\n",
      "f_lt=0.00208, f_Berg=0.002186\n",
      "DLA=J0003-2603_z3.390, trans=CrII 2056\n",
      "f-values do not closely match for trans=CrII 2056\n",
      "f_lt=0.103, f_Berg=0.105\n",
      "DLA=J0003-2603_z3.390, trans=CrII 2062\n",
      "f-values do not closely match for trans=CrII 2062\n",
      "f_lt=0.105, f_Berg=0.078\n",
      "DLA=J0003-2603_z3.390, trans=CrII 2066\n",
      "f-values do not closely match for trans=CrII 2066\n",
      "f_lt=0.0698, f_Berg=0.0515\n",
      "DLA=J0003-2603_z3.390, trans=MnII 2594\n",
      "f-values do not closely match for trans=MnII 2594\n",
      "f_lt=0.28, f_Berg=0.271\n",
      "DLA=J0003-2603_z3.390, trans=MnII 2606\n",
      "f-values do not closely match for trans=MnII 2606\n",
      "f_lt=0.198, f_Berg=0.1927\n",
      "DLA=J0003-2603_z3.390, trans=FeII 1608\n",
      "f-values do not closely match for trans=FeII 1608\n",
      "f_lt=0.0577, f_Berg=0.058\n",
      "DLA=J0003-2603_z3.390, trans=FeII 1611\n",
      "f-values do not closely match for trans=FeII 1611\n",
      "f_lt=0.00138, f_Berg=0.00136\n",
      "DLA=J0003-2603_z3.390, trans=FeII 2344\n",
      "DLA=J0003-2603_z3.390, trans=FeII 2374\n",
      "DLA=J0003-2603_z3.390, trans=NiII 1709\n",
      "DLA=J0003-2603_z3.390, trans=NiII 1751\n",
      "DLA=J0003-2603_z3.390, trans=ZnII 2026\n",
      "f-values do not closely match for trans=ZnII 2026\n",
      "f_lt=0.501, f_Berg=0.489\n",
      "DLA=J0003-2603_z3.390, trans=ZnII 2062\n",
      "f-values do not closely match for trans=ZnII 2062\n",
      "f_lt=0.253, f_Berg=0.256\n",
      "DLA=J0003-2603_z3.390, trans=PII 1532\n",
      "f-values do not closely match for trans=PII 1532\n",
      "f_lt=0.00303, f_Berg=0.00761\n",
      "Skipping TiII\n",
      "> <ipython-input-38-4827a2055335>(1)<module>()\n",
      "-> for dla in unique_dlas:\n",
      "(Pdb) comps\n",
      "[<AbsComponent: 00:03:22.8 -26:03:19, Name=OI_z3.39000, Zion=(8,1), Ej=0 1 / cm, z=3.39, vlim=-60 km / s,70 km / s>, <AbsComponent: 00:03:22.8 -26:03:19, Name=MgI_z3.39000, Zion=(12,1), Ej=0 1 / cm, z=3.39, vlim=-140 km / s,70 km / s>, <AbsComponent: 00:03:22.8 -26:03:19, Name=MgII_z3.39000, Zion=(12,2), Ej=0 1 / cm, z=3.39, vlim=-220 km / s,200 km / s>, <AbsComponent: 00:03:22.8 -26:03:19, Name=SiII_z3.39000, Zion=(14,2), Ej=0 1 / cm, z=3.39, vlim=-200 km / s,70 km / s>, <AbsComponent: 00:03:22.8 -26:03:19, Name=PII_z3.39000, Zion=(15,2), Ej=0 1 / cm, z=3.39, vlim=-20 km / s,50 km / s>, <AbsComponent: 00:03:22.8 -26:03:19, Name=CaII_z3.39000, Zion=(20,2), Ej=0 1 / cm, z=3.39, vlim=-20 km / s,50 km / s>, <AbsComponent: 00:03:22.8 -26:03:19, Name=CrII_z3.39000, Zion=(24,2), Ej=0 1 / cm, z=3.39, vlim=-40 km / s,75 km / s>, <AbsComponent: 00:03:22.8 -26:03:19, Name=MnII_z3.39000, Zion=(25,2), Ej=0 1 / cm, z=3.39, vlim=-90 km / s,60 km / s>, <AbsComponent: 00:03:22.8 -26:03:19, Name=FeII_z3.39000, Zion=(26,2), Ej=0 1 / cm, z=3.39, vlim=-110 km / s,70 km / s>, <AbsComponent: 00:03:22.8 -26:03:19, Name=NiII_z3.39000, Zion=(28,2), Ej=0 1 / cm, z=3.39, vlim=-40 km / s,70 km / s>, <AbsComponent: 00:03:22.8 -26:03:19, Name=ZnII_z3.39000, Zion=(30,2), Ej=0 1 / cm, z=3.39, vlim=-20 km / s,50 km / s>]\n"
     ]
    }
   ],
   "source": [
    "for dla in unique_dlas:\n",
    "    # Rows matching this DLA\n",
    "    mti = np.where(dlas == dla)[0]\n",
    "    # Generate abslines\n",
    "    abslines = []\n",
    "    for ii in mti:\n",
    "        row = berg_tbl[ii]\n",
    "        if row['ion'] == 'TiII':\n",
    "            print('Skipping TiII')\n",
    "            continue\n",
    "        #\n",
    "        trans = '{:s} {:d}'.format(row['ion'],row['wl'])\n",
    "        print('DLA={:s}, trans={:s}'.format(dla,trans))\n",
    "        aline = AbsLine(trans)\n",
    "        # Coord, zem, etc. attrib\n",
    "        aline.attrib['coord'] = ltu.radec_to_coord((row['ra'],row['dec']))\n",
    "        aline.attrib['z'] = row['zab']\n",
    "        aline.attrib['logN'] = row['N']\n",
    "        aline.attrib['sig_logN'] = row['Nerr']\n",
    "        aline.attrib['flag_N'] = row['flg']\n",
    "        # Analysis\n",
    "        aline.analy['vlim'] = [row['vmin'], row['vmax']]*u.km/u.s\n",
    "        aline.analy['do_analysis'] = row['flg_analy']\n",
    "        aline.analy['spec'] = row['filename']\n",
    "        # Checks\n",
    "        np.testing.assert_allclose(aline.wrest.value, row['lambda'], rtol=1e-4)\n",
    "        try:\n",
    "            np.testing.assert_allclose(aline.data['f'], row['f'], rtol=1e-4)\n",
    "        except AssertionError:\n",
    "            print(\"f-values do not closely match for trans={:s}\".format(trans))\n",
    "            print(\"f_lt={:g}, f_Berg={:g}\".format(aline.data['f'], row['f']))\n",
    "        # Add\n",
    "        abslines.append(aline)\n",
    "    # Generate components\n",
    "    comps = ltiu.build_components_from_abslines(abslines, chk_vel=False)\n",
    "    xdb.set_trace()"
   ]
  },
  {
   "cell_type": "code",
   "execution_count": 17,
   "metadata": {
    "collapsed": false
   },
   "outputs": [
    {
     "data": {
      "text/plain": [
       "[<AbsLine: OI 1302, wrest=1302.1685 Angstrom>,\n",
       " <AbsLine: MgI 2852, wrest=2852.9642 Angstrom>,\n",
       " <AbsLine: MgII 2796, wrest=2796.3543 Angstrom>,\n",
       " <AbsLine: MgII 2803, wrest=2803.5315 Angstrom>,\n",
       " <AbsLine: CaII 3934, wrest=3934.7770 Angstrom>]"
      ]
     },
     "execution_count": 17,
     "metadata": {},
     "output_type": "execute_result"
    }
   ],
   "source": [
    "abslines"
   ]
  },
  {
   "cell_type": "code",
   "execution_count": null,
   "metadata": {
    "collapsed": true
   },
   "outputs": [],
   "source": []
  }
 ],
 "metadata": {
  "kernelspec": {
   "display_name": "Python 2",
   "language": "python",
   "name": "python2"
  },
  "language_info": {
   "codemirror_mode": {
    "name": "ipython",
    "version": 2
   },
   "file_extension": ".py",
   "mimetype": "text/x-python",
   "name": "python",
   "nbconvert_exporter": "python",
   "pygments_lexer": "ipython2",
   "version": "2.7.11"
  }
 },
 "nbformat": 4,
 "nbformat_minor": 0
}
