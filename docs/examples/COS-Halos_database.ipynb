{
 "cells": [
  {
   "cell_type": "markdown",
   "metadata": {},
   "source": [
    "# COS-Halos Database (v1.0)\n",
    "\n",
    "This Notebook is intended to record updates to the COS-Halos database.\n",
    "\n",
    "Version History:\n",
    "\n",
    " * v1.0 -- 09 Feb 2016 by JXP"
   ]
  },
  {
   "cell_type": "code",
   "execution_count": 2,
   "metadata": {
    "collapsed": false
   },
   "outputs": [],
   "source": [
    "# imports\n",
    "import pdb\n",
    "from pyigm.cgm.cos_halos import COSHalos\n",
    "from pyigm.cgm import cos_halos as pch"
   ]
  },
  {
   "cell_type": "markdown",
   "metadata": {},
   "source": [
    "## Update the Megastructure\n",
    "\n",
    "J0910+1014_34_46\n",
    "\n",
    "has coverage of 5 SiII transitions yet the \n",
    "megastructure implies only 1:\n",
    "\n",
    "IDL> help, megastruct[ii].ion[14,2], /str\n",
    "\n",
    "    LOGNION         DOUBLE           12.957801\n",
    "    SIGLOGNION      DOUBLE         0.081717335\n",
    "    NFLG            LONG                 1\n",
    "    NTRANS          LONG                 1\n",
    "    BVAL            DOUBLE           0.0000000\n",
    "    SIGBVAL         DOUBLE           0.0000000\n",
    "    TRANS           STRUCT    -> TMPTRANS Array[16]\n"
   ]
  },
  {
   "cell_type": "markdown",
   "metadata": {},
   "source": [
    "## Load FITS files from Megastructure\n",
    "\n",
    "Generated on Dec 7, 2014 by JXP\n",
    "\n",
    "This step will update the f-values (several lines were\n",
    "using the old Morton 1991 reference) and associated column densities.\n",
    "\n",
    "The synthesize_colm() method of AbsComponent is used for final columns.\n",
    "These match the original to within 10% in all cases."
   ]
  },
  {
   "cell_type": "code",
   "execution_count": 7,
   "metadata": {
    "collapsed": false
   },
   "outputs": [
    {
     "name": "stdout",
     "output_type": "stream",
     "text": [
      "cos_halos: Reading /Users/xavier/Dropbox/COS-Halos-Data//Summary/J0226+0015.268_22.fits.gz\n",
      "Skipping 1025.72 as NG for a line; flg=2\n",
      "Skipping 972.537 as NG for a line; flg=2\n",
      "cos_halos: Reading /Users/xavier/Dropbox/COS-Halos-Data//Summary/J0401-0540.67_24.fits.gz\n",
      "Skipping 1025.72 as NG for a line; flg=2\n",
      "cos_halos: Reading /Users/xavier/Dropbox/COS-Halos-Data//Summary/J0803+4332.306_20.fits.gz\n",
      "cos_halos: Reading /Users/xavier/Dropbox/COS-Halos-Data//Summary/J0910+1014.242_34.fits.gz\n",
      "Skipping 949.743 as NG for a line; flg=2\n",
      "Skipping 937.803 as NG for a line; flg=13\n",
      "Skipping 930.748 as NG for a line; flg=13\n",
      "Skipping 926.226 as NG for a line; flg=15\n",
      "Skipping 1304.37 as NG for a line; flg=10\n",
      "cos_halos: Reading /Users/xavier/Dropbox/COS-Halos-Data//Summary/J0910+1014.34_46.fits.gz\n",
      "Skipping 1025.72 as NG for a line; flg=13\n",
      "cos_halos: Reading /Users/xavier/Dropbox/COS-Halos-Data//Summary/J0914+2823.41_27.fits.gz\n",
      "Skipping 1190.42 as NG for a line; flg=2\n",
      "cos_halos: Reading /Users/xavier/Dropbox/COS-Halos-Data//Summary/J0925+4004.196_22.fits.gz\n",
      "Skipping 972.537 as NG for a line; flg=2\n",
      "Skipping 1304.37 as NG for a line; flg=13\n",
      "cos_halos: Reading /Users/xavier/Dropbox/COS-Halos-Data//Summary/J0928+6025.110_35.fits.gz\n",
      "Skipping 1144.94 as NG for a line; flg=10\n",
      "Skipping 2600.17 as NG for a line; flg=0\n",
      "cos_halos: Reading /Users/xavier/Dropbox/COS-Halos-Data//Summary/J0935+0204.15_28.fits.gz\n",
      "cos_halos: Reading /Users/xavier/Dropbox/COS-Halos-Data//Summary/J0943+0531.106_34.fits.gz\n",
      "cos_halos: Reading /Users/xavier/Dropbox/COS-Halos-Data//Summary/J0943+0531.216_61.fits.gz\n",
      "cos_halos: Reading /Users/xavier/Dropbox/COS-Halos-Data//Summary/J0943+0531.227_19.fits.gz\n",
      "Skipping 1200.71 as NG for a line; flg=15\n",
      "Skipping 1259.52 as NG for a line; flg=13\n",
      "cos_halos: Reading /Users/xavier/Dropbox/COS-Halos-Data//Summary/J0950+4831.177_27.fits.gz\n",
      "cos_halos: Reading /Users/xavier/Dropbox/COS-Halos-Data//Summary/J1009+0713.170_9.fits.gz\n",
      "Skipping 949.743 as NG for a line; flg=2\n",
      "cos_halos: Reading /Users/xavier/Dropbox/COS-Halos-Data//Summary/J1009+0713.204_17.fits.gz\n",
      "cos_halos: Reading /Users/xavier/Dropbox/COS-Halos-Data//Summary/J1016+4706.274_6.fits.gz\n",
      "Skipping 972.537 as NG for a line; flg=2\n",
      "Skipping 949.743 as NG for a line; flg=2\n",
      "cos_halos: Reading /Users/xavier/Dropbox/COS-Halos-Data//Summary/J1016+4706.359_16.fits.gz\n",
      "cos_halos: Reading /Users/xavier/Dropbox/COS-Halos-Data//Summary/J1112+3539.236_14.fits.gz\n",
      "Skipping 1215.67 as NG for a line; flg=2\n",
      "Skipping 930.748 as NG for a line; flg=13\n",
      "cos_halos: Reading /Users/xavier/Dropbox/COS-Halos-Data//Summary/J1133+0327.110_5.fits.gz\n",
      "Skipping 920.963 as NG for a line; flg=13\n",
      "cos_halos: Reading /Users/xavier/Dropbox/COS-Halos-Data//Summary/J1133+0327.164_21.fits.gz\n",
      "Skipping 2796.35 as NG for a line; flg=13\n",
      "cos_halos: Reading /Users/xavier/Dropbox/COS-Halos-Data//Summary/J1157-0022.230_7.fits.gz\n",
      "cos_halos: Reading /Users/xavier/Dropbox/COS-Halos-Data//Summary/J1220+3853.225_38.fits.gz\n",
      "Skipping 1025.72 as NG for a line; flg=2\n",
      "cos_halos: Reading /Users/xavier/Dropbox/COS-Halos-Data//Summary/J1233+4758.94_38.fits.gz\n",
      "Skipping 977.02 as NG for a line; flg=13\n",
      "cos_halos: Reading /Users/xavier/Dropbox/COS-Halos-Data//Summary/J1233-0031.168_7.fits.gz\n",
      "Skipping 1260.42 as NG for a line; flg=6\n",
      "cos_halos: Reading /Users/xavier/Dropbox/COS-Halos-Data//Summary/J1241+5721.199_6.fits.gz\n",
      "cos_halos: Reading /Users/xavier/Dropbox/COS-Halos-Data//Summary/J1241+5721.208_27.fits.gz\n",
      "cos_halos: Reading /Users/xavier/Dropbox/COS-Halos-Data//Summary/J1245+3356.236_36.fits.gz\n",
      "cos_halos: Reading /Users/xavier/Dropbox/COS-Halos-Data//Summary/J1322+4645.349_11.fits.gz\n",
      "Skipping 1334.53 as NG for a line; flg=13\n",
      "cos_halos: Reading /Users/xavier/Dropbox/COS-Halos-Data//Summary/J1330+2813.289_28.fits.gz\n",
      "Skipping 1334.53 as NG for a line; flg=13\n",
      "cos_halos: Reading /Users/xavier/Dropbox/COS-Halos-Data//Summary/J1342-0053.157_10.fits.gz\n",
      "New colm for (8,1) and sys J1342-0053_157_10 is 0.224041 different from old"
     ]
    },
    {
     "name": "stderr",
     "output_type": "stream",
     "text": [
      "/Users/xavier/local/Python/linetools/linetools/isgm/abssystem.py:218: UserWarning: Input AbsComponent with does not match AbsSystem rules. Not appending\n",
      "  warnings.warn('Input AbsComponent with does not match AbsSystem rules. Not appending')\n"
     ]
    },
    {
     "name": "stdout",
     "output_type": "stream",
     "text": [
      "\n",
      "> /Users/xavier/local/Python/pyigm/pyigm/cgm/cos_halos.py(203)load_single_fits()\n",
      "-> if comp.flag_N != iont['FLG_CLM'][0]:\n",
      "(Pdb) c\n",
      "cos_halos: Reading /Users/xavier/Dropbox/COS-Halos-Data//Summary/J1342-0053.77_10.fits.gz\n",
      "cos_halos: Reading /Users/xavier/Dropbox/COS-Halos-Data//Summary/J1419+4207.132_30.fits.gz\n",
      "Skipping 1025.72 as NG for a line; flg=2\n",
      "cos_halos: Reading /Users/xavier/Dropbox/COS-Halos-Data//Summary/J1435+3604.126_21.fits.gz\n",
      "Skipping 949.743 as NG for a line; flg=2\n",
      "Skipping 930.748 as NG for a line; flg=2\n",
      "Skipping 926.226 as NG for a line; flg=2\n",
      "cos_halos: Reading /Users/xavier/Dropbox/COS-Halos-Data//Summary/J1435+3604.68_12.fits.gz\n",
      "Skipping 949.743 as NG for a line; flg=13\n",
      "New colm for (8,1) and sys J1435+3604_68_12 is 0.854291 different from old\n",
      "cos_halos: Reading /Users/xavier/Dropbox/COS-Halos-Data//Summary/J1437+5045.317_38.fits.gz\n",
      "Skipping 949.743 as NG for a line; flg=4\n",
      "Skipping 1302.17 as NG for a line; flg=13\n",
      "Skipping 933.378 as NG for a line; flg=13\n",
      "New colm for (16,6) and sys J1437+5045_317_38 is 0.255336 different from old\n",
      "cos_halos: Reading /Users/xavier/Dropbox/COS-Halos-Data//Summary/J1445+3428.232_33.fits.gz\n",
      "Skipping 937.803 as NG for a line; flg=2\n",
      "cos_halos: Reading /Users/xavier/Dropbox/COS-Halos-Data//Summary/J1514+3619.287_14.fits.gz\n",
      "Skipping 1334.53 as NG for a line; flg=13\n",
      "cos_halos: Reading /Users/xavier/Dropbox/COS-Halos-Data//Summary/J1550+4001.197_23.fits.gz\n",
      "Skipping 926.226 as NG for a line; flg=2\n",
      "Skipping 919.351 as NG for a line; flg=2\n",
      "cos_halos: Reading /Users/xavier/Dropbox/COS-Halos-Data//Summary/J1550+4001.97_33.fits.gz\n",
      "Skipping 1025.72 as NG for a line; flg=2\n",
      "cos_halos: Reading /Users/xavier/Dropbox/COS-Halos-Data//Summary/J1555+3628.88_11.fits.gz\n",
      "cos_halos: Reading /Users/xavier/Dropbox/COS-Halos-Data//Summary/J1617+0638.253_39.fits.gz\n",
      "cos_halos: Reading /Users/xavier/Dropbox/COS-Halos-Data//Summary/J1619+3342.113_40.fits.gz\n",
      "cos_halos: Reading /Users/xavier/Dropbox/COS-Halos-Data//Summary/J2257+1340.270_40.fits.gz\n",
      "Skipping 972.537 as NG for a line; flg=2\n",
      "cos_halos: Reading /Users/xavier/Dropbox/COS-Halos-Data//Summary/J2345-0059.356_12.fits.gz\n",
      "Skipping 972.537 as NG for a line; flg=2\n"
     ]
    },
    {
     "name": "stderr",
     "output_type": "stream",
     "text": [
      "/Users/xavier/local/Python/linetools/linetools/analysis/absline.py:125: RuntimeWarning: invalid value encountered in double_scalars\n",
      "  lgvar = ((1.0 / (np.log(10.0)*N))**2)*sig_N**2\n",
      "/Users/xavier/local/Python/pyigm/pyigm/cgm/cos_halos.py:198: RuntimeWarning: invalid value encountered in double_scalars\n",
      "  if np.abs(comp.logN - float(iont['CLM'][0])) > 0.15:\n"
     ]
    }
   ],
   "source": [
    "reload(pch)\n",
    "cos_halos = pch.COSHalos()\n",
    "cos_halos.load_mega()#test=True)"
   ]
  },
  {
   "cell_type": "markdown",
   "metadata": {},
   "source": [
    "## Write to JSON tarball"
   ]
  },
  {
   "cell_type": "markdown",
   "metadata": {},
   "source": [
    "# FIX sig_logN for limits?"
   ]
  },
  {
   "cell_type": "code",
   "execution_count": 8,
   "metadata": {
    "collapsed": true
   },
   "outputs": [],
   "source": [
    "tarfil = cos_halos.cdir+'/cos-halos_systems.v1.0.tar.gz'"
   ]
  },
  {
   "cell_type": "code",
   "execution_count": 9,
   "metadata": {
    "collapsed": false
   },
   "outputs": [
    {
     "name": "stdout",
     "output_type": "stream",
     "text": [
      "Wrote: /Users/xavier/Dropbox/COS-Halos-Data//cos-halos_systems.v1.0.tar.gz\n"
     ]
    },
    {
     "name": "stderr",
     "output_type": "stream",
     "text": [
      "/Users/xavier/local/Python/pyigm/pyigm/cgm/cgmsurvey.py:70: UserWarning: Modify to write directly to tar file\n",
      "  warnings.warn(\"Modify to write directly to tar file\")\n"
     ]
    }
   ],
   "source": [
    "cos_halos.write_survey(tarfil)"
   ]
  },
  {
   "cell_type": "markdown",
   "metadata": {},
   "source": [
    "----"
   ]
  },
  {
   "cell_type": "markdown",
   "metadata": {},
   "source": [
    "## Update $N_{\\rm HI}$ measurements (Prochaska+16)"
   ]
  },
  {
   "cell_type": "markdown",
   "metadata": {},
   "source": [
    "### Load JSON files"
   ]
  },
  {
   "cell_type": "code",
   "execution_count": 11,
   "metadata": {
    "collapsed": false
   },
   "outputs": [
    {
     "name": "stdout",
     "output_type": "stream",
     "text": [
      "Be patient, using /Users/xavier/Dropbox/COS-Halos-Data//cos-halos_systems.v1.0.tar.gz to load COS-Halos\n",
      "Skipping a likely folder: CGM_JSON\n"
     ]
    }
   ],
   "source": [
    "reload(pch)\n",
    "cos_halos = pch.COSHalos()\n",
    "cos_halos.load_sys(tfile=cos_halos.cdir+'/cos-halos_systems.v1.0.tar.gz')"
   ]
  },
  {
   "cell_type": "markdown",
   "metadata": {},
   "source": [
    "### Load NHI measurements"
   ]
  },
  {
   "cell_type": "code",
   "execution_count": 12,
   "metadata": {
    "collapsed": false
   },
   "outputs": [],
   "source": [
    "import json\n",
    "LLS_file = cos_halos.cdir + '/Updates/COS_Halos_LLS.json'\n",
    "with open(LLS_file) as json_file:\n",
    "    fdict = json.load(json_file)\n",
    "#fdict"
   ]
  },
  {
   "cell_type": "markdown",
   "metadata": {},
   "source": [
    "### Loop on systems"
   ]
  },
  {
   "cell_type": "code",
   "execution_count": 13,
   "metadata": {
    "collapsed": false
   },
   "outputs": [],
   "source": [
    "names = cos_halos.name"
   ]
  },
  {
   "cell_type": "code",
   "execution_count": 14,
   "metadata": {
    "collapsed": false
   },
   "outputs": [],
   "source": [
    "for key in fdict.keys():\n",
    "    # Match\n",
    "    mt = np.where(names == key)[0]\n",
    "    if len(mt) != 1:\n",
    "        raise ValueError(\"No match?!\")\n",
    "    # Fill in \n",
    "    if fdict[key]['flag_NHI'] == 1:\n",
    "        cos_halos.cgm_abs[mt[0]].igm_sys.NHI = fdict[key]['fit_NHI'][0]\n",
    "        cos_halos.cgm_abs[mt[0]].igm_sys.sig_NHI = (fdict[key]['fit_NHI'][2]-fdict[key]['fit_NHI'][1])/2.\n",
    "        cos_halos.cgm_abs[mt[0]].igm_sys.flag_NHI = 1\n",
    "    elif fdict[key]['flag_NHI'] == 2:\n",
    "        cos_halos.cgm_abs[mt[0]].igm_sys.NHI = fdict[key]['fit_NHI'][1]\n",
    "        cos_halos.cgm_abs[mt[0]].igm_sys.flag_NHI = 2\n",
    "    elif fdict[key]['flag_NHI'] == 3:\n",
    "        cos_halos.cgm_abs[mt[0]].igm_sys.NHI = fdict[key]['fit_NHI'][2]\n",
    "        cos_halos.cgm_abs[mt[0]].igm_sys.flag_NHI = 3"
   ]
  },
  {
   "cell_type": "markdown",
   "metadata": {},
   "source": [
    "### Write"
   ]
  },
  {
   "cell_type": "code",
   "execution_count": 15,
   "metadata": {
    "collapsed": true
   },
   "outputs": [],
   "source": [
    "tarfil = os.getenv('DROPBOX_DIR')+'COS-Halos-Data/cos-halos_systems.v1.1.tar.gz'"
   ]
  },
  {
   "cell_type": "code",
   "execution_count": 16,
   "metadata": {
    "collapsed": false
   },
   "outputs": [
    {
     "name": "stdout",
     "output_type": "stream",
     "text": [
      "Wrote: /u/xavier/Dropbox/COS-Halos-Data/cos-halos_systems.v1.1.tar.gz\n"
     ]
    }
   ],
   "source": [
    "cos_halos.write_survey(tarfil)"
   ]
  },
  {
   "cell_type": "markdown",
   "metadata": {},
   "source": [
    "----"
   ]
  },
  {
   "cell_type": "markdown",
   "metadata": {
    "collapsed": true
   },
   "source": [
    "## Modify a few column density measurements (Prochaska+16)"
   ]
  },
  {
   "cell_type": "markdown",
   "metadata": {},
   "source": [
    "### Load JSON files"
   ]
  },
  {
   "cell_type": "code",
   "execution_count": null,
   "metadata": {
    "collapsed": false
   },
   "outputs": [],
   "source": [
    "cos_halos = COSHalos()\n",
    "cos_halos.load_sys()"
   ]
  },
  {
   "cell_type": "markdown",
   "metadata": {},
   "source": [
    "### Load bad ions"
   ]
  },
  {
   "cell_type": "code",
   "execution_count": null,
   "metadata": {
    "collapsed": false
   },
   "outputs": [],
   "source": [
    "import yaml\n",
    "filename = cos_halos.cdir + '/Updates/COS_Halos_ions_updates.yaml'\n",
    "with open(filename, 'r') as infile:\n",
    "        up_ion_data = yaml.load(infile)"
   ]
  },
  {
   "cell_type": "code",
   "execution_count": null,
   "metadata": {
    "collapsed": false
   },
   "outputs": [],
   "source": [
    "up_ion_data"
   ]
  },
  {
   "cell_type": "code",
   "execution_count": null,
   "metadata": {
    "collapsed": false
   },
   "outputs": [],
   "source": [
    "names = cos_halos.name"
   ]
  },
  {
   "cell_type": "code",
   "execution_count": null,
   "metadata": {
    "collapsed": false
   },
   "outputs": [],
   "source": [
    "for key in up_ion_data.keys():\n",
    "    # Match\n",
    "    mt = np.where(names == key)[0]\n",
    "    if len(mt) != 1:\n",
    "        raise ValueError(\"No match?!\")\n",
    "    # Fill in \n",
    "    for ionkey in up_ion_data[key].keys():\n",
    "        Zion = tuple([int(ii) for ii in ionkey.split(',')])\n",
    "        #\n",
    "        Zicomp = [comp.Zion for comp in cos_halos.cgm_abs[mt[0]].igm_sys._components]\n",
    "        mtZi = Zicomp.index(Zion)\n",
    "        # Set\n",
    "        for att_key in up_ion_data[key][ionkey].keys():\n",
    "            if att_key == 'flag_N':\n",
    "                cos_halos.cgm_abs[mt[0]].igm_sys._components[mtZi].flag_N = up_ion_data[key][ionkey][att_key]\n",
    "        print(cos_halos.cgm_abs[mt[0]].igm_sys._components[mtZi])"
   ]
  },
  {
   "cell_type": "markdown",
   "metadata": {},
   "source": [
    "### Write"
   ]
  },
  {
   "cell_type": "code",
   "execution_count": null,
   "metadata": {
    "collapsed": true
   },
   "outputs": [],
   "source": [
    "tarfil = cos_halos.cdir+'/cos-halos_systems.v1.2.tar.gz'"
   ]
  },
  {
   "cell_type": "code",
   "execution_count": null,
   "metadata": {
    "collapsed": false
   },
   "outputs": [],
   "source": [
    "cos_halos.write_survey(tarfil)"
   ]
  },
  {
   "cell_type": "code",
   "execution_count": null,
   "metadata": {
    "collapsed": true
   },
   "outputs": [],
   "source": []
  }
 ],
 "metadata": {
  "kernelspec": {
   "display_name": "Python 2",
   "language": "python",
   "name": "python2"
  },
  "language_info": {
   "codemirror_mode": {
    "name": "ipython",
    "version": 2
   },
   "file_extension": ".py",
   "mimetype": "text/x-python",
   "name": "python",
   "nbconvert_exporter": "python",
   "pygments_lexer": "ipython2",
   "version": "2.7.11"
  }
 },
 "nbformat": 4,
 "nbformat_minor": 0
}
