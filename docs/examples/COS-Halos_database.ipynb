{
 "cells": [
  {
   "cell_type": "markdown",
   "metadata": {},
   "source": [
    "# COS-Halos Database (v1.1)\n",
    "\n",
    "This Notebook is intended to record updates to the COS-Halos database.\n",
    "\n",
    "Version History:\n",
    "\n",
    " * v1.0 -- 09 Feb 2016 by JXP\n",
    " * v1.1 -- 13 Apr 2016 by JXP"
   ]
  },
  {
   "cell_type": "markdown",
   "metadata": {},
   "source": [
    "## NOTE:  The actual updating should use the update_cos_halos method in cos_halos.py"
   ]
  },
  {
   "cell_type": "code",
   "execution_count": 1,
   "metadata": {
    "collapsed": false
   },
   "outputs": [],
   "source": [
    "# imports\n",
    "import pdb\n",
    "from pyigm.cgm.cos_halos import COSHalos\n",
    "from pyigm.cgm import cos_halos as pch"
   ]
  },
  {
   "cell_type": "markdown",
   "metadata": {},
   "source": [
    "## Update the Megastructure\n",
    "\n",
    "J0910+1014_34_46\n",
    "\n",
    "has coverage of 5 SiII transitions yet the \n",
    "megastructure implies only 1:\n",
    "\n",
    "IDL> help, megastruct[ii].ion[14,2], /str\n",
    "\n",
    "    LOGNION         DOUBLE           12.957801\n",
    "    SIGLOGNION      DOUBLE         0.081717335\n",
    "    NFLG            LONG                 1\n",
    "    NTRANS          LONG                 1\n",
    "    BVAL            DOUBLE           0.0000000\n",
    "    SIGBVAL         DOUBLE           0.0000000\n",
    "    TRANS           STRUCT    -> TMPTRANS Array[16]\n"
   ]
  },
  {
   "cell_type": "markdown",
   "metadata": {},
   "source": [
    "## Load FITS files from Megastructure\n",
    "\n",
    "Generated on Dec 7, 2014 by JXP\n",
    "\n",
    "This step will update the f-values (several lines were\n",
    "using the old Morton 1991 reference) and associated column densities.\n",
    "\n",
    "The synthesize_colm() method of AbsComponent is used for final columns.\n",
    "These match the original to within 10% in all cases."
   ]
  },
  {
   "cell_type": "code",
   "execution_count": 4,
   "metadata": {
    "collapsed": false
   },
   "outputs": [
    {
     "name": "stdout",
     "output_type": "stream",
     "text": [
      "cos_halos: Reading /Users/xavier/Dropbox/COS-Halos-Data//Summary/J0226+0015.268_22.fits.gz\n",
      "Skipping column contribution from 1025.72 as NG for a line; flg=2\n",
      "Skipping column contribution from 972.537 as NG for a line; flg=2\n",
      "cos_halos: Reading /Users/xavier/Dropbox/COS-Halos-Data//Summary/J0401-0540.67_24.fits.gz\n",
      "Skipping column contribution from 1025.72 as NG for a line; flg=2\n",
      "cos_halos: Reading /Users/xavier/Dropbox/COS-Halos-Data//Summary/J0803+4332.306_20.fits.gz\n",
      "cos_halos: Reading /Users/xavier/Dropbox/COS-Halos-Data//Summary/J0910+1014.242_34.fits.gz\n",
      "Skipping column contribution from 949.743 as NG for a line; flg=2\n",
      "Skipping column contribution from 937.803 as NG for a line; flg=13\n",
      "Skipping column contribution from 930.748 as NG for a line; flg=13\n",
      "Skipping column contribution from 926.226 as NG for a line; flg=15\n",
      "Skipping column contribution from 1304.37 as NG for a line; flg=10\n",
      "cos_halos: Reading /Users/xavier/Dropbox/COS-Halos-Data//Summary/J0910+1014.34_46.fits.gz\n",
      "Skipping column contribution from 1025.72 as NG for a line; flg=13\n",
      "cos_halos: Reading /Users/xavier/Dropbox/COS-Halos-Data//Summary/J0914+2823.41_27.fits.gz\n",
      "Skipping column contribution from 1190.42 as NG for a line; flg=2\n",
      "cos_halos: Reading /Users/xavier/Dropbox/COS-Halos-Data//Summary/J0925+4004.196_22.fits.gz\n",
      "Skipping column contribution from 972.537 as NG for a line; flg=2\n",
      "Skipping column contribution from 1304.37 as NG for a line; flg=13\n",
      "cos_halos: Reading /Users/xavier/Dropbox/COS-Halos-Data//Summary/J0928+6025.110_35.fits.gz\n",
      "Skipping column contribution from 1144.94 as NG for a line; flg=10\n",
      "Skipping column contribution from 2600.17 as NG for a line; flg=0\n",
      "cos_halos: Reading /Users/xavier/Dropbox/COS-Halos-Data//Summary/J0935+0204.15_28.fits.gz\n",
      "cos_halos: Reading /Users/xavier/Dropbox/COS-Halos-Data//Summary/J0943+0531.106_34.fits.gz\n",
      "cos_halos: Reading /Users/xavier/Dropbox/COS-Halos-Data//Summary/J0943+0531.216_61.fits.gz\n",
      "cos_halos: Reading /Users/xavier/Dropbox/COS-Halos-Data//Summary/J0943+0531.227_19.fits.gz\n",
      "Skipping column contribution from 1200.71 as NG for a line; flg=15\n",
      "New colm for (7,1) and sys J0943+0531_227_19 is -14.8826 different from old\n",
      "Skipping column contribution from 1259.52 as NG for a line; flg=13\n",
      "New colm for (16,2) and sys J0943+0531_227_19 is -15.0551 different from old\n",
      "cos_halos: Reading /Users/xavier/Dropbox/COS-Halos-Data//Summary/J0950+4831.177_27.fits.gz\n",
      "cos_halos: Reading /Users/xavier/Dropbox/COS-Halos-Data//Summary/J1009+0713.170_9.fits.gz\n",
      "Skipping column contribution from 949.743 as NG for a line; flg=2\n",
      "cos_halos: Reading /Users/xavier/Dropbox/COS-Halos-Data//Summary/J1009+0713.204_17.fits.gz\n",
      "cos_halos: Reading /Users/xavier/Dropbox/COS-Halos-Data//Summary/J1016+4706.274_6.fits.gz\n",
      "Skipping column contribution from 972.537 as NG for a line; flg=2\n",
      "Skipping column contribution from 949.743 as NG for a line; flg=2\n",
      "cos_halos: Reading /Users/xavier/Dropbox/COS-Halos-Data//Summary/J1016+4706.359_16.fits.gz\n",
      "cos_halos: Reading /Users/xavier/Dropbox/COS-Halos-Data//Summary/J1112+3539.236_14.fits.gz\n",
      "Skipping column contribution from 1215.67 as NG for a line; flg=2\n",
      "Skipping column contribution from 930.748 as NG for a line; flg=13\n",
      "cos_halos: Reading /Users/xavier/Dropbox/COS-Halos-Data//Summary/J1133+0327.110_5.fits.gz\n",
      "Skipping column contribution from 920.963 as NG for a line; flg=13\n",
      "cos_halos: Reading /Users/xavier/Dropbox/COS-Halos-Data//Summary/J1133+0327.164_21.fits.gz\n",
      "Skipping column contribution from 2796.35 as NG for a line; flg=13\n",
      "cos_halos: Reading /Users/xavier/Dropbox/COS-Halos-Data//Summary/J1157-0022.230_7.fits.gz\n",
      "cos_halos: Reading /Users/xavier/Dropbox/COS-Halos-Data//Summary/J1220+3853.225_38.fits.gz\n",
      "Skipping column contribution from 1025.72 as NG for a line; flg=2\n",
      "cos_halos: Reading /Users/xavier/Dropbox/COS-Halos-Data//Summary/J1233+4758.94_38.fits.gz\n",
      "Skipping column contribution from 977.02 as NG for a line; flg=13\n",
      "New colm for (6,3) and sys J1233+4758_94_38 is -14.2306 different from old\n",
      "cos_halos: Reading /Users/xavier/Dropbox/COS-Halos-Data//Summary/J1233-0031.168_7.fits.gz\n",
      "Skipping column contribution from 1260.42 as NG for a line; flg=6\n",
      "cos_halos: Reading /Users/xavier/Dropbox/COS-Halos-Data//Summary/J1241+5721.199_6.fits.gz\n",
      "cos_halos: Reading /Users/xavier/Dropbox/COS-Halos-Data//Summary/J1241+5721.208_27.fits.gz\n",
      "cos_halos: Reading /Users/xavier/Dropbox/COS-Halos-Data//Summary/J1245+3356.236_36.fits.gz\n",
      "cos_halos: Reading /Users/xavier/Dropbox/COS-Halos-Data//Summary/J1322+4645.349_11.fits.gz\n",
      "Skipping column contribution from 1334.53 as NG for a line; flg=13\n",
      "cos_halos: Reading /Users/xavier/Dropbox/COS-Halos-Data//Summary/J1330+2813.289_28.fits.gz\n",
      "Skipping column contribution from 1334.53 as NG for a line; flg=13\n",
      "cos_halos: Reading /Users/xavier/Dropbox/COS-Halos-Data//Summary/J1342-0053.157_10.fits.gz\n",
      "New colm for (8,1) and sys J1342-0053_157_10 is 0.224041 different from old\n",
      "cos_halos: Reading /Users/xavier/Dropbox/COS-Halos-Data//Summary/J1342-0053.77_10.fits.gz\n",
      "cos_halos: Reading /Users/xavier/Dropbox/COS-Halos-Data//Summary/J1419+4207.132_30.fits.gz\n",
      "Skipping column contribution from 1025.72 as NG for a line; flg=2"
     ]
    },
    {
     "name": "stderr",
     "output_type": "stream",
     "text": [
      "/Users/xavier/local/Python/pyigm/pyigm/cgm/cos_halos.py:255: UserWarning: This module will be DEPRECATED\n",
      "  warnings.warn(\"This module will be DEPRECATED\")\n",
      "/Users/xavier/local/Python/linetools/linetools/analysis/absline.py:125: RuntimeWarning: invalid value encountered in double_scalars\n",
      "  lgvar = ((1.0 / (np.log(10.0)*N))**2)*sig_N**2\n"
     ]
    },
    {
     "name": "stdout",
     "output_type": "stream",
     "text": [
      "\n",
      "cos_halos: Reading /Users/xavier/Dropbox/COS-Halos-Data//Summary/J1435+3604.126_21.fits.gz\n",
      "Skipping column contribution from 949.743 as NG for a line; flg=2\n",
      "Skipping column contribution from 930.748 as NG for a line; flg=2\n",
      "Skipping column contribution from 926.226 as NG for a line; flg=2\n",
      "cos_halos: Reading /Users/xavier/Dropbox/COS-Halos-Data//Summary/J1435+3604.68_12.fits.gz\n",
      "Skipping column contribution from 949.743 as NG for a line; flg=13\n",
      "New colm for (8,1) and sys J1435+3604_68_12 is 0.854291 different from old\n",
      "cos_halos: Reading /Users/xavier/Dropbox/COS-Halos-Data//Summary/J1437+5045.317_38.fits.gz\n",
      "Skipping column contribution from 949.743 as NG for a line; flg=4\n",
      "Skipping column contribution from 1302.17 as NG for a line; flg=13\n",
      "New colm for (8,1) and sys J1437+5045_317_38 is -14.6919 different from old\n",
      "Skipping column contribution from 933.378 as NG for a line; flg=13\n",
      "New colm for (16,6) and sys J1437+5045_317_38 is 0.255336 different from old\n",
      "cos_halos: Reading /Users/xavier/Dropbox/COS-Halos-Data//Summary/J1445+3428.232_33.fits.gz\n",
      "Skipping column contribution from 937.803 as NG for a line; flg=2\n",
      "cos_halos: Reading /Users/xavier/Dropbox/COS-Halos-Data//Summary/J1514+3619.287_14.fits.gz\n",
      "Skipping column contribution from 1334.53 as NG for a line; flg=13\n",
      "New colm for (6,2) and sys J1514+3619_287_14 is -14.1747 different from old\n",
      "cos_halos: Reading /Users/xavier/Dropbox/COS-Halos-Data//Summary/J1550+4001.197_23.fits.gz\n",
      "Skipping column contribution from 926.226 as NG for a line; flg=2\n",
      "Skipping column contribution from 919.351 as NG for a line; flg=2\n",
      "cos_halos: Reading /Users/xavier/Dropbox/COS-Halos-Data//Summary/J1550+4001.97_33.fits.gz\n",
      "Skipping column contribution from 1025.72 as NG for a line; flg=2\n",
      "cos_halos: Reading /Users/xavier/Dropbox/COS-Halos-Data//Summary/J1555+3628.88_11.fits.gz\n",
      "cos_halos: Reading /Users/xavier/Dropbox/COS-Halos-Data//Summary/J1617+0638.253_39.fits.gz\n",
      "cos_halos: Reading /Users/xavier/Dropbox/COS-Halos-Data//Summary/J1619+3342.113_40.fits.gz\n",
      "cos_halos: Reading /Users/xavier/Dropbox/COS-Halos-Data//Summary/J2257+1340.270_40.fits.gz\n",
      "Skipping column contribution from 972.537 as NG for a line; flg=2\n",
      "cos_halos: Reading /Users/xavier/Dropbox/COS-Halos-Data//Summary/J2345-0059.356_12.fits.gz\n",
      "Skipping column contribution from 972.537 as NG for a line; flg=2\n"
     ]
    },
    {
     "name": "stderr",
     "output_type": "stream",
     "text": [
      "/Users/xavier/local/Python/pyigm/pyigm/cgm/cos_halos.py:212: RuntimeWarning: invalid value encountered in double_scalars\n",
      "  if np.abs(comp.logN - float(iont['CLM'][0])) > 0.15:\n"
     ]
    }
   ],
   "source": [
    "reload(pch)\n",
    "cos_halos = pch.COSHalos()\n",
    "cos_halos.load_mega()#test=True)"
   ]
  },
  {
   "cell_type": "markdown",
   "metadata": {},
   "source": [
    "## Write to JSON tarball"
   ]
  },
  {
   "cell_type": "markdown",
   "metadata": {},
   "source": [
    "# FIX sig_logN for limits?"
   ]
  },
  {
   "cell_type": "code",
   "execution_count": 5,
   "metadata": {
    "collapsed": true
   },
   "outputs": [],
   "source": [
    "tarfil = cos_halos.cdir+'/cos-halos_systems.v1.0.tar.gz'"
   ]
  },
  {
   "cell_type": "code",
   "execution_count": 6,
   "metadata": {
    "collapsed": false
   },
   "outputs": [
    {
     "name": "stdout",
     "output_type": "stream",
     "text": [
      "Wrote: /Users/xavier/Dropbox/COS-Halos-Data//cos-halos_systems.v1.0.tar.gz\n"
     ]
    },
    {
     "name": "stderr",
     "output_type": "stream",
     "text": [
      "/Users/xavier/local/Python/pyigm/pyigm/cgm/cgmsurvey.py:70: UserWarning: Modify to write directly to tar file\n",
      "  warnings.warn(\"Modify to write directly to tar file\")\n"
     ]
    }
   ],
   "source": [
    "cos_halos.write_survey(tarfil)"
   ]
  },
  {
   "cell_type": "markdown",
   "metadata": {},
   "source": [
    "----"
   ]
  },
  {
   "cell_type": "markdown",
   "metadata": {},
   "source": [
    "# Generating v1.1"
   ]
  },
  {
   "cell_type": "markdown",
   "metadata": {},
   "source": [
    "## Update $N_{\\rm HI}$ measurements (Prochaska+16)"
   ]
  },
  {
   "cell_type": "markdown",
   "metadata": {},
   "source": [
    "### Load JSON files"
   ]
  },
  {
   "cell_type": "code",
   "execution_count": 7,
   "metadata": {
    "collapsed": true
   },
   "outputs": [],
   "source": [
    "from pyigm.cgm import cos_halos as pch\n",
    "import pdb"
   ]
  },
  {
   "cell_type": "code",
   "execution_count": 8,
   "metadata": {
    "collapsed": false
   },
   "outputs": [
    {
     "name": "stdout",
     "output_type": "stream",
     "text": [
      "Be patient, using /Users/xavier/Dropbox/COS-Halos-Data//cos-halos_systems.v1.0.tar.gz to load COS-Halos\n",
      "Skipping a likely folder: CGM_JSON\n"
     ]
    }
   ],
   "source": [
    "reload(pch)\n",
    "cos_halos_v10 = pch.COSHalos()\n",
    "cos_halos_v10.load_sys(tfile=cos_halos_v10.cdir+'/cos-halos_systems.v1.0.tar.gz')"
   ]
  },
  {
   "cell_type": "markdown",
   "metadata": {},
   "source": [
    "### Load NHI measurements"
   ]
  },
  {
   "cell_type": "code",
   "execution_count": 9,
   "metadata": {
    "collapsed": false
   },
   "outputs": [],
   "source": [
    "import json\n",
    "LLS_file = cos_halos_v10.cdir + '/Updates/COS_Halos_LLS.json'  # Generated in paper/COS-Halos/Patchup/Analysis\n",
    "with open(LLS_file) as json_file:\n",
    "    fdict = json.load(json_file)\n",
    "#fdict"
   ]
  },
  {
   "cell_type": "markdown",
   "metadata": {},
   "source": [
    "### Loop on systems"
   ]
  },
  {
   "cell_type": "code",
   "execution_count": 10,
   "metadata": {
    "collapsed": false
   },
   "outputs": [],
   "source": [
    "names = cos_halos_v10.name"
   ]
  },
  {
   "cell_type": "code",
   "execution_count": 11,
   "metadata": {
    "collapsed": false
   },
   "outputs": [],
   "source": [
    "for key in fdict.keys():\n",
    "    # Match\n",
    "    mt = np.where(names == key)[0]\n",
    "    if len(mt) != 1:\n",
    "        raise ValueError(\"No match?!\")\n",
    "    # Fill in \n",
    "    if fdict[key]['flag_NHI'] == 1:\n",
    "        cos_halos_v10.cgm_abs[mt[0]].igm_sys.NHI = fdict[key]['fit_NHI'][0]\n",
    "        cos_halos_v10.cgm_abs[mt[0]].igm_sys.sig_NHI = (fdict[key]['fit_NHI'][2]-fdict[key]['fit_NHI'][1])/2.\n",
    "        cos_halos_v10.cgm_abs[mt[0]].igm_sys.flag_NHI = 1\n",
    "    elif fdict[key]['flag_NHI'] == 2:\n",
    "        cos_halos_v10.cgm_abs[mt[0]].igm_sys.NHI = fdict[key]['fit_NHI'][1]\n",
    "        cos_halos_v10.cgm_abs[mt[0]].igm_sys.flag_NHI = 2\n",
    "    elif fdict[key]['flag_NHI'] == 3:\n",
    "        cos_halos_v10.cgm_abs[mt[0]].igm_sys.NHI = fdict[key]['fit_NHI'][2]\n",
    "        cos_halos_v10.cgm_abs[mt[0]].igm_sys.flag_NHI = 3"
   ]
  },
  {
   "cell_type": "markdown",
   "metadata": {
    "collapsed": true
   },
   "source": [
    "## Modify a few column density measurements (Prochaska+16)"
   ]
  },
  {
   "cell_type": "markdown",
   "metadata": {},
   "source": [
    "### Load bad ions"
   ]
  },
  {
   "cell_type": "code",
   "execution_count": 12,
   "metadata": {
    "collapsed": false
   },
   "outputs": [],
   "source": [
    "import yaml\n",
    "filename = cos_halos_v10.cdir + '/Updates/COS_Halos_ions_updates.yaml'\n",
    "with open(filename, 'r') as infile:\n",
    "        up_ion_data = yaml.load(infile)"
   ]
  },
  {
   "cell_type": "code",
   "execution_count": 13,
   "metadata": {
    "collapsed": false
   },
   "outputs": [
    {
     "data": {
      "text/plain": [
       "{'J0910+1014_34_46': {'ion': {'7,2': {'flag_N': 3}}},\n",
       " 'J0928+6025_110_35': {'trans': {'FeIII 1122': {'flag_N': 1}}},\n",
       " 'J0943+0531_227_19': {'ion': {'6,2': {'flag_N': 3}, '7,2': {'flag_N': 3}}},\n",
       " 'J1016+4706_274_6': {'trans': {'FeII 1144': {'flag_N': 3}}},\n",
       " 'J1233+4758_94_38': {'ion': {'6,3': {'flag_N': 0}}},\n",
       " 'J1342-0053_157_10': {'trans': {'OI 971': {'flag_N': 3}}},\n",
       " 'J1435+3604_68_12': {'trans': {'OI 971': {'flag_N': 3}}},\n",
       " 'J1619+3342_113_40': {'ion': {'6,2': {'flag_N': 3}}},\n",
       " 'J2345-0059_356_12': {'trans': {'NII 1083': {'flag_N': 3},\n",
       "   'SiIII 1206': {'flag_N': 0}}}}"
      ]
     },
     "execution_count": 13,
     "metadata": {},
     "output_type": "execute_result"
    }
   ],
   "source": [
    "up_ion_data"
   ]
  },
  {
   "cell_type": "code",
   "execution_count": 14,
   "metadata": {
    "collapsed": false
   },
   "outputs": [
    {
     "name": "stdout",
     "output_type": "stream",
     "text": [
      "<AbsComponent: 12:33:35.1 +47:58:00.5, Name=CIII_z0.22210, Zion=(6,3), Ej=0 1 / cm, z=0.222103, vlim=-84 km / s,80 km / s>\n",
      "<AbsComponent: 09:43:31.6 +05:31:31.5, Name=NII_z0.35295, Zion=(7,2), Ej=0 1 / cm, z=0.352952, vlim=-50 km / s,450 km / s, logN=14.711, sig_N=8.36472e-14, flag_N=3>\n",
      "<AbsComponent: 09:43:31.6 +05:31:31.5, Name=CII_z0.35295, Zion=(6,2), Ej=0 1 / cm, z=0.352952, vlim=-15 km / s,547 km / s, logN=14.4414, sig_N=0.0921919, flag_N=3>\n",
      "<AbsComponent: 16:19:16.5 +33:42:38.4, Name=CII_z0.14137, Zion=(6,2), Ej=0 1 / cm, z=0.141367, vlim=-160 km / s,55 km / s, logN=14.3184, sig_N=0.0391796, flag_N=3>\n",
      "<AbsComponent: 09:10:29.8 +10:14:13.6, Name=NII_z0.14274, Zion=(7,2), Ej=0 1 / cm, z=0.142738, vlim=-212 km / s,40 km / s, logN=14.3247, sig_N=0.135632, flag_N=3>\n"
     ]
    }
   ],
   "source": [
    "for key in up_ion_data.keys():\n",
    "    # Match\n",
    "    mt = np.where(names == key)[0]\n",
    "    if len(mt) != 1:\n",
    "        raise ValueError(\"No match?!\")\n",
    "    igm_sys = cos_halos_v10.cgm_abs[mt[0]].igm_sys\n",
    "    # Fill in \n",
    "    for mod_type in up_ion_data[key].keys():\n",
    "        if mod_type == 'ion':\n",
    "            for ionkey in up_ion_data[key][mod_type].keys():\n",
    "                Zion = tuple([int(ii) for ii in ionkey.split(',')])\n",
    "                #\n",
    "                Zicomp = [comp.Zion for comp in igm_sys._components]\n",
    "                mtZi = Zicomp.index(Zion)\n",
    "                # Set\n",
    "                for att_key in up_ion_data[key][mod_type][ionkey].keys():\n",
    "                    if att_key == 'flag_N':\n",
    "                        #cos_halos_v10.cgm_abs[mt[0]].igm_sys._components[mtZi].flag_N = up_ion_data[key][mod_type][ionkey][att_key]\n",
    "                        igm_sys._components[mtZi].flag_N = up_ion_data[key][mod_type][ionkey][att_key]\n",
    "                    else: \n",
    "                        raise ValueError(\"Bad key for attribute\")\n",
    "                print(cos_halos_v10.cgm_abs[mt[0]].igm_sys._components[mtZi])\n",
    "        elif mod_type == 'trans':\n",
    "            for transkey in up_ion_data[key][mod_type].keys():\n",
    "                # Update AbsLine\n",
    "                lines = igm_sys.list_of_abslines()\n",
    "                trans = [iline.name for iline in lines]\n",
    "                aline = lines[trans.index(transkey)]\n",
    "                comp = igm_sys.get_comp_from_absline(aline)  # Grab it now before it changes\n",
    "                if att_key == 'flag_N':\n",
    "                    aline.attrib['flag_N'] = up_ion_data[key][mod_type][transkey][att_key]\n",
    "                # Remake component\n",
    "                try:\n",
    "                    comp.synthesize_colm(overwrite=True)\n",
    "                except ValueError:\n",
    "                    pdb.set_trace()\n",
    "        else: \n",
    "            raise ValueError(\"Bad mod_type\")"
   ]
  },
  {
   "cell_type": "markdown",
   "metadata": {},
   "source": [
    "### Write"
   ]
  },
  {
   "cell_type": "code",
   "execution_count": 15,
   "metadata": {
    "collapsed": false
   },
   "outputs": [],
   "source": [
    "tarfil = cos_halos_v10.cdir+'/cos-halos_systems.v1.1.tar.gz'"
   ]
  },
  {
   "cell_type": "code",
   "execution_count": 16,
   "metadata": {
    "collapsed": false
   },
   "outputs": [
    {
     "name": "stdout",
     "output_type": "stream",
     "text": [
      "Wrote: /Users/xavier/Dropbox/COS-Halos-Data//cos-halos_systems.v1.1.tar.gz\n"
     ]
    }
   ],
   "source": [
    "cos_halos_v10.write_survey(tarfil)"
   ]
  },
  {
   "cell_type": "markdown",
   "metadata": {},
   "source": [
    "### Tests"
   ]
  },
  {
   "cell_type": "code",
   "execution_count": 15,
   "metadata": {
    "collapsed": false
   },
   "outputs": [],
   "source": [
    "cgm = cos_halos_v10[('J0928+6025','110_35')]"
   ]
  },
  {
   "cell_type": "code",
   "execution_count": 17,
   "metadata": {
    "collapsed": false
   },
   "outputs": [
    {
     "data": {
      "text/plain": [
       "{u'EW': <Quantity 0.63364048743187 Angstrom>,\n",
       " u'N': <Quantity 60611606990686.49 1 / cm2>,\n",
       " u'b': <Quantity 0.0 km / s>,\n",
       " u'coord': <SkyCoord (ICRS): (ra, dec) in deg\n",
       "     (142.15833333, 60.4225)>,\n",
       " u'flag_EW': 2,\n",
       " u'flag_N': 2,\n",
       " u'logN': 13.782555798577503,\n",
       " u'sig_EW': <Quantity 0.05809608690608618 Angstrom>,\n",
       " u'sig_N': <Quantity 5924195705267.877 1 / cm2>,\n",
       " u'sig_b': <Quantity 0.0 km / s>,\n",
       " u'sig_logN': 0.04244806617498398,\n",
       " u'sig_v': <Quantity 0.0 km / s>,\n",
       " u'sig_z': 0.0,\n",
       " u'v': <Quantity 0.0 km / s>,\n",
       " u'z': 0.1540004312992096}"
      ]
     },
     "execution_count": 17,
     "metadata": {},
     "output_type": "execute_result"
    }
   ],
   "source": [
    "cgm.igm_sys.get_absline('SiIII 1206').attrib"
   ]
  },
  {
   "cell_type": "code",
   "execution_count": null,
   "metadata": {
    "collapsed": true
   },
   "outputs": [],
   "source": []
  }
 ],
 "metadata": {
  "kernelspec": {
   "display_name": "Python 2",
   "language": "python",
   "name": "python2"
  },
  "language_info": {
   "codemirror_mode": {
    "name": "ipython",
    "version": 2
   },
   "file_extension": ".py",
   "mimetype": "text/x-python",
   "name": "python",
   "nbconvert_exporter": "python",
   "pygments_lexer": "ipython2",
   "version": "2.7.11"
  }
 },
 "nbformat": 4,
 "nbformat_minor": 0
}
