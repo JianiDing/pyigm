{
 "cells": [
  {
   "cell_type": "markdown",
   "metadata": {},
   "source": [
    "# COS-Halos Database (v1.1)\n",
    "\n",
    "This Notebook is intended to record updates to the COS-Halos database.\n",
    "\n",
    "Version History:\n",
    "\n",
    " * v1.0 -- 09 Feb 2016 by JXP\n",
    " * v1.1 -- 13 Apr 2016 by JXP"
   ]
  },
  {
   "cell_type": "markdown",
   "metadata": {},
   "source": [
    "## NOTE:  The actual updating should use the update_cos_halos method in cos_halos.py"
   ]
  },
  {
   "cell_type": "code",
   "execution_count": 1,
   "metadata": {
    "collapsed": false
   },
   "outputs": [],
   "source": [
    "# imports\n",
    "import pdb\n",
    "from pyigm.cgm.cos_halos import COSHalos\n",
    "from pyigm.cgm import cos_halos as pch"
   ]
  },
  {
   "cell_type": "markdown",
   "metadata": {},
   "source": [
    "## Update the Megastructure\n",
    "\n",
    "J0910+1014_34_46\n",
    "\n",
    "has coverage of 5 SiII transitions yet the \n",
    "megastructure implies only 1:\n",
    "\n",
    "IDL> help, megastruct[ii].ion[14,2], /str\n",
    "\n",
    "    LOGNION         DOUBLE           12.957801\n",
    "    SIGLOGNION      DOUBLE         0.081717335\n",
    "    NFLG            LONG                 1\n",
    "    NTRANS          LONG                 1\n",
    "    BVAL            DOUBLE           0.0000000\n",
    "    SIGBVAL         DOUBLE           0.0000000\n",
    "    TRANS           STRUCT    -> TMPTRANS Array[16]\n"
   ]
  },
  {
   "cell_type": "markdown",
   "metadata": {},
   "source": [
    "## Load FITS files from Megastructure\n",
    "\n",
    "Generated on Dec 7, 2014 by JXP\n",
    "\n",
    "This step will update the f-values (several lines were\n",
    "using the old Morton 1991 reference) and associated column densities.\n",
    "\n",
    "The synthesize_colm() method of AbsComponent is used for final columns.\n",
    "These match the original to within 10% in all cases."
   ]
  },
  {
   "cell_type": "code",
   "execution_count": 7,
   "metadata": {
    "collapsed": false
   },
   "outputs": [
    {
     "name": "stdout",
     "output_type": "stream",
     "text": [
      "cos_halos: Reading /Users/xavier/Dropbox/COS-Halos-Data//Summary/J0226+0015.268_22.fits.gz\n",
      "Skipping 1025.72 as NG for a line; flg=2\n",
      "Skipping 972.537 as NG for a line; flg=2\n",
      "cos_halos: Reading /Users/xavier/Dropbox/COS-Halos-Data//Summary/J0401-0540.67_24.fits.gz\n",
      "Skipping 1025.72 as NG for a line; flg=2\n",
      "cos_halos: Reading /Users/xavier/Dropbox/COS-Halos-Data//Summary/J0803+4332.306_20.fits.gz\n",
      "cos_halos: Reading /Users/xavier/Dropbox/COS-Halos-Data//Summary/J0910+1014.242_34.fits.gz\n",
      "Skipping 949.743 as NG for a line; flg=2\n",
      "Skipping 937.803 as NG for a line; flg=13\n",
      "Skipping 930.748 as NG for a line; flg=13\n",
      "Skipping 926.226 as NG for a line; flg=15\n",
      "Skipping 1304.37 as NG for a line; flg=10\n",
      "cos_halos: Reading /Users/xavier/Dropbox/COS-Halos-Data//Summary/J0910+1014.34_46.fits.gz\n",
      "Skipping 1025.72 as NG for a line; flg=13\n",
      "cos_halos: Reading /Users/xavier/Dropbox/COS-Halos-Data//Summary/J0914+2823.41_27.fits.gz\n",
      "Skipping 1190.42 as NG for a line; flg=2\n",
      "cos_halos: Reading /Users/xavier/Dropbox/COS-Halos-Data//Summary/J0925+4004.196_22.fits.gz\n",
      "Skipping 972.537 as NG for a line; flg=2\n",
      "Skipping 1304.37 as NG for a line; flg=13\n",
      "cos_halos: Reading /Users/xavier/Dropbox/COS-Halos-Data//Summary/J0928+6025.110_35.fits.gz\n",
      "Skipping 1144.94 as NG for a line; flg=10\n",
      "Skipping 2600.17 as NG for a line; flg=0\n",
      "cos_halos: Reading /Users/xavier/Dropbox/COS-Halos-Data//Summary/J0935+0204.15_28.fits.gz\n",
      "cos_halos: Reading /Users/xavier/Dropbox/COS-Halos-Data//Summary/J0943+0531.106_34.fits.gz\n",
      "cos_halos: Reading /Users/xavier/Dropbox/COS-Halos-Data//Summary/J0943+0531.216_61.fits.gz\n",
      "cos_halos: Reading /Users/xavier/Dropbox/COS-Halos-Data//Summary/J0943+0531.227_19.fits.gz\n",
      "Skipping 1200.71 as NG for a line; flg=15\n",
      "Skipping 1259.52 as NG for a line; flg=13\n",
      "cos_halos: Reading /Users/xavier/Dropbox/COS-Halos-Data//Summary/J0950+4831.177_27.fits.gz\n",
      "cos_halos: Reading /Users/xavier/Dropbox/COS-Halos-Data//Summary/J1009+0713.170_9.fits.gz\n",
      "Skipping 949.743 as NG for a line; flg=2\n",
      "cos_halos: Reading /Users/xavier/Dropbox/COS-Halos-Data//Summary/J1009+0713.204_17.fits.gz\n",
      "cos_halos: Reading /Users/xavier/Dropbox/COS-Halos-Data//Summary/J1016+4706.274_6.fits.gz\n",
      "Skipping 972.537 as NG for a line; flg=2\n",
      "Skipping 949.743 as NG for a line; flg=2\n",
      "cos_halos: Reading /Users/xavier/Dropbox/COS-Halos-Data//Summary/J1016+4706.359_16.fits.gz\n",
      "cos_halos: Reading /Users/xavier/Dropbox/COS-Halos-Data//Summary/J1112+3539.236_14.fits.gz\n",
      "Skipping 1215.67 as NG for a line; flg=2\n",
      "Skipping 930.748 as NG for a line; flg=13\n",
      "cos_halos: Reading /Users/xavier/Dropbox/COS-Halos-Data//Summary/J1133+0327.110_5.fits.gz\n",
      "Skipping 920.963 as NG for a line; flg=13\n",
      "cos_halos: Reading /Users/xavier/Dropbox/COS-Halos-Data//Summary/J1133+0327.164_21.fits.gz\n",
      "Skipping 2796.35 as NG for a line; flg=13\n",
      "cos_halos: Reading /Users/xavier/Dropbox/COS-Halos-Data//Summary/J1157-0022.230_7.fits.gz\n",
      "cos_halos: Reading /Users/xavier/Dropbox/COS-Halos-Data//Summary/J1220+3853.225_38.fits.gz\n",
      "Skipping 1025.72 as NG for a line; flg=2\n",
      "cos_halos: Reading /Users/xavier/Dropbox/COS-Halos-Data//Summary/J1233+4758.94_38.fits.gz\n",
      "Skipping 977.02 as NG for a line; flg=13\n",
      "cos_halos: Reading /Users/xavier/Dropbox/COS-Halos-Data//Summary/J1233-0031.168_7.fits.gz\n",
      "Skipping 1260.42 as NG for a line; flg=6\n",
      "cos_halos: Reading /Users/xavier/Dropbox/COS-Halos-Data//Summary/J1241+5721.199_6.fits.gz\n",
      "cos_halos: Reading /Users/xavier/Dropbox/COS-Halos-Data//Summary/J1241+5721.208_27.fits.gz\n",
      "cos_halos: Reading /Users/xavier/Dropbox/COS-Halos-Data//Summary/J1245+3356.236_36.fits.gz\n",
      "cos_halos: Reading /Users/xavier/Dropbox/COS-Halos-Data//Summary/J1322+4645.349_11.fits.gz\n",
      "Skipping 1334.53 as NG for a line; flg=13\n",
      "cos_halos: Reading /Users/xavier/Dropbox/COS-Halos-Data//Summary/J1330+2813.289_28.fits.gz\n",
      "Skipping 1334.53 as NG for a line; flg=13\n",
      "cos_halos: Reading /Users/xavier/Dropbox/COS-Halos-Data//Summary/J1342-0053.157_10.fits.gz\n",
      "New colm for (8,1) and sys J1342-0053_157_10 is 0.224041 different from old"
     ]
    },
    {
     "name": "stderr",
     "output_type": "stream",
     "text": [
      "/Users/xavier/local/Python/linetools/linetools/isgm/abssystem.py:218: UserWarning: Input AbsComponent with does not match AbsSystem rules. Not appending\n",
      "  warnings.warn('Input AbsComponent with does not match AbsSystem rules. Not appending')\n"
     ]
    },
    {
     "name": "stdout",
     "output_type": "stream",
     "text": [
      "\n",
      "> /Users/xavier/local/Python/pyigm/pyigm/cgm/cos_halos.py(203)load_single_fits()\n",
      "-> if comp.flag_N != iont['FLG_CLM'][0]:\n",
      "(Pdb) c\n",
      "cos_halos: Reading /Users/xavier/Dropbox/COS-Halos-Data//Summary/J1342-0053.77_10.fits.gz\n",
      "cos_halos: Reading /Users/xavier/Dropbox/COS-Halos-Data//Summary/J1419+4207.132_30.fits.gz\n",
      "Skipping 1025.72 as NG for a line; flg=2\n",
      "cos_halos: Reading /Users/xavier/Dropbox/COS-Halos-Data//Summary/J1435+3604.126_21.fits.gz\n",
      "Skipping 949.743 as NG for a line; flg=2\n",
      "Skipping 930.748 as NG for a line; flg=2\n",
      "Skipping 926.226 as NG for a line; flg=2\n",
      "cos_halos: Reading /Users/xavier/Dropbox/COS-Halos-Data//Summary/J1435+3604.68_12.fits.gz\n",
      "Skipping 949.743 as NG for a line; flg=13\n",
      "New colm for (8,1) and sys J1435+3604_68_12 is 0.854291 different from old\n",
      "cos_halos: Reading /Users/xavier/Dropbox/COS-Halos-Data//Summary/J1437+5045.317_38.fits.gz\n",
      "Skipping 949.743 as NG for a line; flg=4\n",
      "Skipping 1302.17 as NG for a line; flg=13\n",
      "Skipping 933.378 as NG for a line; flg=13\n",
      "New colm for (16,6) and sys J1437+5045_317_38 is 0.255336 different from old\n",
      "cos_halos: Reading /Users/xavier/Dropbox/COS-Halos-Data//Summary/J1445+3428.232_33.fits.gz\n",
      "Skipping 937.803 as NG for a line; flg=2\n",
      "cos_halos: Reading /Users/xavier/Dropbox/COS-Halos-Data//Summary/J1514+3619.287_14.fits.gz\n",
      "Skipping 1334.53 as NG for a line; flg=13\n",
      "cos_halos: Reading /Users/xavier/Dropbox/COS-Halos-Data//Summary/J1550+4001.197_23.fits.gz\n",
      "Skipping 926.226 as NG for a line; flg=2\n",
      "Skipping 919.351 as NG for a line; flg=2\n",
      "cos_halos: Reading /Users/xavier/Dropbox/COS-Halos-Data//Summary/J1550+4001.97_33.fits.gz\n",
      "Skipping 1025.72 as NG for a line; flg=2\n",
      "cos_halos: Reading /Users/xavier/Dropbox/COS-Halos-Data//Summary/J1555+3628.88_11.fits.gz\n",
      "cos_halos: Reading /Users/xavier/Dropbox/COS-Halos-Data//Summary/J1617+0638.253_39.fits.gz\n",
      "cos_halos: Reading /Users/xavier/Dropbox/COS-Halos-Data//Summary/J1619+3342.113_40.fits.gz\n",
      "cos_halos: Reading /Users/xavier/Dropbox/COS-Halos-Data//Summary/J2257+1340.270_40.fits.gz\n",
      "Skipping 972.537 as NG for a line; flg=2\n",
      "cos_halos: Reading /Users/xavier/Dropbox/COS-Halos-Data//Summary/J2345-0059.356_12.fits.gz\n",
      "Skipping 972.537 as NG for a line; flg=2\n"
     ]
    },
    {
     "name": "stderr",
     "output_type": "stream",
     "text": [
      "/Users/xavier/local/Python/linetools/linetools/analysis/absline.py:125: RuntimeWarning: invalid value encountered in double_scalars\n",
      "  lgvar = ((1.0 / (np.log(10.0)*N))**2)*sig_N**2\n",
      "/Users/xavier/local/Python/pyigm/pyigm/cgm/cos_halos.py:198: RuntimeWarning: invalid value encountered in double_scalars\n",
      "  if np.abs(comp.logN - float(iont['CLM'][0])) > 0.15:\n"
     ]
    }
   ],
   "source": [
    "reload(pch)\n",
    "cos_halos = pch.COSHalos()\n",
    "cos_halos.load_mega()#test=True)"
   ]
  },
  {
   "cell_type": "markdown",
   "metadata": {},
   "source": [
    "## Write to JSON tarball"
   ]
  },
  {
   "cell_type": "markdown",
   "metadata": {},
   "source": [
    "# FIX sig_logN for limits?"
   ]
  },
  {
   "cell_type": "code",
   "execution_count": 8,
   "metadata": {
    "collapsed": true
   },
   "outputs": [],
   "source": [
    "tarfil = cos_halos.cdir+'/cos-halos_systems.v1.0.tar.gz'"
   ]
  },
  {
   "cell_type": "code",
   "execution_count": 9,
   "metadata": {
    "collapsed": false
   },
   "outputs": [
    {
     "name": "stdout",
     "output_type": "stream",
     "text": [
      "Wrote: /Users/xavier/Dropbox/COS-Halos-Data//cos-halos_systems.v1.0.tar.gz\n"
     ]
    },
    {
     "name": "stderr",
     "output_type": "stream",
     "text": [
      "/Users/xavier/local/Python/pyigm/pyigm/cgm/cgmsurvey.py:70: UserWarning: Modify to write directly to tar file\n",
      "  warnings.warn(\"Modify to write directly to tar file\")\n"
     ]
    }
   ],
   "source": [
    "cos_halos.write_survey(tarfil)"
   ]
  },
  {
   "cell_type": "markdown",
   "metadata": {},
   "source": [
    "----"
   ]
  },
  {
   "cell_type": "markdown",
   "metadata": {},
   "source": [
    "# Generating v1.1"
   ]
  },
  {
   "cell_type": "markdown",
   "metadata": {},
   "source": [
    "## Update $N_{\\rm HI}$ measurements (Prochaska+16)"
   ]
  },
  {
   "cell_type": "markdown",
   "metadata": {},
   "source": [
    "### Load JSON files"
   ]
  },
  {
   "cell_type": "code",
   "execution_count": 3,
   "metadata": {
    "collapsed": false
   },
   "outputs": [
    {
     "name": "stdout",
     "output_type": "stream",
     "text": [
      "Be patient, using /Users/xavier/Dropbox/COS-Halos-Data//cos-halos_systems.v1.0.tar.gz to load COS-Halos\n",
      "Skipping a likely folder: CGM_JSON\n"
     ]
    }
   ],
   "source": [
    "reload(pch)\n",
    "cos_halos_v10 = pch.COSHalos()\n",
    "cos_halos_v10.load_sys(tfile=cos_halos_v10.cdir+'/cos-halos_systems.v1.0.tar.gz')"
   ]
  },
  {
   "cell_type": "markdown",
   "metadata": {},
   "source": [
    "### Load NHI measurements"
   ]
  },
  {
   "cell_type": "code",
   "execution_count": 4,
   "metadata": {
    "collapsed": false
   },
   "outputs": [],
   "source": [
    "import json\n",
    "LLS_file = cos_halos_v10.cdir + '/Updates/COS_Halos_LLS.json'  # Generated in paper/COS-Halos/Patchup/Analysis\n",
    "with open(LLS_file) as json_file:\n",
    "    fdict = json.load(json_file)\n",
    "#fdict"
   ]
  },
  {
   "cell_type": "markdown",
   "metadata": {},
   "source": [
    "### Loop on systems"
   ]
  },
  {
   "cell_type": "code",
   "execution_count": 6,
   "metadata": {
    "collapsed": false
   },
   "outputs": [],
   "source": [
    "names = cos_halos_v10.name"
   ]
  },
  {
   "cell_type": "code",
   "execution_count": 7,
   "metadata": {
    "collapsed": false
   },
   "outputs": [],
   "source": [
    "for key in fdict.keys():\n",
    "    # Match\n",
    "    mt = np.where(names == key)[0]\n",
    "    if len(mt) != 1:\n",
    "        raise ValueError(\"No match?!\")\n",
    "    # Fill in \n",
    "    if fdict[key]['flag_NHI'] == 1:\n",
    "        cos_halos_v10.cgm_abs[mt[0]].igm_sys.NHI = fdict[key]['fit_NHI'][0]\n",
    "        cos_halos_v10.cgm_abs[mt[0]].igm_sys.sig_NHI = (fdict[key]['fit_NHI'][2]-fdict[key]['fit_NHI'][1])/2.\n",
    "        cos_halos_v10.cgm_abs[mt[0]].igm_sys.flag_NHI = 1\n",
    "    elif fdict[key]['flag_NHI'] == 2:\n",
    "        cos_halos_v10.cgm_abs[mt[0]].igm_sys.NHI = fdict[key]['fit_NHI'][1]\n",
    "        cos_halos_v10.cgm_abs[mt[0]].igm_sys.flag_NHI = 2\n",
    "    elif fdict[key]['flag_NHI'] == 3:\n",
    "        cos_halos_v10.cgm_abs[mt[0]].igm_sys.NHI = fdict[key]['fit_NHI'][2]\n",
    "        cos_halos_v10.cgm_abs[mt[0]].igm_sys.flag_NHI = 3"
   ]
  },
  {
   "cell_type": "markdown",
   "metadata": {
    "collapsed": true
   },
   "source": [
    "## Modify a few column density measurements (Prochaska+16)"
   ]
  },
  {
   "cell_type": "markdown",
   "metadata": {},
   "source": [
    "### Load bad ions"
   ]
  },
  {
   "cell_type": "code",
   "execution_count": 8,
   "metadata": {
    "collapsed": false
   },
   "outputs": [],
   "source": [
    "import yaml\n",
    "filename = cos_halos_v10.cdir + '/Updates/COS_Halos_ions_updates.yaml'\n",
    "with open(filename, 'r') as infile:\n",
    "        up_ion_data = yaml.load(infile)"
   ]
  },
  {
   "cell_type": "code",
   "execution_count": 9,
   "metadata": {
    "collapsed": false
   },
   "outputs": [
    {
     "data": {
      "text/plain": [
       "{'J0910+1014_34_46': {'ion': {'7,2': {'flag_N': 3}}},\n",
       " 'J0943+0531_227_19': {'ion': {'6,2': {'flag_N': 3}, '7,2': {'flag_N': 3}}},\n",
       " 'J1233+4758_94_38': {'ion': {'6,3': {'flag_N': 0}}},\n",
       " 'J1342-0053_157_10': {'trans': {'OI 971': {'flag_N': 3}}},\n",
       " 'J1435+3604_68_12': {'trans': {'OI 971': {'flag_N': 3}}},\n",
       " 'J1619+3342_113_40': {'ion': {'6,2': {'flag_N': 3}}},\n",
       " 'J2345-0059_356_12': {'ion': {'14,3': {'flag_N': 3}}}}"
      ]
     },
     "execution_count": 9,
     "metadata": {},
     "output_type": "execute_result"
    }
   ],
   "source": [
    "up_ion_data"
   ]
  },
  {
   "cell_type": "code",
   "execution_count": 10,
   "metadata": {
    "collapsed": false
   },
   "outputs": [
    {
     "name": "stdout",
     "output_type": "stream",
     "text": [
      "<AbsComponent: 12:33:35.1 +47:58:00.5, Name=CIII_z0.22210, Zion=(6,3), Ej=0 1 / cm, z=0.222103, vlim=-600 km / s,600 km / s>\n",
      "<AbsComponent: 23:45:00.4 -00:59:36.1, Name=SiIII_z0.25389, Zion=(14,3), Ej=0 1 / cm, z=0.25389, vlim=0 km / s,143 km / s, logN=13.0513, sig_N=0.0579743, flag_N=3>\n",
      "<AbsComponent: 16:19:16.5 +33:42:38.4, Name=CII_z0.14137, Zion=(6,2), Ej=0 1 / cm, z=0.141367, vlim=-160 km / s,55 km / s, logN=14.3184, sig_N=0.0391796, flag_N=3>\n",
      "<AbsComponent: 09:43:31.6 +05:31:31.5, Name=NII_z0.35295, Zion=(7,2), Ej=0 1 / cm, z=0.352952, vlim=-50 km / s,450 km / s, logN=14.711, sig_N=8.36472e-14, flag_N=3>\n",
      "<AbsComponent: 09:43:31.6 +05:31:31.5, Name=CII_z0.35295, Zion=(6,2), Ej=0 1 / cm, z=0.352952, vlim=-15 km / s,547 km / s, logN=14.4414, sig_N=0.0921919, flag_N=3>\n",
      "<AbsComponent: 09:10:29.8 +10:14:13.6, Name=NII_z0.14274, Zion=(7,2), Ej=0 1 / cm, z=0.142738, vlim=-212 km / s,40 km / s, logN=14.3247, sig_N=0.135632, flag_N=3>\n"
     ]
    }
   ],
   "source": [
    "for key in up_ion_data.keys():\n",
    "    # Match\n",
    "    mt = np.where(names == key)[0]\n",
    "    if len(mt) != 1:\n",
    "        raise ValueError(\"No match?!\")\n",
    "    # Fill in \n",
    "    for mod_type in up_ion_data[key].keys():\n",
    "        if mod_type == 'ion':\n",
    "            for ionkey in up_ion_data[key][mod_type].keys():\n",
    "                Zion = tuple([int(ii) for ii in ionkey.split(',')])\n",
    "                #\n",
    "                Zicomp = [comp.Zion for comp in cos_halos_v10.cgm_abs[mt[0]].igm_sys._components]\n",
    "                mtZi = Zicomp.index(Zion)\n",
    "                # Set\n",
    "                for att_key in up_ion_data[key][mod_type][ionkey].keys():\n",
    "                    if att_key == 'flag_N':\n",
    "                        cos_halos_v10.cgm_abs[mt[0]].igm_sys._components[mtZi].flag_N = up_ion_data[key][mod_type][ionkey][att_key]\n",
    "                print(cos_halos_v10.cgm_abs[mt[0]].igm_sys._components[mtZi])\n",
    "                #xdb.set_trace()"
   ]
  },
  {
   "cell_type": "markdown",
   "metadata": {},
   "source": [
    "### Write"
   ]
  },
  {
   "cell_type": "code",
   "execution_count": 12,
   "metadata": {
    "collapsed": false
   },
   "outputs": [],
   "source": [
    "tarfil = cos_halos_v10.cdir+'/cos-halos_systems.v1.1.tar.gz'"
   ]
  },
  {
   "cell_type": "code",
   "execution_count": 13,
   "metadata": {
    "collapsed": false
   },
   "outputs": [
    {
     "name": "stdout",
     "output_type": "stream",
     "text": [
      "Wrote: /Users/xavier/Dropbox/COS-Halos-Data//cos-halos_systems.v1.1.tar.gz\n"
     ]
    },
    {
     "name": "stderr",
     "output_type": "stream",
     "text": [
      "/Users/xavier/local/Python/pyigm/pyigm/cgm/cgmsurvey.py:70: UserWarning: Modify to write directly to tar file\n",
      "  warnings.warn(\"Modify to write directly to tar file\")\n"
     ]
    }
   ],
   "source": [
    "cos_halos_v10.write_survey(tarfil)"
   ]
  },
  {
   "cell_type": "code",
   "execution_count": 14,
   "metadata": {
    "collapsed": false
   },
   "outputs": [
    {
     "data": {
      "text/plain": [
       "<CGM_Survey: COS-Halos nsys=44, ref=Tumlinson+11; Werk+12; Tumlinson+13; Werk+13; Werk+14>\n",
       "<IGMSystem: CGM 02:26:14.5 00:15:29.8, 0.22744, NHI=14.2487, Z/H=-1>\n",
       "<IGMSystem: CGM 04:01:49 -05:40:56.6, 0.219685, NHI=15.4493, Z/H=-0.7>\n",
       "<IGMSystem: CGM 08:03:59.2 43:32:58.4, 0.253473, NHI=14.7821, Z/H=-0.9>\n",
       "<IGMSystem: CGM 09:10:29.8 10:14:13.6, 0.264118, NHI=16.5753, Z/H=-0.6>\n",
       "<IGMSystem: CGM 09:10:29.8 10:14:13.6, 0.142738, NHI=14.7577, Z/H=-0.7>\n",
       "<IGMSystem: CGM 09:14:40.4 28:23:30.6, 0.244314, NHI=15.452, Z/H=-0.4>\n",
       "<IGMSystem: CGM 09:25:54.7 40:04:14.1, 0.247453, NHI=19.55, Z/H=-0.7>\n",
       "<IGMSystem: CGM 09:28:38 60:25:21, 0.154, NHI=19.35, Z/H=-0.4>\n",
       "<IGMSystem: CGM 09:35:18.2 02:04:15.5, 0.26228, NHI=12.6793, Z/H=-2>\n",
       "<IGMSystem: CGM 09:43:31.6 05:31:31.5, 0.228386, NHI=16.2441, Z/H=-0.5>\n",
       "<IGMSystem: CGM 09:43:31.6 05:31:31.5, 0.143112, NHI=14.8833, Z/H=-2>\n",
       "<IGMSystem: CGM 09:43:31.6 05:31:31.5, 0.352952, NHI=16.6466, Z/H=-1.6>\n",
       "<IGMSystem: CGM 09:50:00.7 48:31:29.4, 0.211936, NHI=17.9064, Z/H=-1.1>\n",
       "<IGMSystem: CGM 10:09:02.1 07:13:43.9, 0.355687, NHI=18, Z/H=-0.6>\n",
       "<IGMSystem: CGM 10:09:02.1 07:13:43.9, 0.227841, NHI=15.2464, Z/H=-0.3>\n",
       "<IGMSystem: CGM 10:16:22.6 47:06:43.3, 0.251955, NHI=17.097, Z/H=-0.1>\n",
       "<IGMSystem: CGM 10:16:22.6 47:06:43.3, 0.166137, NHI=15.4404, Z/H=-0.1>\n",
       "<IGMSystem: CGM 11:12:39.1 35:39:28.2, 0.246704, NHI=15.7925, Z/H=-0.3>\n",
       "<IGMSystem: CGM 11:33:27.8 03:27:19.2, 0.236701, NHI=17.689, Z/H=-1>\n",
       "<IGMSystem: CGM 11:33:27.8 03:27:19.2, 0.154488, NHI=15.0913, Z/H=-1>\n",
       "<IGMSystem: CGM 11:57:58.7 -00:22:20.9, 0.163781, NHI=17.0067, Z/H=-1.5>\n",
       "<IGMSystem: CGM 12:20:35.1 38:53:16.4, 0.273713, NHI=15.8817, Z/H=-0.6>\n",
       "<IGMSystem: CGM 12:33:35.1 47:58:00.5, 0.222103, NHI=16.7391, Z/H=-0.4>\n",
       "<IGMSystem: CGM 12:33:04.1 -00:31:34.2, 0.318496, NHI=15.5664, Z/H=-1>\n",
       "<IGMSystem: CGM 12:41:54 57:21:07.4, 0.205262, NHI=17.8261, Z/H=-0.5>\n",
       "<IGMSystem: CGM 12:41:54 57:21:07.4, 0.217803, NHI=15.2875, Z/H=0>\n",
       "<IGMSystem: CGM 12:45:11.3 33:56:10.1, 0.192478, NHI=14.7597, Z/H=-1.1>\n",
       "<IGMSystem: CGM 13:22:22.7 46:45:35.2, 0.214179, NHI=17.1371, Z/H=-0.1>\n",
       "<IGMSystem: CGM 13:30:45.2 28:13:21.5, 0.192365, NHI=17.0268, Z/H=-0.2>\n",
       "<IGMSystem: CGM 13:42:51.6 -00:53:45.3, 0.227017, NHI=18.0368, Z/H=-0.4>\n",
       "<IGMSystem: CGM 13:42:51.6 -00:53:45.3, 0.201268, NHI=12.4331, Z/H=-2>\n",
       "<IGMSystem: CGM 14:19:10.2 42:07:46.9, 0.179248, NHI=16.6254, Z/H=-0.4>\n",
       "<IGMSystem: CGM 14:35:11.5 36:04:37.2, 0.26226, NHI=15.2504, Z/H=-0.4>\n",
       "<IGMSystem: CGM 14:35:11.5 36:04:37.2, 0.202366, NHI=19.8, Z/H=-1.2>\n",
       "<IGMSystem: CGM 14:37:26.1 50:45:55.8, 0.245999, NHI=14.53, Z/H=-1.5>\n",
       "<IGMSystem: CGM 14:45:11.3 34:28:25.5, 0.21764, NHI=15.0732, Z/H=-1.5>\n",
       "<IGMSystem: CGM 15:14:28.6 36:19:58, 0.212227, NHI=14.705, Z/H=-0.5>\n",
       "<IGMSystem: CGM 15:50:48.3 40:01:44.9, 0.312467, NHI=16.502, Z/H=-0.8>\n",
       "<IGMSystem: CGM 15:50:48.3 40:01:44.9, 0.321785, NHI=13.8551, Z/H=-1.5>\n",
       "<IGMSystem: CGM 15:55:04.4 36:28:48, 0.189297, NHI=17.1672, Z/H=-0.8>\n",
       "<IGMSystem: CGM 16:17:11.4 06:38:33.5, 0.152579, NHI=13.1202, Z/H=-1.5>\n",
       "<IGMSystem: CGM 16:19:16.5 33:42:38.4, 0.141367, NHI=14.9584, Z/H=-0.1>\n",
       "<IGMSystem: CGM 22:57:38.2 13:40:45.5, 0.17675, NHI=12.531, Z/H=-1.5>\n",
       "<IGMSystem: CGM 23:45:00.4 -00:59:36.1, 0.25389, NHI=15.995, Z/H=-0.3>"
      ]
     },
     "execution_count": 14,
     "metadata": {},
     "output_type": "execute_result"
    }
   ],
   "source": [
    "cos_halos_v10"
   ]
  },
  {
   "cell_type": "code",
   "execution_count": null,
   "metadata": {
    "collapsed": true
   },
   "outputs": [],
   "source": []
  }
 ],
 "metadata": {
  "kernelspec": {
   "display_name": "Python 2",
   "language": "python",
   "name": "python2"
  },
  "language_info": {
   "codemirror_mode": {
    "name": "ipython",
    "version": 2
   },
   "file_extension": ".py",
   "mimetype": "text/x-python",
   "name": "python",
   "nbconvert_exporter": "python",
   "pygments_lexer": "ipython2",
   "version": "2.7.11"
  }
 },
 "nbformat": 4,
 "nbformat_minor": 0
}
