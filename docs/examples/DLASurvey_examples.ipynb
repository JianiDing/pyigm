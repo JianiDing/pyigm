{
 "cells": [
  {
   "cell_type": "markdown",
   "metadata": {},
   "source": [
    "# Examples for the DLA Survey Class (v1.3)"
   ]
  },
  {
   "cell_type": "code",
   "execution_count": 1,
   "metadata": {
    "collapsed": true
   },
   "outputs": [],
   "source": [
    "%matplotlib inline"
   ]
  },
  {
   "cell_type": "code",
   "execution_count": 2,
   "metadata": {
    "collapsed": false
   },
   "outputs": [
    {
     "data": {
      "text/html": [
       "\n",
       "    <div class=\"bk-root\">\n",
       "        <a href=\"http://bokeh.pydata.org\" target=\"_blank\" class=\"bk-logo bk-logo-small bk-logo-notebook\"></a>\n",
       "        <span id=\"88425e58-d924-4ef1-a6fd-ad8ec408f249\">Loading BokehJS ...</span>\n",
       "    </div>"
      ]
     },
     "metadata": {},
     "output_type": "display_data"
    },
    {
     "data": {
      "application/javascript": [
       "\n",
       "(function(global) {\n",
       "  function now() {\n",
       "    return new Date();\n",
       "  }\n",
       "\n",
       "  var force = true;\n",
       "\n",
       "  if (typeof (window._bokeh_onload_callbacks) === \"undefined\" || force === true) {\n",
       "    window._bokeh_onload_callbacks = [];\n",
       "    window._bokeh_is_loading = undefined;\n",
       "  }\n",
       "\n",
       "\n",
       "  \n",
       "  if (typeof (window._bokeh_timeout) === \"undefined\" || force === true) {\n",
       "    window._bokeh_timeout = Date.now() + 5000;\n",
       "    window._bokeh_failed_load = false;\n",
       "  }\n",
       "\n",
       "  var NB_LOAD_WARNING = {'data': {'text/html':\n",
       "     \"<div style='background-color: #fdd'>\\n\"+\n",
       "     \"<p>\\n\"+\n",
       "     \"BokehJS does not appear to have successfully loaded. If loading BokehJS from CDN, this \\n\"+\n",
       "     \"may be due to a slow or bad network connection. Possible fixes:\\n\"+\n",
       "     \"</p>\\n\"+\n",
       "     \"<ul>\\n\"+\n",
       "     \"<li>re-rerun `output_notebook()` to attempt to load from CDN again, or</li>\\n\"+\n",
       "     \"<li>use INLINE resources instead, as so:</li>\\n\"+\n",
       "     \"</ul>\\n\"+\n",
       "     \"<code>\\n\"+\n",
       "     \"from bokeh.resources import INLINE\\n\"+\n",
       "     \"output_notebook(resources=INLINE)\\n\"+\n",
       "     \"</code>\\n\"+\n",
       "     \"</div>\"}};\n",
       "\n",
       "  function display_loaded() {\n",
       "    if (window.Bokeh !== undefined) {\n",
       "      document.getElementById(\"88425e58-d924-4ef1-a6fd-ad8ec408f249\").textContent = \"BokehJS successfully loaded.\";\n",
       "    } else if (Date.now() < window._bokeh_timeout) {\n",
       "      setTimeout(display_loaded, 100)\n",
       "    }\n",
       "  }\n",
       "\n",
       "  function run_callbacks() {\n",
       "    window._bokeh_onload_callbacks.forEach(function(callback) { callback() });\n",
       "    delete window._bokeh_onload_callbacks\n",
       "    console.info(\"Bokeh: all callbacks have finished\");\n",
       "  }\n",
       "\n",
       "  function load_libs(js_urls, callback) {\n",
       "    window._bokeh_onload_callbacks.push(callback);\n",
       "    if (window._bokeh_is_loading > 0) {\n",
       "      console.log(\"Bokeh: BokehJS is being loaded, scheduling callback at\", now());\n",
       "      return null;\n",
       "    }\n",
       "    if (js_urls == null || js_urls.length === 0) {\n",
       "      run_callbacks();\n",
       "      return null;\n",
       "    }\n",
       "    console.log(\"Bokeh: BokehJS not loaded, scheduling load and callback at\", now());\n",
       "    window._bokeh_is_loading = js_urls.length;\n",
       "    for (var i = 0; i < js_urls.length; i++) {\n",
       "      var url = js_urls[i];\n",
       "      var s = document.createElement('script');\n",
       "      s.src = url;\n",
       "      s.async = false;\n",
       "      s.onreadystatechange = s.onload = function() {\n",
       "        window._bokeh_is_loading--;\n",
       "        if (window._bokeh_is_loading === 0) {\n",
       "          console.log(\"Bokeh: all BokehJS libraries loaded\");\n",
       "          run_callbacks()\n",
       "        }\n",
       "      };\n",
       "      s.onerror = function() {\n",
       "        console.warn(\"failed to load library \" + url);\n",
       "      };\n",
       "      console.log(\"Bokeh: injecting script tag for BokehJS library: \", url);\n",
       "      document.getElementsByTagName(\"head\")[0].appendChild(s);\n",
       "    }\n",
       "  };var element = document.getElementById(\"88425e58-d924-4ef1-a6fd-ad8ec408f249\");\n",
       "  if (element == null) {\n",
       "    console.log(\"Bokeh: ERROR: autoload.js configured with elementid '88425e58-d924-4ef1-a6fd-ad8ec408f249' but no matching script tag was found. \")\n",
       "    return false;\n",
       "  }\n",
       "\n",
       "  var js_urls = [\"https://cdn.pydata.org/bokeh/release/bokeh-0.12.4.min.js\", \"https://cdn.pydata.org/bokeh/release/bokeh-widgets-0.12.4.min.js\"];\n",
       "\n",
       "  var inline_js = [\n",
       "    function(Bokeh) {\n",
       "      Bokeh.set_log_level(\"info\");\n",
       "    },\n",
       "    \n",
       "    function(Bokeh) {\n",
       "      \n",
       "      document.getElementById(\"88425e58-d924-4ef1-a6fd-ad8ec408f249\").textContent = \"BokehJS is loading...\";\n",
       "    },\n",
       "    function(Bokeh) {\n",
       "      console.log(\"Bokeh: injecting CSS: https://cdn.pydata.org/bokeh/release/bokeh-0.12.4.min.css\");\n",
       "      Bokeh.embed.inject_css(\"https://cdn.pydata.org/bokeh/release/bokeh-0.12.4.min.css\");\n",
       "      console.log(\"Bokeh: injecting CSS: https://cdn.pydata.org/bokeh/release/bokeh-widgets-0.12.4.min.css\");\n",
       "      Bokeh.embed.inject_css(\"https://cdn.pydata.org/bokeh/release/bokeh-widgets-0.12.4.min.css\");\n",
       "    }\n",
       "  ];\n",
       "\n",
       "  function run_inline_js() {\n",
       "    \n",
       "    if ((window.Bokeh !== undefined) || (force === true)) {\n",
       "      for (var i = 0; i < inline_js.length; i++) {\n",
       "        inline_js[i](window.Bokeh);\n",
       "      }if (force === true) {\n",
       "        display_loaded();\n",
       "      }} else if (Date.now() < window._bokeh_timeout) {\n",
       "      setTimeout(run_inline_js, 100);\n",
       "    } else if (!window._bokeh_failed_load) {\n",
       "      console.log(\"Bokeh: BokehJS failed to load within specified timeout.\");\n",
       "      window._bokeh_failed_load = true;\n",
       "    } else if (force !== true) {\n",
       "      var cell = $(document.getElementById(\"88425e58-d924-4ef1-a6fd-ad8ec408f249\")).parents('.cell').data().cell;\n",
       "      cell.output_area.append_execute_result(NB_LOAD_WARNING)\n",
       "    }\n",
       "\n",
       "  }\n",
       "\n",
       "  if (window._bokeh_is_loading === 0) {\n",
       "    console.log(\"Bokeh: BokehJS loaded, going straight to plotting\");\n",
       "    run_inline_js();\n",
       "  } else {\n",
       "    load_libs(js_urls, function() {\n",
       "      console.log(\"Bokeh: BokehJS plotting callback run at\", now());\n",
       "      run_inline_js();\n",
       "    });\n",
       "  }\n",
       "}(this));"
      ]
     },
     "metadata": {},
     "output_type": "display_data"
    }
   ],
   "source": [
    "# imports\n",
    "import seaborn as sns; sns.set_style(\"white\")\n",
    "\n",
    "import imp, os\n",
    "\n",
    "from bokeh.io import output_notebook, show, hplot, output_file\n",
    "from bokeh.plotting import figure\n",
    "from bokeh.models import Range1d\n",
    "\n",
    "output_notebook()\n",
    "\n",
    "from pyigm.surveys.dlasurvey import DLASurvey\n",
    "from pyigm.surveys import dlasurvey as dlasrv\n",
    "from pyigm.abssys.igmsys import AbsSubSystem"
   ]
  },
  {
   "cell_type": "markdown",
   "metadata": {},
   "source": [
    "## Instantiate"
   ]
  },
  {
   "cell_type": "code",
   "execution_count": 3,
   "metadata": {
    "collapsed": true
   },
   "outputs": [],
   "source": [
    "dlas = DLASurvey(ref='null')"
   ]
  },
  {
   "cell_type": "markdown",
   "metadata": {},
   "source": [
    "### H100  (Neeleman, M. et al. 2013, ApJ, 769, 54)"
   ]
  },
  {
   "cell_type": "markdown",
   "metadata": {},
   "source": [
    "#### The old way (requires the DLA tree)"
   ]
  },
  {
   "cell_type": "code",
   "execution_count": 4,
   "metadata": {
    "collapsed": false
   },
   "outputs": [
    {
     "name": "stdout",
     "output_type": "stream",
     "text": [
      "Read 100 files from Lists/Neeleman13.lst in the tree /u/xavier/DLA/\n"
     ]
    }
   ],
   "source": [
    "reload(dlasrv)\n",
    "h100 = dlasrv.DLASurvey.neeleman13_tree()"
   ]
  },
  {
   "cell_type": "code",
   "execution_count": 5,
   "metadata": {
    "collapsed": false
   },
   "outputs": [
    {
     "name": "stderr",
     "output_type": "stream",
     "text": [
      "WARNING: UnitsWarning: The unit 'Angstrom' has been deprecated in the FITS standard. Suggested: 10**-1 nm. [astropy.units.format.utils]\n",
      "/Users/xavier/local/Python/linetools/linetools/lists/linelist.py:407: RuntimeWarning: divide by zero encountered in log10\n",
      "  self._data['log(w*f)'] = np.log10(qm_strength)\n"
     ]
    },
    {
     "name": "stdout",
     "output_type": "stream",
     "text": [
      "Loading abundances from Asplund2009\n",
      "Abundances are relative by number on a logarithmic scale with H=12\n"
     ]
    },
    {
     "name": "stderr",
     "output_type": "stream",
     "text": [
      "/Users/xavier/local/Python/linetools/linetools/analysis/linelimits.py:165: UserWarning: Redshift=0.  If this is unexpected, set _z and reset limits\n",
      "  warnings.warn(\"Redshift=0.  If this is unexpected, set _z and reset limits\")\n",
      "/Users/xavier/local/Python/linetools/linetools/abund/ions.py:40: UserWarning: This method will be DEPRECATED.  Use ion_to_name\n",
      "  warnings.warn(\"This method will be DEPRECATED.  Use ion_to_name\")\n"
     ]
    }
   ],
   "source": [
    "h100.fill_ions(use_Nfile=True,verbose=False)"
   ]
  },
  {
   "cell_type": "markdown",
   "metadata": {},
   "source": [
    "#### The new way "
   ]
  },
  {
   "cell_type": "code",
   "execution_count": 20,
   "metadata": {
    "collapsed": false
   },
   "outputs": [
    {
     "name": "stdout",
     "output_type": "stream",
     "text": [
      "H100: Loading summary file /Users/xavier/local/Python/pyigm/pyigm/data/DLA/H100/H100_DLA.fits\n",
      "H100: Loading ions file /Users/xavier/local/Python/pyigm/pyigm/data/DLA/H100/H100_DLA_ions.json\n",
      "H100: Loading systems.  This takes ~120s\n",
      "Loading systems from /Users/xavier/local/Python/pyigm/pyigm/data/DLA/H100/H100_DLA_sys.tar.gz\n",
      "Skipping a likely folder: SYS\n"
     ]
    },
    {
     "data": {
      "text/plain": [
       "<IGMSurvey: nsys=100, type=DLA, ref=Neeleman+13>"
      ]
     },
     "execution_count": 20,
     "metadata": {},
     "output_type": "execute_result"
    }
   ],
   "source": [
    "reload(dlasrv)\n",
    "h100 = dlasrv.DLASurvey.load_H100()\n",
    "h100"
   ]
  },
  {
   "cell_type": "markdown",
   "metadata": {},
   "source": [
    "#### Grab spectra (be patient; may require Internet access)"
   ]
  },
  {
   "cell_type": "code",
   "execution_count": 7,
   "metadata": {
    "collapsed": false
   },
   "outputs": [
    {
     "name": "stdout",
     "output_type": "stream",
     "text": [
      "H100: Loading summary file /Users/xavier/local/Python/pyigm/pyigm/data/DLA/H100/H100_DLA.fits\n",
      "H100: Loading ions file /Users/xavier/local/Python/pyigm/pyigm/data/DLA/H100/H100_DLA_ions.json\n",
      "H100: Loading systems.  This takes ~120s\n",
      "Loading systems from /Users/xavier/local/Python/pyigm/pyigm/data/DLA/H100/H100_DLA_sys.tar.gz\n",
      "Skipping a likely folder: SYS\n",
      "> /Users/xavier/local/Python/pyigm/pyigm/surveys/dlasurvey.py(118)load_H100()\n",
      "-> specfils = glob.glob(spath+'H100_J*.fits')\n",
      "(Pdb) c\n",
      "H100: Downloading a 141Mb file.  Be patient..\n",
      "H100: Unpacking..\n",
      "H100: Removing tar file\n",
      "H100: All done\n"
     ]
    }
   ],
   "source": [
    "h100 = DLASurvey.load_H100(grab_spectra=True)"
   ]
  },
  {
   "cell_type": "markdown",
   "metadata": {},
   "source": [
    "## Simple Attributes"
   ]
  },
  {
   "cell_type": "code",
   "execution_count": 8,
   "metadata": {
    "collapsed": false
   },
   "outputs": [
    {
     "data": {
      "text/plain": [
       "100"
      ]
     },
     "execution_count": 8,
     "metadata": {},
     "output_type": "execute_result"
    }
   ],
   "source": [
    "h100.nsys"
   ]
  },
  {
   "cell_type": "code",
   "execution_count": 9,
   "metadata": {
    "collapsed": false
   },
   "outputs": [
    {
     "data": {
      "text/plain": [
       "array([ 20.7 ,  20.3 ,  21.41,  20.92,  20.3 ,  21.37,  20.5 ,  21.26,\n",
       "        20.38,  20.45])"
      ]
     },
     "execution_count": 9,
     "metadata": {},
     "output_type": "execute_result"
    }
   ],
   "source": [
    "h100.NHI[0:10]"
   ]
  },
  {
   "cell_type": "code",
   "execution_count": 10,
   "metadata": {
    "collapsed": false
   },
   "outputs": [
    {
     "data": {
      "text/plain": [
       "array([u'Q2359-02_z2.095', u'Q2359-02_z2.154', u'Q0000-2619_z3.390',\n",
       "       u'BR0019-15_z3.439', u'J0040-0915_z4.739'], \n",
       "      dtype='<U18')"
      ]
     },
     "execution_count": 10,
     "metadata": {},
     "output_type": "execute_result"
    }
   ],
   "source": [
    "h100.name[0:5]"
   ]
  },
  {
   "cell_type": "markdown",
   "metadata": {},
   "source": [
    "## Column Densities"
   ]
  },
  {
   "cell_type": "code",
   "execution_count": 11,
   "metadata": {
    "collapsed": false
   },
   "outputs": [
    {
     "data": {
      "text/html": [
       "&lt;Table length=5&gt;\n",
       "<table id=\"table4916758992\" class=\"table-striped table-bordered table-condensed\">\n",
       "<thead><tr><th>name</th><th>Z</th><th>ion</th><th>A</th><th>Ej</th><th>z</th><th>vmin</th><th>vmax</th><th>flag_N</th><th>logN</th><th>sig_logN</th></tr></thead>\n",
       "<thead><tr><th></th><th></th><th></th><th></th><th>1 / cm</th><th></th><th>km / s</th><th>km / s</th><th></th><th></th><th></th></tr></thead>\n",
       "<thead><tr><th>unicode32</th><th>int64</th><th>int64</th><th>int64</th><th>float64</th><th>float64</th><th>float64</th><th>float64</th><th>int64</th><th>float64</th><th>float64</th></tr></thead>\n",
       "<tr><td>Q2359-02_z2.095</td><td>14</td><td>2</td><td>0</td><td>0.0</td><td>2.09507</td><td>-170.290583856</td><td>99.7094161443</td><td>1</td><td>15.486</td><td>0.02</td></tr>\n",
       "<tr><td>Q2359-02_z2.154</td><td>14</td><td>2</td><td>0</td><td>0.0</td><td>2.153934</td><td>-170.0</td><td>180.0</td><td>1</td><td>14.277</td><td>0.015</td></tr>\n",
       "<tr><td>Q0000-2619_z3.390</td><td>14</td><td>2</td><td>0</td><td>0.0</td><td>3.3901</td><td>-70.0</td><td>100.0</td><td>1</td><td>15.088</td><td>0.012</td></tr>\n",
       "<tr><td>BR0019-15_z3.439</td><td>14</td><td>2</td><td>0</td><td>0.0</td><td>3.43886</td><td>-170.0</td><td>100.0</td><td>1</td><td>15.419</td><td>0.054</td></tr>\n",
       "<tr><td>J0040-0915_z4.739</td><td>14</td><td>2</td><td>0</td><td>0.0</td><td>4.7394</td><td>-40.0</td><td>70.0</td><td>2</td><td>14.178</td><td>0.727</td></tr>\n",
       "</table>"
      ],
      "text/plain": [
       "<Table length=5>\n",
       "       name         Z    ion    A   ...      vmax     flag_N   logN  sig_logN\n",
       "                                    ...     km / s                           \n",
       "    unicode32     int64 int64 int64 ...    float64    int64  float64 float64 \n",
       "----------------- ----- ----- ----- ... ------------- ------ ------- --------\n",
       "  Q2359-02_z2.095    14     2     0 ... 99.7094161443      1  15.486     0.02\n",
       "  Q2359-02_z2.154    14     2     0 ...         180.0      1  14.277    0.015\n",
       "Q0000-2619_z3.390    14     2     0 ...         100.0      1  15.088    0.012\n",
       " BR0019-15_z3.439    14     2     0 ...         100.0      1  15.419    0.054\n",
       "J0040-0915_z4.739    14     2     0 ...          70.0      2  14.178    0.727"
      ]
     },
     "execution_count": 11,
     "metadata": {},
     "output_type": "execute_result"
    }
   ],
   "source": [
    "SiII_clms = h100.ions((14,2))\n",
    "SiII_clms[0:5]"
   ]
  },
  {
   "cell_type": "code",
   "execution_count": 12,
   "metadata": {
    "collapsed": false
   },
   "outputs": [
    {
     "data": {
      "text/plain": [
       "98"
      ]
     },
     "execution_count": 12,
     "metadata": {},
     "output_type": "execute_result"
    }
   ],
   "source": [
    "gdSiII = SiII_clms['flag_N']>0\n",
    "np.sum(gdSiII)"
   ]
  },
  {
   "cell_type": "code",
   "execution_count": 13,
   "metadata": {
    "collapsed": false
   },
   "outputs": [
    {
     "data": {
      "text/plain": [
       "array([u'BRI0952-01_z4.024', u'Q1055+46_z3.317'], \n",
       "      dtype='<U18')"
      ]
     },
     "execution_count": 13,
     "metadata": {},
     "output_type": "execute_result"
    }
   ],
   "source": [
    "h100.name[~gdSiII]"
   ]
  },
  {
   "cell_type": "markdown",
   "metadata": {},
   "source": [
    "## Simple Plots"
   ]
  },
  {
   "cell_type": "code",
   "execution_count": 14,
   "metadata": {
    "collapsed": false
   },
   "outputs": [
    {
     "name": "stderr",
     "output_type": "stream",
     "text": [
      "/Users/xavier/anaconda/lib/python2.7/site-packages/bokeh/util/deprecation.py:34: BokehDeprecationWarning: bokeh.io.hplot() was deprecated in Bokeh 0.12.0 and will be removed, use bokeh.models.layouts.Row instead.\n",
      "  warn(message)\n"
     ]
    },
    {
     "data": {
      "text/html": [
       "\n",
       "\n",
       "    <div class=\"bk-root\">\n",
       "        <div class=\"bk-plotdiv\" id=\"e59ebe23-31d1-41f4-ae03-a02e1f4361c9\"></div>\n",
       "    </div>\n",
       "<script type=\"text/javascript\">\n",
       "  \n",
       "  (function(global) {\n",
       "    function now() {\n",
       "      return new Date();\n",
       "    }\n",
       "  \n",
       "    var force = false;\n",
       "  \n",
       "    if (typeof (window._bokeh_onload_callbacks) === \"undefined\" || force === true) {\n",
       "      window._bokeh_onload_callbacks = [];\n",
       "      window._bokeh_is_loading = undefined;\n",
       "    }\n",
       "  \n",
       "  \n",
       "    \n",
       "    if (typeof (window._bokeh_timeout) === \"undefined\" || force === true) {\n",
       "      window._bokeh_timeout = Date.now() + 0;\n",
       "      window._bokeh_failed_load = false;\n",
       "    }\n",
       "  \n",
       "    var NB_LOAD_WARNING = {'data': {'text/html':\n",
       "       \"<div style='background-color: #fdd'>\\n\"+\n",
       "       \"<p>\\n\"+\n",
       "       \"BokehJS does not appear to have successfully loaded. If loading BokehJS from CDN, this \\n\"+\n",
       "       \"may be due to a slow or bad network connection. Possible fixes:\\n\"+\n",
       "       \"</p>\\n\"+\n",
       "       \"<ul>\\n\"+\n",
       "       \"<li>re-rerun `output_notebook()` to attempt to load from CDN again, or</li>\\n\"+\n",
       "       \"<li>use INLINE resources instead, as so:</li>\\n\"+\n",
       "       \"</ul>\\n\"+\n",
       "       \"<code>\\n\"+\n",
       "       \"from bokeh.resources import INLINE\\n\"+\n",
       "       \"output_notebook(resources=INLINE)\\n\"+\n",
       "       \"</code>\\n\"+\n",
       "       \"</div>\"}};\n",
       "  \n",
       "    function display_loaded() {\n",
       "      if (window.Bokeh !== undefined) {\n",
       "        document.getElementById(\"e59ebe23-31d1-41f4-ae03-a02e1f4361c9\").textContent = \"BokehJS successfully loaded.\";\n",
       "      } else if (Date.now() < window._bokeh_timeout) {\n",
       "        setTimeout(display_loaded, 100)\n",
       "      }\n",
       "    }\n",
       "  \n",
       "    function run_callbacks() {\n",
       "      window._bokeh_onload_callbacks.forEach(function(callback) { callback() });\n",
       "      delete window._bokeh_onload_callbacks\n",
       "      console.info(\"Bokeh: all callbacks have finished\");\n",
       "    }\n",
       "  \n",
       "    function load_libs(js_urls, callback) {\n",
       "      window._bokeh_onload_callbacks.push(callback);\n",
       "      if (window._bokeh_is_loading > 0) {\n",
       "        console.log(\"Bokeh: BokehJS is being loaded, scheduling callback at\", now());\n",
       "        return null;\n",
       "      }\n",
       "      if (js_urls == null || js_urls.length === 0) {\n",
       "        run_callbacks();\n",
       "        return null;\n",
       "      }\n",
       "      console.log(\"Bokeh: BokehJS not loaded, scheduling load and callback at\", now());\n",
       "      window._bokeh_is_loading = js_urls.length;\n",
       "      for (var i = 0; i < js_urls.length; i++) {\n",
       "        var url = js_urls[i];\n",
       "        var s = document.createElement('script');\n",
       "        s.src = url;\n",
       "        s.async = false;\n",
       "        s.onreadystatechange = s.onload = function() {\n",
       "          window._bokeh_is_loading--;\n",
       "          if (window._bokeh_is_loading === 0) {\n",
       "            console.log(\"Bokeh: all BokehJS libraries loaded\");\n",
       "            run_callbacks()\n",
       "          }\n",
       "        };\n",
       "        s.onerror = function() {\n",
       "          console.warn(\"failed to load library \" + url);\n",
       "        };\n",
       "        console.log(\"Bokeh: injecting script tag for BokehJS library: \", url);\n",
       "        document.getElementsByTagName(\"head\")[0].appendChild(s);\n",
       "      }\n",
       "    };var element = document.getElementById(\"e59ebe23-31d1-41f4-ae03-a02e1f4361c9\");\n",
       "    if (element == null) {\n",
       "      console.log(\"Bokeh: ERROR: autoload.js configured with elementid 'e59ebe23-31d1-41f4-ae03-a02e1f4361c9' but no matching script tag was found. \")\n",
       "      return false;\n",
       "    }\n",
       "  \n",
       "    var js_urls = [];\n",
       "  \n",
       "    var inline_js = [\n",
       "      function(Bokeh) {\n",
       "        (function() {\n",
       "          var fn = function() {\n",
       "            var docs_json = {\"68b075c6-e061-4340-a5e3-2eb149590c92\":{\"roots\":{\"references\":[{\"attributes\":{\"dimension\":1,\"plot\":{\"id\":\"ce95ee0b-e874-4f9a-8603-ed2174523ce1\",\"subtype\":\"Figure\",\"type\":\"Plot\"},\"ticker\":{\"id\":\"db6267a6-e3b3-482f-8aba-ae961cdd49ab\",\"type\":\"BasicTicker\"}},\"id\":\"e348da05-9821-4ea5-8002-a169cde332d9\",\"type\":\"Grid\"},{\"attributes\":{},\"id\":\"69366d89-c6bd-4061-9c41-86d71b2917ce\",\"type\":\"ToolEvents\"},{\"attributes\":{\"bottom\":{\"value\":0},\"fill_alpha\":{\"value\":0.1},\"fill_color\":{\"value\":\"#1f77b4\"},\"left\":{\"field\":\"left\"},\"line_alpha\":{\"value\":0.1},\"line_color\":{\"value\":\"#1f77b4\"},\"right\":{\"field\":\"right\"},\"top\":{\"field\":\"top\"}},\"id\":\"a4572acb-3f6e-4625-b9bf-6d0f192a4206\",\"type\":\"Quad\"},{\"attributes\":{\"plot\":null,\"text\":\"H100 NHI\"},\"id\":\"1659d4c3-7bd7-4a02-8e1d-55b24e814895\",\"type\":\"Title\"},{\"attributes\":{},\"id\":\"90e3551a-ae56-4a95-b4c7-55bcbb49fe9a\",\"type\":\"BasicTickFormatter\"},{\"attributes\":{\"plot\":{\"id\":\"7c197da0-8ca3-4e87-b205-c02b39c3dc27\",\"subtype\":\"Figure\",\"type\":\"Plot\"}},\"id\":\"2d19937a-16e6-45c2-9a02-5bb5b9db6f2e\",\"type\":\"PanTool\"},{\"attributes\":{\"plot\":{\"id\":\"ce95ee0b-e874-4f9a-8603-ed2174523ce1\",\"subtype\":\"Figure\",\"type\":\"Plot\"}},\"id\":\"124bbf47-7d8e-47ea-a610-5a763d9b38e7\",\"type\":\"SaveTool\"},{\"attributes\":{\"bottom_units\":\"screen\",\"fill_alpha\":{\"value\":0.5},\"fill_color\":{\"value\":\"lightgrey\"},\"left_units\":\"screen\",\"level\":\"overlay\",\"line_alpha\":{\"value\":1.0},\"line_color\":{\"value\":\"black\"},\"line_dash\":[4,4],\"line_width\":{\"value\":2},\"plot\":null,\"render_mode\":\"css\",\"right_units\":\"screen\",\"top_units\":\"screen\"},\"id\":\"2d5669f4-3090-46ae-a7f1-46315350ab3a\",\"type\":\"BoxAnnotation\"},{\"attributes\":{\"bottom_units\":\"screen\",\"fill_alpha\":{\"value\":0.5},\"fill_color\":{\"value\":\"lightgrey\"},\"left_units\":\"screen\",\"level\":\"overlay\",\"line_alpha\":{\"value\":1.0},\"line_color\":{\"value\":\"black\"},\"line_dash\":[4,4],\"line_width\":{\"value\":2},\"plot\":null,\"render_mode\":\"css\",\"right_units\":\"screen\",\"top_units\":\"screen\"},\"id\":\"238f9973-c0ed-4cf4-9a29-c669d620f162\",\"type\":\"BoxAnnotation\"},{\"attributes\":{},\"id\":\"98dc81e9-f0ff-473b-97d6-255e581f445d\",\"type\":\"BasicTicker\"},{\"attributes\":{\"plot\":{\"id\":\"7c197da0-8ca3-4e87-b205-c02b39c3dc27\",\"subtype\":\"Figure\",\"type\":\"Plot\"}},\"id\":\"62f9c914-ce67-436a-b733-1dcb4f060e83\",\"type\":\"SaveTool\"},{\"attributes\":{\"active_drag\":\"auto\",\"active_scroll\":\"auto\",\"active_tap\":\"auto\",\"tools\":[{\"id\":\"b2ede1d1-aad3-4bd5-9359-0759c5fe4689\",\"type\":\"PanTool\"},{\"id\":\"ae6c7e9c-b415-45ab-b7e4-9988c9234e29\",\"type\":\"WheelZoomTool\"},{\"id\":\"1c980603-3981-4373-bc88-b4f7aebef553\",\"type\":\"BoxZoomTool\"},{\"id\":\"124bbf47-7d8e-47ea-a610-5a763d9b38e7\",\"type\":\"SaveTool\"},{\"id\":\"afde3b5a-9288-4d80-aec2-f378249232bb\",\"type\":\"ResetTool\"},{\"id\":\"e6e9ae81-e7d9-4bad-94bf-25d72d847598\",\"type\":\"HelpTool\"}]},\"id\":\"582e35be-78be-4035-820b-31a74e3f91bf\",\"type\":\"Toolbar\"},{\"attributes\":{\"below\":[{\"id\":\"a0ad6ff1-6f39-44c3-9747-6a3fd75156cd\",\"type\":\"LinearAxis\"}],\"left\":[{\"id\":\"64eb8031-d46e-420d-8e4e-14a9e118f156\",\"type\":\"LinearAxis\"}],\"plot_height\":400,\"plot_width\":400,\"renderers\":[{\"id\":\"a0ad6ff1-6f39-44c3-9747-6a3fd75156cd\",\"type\":\"LinearAxis\"},{\"id\":\"0ec33e41-77d8-4e7d-9c6b-43dab86c0411\",\"type\":\"Grid\"},{\"id\":\"64eb8031-d46e-420d-8e4e-14a9e118f156\",\"type\":\"LinearAxis\"},{\"id\":\"fa7b75b5-2ddf-47ea-8da2-fe6d5f5a320c\",\"type\":\"Grid\"},{\"id\":\"238f9973-c0ed-4cf4-9a29-c669d620f162\",\"type\":\"BoxAnnotation\"},{\"id\":\"c63c4751-9fa0-4477-8e95-54a91295f6f5\",\"type\":\"GlyphRenderer\"}],\"title\":{\"id\":\"5296cc16-fc3c-42c3-857f-1ee885d4c447\",\"type\":\"Title\"},\"tool_events\":{\"id\":\"69366d89-c6bd-4061-9c41-86d71b2917ce\",\"type\":\"ToolEvents\"},\"toolbar\":{\"id\":\"28e25732-6574-4158-81e4-c406c2b912ac\",\"type\":\"Toolbar\"},\"x_range\":{\"id\":\"9b0ed826-2f3f-497d-8193-7f95d57022ca\",\"type\":\"DataRange1d\"},\"y_range\":{\"id\":\"53026eb5-c8a3-46f8-a9d0-3a84b0828766\",\"type\":\"DataRange1d\"}},\"id\":\"7c197da0-8ca3-4e87-b205-c02b39c3dc27\",\"subtype\":\"Figure\",\"type\":\"Plot\"},{\"attributes\":{\"plot\":{\"id\":\"ce95ee0b-e874-4f9a-8603-ed2174523ce1\",\"subtype\":\"Figure\",\"type\":\"Plot\"}},\"id\":\"afde3b5a-9288-4d80-aec2-f378249232bb\",\"type\":\"ResetTool\"},{\"attributes\":{\"formatter\":{\"id\":\"3340509b-6109-4632-8cab-a9522bea60de\",\"type\":\"BasicTickFormatter\"},\"plot\":{\"id\":\"7c197da0-8ca3-4e87-b205-c02b39c3dc27\",\"subtype\":\"Figure\",\"type\":\"Plot\"},\"ticker\":{\"id\":\"1a3babb5-a002-49bf-b26c-10f213bd7764\",\"type\":\"BasicTicker\"}},\"id\":\"64eb8031-d46e-420d-8e4e-14a9e118f156\",\"type\":\"LinearAxis\"},{\"attributes\":{},\"id\":\"0efeeb54-2de0-49a1-a38d-33d4e799d86e\",\"type\":\"BasicTickFormatter\"},{\"attributes\":{},\"id\":\"db6267a6-e3b3-482f-8aba-ae961cdd49ab\",\"type\":\"BasicTicker\"},{\"attributes\":{\"plot\":{\"id\":\"7c197da0-8ca3-4e87-b205-c02b39c3dc27\",\"subtype\":\"Figure\",\"type\":\"Plot\"}},\"id\":\"ccf0f5d8-2468-4d88-ba1e-c29716f9a116\",\"type\":\"ResetTool\"},{\"attributes\":{\"children\":[{\"id\":\"ce95ee0b-e874-4f9a-8603-ed2174523ce1\",\"subtype\":\"Figure\",\"type\":\"Plot\"},{\"id\":\"7c197da0-8ca3-4e87-b205-c02b39c3dc27\",\"subtype\":\"Figure\",\"type\":\"Plot\"}]},\"id\":\"bfb8d2c4-5f28-4322-96e0-ed1681c61773\",\"type\":\"Row\"},{\"attributes\":{\"overlay\":{\"id\":\"2d5669f4-3090-46ae-a7f1-46315350ab3a\",\"type\":\"BoxAnnotation\"},\"plot\":{\"id\":\"ce95ee0b-e874-4f9a-8603-ed2174523ce1\",\"subtype\":\"Figure\",\"type\":\"Plot\"}},\"id\":\"1c980603-3981-4373-bc88-b4f7aebef553\",\"type\":\"BoxZoomTool\"},{\"attributes\":{\"bottom\":{\"value\":0},\"fill_color\":{\"value\":\"blue\"},\"left\":{\"field\":\"left\"},\"line_color\":{\"value\":\"#1f77b4\"},\"right\":{\"field\":\"right\"},\"top\":{\"field\":\"top\"}},\"id\":\"9b8972cc-8e11-4535-8475-298fe45ea908\",\"type\":\"Quad\"},{\"attributes\":{\"axis_label\":\"z_DLA\",\"formatter\":{\"id\":\"90e3551a-ae56-4a95-b4c7-55bcbb49fe9a\",\"type\":\"BasicTickFormatter\"},\"plot\":{\"id\":\"7c197da0-8ca3-4e87-b205-c02b39c3dc27\",\"subtype\":\"Figure\",\"type\":\"Plot\"},\"ticker\":{\"id\":\"98dc81e9-f0ff-473b-97d6-255e581f445d\",\"type\":\"BasicTicker\"}},\"id\":\"a0ad6ff1-6f39-44c3-9747-6a3fd75156cd\",\"type\":\"LinearAxis\"},{\"attributes\":{\"plot\":null,\"text\":\"H100 z\"},\"id\":\"5296cc16-fc3c-42c3-857f-1ee885d4c447\",\"type\":\"Title\"},{\"attributes\":{\"plot\":{\"id\":\"7c197da0-8ca3-4e87-b205-c02b39c3dc27\",\"subtype\":\"Figure\",\"type\":\"Plot\"},\"ticker\":{\"id\":\"98dc81e9-f0ff-473b-97d6-255e581f445d\",\"type\":\"BasicTicker\"}},\"id\":\"0ec33e41-77d8-4e7d-9c6b-43dab86c0411\",\"type\":\"Grid\"},{\"attributes\":{\"plot\":{\"id\":\"ce95ee0b-e874-4f9a-8603-ed2174523ce1\",\"subtype\":\"Figure\",\"type\":\"Plot\"},\"ticker\":{\"id\":\"b8da03d9-32ee-41f4-ab02-60a5df223420\",\"type\":\"BasicTicker\"}},\"id\":\"937c21fa-4f76-4873-872a-6aebca028766\",\"type\":\"Grid\"},{\"attributes\":{},\"id\":\"3340509b-6109-4632-8cab-a9522bea60de\",\"type\":\"BasicTickFormatter\"},{\"attributes\":{\"overlay\":{\"id\":\"238f9973-c0ed-4cf4-9a29-c669d620f162\",\"type\":\"BoxAnnotation\"},\"plot\":{\"id\":\"7c197da0-8ca3-4e87-b205-c02b39c3dc27\",\"subtype\":\"Figure\",\"type\":\"Plot\"}},\"id\":\"3c4abbcf-b351-4fad-9c88-74ee9f371976\",\"type\":\"BoxZoomTool\"},{\"attributes\":{\"callback\":null},\"id\":\"9b0ed826-2f3f-497d-8193-7f95d57022ca\",\"type\":\"DataRange1d\"},{\"attributes\":{\"data_source\":{\"id\":\"370a03da-72c9-467f-9b0b-890d97b96da3\",\"type\":\"ColumnDataSource\"},\"glyph\":{\"id\":\"77c02362-afe9-4657-bbce-233bc7542ea2\",\"type\":\"Quad\"},\"hover_glyph\":null,\"nonselection_glyph\":{\"id\":\"34b3baa2-5040-497d-b72f-4c52fe548d22\",\"type\":\"Quad\"},\"selection_glyph\":null},\"id\":\"c63c4751-9fa0-4477-8e95-54a91295f6f5\",\"type\":\"GlyphRenderer\"},{\"attributes\":{\"formatter\":{\"id\":\"2fcf0796-069f-433e-a8f5-7557516b1c3b\",\"type\":\"BasicTickFormatter\"},\"plot\":{\"id\":\"ce95ee0b-e874-4f9a-8603-ed2174523ce1\",\"subtype\":\"Figure\",\"type\":\"Plot\"},\"ticker\":{\"id\":\"db6267a6-e3b3-482f-8aba-ae961cdd49ab\",\"type\":\"BasicTicker\"}},\"id\":\"07eed665-02fb-4eac-90e5-a0daba637abf\",\"type\":\"LinearAxis\"},{\"attributes\":{\"bottom\":{\"value\":0},\"fill_alpha\":{\"value\":0.1},\"fill_color\":{\"value\":\"#1f77b4\"},\"left\":{\"field\":\"left\"},\"line_alpha\":{\"value\":0.1},\"line_color\":{\"value\":\"#1f77b4\"},\"right\":{\"field\":\"right\"},\"top\":{\"field\":\"top\"}},\"id\":\"34b3baa2-5040-497d-b72f-4c52fe548d22\",\"type\":\"Quad\"},{\"attributes\":{\"plot\":{\"id\":\"ce95ee0b-e874-4f9a-8603-ed2174523ce1\",\"subtype\":\"Figure\",\"type\":\"Plot\"}},\"id\":\"b2ede1d1-aad3-4bd5-9359-0759c5fe4689\",\"type\":\"PanTool\"},{\"attributes\":{\"bottom\":{\"value\":0},\"fill_color\":{\"value\":\"red\"},\"left\":{\"field\":\"left\"},\"line_color\":{\"value\":\"#1f77b4\"},\"right\":{\"field\":\"right\"},\"top\":{\"field\":\"top\"}},\"id\":\"77c02362-afe9-4657-bbce-233bc7542ea2\",\"type\":\"Quad\"},{\"attributes\":{\"axis_label\":\"N_HI\",\"formatter\":{\"id\":\"0efeeb54-2de0-49a1-a38d-33d4e799d86e\",\"type\":\"BasicTickFormatter\"},\"plot\":{\"id\":\"ce95ee0b-e874-4f9a-8603-ed2174523ce1\",\"subtype\":\"Figure\",\"type\":\"Plot\"},\"ticker\":{\"id\":\"b8da03d9-32ee-41f4-ab02-60a5df223420\",\"type\":\"BasicTicker\"}},\"id\":\"4ed19120-5763-4dea-b92b-d877834698d4\",\"type\":\"LinearAxis\"},{\"attributes\":{},\"id\":\"1a3babb5-a002-49bf-b26c-10f213bd7764\",\"type\":\"BasicTicker\"},{\"attributes\":{\"active_drag\":\"auto\",\"active_scroll\":\"auto\",\"active_tap\":\"auto\",\"tools\":[{\"id\":\"2d19937a-16e6-45c2-9a02-5bb5b9db6f2e\",\"type\":\"PanTool\"},{\"id\":\"b7578519-c3fe-4c2f-9c60-5c6d2e84ad90\",\"type\":\"WheelZoomTool\"},{\"id\":\"3c4abbcf-b351-4fad-9c88-74ee9f371976\",\"type\":\"BoxZoomTool\"},{\"id\":\"62f9c914-ce67-436a-b733-1dcb4f060e83\",\"type\":\"SaveTool\"},{\"id\":\"ccf0f5d8-2468-4d88-ba1e-c29716f9a116\",\"type\":\"ResetTool\"},{\"id\":\"85b87586-2349-4af7-b87f-a052e38985f0\",\"type\":\"HelpTool\"}]},\"id\":\"28e25732-6574-4158-81e4-c406c2b912ac\",\"type\":\"Toolbar\"},{\"attributes\":{\"callback\":null},\"id\":\"2de993af-fc9c-46b9-bdbf-f3320362c065\",\"type\":\"DataRange1d\"},{\"attributes\":{},\"id\":\"b8da03d9-32ee-41f4-ab02-60a5df223420\",\"type\":\"BasicTicker\"},{\"attributes\":{\"callback\":null,\"column_names\":[\"left\",\"top\",\"right\"],\"data\":{\"left\":{\"__ndarray__\":\"MzMzMzMzNEAK16NwPUo0QOF6FK5HYTRAuB6F61F4NECPwvUoXI80QGZmZmZmpjRAPQrXo3C9NEAUrkfhetQ0QOtRuB6F6zRAwvUoXI8CNUCamZmZmRk1QHE9CtejMDVASOF6FK5HNUAfhetRuF41QPYoXI/CdTVAzczMzMyMNUCkcD0K16M1QHsUrkfhujVAUrgehevRNUApXI/C9eg1QA==\",\"dtype\":\"float64\",\"shape\":[20]},\"right\":{\"__ndarray__\":\"CtejcD1KNEDhehSuR2E0QLgehetReDRAj8L1KFyPNEBmZmZmZqY0QD0K16NwvTRAFK5H4XrUNEDrUbgehes0QML1KFyPAjVAmpmZmZkZNUBxPQrXozA1QEjhehSuRzVAH4XrUbheNUD2KFyPwnU1QM3MzMzMjDVApHA9CtejNUB7FK5H4bo1QFK4HoXr0TVAKVyPwvXoNUAAAAAAAAA2QA==\",\"dtype\":\"float64\",\"shape\":[20]},\"top\":{\"__ndarray__\":\"AAAAAAAAAAB6HMdxHMcBQCnHcRzHcew/t6qqqqqq+j8HAAAAAADwPynHcRzHcew/ehzHcRzH4T8px3Ecx3HcP3ocx3Ecx/E/7cVxHMdxvD8px3Ecx3HcP19VVVVVVdU/ehzHcRzH4T9fVVVVVVXVPynHcRzHccw/AAAAAAAAAAApx3Ecx3HMPynHcRzHcbw/AAAAAAAAAAAAAAAAAAAAAA==\",\"dtype\":\"float64\",\"shape\":[20]}}},\"id\":\"cd2d560c-2055-4c3a-9df2-e1d874c4b58b\",\"type\":\"ColumnDataSource\"},{\"attributes\":{\"callback\":null},\"id\":\"53026eb5-c8a3-46f8-a9d0-3a84b0828766\",\"type\":\"DataRange1d\"},{\"attributes\":{},\"id\":\"2fcf0796-069f-433e-a8f5-7557516b1c3b\",\"type\":\"BasicTickFormatter\"},{\"attributes\":{},\"id\":\"9e5bb33a-a9aa-426e-98ac-7b260b2def07\",\"type\":\"ToolEvents\"},{\"attributes\":{\"dimension\":1,\"plot\":{\"id\":\"7c197da0-8ca3-4e87-b205-c02b39c3dc27\",\"subtype\":\"Figure\",\"type\":\"Plot\"},\"ticker\":{\"id\":\"1a3babb5-a002-49bf-b26c-10f213bd7764\",\"type\":\"BasicTicker\"}},\"id\":\"fa7b75b5-2ddf-47ea-8da2-fe6d5f5a320c\",\"type\":\"Grid\"},{\"attributes\":{\"data_source\":{\"id\":\"cd2d560c-2055-4c3a-9df2-e1d874c4b58b\",\"type\":\"ColumnDataSource\"},\"glyph\":{\"id\":\"9b8972cc-8e11-4535-8475-298fe45ea908\",\"type\":\"Quad\"},\"hover_glyph\":null,\"nonselection_glyph\":{\"id\":\"a4572acb-3f6e-4625-b9bf-6d0f192a4206\",\"type\":\"Quad\"},\"selection_glyph\":null},\"id\":\"ae93c9a9-d1fa-48c7-86dc-a26d722e6cd1\",\"type\":\"GlyphRenderer\"},{\"attributes\":{\"plot\":{\"id\":\"ce95ee0b-e874-4f9a-8603-ed2174523ce1\",\"subtype\":\"Figure\",\"type\":\"Plot\"}},\"id\":\"ae6c7e9c-b415-45ab-b7e4-9988c9234e29\",\"type\":\"WheelZoomTool\"},{\"attributes\":{\"plot\":{\"id\":\"7c197da0-8ca3-4e87-b205-c02b39c3dc27\",\"subtype\":\"Figure\",\"type\":\"Plot\"}},\"id\":\"b7578519-c3fe-4c2f-9c60-5c6d2e84ad90\",\"type\":\"WheelZoomTool\"},{\"attributes\":{\"plot\":{\"id\":\"ce95ee0b-e874-4f9a-8603-ed2174523ce1\",\"subtype\":\"Figure\",\"type\":\"Plot\"}},\"id\":\"e6e9ae81-e7d9-4bad-94bf-25d72d847598\",\"type\":\"HelpTool\"},{\"attributes\":{\"callback\":null,\"column_names\":[\"left\",\"top\",\"right\"],\"data\":{\"left\":{\"__ndarray__\":\"mpmZmZmZ+T9SuB6F61H8PwrXo3A9Cv8/4noUrkfhAEA+CtejcD0CQJqZmZmZmQNA9ihcj8L1BEBSuB6F61EGQK5H4XoUrgdACtejcD0KCUBmZmZmZmYKQML1KFyPwgtAH4XrUbgeDUB7FK5H4XoOQNejcD0K1w9AmpmZmZmZEEBI4XoUrkcRQPYoXI/C9RFApHA9CtejEkBSuB6F61ETQA==\",\"dtype\":\"float64\",\"shape\":[20]},\"right\":{\"__ndarray__\":\"UrgehetR/D8K16NwPQr/P+J6FK5H4QBAPgrXo3A9AkCamZmZmZkDQPYoXI/C9QRAUrgehetRBkCuR+F6FK4HQArXo3A9CglAZmZmZmZmCkDC9Shcj8ILQB+F61G4Hg1AexSuR+F6DkDXo3A9CtcPQJqZmZmZmRBASOF6FK5HEUD2KFyPwvURQKRwPQrXoxJAUrgehetRE0AAAAAAAAAUQA==\",\"dtype\":\"float64\",\"shape\":[20]},\"top\":{\"__ndarray__\":\"xXM9ZP9rrj9baKaefwPTP01opp5/A+M/xXM9ZP9rzj/Fcz1k/2veP8VzPWT/a94/1BYui//Q1j9baKaefwPjP0zFtXd/nto/H5FiqL8c4T/Fcz1k/2vOP69zPWT/a64/xXM9ZP9rzj/UFi6L/9DGP01opp5/A9M/W2imnn8D0z/UFi6L/9DWPwAAAAAAAAAA1BYui//Qxj8AAAAAAAAAAA==\",\"dtype\":\"float64\",\"shape\":[20]}}},\"id\":\"370a03da-72c9-467f-9b0b-890d97b96da3\",\"type\":\"ColumnDataSource\"},{\"attributes\":{\"plot\":{\"id\":\"7c197da0-8ca3-4e87-b205-c02b39c3dc27\",\"subtype\":\"Figure\",\"type\":\"Plot\"}},\"id\":\"85b87586-2349-4af7-b87f-a052e38985f0\",\"type\":\"HelpTool\"},{\"attributes\":{\"below\":[{\"id\":\"4ed19120-5763-4dea-b92b-d877834698d4\",\"type\":\"LinearAxis\"}],\"left\":[{\"id\":\"07eed665-02fb-4eac-90e5-a0daba637abf\",\"type\":\"LinearAxis\"}],\"plot_height\":400,\"plot_width\":400,\"renderers\":[{\"id\":\"4ed19120-5763-4dea-b92b-d877834698d4\",\"type\":\"LinearAxis\"},{\"id\":\"937c21fa-4f76-4873-872a-6aebca028766\",\"type\":\"Grid\"},{\"id\":\"07eed665-02fb-4eac-90e5-a0daba637abf\",\"type\":\"LinearAxis\"},{\"id\":\"e348da05-9821-4ea5-8002-a169cde332d9\",\"type\":\"Grid\"},{\"id\":\"2d5669f4-3090-46ae-a7f1-46315350ab3a\",\"type\":\"BoxAnnotation\"},{\"id\":\"ae93c9a9-d1fa-48c7-86dc-a26d722e6cd1\",\"type\":\"GlyphRenderer\"}],\"title\":{\"id\":\"1659d4c3-7bd7-4a02-8e1d-55b24e814895\",\"type\":\"Title\"},\"tool_events\":{\"id\":\"9e5bb33a-a9aa-426e-98ac-7b260b2def07\",\"type\":\"ToolEvents\"},\"toolbar\":{\"id\":\"582e35be-78be-4035-820b-31a74e3f91bf\",\"type\":\"Toolbar\"},\"x_range\":{\"id\":\"2de993af-fc9c-46b9-bdbf-f3320362c065\",\"type\":\"DataRange1d\"},\"y_range\":{\"id\":\"53d330a2-e101-49dc-8289-389463fb1e82\",\"type\":\"DataRange1d\"}},\"id\":\"ce95ee0b-e874-4f9a-8603-ed2174523ce1\",\"subtype\":\"Figure\",\"type\":\"Plot\"},{\"attributes\":{\"callback\":null},\"id\":\"53d330a2-e101-49dc-8289-389463fb1e82\",\"type\":\"DataRange1d\"}],\"root_ids\":[\"bfb8d2c4-5f28-4322-96e0-ed1681c61773\"]},\"title\":\"Bokeh Application\",\"version\":\"0.12.4\"}};\n",
       "            var render_items = [{\"docid\":\"68b075c6-e061-4340-a5e3-2eb149590c92\",\"elementid\":\"e59ebe23-31d1-41f4-ae03-a02e1f4361c9\",\"modelid\":\"bfb8d2c4-5f28-4322-96e0-ed1681c61773\"}];\n",
       "            \n",
       "            Bokeh.embed.embed_items(docs_json, render_items);\n",
       "          };\n",
       "          if (document.readyState != \"loading\") fn();\n",
       "          else document.addEventListener(\"DOMContentLoaded\", fn);\n",
       "        })();\n",
       "      },\n",
       "      function(Bokeh) {\n",
       "      }\n",
       "    ];\n",
       "  \n",
       "    function run_inline_js() {\n",
       "      \n",
       "      if ((window.Bokeh !== undefined) || (force === true)) {\n",
       "        for (var i = 0; i < inline_js.length; i++) {\n",
       "          inline_js[i](window.Bokeh);\n",
       "        }if (force === true) {\n",
       "          display_loaded();\n",
       "        }} else if (Date.now() < window._bokeh_timeout) {\n",
       "        setTimeout(run_inline_js, 100);\n",
       "      } else if (!window._bokeh_failed_load) {\n",
       "        console.log(\"Bokeh: BokehJS failed to load within specified timeout.\");\n",
       "        window._bokeh_failed_load = true;\n",
       "      } else if (force !== true) {\n",
       "        var cell = $(document.getElementById(\"e59ebe23-31d1-41f4-ae03-a02e1f4361c9\")).parents('.cell').data().cell;\n",
       "        cell.output_area.append_execute_result(NB_LOAD_WARNING)\n",
       "      }\n",
       "  \n",
       "    }\n",
       "  \n",
       "    if (window._bokeh_is_loading === 0) {\n",
       "      console.log(\"Bokeh: BokehJS loaded, going straight to plotting\");\n",
       "      run_inline_js();\n",
       "    } else {\n",
       "      load_libs(js_urls, function() {\n",
       "        console.log(\"Bokeh: BokehJS plotting callback run at\", now());\n",
       "        run_inline_js();\n",
       "      });\n",
       "    }\n",
       "  }(this));\n",
       "</script>"
      ]
     },
     "metadata": {},
     "output_type": "display_data"
    }
   ],
   "source": [
    "# NHI\n",
    "p_NHI = figure(plot_width=400, plot_height=400, title='H100 NHI')#,background_fill=\"#E8DDCB\")\n",
    "hist, edges = np.histogram(h100.NHI, range=(20.2, 22), density=True, bins=20)\n",
    "p_NHI.quad(top=hist, bottom=0, left=edges[:-1], right=edges[1:],fill_color='blue')\n",
    "p_NHI.xaxis.axis_label = 'N_HI'\n",
    "# z\n",
    "p_z = figure(plot_width=400, plot_height=400, title='H100 z')#,background_fill=\"#E8DDCB\")\n",
    "hist, edges = np.histogram(h100.zabs, range=(1.6, 5.0), density=True, bins=20)\n",
    "p_z.quad(top=hist, bottom=0, left=edges[:-1], right=edges[1:],fill_color='red')\n",
    "p_z.xaxis.axis_label = 'z_DLA'\n",
    "# Show\n",
    "show(hplot(p_NHI,p_z))"
   ]
  },
  {
   "cell_type": "markdown",
   "metadata": {},
   "source": [
    "----"
   ]
  },
  {
   "cell_type": "markdown",
   "metadata": {},
   "source": [
    "## SDSS DLAs (DR5) -- Prochaska & Wolfe 2009, ApJ, 696, 1543"
   ]
  },
  {
   "cell_type": "markdown",
   "metadata": {},
   "source": [
    "### Load"
   ]
  },
  {
   "cell_type": "code",
   "execution_count": 15,
   "metadata": {
    "collapsed": false
   },
   "outputs": [
    {
     "name": "stdout",
     "output_type": "stream",
     "text": [
      "SDSS-DR5: Loading DLA file /Users/xavier/local/Python/pyigm/pyigm/data/DLA/SDSS_DR5/dr5_alldla.fits.gz\n",
      "SDSS-DR5: Loading QSOs file /Users/xavier/local/Python/pyigm/pyigm/data/DLA/SDSS_DR5/dr5_dlagz_s2n4.fits\n"
     ]
    },
    {
     "data": {
      "text/plain": [
       "<IGMSurvey: nsys=1182, type=DLA, ref=SDSS-DR5 (PW09), nsightlines=7482>"
      ]
     },
     "execution_count": 15,
     "metadata": {},
     "output_type": "execute_result"
    }
   ],
   "source": [
    "sdss = DLASurvey.load_SDSS_DR5(sample='all')\n",
    "sdss"
   ]
  },
  {
   "cell_type": "code",
   "execution_count": 39,
   "metadata": {
    "collapsed": false
   },
   "outputs": [
    {
     "name": "stdout",
     "output_type": "stream",
     "text": [
      "SDSS-DR5: Loading DLA file /Users/xavier/local/Python/pyigm/pyigm/data/DLA/SDSS_DR5/dr5_alldla.fits.gz\n",
      "SDSS-DR5: Loading QSOs file /Users/xavier/local/Python/pyigm/pyigm/data/DLA/SDSS_DR5/dr5_dlagz_s2n4.fits\n",
      "SDSS-DR5: Performing stats\n"
     ]
    },
    {
     "name": "stderr",
     "output_type": "stream",
     "text": [
      "/Users/xavier/local/Python/pyigm/pyigm/surveys/dlasurvey.py:716: UserWarning: Resetting mask to None.  Be careful here\n",
      "  if ((idla.zabs >= zmin[idx[qq]]) &\n"
     ]
    },
    {
     "name": "stdout",
     "output_type": "stream",
     "text": [
      "SDSS-DR5: Loaded\n"
     ]
    },
    {
     "data": {
      "text/plain": [
       "<IGMSurvey: nsys=737, type=DLA, ref=SDSS-DR5 (PW09), nsightlines=7482>"
      ]
     },
     "execution_count": 39,
     "metadata": {},
     "output_type": "execute_result"
    }
   ],
   "source": [
    "reload(dlasrv)\n",
    "sdss_stat = dlasrv.DLASurvey.load_SDSS_DR5()\n",
    "sdss_stat"
   ]
  },
  {
   "cell_type": "code",
   "execution_count": 17,
   "metadata": {
    "collapsed": false
   },
   "outputs": [
    {
     "data": {
      "text/html": [
       "&lt;QTable length=5&gt;\n",
       "<table id=\"table4983538896\" class=\"table-striped table-bordered table-condensed\">\n",
       "<thead><tr><th>PLATE</th><th>FIB</th><th>RA</th><th>DEC</th><th>FLG_BAL</th><th>IQSO</th><th>MAG</th><th>S2N</th><th>Z_START</th><th>Z_END</th><th>ZEM</th><th>DX</th></tr></thead>\n",
       "<thead><tr><th></th><th></th><th>deg</th><th>deg</th><th></th><th></th><th></th><th></th><th></th><th></th><th></th><th></th></tr></thead>\n",
       "<thead><tr><th>int32</th><th>int32</th><th>float64</th><th>float64</th><th>int16</th><th>int32</th><th>float64</th><th>float64</th><th>float64</th><th>float64</th><th>float64</th><th>float64</th></tr></thead>\n",
       "<tr><td>266</td><td>5</td><td>146.93861</td><td>-0.68701194</td><td>1</td><td>0</td><td>19.341999054</td><td>4.94595003128</td><td>2.39664643878</td><td>2.74649000168</td><td>2.8287498951</td><td>1.17426266257</td></tr>\n",
       "<tr><td>266</td><td>92</td><td>146.22601</td><td>-0.72509875</td><td>0</td><td>4</td><td>19.0820007324</td><td>8.54980564117</td><td>2.20000004768</td><td>2.25759506226</td><td>2.29049992561</td><td>0.184012498912</td></tr>\n",
       "<tr><td>270</td><td>254</td><td>152.23239</td><td>-0.97123272</td><td>0</td><td>9</td><td>19.0230007172</td><td>7.49763822556</td><td>2.30636157714</td><td>3.0556242466</td><td>3.09659004211</td><td>2.56581152274</td></tr>\n",
       "<tr><td>271</td><td>391</td><td>154.14992</td><td>0.14750838</td><td>0</td><td>16</td><td>18.0650005341</td><td>18.982629776</td><td>2.20000004768</td><td>2.25551605225</td><td>2.28839993477</td><td>0.177634457341</td></tr>\n",
       "<tr><td>271</td><td>166</td><td>154.45375</td><td>-0.52347949</td><td>0</td><td>17</td><td>18.9650001526</td><td>10.8409719467</td><td>2.20000004768</td><td>2.25027894974</td><td>2.28310990334</td><td>0.158514320617</td></tr>\n",
       "</table>"
      ],
      "text/plain": [
       "<QTable length=5>\n",
       "PLATE  FIB      RA        DEC     ...     Z_END          ZEM            DX      \n",
       "               deg        deg     ...                                           \n",
       "int32 int32  float64    float64   ...    float64       float64       float64    \n",
       "----- ----- --------- ----------- ... ------------- ------------- --------------\n",
       "  266     5 146.93861 -0.68701194 ... 2.74649000168  2.8287498951  1.17426266257\n",
       "  266    92 146.22601 -0.72509875 ... 2.25759506226 2.29049992561 0.184012498912\n",
       "  270   254 152.23239 -0.97123272 ...  3.0556242466 3.09659004211  2.56581152274\n",
       "  271   391 154.14992  0.14750838 ... 2.25551605225 2.28839993477 0.177634457341\n",
       "  271   166 154.45375 -0.52347949 ... 2.25027894974 2.28310990334 0.158514320617"
      ]
     },
     "execution_count": 17,
     "metadata": {},
     "output_type": "execute_result"
    }
   ],
   "source": [
    "sdss_stat.sightlines[0:5]"
   ]
  },
  {
   "cell_type": "markdown",
   "metadata": {},
   "source": [
    "### $g(z)$"
   ]
  },
  {
   "cell_type": "code",
   "execution_count": 18,
   "metadata": {
    "collapsed": true
   },
   "outputs": [],
   "source": [
    "zeval, gz = sdss_stat.calculate_gz()"
   ]
  },
  {
   "cell_type": "code",
   "execution_count": 19,
   "metadata": {
    "collapsed": false
   },
   "outputs": [
    {
     "data": {
      "image/png": "[encoded data removed]",
      "text/plain": [
       "<matplotlib.figure.Figure at 0x1290b4810>"
      ]
     },
     "metadata": {},
     "output_type": "display_data"
    }
   ],
   "source": [
    "plt.clf()\n",
    "plt.plot(zeval, gz)\n",
    "plt.xlabel('z')\n",
    "plt.ylabel('g(z)')\n",
    "plt.show()"
   ]
  },
  {
   "cell_type": "markdown",
   "metadata": {},
   "source": [
    "### Binned stats"
   ]
  },
  {
   "cell_type": "markdown",
   "metadata": {},
   "source": [
    "#### $\\ell(X)$"
   ]
  },
  {
   "cell_type": "code",
   "execution_count": 36,
   "metadata": {
    "collapsed": false
   },
   "outputs": [],
   "source": [
    "lX, lX_lo, lX_hi= sdss_stat.calculate_lox([2., 2.5, 3])"
   ]
  },
  {
   "cell_type": "code",
   "execution_count": 37,
   "metadata": {
    "collapsed": false
   },
   "outputs": [
    {
     "data": {
      "text/plain": [
       "(array([ 0.04625038,  0.06430632]),\n",
       " array([ 0.00434442,  0.00393302]),\n",
       " array([ 0.00477301,  0.00418125]))"
      ]
     },
     "execution_count": 37,
     "metadata": {},
     "output_type": "execute_result"
    }
   ],
   "source": [
    "lX, lX_lo, lX_hi"
   ]
  },
  {
   "cell_type": "markdown",
   "metadata": {},
   "source": [
    "#### $\\rho_{\\rm HI}$"
   ]
  },
  {
   "cell_type": "code",
   "execution_count": 40,
   "metadata": {
    "collapsed": false
   },
   "outputs": [],
   "source": [
    "rho, rho_lo, rho_hi = sdss_stat.calculate_rhoHI([2., 2.5, 3.], (20.3,23.))"
   ]
  },
  {
   "cell_type": "code",
   "execution_count": 44,
   "metadata": {
    "collapsed": false
   },
   "outputs": [
    {
     "data": {
      "text/plain": [
       "(<Quantity [ 0.50109093, 0.77673707] solMass / Mpc3>,\n",
       " <Quantity [  9844532.72342437, 12926489.76807207] solMass / Mpc3>,\n",
       " <Quantity [ 10074803.40773631, 13039660.50449806] solMass / Mpc3>)"
      ]
     },
     "execution_count": 44,
     "metadata": {},
     "output_type": "execute_result"
    }
   ],
   "source": [
    "rho/1e8, rho_lo, rho_hi"
   ]
  },
  {
   "cell_type": "markdown",
   "metadata": {},
   "source": [
    "#### $f(N,X)$"
   ]
  },
  {
   "cell_type": "code",
   "execution_count": 47,
   "metadata": {
    "collapsed": true
   },
   "outputs": [],
   "source": [
    "fN, fN_lo, fN_hi = sdss_stat.calculate_fn([20.3, 20.5, 21., 21.5, 22.], [2, 2.5], log=True)"
   ]
  },
  {
   "cell_type": "code",
   "execution_count": 48,
   "metadata": {
    "collapsed": false
   },
   "outputs": [
    {
     "data": {
      "text/plain": [
       "(array([[-21.78294186],\n",
       "        [-22.49859874],\n",
       "        [-23.68148193],\n",
       "        [-24.74575336]]), array([[ 0.0682087 ],\n",
       "        [ 0.06395184],\n",
       "        [ 0.1529649 ],\n",
       "        [ 0.34125893]]), array([[ 0.06750842],\n",
       "        [ 0.06336817],\n",
       "        [ 0.14659368],\n",
       "        [ 0.29506734]]))"
      ]
     },
     "execution_count": 48,
     "metadata": {},
     "output_type": "execute_result"
    }
   ],
   "source": [
    "fN, fN_lo, fN_hi"
   ]
  },
  {
   "cell_type": "markdown",
   "metadata": {},
   "source": [
    "### Peroux03"
   ]
  },
  {
   "cell_type": "code",
   "execution_count": 21,
   "metadata": {
    "collapsed": true
   },
   "outputs": [],
   "source": [
    "from pyigm.surveys import dlasurvey as dlasvy"
   ]
  },
  {
   "cell_type": "code",
   "execution_count": 22,
   "metadata": {
    "collapsed": false
   },
   "outputs": [
    {
     "name": "stdout",
     "output_type": "stream",
     "text": [
      "Loading QSOs file /Users/xavier/local/Python/pyigm/pyigm/data/DLA/P03/P03_zpath.fit\n",
      "Loaded\n"
     ]
    },
    {
     "data": {
      "text/plain": [
       "<IGMSurvey: nsys=105, type=DLA, ref=P03, nsightlines=514>"
      ]
     },
     "execution_count": 22,
     "metadata": {},
     "output_type": "execute_result"
    }
   ],
   "source": [
    "reload(dlasvy)\n",
    "p03_statdla = DLASurvey.load_P03()#sample='all')\n",
    "p03_statdla"
   ]
  },
  {
   "cell_type": "markdown",
   "metadata": {},
   "source": [
    "### Guimaraes et al. 2009"
   ]
  },
  {
   "cell_type": "code",
   "execution_count": 23,
   "metadata": {
    "collapsed": false
   },
   "outputs": [
    {
     "name": "stdout",
     "output_type": "stream",
     "text": [
      "Loading QSOs file /Users/xavier/local/Python/pyigm/pyigm/data/DLA/G09/G09_zpath.fit\n",
      "Loaded\n"
     ]
    },
    {
     "data": {
      "text/plain": [
       "<IGMSurvey: nsys=40, type=DLA, ref=G09, nsightlines=77>"
      ]
     },
     "execution_count": 23,
     "metadata": {},
     "output_type": "execute_result"
    }
   ],
   "source": [
    "reload(dlasvy)\n",
    "g09_statdla = DLASurvey.load_G09()#sample='all')\n",
    "g09_statdla"
   ]
  },
  {
   "cell_type": "code",
   "execution_count": 24,
   "metadata": {
    "collapsed": false
   },
   "outputs": [],
   "source": [
    "zeval, gz = g09_statdla.calculate_gz()"
   ]
  },
  {
   "cell_type": "code",
   "execution_count": 25,
   "metadata": {
    "collapsed": false
   },
   "outputs": [
    {
     "data": {
      "image/png": "[encoded data removed]",
      "text/plain": [
       "<matplotlib.figure.Figure at 0x120685190>"
      ]
     },
     "metadata": {},
     "output_type": "display_data"
    }
   ],
   "source": [
    "plt.clf()\n",
    "plt.plot(zeval, gz)\n",
    "plt.xlabel('z')\n",
    "plt.ylabel('g(z)')\n",
    "plt.show()\n",
    "plt.close()"
   ]
  },
  {
   "cell_type": "markdown",
   "metadata": {},
   "source": [
    "### XQ-100 (Sanchez-Ramirez et al. 2016, MNRAS, 456, 4488)"
   ]
  },
  {
   "cell_type": "code",
   "execution_count": 26,
   "metadata": {
    "collapsed": true
   },
   "outputs": [],
   "source": [
    "from pyigm.surveys import dlasurvey as dlasvy"
   ]
  },
  {
   "cell_type": "code",
   "execution_count": 27,
   "metadata": {
    "collapsed": false
   },
   "outputs": [
    {
     "name": "stdout",
     "output_type": "stream",
     "text": [
      "Loading QSOs file /Users/xavier/local/Python/pyigm/pyigm/data/DLA/XQ-100/XQ100_zpath.fit\n",
      "Loaded\n"
     ]
    },
    {
     "data": {
      "text/plain": [
       "<IGMSurvey: nsys=41, type=DLA, ref=XQ-100, nsightlines=100>"
      ]
     },
     "execution_count": 27,
     "metadata": {},
     "output_type": "execute_result"
    }
   ],
   "source": [
    "reload(dlasvy)\n",
    "xq100_statdla = dlasvy.DLASurvey.load_XQ100()\n",
    "xq100_statdla"
   ]
  },
  {
   "cell_type": "markdown",
   "metadata": {},
   "source": [
    "#### $g(z)$"
   ]
  },
  {
   "cell_type": "code",
   "execution_count": 28,
   "metadata": {
    "collapsed": true
   },
   "outputs": [],
   "source": [
    "zeval, gz = xq100_statdla.calculate_gz()"
   ]
  },
  {
   "cell_type": "code",
   "execution_count": 29,
   "metadata": {
    "collapsed": false
   },
   "outputs": [
    {
     "data": {
      "image/png": "[encoded data removed]",
      "text/plain": [
       "<matplotlib.figure.Figure at 0x12095d290>"
      ]
     },
     "metadata": {},
     "output_type": "display_data"
    }
   ],
   "source": [
    "plt.clf()\n",
    "plt.plot(zeval, gz)\n",
    "plt.xlabel('z')\n",
    "plt.ylabel('g(z)')\n",
    "plt.show()\n",
    "plt.close()"
   ]
  },
  {
   "cell_type": "code",
   "execution_count": 1,
   "metadata": {
    "collapsed": true
   },
   "outputs": [],
   "source": [
    "import tarfile"
   ]
  },
  {
   "cell_type": "code",
   "execution_count": 2,
   "metadata": {
    "collapsed": true
   },
   "outputs": [],
   "source": [
    "?tarfile"
   ]
  },
  {
   "cell_type": "code",
   "execution_count": 3,
   "metadata": {
    "collapsed": true
   },
   "outputs": [],
   "source": [
    "tmp = tarfile.open('tmp.tar', 'w')"
   ]
  },
  {
   "cell_type": "code",
   "execution_count": 4,
   "metadata": {
    "collapsed": true
   },
   "outputs": [],
   "source": [
    "f = open('/u/xavier/paper/LLS/Optical/Data/DR1/SYS/HD-LLS_J010619.24+004823.3_z3.321.json')"
   ]
  },
  {
   "cell_type": "code",
   "execution_count": 5,
   "metadata": {
    "collapsed": true
   },
   "outputs": [],
   "source": [
    "import json"
   ]
  },
  {
   "cell_type": "code",
   "execution_count": 6,
   "metadata": {
    "collapsed": true
   },
   "outputs": [],
   "source": [
    "js = json.load(f)"
   ]
  },
  {
   "cell_type": "code",
   "execution_count": 10,
   "metadata": {
    "collapsed": false
   },
   "outputs": [],
   "source": [
    "import subprocess"
   ]
  },
  {
   "cell_type": "code",
   "execution_count": 12,
   "metadata": {
    "collapsed": true
   },
   "outputs": [],
   "source": [
    "?subprocess.Popen"
   ]
  },
  {
   "cell_type": "code",
   "execution_count": null,
   "metadata": {
    "collapsed": true
   },
   "outputs": [],
   "source": []
  }
 ],
 "metadata": {
  "kernelspec": {
   "display_name": "Python 2",
   "language": "python",
   "name": "python2"
  },
  "language_info": {
   "codemirror_mode": {
    "name": "ipython",
    "version": 2
   },
   "file_extension": ".py",
   "mimetype": "text/x-python",
   "name": "python",
   "nbconvert_exporter": "python",
   "pygments_lexer": "ipython2",
   "version": "2.7.13"
  }
 },
 "nbformat": 4,
 "nbformat_minor": 0
}
