{
 "cells": [
  {
   "cell_type": "markdown",
   "metadata": {},
   "source": [
    "# COS-Dwarfs Updates (v1.0)\n",
    "\n",
    "Version History:\n",
    "\n",
    "    v1.0 -- 07 Jul 2016 by JXP   [update f-values, convert to JSON]\n",
    "    v1.1 -- 09 July 2016 by JXP  [add Kinematic measures]"
   ]
  },
  {
   "cell_type": "code",
   "execution_count": null,
   "metadata": {
    "collapsed": true
   },
   "outputs": [],
   "source": [
    "# imports\n",
    "from pyigm.cgm import cos_halos as pch"
   ]
  },
  {
   "cell_type": "markdown",
   "metadata": {},
   "source": [
    "## Updated FITS from Mega structure (9 July 2016)\n",
    "    unix> ls -l cosmetals_megastructure.sav*\n",
    "    -rw-r--r-- 1 xavier staff 159K Jul  7 07:01 cosmetals_megastructure.sav\n",
    "    IDL> mk_mega_fits"
   ]
  },
  {
   "cell_type": "markdown",
   "metadata": {},
   "source": [
    "## Read in Megastructure (from FITS files)\n",
    "\n",
    "This step will update the f-values (several lines were\n",
    "using the old Morton 1991 reference) and associated column densities.\n",
    "\n",
    "The synthesize_colm() method of AbsComponent is used for final columns.\n",
    "These match the original to within 10% in all cases."
   ]
  },
  {
   "cell_type": "code",
   "execution_count": null,
   "metadata": {
    "collapsed": false
   },
   "outputs": [],
   "source": [
    "cos_dwarfs = pch.COSDwarfs()"
   ]
  },
  {
   "cell_type": "code",
   "execution_count": null,
   "metadata": {
    "collapsed": false
   },
   "outputs": [],
   "source": [
    "cos_dwarfs.load_mega(skip_ions=False, chk_lowz=False)"
   ]
  },
  {
   "cell_type": "markdown",
   "metadata": {},
   "source": [
    "### Notes on 'failures' [Fixed with July 7 megastructure]\n",
    "\n",
    "    NV in J0212-0737.334_153.fits has vlim = [-650,-350]  (i.e. beyond -600 km/s)\n",
    "    HI in J0820+2334.260_17.fits has vlim = [ -50., 620.] km/s\n",
    "    J1545+0936_285_81 has no HI measurement"
   ]
  },
  {
   "cell_type": "markdown",
   "metadata": {},
   "source": [
    "### Write to a JSON tarball"
   ]
  },
  {
   "cell_type": "code",
   "execution_count": null,
   "metadata": {
    "collapsed": false
   },
   "outputs": [],
   "source": [
    "cos_dwarfs.cdir# = '/Users/xavier/Dropbox/COS-Halos-Data'"
   ]
  },
  {
   "cell_type": "code",
   "execution_count": null,
   "metadata": {
    "collapsed": false
   },
   "outputs": [],
   "source": [
    "tarfil = cos_dwarfs.cdir+'/cos-dwarfs_systems.v1.0.tar.gz'"
   ]
  },
  {
   "cell_type": "code",
   "execution_count": null,
   "metadata": {
    "collapsed": false
   },
   "outputs": [],
   "source": [
    "cos_dwarfs.write_survey(tarfil)"
   ]
  },
  {
   "cell_type": "markdown",
   "metadata": {},
   "source": [
    "----"
   ]
  },
  {
   "cell_type": "markdown",
   "metadata": {},
   "source": [
    "## Kinematics"
   ]
  },
  {
   "cell_type": "code",
   "execution_count": 1,
   "metadata": {
    "collapsed": true
   },
   "outputs": [],
   "source": [
    "from pyigm.cgm import cos_halos as pch"
   ]
  },
  {
   "cell_type": "code",
   "execution_count": 45,
   "metadata": {
    "collapsed": false
   },
   "outputs": [
    {
     "name": "stdout",
     "output_type": "stream",
     "text": [
      "Be patient, using /Users/xavier/Dropbox/COS-Halos-Data//cos-dwarfs_systems.v1.0.tar.gz to load COS-Halos\n",
      "Skipping a likely folder: CGM_JSON\n"
     ]
    }
   ],
   "source": [
    "reload(pch)\n",
    "cos_dwarfs_v10 = pch.COSDwarfs()\n",
    "cos_dwarfs_v10.load_sys(tfile=cos_dwarfs_v10.cdir+'/cos-dwarfs_systems.v1.0.tar.gz', chk_lowz=False)"
   ]
  },
  {
   "cell_type": "markdown",
   "metadata": {},
   "source": [
    "### Generate from Init file"
   ]
  },
  {
   "cell_type": "code",
   "execution_count": 46,
   "metadata": {
    "collapsed": false
   },
   "outputs": [
    {
     "data": {
      "text/plain": [
       "u'/Users/xavier/Dropbox/COS-Halos-Data//Kin/cosdwarfs_kin_driver.dat'"
      ]
     },
     "execution_count": 46,
     "metadata": {},
     "output_type": "execute_result"
    }
   ],
   "source": [
    "cos_dwarfs_v10.kin_init_file"
   ]
  },
  {
   "cell_type": "code",
   "execution_count": 47,
   "metadata": {
    "collapsed": false
   },
   "outputs": [],
   "source": [
    "cos_dwarfs_v10.load_abskin(flg=1)"
   ]
  },
  {
   "cell_type": "markdown",
   "metadata": {},
   "source": [
    "### Test writing"
   ]
  },
  {
   "cell_type": "code",
   "execution_count": 48,
   "metadata": {
    "collapsed": true
   },
   "outputs": [],
   "source": [
    "cgm_sys = cos_dwarfs_v10.cgm_abs[0]"
   ]
  },
  {
   "cell_type": "code",
   "execution_count": 49,
   "metadata": {
    "collapsed": false
   },
   "outputs": [],
   "source": [
    "tdict = cgm_sys.igm_sys.to_dict()"
   ]
  },
  {
   "cell_type": "code",
   "execution_count": 50,
   "metadata": {
    "collapsed": false
   },
   "outputs": [
    {
     "data": {
      "text/plain": [
       "{u'HI': {u'Dv': {'unit': u'km / s', 'value': 283.0},\n",
       "  u'JF_fcover': {'unit': u'km / s', 'value': 0.0},\n",
       "  u'X_fcover': 0.8837209302325582,\n",
       "  u'delta_v': {'unit': u'km / s', 'value': -56.288340068336055},\n",
       "  u'fedg': 0.23797783280800872,\n",
       "  u'flg': 3,\n",
       "  u'fmm': 0.1903822662465156,\n",
       "  u'v_peak': {'unit': u'km / s', 'value': -3503.3132439986807},\n",
       "  u'zero_pk': 0.9748900721315327},\n",
       " u'Metal': {u'Dv': {'unit': u'km / s', 'value': 98.0},\n",
       "  u'JF_fcover': {'unit': u'km / s', 'value': 0.0},\n",
       "  u'X_fcover': 0.9285714285714286,\n",
       "  u'delta_v': {'unit': u'km / s', 'value': -18.821560172854646},\n",
       "  u'fedg': 0.3842759346263574,\n",
       "  u'flg': 3,\n",
       "  u'fmm': 0.07685518692450995,\n",
       "  u'v_peak': {'unit': u'km / s', 'value': -3764.8193182889368},\n",
       "  u'zero_pk': 0.6823904494895773}}"
      ]
     },
     "execution_count": 50,
     "metadata": {},
     "output_type": "execute_result"
    }
   ],
   "source": [
    "tdict['kin']"
   ]
  },
  {
   "cell_type": "code",
   "execution_count": 51,
   "metadata": {
    "collapsed": true
   },
   "outputs": [],
   "source": [
    "from linetools import utils as ltu"
   ]
  },
  {
   "cell_type": "code",
   "execution_count": 52,
   "metadata": {
    "collapsed": true
   },
   "outputs": [],
   "source": [
    "jdict = ltu.jsonify(tdict)"
   ]
  },
  {
   "cell_type": "code",
   "execution_count": 54,
   "metadata": {
    "collapsed": false
   },
   "outputs": [],
   "source": [
    "ltu.savejson('tmp2.json',jdict)"
   ]
  },
  {
   "cell_type": "markdown",
   "metadata": {},
   "source": [
    "### Write tarball"
   ]
  },
  {
   "cell_type": "code",
   "execution_count": 57,
   "metadata": {
    "collapsed": false
   },
   "outputs": [],
   "source": [
    "tarfil = cos_dwarfs_v10.cdir+'/cos-dwarfs_systems.v1.1.tar.gz'"
   ]
  },
  {
   "cell_type": "code",
   "execution_count": 59,
   "metadata": {
    "collapsed": false
   },
   "outputs": [
    {
     "name": "stdout",
     "output_type": "stream",
     "text": [
      "Wrote: /Users/xavier/Dropbox/COS-Halos-Data//cos-dwarfs_systems.v1.1.tar.gz\n"
     ]
    },
    {
     "name": "stderr",
     "output_type": "stream",
     "text": [
      "/Users/xavier/local/Python/pyigm/pyigm/cgm/cgmsurvey.py:74: UserWarning: Modify to write directly to tar file\n",
      "  warnings.warn(\"Modify to write directly to tar file\")\n"
     ]
    }
   ],
   "source": [
    "cos_dwarfs_v10.write_survey(tarfil)"
   ]
  },
  {
   "cell_type": "code",
   "execution_count": null,
   "metadata": {
    "collapsed": true
   },
   "outputs": [],
   "source": []
  }
 ],
 "metadata": {
  "kernelspec": {
   "display_name": "Python 2",
   "language": "python",
   "name": "python2"
  },
  "language_info": {
   "codemirror_mode": {
    "name": "ipython",
    "version": 2
   },
   "file_extension": ".py",
   "mimetype": "text/x-python",
   "name": "python",
   "nbconvert_exporter": "python",
   "pygments_lexer": "ipython2",
   "version": "2.7.11"
  }
 },
 "nbformat": 4,
 "nbformat_minor": 0
}
