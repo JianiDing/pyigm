{
 "cells": [
  {
   "cell_type": "markdown",
   "metadata": {},
   "source": [
    "# COS-Dwarfs Updates (v1.0)\n",
    "\n",
    "Version History:\n",
    "\n",
    "    v1.0 -- 07 Jul 2016 by JXP   [update f-values, convert to JSON]\n",
    "    v1.1 -- 09 July 2016 by JXP  [add Kinematic measures]"
   ]
  },
  {
   "cell_type": "code",
   "execution_count": 2,
   "metadata": {
    "collapsed": true
   },
   "outputs": [],
   "source": [
    "# imports\n",
    "from pyigm.cgm import cos_halos as pch"
   ]
  },
  {
   "cell_type": "markdown",
   "metadata": {},
   "source": [
    "## Updated FITS from Mega structure (9 July 2016)\n",
    "    unix> ls -l cosmetals_megastructure.sav*\n",
    "    -rw-r--r-- 1 xavier staff 159K Jul  7 07:01 cosmetals_megastructure.sav\n",
    "    IDL> mk_mega_fits"
   ]
  },
  {
   "cell_type": "markdown",
   "metadata": {},
   "source": [
    "## Read in Megastructure (from FITS files)\n",
    "\n",
    "This step will update the f-values (several lines were\n",
    "using the old Morton 1991 reference) and associated column densities.\n",
    "\n",
    "The synthesize_colm() method of AbsComponent is used for final columns.\n",
    "These match the original to within 10% in all cases."
   ]
  },
  {
   "cell_type": "code",
   "execution_count": 3,
   "metadata": {
    "collapsed": false
   },
   "outputs": [],
   "source": [
    "reload(pch)\n",
    "cos_dwarfs = pch.COSDwarfs()"
   ]
  },
  {
   "cell_type": "code",
   "execution_count": 4,
   "metadata": {
    "collapsed": false
   },
   "outputs": [
    {
     "name": "stderr",
     "output_type": "stream",
     "text": [
      "/Users/xavier/local/Python/pyigm/pyigm/cgm/cos_halos.py:264: UserWarning: This method will be DEPRECATED\n",
      "  warnings.warn(\"This method will be DEPRECATED\")\n",
      "/Users/xavier/local/Python/pyigm/pyigm/cgm/cgm.py:144: UserWarning: cgm.CGMAbsSys: Using WMAP9 cosmology\n",
      "  warnings.warn('cgm.CGMAbsSys: Using WMAP9 cosmology')\n",
      "WARNING: UnitsWarning: The unit 'Angstrom' has been deprecated in the FITS standard. Suggested: 10**-1 nm. [astropy.units.format.utils]\n",
      "WARNING:astropy:UnitsWarning: The unit 'Angstrom' has been deprecated in the FITS standard. Suggested: 10**-1 nm.\n"
     ]
    },
    {
     "name": "stdout",
     "output_type": "stream",
     "text": [
      "cos_halos: Reading /u/xavier/Dropbox/COS-Dwarfs/Targets/FITS/J0042-1037.358_9.fits\n",
      "Loading abundances from Asplund2009"
     ]
    },
    {
     "name": "stderr",
     "output_type": "stream",
     "text": [
      "/Users/xavier/local/Python/linetools/linetools/lists/linelist.py:369: RuntimeWarning: divide by zero encountered in log10\n",
      "  self._data['log(w*f)'] = np.log10(qm_strength)\n",
      "/Users/xavier/anaconda/lib/python2.7/site-packages/numpy/ma/core.py:827: RuntimeWarning: invalid value encountered in less_equal\n",
      "  return umath.less_equal(x, self.critical_value)\n",
      "/Users/xavier/anaconda/lib/python2.7/site-packages/astropy/table/column.py:1086: MaskedArrayFutureWarning: setting an item on a masked array which has a shared mask will not copy the mask and also change the original mask array in the future.\n",
      "Check the NumPy 1.11 release notes for more information.\n",
      "  ma.MaskedArray.__setitem__(self, index, value)\n"
     ]
    },
    {
     "name": "stdout",
     "output_type": "stream",
     "text": [
      "\n",
      "Abundances are relative by number on a logarithmic scale with H=12\n",
      "Skipping column contribution from 1134.98 as NG for a line; flg=0\n",
      "Skipping column contribution from 1143.23 as NG for a line; flg=0"
     ]
    },
    {
     "name": "stderr",
     "output_type": "stream",
     "text": [
      "/Users/xavier/local/Python/linetools/linetools/isgm/abscomponent.py:419: UserWarning: Absline <AbsLine: NI 1134c, wrest=1134.9803 Angstrom> has flag=0.  Hopefully you expected that\n",
      "  warnings.warn(\"Absline {} has flag=0.  Hopefully you expected that\".format(str(aline)))\n",
      "/Users/xavier/local/Python/linetools/linetools/isgm/abscomponent.py:419: UserWarning: Absline <AbsLine: FeII 1143, wrest=1143.2260 Angstrom> has flag=0.  Hopefully you expected that\n",
      "  warnings.warn(\"Absline {} has flag=0.  Hopefully you expected that\".format(str(aline)))\n"
     ]
    },
    {
     "name": "stdout",
     "output_type": "stream",
     "text": [
      "\n",
      "cos_halos: Reading /u/xavier/Dropbox/COS-Dwarfs/Targets/FITS/J0155-0857.329_403.fits\n",
      "Skipping column contribution from 1143.23 as NG for a line; flg=0\n",
      "Skipping column contribution from 1125.45 as NG for a line; flg=0\n",
      "cos_halos: Reading /u/xavier/Dropbox/COS-Dwarfs/Targets/FITS/J0212-0737.334_153.fits\n",
      "Skipping column contribution from 1143.23 as NG for a line; flg=0\n",
      "Skipping column contribution from 1125.45 as NG for a line; flg=0\n",
      "cos_halos: Reading /u/xavier/Dropbox/COS-Dwarfs/Targets/FITS/J0242-0759.84_223.fits\n",
      "Skipping column contribution from 1143.23 as NG for a line; flg=0\n",
      "Skipping column contribution from 1125.45 as NG for a line; flg=0\n",
      "cos_halos: Reading /u/xavier/Dropbox/COS-Dwarfs/Targets/FITS/J0310-0049.124_197.fits\n",
      "Skipping column contribution from 1125.45 as NG for a line; flg=0\n",
      "Skipping column contribution from 1143.23 as NG for a line; flg=0\n",
      "cos_halos: Reading /u/xavier/Dropbox/COS-Dwarfs/Targets/FITS/J0809+4619.257_269.fits"
     ]
    },
    {
     "name": "stderr",
     "output_type": "stream",
     "text": [
      "/Users/xavier/local/Python/linetools/linetools/isgm/abscomponent.py:419: UserWarning: Absline <AbsLine: FeII 1125, wrest=1125.4477 Angstrom> has flag=0.  Hopefully you expected that\n",
      "  warnings.warn(\"Absline {} has flag=0.  Hopefully you expected that\".format(str(aline)))\n",
      "/Users/xavier/local/Python/linetools/linetools/utils.py:97: UserWarning: Assuming your DEC is +\n",
      "  warnings.warn(\"Assuming your DEC is +\")\n"
     ]
    },
    {
     "name": "stdout",
     "output_type": "stream",
     "text": [
      "\n",
      "Skipping column contribution from 1125.45 as NG for a line; flg=0\n",
      "Skipping column contribution from 1143.23 as NG for a line; flg=0\n",
      "cos_halos: Reading /u/xavier/Dropbox/COS-Dwarfs/Targets/FITS/J0820+2334.260_17.fits\n",
      "Skipping column contribution from 1608.45 as NG for a line; flg=6"
     ]
    },
    {
     "name": "stderr",
     "output_type": "stream",
     "text": [
      "/Users/xavier/local/Python/linetools/linetools/isgm/abssystem.py:302: UserWarning: Input AbsComponent with Zion=(1, 1) does not match AbsSystem rules. Not appending\n",
      "  warnings.warn('Input AbsComponent with Zion={} does not match AbsSystem rules. Not appending'.format(abscomp.Zion))\n",
      "/Users/xavier/local/Python/linetools/linetools/isgm/abssystem.py:308: UserWarning: Failed velocity overlap\n",
      "  warnings.warn('Failed velocity overlap')\n",
      "/Users/xavier/local/Python/linetools/linetools/isgm/abscomponent.py:419: UserWarning: Absline <AbsLine: FeII 1608, wrest=1608.4511 Angstrom> has flag=0.  Hopefully you expected that\n",
      "  warnings.warn(\"Absline {} has flag=0.  Hopefully you expected that\".format(str(aline)))\n"
     ]
    },
    {
     "name": "stdout",
     "output_type": "stream",
     "text": [
      "\n",
      "cos_halos: Reading /u/xavier/Dropbox/COS-Dwarfs/Targets/FITS/J0826+0742.69_79.fits\n",
      "Skipping column contribution from 1125.45 as NG for a line; flg=0\n",
      "Skipping column contribution from 1143.23 as NG for a line; flg=0\n",
      "cos_halos: Reading /u/xavier/Dropbox/COS-Dwarfs/Targets/FITS/J0843+4117.94_177.fits\n",
      "Skipping column contribution from 1143.23 as NG for a line; flg=0\n",
      "Skipping column contribution from 1125.45 as NG for a line; flg=0\n",
      "cos_halos: Reading /u/xavier/Dropbox/COS-Dwarfs/Targets/FITS/J0912+2957.20_223.fits\n",
      "Skipping column contribution from 1670.79 as NG for a line; flg=13\n",
      "New colm for (13,2) and sys J0912+2957_20_223 is -12.6518 different from old\n",
      "Skipping column contribution from 1125.45 as NG for a line; flg=0\n",
      "Skipping column contribution from 1143.23 as NG for a line; flg=0\n",
      "cos_halos: Reading /u/xavier/Dropbox/COS-Dwarfs/Targets/FITS/J0925+4535.227_334.fits\n",
      "Skipping column contribution from 1125.45 as NG for a line; flg=0\n",
      "Skipping column contribution from 1143.23 as NG for a line; flg=0\n",
      "cos_halos: Reading /u/xavier/Dropbox/COS-Dwarfs/Targets/FITS/J0929+4644.172_157.fits\n",
      "Skipping column contribution from 1125.45 as NG for a line; flg=0\n",
      "Skipping column contribution from 1143.23 as NG for a line; flg=0\n",
      "cos_halos: Reading /u/xavier/Dropbox/COS-Dwarfs/Targets/FITS/J0946+4711.198_218.fits\n",
      "Skipping column contribution from 1134.98 as NG for a line; flg=13\n",
      "Skipping column contribution from 1193.29 as NG for a line; flg=13"
     ]
    },
    {
     "name": "stderr",
     "output_type": "stream",
     "text": [
      "/Users/xavier/local/Python/linetools/linetools/isgm/abscomponent.py:419: UserWarning: Absline <AbsLine: AlII 1670, wrest=1670.7886 Angstrom> has flag=0.  Hopefully you expected that\n",
      "  warnings.warn(\"Absline {} has flag=0.  Hopefully you expected that\".format(str(aline)))\n",
      "/Users/xavier/local/Python/linetools/linetools/isgm/abscomponent.py:419: UserWarning: Absline <AbsLine: SiII 1193, wrest=1193.2897 Angstrom> has flag=0.  Hopefully you expected that\n",
      "  warnings.warn(\"Absline {} has flag=0.  Hopefully you expected that\".format(str(aline)))\n"
     ]
    },
    {
     "name": "stdout",
     "output_type": "stream",
     "text": [
      "\n",
      "Skipping column contribution from 1125.45 as NG for a line; flg=0\n",
      "Skipping column contribution from 1143.23 as NG for a line; flg=0\n",
      "Skipping column contribution from 1608.45 as NG for a line; flg=13\n",
      "Skipping column contribution from 1122.53 as NG for a line; flg=13\n",
      "New colm for (26,3) and sys J0946+4711_198_218 is -14.4988 different from old\n",
      "cos_halos: Reading /u/xavier/Dropbox/COS-Dwarfs/Targets/FITS/J0947+1005.135_580.fits\n",
      "Skipping column contribution from 1125.45 as NG for a line; flg=0\n",
      "Skipping column contribution from 1143.23 as NG for a line; flg=0\n",
      "cos_halos: Reading /u/xavier/Dropbox/COS-Dwarfs/Targets/FITS/J0949+3902.234_105.fits\n",
      "Skipping column contribution from 1200.22 as NG for a line; flg=13"
     ]
    },
    {
     "name": "stderr",
     "output_type": "stream",
     "text": [
      "/Users/xavier/local/Python/linetools/linetools/isgm/abscomponent.py:419: UserWarning: Absline <AbsLine: FeIII 1122, wrest=1122.5240 Angstrom> has flag=0.  Hopefully you expected that\n",
      "  warnings.warn(\"Absline {} has flag=0.  Hopefully you expected that\".format(str(aline)))\n",
      "/Users/xavier/local/Python/linetools/linetools/isgm/abscomponent.py:419: UserWarning: Absline <AbsLine: NI 1200, wrest=1200.2233 Angstrom> has flag=0.  Hopefully you expected that\n",
      "  warnings.warn(\"Absline {} has flag=0.  Hopefully you expected that\".format(str(aline)))\n"
     ]
    },
    {
     "name": "stdout",
     "output_type": "stream",
     "text": [
      "\n",
      "Skipping column contribution from 1125.45 as NG for a line; flg=0\n",
      "Skipping column contribution from 1143.23 as NG for a line; flg=0\n",
      "cos_halos: Reading /u/xavier/Dropbox/COS-Dwarfs/Targets/FITS/J0959+0503.318_13.fits\n",
      "Skipping column contribution from 1125.45 as NG for a line; flg=0\n",
      "Skipping column contribution from 1143.23 as NG for a line; flg=0\n",
      "cos_halos: Reading /u/xavier/Dropbox/COS-Dwarfs/Targets/FITS/J1001+5944.87_608.fits\n",
      "cos_halos: Reading /u/xavier/Dropbox/COS-Dwarfs/Targets/FITS/J1022+0132.337_29.fits\n",
      "cos_halos: Reading /u/xavier/Dropbox/COS-Dwarfs/Targets/FITS/J1059+1441.316_200.fits\n",
      "Skipping column contribution from 1125.45 as NG for a line; flg=4\n",
      "Skipping column contribution from 1143.23 as NG for a line; flg=4\n",
      "Skipping column contribution from 1144.94 as NG for a line; flg=4"
     ]
    },
    {
     "name": "stderr",
     "output_type": "stream",
     "text": [
      "/Users/xavier/local/Python/pyigm/pyigm/cgm/cos_halos.py:216: RuntimeWarning: invalid value encountered in double_scalars\n",
      "  if np.abs(comp.logN - float(iont['CLM'][0])) > 0.15:\n",
      "/Users/xavier/local/Python/linetools/linetools/isgm/abscomponent.py:419: UserWarning: Absline <AbsLine: FeII 1144, wrest=1144.9379 Angstrom> has flag=0.  Hopefully you expected that\n",
      "  warnings.warn(\"Absline {} has flag=0.  Hopefully you expected that\".format(str(aline)))\n"
     ]
    },
    {
     "name": "stdout",
     "output_type": "stream",
     "text": [
      "\n",
      "cos_halos: Reading /u/xavier/Dropbox/COS-Dwarfs/Targets/FITS/J1059+2517.247_92.fits\n",
      "Skipping column contribution from 1125.45 as NG for a line; flg=0\n",
      "Skipping column contribution from 1143.23 as NG for a line; flg=0\n",
      "cos_halos: Reading /u/xavier/Dropbox/COS-Dwarfs/Targets/FITS/J1103+4141.13_58.fits\n",
      "Skipping column contribution from 1125.45 as NG for a line; flg=0\n",
      "cos_halos: Reading /u/xavier/Dropbox/COS-Dwarfs/Targets/FITS/J1104+3141.211_65.fits\n",
      "Skipping column contribution from 1125.45 as NG for a line; flg=4\n",
      "Skipping column contribution from 1143.23 as NG for a line; flg=0\n",
      "cos_halos: Reading /u/xavier/Dropbox/COS-Dwarfs/Targets/FITS/J1117+2634.114_210.fits\n",
      "Skipping column contribution from 1125.45 as NG for a line; flg=0\n",
      "Skipping column contribution from 1143.23 as NG for a line; flg=0\n",
      "cos_halos: Reading /u/xavier/Dropbox/COS-Dwarfs/Targets/FITS/J1121+0325.73_198.fits\n",
      "Skipping column contribution from 1143.23 as NG for a line; flg=0\n",
      "cos_halos: Reading /u/xavier/Dropbox/COS-Dwarfs/Targets/FITS/J1122+5755.259_309.fits\n",
      "Skipping column contribution from 1143.23 as NG for a line; flg=0\n",
      "cos_halos: Reading /u/xavier/Dropbox/COS-Dwarfs/Targets/FITS/J1134+2555.358_76.fits\n",
      "Skipping column contribution from 1143.23 as NG for a line; flg=0\n",
      "cos_halos: Reading /u/xavier/Dropbox/COS-Dwarfs/Targets/FITS/J1207+2624.285_98.fits\n",
      "Skipping column contribution from 1193.29 as NG for a line; flg=2\n",
      "Skipping column contribution from 1143.23 as NG for a line; flg=0\n",
      "cos_halos: Reading /u/xavier/Dropbox/COS-Dwarfs/Targets/FITS/J1210+3157.65_308.fits\n",
      "Skipping column contribution from 1143.23 as NG for a line; flg=0\n",
      "cos_halos: Reading /u/xavier/Dropbox/COS-Dwarfs/Targets/FITS/J1211+3657.312_196.fits\n",
      "Skipping column contribution from 1304.37 as NG for a line; flg=2\n",
      "Skipping column contribution from 1125.45 as NG for a line; flg=0\n",
      "Skipping column contribution from 1143.23 as NG for a line; flg=0\n",
      "cos_halos: Reading /u/xavier/Dropbox/COS-Dwarfs/Targets/FITS/J1236+2641.356_25.fits\n",
      "Skipping column contribution from 1125.45 as NG for a line; flg=0\n",
      "cos_halos: Reading /u/xavier/Dropbox/COS-Dwarfs/Targets/FITS/J1327+4435.122_131.fits\n",
      "Skipping column contribution from 1134.98 as NG for a line; flg=0\n",
      "Skipping column contribution from 1193.29 as NG for a line; flg=2\n",
      "Skipping column contribution from 1125.45 as NG for a line; flg=0\n",
      "Skipping column contribution from 1143.23 as NG for a line; flg=0\n",
      "Skipping column contribution from 1117.98 as NG for a line; flg=13"
     ]
    },
    {
     "name": "stderr",
     "output_type": "stream",
     "text": [
      "/Users/xavier/local/Python/linetools/linetools/isgm/abscomponent.py:419: UserWarning: Absline <AbsLine: SiII 1304, wrest=1304.3702 Angstrom> has flag=0.  Hopefully you expected that\n",
      "  warnings.warn(\"Absline {} has flag=0.  Hopefully you expected that\".format(str(aline)))\n",
      "/Users/xavier/local/Python/linetools/linetools/isgm/abscomponent.py:419: UserWarning: Absline <AbsLine: PV 1117, wrest=1117.9774 Angstrom> has flag=0.  Hopefully you expected that\n",
      "  warnings.warn(\"Absline {} has flag=0.  Hopefully you expected that\".format(str(aline)))\n"
     ]
    },
    {
     "name": "stdout",
     "output_type": "stream",
     "text": [
      "\n",
      "Skipping column contribution from 1128.01 as NG for a line; flg=13\n",
      "New colm for (15,5) and sys J1327+4435_122_131 is -13.7619 different from old\n",
      "cos_halos: Reading /u/xavier/Dropbox/COS-Dwarfs/Targets/FITS/J1330+3119.70_57.fits\n",
      "Skipping column contribution from 1125.45 as NG for a line; flg=0\n",
      "Skipping column contribution from 1143.23 as NG for a line; flg=0\n",
      "cos_halos: Reading /u/xavier/Dropbox/COS-Dwarfs/Targets/FITS/J1342+0505.210_241.fits\n",
      "Skipping column contribution from 1190.42 as NG for a line; flg=4"
     ]
    },
    {
     "name": "stderr",
     "output_type": "stream",
     "text": [
      "/Users/xavier/local/Python/linetools/linetools/isgm/abscomponent.py:419: UserWarning: Absline <AbsLine: PV 1128, wrest=1128.0078 Angstrom> has flag=0.  Hopefully you expected that\n",
      "  warnings.warn(\"Absline {} has flag=0.  Hopefully you expected that\".format(str(aline)))\n",
      "/Users/xavier/local/Python/linetools/linetools/isgm/abscomponent.py:419: UserWarning: Absline <AbsLine: SiII 1190, wrest=1190.4158 Angstrom> has flag=0.  Hopefully you expected that\n",
      "  warnings.warn(\"Absline {} has flag=0.  Hopefully you expected that\".format(str(aline)))\n"
     ]
    },
    {
     "name": "stdout",
     "output_type": "stream",
     "text": [
      "\n",
      "Skipping column contribution from 1125.45 as NG for a line; flg=0\n",
      "Skipping column contribution from 1143.23 as NG for a line; flg=0\n",
      "cos_halos: Reading /u/xavier/Dropbox/COS-Dwarfs/Targets/FITS/J1342+1844.160_190.fits\n",
      "Skipping column contribution from 1125.45 as NG for a line; flg=0\n",
      "Skipping column contribution from 1143.23 as NG for a line; flg=0\n",
      "cos_halos: Reading /u/xavier/Dropbox/COS-Dwarfs/Targets/FITS/J1342+3829.322_238.fits\n",
      "Skipping column contribution from 1125.45 as NG for a line; flg=0\n",
      "cos_halos: Reading /u/xavier/Dropbox/COS-Dwarfs/Targets/FITS/J1356+2515.182_159.fits\n",
      "Skipping column contribution from 1125.45 as NG for a line; flg=0\n",
      "Skipping column contribution from 1143.23 as NG for a line; flg=0\n",
      "cos_halos: Reading /u/xavier/Dropbox/COS-Dwarfs/Targets/FITS/J1357+1704.93_248.fits\n",
      "Skipping column contribution from 1125.45 as NG for a line; flg=0\n",
      "Skipping column contribution from 1143.23 as NG for a line; flg=0\n",
      "cos_halos: Reading /u/xavier/Dropbox/COS-Dwarfs/Targets/FITS/J1451+2709.184_526.fits\n",
      "Skipping column contribution from 1143.23 as NG for a line; flg=0\n",
      "cos_halos: Reading /u/xavier/Dropbox/COS-Dwarfs/Targets/FITS/J1521+0337.252_124.fits\n",
      "Skipping column contribution from 1125.45 as NG for a line; flg=0\n",
      "Skipping column contribution from 1143.23 as NG for a line; flg=0\n",
      "cos_halos: Reading /u/xavier/Dropbox/COS-Dwarfs/Targets/FITS/J1545+0936.285_81.fits\n",
      "cos_halos: Reading /u/xavier/Dropbox/COS-Dwarfs/Targets/FITS/J1616+4154.327_30.fits\n",
      "cos_halos: Reading /u/xavier/Dropbox/COS-Dwarfs/Targets/FITS/PG1049-005.316_78.fits\n",
      "Skipping column contribution from 1143.23 as NG for a line; flg=0\n",
      "cos_halos: Reading /u/xavier/Dropbox/COS-Dwarfs/Targets/FITS/PG1202+281.165_95.fits\n",
      "Skipping column contribution from 1125.45 as NG for a line; flg=0\n",
      "Skipping column contribution from 1143.23 as NG for a line; flg=0\n"
     ]
    },
    {
     "name": "stderr",
     "output_type": "stream",
     "text": [
      "/Users/xavier/local/Python/pyigm/pyigm/cgm/cos_halos.py:248: UserWarning: No HI measurement for <CGMAbsSys: J1545+0936_285_81 Galaxy RA/DEC=15:45:48.2+09:36:42.2, zgal=0.0552711, rho=88.2433 kpc>\n",
      "  warnings.warn(\"No HI measurement for {}\".format(self.cgm_abs[-1]))\n"
     ]
    }
   ],
   "source": [
    "cos_dwarfs.load_mega(skip_ions=False, chk_lowz=False)"
   ]
  },
  {
   "cell_type": "markdown",
   "metadata": {},
   "source": [
    "### Notes on 'failures' [Fixed with July 7 megastructure]\n",
    "\n",
    "    NV in J0212-0737.334_153.fits has vlim = [-650,-350]  (i.e. beyond -600 km/s)\n",
    "    HI in J0820+2334.260_17.fits has vlim = [ -50., 620.] km/s\n",
    "    J1545+0936_285_81 has no HI measurement"
   ]
  },
  {
   "cell_type": "markdown",
   "metadata": {},
   "source": [
    "### Write to a JSON tarball"
   ]
  },
  {
   "cell_type": "code",
   "execution_count": 5,
   "metadata": {
    "collapsed": false
   },
   "outputs": [
    {
     "data": {
      "text/plain": [
       "'/Users/xavier/Dropbox/COS-Halos-Data/'"
      ]
     },
     "execution_count": 5,
     "metadata": {},
     "output_type": "execute_result"
    }
   ],
   "source": [
    "cos_dwarfs.cdir# = '/Users/xavier/Dropbox/COS-Halos-Data'"
   ]
  },
  {
   "cell_type": "code",
   "execution_count": 6,
   "metadata": {
    "collapsed": false
   },
   "outputs": [],
   "source": [
    "tarfil = cos_dwarfs.cdir+'/cos-dwarfs_systems.v1.0.tar.gz'"
   ]
  },
  {
   "cell_type": "code",
   "execution_count": 7,
   "metadata": {
    "collapsed": false
   },
   "outputs": [
    {
     "name": "stdout",
     "output_type": "stream",
     "text": [
      "Wrote: /Users/xavier/Dropbox/COS-Halos-Data//cos-dwarfs_systems.v1.0.tar.gz\n"
     ]
    },
    {
     "name": "stderr",
     "output_type": "stream",
     "text": [
      "/Users/xavier/local/Python/pyigm/pyigm/cgm/cgmsurvey.py:74: UserWarning: Modify to write directly to tar file\n",
      "  warnings.warn(\"Modify to write directly to tar file\")\n"
     ]
    }
   ],
   "source": [
    "cos_dwarfs.write_survey(tarfil)"
   ]
  },
  {
   "cell_type": "markdown",
   "metadata": {},
   "source": [
    "----"
   ]
  },
  {
   "cell_type": "markdown",
   "metadata": {},
   "source": [
    "## Kinematics"
   ]
  },
  {
   "cell_type": "code",
   "execution_count": 1,
   "metadata": {
    "collapsed": true
   },
   "outputs": [],
   "source": [
    "from pyigm.cgm import cos_halos as pch"
   ]
  },
  {
   "cell_type": "code",
   "execution_count": 2,
   "metadata": {
    "collapsed": false
   },
   "outputs": [
    {
     "name": "stderr",
     "output_type": "stream",
     "text": [
      "WARNING: UnitsWarning: The unit 'Angstrom' has been deprecated in the FITS standard. Suggested: 10**-1 nm. [astropy.units.format.utils]\n",
      "WARNING:astropy:UnitsWarning: The unit 'Angstrom' has been deprecated in the FITS standard. Suggested: 10**-1 nm.\n",
      "/Users/xavier/local/Python/linetools/linetools/lists/linelist.py:370: RuntimeWarning: divide by zero encountered in log10\n",
      "  self._data['log(w*f)'] = np.log10(qm_strength)\n",
      "/Users/xavier/anaconda/lib/python2.7/site-packages/numpy/ma/core.py:827: RuntimeWarning: invalid value encountered in less_equal\n",
      "  return umath.less_equal(x, self.critical_value)\n",
      "/Users/xavier/anaconda/lib/python2.7/site-packages/astropy/table/column.py:1086: MaskedArrayFutureWarning: setting an item on a masked array which has a shared mask will not copy the mask and also change the original mask array in the future.\n",
      "Check the NumPy 1.11 release notes for more information.\n",
      "  ma.MaskedArray.__setitem__(self, index, value)\n"
     ]
    },
    {
     "name": "stdout",
     "output_type": "stream",
     "text": [
      "Loading abundances from Asplund2009\n",
      "Abundances are relative by number on a logarithmic scale with H=12\n",
      "Be patient, using /Users/xavier/Dropbox/COS-Halos-Data//cos-dwarfs_systems.v1.0.tar.gz to load COS-Halos\n",
      "Skipping a likely folder: CGM_JSON\n"
     ]
    }
   ],
   "source": [
    "reload(pch)\n",
    "cos_dwarfs_v10 = pch.COSDwarfs()\n",
    "cos_dwarfs_v10.load_sys(tfile=cos_dwarfs_v10.cdir+'/cos-dwarfs_systems.v1.0.tar.gz', chk_lowz=False)"
   ]
  },
  {
   "cell_type": "markdown",
   "metadata": {},
   "source": [
    "### Generate from Init file"
   ]
  },
  {
   "cell_type": "code",
   "execution_count": 3,
   "metadata": {
    "collapsed": false
   },
   "outputs": [
    {
     "data": {
      "text/plain": [
       "u'/Users/xavier/Dropbox/COS-Halos-Data//Kin/cosdwarfs_kin_driver.dat'"
      ]
     },
     "execution_count": 3,
     "metadata": {},
     "output_type": "execute_result"
    }
   ],
   "source": [
    "cos_dwarfs_v10.kin_init_file"
   ]
  },
  {
   "cell_type": "code",
   "execution_count": 4,
   "metadata": {
    "collapsed": false
   },
   "outputs": [
    {
     "name": "stderr",
     "output_type": "stream",
     "text": [
      "/Users/xavier/local/Python/pyigm/pyigm/cgm/cos_halos.py:443: UserWarning: load_kin: No kinematics for J0155-0857, 329_403\n",
      "  cgm_abs.gal_id))\n",
      "/Users/xavier/local/Python/pyigm/pyigm/cgm/cos_halos.py:443: UserWarning: load_kin: No kinematics for J0242-0759, 84_223\n",
      "  cgm_abs.gal_id))\n",
      "/Users/xavier/local/Python/pyigm/pyigm/cgm/cos_halos.py:443: UserWarning: load_kin: No kinematics for J0912+2957, 20_223\n",
      "  cgm_abs.gal_id))\n",
      "/Users/xavier/local/Python/pyigm/pyigm/cgm/cos_halos.py:443: UserWarning: load_kin: No kinematics for J1117+2634, 114_210\n",
      "  cgm_abs.gal_id))\n",
      "/Users/xavier/local/Python/pyigm/pyigm/cgm/cos_halos.py:443: UserWarning: load_kin: No kinematics for J1210+3157, 65_308\n",
      "  cgm_abs.gal_id))\n",
      "/Users/xavier/local/Python/pyigm/pyigm/cgm/cos_halos.py:443: UserWarning: load_kin: No kinematics for J1211+3657, 312_196\n",
      "  cgm_abs.gal_id))\n",
      "/Users/xavier/local/Python/pyigm/pyigm/cgm/cos_halos.py:443: UserWarning: load_kin: No kinematics for J1357+1704, 93_248\n",
      "  cgm_abs.gal_id))\n",
      "/Users/xavier/local/Python/pyigm/pyigm/cgm/cos_halos.py:443: UserWarning: load_kin: No kinematics for J1545+0936, 285_81\n",
      "  cgm_abs.gal_id))\n",
      "/Users/xavier/local/Python/pyigm/pyigm/cgm/cos_halos.py:443: UserWarning: load_kin: No kinematics for PG1049-005, 316_78\n",
      "  cgm_abs.gal_id))\n",
      "/Users/xavier/local/Python/pyigm/pyigm/cgm/cos_halos.py:443: UserWarning: load_kin: No kinematics for PG1202+281, 165_95\n",
      "  cgm_abs.gal_id))\n"
     ]
    }
   ],
   "source": [
    "cos_dwarfs_v10.load_abskin(flg=1)"
   ]
  },
  {
   "cell_type": "markdown",
   "metadata": {},
   "source": [
    "### Test writing"
   ]
  },
  {
   "cell_type": "code",
   "execution_count": null,
   "metadata": {
    "collapsed": true
   },
   "outputs": [],
   "source": [
    "cgm_sys = cos_dwarfs_v10.cgm_abs[0]"
   ]
  },
  {
   "cell_type": "code",
   "execution_count": null,
   "metadata": {
    "collapsed": false
   },
   "outputs": [],
   "source": [
    "tdict = cgm_sys.igm_sys.to_dict()"
   ]
  },
  {
   "cell_type": "code",
   "execution_count": null,
   "metadata": {
    "collapsed": false
   },
   "outputs": [],
   "source": [
    "tdict['kin']"
   ]
  },
  {
   "cell_type": "code",
   "execution_count": null,
   "metadata": {
    "collapsed": true
   },
   "outputs": [],
   "source": [
    "from linetools import utils as ltu"
   ]
  },
  {
   "cell_type": "code",
   "execution_count": null,
   "metadata": {
    "collapsed": true
   },
   "outputs": [],
   "source": [
    "jdict = ltu.jsonify(tdict)"
   ]
  },
  {
   "cell_type": "code",
   "execution_count": null,
   "metadata": {
    "collapsed": false
   },
   "outputs": [],
   "source": [
    "ltu.savejson('tmp2.json',jdict)"
   ]
  },
  {
   "cell_type": "markdown",
   "metadata": {},
   "source": [
    "### Write tarball"
   ]
  },
  {
   "cell_type": "code",
   "execution_count": 5,
   "metadata": {
    "collapsed": false
   },
   "outputs": [],
   "source": [
    "tarfil = cos_dwarfs_v10.cdir+'/cos-dwarfs_systems.v1.1.tar.gz'"
   ]
  },
  {
   "cell_type": "code",
   "execution_count": 6,
   "metadata": {
    "collapsed": false
   },
   "outputs": [
    {
     "name": "stdout",
     "output_type": "stream",
     "text": [
      "Wrote: /Users/xavier/Dropbox/COS-Halos-Data//cos-dwarfs_systems.v1.1.tar.gz\n"
     ]
    },
    {
     "name": "stderr",
     "output_type": "stream",
     "text": [
      "/Users/xavier/local/Python/pyigm/pyigm/cgm/cgmsurvey.py:74: UserWarning: Modify to write directly to tar file\n",
      "  warnings.warn(\"Modify to write directly to tar file\")\n"
     ]
    }
   ],
   "source": [
    "cos_dwarfs_v10.write_survey(tarfil)"
   ]
  },
  {
   "cell_type": "markdown",
   "metadata": {},
   "source": [
    "### Read test"
   ]
  },
  {
   "cell_type": "code",
   "execution_count": null,
   "metadata": {
    "collapsed": false
   },
   "outputs": [],
   "source": [
    "cos_dwarfs_v11 = pch.COSDwarfs()\n",
    "cos_dwarfs_v11.load_sys(tfile=cos_dwarfs_v11.cdir+'/cos-dwarfs_systems.v1.1.tar.gz', chk_lowz=False)"
   ]
  },
  {
   "cell_type": "code",
   "execution_count": null,
   "metadata": {
    "collapsed": false
   },
   "outputs": [],
   "source": [
    "cos_dwarfs_v11.cgm_abs[0].igm_sys.kin"
   ]
  },
  {
   "cell_type": "markdown",
   "metadata": {},
   "source": [
    "## Tests"
   ]
  },
  {
   "cell_type": "code",
   "execution_count": null,
   "metadata": {
    "collapsed": true
   },
   "outputs": [],
   "source": []
  }
 ],
 "metadata": {
  "kernelspec": {
   "display_name": "Python 2",
   "language": "python",
   "name": "python2"
  },
  "language_info": {
   "codemirror_mode": {
    "name": "ipython",
    "version": 2
   },
   "file_extension": ".py",
   "mimetype": "text/x-python",
   "name": "python",
   "nbconvert_exporter": "python",
   "pygments_lexer": "ipython2",
   "version": "2.7.11"
  }
 },
 "nbformat": 4,
 "nbformat_minor": 0
}
