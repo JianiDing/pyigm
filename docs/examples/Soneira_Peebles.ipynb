{
 "cells": [
  {
   "cell_type": "markdown",
   "metadata": {},
   "source": [
    "# Testing of Soneira-Peebles algorithm"
   ]
  },
  {
   "cell_type": "code",
   "execution_count": 38,
   "metadata": {
    "collapsed": true
   },
   "outputs": [],
   "source": [
    "# imports\n",
    "from pyigm.fN import clustering as pycl"
   ]
  },
  {
   "cell_type": "code",
   "execution_count": 47,
   "metadata": {
    "collapsed": false
   },
   "outputs": [
    {
     "name": "stdout",
     "output_type": "stream",
     "text": [
      "--Return--\n",
      "> /Users/xavier/local/Python/pyigm/pyigm/fN/clustering.py(101)sp_cluster()->None\n",
      "-> pdb.set_trace()\n",
      "(Pdb) sp_dict\n",
      "{0: [{'pos': array([ 0.,  0.]), 'parent': 0, 'level': 0}], 1: [{'idx': 0, 'pos': array([ 0.21480805, -0.09181222]), 'parent': 0, 'level': 1}, {'idx': 1, 'pos': array([-0.15804059, -0.14771986]), 'parent': 0, 'level': 1}, {'idx': 2, 'pos': array([ 0.03386251,  0.04777235]), 'parent': 0, 'level': 1}, {'idx': 3, 'pos': array([ 0.23225726,  0.07658855]), 'parent': 0, 'level': 1}], 2: [{'idx': 0, 'pos': array([ 0.27047953, -0.08765819]), 'parent': 0, 'level': 2}, {'idx': 1, 'pos': array([ 0.18386962, -0.06420447]), 'parent': 0, 'level': 2}, {'idx': 2, 'pos': array([ 0.19823789, -0.09198117]), 'parent': 0, 'level': 2}, {'idx': 3, 'pos': array([ 0.18062993, -0.11011652]), 'parent': 0, 'level': 2}, {'idx': 4, 'pos': array([-0.13918412, -0.17110325]), 'parent': 1, 'level': 2}, {'idx': 5, 'pos': array([-0.12444866, -0.11249022]), 'parent': 1, 'level': 2}, {'idx': 6, 'pos': array([-0.1785337 , -0.10692231]), 'parent': 1, 'level': 2}, {'idx': 7, 'pos': array([-0.19606622, -0.1734072 ]), 'parent': 1, 'level': 2}, {'idx': 8, 'pos': array([ 0.0497375 , -0.00394976]), 'parent': 2, 'level': 2}, {'idx': 9, 'pos': array([-0.01076936,  0.04975067]), 'parent': 2, 'level': 2}, {'idx': 10, 'pos': array([ 0.05753018,  0.09235058]), 'parent': 2, 'level': 2}, {'idx': 11, 'pos': array([ 0.05228272,  0.05797469]), 'parent': 2, 'level': 2}, {'idx': 12, 'pos': array([ 0.25864675,  0.04564066]), 'parent': 3, 'level': 2}, {'idx': 13, 'pos': array([ 0.28227722,  0.06937526]), 'parent': 3, 'level': 2}, {'idx': 14, 'pos': array([ 0.25128544,  0.07823933]), 'parent': 3, 'level': 2}, {'idx': 15, 'pos': array([ 0.25505181,  0.0752811 ]), 'parent': 3, 'level': 2}]}\n",
      "(Pdb) exit\n"
     ]
    },
    {
     "ename": "BdbQuit",
     "evalue": "",
     "output_type": "error",
     "traceback": [
      "\u001b[0;31m---------------------------------------------------------------------------\u001b[0m",
      "\u001b[0;31mBdbQuit\u001b[0m                                   Traceback (most recent call last)",
      "\u001b[0;32m<ipython-input-47-25be95615770>\u001b[0m in \u001b[0;36m<module>\u001b[0;34m()\u001b[0m\n\u001b[1;32m      1\u001b[0m \u001b[0mreload\u001b[0m\u001b[0;34m(\u001b[0m\u001b[0mpycl\u001b[0m\u001b[0;34m)\u001b[0m\u001b[0;34m\u001b[0m\u001b[0m\n\u001b[0;32m----> 2\u001b[0;31m \u001b[0mpycl\u001b[0m\u001b[0;34m.\u001b[0m\u001b[0msp_cluster\u001b[0m\u001b[0;34m(\u001b[0m\u001b[0;36m2\u001b[0m\u001b[0;34m,\u001b[0m \u001b[0;36m1.\u001b[0m\u001b[0;34m,\u001b[0m \u001b[0;36m4\u001b[0m\u001b[0;34m,\u001b[0m \u001b[0;36m4.\u001b[0m\u001b[0;34m,\u001b[0m \u001b[0;36m2\u001b[0m\u001b[0;34m)\u001b[0m\u001b[0;34m\u001b[0m\u001b[0m\n\u001b[0m",
      "\u001b[0;32m/Users/xavier/local/Python/pyigm/pyigm/fN/clustering.py\u001b[0m in \u001b[0;36msp_cluster\u001b[0;34m(L, R, eta, l, ndim, seed)\u001b[0m\n\u001b[1;32m     99\u001b[0m                 \u001b[0mcnt\u001b[0m \u001b[0;34m+=\u001b[0m \u001b[0;36m1\u001b[0m\u001b[0;34m\u001b[0m\u001b[0m\n\u001b[1;32m    100\u001b[0m                 \u001b[0;31m#pdb.set_trace()\u001b[0m\u001b[0;34m\u001b[0m\u001b[0;34m\u001b[0m\u001b[0m\n\u001b[0;32m--> 101\u001b[0;31m     \u001b[0mpdb\u001b[0m\u001b[0;34m.\u001b[0m\u001b[0mset_trace\u001b[0m\u001b[0;34m(\u001b[0m\u001b[0;34m)\u001b[0m\u001b[0;34m\u001b[0m\u001b[0m\n\u001b[0m",
      "\u001b[0;32m/Users/xavier/anaconda/lib/python2.7/bdb.pyc\u001b[0m in \u001b[0;36mtrace_dispatch\u001b[0;34m(self, frame, event, arg)\u001b[0m\n\u001b[1;32m     51\u001b[0m             \u001b[0;32mreturn\u001b[0m \u001b[0mself\u001b[0m\u001b[0;34m.\u001b[0m\u001b[0mdispatch_call\u001b[0m\u001b[0;34m(\u001b[0m\u001b[0mframe\u001b[0m\u001b[0;34m,\u001b[0m \u001b[0marg\u001b[0m\u001b[0;34m)\u001b[0m\u001b[0;34m\u001b[0m\u001b[0m\n\u001b[1;32m     52\u001b[0m         \u001b[0;32mif\u001b[0m \u001b[0mevent\u001b[0m \u001b[0;34m==\u001b[0m \u001b[0;34m'return'\u001b[0m\u001b[0;34m:\u001b[0m\u001b[0;34m\u001b[0m\u001b[0m\n\u001b[0;32m---> 53\u001b[0;31m             \u001b[0;32mreturn\u001b[0m \u001b[0mself\u001b[0m\u001b[0;34m.\u001b[0m\u001b[0mdispatch_return\u001b[0m\u001b[0;34m(\u001b[0m\u001b[0mframe\u001b[0m\u001b[0;34m,\u001b[0m \u001b[0marg\u001b[0m\u001b[0;34m)\u001b[0m\u001b[0;34m\u001b[0m\u001b[0m\n\u001b[0m\u001b[1;32m     54\u001b[0m         \u001b[0;32mif\u001b[0m \u001b[0mevent\u001b[0m \u001b[0;34m==\u001b[0m \u001b[0;34m'exception'\u001b[0m\u001b[0;34m:\u001b[0m\u001b[0;34m\u001b[0m\u001b[0m\n\u001b[1;32m     55\u001b[0m             \u001b[0;32mreturn\u001b[0m \u001b[0mself\u001b[0m\u001b[0;34m.\u001b[0m\u001b[0mdispatch_exception\u001b[0m\u001b[0;34m(\u001b[0m\u001b[0mframe\u001b[0m\u001b[0;34m,\u001b[0m \u001b[0marg\u001b[0m\u001b[0;34m)\u001b[0m\u001b[0;34m\u001b[0m\u001b[0m\n",
      "\u001b[0;32m/Users/xavier/anaconda/lib/python2.7/bdb.pyc\u001b[0m in \u001b[0;36mdispatch_return\u001b[0;34m(self, frame, arg)\u001b[0m\n\u001b[1;32m     89\u001b[0m             \u001b[0;32mfinally\u001b[0m\u001b[0;34m:\u001b[0m\u001b[0;34m\u001b[0m\u001b[0m\n\u001b[1;32m     90\u001b[0m                 \u001b[0mself\u001b[0m\u001b[0;34m.\u001b[0m\u001b[0mframe_returning\u001b[0m \u001b[0;34m=\u001b[0m \u001b[0mNone\u001b[0m\u001b[0;34m\u001b[0m\u001b[0m\n\u001b[0;32m---> 91\u001b[0;31m             \u001b[0;32mif\u001b[0m \u001b[0mself\u001b[0m\u001b[0;34m.\u001b[0m\u001b[0mquitting\u001b[0m\u001b[0;34m:\u001b[0m \u001b[0;32mraise\u001b[0m \u001b[0mBdbQuit\u001b[0m\u001b[0;34m\u001b[0m\u001b[0m\n\u001b[0m\u001b[1;32m     92\u001b[0m         \u001b[0;32mreturn\u001b[0m \u001b[0mself\u001b[0m\u001b[0;34m.\u001b[0m\u001b[0mtrace_dispatch\u001b[0m\u001b[0;34m\u001b[0m\u001b[0m\n\u001b[1;32m     93\u001b[0m \u001b[0;34m\u001b[0m\u001b[0m\n",
      "\u001b[0;31mBdbQuit\u001b[0m: "
     ]
    }
   ],
   "source": [
    "reload(pycl)\n",
    "pycl.sp_cluster(2, 1., 4, 4., 2)"
   ]
  },
  {
   "cell_type": "code",
   "execution_count": null,
   "metadata": {
    "collapsed": true
   },
   "outputs": [],
   "source": []
  },
  {
   "cell_type": "markdown",
   "metadata": {},
   "source": [
    "## Tests"
   ]
  },
  {
   "cell_type": "code",
   "execution_count": null,
   "metadata": {
    "collapsed": true
   },
   "outputs": [],
   "source": [
    "# Random state\n",
    "seed = 12345\n",
    "rstate = np.random.RandomState(seed)"
   ]
  },
  {
   "cell_type": "code",
   "execution_count": 14,
   "metadata": {
    "collapsed": false
   },
   "outputs": [],
   "source": [
    "tmp2 = [100,100]\n",
    "tmp = rstate.rand(*tmp2)"
   ]
  },
  {
   "cell_type": "code",
   "execution_count": 15,
   "metadata": {
    "collapsed": false
   },
   "outputs": [
    {
     "data": {
      "text/plain": [
       "(100, 100)"
      ]
     },
     "execution_count": 15,
     "metadata": {},
     "output_type": "execute_result"
    }
   ],
   "source": [
    "tmp.shape"
   ]
  },
  {
   "cell_type": "code",
   "execution_count": 9,
   "metadata": {
    "collapsed": false
   },
   "outputs": [
    {
     "data": {
      "text/plain": [
       "array([[ 0.92961609,  0.31637555,  0.18391881, ...,  0.82638043,\n",
       "         0.89810064,  0.0427153 ],\n",
       "       [ 0.195795  ,  0.29450132,  0.62699988, ...,  0.4568695 ,\n",
       "         0.24992692,  0.56828356],\n",
       "       [ 0.846943  ,  0.37809954,  0.43246512, ...,  0.50732721,\n",
       "         0.4930667 ,  0.18687476],\n",
       "       ..., \n",
       "       [ 0.44885823,  0.02490455,  0.73755915, ...,  0.83907071,\n",
       "         0.94822204,  0.04176738],\n",
       "       [ 0.5024281 ,  0.93071366,  0.13587403, ...,  0.39744439,\n",
       "         0.12687514,  0.11179089],\n",
       "       [ 0.12389262,  0.51428738,  0.57087713, ...,  0.01906542,\n",
       "         0.25946199,  0.76037777]])"
      ]
     },
     "execution_count": 9,
     "metadata": {},
     "output_type": "execute_result"
    }
   ],
   "source": [
    "tmp"
   ]
  },
  {
   "cell_type": "code",
   "execution_count": 19,
   "metadata": {
    "collapsed": true
   },
   "outputs": [],
   "source": [
    "ncenter = 3\n",
    "ndim = 3"
   ]
  },
  {
   "cell_type": "code",
   "execution_count": 29,
   "metadata": {
    "collapsed": true
   },
   "outputs": [],
   "source": [
    "buff = 10*ncenter"
   ]
  },
  {
   "cell_type": "code",
   "execution_count": 30,
   "metadata": {
    "collapsed": true
   },
   "outputs": [],
   "source": [
    "args = [buff,ndim]"
   ]
  },
  {
   "cell_type": "code",
   "execution_count": 31,
   "metadata": {
    "collapsed": false
   },
   "outputs": [
    {
     "data": {
      "text/plain": [
       "(30, 3)"
      ]
     },
     "execution_count": 31,
     "metadata": {},
     "output_type": "execute_result"
    }
   ],
   "source": [
    "randxy = rstate.rand(*args)\n",
    "randxy.shape"
   ]
  },
  {
   "cell_type": "code",
   "execution_count": 32,
   "metadata": {
    "collapsed": false
   },
   "outputs": [
    {
     "data": {
      "text/plain": [
       "array([ 1.30211786,  0.66369708,  0.88356597,  0.86647619,  0.733028  ,\n",
       "        0.4099033 ,  1.57211796,  1.25079686,  1.0029769 ,  1.28029237,\n",
       "        0.91119781,  0.73895817,  0.95613006,  0.85939391,  1.36543329,\n",
       "        0.56889893,  1.43187572,  1.01532774,  0.57118495,  1.10367217,\n",
       "        1.1667784 ,  1.05904114,  1.32119917,  1.83099026,  1.026507  ,\n",
       "        1.07471315,  0.92098797,  1.14276252,  0.05238159,  0.78763021])"
      ]
     },
     "execution_count": 32,
     "metadata": {},
     "output_type": "execute_result"
    }
   ],
   "source": [
    "radii2 = np.sum(randxy**2,1)\n",
    "radii2"
   ]
  },
  {
   "cell_type": "code",
   "execution_count": 33,
   "metadata": {
    "collapsed": true
   },
   "outputs": [],
   "source": [
    "gdr2 = np.where(radii2 < 1.)[0]"
   ]
  },
  {
   "cell_type": "code",
   "execution_count": 34,
   "metadata": {
    "collapsed": true
   },
   "outputs": [],
   "source": [
    "tmp = randxy[gdr2[0:ncenter],:]"
   ]
  },
  {
   "cell_type": "code",
   "execution_count": 35,
   "metadata": {
    "collapsed": false
   },
   "outputs": [
    {
     "data": {
      "text/plain": [
       "array([[ 0.39317501,  0.39040918,  0.59723627],\n",
       "       [ 0.51930028,  0.55877466,  0.54923954],\n",
       "       [ 0.84798604,  0.27232858,  0.27061598]])"
      ]
     },
     "execution_count": 35,
     "metadata": {},
     "output_type": "execute_result"
    }
   ],
   "source": [
    "tmp"
   ]
  },
  {
   "cell_type": "code",
   "execution_count": 36,
   "metadata": {
    "collapsed": false
   },
   "outputs": [
    {
     "data": {
      "text/plain": [
       "(3, 3)"
      ]
     },
     "execution_count": 36,
     "metadata": {},
     "output_type": "execute_result"
    }
   ],
   "source": [
    "tmp.shape"
   ]
  },
  {
   "cell_type": "code",
   "execution_count": 37,
   "metadata": {
    "collapsed": true
   },
   "outputs": [],
   "source": [
    "    sp_dict = {0:[0,0]}\n",
    "    "
   ]
  },
  {
   "cell_type": "code",
   "execution_count": null,
   "metadata": {
    "collapsed": true
   },
   "outputs": [],
   "source": []
  }
 ],
 "metadata": {
  "kernelspec": {
   "display_name": "Python 2",
   "language": "python",
   "name": "python2"
  },
  "language_info": {
   "codemirror_mode": {
    "name": "ipython",
    "version": 2
   },
   "file_extension": ".py",
   "mimetype": "text/x-python",
   "name": "python",
   "nbconvert_exporter": "python",
   "pygments_lexer": "ipython2",
   "version": "2.7.11"
  }
 },
 "nbformat": 4,
 "nbformat_minor": 0
}
