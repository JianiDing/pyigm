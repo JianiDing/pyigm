{
 "cells": [
  {
   "cell_type": "markdown",
   "metadata": {},
   "source": [
    "# COS Halos Examples (useful for an CGM Survey)\n",
    "\n",
    "See also the CGM_examples Notebook"
   ]
  },
  {
   "cell_type": "code",
   "execution_count": 1,
   "metadata": {
    "collapsed": true
   },
   "outputs": [],
   "source": [
    "# import\n",
    "from astropy.table import Table\n",
    "from pyigm.cgm import cos_halos as pch"
   ]
  },
  {
   "cell_type": "markdown",
   "metadata": {},
   "source": [
    "## Load COS-Halos"
   ]
  },
  {
   "cell_type": "code",
   "execution_count": 6,
   "metadata": {
    "collapsed": false
   },
   "outputs": [
    {
     "name": "stdout",
     "output_type": "stream",
     "text": [
      "Be patient, using /Users/xavier/Dropbox/COS-Halos-Data/cos-halos_systems.v1.1.tar.gz to load COS-Halos\n",
      "Skipping a likely folder: CGM_JSON\n"
     ]
    }
   ],
   "source": [
    "cos_halos = pch.COSHalos()\n",
    "cos_halos.load_sys()#debug=True)"
   ]
  },
  {
   "cell_type": "markdown",
   "metadata": {},
   "source": [
    "## Ion Table for the Survey"
   ]
  },
  {
   "cell_type": "code",
   "execution_count": 7,
   "metadata": {
    "collapsed": false
   },
   "outputs": [],
   "source": [
    "SiIII_tbl = cos_halos.ion_tbl((14,3))"
   ]
  },
  {
   "cell_type": "code",
   "execution_count": 8,
   "metadata": {
    "collapsed": false
   },
   "outputs": [
    {
     "data": {
      "text/html": [
       "&lt;Table length=44&gt;\n",
       "<table id=\"table4550867600\">\n",
       "<thead><tr><th>name</th><th>Z</th><th>ion</th><th>A</th><th>Ej</th><th>z</th><th>vmin</th><th>vmax</th><th>flag_N</th><th>logN</th><th>sig_logN</th><th>cgm_name</th></tr></thead>\n",
       "<thead><tr><th></th><th></th><th></th><th></th><th></th><th></th><th>km / s</th><th>km / s</th><th></th><th></th><th></th><th></th></tr></thead>\n",
       "<thead><tr><th>unicode32</th><th>int64</th><th>int64</th><th>int64</th><th>float64</th><th>float64</th><th>float64</th><th>float64</th><th>int64</th><th>float64</th><th>float64</th><th>unicode17</th></tr></thead>\n",
       "<tr><td>J022614.5+001529.8_z0.227</td><td>14</td><td>3</td><td>0</td><td>0.0</td><td>0.227439895272</td><td>-12.0</td><td>332.0</td><td>3</td><td>12.4409029284</td><td>9.0</td><td>J0226+0015_268_22</td></tr>\n",
       "<tr><td>J040149-054056.6_z0.220</td><td>14</td><td>3</td><td>0</td><td>0.0</td><td>0.21968537569</td><td>-131.0</td><td>30.0</td><td>1</td><td>12.8839304247</td><td>0.0589624978602</td><td>J0401-0540_67_24</td></tr>\n",
       "<tr><td>J080359.2+433258.4_z0.253</td><td>14</td><td>3</td><td>0</td><td>0.0</td><td>0.253473222256</td><td>-112.0</td><td>100.0</td><td>3</td><td>12.4798958102</td><td>9.0</td><td>J0803+4332_306_20</td></tr>\n",
       "<tr><td>J091029.8+101413.6_z0.264</td><td>0</td><td>0</td><td>0</td><td>0.0</td><td>0.0</td><td>0.0</td><td>0.0</td><td>0</td><td>0.0</td><td>0.0</td><td>J0910+1014_242_34</td></tr>\n",
       "<tr><td>J091029.8+101413.6_z0.143</td><td>14</td><td>3</td><td>0</td><td>0.0</td><td>0.142737910151</td><td>-198.0</td><td>39.0</td><td>2</td><td>13.2921316424</td><td>2.19425887455e-12</td><td>J0910+1014_34_46</td></tr>\n",
       "<tr><td>J091440.4+282330.6_z0.244</td><td>14</td><td>3</td><td>0</td><td>0.0</td><td>0.244313806295</td><td>-118.0</td><td>62.0</td><td>1</td><td>12.6393110552</td><td>0.106136195362</td><td>J0914+2823_41_27</td></tr>\n",
       "<tr><td>J092554.7+400414.1_z0.247</td><td>14</td><td>3</td><td>0</td><td>0.0</td><td>0.247452750802</td><td>-160.0</td><td>215.0</td><td>2</td><td>13.755260686</td><td>7.55368412675e-13</td><td>J0925+4004_196_22</td></tr>\n",
       "<tr><td>J092838+602521_z0.154</td><td>14</td><td>3</td><td>0</td><td>0.0</td><td>0.154000431299</td><td>-272.0</td><td>104.0</td><td>2</td><td>13.7825557986</td><td>7.0935511931e-13</td><td>J0928+6025_110_35</td></tr>\n",
       "<tr><td>J093518.2+020415.5_z0.262</td><td>14</td><td>3</td><td>0</td><td>0.0</td><td>0.262280136347</td><td>-259.0</td><td>291.0</td><td>3</td><td>12.7688619891</td><td>9.0</td><td>J0935+0204_15_28</td></tr>\n",
       "<tr><td>...</td><td>...</td><td>...</td><td>...</td><td>...</td><td>...</td><td>...</td><td>...</td><td>...</td><td>...</td><td>...</td><td>...</td></tr>\n",
       "<tr><td>J143726.1+504555.8_z0.246</td><td>14</td><td>3</td><td>0</td><td>0.0</td><td>0.245999068022</td><td>-139.0</td><td>231.0</td><td>3</td><td>12.8324415484</td><td>9.0</td><td>J1437+5045_317_38</td></tr>\n",
       "<tr><td>J144511.3+342825.5_z0.218</td><td>14</td><td>3</td><td>0</td><td>0.0</td><td>0.217640265822</td><td>-40.0</td><td>212.0</td><td>3</td><td>12.6404306689</td><td>9.0</td><td>J1445+3428_232_33</td></tr>\n",
       "<tr><td>J151428.6+361958_z0.212</td><td>14</td><td>3</td><td>0</td><td>0.0</td><td>0.212227344513</td><td>-75.0</td><td>100.0</td><td>1</td><td>13.2704431811</td><td>0.0602514036</td><td>J1514+3619_287_14</td></tr>\n",
       "<tr><td>J155048.3+400144.9_z0.312</td><td>14</td><td>3</td><td>0</td><td>0.0</td><td>0.312467426062</td><td>-129.0</td><td>188.0</td><td>1</td><td>13.3971588412</td><td>0.0422696694732</td><td>J1550+4001_197_23</td></tr>\n",
       "<tr><td>J155048.3+400144.9_z0.322</td><td>14</td><td>3</td><td>0</td><td>0.0</td><td>0.321785420179</td><td>-185.0</td><td>24.0</td><td>3</td><td>12.7224914828</td><td>9.0</td><td>J1550+4001_97_33</td></tr>\n",
       "<tr><td>J155504.4+362848_z0.189</td><td>14</td><td>3</td><td>0</td><td>0.0</td><td>0.189296558499</td><td>-187.0</td><td>53.0</td><td>2</td><td>13.5346901217</td><td>1.25524755524e-12</td><td>J1555+3628_88_11</td></tr>\n",
       "<tr><td>J161711.4+063833.5_z0.153</td><td>0</td><td>0</td><td>0</td><td>0.0</td><td>0.0</td><td>0.0</td><td>0.0</td><td>0</td><td>0.0</td><td>0.0</td><td>J1617+0638_253_39</td></tr>\n",
       "<tr><td>J161916.5+334238.4_z0.141</td><td>0</td><td>0</td><td>0</td><td>0.0</td><td>0.0</td><td>0.0</td><td>0.0</td><td>0</td><td>0.0</td><td>0.0</td><td>J1619+3342_113_40</td></tr>\n",
       "<tr><td>J225738.2+134045.5_z0.177</td><td>14</td><td>3</td><td>0</td><td>0.0</td><td>0.17675049603</td><td>-75.0</td><td>92.0</td><td>3</td><td>12.2920057574</td><td>9.0</td><td>J2257+1340_270_40</td></tr>\n",
       "<tr><td>J234500.4-005936.1_z0.254</td><td>0</td><td>0</td><td>0</td><td>0.0</td><td>0.0</td><td>0.0</td><td>0.0</td><td>0</td><td>0.0</td><td>0.0</td><td>J2345-0059_356_12</td></tr>\n",
       "</table>"
      ],
      "text/plain": [
       "<Table length=44>\n",
       "           name             Z    ion  ...      sig_logN          cgm_name    \n",
       "                                      ...                                    \n",
       "        unicode32         int64 int64 ...      float64          unicode17    \n",
       "------------------------- ----- ----- ... ----------------- -----------------\n",
       "J022614.5+001529.8_z0.227    14     3 ...               9.0 J0226+0015_268_22\n",
       "  J040149-054056.6_z0.220    14     3 ...   0.0589624978602  J0401-0540_67_24\n",
       "J080359.2+433258.4_z0.253    14     3 ...               9.0 J0803+4332_306_20\n",
       "J091029.8+101413.6_z0.264     0     0 ...               0.0 J0910+1014_242_34\n",
       "J091029.8+101413.6_z0.143    14     3 ... 2.19425887455e-12  J0910+1014_34_46\n",
       "J091440.4+282330.6_z0.244    14     3 ...    0.106136195362  J0914+2823_41_27\n",
       "J092554.7+400414.1_z0.247    14     3 ... 7.55368412675e-13 J0925+4004_196_22\n",
       "    J092838+602521_z0.154    14     3 ...  7.0935511931e-13 J0928+6025_110_35\n",
       "J093518.2+020415.5_z0.262    14     3 ...               9.0  J0935+0204_15_28\n",
       "                      ...   ...   ... ...               ...               ...\n",
       "J143726.1+504555.8_z0.246    14     3 ...               9.0 J1437+5045_317_38\n",
       "J144511.3+342825.5_z0.218    14     3 ...               9.0 J1445+3428_232_33\n",
       "  J151428.6+361958_z0.212    14     3 ...      0.0602514036 J1514+3619_287_14\n",
       "J155048.3+400144.9_z0.312    14     3 ...   0.0422696694732 J1550+4001_197_23\n",
       "J155048.3+400144.9_z0.322    14     3 ...               9.0  J1550+4001_97_33\n",
       "  J155504.4+362848_z0.189    14     3 ... 1.25524755524e-12  J1555+3628_88_11\n",
       "J161711.4+063833.5_z0.153     0     0 ...               0.0 J1617+0638_253_39\n",
       "J161916.5+334238.4_z0.141     0     0 ...               0.0 J1619+3342_113_40\n",
       "J225738.2+134045.5_z0.177    14     3 ...               9.0 J2257+1340_270_40\n",
       "J234500.4-005936.1_z0.254     0     0 ...               0.0 J2345-0059_356_12"
      ]
     },
     "execution_count": 8,
     "metadata": {},
     "output_type": "execute_result"
    }
   ],
   "source": [
    "SiIII_tbl"
   ]
  },
  {
   "cell_type": "markdown",
   "metadata": {},
   "source": [
    "## EW Table for the Survey for a given transition"
   ]
  },
  {
   "cell_type": "code",
   "execution_count": 9,
   "metadata": {
    "collapsed": true
   },
   "outputs": [],
   "source": [
    "trans = 'SiIII 1206'"
   ]
  },
  {
   "cell_type": "code",
   "execution_count": 10,
   "metadata": {
    "collapsed": false
   },
   "outputs": [
    {
     "data": {
      "text/html": [
       "&lt;Table length=44&gt;\n",
       "<table id=\"table4549278416\">\n",
       "<thead><tr><th>sys</th><th>z</th><th>flag_EW</th><th>EW</th><th>sig_EW</th><th>flag_N</th><th>logN</th><th>sig_logN</th><th>cgm_name</th></tr></thead>\n",
       "<thead><tr><th>unicode25</th><th>float64</th><th>int64</th><th>float64</th><th>float64</th><th>int64</th><th>float64</th><th>float64</th><th>unicode17</th></tr></thead>\n",
       "<tr><td>J022614.5+001529.8_z0.227</td><td>0.227439895272</td><td>3</td><td>0.0187035460787</td><td>0.0346985201678</td><td>3</td><td>12.4409029284</td><td>9.0</td><td>J0226+0015_268_22</td></tr>\n",
       "<tr><td>J040149-054056.6_z0.220</td><td>0.21968537569</td><td>1</td><td>0.158317743378</td><td>0.0206134394617</td><td>1</td><td>12.8839304247</td><td>0.0589624978602</td><td>J0401-0540_67_24</td></tr>\n",
       "<tr><td>J080359.2+433258.4_z0.253</td><td>0.253473222256</td><td>3</td><td>0.0659387693411</td><td>0.0273459029983</td><td>3</td><td>12.4798958102</td><td>9.0</td><td>J0803+4332_306_20</td></tr>\n",
       "<tr><td>J091029.8+101413.6_z0.264</td><td>0.0</td><td>0</td><td>0.0</td><td>0.0</td><td>0</td><td>0.0</td><td>0.0</td><td>J0910+1014_242_34</td></tr>\n",
       "<tr><td>J091029.8+101413.6_z0.143</td><td>0.142737910151</td><td>1</td><td>0.266071025784</td><td>0.0430094260887</td><td>2</td><td>13.2921316424</td><td>0.0725382044911</td><td>J0910+1014_34_46</td></tr>\n",
       "<tr><td>J091440.4+282330.6_z0.244</td><td>0.244313806295</td><td>1</td><td>0.0973287352148</td><td>0.0241202658941</td><td>1</td><td>12.6393110552</td><td>0.106136195362</td><td>J0914+2823_41_27</td></tr>\n",
       "<tr><td>J092554.7+400414.1_z0.247</td><td>0.247452750802</td><td>1</td><td>0.659247361319</td><td>0.0392895203043</td><td>2</td><td>13.755260686</td><td>0.0369738899171</td><td>J0925+4004_196_22</td></tr>\n",
       "<tr><td>J092838+602521_z0.154</td><td>0.154000431299</td><td>1</td><td>0.633640487432</td><td>0.0580960869061</td><td>2</td><td>13.7825557986</td><td>0.042448066175</td><td>J0928+6025_110_35</td></tr>\n",
       "<tr><td>J093518.2+020415.5_z0.262</td><td>0.262280136347</td><td>3</td><td>-0.0181768523915</td><td>0.0758331956641</td><td>3</td><td>12.7688619891</td><td>9.0</td><td>J0935+0204_15_28</td></tr>\n",
       "<tr><td>J094331.6+053131.5_z0.228</td><td>0.228385850787</td><td>1</td><td>0.14886255231</td><td>0.0358574367941</td><td>1</td><td>12.8929235735</td><td>0.101090468466</td><td>J0943+0531_106_34</td></tr>\n",
       "<tr><td>...</td><td>...</td><td>...</td><td>...</td><td>...</td><td>...</td><td>...</td><td>...</td><td>...</td></tr>\n",
       "<tr><td>J143726.1+504555.8_z0.246</td><td>0.245999068022</td><td>3</td><td>-0.0703141423075</td><td>0.0861266085487</td><td>3</td><td>12.8324415484</td><td>9.0</td><td>J1437+5045_317_38</td></tr>\n",
       "<tr><td>J144511.3+342825.5_z0.218</td><td>0.217640265822</td><td>3</td><td>0.0823986961589</td><td>0.0413357194444</td><td>3</td><td>12.6404306689</td><td>9.0</td><td>J1445+3428_232_33</td></tr>\n",
       "<tr><td>J151428.6+361958_z0.212</td><td>0.212227344513</td><td>1</td><td>0.300980530144</td><td>0.0323628707683</td><td>1</td><td>13.2704431811</td><td>0.0602514036</td><td>J1514+3619_287_14</td></tr>\n",
       "<tr><td>J155048.3+400144.9_z0.312</td><td>0.312467426062</td><td>1</td><td>0.446800033702</td><td>0.0394924157673</td><td>1</td><td>13.3971588412</td><td>0.0422696694732</td><td>J1550+4001_197_23</td></tr>\n",
       "<tr><td>J155048.3+400144.9_z0.322</td><td>0.321785420179</td><td>1</td><td>0.115847000743</td><td>0.0354575660305</td><td>3</td><td>12.7224914828</td><td>9.0</td><td>J1550+4001_97_33</td></tr>\n",
       "<tr><td>J155504.4+362848_z0.189</td><td>0.189296558499</td><td>1</td><td>0.485914822933</td><td>0.0285164853023</td><td>2</td><td>13.5346901217</td><td>0.0377639830112</td><td>J1555+3628_88_11</td></tr>\n",
       "<tr><td>J161711.4+063833.5_z0.153</td><td>0.0</td><td>0</td><td>0.0</td><td>0.0</td><td>0</td><td>0.0</td><td>0.0</td><td>J1617+0638_253_39</td></tr>\n",
       "<tr><td>J161916.5+334238.4_z0.141</td><td>0.0</td><td>0</td><td>0.0</td><td>0.0</td><td>0</td><td>0.0</td><td>0.0</td><td>J1619+3342_113_40</td></tr>\n",
       "<tr><td>J225738.2+134045.5_z0.177</td><td>0.17675049603</td><td>3</td><td>-0.00967157356417</td><td>0.0242158374614</td><td>3</td><td>12.2920057574</td><td>9.0</td><td>J2257+1340_270_40</td></tr>\n",
       "<tr><td>J234500.4-005936.1_z0.254</td><td>0.253890156746</td><td>1</td><td>0.211769574863</td><td>0.0241436477878</td><td>0</td><td>13.0512506762</td><td>0.0579742640257</td><td>J2345-0059_356_12</td></tr>\n",
       "</table>"
      ],
      "text/plain": [
       "<Table length=44>\n",
       "           sys                  z        ...     sig_logN         cgm_name    \n",
       "        unicode25            float64     ...     float64         unicode17    \n",
       "------------------------- -------------- ... --------------- -----------------\n",
       "J022614.5+001529.8_z0.227 0.227439895272 ...             9.0 J0226+0015_268_22\n",
       "  J040149-054056.6_z0.220  0.21968537569 ... 0.0589624978602  J0401-0540_67_24\n",
       "J080359.2+433258.4_z0.253 0.253473222256 ...             9.0 J0803+4332_306_20\n",
       "J091029.8+101413.6_z0.264            0.0 ...             0.0 J0910+1014_242_34\n",
       "J091029.8+101413.6_z0.143 0.142737910151 ... 0.0725382044911  J0910+1014_34_46\n",
       "J091440.4+282330.6_z0.244 0.244313806295 ...  0.106136195362  J0914+2823_41_27\n",
       "J092554.7+400414.1_z0.247 0.247452750802 ... 0.0369738899171 J0925+4004_196_22\n",
       "    J092838+602521_z0.154 0.154000431299 ...  0.042448066175 J0928+6025_110_35\n",
       "J093518.2+020415.5_z0.262 0.262280136347 ...             9.0  J0935+0204_15_28\n",
       "J094331.6+053131.5_z0.228 0.228385850787 ...  0.101090468466 J0943+0531_106_34\n",
       "                      ...            ... ...             ...               ...\n",
       "J143726.1+504555.8_z0.246 0.245999068022 ...             9.0 J1437+5045_317_38\n",
       "J144511.3+342825.5_z0.218 0.217640265822 ...             9.0 J1445+3428_232_33\n",
       "  J151428.6+361958_z0.212 0.212227344513 ...    0.0602514036 J1514+3619_287_14\n",
       "J155048.3+400144.9_z0.312 0.312467426062 ... 0.0422696694732 J1550+4001_197_23\n",
       "J155048.3+400144.9_z0.322 0.321785420179 ...             9.0  J1550+4001_97_33\n",
       "  J155504.4+362848_z0.189 0.189296558499 ... 0.0377639830112  J1555+3628_88_11\n",
       "J161711.4+063833.5_z0.153            0.0 ...             0.0 J1617+0638_253_39\n",
       "J161916.5+334238.4_z0.141            0.0 ...             0.0 J1619+3342_113_40\n",
       "J225738.2+134045.5_z0.177  0.17675049603 ...             9.0 J2257+1340_270_40\n",
       "J234500.4-005936.1_z0.254 0.253890156746 ... 0.0579742640257 J2345-0059_356_12"
      ]
     },
     "execution_count": 10,
     "metadata": {},
     "output_type": "execute_result"
    }
   ],
   "source": [
    "tbl = cos_halos.trans_tbl(trans)\n",
    "tbl"
   ]
  },
  {
   "cell_type": "code",
   "execution_count": 17,
   "metadata": {
    "collapsed": false
   },
   "outputs": [],
   "source": [
    "tmp = []"
   ]
  },
  {
   "cell_type": "code",
   "execution_count": 18,
   "metadata": {
    "collapsed": true
   },
   "outputs": [],
   "source": [
    "for ii in range(5):\n",
    "    tmp.append([])"
   ]
  },
  {
   "cell_type": "code",
   "execution_count": 19,
   "metadata": {
    "collapsed": false
   },
   "outputs": [
    {
     "data": {
      "text/plain": [
       "[[], [], [], [], []]"
      ]
     },
     "execution_count": 19,
     "metadata": {},
     "output_type": "execute_result"
    }
   ],
   "source": [
    "tmp"
   ]
  },
  {
   "cell_type": "code",
   "execution_count": null,
   "metadata": {
    "collapsed": true
   },
   "outputs": [],
   "source": []
  }
 ],
 "metadata": {
  "kernelspec": {
   "display_name": "Python 2",
   "language": "python",
   "name": "python2"
  },
  "language_info": {
   "codemirror_mode": {
    "name": "ipython",
    "version": 2
   },
   "file_extension": ".py",
   "mimetype": "text/x-python",
   "name": "python",
   "nbconvert_exporter": "python",
   "pygments_lexer": "ipython2",
   "version": "2.7.11"
  }
 },
 "nbformat": 4,
 "nbformat_minor": 0
}
