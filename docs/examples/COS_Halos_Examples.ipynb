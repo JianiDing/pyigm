{
 "cells": [
  {
   "cell_type": "markdown",
   "metadata": {},
   "source": [
    "# COS Halos Examples (useful for an CGM Survey)\n",
    "\n",
    "See also the CGM_examples Notebook"
   ]
  },
  {
   "cell_type": "code",
   "execution_count": 1,
   "metadata": {
    "collapsed": true
   },
   "outputs": [],
   "source": [
    "# import\n",
    "from astropy.table import Table\n",
    "from pyigm.cgm import cos_halos as pch"
   ]
  },
  {
   "cell_type": "markdown",
   "metadata": {},
   "source": [
    "## Load COS-Halos"
   ]
  },
  {
   "cell_type": "code",
   "execution_count": 2,
   "metadata": {
    "collapsed": false
   },
   "outputs": [
    {
     "name": "stdout",
     "output_type": "stream",
     "text": [
      "Be patient, using /Users/xavier/Dropbox/COS-Halos-Data/cos-halos_systems.v1.1.tar.gz to load COS-Halos\n",
      "Skipping a likely folder: CGM_JSON"
     ]
    },
    {
     "name": "stderr",
     "output_type": "stream",
     "text": [
      "WARNING: UnitsWarning: The unit 'Angstrom' has been deprecated in the FITS standard. Suggested: 10**-1 nm. [astropy.units.format.utils]\n",
      "WARNING:astropy:UnitsWarning: The unit 'Angstrom' has been deprecated in the FITS standard. Suggested: 10**-1 nm.\n"
     ]
    },
    {
     "name": "stdout",
     "output_type": "stream",
     "text": [
      "\n"
     ]
    }
   ],
   "source": [
    "cos_halos = pch.COSHalos()\n",
    "cos_halos.load_sys()"
   ]
  },
  {
   "cell_type": "markdown",
   "metadata": {},
   "source": [
    "## Ion Table for the Survey"
   ]
  },
  {
   "cell_type": "code",
   "execution_count": 3,
   "metadata": {
    "collapsed": true
   },
   "outputs": [],
   "source": [
    "SiIII_tbl = cos_halos.ion_tbl((14,3))"
   ]
  },
  {
   "cell_type": "code",
   "execution_count": 4,
   "metadata": {
    "collapsed": false
   },
   "outputs": [
    {
     "data": {
      "text/html": [
       "&lt;Table length=44&gt;\n",
       "<table id=\"table4551756112\">\n",
       "<thead><tr><th>sys</th><th>flag_N</th><th>logN</th><th>sig_logN</th></tr></thead>\n",
       "<thead><tr><th>unicode17</th><th>int64</th><th>float64</th><th>float64</th></tr></thead>\n",
       "<tr><td>J0226+0015_268_22</td><td>3</td><td>12.4409029284</td><td>9.0</td></tr>\n",
       "<tr><td>J0401-0540_67_24</td><td>1</td><td>12.8839304247</td><td>0.0589624978602</td></tr>\n",
       "<tr><td>J0803+4332_306_20</td><td>3</td><td>12.4798958102</td><td>9.0</td></tr>\n",
       "<tr><td>J0910+1014_242_34</td><td>0</td><td>0.0</td><td>0.0</td></tr>\n",
       "<tr><td>J0910+1014_34_46</td><td>2</td><td>13.2921316424</td><td>2.19425887455e-12</td></tr>\n",
       "<tr><td>J0914+2823_41_27</td><td>1</td><td>12.6393110552</td><td>0.106136195362</td></tr>\n",
       "<tr><td>J0925+4004_196_22</td><td>2</td><td>13.755260686</td><td>7.55368412675e-13</td></tr>\n",
       "<tr><td>J0928+6025_110_35</td><td>2</td><td>13.7825557986</td><td>7.0935511931e-13</td></tr>\n",
       "<tr><td>J0935+0204_15_28</td><td>3</td><td>12.7688619891</td><td>9.0</td></tr>\n",
       "<tr><td>J0943+0531_106_34</td><td>1</td><td>12.8929235735</td><td>0.101090468466</td></tr>\n",
       "<tr><td>...</td><td>...</td><td>...</td><td>...</td></tr>\n",
       "<tr><td>J1437+5045_317_38</td><td>3</td><td>12.8324415484</td><td>9.0</td></tr>\n",
       "<tr><td>J1445+3428_232_33</td><td>3</td><td>12.6404306689</td><td>9.0</td></tr>\n",
       "<tr><td>J1514+3619_287_14</td><td>1</td><td>13.2704431811</td><td>0.0602514036</td></tr>\n",
       "<tr><td>J1550+4001_197_23</td><td>1</td><td>13.3971588412</td><td>0.0422696694732</td></tr>\n",
       "<tr><td>J1550+4001_97_33</td><td>3</td><td>12.7224914828</td><td>9.0</td></tr>\n",
       "<tr><td>J1555+3628_88_11</td><td>2</td><td>13.5346901217</td><td>1.25524755524e-12</td></tr>\n",
       "<tr><td>J1617+0638_253_39</td><td>0</td><td>0.0</td><td>0.0</td></tr>\n",
       "<tr><td>J1619+3342_113_40</td><td>0</td><td>0.0</td><td>0.0</td></tr>\n",
       "<tr><td>J2257+1340_270_40</td><td>3</td><td>12.2920057574</td><td>9.0</td></tr>\n",
       "<tr><td>J2345-0059_356_12</td><td>3</td><td>13.0512506762</td><td>0.0579742640257</td></tr>\n",
       "</table>"
      ],
      "text/plain": [
       "<Table length=44>\n",
       "       sys        flag_N      logN          sig_logN    \n",
       "    unicode17     int64     float64         float64     \n",
       "----------------- ------ ------------- -----------------\n",
       "J0226+0015_268_22      3 12.4409029284               9.0\n",
       " J0401-0540_67_24      1 12.8839304247   0.0589624978602\n",
       "J0803+4332_306_20      3 12.4798958102               9.0\n",
       "J0910+1014_242_34      0           0.0               0.0\n",
       " J0910+1014_34_46      2 13.2921316424 2.19425887455e-12\n",
       " J0914+2823_41_27      1 12.6393110552    0.106136195362\n",
       "J0925+4004_196_22      2  13.755260686 7.55368412675e-13\n",
       "J0928+6025_110_35      2 13.7825557986  7.0935511931e-13\n",
       " J0935+0204_15_28      3 12.7688619891               9.0\n",
       "J0943+0531_106_34      1 12.8929235735    0.101090468466\n",
       "              ...    ...           ...               ...\n",
       "J1437+5045_317_38      3 12.8324415484               9.0\n",
       "J1445+3428_232_33      3 12.6404306689               9.0\n",
       "J1514+3619_287_14      1 13.2704431811      0.0602514036\n",
       "J1550+4001_197_23      1 13.3971588412   0.0422696694732\n",
       " J1550+4001_97_33      3 12.7224914828               9.0\n",
       " J1555+3628_88_11      2 13.5346901217 1.25524755524e-12\n",
       "J1617+0638_253_39      0           0.0               0.0\n",
       "J1619+3342_113_40      0           0.0               0.0\n",
       "J2257+1340_270_40      3 12.2920057574               9.0\n",
       "J2345-0059_356_12      3 13.0512506762   0.0579742640257"
      ]
     },
     "execution_count": 4,
     "metadata": {},
     "output_type": "execute_result"
    }
   ],
   "source": [
    "SiIII_tbl"
   ]
  },
  {
   "cell_type": "code",
   "execution_count": 21,
   "metadata": {
    "collapsed": false
   },
   "outputs": [],
   "source": [
    "Zion = (14,3)\n",
    "names, N, sigN, flagN = [],  [],  [], []\n",
    "fill_ions = False\n",
    "for cgmabs in cos_halos.cgm_abs:\n",
    "    # Fill ions\n",
    "    if fill_ions:\n",
    "        cgmabs.igm_sys.fill_ionN()\n",
    "    # Parse\n",
    "    names.append(cgmabs.name)\n",
    "    # \n",
    "    mt = np.where((cgmabs.igm_sys._ionN['Z'] == Zion[0]) &\n",
    "                  (cgmabs.igm_sys._ionN['ion'] == Zion[1]))[0]\n",
    "    if len(mt) == 0:\n",
    "        N.append(0.)\n",
    "        sigN.append(0.)\n",
    "        flagN.append(0)\n",
    "    elif len(mt) == 1:\n",
    "        N.append(cgmabs.igm_sys._ionN['logN'][mt][0])\n",
    "        sigN.append(cgmabs.igm_sys._ionN['sig_logN'][mt][0])\n",
    "        flagN.append(cgmabs.igm_sys._ionN['flag_N'][mt][0])\n",
    "    else:\n",
    "        raise ValueError(\"Multiple entires with Zion ={:d},{:d})\".format(Zion[0],Zion[1]))"
   ]
  },
  {
   "cell_type": "code",
   "execution_count": 24,
   "metadata": {
    "collapsed": false
   },
   "outputs": [
    {
     "data": {
      "text/html": [
       "&lt;Table length=44&gt;\n",
       "<table id=\"table4589562832\">\n",
       "<thead><tr><th>sys</th><th>flag_N</th><th>logN</th><th>sig_logN</th></tr></thead>\n",
       "<thead><tr><th>unicode17</th><th>int64</th><th>float64</th><th>float64</th></tr></thead>\n",
       "<tr><td>J0226+0015_268_22</td><td>3</td><td>12.4409029284</td><td>9.0</td></tr>\n",
       "<tr><td>J0401-0540_67_24</td><td>1</td><td>12.8839304247</td><td>0.0589624978602</td></tr>\n",
       "<tr><td>J0803+4332_306_20</td><td>3</td><td>12.4798958102</td><td>9.0</td></tr>\n",
       "<tr><td>J0910+1014_242_34</td><td>0</td><td>0.0</td><td>0.0</td></tr>\n",
       "<tr><td>J0910+1014_34_46</td><td>2</td><td>13.2921316424</td><td>2.19425887455e-12</td></tr>\n",
       "<tr><td>J0914+2823_41_27</td><td>1</td><td>12.6393110552</td><td>0.106136195362</td></tr>\n",
       "<tr><td>J0925+4004_196_22</td><td>2</td><td>13.755260686</td><td>7.55368412675e-13</td></tr>\n",
       "<tr><td>J0928+6025_110_35</td><td>2</td><td>13.7825557986</td><td>7.0935511931e-13</td></tr>\n",
       "<tr><td>J0935+0204_15_28</td><td>3</td><td>12.7688619891</td><td>9.0</td></tr>\n",
       "<tr><td>J0943+0531_106_34</td><td>1</td><td>12.8929235735</td><td>0.101090468466</td></tr>\n",
       "<tr><td>...</td><td>...</td><td>...</td><td>...</td></tr>\n",
       "<tr><td>J1437+5045_317_38</td><td>3</td><td>12.8324415484</td><td>9.0</td></tr>\n",
       "<tr><td>J1445+3428_232_33</td><td>3</td><td>12.6404306689</td><td>9.0</td></tr>\n",
       "<tr><td>J1514+3619_287_14</td><td>1</td><td>13.2704431811</td><td>0.0602514036</td></tr>\n",
       "<tr><td>J1550+4001_197_23</td><td>1</td><td>13.3971588412</td><td>0.0422696694732</td></tr>\n",
       "<tr><td>J1550+4001_97_33</td><td>3</td><td>12.7224914828</td><td>9.0</td></tr>\n",
       "<tr><td>J1555+3628_88_11</td><td>2</td><td>13.5346901217</td><td>1.25524755524e-12</td></tr>\n",
       "<tr><td>J1617+0638_253_39</td><td>0</td><td>0.0</td><td>0.0</td></tr>\n",
       "<tr><td>J1619+3342_113_40</td><td>0</td><td>0.0</td><td>0.0</td></tr>\n",
       "<tr><td>J2257+1340_270_40</td><td>3</td><td>12.2920057574</td><td>9.0</td></tr>\n",
       "<tr><td>J2345-0059_356_12</td><td>3</td><td>13.0512506762</td><td>0.0579742640257</td></tr>\n",
       "</table>"
      ],
      "text/plain": [
       "<Table length=44>\n",
       "       sys        flag_N      logN          sig_logN    \n",
       "    unicode17     int64     float64         float64     \n",
       "----------------- ------ ------------- -----------------\n",
       "J0226+0015_268_22      3 12.4409029284               9.0\n",
       " J0401-0540_67_24      1 12.8839304247   0.0589624978602\n",
       "J0803+4332_306_20      3 12.4798958102               9.0\n",
       "J0910+1014_242_34      0           0.0               0.0\n",
       " J0910+1014_34_46      2 13.2921316424 2.19425887455e-12\n",
       " J0914+2823_41_27      1 12.6393110552    0.106136195362\n",
       "J0925+4004_196_22      2  13.755260686 7.55368412675e-13\n",
       "J0928+6025_110_35      2 13.7825557986  7.0935511931e-13\n",
       " J0935+0204_15_28      3 12.7688619891               9.0\n",
       "J0943+0531_106_34      1 12.8929235735    0.101090468466\n",
       "              ...    ...           ...               ...\n",
       "J1437+5045_317_38      3 12.8324415484               9.0\n",
       "J1445+3428_232_33      3 12.6404306689               9.0\n",
       "J1514+3619_287_14      1 13.2704431811      0.0602514036\n",
       "J1550+4001_197_23      1 13.3971588412   0.0422696694732\n",
       " J1550+4001_97_33      3 12.7224914828               9.0\n",
       " J1555+3628_88_11      2 13.5346901217 1.25524755524e-12\n",
       "J1617+0638_253_39      0           0.0               0.0\n",
       "J1619+3342_113_40      0           0.0               0.0\n",
       "J2257+1340_270_40      3 12.2920057574               9.0\n",
       "J2345-0059_356_12      3 13.0512506762   0.0579742640257"
      ]
     },
     "execution_count": 24,
     "metadata": {},
     "output_type": "execute_result"
    }
   ],
   "source": [
    "tbl = Table([names,flagN, N,sigN], names=('sys', 'flag_N', 'logN', 'sig_logN'))\n",
    "tbl"
   ]
  },
  {
   "cell_type": "code",
   "execution_count": null,
   "metadata": {
    "collapsed": true
   },
   "outputs": [],
   "source": []
  }
 ],
 "metadata": {
  "kernelspec": {
   "display_name": "Python 2",
   "language": "python",
   "name": "python2"
  },
  "language_info": {
   "codemirror_mode": {
    "name": "ipython",
    "version": 2
   },
   "file_extension": ".py",
   "mimetype": "text/x-python",
   "name": "python",
   "nbconvert_exporter": "python",
   "pygments_lexer": "ipython2",
   "version": "2.7.11"
  }
 },
 "nbformat": 4,
 "nbformat_minor": 0
}
