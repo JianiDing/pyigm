{
 "cells": [
  {
   "cell_type": "markdown",
   "metadata": {},
   "source": [
    "# DLA Abund Cookbook"
   ]
  },
  {
   "cell_type": "code",
   "execution_count": 12,
   "metadata": {
    "collapsed": false
   },
   "outputs": [],
   "source": [
    "# imports\n",
    "# suppress warnings for these examples\n",
    "import warnings\n",
    "warnings.filterwarnings('ignore')\n",
    "\n",
    "import json, io\n",
    "import numpy as np\n",
    "\n",
    "import astropy.units as u\n",
    "\n",
    "from linetools.isgm.abscomponent import AbsComponent\n",
    "from linetools.lists.linelist import LineList\n",
    "from linetools.spectra.io import readspec\n",
    "import linetools\n",
    "\n",
    "\n",
    "from pyigm.abssys.dla import DLASystem"
   ]
  },
  {
   "cell_type": "markdown",
   "metadata": {},
   "source": [
    "## 0.  Analyze NHI, Continuum fit the spectrum (or spectra)\n",
    "   \n",
    "These steps are not described here.  \n",
    "\n",
    "For continuum fitting,  we recommend lt_continuum from linetools\n",
    "\n",
    "    lt_continuum spec.fits"
   ]
  },
  {
   "cell_type": "markdown",
   "metadata": {},
   "source": [
    "## 1.  Generate a simple DLA system\n",
    "\n",
    "Requires $z$, $N_{\\rm HI}$ and the coordinates\n",
    "\n",
    "$v_{\\rm lim}$ defaults to 500 km/s if input as None"
   ]
  },
  {
   "cell_type": "code",
   "execution_count": 7,
   "metadata": {
    "collapsed": false
   },
   "outputs": [
    {
     "data": {
      "text/plain": [
       "<DLASystem: 01:03:11.38 13:16:16.7, 2.309, NHI=21.37, Z/H=0>"
      ]
     },
     "execution_count": 7,
     "metadata": {},
     "output_type": "execute_result"
    }
   ],
   "source": [
    "# PH957\n",
    "vlim = None\n",
    "dla = DLASystem(('01:03:11.38','+13:16:16.7'), 2.309, vlim, 21.37)\n",
    "dla"
   ]
  },
  {
   "cell_type": "code",
   "execution_count": 8,
   "metadata": {
    "collapsed": false
   },
   "outputs": [
    {
     "name": "stdout",
     "output_type": "stream",
     "text": [
      "Wrote J010311.38+131616.7_z2.309 system to J010311.38+131616.7_z2.309.json file\n"
     ]
    }
   ],
   "source": [
    "# Write\n",
    "dla.write_json()"
   ]
  },
  {
   "cell_type": "markdown",
   "metadata": {},
   "source": [
    "## 2. AbsKin GUI for Line IDs\n",
    "\n",
    "   * Requires xastropy for now\n",
    "   * Best run off the JSON file\n",
    "   * And from the command line\n",
    "   \n",
    "   lt_xabssys PH957_f.fits J010311.38+131616.7_z2.309.json -outfile J010311.38+131616.7_z2.309_HIRES.json\n",
    "   \n",
    "   \n",
    "   \n",
    "   * User modifies the velocity limits\n",
    "   * Identifies blends\n",
    "   * Sets upper/lower limits as desired\n",
    "   * Rejects lines that are not worth analysis"
   ]
  },
  {
   "cell_type": "code",
   "execution_count": 10,
   "metadata": {
    "collapsed": false
   },
   "outputs": [],
   "source": [
    "# Load\n",
    "json_fil = '../../pyigm/abssys/tests/files/J010311.38+131616.7_z2.309_HIRES.json'\n",
    "dla = DLASystem.from_json(json_fil)"
   ]
  },
  {
   "cell_type": "markdown",
   "metadata": {},
   "source": [
    "## 3. Measure EWs and AODM columns\n",
    "    "
   ]
  },
  {
   "cell_type": "code",
   "execution_count": 17,
   "metadata": {
    "collapsed": false
   },
   "outputs": [],
   "source": [
    "# Load spectrum from linetools\n",
    "spec_fil = linetools.__path__[0]+'/spectra/tests/files/PH957_f.fits'\n",
    "spec = readspec(spec_fil)"
   ]
  },
  {
   "cell_type": "code",
   "execution_count": 18,
   "metadata": {
    "collapsed": false
   },
   "outputs": [],
   "source": [
    "# EW\n",
    "dla.measure_restew(spec=spec)"
   ]
  },
  {
   "cell_type": "code",
   "execution_count": 19,
   "metadata": {
    "collapsed": false
   },
   "outputs": [
    {
     "name": "stdout",
     "output_type": "stream",
     "text": [
      "You may now wish to update the component column densities\n"
     ]
    }
   ],
   "source": [
    "# AODM\n",
    "dla.measure_aodm(spec=spec)"
   ]
  },
  {
   "cell_type": "code",
   "execution_count": 20,
   "metadata": {
    "collapsed": false
   },
   "outputs": [
    {
     "data": {
      "text/html": [
       "&lt;Table length=34&gt;\n",
       "<table id=\"table4595988688\">\n",
       "<thead><tr><th>wrest</th><th>name</th><th>Z</th><th>ion</th><th>Ej</th><th>z</th><th>EW</th><th>sig_EW</th><th>flag_N</th><th>logN</th><th>sig_logN</th></tr></thead>\n",
       "<thead><tr><th>Angstrom</th><th></th><th></th><th></th><th>1 / cm</th><th></th><th>Angstrom</th><th>Angstrom</th><th></th><th></th><th></th></tr></thead>\n",
       "<thead><tr><th>float64</th><th>str10</th><th>int64</th><th>int64</th><th>float64</th><th>float64</th><th>float64</th><th>float64</th><th>int64</th><th>float64</th><th>float64</th></tr></thead>\n",
       "<tr><td>1656.9284</td><td>CI 1656</td><td>6</td><td>1</td><td>0.0</td><td>2.309</td><td>0.0538278958668</td><td>0.0078618133002</td><td>1</td><td>13.2181164452</td><td>0.0586656731841</td></tr>\n",
       "<tr><td>1334.5323</td><td>CII 1334</td><td>6</td><td>2</td><td>0.0</td><td>2.309</td><td>0.517674560646</td><td>0.00555575088953</td><td>2</td><td>14.7236988694</td><td>0.0158013703943</td></tr>\n",
       "<tr><td>1335.7077</td><td>CII* 1335</td><td>6</td><td>2</td><td>63.42</td><td>2.309</td><td>0.296489843359</td><td>0.0059561379452</td><td>1</td><td>14.2763346029</td><td>0.00920147656081</td></tr>\n",
       "<tr><td>1548.195</td><td>CIV 1548</td><td>6</td><td>4</td><td>0.0</td><td>2.309</td><td>0.0507237879034</td><td>0.00673110778867</td><td>1</td><td>13.1238546514</td><td>0.056003777332</td></tr>\n",
       "<tr><td>1550.77</td><td>CIV 1550</td><td>6</td><td>4</td><td>0.0</td><td>2.309</td><td>0.0299727850519</td><td>0.00653169255047</td><td>1</td><td>13.1811857929</td><td>0.0936976117241</td></tr>\n",
       "<tr><td>1200.7098</td><td>NI 1200c</td><td>7</td><td>1</td><td>0.0</td><td>2.309</td><td>0.627580928381</td><td>0.029023370279</td><td>1</td><td>15.2473276787</td><td>0.0335803532982</td></tr>\n",
       "<tr><td>1238.821</td><td>NV 1238</td><td>7</td><td>5</td><td>0.0</td><td>2.309</td><td>0.892574014937</td><td>0.00794622840155</td><td>2</td><td>14.9193722766</td><td>0.0117954978639</td></tr>\n",
       "<tr><td>1242.804</td><td>NV 1242</td><td>7</td><td>5</td><td>0.0</td><td>2.309</td><td>0.33355826353</td><td>0.00998233844278</td><td>1</td><td>14.5610513158</td><td>0.014221018758</td></tr>\n",
       "<tr><td>1302.1685</td><td>OI 1302</td><td>8</td><td>1</td><td>0.0</td><td>2.309</td><td>0.81922525881</td><td>0.00628483413278</td><td>2</td><td>15.4107237299</td><td>0.0186188356746</td></tr>\n",
       "<tr><td>...</td><td>...</td><td>...</td><td>...</td><td>...</td><td>...</td><td>...</td><td>...</td><td>...</td><td>...</td><td>...</td></tr>\n",
       "<tr><td>1402.77</td><td>SiIV 1402</td><td>14</td><td>4</td><td>0.0</td><td>2.309</td><td>0.0415144568941</td><td>0.00713154156058</td><td>1</td><td>12.9928651041</td><td>0.0712485559729</td></tr>\n",
       "<tr><td>1190.203</td><td>SIII 1190</td><td>16</td><td>3</td><td>0.0</td><td>2.309</td><td>0.107381573201</td><td>0.0621690977935</td><td>3</td><td>15.0687670217</td><td>0.267481689376</td></tr>\n",
       "<tr><td>1608.4511</td><td>FeII 1608</td><td>26</td><td>2</td><td>0.0</td><td>2.309</td><td>0.264743200749</td><td>0.00710192691742</td><td>1</td><td>14.478177918</td><td>0.00980178813552</td></tr>\n",
       "<tr><td>2344.2139</td><td>FeII 2344</td><td>26</td><td>2</td><td>0.0</td><td>2.309</td><td>0.518763503147</td><td>0.00798462138138</td><td>1</td><td>14.2456529533</td><td>0.00547065233471</td></tr>\n",
       "<tr><td>2374.4612</td><td>FeII 2374</td><td>26</td><td>2</td><td>0.0</td><td>2.309</td><td>0.438487337801</td><td>0.00917903098361</td><td>1</td><td>14.6118269552</td><td>0.00823173956892</td></tr>\n",
       "<tr><td>2382.7652</td><td>FeII 2382</td><td>26</td><td>2</td><td>0.0</td><td>2.309</td><td>0.637008638987</td><td>0.00842244840882</td><td>2</td><td>13.940064567</td><td>0.00956842932717</td></tr>\n",
       "<tr><td>2586.65</td><td>FeII 2586</td><td>26</td><td>2</td><td>0.0</td><td>2.309</td><td>0.58687906094</td><td>0.00902891476331</td><td>1</td><td>14.3694390253</td><td>0.00594233512073</td></tr>\n",
       "<tr><td>2600.1729</td><td>FeII 2600</td><td>26</td><td>2</td><td>0.0</td><td>2.309</td><td>0.71908377045</td><td>0.00882622346028</td><td>2</td><td>14.0175926887</td><td>0.00567071500984</td></tr>\n",
       "<tr><td>1741.5531</td><td>NiII 1741</td><td>28</td><td>2</td><td>0.0</td><td>2.309</td><td>0.13491395785</td><td>0.00639701253419</td><td>1</td><td>14.0989230305</td><td>0.0205651055752</td></tr>\n",
       "<tr><td>2026.137</td><td>ZnII 2026</td><td>30</td><td>2</td><td>0.0</td><td>2.309</td><td>0.0608694569507</td><td>0.0100157997598</td><td>1</td><td>12.5429494512</td><td>0.0702260280695</td></tr>\n",
       "</table>"
      ],
      "text/plain": [
       "<Table length=34>\n",
       "  wrest      name     Z    ion  ... flag_N      logN         sig_logN    \n",
       " Angstrom                       ...                                      \n",
       " float64    str10   int64 int64 ... int64     float64        float64     \n",
       "--------- --------- ----- ----- ... ------ ------------- ----------------\n",
       "1656.9284   CI 1656     6     1 ...      1 13.2181164452  0.0586656731841\n",
       "1334.5323  CII 1334     6     2 ...      2 14.7236988694  0.0158013703943\n",
       "1335.7077 CII* 1335     6     2 ...      1 14.2763346029 0.00920147656081\n",
       " 1548.195  CIV 1548     6     4 ...      1 13.1238546514   0.056003777332\n",
       "  1550.77  CIV 1550     6     4 ...      1 13.1811857929  0.0936976117241\n",
       "1200.7098  NI 1200c     7     1 ...      1 15.2473276787  0.0335803532982\n",
       " 1238.821   NV 1238     7     5 ...      2 14.9193722766  0.0117954978639\n",
       " 1242.804   NV 1242     7     5 ...      1 14.5610513158   0.014221018758\n",
       "1302.1685   OI 1302     8     1 ...      2 15.4107237299  0.0186188356746\n",
       "      ...       ...   ...   ... ...    ...           ...              ...\n",
       "  1402.77 SiIV 1402    14     4 ...      1 12.9928651041  0.0712485559729\n",
       " 1190.203 SIII 1190    16     3 ...      3 15.0687670217   0.267481689376\n",
       "1608.4511 FeII 1608    26     2 ...      1  14.478177918 0.00980178813552\n",
       "2344.2139 FeII 2344    26     2 ...      1 14.2456529533 0.00547065233471\n",
       "2374.4612 FeII 2374    26     2 ...      1 14.6118269552 0.00823173956892\n",
       "2382.7652 FeII 2382    26     2 ...      2  13.940064567 0.00956842932717\n",
       "  2586.65 FeII 2586    26     2 ...      1 14.3694390253 0.00594233512073\n",
       "2600.1729 FeII 2600    26     2 ...      2 14.0175926887 0.00567071500984\n",
       "1741.5531 NiII 1741    28     2 ...      1 14.0989230305  0.0205651055752\n",
       " 2026.137 ZnII 2026    30     2 ...      1 12.5429494512  0.0702260280695"
      ]
     },
     "execution_count": 20,
     "metadata": {},
     "output_type": "execute_result"
    }
   ],
   "source": [
    "# View\n",
    "dla.fill_trans()\n",
    "dla._trans"
   ]
  },
  {
   "cell_type": "markdown",
   "metadata": {
    "collapsed": true
   },
   "source": [
    "## 4. Update Components"
   ]
  },
  {
   "cell_type": "code",
   "execution_count": 21,
   "metadata": {
    "collapsed": true
   },
   "outputs": [],
   "source": [
    "dla.update_component_colm()"
   ]
  },
  {
   "cell_type": "code",
   "execution_count": 22,
   "metadata": {
    "collapsed": true
   },
   "outputs": [],
   "source": [
    "dla.fill_ionN()"
   ]
  },
  {
   "cell_type": "code",
   "execution_count": 23,
   "metadata": {
    "collapsed": false
   },
   "outputs": [
    {
     "data": {
      "text/html": [
       "&lt;Table length=19&gt;\n",
       "<table id=\"table4598810576\">\n",
       "<thead><tr><th>Z</th><th>ion</th><th>A</th><th>Ej</th><th>z</th><th>vmin</th><th>vmax</th><th>flag_N</th><th>logN</th><th>sig_logN</th></tr></thead>\n",
       "<thead><tr><th></th><th></th><th></th><th></th><th></th><th>km / s</th><th>km / s</th><th></th><th></th><th></th></tr></thead>\n",
       "<thead><tr><th>int64</th><th>int64</th><th>int64</th><th>float64</th><th>float64</th><th>float64</th><th>float64</th><th>int64</th><th>float64</th><th>float64</th></tr></thead>\n",
       "<tr><td>6</td><td>1</td><td>0</td><td>0.0</td><td>2.309</td><td>-221.158657011</td><td>150.0</td><td>1</td><td>13.2181164452</td><td>0.0586656731841</td></tr>\n",
       "<tr><td>6</td><td>2</td><td>0</td><td>0.0</td><td>2.309</td><td>-221.158657011</td><td>150.0</td><td>2</td><td>14.7236988694</td><td>0.0158013703943</td></tr>\n",
       "<tr><td>6</td><td>2</td><td>0</td><td>63.42</td><td>2.309</td><td>-221.158657011</td><td>150.0</td><td>1</td><td>14.2763346029</td><td>0.00920147656081</td></tr>\n",
       "<tr><td>6</td><td>4</td><td>0</td><td>0.0</td><td>2.309</td><td>-221.158657011</td><td>150.0</td><td>1</td><td>13.1368527717</td><td>0.0481474980317</td></tr>\n",
       "<tr><td>7</td><td>1</td><td>0</td><td>0.0</td><td>2.309</td><td>-221.158657011</td><td>150.0</td><td>1</td><td>15.2473276787</td><td>0.0335803532982</td></tr>\n",
       "<tr><td>7</td><td>5</td><td>0</td><td>0.0</td><td>2.309</td><td>-221.158657011</td><td>150.0</td><td>1</td><td>14.5610513158</td><td>0.014221018758</td></tr>\n",
       "<tr><td>8</td><td>1</td><td>0</td><td>0.0</td><td>2.309</td><td>-221.158657011</td><td>150.0</td><td>2</td><td>15.4107237299</td><td>0.0186188356746</td></tr>\n",
       "<tr><td>12</td><td>1</td><td>0</td><td>0.0</td><td>2.309</td><td>-221.158657011</td><td>150.0</td><td>1</td><td>12.7810882094</td><td>0.019012570354</td></tr>\n",
       "<tr><td>12</td><td>2</td><td>0</td><td>0.0</td><td>2.309</td><td>-221.158657011</td><td>150.0</td><td>2</td><td>13.9707710413</td><td>0.00852875668173</td></tr>\n",
       "<tr><td>13</td><td>2</td><td>0</td><td>0.0</td><td>2.309</td><td>-221.158657011</td><td>150.0</td><td>1</td><td>13.2088737341</td><td>0.006389458162</td></tr>\n",
       "<tr><td>13</td><td>3</td><td>0</td><td>0.0</td><td>2.309</td><td>-221.158657011</td><td>150.0</td><td>1</td><td>12.6120856446</td><td>0.0397005673506</td></tr>\n",
       "<tr><td>14</td><td>2</td><td>0</td><td>0.0</td><td>2.309</td><td>-221.158657011</td><td>150.0</td><td>1</td><td>15.3182770235</td><td>0.0308444245179</td></tr>\n",
       "<tr><td>14</td><td>2</td><td>0</td><td>287.24</td><td>2.309</td><td>-221.158657011</td><td>150.0</td><td>3</td><td>12.2514309183</td><td>0.163736403346</td></tr>\n",
       "<tr><td>14</td><td>3</td><td>0</td><td>0.0</td><td>2.309</td><td>-221.158657011</td><td>150.0</td><td>2</td><td>14.1987107841</td><td>0.0505255323106</td></tr>\n",
       "<tr><td>14</td><td>4</td><td>0</td><td>0.0</td><td>2.309</td><td>-221.158657011</td><td>150.0</td><td>1</td><td>13.0927402921</td><td>0.0242516180459</td></tr>\n",
       "<tr><td>16</td><td>3</td><td>0</td><td>0.0</td><td>2.309</td><td>-221.158657011</td><td>150.0</td><td>3</td><td>15.0687670217</td><td>0.267481689376</td></tr>\n",
       "<tr><td>26</td><td>2</td><td>0</td><td>0.0</td><td>2.309</td><td>-221.158657011</td><td>150.0</td><td>1</td><td>14.3266479468</td><td>0.003515332697</td></tr>\n",
       "<tr><td>28</td><td>2</td><td>0</td><td>0.0</td><td>2.309</td><td>-221.158657011</td><td>150.0</td><td>1</td><td>14.0989230305</td><td>0.0205651055752</td></tr>\n",
       "<tr><td>30</td><td>2</td><td>0</td><td>0.0</td><td>2.309</td><td>-221.158657011</td><td>150.0</td><td>1</td><td>12.5429494512</td><td>0.0702260280695</td></tr>\n",
       "</table>"
      ],
      "text/plain": [
       "<Table length=19>\n",
       "  Z    ion    A      Ej   ...   vmax  flag_N      logN         sig_logN    \n",
       "                          ...  km / s                                      \n",
       "int64 int64 int64 float64 ... float64 int64     float64        float64     \n",
       "----- ----- ----- ------- ... ------- ------ ------------- ----------------\n",
       "    6     1     0     0.0 ...   150.0      1 13.2181164452  0.0586656731841\n",
       "    6     2     0     0.0 ...   150.0      2 14.7236988694  0.0158013703943\n",
       "    6     2     0   63.42 ...   150.0      1 14.2763346029 0.00920147656081\n",
       "    6     4     0     0.0 ...   150.0      1 13.1368527717  0.0481474980317\n",
       "    7     1     0     0.0 ...   150.0      1 15.2473276787  0.0335803532982\n",
       "    7     5     0     0.0 ...   150.0      1 14.5610513158   0.014221018758\n",
       "    8     1     0     0.0 ...   150.0      2 15.4107237299  0.0186188356746\n",
       "   12     1     0     0.0 ...   150.0      1 12.7810882094   0.019012570354\n",
       "   12     2     0     0.0 ...   150.0      2 13.9707710413 0.00852875668173\n",
       "   13     2     0     0.0 ...   150.0      1 13.2088737341   0.006389458162\n",
       "   13     3     0     0.0 ...   150.0      1 12.6120856446  0.0397005673506\n",
       "   14     2     0     0.0 ...   150.0      1 15.3182770235  0.0308444245179\n",
       "   14     2     0  287.24 ...   150.0      3 12.2514309183   0.163736403346\n",
       "   14     3     0     0.0 ...   150.0      2 14.1987107841  0.0505255323106\n",
       "   14     4     0     0.0 ...   150.0      1 13.0927402921  0.0242516180459\n",
       "   16     3     0     0.0 ...   150.0      3 15.0687670217   0.267481689376\n",
       "   26     2     0     0.0 ...   150.0      1 14.3266479468   0.003515332697\n",
       "   28     2     0     0.0 ...   150.0      1 14.0989230305  0.0205651055752\n",
       "   30     2     0     0.0 ...   150.0      1 12.5429494512  0.0702260280695"
      ]
     },
     "execution_count": 23,
     "metadata": {},
     "output_type": "execute_result"
    }
   ],
   "source": [
    "dla._ionN"
   ]
  },
  {
   "cell_type": "code",
   "execution_count": null,
   "metadata": {
    "collapsed": true
   },
   "outputs": [],
   "source": []
  }
 ],
 "metadata": {
  "kernelspec": {
   "display_name": "Python 2",
   "language": "python",
   "name": "python2"
  },
  "language_info": {
   "codemirror_mode": {
    "name": "ipython",
    "version": 2
   },
   "file_extension": ".py",
   "mimetype": "text/x-python",
   "name": "python",
   "nbconvert_exporter": "python",
   "pygments_lexer": "ipython2",
   "version": "2.7.11"
  }
 },
 "nbformat": 4,
 "nbformat_minor": 0
}
