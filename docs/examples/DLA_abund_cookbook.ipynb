{
 "cells": [
  {
   "cell_type": "markdown",
   "metadata": {},
   "source": [
    "# DLA Abund Cookbook (v1.0)"
   ]
  },
  {
   "cell_type": "code",
   "execution_count": 1,
   "metadata": {
    "collapsed": false
   },
   "outputs": [],
   "source": [
    "# imports\n",
    "# suppress warnings for these examples\n",
    "import warnings\n",
    "warnings.filterwarnings('ignore')\n",
    "\n",
    "import json, io\n",
    "import numpy as np\n",
    "\n",
    "import astropy.units as u\n",
    "\n",
    "from linetools.isgm.abscomponent import AbsComponent\n",
    "from linetools.lists.linelist import LineList\n",
    "from linetools.spectra.io import readspec\n",
    "import linetools\n",
    "from linetools.abund.relabund import RelAbund\n",
    "\n",
    "from pyigm.abssys.dla import DLASystem"
   ]
  },
  {
   "cell_type": "markdown",
   "metadata": {},
   "source": [
    "## 0.  Analyze NHI, Continuum fit the spectrum (or spectra)\n",
    "   \n",
    "These steps are not described here.  \n",
    "\n",
    "For continuum fitting,  we recommend lt_continuum from linetools\n",
    "\n",
    "    lt_continuum spec.fits"
   ]
  },
  {
   "cell_type": "markdown",
   "metadata": {},
   "source": [
    "## 1.  Generate a simple DLA system\n",
    "\n",
    "Requires $z$, $N_{\\rm HI}$ and the coordinates\n",
    "\n",
    "$v_{\\rm lim}$ defaults to 500 km/s if input as None"
   ]
  },
  {
   "cell_type": "code",
   "execution_count": 2,
   "metadata": {
    "collapsed": false
   },
   "outputs": [
    {
     "data": {
      "text/plain": [
       "<DLASystem: 01:03:11.38 13:16:16.7, 2.309, NHI=21.37, Z/H=0>"
      ]
     },
     "execution_count": 2,
     "metadata": {},
     "output_type": "execute_result"
    }
   ],
   "source": [
    "# PH957\n",
    "vlim = None\n",
    "dla = DLASystem(('01:03:11.38','+13:16:16.7'), 2.309, vlim, 21.37, sig_NHI=[0.08,0.08])\n",
    "dla"
   ]
  },
  {
   "cell_type": "code",
   "execution_count": 3,
   "metadata": {
    "collapsed": false
   },
   "outputs": [
    {
     "name": "stdout",
     "output_type": "stream",
     "text": [
      "Wrote J010311.38+131616.7_z2.309 system to J010311.38+131616.7_z2.309.json file\n"
     ]
    }
   ],
   "source": [
    "# Write\n",
    "dla.write_json()"
   ]
  },
  {
   "cell_type": "markdown",
   "metadata": {},
   "source": [
    "## 2. AbsKin GUI for Line IDs\n",
    "\n",
    "   * Requires xastropy for now\n",
    "   * Best run off the JSON file\n",
    "   * And from the command line\n",
    "   \n",
    "   lt_xabssys PH957_f.fits J010311.38+131616.7_z2.309.json -outfile J010311.38+131616.7_z2.309_HIRES.json\n",
    "   \n",
    "   \n",
    "   \n",
    "   * User modifies the velocity limits\n",
    "   * Identifies blends\n",
    "   * Sets upper/lower limits as desired\n",
    "   * Rejects lines that are not worth analysis"
   ]
  },
  {
   "cell_type": "code",
   "execution_count": 4,
   "metadata": {
    "collapsed": false
   },
   "outputs": [],
   "source": [
    "# Load\n",
    "json_fil = '../../pyigm/abssys/tests/files/J010311.38+131616.7_z2.309_ESI.json'\n",
    "dla = DLASystem.from_json(json_fil)"
   ]
  },
  {
   "cell_type": "markdown",
   "metadata": {},
   "source": [
    "## 3. Measure EWs and AODM columns\n",
    "    "
   ]
  },
  {
   "cell_type": "code",
   "execution_count": 5,
   "metadata": {
    "collapsed": false
   },
   "outputs": [],
   "source": [
    "# Load spectrum from linetools\n",
    "spec_fil = linetools.__path__[0]+'/spectra/tests/files/PH957_f.fits'\n",
    "spec = readspec(spec_fil)"
   ]
  },
  {
   "cell_type": "code",
   "execution_count": 6,
   "metadata": {
    "collapsed": false
   },
   "outputs": [],
   "source": [
    "# EW\n",
    "dla.measure_restew(spec=spec)"
   ]
  },
  {
   "cell_type": "code",
   "execution_count": 7,
   "metadata": {
    "collapsed": false
   },
   "outputs": [
    {
     "name": "stdout",
     "output_type": "stream",
     "text": [
      "You may now wish to update the component column densities with update_component_colm()\n"
     ]
    }
   ],
   "source": [
    "# AODM\n",
    "dla.measure_aodm(spec=spec)"
   ]
  },
  {
   "cell_type": "code",
   "execution_count": 8,
   "metadata": {
    "collapsed": false
   },
   "outputs": [
    {
     "data": {
      "text/html": [
       "&lt;Table length=30&gt;\n",
       "<table id=\"table4594445328\">\n",
       "<thead><tr><th>wrest</th><th>name</th><th>Z</th><th>ion</th><th>Ej</th><th>z</th><th>EW</th><th>sig_EW</th><th>flag_N</th><th>logN</th><th>sig_logN</th></tr></thead>\n",
       "<thead><tr><th>Angstrom</th><th></th><th></th><th></th><th>1 / cm</th><th></th><th>Angstrom</th><th>Angstrom</th><th></th><th></th><th></th></tr></thead>\n",
       "<thead><tr><th>float64</th><th>str10</th><th>int64</th><th>int64</th><th>float64</th><th>float64</th><th>float64</th><th>float64</th><th>int64</th><th>float64</th><th>float64</th></tr></thead>\n",
       "<tr><td>1656.9284</td><td>CI 1656</td><td>6</td><td>1</td><td>0.0</td><td>2.309</td><td>-0.0153520621237</td><td>0.00547148105662</td><td>3</td><td>0.0</td><td>0.154038431267</td></tr>\n",
       "<tr><td>1334.5323</td><td>CII 1334</td><td>6</td><td>2</td><td>0.0</td><td>2.309</td><td>0.477547920281</td><td>0.00431757861874</td><td>2</td><td>14.7052705466</td><td>0.0164072954838</td></tr>\n",
       "<tr><td>1335.7077</td><td>CII* 1335</td><td>6</td><td>2</td><td>63.42</td><td>2.309</td><td>0.134848109253</td><td>0.004443903355</td><td>1</td><td>13.9177304477</td><td>0.015082932929</td></tr>\n",
       "<tr><td>1548.195</td><td>CIV 1548</td><td>6</td><td>4</td><td>0.0</td><td>2.309</td><td>0.0544229111256</td><td>0.00557312487645</td><td>1</td><td>13.1525999956</td><td>0.0440273760351</td></tr>\n",
       "<tr><td>1550.77</td><td>CIV 1550</td><td>6</td><td>4</td><td>0.0</td><td>2.309</td><td>0.0296155887117</td><td>0.00537307146159</td><td>1</td><td>13.175445022</td><td>0.0786629498623</td></tr>\n",
       "<tr><td>1302.1685</td><td>OI 1302</td><td>8</td><td>1</td><td>0.0</td><td>2.309</td><td>0.555291486242</td><td>0.00428915442887</td><td>2</td><td>15.2203065348</td><td>0.022034214781</td></tr>\n",
       "<tr><td>2852.9642</td><td>MgI 2852</td><td>12</td><td>1</td><td>0.0</td><td>2.309</td><td>0.254069422268</td><td>0.0154674371474</td><td>1</td><td>12.4243209562</td><td>0.0253720541715</td></tr>\n",
       "<tr><td>2796.3543</td><td>MgII 2796</td><td>12</td><td>2</td><td>0.0</td><td>2.309</td><td>0.948237352007</td><td>0.00959382579309</td><td>2</td><td>13.691383214</td><td>0.0120288970248</td></tr>\n",
       "<tr><td>2803.5315</td><td>MgII 2803</td><td>12</td><td>2</td><td>0.0</td><td>2.309</td><td>0.869901992157</td><td>0.0101939819915</td><td>2</td><td>13.9478760668</td><td>0.00871183443821</td></tr>\n",
       "<tr><td>...</td><td>...</td><td>...</td><td>...</td><td>...</td><td>...</td><td>...</td><td>...</td><td>...</td><td>...</td><td>...</td></tr>\n",
       "<tr><td>1402.77</td><td>SiIV 1402</td><td>14</td><td>4</td><td>0.0</td><td>2.309</td><td>0.0437042248731</td><td>0.00571732899852</td><td>1</td><td>13.0129603152</td><td>0.0553546856267</td></tr>\n",
       "<tr><td>1190.203</td><td>SIII 1190</td><td>16</td><td>3</td><td>0.0</td><td>2.309</td><td>0.15911366252</td><td>0.0507061080704</td><td>3</td><td>15.1210364688</td><td>0.234305619691</td></tr>\n",
       "<tr><td>1608.4511</td><td>FeII 1608</td><td>26</td><td>2</td><td>0.0</td><td>2.309</td><td>0.268810450107</td><td>0.00572574465409</td><td>1</td><td>14.4825154597</td><td>0.00858863885929</td></tr>\n",
       "<tr><td>2344.2139</td><td>FeII 2344</td><td>26</td><td>2</td><td>0.0</td><td>2.309</td><td>0.520529699431</td><td>0.00590555845149</td><td>1</td><td>14.2463424549</td><td>0.00491278124294</td></tr>\n",
       "<tr><td>2374.4612</td><td>FeII 2374</td><td>26</td><td>2</td><td>0.0</td><td>2.309</td><td>0.42073480168</td><td>0.00750710699387</td><td>1</td><td>14.599353597</td><td>0.00758791967753</td></tr>\n",
       "<tr><td>2382.7652</td><td>FeII 2382</td><td>26</td><td>2</td><td>0.0</td><td>2.309</td><td>0.630650372952</td><td>0.00641367325076</td><td>2</td><td>13.9380420966</td><td>0.00945980040381</td></tr>\n",
       "<tr><td>2586.65</td><td>FeII 2586</td><td>26</td><td>2</td><td>0.0</td><td>2.309</td><td>0.561899298311</td><td>0.00713112092323</td><td>1</td><td>14.3577702134</td><td>0.00550257892525</td></tr>\n",
       "<tr><td>2600.1729</td><td>FeII 2600</td><td>26</td><td>2</td><td>0.0</td><td>2.309</td><td>0.703500861267</td><td>0.00666947445324</td><td>2</td><td>14.0129697871</td><td>0.00546501327951</td></tr>\n",
       "<tr><td>1741.5531</td><td>NiII 1741</td><td>28</td><td>2</td><td>0.0</td><td>2.309</td><td>0.112360481695</td><td>0.00527852114476</td><td>1</td><td>14.0235581747</td><td>0.0204659988589</td></tr>\n",
       "<tr><td>2026.137</td><td>ZnII 2026</td><td>30</td><td>2</td><td>0.0</td><td>2.309</td><td>0.0601276136355</td><td>0.00835267598136</td><td>1</td><td>12.537595745</td><td>0.0599154533309</td></tr>\n",
       "</table>"
      ],
      "text/plain": [
       "<Table length=30>\n",
       "  wrest      name     Z    ion  ... flag_N      logN         sig_logN    \n",
       " Angstrom                       ...                                      \n",
       " float64    str10   int64 int64 ... int64     float64        float64     \n",
       "--------- --------- ----- ----- ... ------ ------------- ----------------\n",
       "1656.9284   CI 1656     6     1 ...      3           0.0   0.154038431267\n",
       "1334.5323  CII 1334     6     2 ...      2 14.7052705466  0.0164072954838\n",
       "1335.7077 CII* 1335     6     2 ...      1 13.9177304477   0.015082932929\n",
       " 1548.195  CIV 1548     6     4 ...      1 13.1525999956  0.0440273760351\n",
       "  1550.77  CIV 1550     6     4 ...      1  13.175445022  0.0786629498623\n",
       "1302.1685   OI 1302     8     1 ...      2 15.2203065348   0.022034214781\n",
       "2852.9642  MgI 2852    12     1 ...      1 12.4243209562  0.0253720541715\n",
       "2796.3543 MgII 2796    12     2 ...      2  13.691383214  0.0120288970248\n",
       "2803.5315 MgII 2803    12     2 ...      2 13.9478760668 0.00871183443821\n",
       "      ...       ...   ...   ... ...    ...           ...              ...\n",
       "  1402.77 SiIV 1402    14     4 ...      1 13.0129603152  0.0553546856267\n",
       " 1190.203 SIII 1190    16     3 ...      3 15.1210364688   0.234305619691\n",
       "1608.4511 FeII 1608    26     2 ...      1 14.4825154597 0.00858863885929\n",
       "2344.2139 FeII 2344    26     2 ...      1 14.2463424549 0.00491278124294\n",
       "2374.4612 FeII 2374    26     2 ...      1  14.599353597 0.00758791967753\n",
       "2382.7652 FeII 2382    26     2 ...      2 13.9380420966 0.00945980040381\n",
       "  2586.65 FeII 2586    26     2 ...      1 14.3577702134 0.00550257892525\n",
       "2600.1729 FeII 2600    26     2 ...      2 14.0129697871 0.00546501327951\n",
       "1741.5531 NiII 1741    28     2 ...      1 14.0235581747  0.0204659988589\n",
       " 2026.137 ZnII 2026    30     2 ...      1  12.537595745  0.0599154533309"
      ]
     },
     "execution_count": 8,
     "metadata": {},
     "output_type": "execute_result"
    }
   ],
   "source": [
    "# View\n",
    "dla.fill_trans()\n",
    "dla._trans"
   ]
  },
  {
   "cell_type": "markdown",
   "metadata": {
    "collapsed": true
   },
   "source": [
    "## 4. Update Components"
   ]
  },
  {
   "cell_type": "code",
   "execution_count": 9,
   "metadata": {
    "collapsed": true
   },
   "outputs": [],
   "source": [
    "dla.update_component_colm()"
   ]
  },
  {
   "cell_type": "code",
   "execution_count": 10,
   "metadata": {
    "collapsed": true
   },
   "outputs": [],
   "source": [
    "dla.fill_ionN()"
   ]
  },
  {
   "cell_type": "code",
   "execution_count": 11,
   "metadata": {
    "collapsed": false
   },
   "outputs": [
    {
     "data": {
      "text/html": [
       "&lt;Table length=16&gt;\n",
       "<table id=\"table4593913808\">\n",
       "<thead><tr><th>Z</th><th>ion</th><th>A</th><th>Ej</th><th>z</th><th>vmin</th><th>vmax</th><th>flag_N</th><th>logN</th><th>sig_logN</th></tr></thead>\n",
       "<thead><tr><th></th><th></th><th></th><th>1 / cm</th><th></th><th>km / s</th><th>km / s</th><th></th><th></th><th></th></tr></thead>\n",
       "<thead><tr><th>int64</th><th>int64</th><th>int64</th><th>float64</th><th>float64</th><th>float64</th><th>float64</th><th>int64</th><th>float64</th><th>float64</th></tr></thead>\n",
       "<tr><td>6</td><td>1</td><td>0</td><td>0.0</td><td>2.309</td><td>-206.600206903</td><td>-44.7222752434</td><td>3</td><td>0.0</td><td>0.154038431267</td></tr>\n",
       "<tr><td>6</td><td>2</td><td>0</td><td>0.0</td><td>2.309</td><td>-206.600206903</td><td>40.8934449356</td><td>2</td><td>14.7052705466</td><td>0.0164072954838</td></tr>\n",
       "<tr><td>6</td><td>2</td><td>0</td><td>63.42</td><td>2.309</td><td>-206.600206903</td><td>-10.9257491888</td><td>1</td><td>13.9177304477</td><td>0.015082932929</td></tr>\n",
       "<tr><td>6</td><td>4</td><td>0</td><td>0.0</td><td>2.309</td><td>-206.600206903</td><td>40.8934449356</td><td>1</td><td>13.1577289847</td><td>0.0384285096556</td></tr>\n",
       "<tr><td>8</td><td>1</td><td>0</td><td>0.0</td><td>2.309</td><td>-158.105896737</td><td>40.8934449356</td><td>2</td><td>15.2203065348</td><td>0.022034214781</td></tr>\n",
       "<tr><td>12</td><td>1</td><td>0</td><td>0.0</td><td>2.309</td><td>-206.600206903</td><td>-56.5413246803</td><td>1</td><td>12.4243209562</td><td>0.0253720541715</td></tr>\n",
       "<tr><td>12</td><td>2</td><td>0</td><td>0.0</td><td>2.309</td><td>-206.600206903</td><td>40.8934449356</td><td>2</td><td>13.9478760668</td><td>0.00871183443821</td></tr>\n",
       "<tr><td>13</td><td>2</td><td>0</td><td>0.0</td><td>2.309</td><td>-206.600206903</td><td>40.8934449356</td><td>1</td><td>13.207256792</td><td>0.00591161845065</td></tr>\n",
       "<tr><td>13</td><td>3</td><td>0</td><td>0.0</td><td>2.309</td><td>-206.600206903</td><td>40.8934449356</td><td>1</td><td>12.577297733</td><td>0.0358523115724</td></tr>\n",
       "<tr><td>14</td><td>2</td><td>0</td><td>0.0</td><td>2.309</td><td>-206.600206903</td><td>40.8934449356</td><td>1</td><td>15.3158692552</td><td>0.0255411728835</td></tr>\n",
       "<tr><td>14</td><td>2</td><td>0</td><td>287.24</td><td>2.309</td><td>-206.600206903</td><td>40.8934449356</td><td>1</td><td>12.2246363594</td><td>0.144176081095</td></tr>\n",
       "<tr><td>14</td><td>4</td><td>0</td><td>0.0</td><td>2.309</td><td>-206.600206903</td><td>40.8934449356</td><td>1</td><td>13.0953133396</td><td>0.0202028901337</td></tr>\n",
       "<tr><td>16</td><td>3</td><td>0</td><td>0.0</td><td>2.309</td><td>-206.600206903</td><td>40.8934449356</td><td>3</td><td>15.1210364688</td><td>0.234305619691</td></tr>\n",
       "<tr><td>26</td><td>2</td><td>0</td><td>0.0</td><td>2.309</td><td>-206.600206903</td><td>40.8934449356</td><td>1</td><td>14.3230726274</td><td>0.00318602578944</td></tr>\n",
       "<tr><td>28</td><td>2</td><td>0</td><td>0.0</td><td>2.309</td><td>-206.600206903</td><td>40.8934449356</td><td>1</td><td>14.0235581747</td><td>0.0204659988589</td></tr>\n",
       "<tr><td>30</td><td>2</td><td>0</td><td>0.0</td><td>2.309</td><td>-206.600206903</td><td>40.8934449356</td><td>1</td><td>12.537595745</td><td>0.0599154533309</td></tr>\n",
       "</table>"
      ],
      "text/plain": [
       "<Table length=16>\n",
       "  Z    ion    A      Ej   ... flag_N      logN         sig_logN    \n",
       "                   1 / cm ...                                      \n",
       "int64 int64 int64 float64 ... int64     float64        float64     \n",
       "----- ----- ----- ------- ... ------ ------------- ----------------\n",
       "    6     1     0     0.0 ...      3           0.0   0.154038431267\n",
       "    6     2     0     0.0 ...      2 14.7052705466  0.0164072954838\n",
       "    6     2     0   63.42 ...      1 13.9177304477   0.015082932929\n",
       "    6     4     0     0.0 ...      1 13.1577289847  0.0384285096556\n",
       "    8     1     0     0.0 ...      2 15.2203065348   0.022034214781\n",
       "   12     1     0     0.0 ...      1 12.4243209562  0.0253720541715\n",
       "   12     2     0     0.0 ...      2 13.9478760668 0.00871183443821\n",
       "   13     2     0     0.0 ...      1  13.207256792 0.00591161845065\n",
       "   13     3     0     0.0 ...      1  12.577297733  0.0358523115724\n",
       "   14     2     0     0.0 ...      1 15.3158692552  0.0255411728835\n",
       "   14     2     0  287.24 ...      1 12.2246363594   0.144176081095\n",
       "   14     4     0     0.0 ...      1 13.0953133396  0.0202028901337\n",
       "   16     3     0     0.0 ...      3 15.1210364688   0.234305619691\n",
       "   26     2     0     0.0 ...      1 14.3230726274 0.00318602578944\n",
       "   28     2     0     0.0 ...      1 14.0235581747  0.0204659988589\n",
       "   30     2     0     0.0 ...      1  12.537595745  0.0599154533309"
      ]
     },
     "execution_count": 11,
     "metadata": {},
     "output_type": "execute_result"
    }
   ],
   "source": [
    "dla._ionN"
   ]
  },
  {
   "cell_type": "markdown",
   "metadata": {},
   "source": [
    "## 5. Relative Abundances (relative to Solar)"
   ]
  },
  {
   "cell_type": "code",
   "execution_count": 12,
   "metadata": {
    "collapsed": false
   },
   "outputs": [
    {
     "name": "stdout",
     "output_type": "stream",
     "text": [
      "Loading abundances from Asplund2009\n",
      "Abundances are relative by number on a logarithmic scale with H=12\n"
     ]
    }
   ],
   "source": [
    "dla.XY = RelAbund.from_ionclm_table((1,dla.NHI, dla.sig_NHI[0]), dla._ionN)"
   ]
  },
  {
   "cell_type": "code",
   "execution_count": 13,
   "metadata": {
    "collapsed": false
   },
   "outputs": [
    {
     "data": {
      "text/plain": [
       "u'Hydrogen'"
      ]
     },
     "execution_count": 13,
     "metadata": {},
     "output_type": "execute_result"
    }
   ],
   "source": [
    "dla.XY.elements['H'].name"
   ]
  },
  {
   "cell_type": "code",
   "execution_count": 14,
   "metadata": {
    "collapsed": false
   },
   "outputs": [
    {
     "data": {
      "text/html": [
       "&lt;Table length=8&gt;\n",
       "<table id=\"table4390187600\">\n",
       "<thead><tr><th>Z</th><th>Name</th><th>flag</th><th>[X/H]</th><th>sig([X/H])</th></tr></thead>\n",
       "<thead><tr><th>int64</th><th>unicode2</th><th>int64</th><th>float64</th><th>float64</th></tr></thead>\n",
       "<tr><td>6</td><td>C</td><td>2</td><td>-3.09472945341</td><td>0.0164072954838</td></tr>\n",
       "<tr><td>8</td><td>O</td><td>2</td><td>-2.83969346524</td><td>0.022034214781</td></tr>\n",
       "<tr><td>12</td><td>Mg</td><td>2</td><td>-2.95212393322</td><td>0.00871183443821</td></tr>\n",
       "<tr><td>13</td><td>Al</td><td>1</td><td>-2.59274320801</td><td>0.00591161845065</td></tr>\n",
       "<tr><td>14</td><td>Si</td><td>1</td><td>-1.56413074476</td><td>0.0255411728835</td></tr>\n",
       "<tr><td>26</td><td>Fe</td><td>1</td><td>-2.49692737255</td><td>0.00318602578944</td></tr>\n",
       "<tr><td>28</td><td>Ni</td><td>1</td><td>-1.54644182533</td><td>0.0204659988589</td></tr>\n",
       "<tr><td>30</td><td>Zn</td><td>1</td><td>-1.46240425503</td><td>0.0599154533309</td></tr>\n",
       "</table>"
      ],
      "text/plain": [
       "<Table length=8>\n",
       "  Z     Name    flag     [X/H]         sig([X/H])   \n",
       "int64 unicode2 int64    float64         float64     \n",
       "----- -------- ----- -------------- ----------------\n",
       "    6        C     2 -3.09472945341  0.0164072954838\n",
       "    8        O     2 -2.83969346524   0.022034214781\n",
       "   12       Mg     2 -2.95212393322 0.00871183443821\n",
       "   13       Al     1 -2.59274320801 0.00591161845065\n",
       "   14       Si     1 -1.56413074476  0.0255411728835\n",
       "   26       Fe     1 -2.49692737255 0.00318602578944\n",
       "   28       Ni     1 -1.54644182533  0.0204659988589\n",
       "   30       Zn     1 -1.46240425503  0.0599154533309"
      ]
     },
     "execution_count": 14,
     "metadata": {},
     "output_type": "execute_result"
    }
   ],
   "source": [
    "dla.XY.table()"
   ]
  },
  {
   "cell_type": "code",
   "execution_count": 15,
   "metadata": {
    "collapsed": false
   },
   "outputs": [
    {
     "data": {
      "text/html": [
       "&lt;Table length=7&gt;\n",
       "<table id=\"table4595991760\">\n",
       "<thead><tr><th>Z</th><th>Name</th><th>flag</th><th>[X/Fe]</th><th>sig([X/Fe])</th></tr></thead>\n",
       "<thead><tr><th>int64</th><th>unicode2</th><th>int64</th><th>float64</th><th>float64</th></tr></thead>\n",
       "<tr><td>6</td><td>C</td><td>2</td><td>-0.59780208086</td><td>0.0167137699345</td></tr>\n",
       "<tr><td>8</td><td>O</td><td>2</td><td>-0.342766092684</td><td>0.0222633641066</td></tr>\n",
       "<tr><td>12</td><td>Mg</td><td>2</td><td>-0.455196560666</td><td>0.0092761424962</td></tr>\n",
       "<tr><td>13</td><td>Al</td><td>1</td><td>-0.0958158354613</td><td>0.00671550393024</td></tr>\n",
       "<tr><td>14</td><td>Si</td><td>1</td><td>0.93279662779</td><td>0.0257391194993</td></tr>\n",
       "<tr><td>28</td><td>Ni</td><td>1</td><td>0.950485547222</td><td>0.0207125051509</td></tr>\n",
       "<tr><td>30</td><td>Zn</td><td>1</td><td>1.03452311752</td><td>0.0600001025681</td></tr>\n",
       "</table>"
      ],
      "text/plain": [
       "<Table length=7>\n",
       "  Z     Name    flag      [X/Fe]        sig([X/Fe])   \n",
       "int64 unicode2 int64     float64          float64     \n",
       "----- -------- ----- ---------------- ----------------\n",
       "    6        C     2   -0.59780208086  0.0167137699345\n",
       "    8        O     2  -0.342766092684  0.0222633641066\n",
       "   12       Mg     2  -0.455196560666  0.0092761424962\n",
       "   13       Al     1 -0.0958158354613 0.00671550393024\n",
       "   14       Si     1    0.93279662779  0.0257391194993\n",
       "   28       Ni     1   0.950485547222  0.0207125051509\n",
       "   30       Zn     1    1.03452311752  0.0600001025681"
      ]
     },
     "execution_count": 15,
     "metadata": {},
     "output_type": "execute_result"
    }
   ],
   "source": [
    "dla.XY.table('Fe')"
   ]
  },
  {
   "cell_type": "code",
   "execution_count": null,
   "metadata": {
    "collapsed": true
   },
   "outputs": [],
   "source": []
  }
 ],
 "metadata": {
  "kernelspec": {
   "display_name": "Python 2",
   "language": "python",
   "name": "python2"
  },
  "language_info": {
   "codemirror_mode": {
    "name": "ipython",
    "version": 2
   },
   "file_extension": ".py",
   "mimetype": "text/x-python",
   "name": "python",
   "nbconvert_exporter": "python",
   "pygments_lexer": "ipython2",
   "version": "2.7.11"
  }
 },
 "nbformat": 4,
 "nbformat_minor": 0
}
