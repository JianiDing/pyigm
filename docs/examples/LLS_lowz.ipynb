{
 "cells": [
  {
   "cell_type": "markdown",
   "metadata": {},
   "source": [
    "# Low z LLS (Lehner+13, Wotta+16)"
   ]
  },
  {
   "cell_type": "code",
   "execution_count": 20,
   "metadata": {
    "collapsed": true
   },
   "outputs": [],
   "source": [
    "# imports\n",
    "from scipy.io import readsav\n",
    "\n",
    "import pyigm\n",
    "from pyigm.abssys.lls import LLSSystem\n",
    "from pyigm.surveys.llssurvey import LLSSurvey\n",
    "pyigm_path = pyigm.__path__[0]\n",
    "from pyigm.surveys import utils as pyiu\n"
   ]
  },
  {
   "cell_type": "markdown",
   "metadata": {},
   "source": [
    "## Lehner+13"
   ]
  },
  {
   "cell_type": "markdown",
   "metadata": {},
   "source": [
    "### Metals\n",
    "\n",
    "From\n",
    "http://iopscience.iop.org/0004-637X/770/2/138/suppdata/apj472363t2_mrt.txt"
   ]
  },
  {
   "cell_type": "markdown",
   "metadata": {},
   "source": [
    "### Metallicity"
   ]
  },
  {
   "cell_type": "code",
   "execution_count": 2,
   "metadata": {
    "collapsed": true
   },
   "outputs": [],
   "source": [
    "l13w16 = readsav(pyigm_path+'/data/LLS/Literature/wotta16_final.save')"
   ]
  },
  {
   "cell_type": "markdown",
   "metadata": {},
   "source": [
    "### RA/DEC"
   ]
  },
  {
   "cell_type": "code",
   "execution_count": 3,
   "metadata": {
    "collapsed": true
   },
   "outputs": [],
   "source": [
    "l13_radec = {'J0943+0531': 'J094331.61+053131.4', \n",
    "             'J1419+4207': 'J141910.20+420746.9', \n",
    "             'J1435+3604': 'J143511.53+360437.2', \n",
    "             'PG1116+215': 'J111908.67+211918.0',\n",
    "             'PG1522+101': 'J152424.52+095829.1', \n",
    "             'PG1338+416': 'J134100.78+412314.0', \n",
    "             'HE0439-5254': 'J044012.04-524817.65',        \n",
    "             'PG1407+265': 'J140923.91+261821.1', \n",
    "             'PG1216+069': 'J121920.92+063838.5', \n",
    "             'PKS0405-123': 'J040748.44-121136.7',\n",
    "             'J1619+3342': 'J161916.54+334238.4', \n",
    "             'PKS0637-752': 'J063546.51-751616.7', \n",
    "             'SBS1122+594': 'J112553.79+591021.5',\n",
    "             'HE0153-4520': 'J015513.22-450611.6', \n",
    "             'PHL1377': 'J023507.34-040205.3', \n",
    "             'PKS0552-640': 'J055224.51-640210.8',\n",
    "             'PG1630+377': 'J163201.11+373750.0', \n",
    "             'PKS1302-102': 'J130533.01-103319.4', \n",
    "             'PG1206+459': 'J120858.00+454035.4', \n",
    "             'PG1634+706': 'J163428.99+703132.4'}"
   ]
  },
  {
   "cell_type": "markdown",
   "metadata": {},
   "source": [
    "### $z_{\\rm em}$"
   ]
  },
  {
   "cell_type": "code",
   "execution_count": 4,
   "metadata": {
    "collapsed": false
   },
   "outputs": [],
   "source": [
    "l13_zem =  {'J0943+0531': 0.56449,\n",
    "             'J1419+4207': 0.87350,\n",
    "             'J1435+3604': 0.42860,\n",
    "             'PG1116+215': 0.17650,\n",
    "             'PG1522+101': 1.32825,\n",
    "             'PG1338+416': 1.21420,\n",
    "             'HE0439-5254': 1.05300,\n",
    "             'PG1407+265': 0.94,\n",
    "             'PG1216+069': 0.3313,\n",
    "             'PKS0405-123': 0.5726,\n",
    "             'J1619+3342': 0.47093,\n",
    "             'PKS0637-752': 0.651,\n",
    "             'SBS1122+594': 0.85242, \n",
    "             'HE0153-4520': 0.451,\n",
    "             'PHL1377': 1.4398,\n",
    "             'PKS0552-640': 0.680,\n",
    "             'PG1630+377': 1.47465,\n",
    "             'PKS1302-102': 0.2784,\n",
    "             'PG1206+459': 1.16200,\n",
    "             'PG1634+706': 1.337 }"
   ]
  },
  {
   "cell_type": "code",
   "execution_count": 5,
   "metadata": {
    "collapsed": false
   },
   "outputs": [
    {
     "data": {
      "text/plain": [
       "array([ 0.35420001,  0.42559999,  0.38780001,  0.13850001,  0.51849997,\n",
       "        0.3488    ,  0.6153    ,  0.53460002,  0.68279999,  0.28889999,\n",
       "        0.2823    ,  0.1672    ,  0.68650001,  0.2694    ,  0.46849999,\n",
       "        0.55739999,  0.2261    ,  0.373     ,  0.72920001,  0.7392    ,\n",
       "        0.34509999,  0.27399999,  0.0985    ,  0.92699999,  1.03999996], dtype=float32)"
      ]
     },
     "execution_count": 5,
     "metadata": {},
     "output_type": "execute_result"
    }
   ],
   "source": [
    "l13w16['znl']"
   ]
  },
  {
   "cell_type": "markdown",
   "metadata": {},
   "source": [
    "### Build the systems"
   ]
  },
  {
   "cell_type": "code",
   "execution_count": 6,
   "metadata": {
    "collapsed": false
   },
   "outputs": [],
   "source": [
    "L13_lls = []\n",
    "for ii,qso in enumerate(l13w16['sightlinenl']):\n",
    "    # init\n",
    "    lls = LLSSystem(radec=l13_radec[qso],zem=l13_zem[qso],\n",
    "                    zabs=l13w16['znl'][ii],NHI=l13w16['nhinl'][ii],\n",
    "                    sig_NHI=l13w16['enhinl'][ii], \n",
    "                    vlim=[-500,500]*u.km/u.s)\n",
    "    # Metallicity\n",
    "    lls.ZH = l13w16['metnl'][ii]\n",
    "    lls.sig_ZH = (l13w16['em_metnl'][ii], l13w16['ep_metnl'][ii])\n",
    "    # Append\n",
    "    L13_lls.append(lls)"
   ]
  },
  {
   "cell_type": "markdown",
   "metadata": {},
   "source": [
    "### Finish"
   ]
  },
  {
   "cell_type": "code",
   "execution_count": 7,
   "metadata": {
    "collapsed": true
   },
   "outputs": [],
   "source": [
    "L13 = LLSSurvey()\n",
    "L13._abs_sys = L13_lls"
   ]
  },
  {
   "cell_type": "code",
   "execution_count": 8,
   "metadata": {
    "collapsed": false
   },
   "outputs": [
    {
     "data": {
      "text/plain": [
       "array([-1.29999995, -1.39999998, -1.39999998, -0.5       , -0.40000001,\n",
       "       -0.75      , -0.30000001, -0.2       , -1.79999995, -0.64999998,\n",
       "       -1.64999998,  0.1       ,  0.1       , -1.60000002, -0.40000001,\n",
       "       -1.04999995, -0.80000001, -1.85000002, -2.        , -1.45000005,\n",
       "       -1.60000002, -1.71000004, -1.60000002,  0.30000001, -1.39999998], dtype=float32)"
      ]
     },
     "execution_count": 8,
     "metadata": {},
     "output_type": "execute_result"
    }
   ],
   "source": [
    "L13.ZH"
   ]
  },
  {
   "cell_type": "markdown",
   "metadata": {},
   "source": [
    "## Wotta+16"
   ]
  },
  {
   "cell_type": "markdown",
   "metadata": {},
   "source": [
    "### Big Table"
   ]
  },
  {
   "cell_type": "code",
   "execution_count": 9,
   "metadata": {
    "collapsed": false
   },
   "outputs": [],
   "source": [
    "w16_mtl = Table.read(pyigm_path+'/data/LLS/Literature/wotta16_metallicities.ascii',format='ascii', guess=False)"
   ]
  },
  {
   "cell_type": "code",
   "execution_count": 10,
   "metadata": {
    "collapsed": false
   },
   "outputs": [
    {
     "data": {
      "text/html": [
       "&lt;Table length=5&gt;\n",
       "<table id=\"table4623547920\">\n",
       "<thead><tr><th>Target</th><th>z_em</th><th>RA</th><th>DEC</th><th>z_abs</th><th>logNHI</th><th>elogNHI</th><th>logNMgII</th><th>ep_logNMgII</th><th>em_logNMgII</th><th>[X/H]</th><th>ep_[X/H]</th><th>em_[X/H]</th><th>68%[X/H]_low</th><th>68%[X/H]_high</th><th>95%[X/H]_low</th><th>95%[X/H]_high</th></tr></thead>\n",
       "<thead><tr><th>str11</th><th>float64</th><th>str12</th><th>str11</th><th>float64</th><th>float64</th><th>float64</th><th>str5</th><th>float64</th><th>float64</th><th>float64</th><th>float64</th><th>float64</th><th>str7</th><th>str7</th><th>str7</th><th>str7</th></tr></thead>\n",
       "<tr><td>J0800+4212</td><td>0.99407</td><td>+08:00:03.90</td><td>+42:12:53.2</td><td>0.598</td><td>16.95</td><td>0.2</td><td>11.75</td><td>0.17</td><td>0.3</td><td>-1.99</td><td>0.3</td><td>0.3</td><td>-2.13</td><td>-1.85</td><td>-2.24</td><td>-1.62</td></tr>\n",
       "<tr><td>J0804+2743</td><td>1.21924</td><td>+08:04:24.97</td><td>+27:43:23.2</td><td>0.9106</td><td>17.45</td><td>0.1</td><td>12.27</td><td>0.06</td><td>0.08</td><td>-1.96</td><td>0.13</td><td>0.13</td><td>-2.12</td><td>-1.79</td><td>-2.24</td><td>-1.52</td></tr>\n",
       "<tr><td>J0806+1442</td><td>1.21268</td><td>+08:06:30.30</td><td>+14:42:42.4</td><td>1.0943</td><td>17.4</td><td>0.2</td><td>13.51</td><td>1.0</td><td>1.0</td><td>-0.64</td><td>1.0</td><td>1.0</td><td>&gt;-0.80</td><td>\\nodata</td><td>&gt;-0.92</td><td>\\nodata</td></tr>\n",
       "<tr><td>J0806+1442</td><td>1.21268</td><td>+08:06:30.30</td><td>+14:42:42.4</td><td>0.9238</td><td>17.2</td><td>0.2</td><td>12.57</td><td>0.09</td><td>0.09</td><td>-1.4</td><td>0.22</td><td>0.22</td><td>-1.55</td><td>-1.26</td><td>-1.66</td><td>-1.01</td></tr>\n",
       "<tr><td>J0810+5025</td><td>1.20573</td><td>+08:10:02.69</td><td>+50:25:38.7</td><td>0.65</td><td>16.82</td><td>0.15</td><td>11.75</td><td>-1.0</td><td>-1.0</td><td>-1.81</td><td>-1.0</td><td>-1.0</td><td>\\nodata</td><td>&lt;-1.67</td><td>\\nodata</td><td>&lt;-1.43</td></tr>\n",
       "</table>"
      ],
      "text/plain": [
       "<Table length=5>\n",
       "  Target     z_em       RA      ... 68%[X/H]_high 95%[X/H]_low 95%[X/H]_high\n",
       "  str11    float64    str12     ...      str7         str7          str7    \n",
       "---------- ------- ------------ ... ------------- ------------ -------------\n",
       "J0800+4212 0.99407 +08:00:03.90 ...         -1.85        -2.24         -1.62\n",
       "J0804+2743 1.21924 +08:04:24.97 ...         -1.79        -2.24         -1.52\n",
       "J0806+1442 1.21268 +08:06:30.30 ...       \\nodata       >-0.92       \\nodata\n",
       "J0806+1442 1.21268 +08:06:30.30 ...         -1.26        -1.66         -1.01\n",
       "J0810+5025 1.20573 +08:10:02.69 ...        <-1.67      \\nodata        <-1.43"
      ]
     },
     "execution_count": 10,
     "metadata": {},
     "output_type": "execute_result"
    }
   ],
   "source": [
    "w16_mtl[0:5]"
   ]
  },
  {
   "cell_type": "code",
   "execution_count": 11,
   "metadata": {
    "collapsed": false
   },
   "outputs": [],
   "source": [
    "w16_lls = []\n",
    "for ii,row in enumerate(w16_mtl):\n",
    "    # L13?\n",
    "    if ':' not in row['RA']:\n",
    "        continue\n",
    "    # init\n",
    "    lls = LLSSystem(radec=(row['RA']+row['DEC']),zem=row['z_em'],\n",
    "                    zabs=row['z_abs'],NHI=row['logNHI'],\n",
    "                    sig_NHI=row['elogNHI'],\n",
    "                    vlim=[-500,500]*u.km/u.s)\n",
    "    # Metallicity\n",
    "    lls.ZH = row['[X/H]']\n",
    "    lls.sig_ZH = (row['em_[X/H]'], row['ep_[X/H]'])\n",
    "    # Append\n",
    "    w16_lls.append(lls)"
   ]
  },
  {
   "cell_type": "code",
   "execution_count": 12,
   "metadata": {
    "collapsed": true
   },
   "outputs": [],
   "source": [
    "W16 = LLSSurvey()\n",
    "W16._abs_sys = w16_lls"
   ]
  },
  {
   "cell_type": "code",
   "execution_count": 13,
   "metadata": {
    "collapsed": false
   },
   "outputs": [
    {
     "data": {
      "text/plain": [
       "array([-1.99, -1.96, -0.64, -1.4 , -1.81, -0.73, -0.39, -1.08, -1.56,\n",
       "       -0.17, -1.31, -1.33, -1.12, -0.85, -0.52, -0.92, -0.41, -1.27,\n",
       "       -2.48, -0.49, -0.44, -1.92, -0.72, -1.79, -1.65, -1.77, -0.23,\n",
       "       -1.6 , -0.48, -1.66])"
      ]
     },
     "execution_count": 13,
     "metadata": {},
     "output_type": "execute_result"
    }
   ],
   "source": [
    "W16.ZH"
   ]
  },
  {
   "cell_type": "markdown",
   "metadata": {},
   "source": [
    "## Some fun"
   ]
  },
  {
   "cell_type": "code",
   "execution_count": 14,
   "metadata": {
    "collapsed": false
   },
   "outputs": [
    {
     "data": {
      "text/html": [
       "\n",
       "    <div class=\"bk-banner\">\n",
       "        <a href=\"http://bokeh.pydata.org\" target=\"_blank\" class=\"bk-logo bk-logo-small bk-logo-notebook\"></a>\n",
       "        <span id=\"8134848b-8c4e-4b9e-bf38-0a0a0206d876\">Loading BokehJS ...</span>\n",
       "    </div>"
      ]
     },
     "metadata": {},
     "output_type": "display_data"
    },
    {
     "data": {
      "application/javascript": [
       "\n",
       "(function(global) {\n",
       "  function now() {\n",
       "    return new Date();\n",
       "  }\n",
       "\n",
       "  if (typeof (window._bokeh_onload_callbacks) === \"undefined\") {\n",
       "    window._bokeh_onload_callbacks = [];\n",
       "  }\n",
       "\n",
       "  function run_callbacks() {\n",
       "    window._bokeh_onload_callbacks.forEach(function(callback) { callback() });\n",
       "    delete window._bokeh_onload_callbacks\n",
       "    console.info(\"Bokeh: all callbacks have finished\");\n",
       "  }\n",
       "\n",
       "  function load_libs(js_urls, callback) {\n",
       "    window._bokeh_onload_callbacks.push(callback);\n",
       "    if (window._bokeh_is_loading > 0) {\n",
       "      console.log(\"Bokeh: BokehJS is being loaded, scheduling callback at\", now());\n",
       "      return null;\n",
       "    }\n",
       "    if (js_urls == null || js_urls.length === 0) {\n",
       "      run_callbacks();\n",
       "      return null;\n",
       "    }\n",
       "    console.log(\"Bokeh: BokehJS not loaded, scheduling load and callback at\", now());\n",
       "    window._bokeh_is_loading = js_urls.length;\n",
       "    for (var i = 0; i < js_urls.length; i++) {\n",
       "      var url = js_urls[i];\n",
       "      var s = document.createElement('script');\n",
       "      s.src = url;\n",
       "      s.async = false;\n",
       "      s.onreadystatechange = s.onload = function() {\n",
       "        window._bokeh_is_loading--;\n",
       "        if (window._bokeh_is_loading === 0) {\n",
       "          console.log(\"Bokeh: all BokehJS libraries loaded\");\n",
       "          run_callbacks()\n",
       "        }\n",
       "      };\n",
       "      s.onerror = function() {\n",
       "        console.warn(\"failed to load library \" + url);\n",
       "      };\n",
       "      console.log(\"Bokeh: injecting script tag for BokehJS library: \", url);\n",
       "      document.getElementsByTagName(\"head\")[0].appendChild(s);\n",
       "    }\n",
       "  };\n",
       "\n",
       "  var js_urls = ['https://cdn.pydata.org/bokeh/release/bokeh-0.11.1.min.js', 'https://cdn.pydata.org/bokeh/release/bokeh-widgets-0.11.1.min.js', 'https://cdn.pydata.org/bokeh/release/bokeh-compiler-0.11.1.min.js'];\n",
       "\n",
       "  var inline_js = [\n",
       "    function(Bokeh) {\n",
       "      Bokeh.set_log_level(\"info\");\n",
       "    },\n",
       "    \n",
       "    function(Bokeh) {\n",
       "      Bokeh.$(\"#8134848b-8c4e-4b9e-bf38-0a0a0206d876\").text(\"BokehJS successfully loaded\");\n",
       "    },\n",
       "    function(Bokeh) {\n",
       "      console.log(\"Bokeh: injecting CSS: https://cdn.pydata.org/bokeh/release/bokeh-0.11.1.min.css\");\n",
       "      Bokeh.embed.inject_css(\"https://cdn.pydata.org/bokeh/release/bokeh-0.11.1.min.css\");\n",
       "      console.log(\"Bokeh: injecting CSS: https://cdn.pydata.org/bokeh/release/bokeh-widgets-0.11.1.min.css\");\n",
       "      Bokeh.embed.inject_css(\"https://cdn.pydata.org/bokeh/release/bokeh-widgets-0.11.1.min.css\");\n",
       "    }\n",
       "  ];\n",
       "\n",
       "  function run_inline_js() {\n",
       "    for (var i = 0; i < inline_js.length; i++) {\n",
       "      inline_js[i](window.Bokeh);\n",
       "    }\n",
       "  }\n",
       "\n",
       "  if (window._bokeh_is_loading === 0) {\n",
       "    console.log(\"Bokeh: BokehJS loaded, going straight to plotting\");\n",
       "    run_inline_js();\n",
       "  } else {\n",
       "    load_libs(js_urls, function() {\n",
       "      console.log(\"Bokeh: BokehJS plotting callback run at\", now());\n",
       "      run_inline_js();\n",
       "    });\n",
       "  }\n",
       "}(this));"
      ]
     },
     "metadata": {},
     "output_type": "display_data"
    }
   ],
   "source": [
    "from bokeh.io import output_notebook, show, hplot, output_file\n",
    "from bokeh.plotting import figure\n",
    "from bokeh.models import Range1d\n",
    "\n",
    "output_notebook()"
   ]
  },
  {
   "cell_type": "markdown",
   "metadata": {},
   "source": [
    "### NHI"
   ]
  },
  {
   "cell_type": "code",
   "execution_count": 15,
   "metadata": {
    "collapsed": false
   },
   "outputs": [
    {
     "data": {
      "text/html": [
       "\n",
       "\n",
       "    <div class=\"plotdiv\" id=\"4dab45c1-ed38-47b2-859d-92379e23916c\"></div>\n",
       "<script type=\"text/javascript\">\n",
       "  \n",
       "  (function(global) {\n",
       "    function now() {\n",
       "      return new Date();\n",
       "    }\n",
       "  \n",
       "    if (typeof (window._bokeh_onload_callbacks) === \"undefined\") {\n",
       "      window._bokeh_onload_callbacks = [];\n",
       "    }\n",
       "  \n",
       "    function run_callbacks() {\n",
       "      window._bokeh_onload_callbacks.forEach(function(callback) { callback() });\n",
       "      delete window._bokeh_onload_callbacks\n",
       "      console.info(\"Bokeh: all callbacks have finished\");\n",
       "    }\n",
       "  \n",
       "    function load_libs(js_urls, callback) {\n",
       "      window._bokeh_onload_callbacks.push(callback);\n",
       "      if (window._bokeh_is_loading > 0) {\n",
       "        console.log(\"Bokeh: BokehJS is being loaded, scheduling callback at\", now());\n",
       "        return null;\n",
       "      }\n",
       "      if (js_urls == null || js_urls.length === 0) {\n",
       "        run_callbacks();\n",
       "        return null;\n",
       "      }\n",
       "      console.log(\"Bokeh: BokehJS not loaded, scheduling load and callback at\", now());\n",
       "      window._bokeh_is_loading = js_urls.length;\n",
       "      for (var i = 0; i < js_urls.length; i++) {\n",
       "        var url = js_urls[i];\n",
       "        var s = document.createElement('script');\n",
       "        s.src = url;\n",
       "        s.async = false;\n",
       "        s.onreadystatechange = s.onload = function() {\n",
       "          window._bokeh_is_loading--;\n",
       "          if (window._bokeh_is_loading === 0) {\n",
       "            console.log(\"Bokeh: all BokehJS libraries loaded\");\n",
       "            run_callbacks()\n",
       "          }\n",
       "        };\n",
       "        s.onerror = function() {\n",
       "          console.warn(\"failed to load library \" + url);\n",
       "        };\n",
       "        console.log(\"Bokeh: injecting script tag for BokehJS library: \", url);\n",
       "        document.getElementsByTagName(\"head\")[0].appendChild(s);\n",
       "      }\n",
       "    };var element = document.getElementById(\"4dab45c1-ed38-47b2-859d-92379e23916c\");\n",
       "    if (element == null) {\n",
       "      console.log(\"Bokeh: ERROR: autoload.js configured with elementid '4dab45c1-ed38-47b2-859d-92379e23916c' but no matching script tag was found. \")\n",
       "      return false;\n",
       "    }\n",
       "  \n",
       "    var js_urls = [];\n",
       "  \n",
       "    var inline_js = [\n",
       "      function(Bokeh) {\n",
       "        Bokeh.$(function() {\n",
       "            var docs_json = {\"4cb1ac56-0697-4959-9f6d-d4771c486172\":{\"roots\":{\"references\":[{\"attributes\":{\"plot\":{\"id\":\"f6630c4a-5a2c-433a-9f27-3a3e68dcf223\",\"subtype\":\"Figure\",\"type\":\"Plot\"}},\"id\":\"07d2d5ca-839d-439a-b7f1-79943cae59e3\",\"type\":\"HelpTool\"},{\"attributes\":{\"formatter\":{\"id\":\"82b13def-840f-4073-ae02-cc990dec9663\",\"type\":\"BasicTickFormatter\"},\"plot\":{\"id\":\"f6630c4a-5a2c-433a-9f27-3a3e68dcf223\",\"subtype\":\"Figure\",\"type\":\"Plot\"},\"ticker\":{\"id\":\"65917571-2a5c-414a-a31f-5fdeda2b93a6\",\"type\":\"BasicTicker\"}},\"id\":\"07409f6c-0eb7-4d5c-b5ec-0fd52fcf4cdf\",\"type\":\"LinearAxis\"},{\"attributes\":{\"callback\":null},\"id\":\"1eab3225-6da9-4db5-98a2-2f61802bc721\",\"type\":\"DataRange1d\"},{\"attributes\":{\"bottom\":{\"value\":0},\"fill_alpha\":{\"value\":0.1},\"fill_color\":{\"value\":\"#1f77b4\"},\"left\":{\"field\":\"left\"},\"line_alpha\":{\"value\":0.1},\"line_color\":{\"value\":\"#1f77b4\"},\"right\":{\"field\":\"right\"},\"top\":{\"field\":\"top\"}},\"id\":\"5c2caf3d-dee2-4979-a0f6-f4aa6e985585\",\"type\":\"Quad\"},{\"attributes\":{\"bottom\":{\"value\":0},\"fill_alpha\":{\"value\":0.1},\"fill_color\":{\"value\":\"#1f77b4\"},\"left\":{\"field\":\"left\"},\"line_alpha\":{\"value\":0.1},\"line_color\":{\"value\":\"#1f77b4\"},\"right\":{\"field\":\"right\"},\"top\":{\"field\":\"top\"}},\"id\":\"df29f3d7-1934-4a21-a5a9-7c62e6a725aa\",\"type\":\"Quad\"},{\"attributes\":{},\"id\":\"61113f3f-8f35-4754-9e1a-ef40927fd7cf\",\"type\":\"BasicTickFormatter\"},{\"attributes\":{\"bottom\":{\"value\":0},\"fill_color\":{\"value\":\"red\"},\"left\":{\"field\":\"left\"},\"line_color\":{\"value\":\"#1f77b4\"},\"right\":{\"field\":\"right\"},\"top\":{\"field\":\"top\"}},\"id\":\"56e494f0-c2b2-466b-92ce-345c3b699427\",\"type\":\"Quad\"},{\"attributes\":{},\"id\":\"65917571-2a5c-414a-a31f-5fdeda2b93a6\",\"type\":\"BasicTicker\"},{\"attributes\":{\"dimension\":1,\"plot\":{\"id\":\"f6630c4a-5a2c-433a-9f27-3a3e68dcf223\",\"subtype\":\"Figure\",\"type\":\"Plot\"},\"ticker\":{\"id\":\"65917571-2a5c-414a-a31f-5fdeda2b93a6\",\"type\":\"BasicTicker\"}},\"id\":\"b9ade9ee-3615-486c-9b6f-42e3e64688dc\",\"type\":\"Grid\"},{\"attributes\":{},\"id\":\"24a99ddb-6637-433e-b52a-b0e7704cc8f6\",\"type\":\"BasicTicker\"},{\"attributes\":{\"plot\":{\"id\":\"f6630c4a-5a2c-433a-9f27-3a3e68dcf223\",\"subtype\":\"Figure\",\"type\":\"Plot\"}},\"id\":\"ba57e5b4-d19e-485b-8284-97227dddb2fa\",\"type\":\"ResetTool\"},{\"attributes\":{\"plot\":{\"id\":\"f6630c4a-5a2c-433a-9f27-3a3e68dcf223\",\"subtype\":\"Figure\",\"type\":\"Plot\"}},\"id\":\"311a06fe-4601-4453-9690-04e4ba20241e\",\"type\":\"WheelZoomTool\"},{\"attributes\":{\"bottom\":{\"value\":0},\"fill_color\":{\"value\":\"blue\"},\"left\":{\"field\":\"left\"},\"line_color\":{\"value\":\"#1f77b4\"},\"right\":{\"field\":\"right\"},\"top\":{\"field\":\"top\"}},\"id\":\"b98b1d83-0d17-40f7-983f-dc67be7a8b6d\",\"type\":\"Quad\"},{\"attributes\":{\"below\":[{\"id\":\"b0038185-1fc4-4870-a01a-ceb662febc02\",\"type\":\"LinearAxis\"}],\"left\":[{\"id\":\"07409f6c-0eb7-4d5c-b5ec-0fd52fcf4cdf\",\"type\":\"LinearAxis\"}],\"plot_height\":400,\"plot_width\":400,\"renderers\":[{\"id\":\"b0038185-1fc4-4870-a01a-ceb662febc02\",\"type\":\"LinearAxis\"},{\"id\":\"d181bac7-5a6c-43ca-b6a5-f0c13b2fde50\",\"type\":\"Grid\"},{\"id\":\"07409f6c-0eb7-4d5c-b5ec-0fd52fcf4cdf\",\"type\":\"LinearAxis\"},{\"id\":\"b9ade9ee-3615-486c-9b6f-42e3e64688dc\",\"type\":\"Grid\"},{\"id\":\"3fb278ed-39af-41f7-b84c-43b17153d07e\",\"type\":\"BoxAnnotation\"},{\"id\":\"87db15fc-1b98-4ef3-babd-0e466fc75156\",\"type\":\"GlyphRenderer\"},{\"id\":\"ad133c0c-d1aa-4029-8527-48dea8fd473a\",\"type\":\"GlyphRenderer\"}],\"title\":\"L13/W16 NHI\",\"tool_events\":{\"id\":\"b1a7429a-6e18-43a5-a462-64eea2daf72b\",\"type\":\"ToolEvents\"},\"tools\":[{\"id\":\"fc51e784-dee8-4fda-b400-abc06540d571\",\"type\":\"PanTool\"},{\"id\":\"311a06fe-4601-4453-9690-04e4ba20241e\",\"type\":\"WheelZoomTool\"},{\"id\":\"eca2bf61-2005-4463-833e-60b2d82f79ae\",\"type\":\"BoxZoomTool\"},{\"id\":\"1dd6cf6c-247d-4f2e-9dea-134a0dcf5ff1\",\"type\":\"PreviewSaveTool\"},{\"id\":\"5f94bb75-0fd4-40b1-9916-ffadf1929f51\",\"type\":\"ResizeTool\"},{\"id\":\"ba57e5b4-d19e-485b-8284-97227dddb2fa\",\"type\":\"ResetTool\"},{\"id\":\"07d2d5ca-839d-439a-b7f1-79943cae59e3\",\"type\":\"HelpTool\"}],\"x_range\":{\"id\":\"1eab3225-6da9-4db5-98a2-2f61802bc721\",\"type\":\"DataRange1d\"},\"y_range\":{\"id\":\"300a7670-af02-4a5d-ba58-c8d0a34b6ec5\",\"type\":\"DataRange1d\"}},\"id\":\"f6630c4a-5a2c-433a-9f27-3a3e68dcf223\",\"subtype\":\"Figure\",\"type\":\"Plot\"},{\"attributes\":{},\"id\":\"b1a7429a-6e18-43a5-a462-64eea2daf72b\",\"type\":\"ToolEvents\"},{\"attributes\":{\"plot\":{\"id\":\"f6630c4a-5a2c-433a-9f27-3a3e68dcf223\",\"subtype\":\"Figure\",\"type\":\"Plot\"}},\"id\":\"5f94bb75-0fd4-40b1-9916-ffadf1929f51\",\"type\":\"ResizeTool\"},{\"attributes\":{\"callback\":null,\"column_names\":[\"top\",\"left\",\"right\"],\"data\":{\"left\":[15.5,15.75,16.0,16.25,16.5,16.75,17.0,17.25,17.5,17.75],\"right\":[15.75,16.0,16.25,16.5,16.75,17.0,17.25,17.5,17.75,18.0],\"top\":[0.0,0.0,0.0,0.13333333333333333,0.5333333333333333,1.7333333333333334,0.5333333333333333,0.4,0.6666666666666666,0.0]}},\"id\":\"84c7dbf3-47f5-4ea2-a123-7b778531a15f\",\"type\":\"ColumnDataSource\"},{\"attributes\":{},\"id\":\"82b13def-840f-4073-ae02-cc990dec9663\",\"type\":\"BasicTickFormatter\"},{\"attributes\":{\"data_source\":{\"id\":\"84c7dbf3-47f5-4ea2-a123-7b778531a15f\",\"type\":\"ColumnDataSource\"},\"glyph\":{\"id\":\"56e494f0-c2b2-466b-92ce-345c3b699427\",\"type\":\"Quad\"},\"hover_glyph\":null,\"nonselection_glyph\":{\"id\":\"5c2caf3d-dee2-4979-a0f6-f4aa6e985585\",\"type\":\"Quad\"},\"selection_glyph\":null},\"id\":\"ad133c0c-d1aa-4029-8527-48dea8fd473a\",\"type\":\"GlyphRenderer\"},{\"attributes\":{\"data_source\":{\"id\":\"fb93a1f6-4d6a-42d2-805b-2b67c4574cc2\",\"type\":\"ColumnDataSource\"},\"glyph\":{\"id\":\"b98b1d83-0d17-40f7-983f-dc67be7a8b6d\",\"type\":\"Quad\"},\"hover_glyph\":null,\"nonselection_glyph\":{\"id\":\"df29f3d7-1934-4a21-a5a9-7c62e6a725aa\",\"type\":\"Quad\"},\"selection_glyph\":null},\"id\":\"87db15fc-1b98-4ef3-babd-0e466fc75156\",\"type\":\"GlyphRenderer\"},{\"attributes\":{\"bottom_units\":\"screen\",\"fill_alpha\":{\"value\":0.5},\"fill_color\":{\"value\":\"lightgrey\"},\"left_units\":\"screen\",\"level\":\"overlay\",\"line_alpha\":{\"value\":1.0},\"line_color\":{\"value\":\"black\"},\"line_dash\":[4,4],\"line_width\":{\"value\":2},\"plot\":null,\"render_mode\":\"css\",\"right_units\":\"screen\",\"top_units\":\"screen\"},\"id\":\"3fb278ed-39af-41f7-b84c-43b17153d07e\",\"type\":\"BoxAnnotation\"},{\"attributes\":{\"plot\":{\"id\":\"f6630c4a-5a2c-433a-9f27-3a3e68dcf223\",\"subtype\":\"Figure\",\"type\":\"Plot\"}},\"id\":\"fc51e784-dee8-4fda-b400-abc06540d571\",\"type\":\"PanTool\"},{\"attributes\":{\"callback\":null},\"id\":\"300a7670-af02-4a5d-ba58-c8d0a34b6ec5\",\"type\":\"DataRange1d\"},{\"attributes\":{\"axis_label\":\"N_HI\",\"formatter\":{\"id\":\"61113f3f-8f35-4754-9e1a-ef40927fd7cf\",\"type\":\"BasicTickFormatter\"},\"plot\":{\"id\":\"f6630c4a-5a2c-433a-9f27-3a3e68dcf223\",\"subtype\":\"Figure\",\"type\":\"Plot\"},\"ticker\":{\"id\":\"24a99ddb-6637-433e-b52a-b0e7704cc8f6\",\"type\":\"BasicTicker\"}},\"id\":\"b0038185-1fc4-4870-a01a-ceb662febc02\",\"type\":\"LinearAxis\"},{\"attributes\":{\"callback\":null,\"column_names\":[\"top\",\"left\",\"right\"],\"data\":{\"left\":[15.5,15.75,16.0,16.25,16.5,16.75,17.0,17.25,17.5,17.75],\"right\":[15.75,16.0,16.25,16.5,16.75,17.0,17.25,17.5,17.75,18.0],\"top\":[0.0,0.0,0.8,1.6,0.8,0.32,0.32,0.16,0.0,0.0]}},\"id\":\"fb93a1f6-4d6a-42d2-805b-2b67c4574cc2\",\"type\":\"ColumnDataSource\"},{\"attributes\":{\"plot\":{\"id\":\"f6630c4a-5a2c-433a-9f27-3a3e68dcf223\",\"subtype\":\"Figure\",\"type\":\"Plot\"}},\"id\":\"1dd6cf6c-247d-4f2e-9dea-134a0dcf5ff1\",\"type\":\"PreviewSaveTool\"},{\"attributes\":{\"plot\":{\"id\":\"f6630c4a-5a2c-433a-9f27-3a3e68dcf223\",\"subtype\":\"Figure\",\"type\":\"Plot\"},\"ticker\":{\"id\":\"24a99ddb-6637-433e-b52a-b0e7704cc8f6\",\"type\":\"BasicTicker\"}},\"id\":\"d181bac7-5a6c-43ca-b6a5-f0c13b2fde50\",\"type\":\"Grid\"},{\"attributes\":{\"overlay\":{\"id\":\"3fb278ed-39af-41f7-b84c-43b17153d07e\",\"type\":\"BoxAnnotation\"},\"plot\":{\"id\":\"f6630c4a-5a2c-433a-9f27-3a3e68dcf223\",\"subtype\":\"Figure\",\"type\":\"Plot\"}},\"id\":\"eca2bf61-2005-4463-833e-60b2d82f79ae\",\"type\":\"BoxZoomTool\"}],\"root_ids\":[\"f6630c4a-5a2c-433a-9f27-3a3e68dcf223\"]},\"title\":\"Bokeh Application\",\"version\":\"0.11.1\"}};\n",
       "            var render_items = [{\"docid\":\"4cb1ac56-0697-4959-9f6d-d4771c486172\",\"elementid\":\"4dab45c1-ed38-47b2-859d-92379e23916c\",\"modelid\":\"f6630c4a-5a2c-433a-9f27-3a3e68dcf223\",\"notebook_comms_target\":\"28d43a64-9ceb-4b12-9b26-942252149319\"}];\n",
       "            \n",
       "            Bokeh.embed.embed_items(docs_json, render_items);\n",
       "        });\n",
       "      },\n",
       "      function(Bokeh) {\n",
       "      }\n",
       "    ];\n",
       "  \n",
       "    function run_inline_js() {\n",
       "      for (var i = 0; i < inline_js.length; i++) {\n",
       "        inline_js[i](window.Bokeh);\n",
       "      }\n",
       "    }\n",
       "  \n",
       "    if (window._bokeh_is_loading === 0) {\n",
       "      console.log(\"Bokeh: BokehJS loaded, going straight to plotting\");\n",
       "      run_inline_js();\n",
       "    } else {\n",
       "      load_libs(js_urls, function() {\n",
       "        console.log(\"Bokeh: BokehJS plotting callback run at\", now());\n",
       "        run_inline_js();\n",
       "      });\n",
       "    }\n",
       "  }(this));\n",
       "</script>"
      ]
     },
     "metadata": {},
     "output_type": "display_data"
    },
    {
     "data": {
      "text/html": [
       "<p><code>&lt;Bokeh Notebook handle for <strong>In[15]</strong>&gt;</code></p>"
      ],
      "text/plain": [
       "<bokeh.io._CommsHandle at 0x11c668f50>"
      ]
     },
     "execution_count": 15,
     "metadata": {},
     "output_type": "execute_result"
    }
   ],
   "source": [
    "# NHI\n",
    "p_NHI = figure(plot_width=400, plot_height=400, title='L13/W16 NHI')#,background_fill=\"#E8DDCB\")\n",
    "# L13\n",
    "hist, edges = np.histogram(L13.NHI, range=(15.5,18.), density=True, bins=10)\n",
    "p_NHI.quad(top=hist, bottom=0, left=edges[:-1], right=edges[1:],fill_color='blue')\n",
    "# W16\n",
    "hist, edges = np.histogram(W16.NHI, range=(15.5,18.), density=True, bins=10)\n",
    "p_NHI.quad(top=hist, bottom=0, left=edges[:-1], right=edges[1:],fill_color='red')\n",
    "#\n",
    "p_NHI.xaxis.axis_label = 'N_HI'\n",
    "show(p_NHI)"
   ]
  },
  {
   "cell_type": "markdown",
   "metadata": {},
   "source": [
    "### Bimodality!"
   ]
  },
  {
   "cell_type": "code",
   "execution_count": 16,
   "metadata": {
    "collapsed": false
   },
   "outputs": [],
   "source": [
    "L13W16 = L13 + W16"
   ]
  },
  {
   "cell_type": "code",
   "execution_count": 17,
   "metadata": {
    "collapsed": false
   },
   "outputs": [
    {
     "data": {
      "text/html": [
       "\n",
       "\n",
       "    <div class=\"plotdiv\" id=\"4779caab-50eb-446e-88c9-23c7136df84b\"></div>\n",
       "<script type=\"text/javascript\">\n",
       "  \n",
       "  (function(global) {\n",
       "    function now() {\n",
       "      return new Date();\n",
       "    }\n",
       "  \n",
       "    if (typeof (window._bokeh_onload_callbacks) === \"undefined\") {\n",
       "      window._bokeh_onload_callbacks = [];\n",
       "    }\n",
       "  \n",
       "    function run_callbacks() {\n",
       "      window._bokeh_onload_callbacks.forEach(function(callback) { callback() });\n",
       "      delete window._bokeh_onload_callbacks\n",
       "      console.info(\"Bokeh: all callbacks have finished\");\n",
       "    }\n",
       "  \n",
       "    function load_libs(js_urls, callback) {\n",
       "      window._bokeh_onload_callbacks.push(callback);\n",
       "      if (window._bokeh_is_loading > 0) {\n",
       "        console.log(\"Bokeh: BokehJS is being loaded, scheduling callback at\", now());\n",
       "        return null;\n",
       "      }\n",
       "      if (js_urls == null || js_urls.length === 0) {\n",
       "        run_callbacks();\n",
       "        return null;\n",
       "      }\n",
       "      console.log(\"Bokeh: BokehJS not loaded, scheduling load and callback at\", now());\n",
       "      window._bokeh_is_loading = js_urls.length;\n",
       "      for (var i = 0; i < js_urls.length; i++) {\n",
       "        var url = js_urls[i];\n",
       "        var s = document.createElement('script');\n",
       "        s.src = url;\n",
       "        s.async = false;\n",
       "        s.onreadystatechange = s.onload = function() {\n",
       "          window._bokeh_is_loading--;\n",
       "          if (window._bokeh_is_loading === 0) {\n",
       "            console.log(\"Bokeh: all BokehJS libraries loaded\");\n",
       "            run_callbacks()\n",
       "          }\n",
       "        };\n",
       "        s.onerror = function() {\n",
       "          console.warn(\"failed to load library \" + url);\n",
       "        };\n",
       "        console.log(\"Bokeh: injecting script tag for BokehJS library: \", url);\n",
       "        document.getElementsByTagName(\"head\")[0].appendChild(s);\n",
       "      }\n",
       "    };var element = document.getElementById(\"4779caab-50eb-446e-88c9-23c7136df84b\");\n",
       "    if (element == null) {\n",
       "      console.log(\"Bokeh: ERROR: autoload.js configured with elementid '4779caab-50eb-446e-88c9-23c7136df84b' but no matching script tag was found. \")\n",
       "      return false;\n",
       "    }\n",
       "  \n",
       "    var js_urls = [];\n",
       "  \n",
       "    var inline_js = [\n",
       "      function(Bokeh) {\n",
       "        Bokeh.$(function() {\n",
       "            var docs_json = {\"5600ab3c-c464-41ff-900e-13e05c9fb62a\":{\"roots\":{\"references\":[{\"attributes\":{\"plot\":{\"id\":\"f6630c4a-5a2c-433a-9f27-3a3e68dcf223\",\"subtype\":\"Figure\",\"type\":\"Plot\"}},\"id\":\"07d2d5ca-839d-439a-b7f1-79943cae59e3\",\"type\":\"HelpTool\"},{\"attributes\":{\"formatter\":{\"id\":\"82b13def-840f-4073-ae02-cc990dec9663\",\"type\":\"BasicTickFormatter\"},\"plot\":{\"id\":\"f6630c4a-5a2c-433a-9f27-3a3e68dcf223\",\"subtype\":\"Figure\",\"type\":\"Plot\"},\"ticker\":{\"id\":\"65917571-2a5c-414a-a31f-5fdeda2b93a6\",\"type\":\"BasicTicker\"}},\"id\":\"07409f6c-0eb7-4d5c-b5ec-0fd52fcf4cdf\",\"type\":\"LinearAxis\"},{\"attributes\":{\"callback\":null},\"id\":\"1eab3225-6da9-4db5-98a2-2f61802bc721\",\"type\":\"DataRange1d\"},{\"attributes\":{},\"id\":\"5f190e4c-874b-4bd9-a1b5-4f739b19fe93\",\"type\":\"BasicTickFormatter\"},{\"attributes\":{\"bottom\":{\"value\":0},\"fill_alpha\":{\"value\":0.1},\"fill_color\":{\"value\":\"#1f77b4\"},\"left\":{\"field\":\"left\"},\"line_alpha\":{\"value\":0.1},\"line_color\":{\"value\":\"#1f77b4\"},\"right\":{\"field\":\"right\"},\"top\":{\"field\":\"top\"}},\"id\":\"5c2caf3d-dee2-4979-a0f6-f4aa6e985585\",\"type\":\"Quad\"},{\"attributes\":{\"bottom\":{\"value\":0},\"fill_alpha\":{\"value\":0.1},\"fill_color\":{\"value\":\"#1f77b4\"},\"left\":{\"field\":\"left\"},\"line_alpha\":{\"value\":0.1},\"line_color\":{\"value\":\"#1f77b4\"},\"right\":{\"field\":\"right\"},\"top\":{\"field\":\"top\"}},\"id\":\"df29f3d7-1934-4a21-a5a9-7c62e6a725aa\",\"type\":\"Quad\"},{\"attributes\":{\"callback\":null},\"id\":\"e06f7d0d-c90b-4ef7-b7fc-c1412068f57d\",\"type\":\"DataRange1d\"},{\"attributes\":{},\"id\":\"a49b9706-e643-4d4d-a125-a11aaf574085\",\"type\":\"ToolEvents\"},{\"attributes\":{},\"id\":\"61113f3f-8f35-4754-9e1a-ef40927fd7cf\",\"type\":\"BasicTickFormatter\"},{\"attributes\":{\"axis_label\":\"[Z/H]\",\"formatter\":{\"id\":\"5f190e4c-874b-4bd9-a1b5-4f739b19fe93\",\"type\":\"BasicTickFormatter\"},\"plot\":{\"id\":\"e1379010-9930-44f1-86d9-fd456b75e89f\",\"subtype\":\"Figure\",\"type\":\"Plot\"},\"ticker\":{\"id\":\"d4358180-3a01-41a8-9c75-b08f95277248\",\"type\":\"BasicTicker\"}},\"id\":\"d0f8c804-617a-4702-94bf-057e14abc6dd\",\"type\":\"LinearAxis\"},{\"attributes\":{\"bottom\":{\"value\":0},\"fill_color\":{\"value\":\"red\"},\"left\":{\"field\":\"left\"},\"line_color\":{\"value\":\"#1f77b4\"},\"right\":{\"field\":\"right\"},\"top\":{\"field\":\"top\"}},\"id\":\"56e494f0-c2b2-466b-92ce-345c3b699427\",\"type\":\"Quad\"},{\"attributes\":{},\"id\":\"65917571-2a5c-414a-a31f-5fdeda2b93a6\",\"type\":\"BasicTicker\"},{\"attributes\":{\"dimension\":1,\"plot\":{\"id\":\"f6630c4a-5a2c-433a-9f27-3a3e68dcf223\",\"subtype\":\"Figure\",\"type\":\"Plot\"},\"ticker\":{\"id\":\"65917571-2a5c-414a-a31f-5fdeda2b93a6\",\"type\":\"BasicTicker\"}},\"id\":\"b9ade9ee-3615-486c-9b6f-42e3e64688dc\",\"type\":\"Grid\"},{\"attributes\":{},\"id\":\"24a99ddb-6637-433e-b52a-b0e7704cc8f6\",\"type\":\"BasicTicker\"},{\"attributes\":{\"callback\":null,\"column_names\":[\"top\",\"left\",\"right\"],\"data\":{\"left\":[-2.5,-2.35,-2.2,-2.05,-1.9,-1.75,-1.6,-1.45,-1.3,-1.1500000000000001,-1.0,-0.8500000000000001,-0.7000000000000002,-0.55,-0.3999999999999999,-0.25,-0.10000000000000009,0.04999999999999982,0.19999999999999973,0.3500000000000001],\"right\":[-2.35,-2.2,-2.05,-1.9,-1.75,-1.6,-1.45,-1.3,-1.1500000000000001,-1.0,-0.8500000000000001,-0.7000000000000002,-0.55,-0.3999999999999999,-0.25,-0.10000000000000009,0.04999999999999982,0.19999999999999973,0.3500000000000001,0.5],\"top\":[0.12121212121212128,0.0,0.0,0.48484848484848514,0.6060606060606064,0.848484848484849,0.3636363636363633,0.7272727272727276,0.24242424242424257,0.3636363636363633,0.12121212121212128,0.6060606060606064,0.2424242424242422,0.9696969696969688,0.24242424242424257,0.3636363636363638,0.0,0.24242424242424257,0.12121212121212092,0.0]}},\"id\":\"c9cff1ef-c87e-4c64-9975-f1faa74852a5\",\"type\":\"ColumnDataSource\"},{\"attributes\":{\"plot\":{\"id\":\"f6630c4a-5a2c-433a-9f27-3a3e68dcf223\",\"subtype\":\"Figure\",\"type\":\"Plot\"}},\"id\":\"ba57e5b4-d19e-485b-8284-97227dddb2fa\",\"type\":\"ResetTool\"},{\"attributes\":{\"bottom\":{\"value\":0},\"fill_color\":{\"value\":\"blue\"},\"left\":{\"field\":\"left\"},\"line_color\":{\"value\":\"#1f77b4\"},\"right\":{\"field\":\"right\"},\"top\":{\"field\":\"top\"}},\"id\":\"8b74a6a5-b43c-4f2c-8cf7-e1ea28149191\",\"type\":\"Quad\"},{\"attributes\":{\"plot\":{\"id\":\"f6630c4a-5a2c-433a-9f27-3a3e68dcf223\",\"subtype\":\"Figure\",\"type\":\"Plot\"}},\"id\":\"311a06fe-4601-4453-9690-04e4ba20241e\",\"type\":\"WheelZoomTool\"},{\"attributes\":{\"dimension\":1,\"plot\":{\"id\":\"e1379010-9930-44f1-86d9-fd456b75e89f\",\"subtype\":\"Figure\",\"type\":\"Plot\"},\"ticker\":{\"id\":\"da7edf4d-e445-434b-93c9-6d69cd7fc2fc\",\"type\":\"BasicTicker\"}},\"id\":\"b88d3f25-6bde-4c06-ab51-612ceb16b797\",\"type\":\"Grid\"},{\"attributes\":{\"bottom\":{\"value\":0},\"fill_color\":{\"value\":\"blue\"},\"left\":{\"field\":\"left\"},\"line_color\":{\"value\":\"#1f77b4\"},\"right\":{\"field\":\"right\"},\"top\":{\"field\":\"top\"}},\"id\":\"b98b1d83-0d17-40f7-983f-dc67be7a8b6d\",\"type\":\"Quad\"},{\"attributes\":{},\"id\":\"82b13def-840f-4073-ae02-cc990dec9663\",\"type\":\"BasicTickFormatter\"},{\"attributes\":{\"data_source\":{\"id\":\"c9cff1ef-c87e-4c64-9975-f1faa74852a5\",\"type\":\"ColumnDataSource\"},\"glyph\":{\"id\":\"8b74a6a5-b43c-4f2c-8cf7-e1ea28149191\",\"type\":\"Quad\"},\"hover_glyph\":null,\"nonselection_glyph\":{\"id\":\"0d9aa8ad-fb46-46e2-a254-9c311d3d0293\",\"type\":\"Quad\"},\"selection_glyph\":null},\"id\":\"192bc83f-45ec-4fa8-a4a7-8cd7789729ef\",\"type\":\"GlyphRenderer\"},{\"attributes\":{\"below\":[{\"id\":\"b0038185-1fc4-4870-a01a-ceb662febc02\",\"type\":\"LinearAxis\"}],\"left\":[{\"id\":\"07409f6c-0eb7-4d5c-b5ec-0fd52fcf4cdf\",\"type\":\"LinearAxis\"}],\"plot_height\":400,\"plot_width\":400,\"renderers\":[{\"id\":\"b0038185-1fc4-4870-a01a-ceb662febc02\",\"type\":\"LinearAxis\"},{\"id\":\"d181bac7-5a6c-43ca-b6a5-f0c13b2fde50\",\"type\":\"Grid\"},{\"id\":\"07409f6c-0eb7-4d5c-b5ec-0fd52fcf4cdf\",\"type\":\"LinearAxis\"},{\"id\":\"b9ade9ee-3615-486c-9b6f-42e3e64688dc\",\"type\":\"Grid\"},{\"id\":\"3fb278ed-39af-41f7-b84c-43b17153d07e\",\"type\":\"BoxAnnotation\"},{\"id\":\"87db15fc-1b98-4ef3-babd-0e466fc75156\",\"type\":\"GlyphRenderer\"},{\"id\":\"ad133c0c-d1aa-4029-8527-48dea8fd473a\",\"type\":\"GlyphRenderer\"}],\"title\":\"L13/W16 NHI\",\"tool_events\":{\"id\":\"b1a7429a-6e18-43a5-a462-64eea2daf72b\",\"type\":\"ToolEvents\"},\"tools\":[{\"id\":\"fc51e784-dee8-4fda-b400-abc06540d571\",\"type\":\"PanTool\"},{\"id\":\"311a06fe-4601-4453-9690-04e4ba20241e\",\"type\":\"WheelZoomTool\"},{\"id\":\"eca2bf61-2005-4463-833e-60b2d82f79ae\",\"type\":\"BoxZoomTool\"},{\"id\":\"1dd6cf6c-247d-4f2e-9dea-134a0dcf5ff1\",\"type\":\"PreviewSaveTool\"},{\"id\":\"5f94bb75-0fd4-40b1-9916-ffadf1929f51\",\"type\":\"ResizeTool\"},{\"id\":\"ba57e5b4-d19e-485b-8284-97227dddb2fa\",\"type\":\"ResetTool\"},{\"id\":\"07d2d5ca-839d-439a-b7f1-79943cae59e3\",\"type\":\"HelpTool\"}],\"x_range\":{\"id\":\"1eab3225-6da9-4db5-98a2-2f61802bc721\",\"type\":\"DataRange1d\"},\"y_range\":{\"id\":\"300a7670-af02-4a5d-ba58-c8d0a34b6ec5\",\"type\":\"DataRange1d\"}},\"id\":\"f6630c4a-5a2c-433a-9f27-3a3e68dcf223\",\"subtype\":\"Figure\",\"type\":\"Plot\"},{\"attributes\":{},\"id\":\"b1a7429a-6e18-43a5-a462-64eea2daf72b\",\"type\":\"ToolEvents\"},{\"attributes\":{\"plot\":{\"id\":\"f6630c4a-5a2c-433a-9f27-3a3e68dcf223\",\"subtype\":\"Figure\",\"type\":\"Plot\"}},\"id\":\"5f94bb75-0fd4-40b1-9916-ffadf1929f51\",\"type\":\"ResizeTool\"},{\"attributes\":{\"below\":[{\"id\":\"d0f8c804-617a-4702-94bf-057e14abc6dd\",\"type\":\"LinearAxis\"}],\"left\":[{\"id\":\"931c9bd9-864a-4af3-acfe-688904637fd1\",\"type\":\"LinearAxis\"}],\"renderers\":[{\"id\":\"d0f8c804-617a-4702-94bf-057e14abc6dd\",\"type\":\"LinearAxis\"},{\"id\":\"f1f110f6-2b04-43fb-a8dc-39f23bdea92c\",\"type\":\"Grid\"},{\"id\":\"931c9bd9-864a-4af3-acfe-688904637fd1\",\"type\":\"LinearAxis\"},{\"id\":\"b88d3f25-6bde-4c06-ab51-612ceb16b797\",\"type\":\"Grid\"},{\"id\":\"fcb19370-5c0b-4a8d-9204-5ee7256ed0b2\",\"type\":\"BoxAnnotation\"},{\"id\":\"192bc83f-45ec-4fa8-a4a7-8cd7789729ef\",\"type\":\"GlyphRenderer\"}],\"title\":\"L13/W16 NHI\",\"tool_events\":{\"id\":\"a49b9706-e643-4d4d-a125-a11aaf574085\",\"type\":\"ToolEvents\"},\"tools\":[{\"id\":\"bc2f82a1-9e55-461a-901f-ff40fd2e58e6\",\"type\":\"PanTool\"},{\"id\":\"4c2e3302-592f-48f6-976f-43d613af0af0\",\"type\":\"WheelZoomTool\"},{\"id\":\"d21f7e85-ef49-49c1-a9e5-f639d274d004\",\"type\":\"BoxZoomTool\"},{\"id\":\"4c9726db-04f0-4ebf-9d6d-659305fece1d\",\"type\":\"PreviewSaveTool\"},{\"id\":\"1157bd1b-f8d5-49ca-884b-a530ef8a9976\",\"type\":\"ResizeTool\"},{\"id\":\"0dd2be7f-af48-4030-9a1e-74be012f44fe\",\"type\":\"ResetTool\"},{\"id\":\"222e1578-5387-4a6a-a842-18fa58ad087d\",\"type\":\"HelpTool\"}],\"x_range\":{\"id\":\"33a05848-e874-4265-b356-d2f7eb02df5e\",\"type\":\"DataRange1d\"},\"y_range\":{\"id\":\"e06f7d0d-c90b-4ef7-b7fc-c1412068f57d\",\"type\":\"DataRange1d\"}},\"id\":\"e1379010-9930-44f1-86d9-fd456b75e89f\",\"subtype\":\"Figure\",\"type\":\"Plot\"},{\"attributes\":{},\"id\":\"da7edf4d-e445-434b-93c9-6d69cd7fc2fc\",\"type\":\"BasicTicker\"},{\"attributes\":{\"callback\":null,\"column_names\":[\"top\",\"left\",\"right\"],\"data\":{\"left\":[15.5,15.75,16.0,16.25,16.5,16.75,17.0,17.25,17.5,17.75],\"right\":[15.75,16.0,16.25,16.5,16.75,17.0,17.25,17.5,17.75,18.0],\"top\":[0.0,0.0,0.0,0.13333333333333333,0.5333333333333333,1.7333333333333334,0.5333333333333333,0.4,0.6666666666666666,0.0]}},\"id\":\"84c7dbf3-47f5-4ea2-a123-7b778531a15f\",\"type\":\"ColumnDataSource\"},{\"attributes\":{\"callback\":null},\"id\":\"33a05848-e874-4265-b356-d2f7eb02df5e\",\"type\":\"DataRange1d\"},{\"attributes\":{\"formatter\":{\"id\":\"7216f54e-3277-474f-a6b3-eb2b0da56de6\",\"type\":\"BasicTickFormatter\"},\"plot\":{\"id\":\"e1379010-9930-44f1-86d9-fd456b75e89f\",\"subtype\":\"Figure\",\"type\":\"Plot\"},\"ticker\":{\"id\":\"da7edf4d-e445-434b-93c9-6d69cd7fc2fc\",\"type\":\"BasicTicker\"}},\"id\":\"931c9bd9-864a-4af3-acfe-688904637fd1\",\"type\":\"LinearAxis\"},{\"attributes\":{\"bottom_units\":\"screen\",\"fill_alpha\":{\"value\":0.5},\"fill_color\":{\"value\":\"lightgrey\"},\"left_units\":\"screen\",\"level\":\"overlay\",\"line_alpha\":{\"value\":1.0},\"line_color\":{\"value\":\"black\"},\"line_dash\":[4,4],\"line_width\":{\"value\":2},\"plot\":null,\"render_mode\":\"css\",\"right_units\":\"screen\",\"top_units\":\"screen\"},\"id\":\"fcb19370-5c0b-4a8d-9204-5ee7256ed0b2\",\"type\":\"BoxAnnotation\"},{\"attributes\":{\"data_source\":{\"id\":\"84c7dbf3-47f5-4ea2-a123-7b778531a15f\",\"type\":\"ColumnDataSource\"},\"glyph\":{\"id\":\"56e494f0-c2b2-466b-92ce-345c3b699427\",\"type\":\"Quad\"},\"hover_glyph\":null,\"nonselection_glyph\":{\"id\":\"5c2caf3d-dee2-4979-a0f6-f4aa6e985585\",\"type\":\"Quad\"},\"selection_glyph\":null},\"id\":\"ad133c0c-d1aa-4029-8527-48dea8fd473a\",\"type\":\"GlyphRenderer\"},{\"attributes\":{\"data_source\":{\"id\":\"fb93a1f6-4d6a-42d2-805b-2b67c4574cc2\",\"type\":\"ColumnDataSource\"},\"glyph\":{\"id\":\"b98b1d83-0d17-40f7-983f-dc67be7a8b6d\",\"type\":\"Quad\"},\"hover_glyph\":null,\"nonselection_glyph\":{\"id\":\"df29f3d7-1934-4a21-a5a9-7c62e6a725aa\",\"type\":\"Quad\"},\"selection_glyph\":null},\"id\":\"87db15fc-1b98-4ef3-babd-0e466fc75156\",\"type\":\"GlyphRenderer\"},{\"attributes\":{\"plot\":{\"id\":\"e1379010-9930-44f1-86d9-fd456b75e89f\",\"subtype\":\"Figure\",\"type\":\"Plot\"}},\"id\":\"4c9726db-04f0-4ebf-9d6d-659305fece1d\",\"type\":\"PreviewSaveTool\"},{\"attributes\":{},\"id\":\"d4358180-3a01-41a8-9c75-b08f95277248\",\"type\":\"BasicTicker\"},{\"attributes\":{\"bottom_units\":\"screen\",\"fill_alpha\":{\"value\":0.5},\"fill_color\":{\"value\":\"lightgrey\"},\"left_units\":\"screen\",\"level\":\"overlay\",\"line_alpha\":{\"value\":1.0},\"line_color\":{\"value\":\"black\"},\"line_dash\":[4,4],\"line_width\":{\"value\":2},\"plot\":null,\"render_mode\":\"css\",\"right_units\":\"screen\",\"top_units\":\"screen\"},\"id\":\"3fb278ed-39af-41f7-b84c-43b17153d07e\",\"type\":\"BoxAnnotation\"},{\"attributes\":{\"overlay\":{\"id\":\"3fb278ed-39af-41f7-b84c-43b17153d07e\",\"type\":\"BoxAnnotation\"},\"plot\":{\"id\":\"f6630c4a-5a2c-433a-9f27-3a3e68dcf223\",\"subtype\":\"Figure\",\"type\":\"Plot\"}},\"id\":\"eca2bf61-2005-4463-833e-60b2d82f79ae\",\"type\":\"BoxZoomTool\"},{\"attributes\":{\"overlay\":{\"id\":\"fcb19370-5c0b-4a8d-9204-5ee7256ed0b2\",\"type\":\"BoxAnnotation\"},\"plot\":{\"id\":\"e1379010-9930-44f1-86d9-fd456b75e89f\",\"subtype\":\"Figure\",\"type\":\"Plot\"}},\"id\":\"d21f7e85-ef49-49c1-a9e5-f639d274d004\",\"type\":\"BoxZoomTool\"},{\"attributes\":{\"plot\":{\"id\":\"f6630c4a-5a2c-433a-9f27-3a3e68dcf223\",\"subtype\":\"Figure\",\"type\":\"Plot\"}},\"id\":\"fc51e784-dee8-4fda-b400-abc06540d571\",\"type\":\"PanTool\"},{\"attributes\":{\"plot\":{\"id\":\"e1379010-9930-44f1-86d9-fd456b75e89f\",\"subtype\":\"Figure\",\"type\":\"Plot\"}},\"id\":\"0dd2be7f-af48-4030-9a1e-74be012f44fe\",\"type\":\"ResetTool\"},{\"attributes\":{\"callback\":null},\"id\":\"300a7670-af02-4a5d-ba58-c8d0a34b6ec5\",\"type\":\"DataRange1d\"},{\"attributes\":{\"axis_label\":\"N_HI\",\"formatter\":{\"id\":\"61113f3f-8f35-4754-9e1a-ef40927fd7cf\",\"type\":\"BasicTickFormatter\"},\"plot\":{\"id\":\"f6630c4a-5a2c-433a-9f27-3a3e68dcf223\",\"subtype\":\"Figure\",\"type\":\"Plot\"},\"ticker\":{\"id\":\"24a99ddb-6637-433e-b52a-b0e7704cc8f6\",\"type\":\"BasicTicker\"}},\"id\":\"b0038185-1fc4-4870-a01a-ceb662febc02\",\"type\":\"LinearAxis\"},{\"attributes\":{\"callback\":null,\"column_names\":[\"top\",\"left\",\"right\"],\"data\":{\"left\":[15.5,15.75,16.0,16.25,16.5,16.75,17.0,17.25,17.5,17.75],\"right\":[15.75,16.0,16.25,16.5,16.75,17.0,17.25,17.5,17.75,18.0],\"top\":[0.0,0.0,0.8,1.6,0.8,0.32,0.32,0.16,0.0,0.0]}},\"id\":\"fb93a1f6-4d6a-42d2-805b-2b67c4574cc2\",\"type\":\"ColumnDataSource\"},{\"attributes\":{\"bottom\":{\"value\":0},\"fill_alpha\":{\"value\":0.1},\"fill_color\":{\"value\":\"#1f77b4\"},\"left\":{\"field\":\"left\"},\"line_alpha\":{\"value\":0.1},\"line_color\":{\"value\":\"#1f77b4\"},\"right\":{\"field\":\"right\"},\"top\":{\"field\":\"top\"}},\"id\":\"0d9aa8ad-fb46-46e2-a254-9c311d3d0293\",\"type\":\"Quad\"},{\"attributes\":{\"plot\":{\"id\":\"e1379010-9930-44f1-86d9-fd456b75e89f\",\"subtype\":\"Figure\",\"type\":\"Plot\"}},\"id\":\"bc2f82a1-9e55-461a-901f-ff40fd2e58e6\",\"type\":\"PanTool\"},{\"attributes\":{},\"id\":\"7216f54e-3277-474f-a6b3-eb2b0da56de6\",\"type\":\"BasicTickFormatter\"},{\"attributes\":{\"plot\":{\"id\":\"f6630c4a-5a2c-433a-9f27-3a3e68dcf223\",\"subtype\":\"Figure\",\"type\":\"Plot\"}},\"id\":\"1dd6cf6c-247d-4f2e-9dea-134a0dcf5ff1\",\"type\":\"PreviewSaveTool\"},{\"attributes\":{\"plot\":{\"id\":\"f6630c4a-5a2c-433a-9f27-3a3e68dcf223\",\"subtype\":\"Figure\",\"type\":\"Plot\"},\"ticker\":{\"id\":\"24a99ddb-6637-433e-b52a-b0e7704cc8f6\",\"type\":\"BasicTicker\"}},\"id\":\"d181bac7-5a6c-43ca-b6a5-f0c13b2fde50\",\"type\":\"Grid\"},{\"attributes\":{\"plot\":{\"id\":\"e1379010-9930-44f1-86d9-fd456b75e89f\",\"subtype\":\"Figure\",\"type\":\"Plot\"}},\"id\":\"1157bd1b-f8d5-49ca-884b-a530ef8a9976\",\"type\":\"ResizeTool\"},{\"attributes\":{\"plot\":{\"id\":\"e1379010-9930-44f1-86d9-fd456b75e89f\",\"subtype\":\"Figure\",\"type\":\"Plot\"}},\"id\":\"222e1578-5387-4a6a-a842-18fa58ad087d\",\"type\":\"HelpTool\"},{\"attributes\":{\"plot\":{\"id\":\"e1379010-9930-44f1-86d9-fd456b75e89f\",\"subtype\":\"Figure\",\"type\":\"Plot\"}},\"id\":\"4c2e3302-592f-48f6-976f-43d613af0af0\",\"type\":\"WheelZoomTool\"},{\"attributes\":{\"plot\":{\"id\":\"e1379010-9930-44f1-86d9-fd456b75e89f\",\"subtype\":\"Figure\",\"type\":\"Plot\"},\"ticker\":{\"id\":\"d4358180-3a01-41a8-9c75-b08f95277248\",\"type\":\"BasicTicker\"}},\"id\":\"f1f110f6-2b04-43fb-a8dc-39f23bdea92c\",\"type\":\"Grid\"}],\"root_ids\":[\"f6630c4a-5a2c-433a-9f27-3a3e68dcf223\",\"e1379010-9930-44f1-86d9-fd456b75e89f\"]},\"title\":\"Bokeh Application\",\"version\":\"0.11.1\"}};\n",
       "            var render_items = [{\"docid\":\"5600ab3c-c464-41ff-900e-13e05c9fb62a\",\"elementid\":\"4779caab-50eb-446e-88c9-23c7136df84b\",\"modelid\":\"e1379010-9930-44f1-86d9-fd456b75e89f\",\"notebook_comms_target\":\"3f8798f1-ccf6-4268-bd73-fc26a96094c4\"}];\n",
       "            \n",
       "            Bokeh.embed.embed_items(docs_json, render_items);\n",
       "        });\n",
       "      },\n",
       "      function(Bokeh) {\n",
       "      }\n",
       "    ];\n",
       "  \n",
       "    function run_inline_js() {\n",
       "      for (var i = 0; i < inline_js.length; i++) {\n",
       "        inline_js[i](window.Bokeh);\n",
       "      }\n",
       "    }\n",
       "  \n",
       "    if (window._bokeh_is_loading === 0) {\n",
       "      console.log(\"Bokeh: BokehJS loaded, going straight to plotting\");\n",
       "      run_inline_js();\n",
       "    } else {\n",
       "      load_libs(js_urls, function() {\n",
       "        console.log(\"Bokeh: BokehJS plotting callback run at\", now());\n",
       "        run_inline_js();\n",
       "      });\n",
       "    }\n",
       "  }(this));\n",
       "</script>"
      ]
     },
     "metadata": {},
     "output_type": "display_data"
    },
    {
     "data": {
      "text/html": [
       "<p><code>&lt;Bokeh Notebook handle for <strong>In[17]</strong>&gt;</code></p>"
      ],
      "text/plain": [
       "<bokeh.io._CommsHandle at 0x11c6df810>"
      ]
     },
     "execution_count": 17,
     "metadata": {},
     "output_type": "execute_result"
    }
   ],
   "source": [
    "# NHI\n",
    "p_ZH = figure(plot_width=600, plot_height=600, title='L13/W16 NHI')#,background_fill=\"#E8DDCB\")\n",
    "# L13\n",
    "hist, edges = np.histogram(L13W16.ZH, range=(-2.5,0.5), density=True, bins=20)\n",
    "p_ZH.quad(top=hist, bottom=0, left=edges[:-1], right=edges[1:],fill_color='blue')\n",
    "#\n",
    "p_ZH.xaxis.axis_label = '[Z/H]'\n",
    "show(p_ZH)"
   ]
  },
  {
   "cell_type": "markdown",
   "metadata": {},
   "source": [
    "## Write"
   ]
  },
  {
   "cell_type": "markdown",
   "metadata": {},
   "source": [
    "### L13"
   ]
  },
  {
   "cell_type": "code",
   "execution_count": 18,
   "metadata": {
    "collapsed": false
   },
   "outputs": [
    {
     "name": "stdout",
     "output_type": "stream",
     "text": [
      "Wrote: /Users/xavier/local/Python/pyigm/pyigm/data/LLS/Literature/lehner13.tar.gz\n"
     ]
    }
   ],
   "source": [
    "L13.write_survey(outfile=pyigm_path+'/data/LLS/Literature/lehner13.tar.gz')"
   ]
  },
  {
   "cell_type": "markdown",
   "metadata": {},
   "source": [
    "### W16"
   ]
  },
  {
   "cell_type": "code",
   "execution_count": 19,
   "metadata": {
    "collapsed": false
   },
   "outputs": [
    {
     "name": "stdout",
     "output_type": "stream",
     "text": [
      "Wrote: /Users/xavier/local/Python/pyigm/pyigm/data/LLS/Literature/wotta16.tar.gz\n"
     ]
    }
   ],
   "source": [
    "W16.write_survey(outfile=pyigm_path+'/data/LLS/Literature/wotta16.tar.gz')"
   ]
  },
  {
   "cell_type": "markdown",
   "metadata": {},
   "source": [
    "## Load (test)"
   ]
  },
  {
   "cell_type": "code",
   "execution_count": 22,
   "metadata": {
    "collapsed": false
   },
   "outputs": [
    {
     "name": "stdout",
     "output_type": "stream",
     "text": [
      "Loading systems from /Users/xavier/local/Python/pyigm/pyigm/data/LLS/Literature/lehner13.tar.gz\n",
      "Skipping a likely folder: IGM_JSON\n"
     ]
    }
   ],
   "source": [
    "l13file = pyigm.__path__[0]+'/data/LLS/Literature/lehner13.tar.gz'\n",
    "L13_tst = pyiu.load_sys_files(l13file, 'LLS', chk_vel=False, chk_data=False, use_coord=True)"
   ]
  },
  {
   "cell_type": "code",
   "execution_count": 23,
   "metadata": {
    "collapsed": false
   },
   "outputs": [
    {
     "data": {
      "text/plain": [
       "array([ 16.61000061,  16.71999931,  16.45000076,  16.34000015,\n",
       "        16.89999962,  16.47999954,  16.11000061,  16.20000076,\n",
       "        16.52000046,  17.        ,  16.39999962,  17.        ,\n",
       "        16.29999924,  16.45000076,  16.37999916,  16.39999962,\n",
       "        16.17000008,  16.34000015,  16.64999962,  16.18000031,\n",
       "        16.21999931,  16.65999985,  16.47999954,  16.97999954,  17.29999924])"
      ]
     },
     "execution_count": 23,
     "metadata": {},
     "output_type": "execute_result"
    }
   ],
   "source": [
    "L13_tst.NHI"
   ]
  },
  {
   "cell_type": "code",
   "execution_count": null,
   "metadata": {
    "collapsed": true
   },
   "outputs": [],
   "source": []
  }
 ],
 "metadata": {
  "kernelspec": {
   "display_name": "Python 2",
   "language": "python",
   "name": "python2"
  },
  "language_info": {
   "codemirror_mode": {
    "name": "ipython",
    "version": 2
   },
   "file_extension": ".py",
   "mimetype": "text/x-python",
   "name": "python",
   "nbconvert_exporter": "python",
   "pygments_lexer": "ipython2",
   "version": "2.7.11"
  }
 },
 "nbformat": 4,
 "nbformat_minor": 0
}
