{
 "cells": [
  {
   "cell_type": "markdown",
   "metadata": {},
   "source": [
    "# Low z LLS (Lehner+13, Wotta+16)  [v1.1]"
   ]
  },
  {
   "cell_type": "code",
   "execution_count": 1,
   "metadata": {
    "collapsed": true
   },
   "outputs": [],
   "source": [
    "# imports\n",
    "import pdb\n",
    "from scipy.io import readsav\n",
    "\n",
    "from linetools.isgm.abscomponent import AbsComponent\n",
    "\n",
    "import pyigm\n",
    "from pyigm.abssys.lls import LLSSystem\n",
    "from pyigm.surveys.llssurvey import LLSSurvey\n",
    "pyigm_path = pyigm.__path__[0]\n",
    "from pyigm.surveys import utils as pyiu\n"
   ]
  },
  {
   "cell_type": "markdown",
   "metadata": {},
   "source": [
    "## Big Table\n",
    "\n",
    "    Summary file from Wotta\n",
    "    Includes W16 sample at the top and L13 at the bottom"
   ]
  },
  {
   "cell_type": "code",
   "execution_count": 2,
   "metadata": {
    "collapsed": true
   },
   "outputs": [],
   "source": [
    "w16_mtl = Table.read(pyigm_path+'/data/LLS/Literature/wotta16_metallicities.ascii',format='ascii', guess=False)"
   ]
  },
  {
   "cell_type": "code",
   "execution_count": 3,
   "metadata": {
    "collapsed": false
   },
   "outputs": [
    {
     "data": {
      "text/html": [
       "&lt;Table length=5&gt;\n",
       "<table id=\"table4548182672\">\n",
       "<thead><tr><th>Target</th><th>z_em</th><th>RA</th><th>DEC</th><th>z_abs</th><th>logNHI</th><th>elogNHI</th><th>vmin</th><th>vmax</th><th>logNMgII</th><th>ep_logNMgII</th><th>em_logNMgII</th><th>[X/H]</th><th>ep_[X/H]</th><th>em_[X/H]</th><th>68%[X/H]_low</th><th>68%[X/H]_high</th><th>95%[X/H]_low</th><th>95%[X/H]_high</th></tr></thead>\n",
       "<thead><tr><th>str11</th><th>float64</th><th>str12</th><th>str11</th><th>float64</th><th>float64</th><th>float64</th><th>int64</th><th>int64</th><th>str5</th><th>float64</th><th>float64</th><th>float64</th><th>float64</th><th>float64</th><th>str7</th><th>str7</th><th>str7</th><th>str7</th></tr></thead>\n",
       "<tr><td>J0800+4212</td><td>0.99407</td><td>+08:00:03.90</td><td>+42:12:53.2</td><td>0.598</td><td>16.95</td><td>0.2</td><td>-100</td><td>100</td><td>11.75</td><td>0.17</td><td>0.3</td><td>-1.99</td><td>0.3</td><td>0.3</td><td>-2.13</td><td>-1.85</td><td>-2.24</td><td>-1.62</td></tr>\n",
       "<tr><td>J0804+2743</td><td>1.21924</td><td>+08:04:24.97</td><td>+27:43:23.2</td><td>0.9106</td><td>17.45</td><td>0.1</td><td>-103</td><td>79</td><td>12.27</td><td>0.06</td><td>0.08</td><td>-1.96</td><td>0.13</td><td>0.13</td><td>-2.12</td><td>-1.79</td><td>-2.24</td><td>-1.52</td></tr>\n",
       "<tr><td>J0806+1442</td><td>1.21268</td><td>+08:06:30.30</td><td>+14:42:42.4</td><td>1.0943</td><td>17.4</td><td>0.2</td><td>-26</td><td>16</td><td>13.51</td><td>1.0</td><td>1.0</td><td>-0.64</td><td>1.0</td><td>1.0</td><td>&gt;-0.80</td><td>\\nodata</td><td>&gt;-0.92</td><td>\\nodata</td></tr>\n",
       "<tr><td>J0806+1442</td><td>1.21268</td><td>+08:06:30.30</td><td>+14:42:42.4</td><td>0.9238</td><td>17.2</td><td>0.2</td><td>-14</td><td>9</td><td>12.57</td><td>0.09</td><td>0.09</td><td>-1.4</td><td>0.22</td><td>0.22</td><td>-1.55</td><td>-1.26</td><td>-1.66</td><td>-1.01</td></tr>\n",
       "<tr><td>J0810+5025</td><td>1.20573</td><td>+08:10:02.69</td><td>+50:25:38.7</td><td>0.65</td><td>16.82</td><td>0.15</td><td>-100</td><td>100</td><td>11.75</td><td>-1.0</td><td>-1.0</td><td>-1.81</td><td>-1.0</td><td>-1.0</td><td>\\nodata</td><td>&lt;-1.67</td><td>\\nodata</td><td>&lt;-1.43</td></tr>\n",
       "</table>"
      ],
      "text/plain": [
       "<Table length=5>\n",
       "  Target     z_em       RA      ... 68%[X/H]_high 95%[X/H]_low 95%[X/H]_high\n",
       "  str11    float64    str12     ...      str7         str7          str7    \n",
       "---------- ------- ------------ ... ------------- ------------ -------------\n",
       "J0800+4212 0.99407 +08:00:03.90 ...         -1.85        -2.24         -1.62\n",
       "J0804+2743 1.21924 +08:04:24.97 ...         -1.79        -2.24         -1.52\n",
       "J0806+1442 1.21268 +08:06:30.30 ...       \\nodata       >-0.92       \\nodata\n",
       "J0806+1442 1.21268 +08:06:30.30 ...         -1.26        -1.66         -1.01\n",
       "J0810+5025 1.20573 +08:10:02.69 ...        <-1.67      \\nodata        <-1.43"
      ]
     },
     "execution_count": 3,
     "metadata": {},
     "output_type": "execute_result"
    }
   ],
   "source": [
    "w16_mtl[0:5]"
   ]
  },
  {
   "cell_type": "code",
   "execution_count": 4,
   "metadata": {
    "collapsed": false
   },
   "outputs": [
    {
     "data": {
      "text/html": [
       "&lt;Table length=5&gt;\n",
       "<table id=\"table4620064784\">\n",
       "<thead><tr><th>Target</th><th>z_em</th><th>RA</th><th>DEC</th><th>z_abs</th><th>logNHI</th><th>elogNHI</th><th>vmin</th><th>vmax</th><th>logNMgII</th><th>ep_logNMgII</th><th>em_logNMgII</th><th>[X/H]</th><th>ep_[X/H]</th><th>em_[X/H]</th><th>68%[X/H]_low</th><th>68%[X/H]_high</th><th>95%[X/H]_low</th><th>95%[X/H]_high</th></tr></thead>\n",
       "<thead><tr><th>str11</th><th>float64</th><th>str12</th><th>str11</th><th>float64</th><th>float64</th><th>float64</th><th>int64</th><th>int64</th><th>str5</th><th>float64</th><th>float64</th><th>float64</th><th>float64</th><th>float64</th><th>str7</th><th>str7</th><th>str7</th><th>str7</th></tr></thead>\n",
       "<tr><td>PKS0552-640</td><td>999.0</td><td>999</td><td>999</td><td>0.3451</td><td>16.9</td><td>0.08</td><td>999</td><td>999</td><td>12.22</td><td>-1.0</td><td>-1.0</td><td>-1.6</td><td>-1.0</td><td>-1.0</td><td>999</td><td>999</td><td>999</td><td>999</td></tr>\n",
       "<tr><td>PG1630+377</td><td>999.0</td><td>999</td><td>999</td><td>0.274</td><td>16.98</td><td>0.05</td><td>999</td><td>999</td><td>12.19</td><td>0.02</td><td>0.02</td><td>-1.71</td><td>0.06</td><td>0.06</td><td>999</td><td>999</td><td>999</td><td>999</td></tr>\n",
       "<tr><td>PKS1302-102</td><td>999.0</td><td>999</td><td>999</td><td>0.0985</td><td>17.0</td><td>0.2</td><td>999</td><td>999</td><td>UV</td><td>9999.0</td><td>9999.0</td><td>-1.6</td><td>-1.0</td><td>-1.0</td><td>999</td><td>999</td><td>999</td><td>999</td></tr>\n",
       "<tr><td>PG1206+459</td><td>999.0</td><td>999</td><td>999</td><td>0.927</td><td>17.0</td><td>0.1</td><td>999</td><td>999</td><td>13.80</td><td>0.05</td><td>0.05</td><td>0.3</td><td>999.0</td><td>999.0</td><td>999</td><td>999</td><td>999</td><td>999</td></tr>\n",
       "<tr><td>PG1634+706</td><td>999.0</td><td>999</td><td>999</td><td>1.04</td><td>17.3</td><td>0.3</td><td>999</td><td>999</td><td>12.42</td><td>0.03</td><td>0.03</td><td>-1.4</td><td>0.2</td><td>0.2</td><td>999</td><td>999</td><td>999</td><td>999</td></tr>\n",
       "</table>"
      ],
      "text/plain": [
       "<Table length=5>\n",
       "   Target     z_em    RA   DEC  ... 68%[X/H]_high 95%[X/H]_low 95%[X/H]_high\n",
       "   str11    float64 str12 str11 ...      str7         str7          str7    \n",
       "----------- ------- ----- ----- ... ------------- ------------ -------------\n",
       "PKS0552-640   999.0   999   999 ...           999          999           999\n",
       " PG1630+377   999.0   999   999 ...           999          999           999\n",
       "PKS1302-102   999.0   999   999 ...           999          999           999\n",
       " PG1206+459   999.0   999   999 ...           999          999           999\n",
       " PG1634+706   999.0   999   999 ...           999          999           999"
      ]
     },
     "execution_count": 4,
     "metadata": {},
     "output_type": "execute_result"
    }
   ],
   "source": [
    "w16_mtl[-5:]"
   ]
  },
  {
   "cell_type": "markdown",
   "metadata": {},
   "source": [
    "## Lehner+13\n",
    "\n",
    "### Metals\n",
    "\n",
    "From\n",
    "http://iopscience.iop.org/0004-637X/770/2/138/suppdata/apj472363t2_mrt.txt\n",
    "\n",
    "    In progress.."
   ]
  },
  {
   "cell_type": "markdown",
   "metadata": {},
   "source": [
    "### Metallicity"
   ]
  },
  {
   "cell_type": "code",
   "execution_count": 5,
   "metadata": {
    "collapsed": true
   },
   "outputs": [],
   "source": [
    "l13w16 = readsav(pyigm_path+'/data/LLS/Literature/wotta16_final.save')"
   ]
  },
  {
   "cell_type": "markdown",
   "metadata": {},
   "source": [
    "### RA/DEC"
   ]
  },
  {
   "cell_type": "code",
   "execution_count": 6,
   "metadata": {
    "collapsed": true
   },
   "outputs": [],
   "source": [
    "l13_radec = {'J0943+0531': 'J094331.61+053131.4', \n",
    "             'J1419+4207': 'J141910.20+420746.9', \n",
    "             'J1435+3604': 'J143511.53+360437.2', \n",
    "             'PG1116+215': 'J111908.67+211918.0',\n",
    "             'PG1522+101': 'J152424.52+095829.1', \n",
    "             'PG1338+416': 'J134100.78+412314.0', \n",
    "             'HE0439-5254': 'J044012.04-524817.65',        \n",
    "             'PG1407+265': 'J140923.91+261821.1', \n",
    "             'PG1216+069': 'J121920.92+063838.5', \n",
    "             'PKS0405-123': 'J040748.44-121136.7',\n",
    "             'J1619+3342': 'J161916.54+334238.4', \n",
    "             'PKS0637-752': 'J063546.51-751616.7', \n",
    "             'SBS1122+594': 'J112553.79+591021.5',\n",
    "             'HE0153-4520': 'J015513.22-450611.6', \n",
    "             'PHL1377': 'J023507.34-040205.3', \n",
    "             'PKS0552-640': 'J055224.51-640210.8',\n",
    "             'PG1630+377': 'J163201.11+373750.0', \n",
    "             'PKS1302-102': 'J130533.01-103319.4', \n",
    "             'PG1206+459': 'J120858.00+454035.4', \n",
    "             'PG1634+706': 'J163428.99+703132.4'}"
   ]
  },
  {
   "cell_type": "markdown",
   "metadata": {},
   "source": [
    "### $z_{\\rm em}$"
   ]
  },
  {
   "cell_type": "code",
   "execution_count": 7,
   "metadata": {
    "collapsed": false
   },
   "outputs": [],
   "source": [
    "l13_zem =  {'J0943+0531': 0.56449,\n",
    "             'J1419+4207': 0.87350,\n",
    "             'J1435+3604': 0.42860,\n",
    "             'PG1116+215': 0.17650,\n",
    "             'PG1522+101': 1.32825,\n",
    "             'PG1338+416': 1.21420,\n",
    "             'HE0439-5254': 1.05300,\n",
    "             'PG1407+265': 0.94,\n",
    "             'PG1216+069': 0.3313,\n",
    "             'PKS0405-123': 0.5726,\n",
    "             'J1619+3342': 0.47093,\n",
    "             'PKS0637-752': 0.651,\n",
    "             'SBS1122+594': 0.85242, \n",
    "             'HE0153-4520': 0.451,\n",
    "             'PHL1377': 1.4398,\n",
    "             'PKS0552-640': 0.680,\n",
    "             'PG1630+377': 1.47465,\n",
    "             'PKS1302-102': 0.2784,\n",
    "             'PG1206+459': 1.16200,\n",
    "             'PG1634+706': 1.337 }"
   ]
  },
  {
   "cell_type": "code",
   "execution_count": 8,
   "metadata": {
    "collapsed": false
   },
   "outputs": [
    {
     "data": {
      "text/plain": [
       "array([ 0.35420001,  0.42559999,  0.38780001,  0.13850001,  0.51849997,\n",
       "        0.3488    ,  0.6153    ,  0.53460002,  0.68279999,  0.28889999,\n",
       "        0.2823    ,  0.1672    ,  0.68650001,  0.2694    ,  0.46849999,\n",
       "        0.55739999,  0.2261    ,  0.373     ,  0.72920001,  0.7392    ,\n",
       "        0.34509999,  0.27399999,  0.0985    ,  0.92699999,  1.03999996], dtype=float32)"
      ]
     },
     "execution_count": 8,
     "metadata": {},
     "output_type": "execute_result"
    }
   ],
   "source": [
    "l13w16['znl']"
   ]
  },
  {
   "cell_type": "markdown",
   "metadata": {},
   "source": [
    "### Build the systems"
   ]
  },
  {
   "cell_type": "code",
   "execution_count": 9,
   "metadata": {
    "collapsed": false
   },
   "outputs": [],
   "source": [
    "L13_lls = []\n",
    "for ii,qso in enumerate(l13w16['sightlinenl']):\n",
    "    # init\n",
    "    lls = LLSSystem(radec=l13_radec[qso],zem=l13_zem[qso],\n",
    "                    zabs=l13w16['znl'][ii],NHI=l13w16['nhinl'][ii],\n",
    "                    sig_NHI=l13w16['enhinl'][ii], \n",
    "                    vlim=[-500,500]*u.km/u.s)\n",
    "    # Metallicity\n",
    "    lls.ZH = l13w16['metnl'][ii]\n",
    "    lls.sig_ZH = (l13w16['em_metnl'][ii], l13w16['ep_metnl'][ii])\n",
    "    # MgII\n",
    "    mtw = np.where((w16_mtl['Target'] == qso) & (np.abs(w16_mtl['z_abs']-lls.zabs) < 1e-2))[0]\n",
    "    if len(mtw) != 1:\n",
    "        pdb.set_trace()\n",
    "    else:\n",
    "        iw16 = mtw[0]\n",
    "    try:\n",
    "        eMgII = float(w16_mtl['ep_logNMgII'][iw16])\n",
    "    except:\n",
    "        pass\n",
    "    else:\n",
    "        if eMgII > 9000:\n",
    "            pass\n",
    "        else:\n",
    "            if w16_mtl['ep_logNMgII'][iw16] == -1.:\n",
    "                flg = 3\n",
    "            elif w16_mtl['ep_logNMgII'][iw16] == 1.:\n",
    "                flg = 2\n",
    "            else:\n",
    "                flg = 1\n",
    "            # Build a component\n",
    "            absc = AbsComponent(lls.coord, (12,2), lls.zabs, [w16_mtl['vmin'][iw16],w16_mtl['vmax'][iw16]]*u.km/u.s, \n",
    "                               Ntup=(flg, float(w16_mtl['logNMgII'][iw16]), \n",
    "                                    np.mean([w16_mtl['em_logNMgII'][iw16],w16_mtl['ep_logNMgII'][iw16]])))\n",
    "            # Add\n",
    "            lls._components.append(absc)\n",
    "    # Append\n",
    "    L13_lls.append(lls)"
   ]
  },
  {
   "cell_type": "markdown",
   "metadata": {},
   "source": [
    "### Finish"
   ]
  },
  {
   "cell_type": "code",
   "execution_count": 10,
   "metadata": {
    "collapsed": true
   },
   "outputs": [],
   "source": [
    "L13 = LLSSurvey()\n",
    "L13._abs_sys = L13_lls"
   ]
  },
  {
   "cell_type": "code",
   "execution_count": 11,
   "metadata": {
    "collapsed": false
   },
   "outputs": [
    {
     "data": {
      "text/plain": [
       "array([-1.29999995, -1.39999998, -1.39999998, -0.5       , -0.40000001,\n",
       "       -0.75      , -0.30000001, -0.2       , -1.79999995, -0.64999998,\n",
       "       -1.64999998,  0.1       ,  0.1       , -1.60000002, -0.40000001,\n",
       "       -1.04999995, -0.80000001, -1.85000002, -2.        , -1.45000005,\n",
       "       -1.60000002, -1.71000004, -1.60000002,  0.30000001, -1.39999998], dtype=float32)"
      ]
     },
     "execution_count": 11,
     "metadata": {},
     "output_type": "execute_result"
    }
   ],
   "source": [
    "L13.ZH"
   ]
  },
  {
   "cell_type": "code",
   "execution_count": 12,
   "metadata": {
    "collapsed": true
   },
   "outputs": [],
   "source": [
    "L13.fill_ions(use_components=True)"
   ]
  },
  {
   "cell_type": "code",
   "execution_count": 13,
   "metadata": {
    "collapsed": false
   },
   "outputs": [
    {
     "data": {
      "text/html": [
       "&lt;Table length=25&gt;\n",
       "<table id=\"table4626872784\">\n",
       "<thead><tr><th>name</th><th>Z</th><th>ion</th><th>A</th><th>Ej</th><th>z</th><th>vmin</th><th>vmax</th><th>flag_N</th><th>logN</th><th>sig_logN</th></tr></thead>\n",
       "<thead><tr><th></th><th></th><th></th><th></th><th>1 / cm</th><th></th><th>km / s</th><th>km / s</th><th></th><th></th><th></th></tr></thead>\n",
       "<thead><tr><th>unicode32</th><th>int64</th><th>int64</th><th>int64</th><th>float64</th><th>float64</th><th>float64</th><th>float64</th><th>int64</th><th>float64</th><th>float64</th></tr></thead>\n",
       "<tr><td>J094331.61+053131.4_z0.354</td><td>12</td><td>2</td><td>0</td><td>0.0</td><td>0.354200005531</td><td>999.0</td><td>999.0</td><td>3</td><td>11.68</td><td>-1.0</td></tr>\n",
       "<tr><td>J141910.2+420746.9_z0.426</td><td>12</td><td>2</td><td>0</td><td>0.0</td><td>0.425599992275</td><td>999.0</td><td>999.0</td><td>3</td><td>11.78</td><td>-1.0</td></tr>\n",
       "<tr><td>J143511.53+360437.2_z0.388</td><td>12</td><td>2</td><td>0</td><td>0.0</td><td>0.387800008059</td><td>999.0</td><td>999.0</td><td>3</td><td>11.66</td><td>-1.0</td></tr>\n",
       "<tr><td>J111908.67+211918_z0.139</td><td>0</td><td>0</td><td>0</td><td>0.0</td><td>0.0</td><td>0.0</td><td>0.0</td><td>0</td><td>0.0</td><td>0.0</td></tr>\n",
       "<tr><td>J152424.52+095829.1_z0.518</td><td>12</td><td>2</td><td>0</td><td>0.0</td><td>0.518499970436</td><td>999.0</td><td>999.0</td><td>1</td><td>12.28</td><td>0.03</td></tr>\n",
       "<tr><td>J134100.78+412314_z0.349</td><td>12</td><td>2</td><td>0</td><td>0.0</td><td>0.348800003529</td><td>999.0</td><td>999.0</td><td>1</td><td>12.49</td><td>0.02</td></tr>\n",
       "<tr><td>J044012.04-524817.65_z0.615</td><td>12</td><td>2</td><td>0</td><td>0.0</td><td>0.615299999714</td><td>999.0</td><td>999.0</td><td>2</td><td>12.66</td><td>1.0</td></tr>\n",
       "<tr><td>J141910.2+420746.9_z0.535</td><td>12</td><td>2</td><td>0</td><td>0.0</td><td>0.534600019455</td><td>999.0</td><td>999.0</td><td>1</td><td>12.64</td><td>0.02</td></tr>\n",
       "<tr><td>J140923.91+261821.1_z0.683</td><td>12</td><td>2</td><td>0</td><td>0.0</td><td>0.682799994946</td><td>999.0</td><td>999.0</td><td>3</td><td>11.47</td><td>-1.0</td></tr>\n",
       "<tr><td>...</td><td>...</td><td>...</td><td>...</td><td>...</td><td>...</td><td>...</td><td>...</td><td>...</td><td>...</td><td>...</td></tr>\n",
       "<tr><td>J112553.79+591021.5_z0.557</td><td>12</td><td>2</td><td>0</td><td>0.0</td><td>0.557399988174</td><td>999.0</td><td>999.0</td><td>1</td><td>12.63</td><td>0.11</td></tr>\n",
       "<tr><td>J015513.22-450611.6_z0.226</td><td>0</td><td>0</td><td>0</td><td>0.0</td><td>0.0</td><td>0.0</td><td>0.0</td><td>0</td><td>0.0</td><td>0.0</td></tr>\n",
       "<tr><td>J143511.53+360437.2_z0.373</td><td>12</td><td>2</td><td>0</td><td>0.0</td><td>0.372999995947</td><td>999.0</td><td>999.0</td><td>1</td><td>11.56</td><td>0.02</td></tr>\n",
       "<tr><td>J152424.52+095829.1_z0.729</td><td>12</td><td>2</td><td>0</td><td>0.0</td><td>0.729200005531</td><td>999.0</td><td>999.0</td><td>3</td><td>11.49</td><td>-1.0</td></tr>\n",
       "<tr><td>J023507.34-040205.3_z0.739</td><td>12</td><td>2</td><td>0</td><td>0.0</td><td>0.739199995995</td><td>999.0</td><td>999.0</td><td>1</td><td>11.98</td><td>0.1</td></tr>\n",
       "<tr><td>J055224.51-640210.8_z0.345</td><td>12</td><td>2</td><td>0</td><td>0.0</td><td>0.3450999856</td><td>999.0</td><td>999.0</td><td>3</td><td>12.22</td><td>-1.0</td></tr>\n",
       "<tr><td>J163201.11+373750_z0.274</td><td>12</td><td>2</td><td>0</td><td>0.0</td><td>0.273999989033</td><td>999.0</td><td>999.0</td><td>1</td><td>12.19</td><td>0.02</td></tr>\n",
       "<tr><td>J130533.01-103319.4_z0.098</td><td>0</td><td>0</td><td>0</td><td>0.0</td><td>0.0</td><td>0.0</td><td>0.0</td><td>0</td><td>0.0</td><td>0.0</td></tr>\n",
       "<tr><td>J120858+454035.4_z0.927</td><td>12</td><td>2</td><td>0</td><td>0.0</td><td>0.926999986172</td><td>999.0</td><td>999.0</td><td>1</td><td>13.8</td><td>0.05</td></tr>\n",
       "<tr><td>J163428.99+703132.4_z1.040</td><td>12</td><td>2</td><td>0</td><td>0.0</td><td>1.03999996185</td><td>999.0</td><td>999.0</td><td>1</td><td>12.42</td><td>0.03</td></tr>\n",
       "</table>"
      ],
      "text/plain": [
       "<Table length=25>\n",
       "            name              Z    ion    A   ... flag_N   logN  sig_logN\n",
       "                                              ...                        \n",
       "         unicode32          int64 int64 int64 ... int64  float64 float64 \n",
       "--------------------------- ----- ----- ----- ... ------ ------- --------\n",
       " J094331.61+053131.4_z0.354    12     2     0 ...      3   11.68     -1.0\n",
       "  J141910.2+420746.9_z0.426    12     2     0 ...      3   11.78     -1.0\n",
       " J143511.53+360437.2_z0.388    12     2     0 ...      3   11.66     -1.0\n",
       "   J111908.67+211918_z0.139     0     0     0 ...      0     0.0      0.0\n",
       " J152424.52+095829.1_z0.518    12     2     0 ...      1   12.28     0.03\n",
       "   J134100.78+412314_z0.349    12     2     0 ...      1   12.49     0.02\n",
       "J044012.04-524817.65_z0.615    12     2     0 ...      2   12.66      1.0\n",
       "  J141910.2+420746.9_z0.535    12     2     0 ...      1   12.64     0.02\n",
       " J140923.91+261821.1_z0.683    12     2     0 ...      3   11.47     -1.0\n",
       "                        ...   ...   ...   ... ...    ...     ...      ...\n",
       " J112553.79+591021.5_z0.557    12     2     0 ...      1   12.63     0.11\n",
       " J015513.22-450611.6_z0.226     0     0     0 ...      0     0.0      0.0\n",
       " J143511.53+360437.2_z0.373    12     2     0 ...      1   11.56     0.02\n",
       " J152424.52+095829.1_z0.729    12     2     0 ...      3   11.49     -1.0\n",
       " J023507.34-040205.3_z0.739    12     2     0 ...      1   11.98      0.1\n",
       " J055224.51-640210.8_z0.345    12     2     0 ...      3   12.22     -1.0\n",
       "   J163201.11+373750_z0.274    12     2     0 ...      1   12.19     0.02\n",
       " J130533.01-103319.4_z0.098     0     0     0 ...      0     0.0      0.0\n",
       "    J120858+454035.4_z0.927    12     2     0 ...      1    13.8     0.05\n",
       " J163428.99+703132.4_z1.040    12     2     0 ...      1   12.42     0.03"
      ]
     },
     "execution_count": 13,
     "metadata": {},
     "output_type": "execute_result"
    }
   ],
   "source": [
    "L13.ions((12,2))"
   ]
  },
  {
   "cell_type": "markdown",
   "metadata": {},
   "source": [
    "## Wotta+16"
   ]
  },
  {
   "cell_type": "markdown",
   "metadata": {},
   "source": [
    "### Build Systems"
   ]
  },
  {
   "cell_type": "code",
   "execution_count": 14,
   "metadata": {
    "collapsed": false
   },
   "outputs": [],
   "source": [
    "w16_lls = []\n",
    "for ii,row in enumerate(w16_mtl):\n",
    "    # L13?\n",
    "    if ':' not in row['RA']:\n",
    "        continue\n",
    "    # init\n",
    "    lls = LLSSystem(radec=(row['RA']+row['DEC']),zem=row['z_em'],\n",
    "                    zabs=row['z_abs'],NHI=row['logNHI'],\n",
    "                    sig_NHI=row['elogNHI'],\n",
    "                    vlim=[-500,500]*u.km/u.s)\n",
    "    # Metallicity\n",
    "    lls.ZH = row['[X/H]']\n",
    "    lls.sig_ZH = (row['em_[X/H]'], row['ep_[X/H]'])\n",
    "    # MgII component\n",
    "    try:\n",
    "        eMgII = float(row['ep_logNMgII'])\n",
    "    except:\n",
    "        pass\n",
    "    else:\n",
    "        if eMgII > 9000:\n",
    "            pass\n",
    "        else:\n",
    "            if row['ep_logNMgII'] == -1.:\n",
    "                flg = 3\n",
    "            elif row['ep_logNMgII'] == 1.:\n",
    "                flg = 2\n",
    "            else:\n",
    "                flg = 1\n",
    "            # Build a component\n",
    "            absc = AbsComponent(lls.coord, (12,2), lls.zabs, [row['vmin'],row['vmax']]*u.km/u.s, \n",
    "                               Ntup=(flg, float(row['logNMgII']), \n",
    "                                    np.mean([row['em_logNMgII'],row['ep_logNMgII']])))\n",
    "            # Add\n",
    "            #pdb.set_trace()\n",
    "            lls._components.append(absc)\n",
    "    # Append\n",
    "    w16_lls.append(lls)"
   ]
  },
  {
   "cell_type": "code",
   "execution_count": 15,
   "metadata": {
    "collapsed": true
   },
   "outputs": [],
   "source": [
    "W16 = LLSSurvey()\n",
    "W16._abs_sys = w16_lls"
   ]
  },
  {
   "cell_type": "code",
   "execution_count": 16,
   "metadata": {
    "collapsed": false
   },
   "outputs": [
    {
     "data": {
      "text/plain": [
       "array([-1.99, -1.96, -0.64, -1.4 , -1.81, -0.73, -0.39, -1.08, -1.56,\n",
       "       -0.17, -1.31, -1.33, -1.12, -0.85, -0.52, -0.92, -0.41, -1.27,\n",
       "       -2.48, -0.49, -0.44, -1.92, -0.72, -1.79, -1.65, -1.77, -0.23,\n",
       "       -1.6 , -0.48, -1.66])"
      ]
     },
     "execution_count": 16,
     "metadata": {},
     "output_type": "execute_result"
    }
   ],
   "source": [
    "W16.ZH"
   ]
  },
  {
   "cell_type": "code",
   "execution_count": 17,
   "metadata": {
    "collapsed": true
   },
   "outputs": [],
   "source": [
    "W16.fill_ions(use_components=True)"
   ]
  },
  {
   "cell_type": "code",
   "execution_count": 18,
   "metadata": {
    "collapsed": false
   },
   "outputs": [
    {
     "data": {
      "text/html": [
       "&lt;Table length=30&gt;\n",
       "<table id=\"table4623920528\">\n",
       "<thead><tr><th>name</th><th>Z</th><th>ion</th><th>A</th><th>Ej</th><th>z</th><th>vmin</th><th>vmax</th><th>flag_N</th><th>logN</th><th>sig_logN</th></tr></thead>\n",
       "<thead><tr><th></th><th></th><th></th><th></th><th>1 / cm</th><th></th><th>km / s</th><th>km / s</th><th></th><th></th><th></th></tr></thead>\n",
       "<thead><tr><th>unicode32</th><th>int64</th><th>int64</th><th>int64</th><th>float64</th><th>float64</th><th>float64</th><th>float64</th><th>int64</th><th>float64</th><th>float64</th></tr></thead>\n",
       "<tr><td>J080003.9+421253.2_z0.598</td><td>12</td><td>2</td><td>0</td><td>0.0</td><td>0.598</td><td>-100.0</td><td>100.0</td><td>1</td><td>11.75</td><td>0.235</td></tr>\n",
       "<tr><td>J080424.97+274323.2_z0.911</td><td>12</td><td>2</td><td>0</td><td>0.0</td><td>0.9106</td><td>-103.0</td><td>79.0</td><td>1</td><td>12.27</td><td>0.07</td></tr>\n",
       "<tr><td>J080630.3+144242.4_z1.094</td><td>12</td><td>2</td><td>0</td><td>0.0</td><td>1.0943</td><td>-26.0</td><td>16.0</td><td>2</td><td>13.51</td><td>1.0</td></tr>\n",
       "<tr><td>J080630.3+144242.4_z0.924</td><td>12</td><td>2</td><td>0</td><td>0.0</td><td>0.9238</td><td>-14.0</td><td>9.0</td><td>1</td><td>12.57</td><td>0.09</td></tr>\n",
       "<tr><td>J081002.69+502538.7_z0.650</td><td>12</td><td>2</td><td>0</td><td>0.0</td><td>0.65</td><td>-100.0</td><td>100.0</td><td>3</td><td>11.75</td><td>-1.0</td></tr>\n",
       "<tr><td>J081007.64+542443.7_z0.857</td><td>12</td><td>2</td><td>0</td><td>0.0</td><td>0.857</td><td>-115.0</td><td>115.0</td><td>2</td><td>13.55</td><td>1.0</td></tr>\n",
       "<tr><td>J095045.71+302518.4_z0.588</td><td>12</td><td>2</td><td>0</td><td>0.0</td><td>0.5876</td><td>-150.0</td><td>150.0</td><td>2</td><td>13.35</td><td>1.0</td></tr>\n",
       "<tr><td>J095045.71+302518.4_z0.574</td><td>12</td><td>2</td><td>0</td><td>0.0</td><td>0.5739</td><td>-142.0</td><td>191.0</td><td>1</td><td>13.24</td><td>0.1</td></tr>\n",
       "<tr><td>J095711.78+631010.1_z0.910</td><td>12</td><td>2</td><td>0</td><td>0.0</td><td>0.91</td><td>-100.0</td><td>100.0</td><td>3</td><td>11.89</td><td>-1.0</td></tr>\n",
       "<tr><td>...</td><td>...</td><td>...</td><td>...</td><td>...</td><td>...</td><td>...</td><td>...</td><td>...</td><td>...</td><td>...</td></tr>\n",
       "<tr><td>J152843.91+520517.7_z0.581</td><td>12</td><td>2</td><td>0</td><td>0.0</td><td>0.5809</td><td>-103.0</td><td>90.0</td><td>2</td><td>13.65</td><td>1.0</td></tr>\n",
       "<tr><td>J153602.47+393207_z0.454</td><td>12</td><td>2</td><td>0</td><td>0.0</td><td>0.454</td><td>-30.0</td><td>30.0</td><td>3</td><td>11.49</td><td>-1.0</td></tr>\n",
       "<tr><td>J163156.13+435943.6_z0.520</td><td>12</td><td>2</td><td>0</td><td>0.0</td><td>0.5196</td><td>-100.0</td><td>125.0</td><td>2</td><td>12.81</td><td>1.0</td></tr>\n",
       "<tr><td>J171654.2+302701.4_z0.756</td><td>12</td><td>2</td><td>0</td><td>0.0</td><td>0.756</td><td>-30.0</td><td>30.0</td><td>3</td><td>11.38</td><td>-1.0</td></tr>\n",
       "<tr><td>J171654.2+302701.4_z0.710</td><td>12</td><td>2</td><td>0</td><td>0.0</td><td>0.7103</td><td>-30.0</td><td>30.0</td><td>3</td><td>11.43</td><td>-1.0</td></tr>\n",
       "<tr><td>J171654.2+302701.4_z0.400</td><td>12</td><td>2</td><td>0</td><td>0.0</td><td>0.3995</td><td>-11.0</td><td>20.0</td><td>1</td><td>11.94</td><td>0.08</td></tr>\n",
       "<tr><td>J225350.09+140210.3_z0.574</td><td>12</td><td>2</td><td>0</td><td>0.0</td><td>0.5737</td><td>-220.0</td><td>190.0</td><td>1</td><td>13.28</td><td>0.07</td></tr>\n",
       "<tr><td>J225350.09+140210.3_z0.327</td><td>12</td><td>2</td><td>0</td><td>0.0</td><td>0.327</td><td>-100.0</td><td>100.0</td><td>1</td><td>11.96</td><td>0.225</td></tr>\n",
       "<tr><td>J225541.64+145715.9_z0.805</td><td>12</td><td>2</td><td>0</td><td>0.0</td><td>0.8051</td><td>-100.0</td><td>135.0</td><td>1</td><td>13.11</td><td>0.06</td></tr>\n",
       "<tr><td>J225541.64+145715.9_z0.446</td><td>12</td><td>2</td><td>0</td><td>0.0</td><td>0.446</td><td>-100.0</td><td>100.0</td><td>3</td><td>11.7</td><td>-1.0</td></tr>\n",
       "</table>"
      ],
      "text/plain": [
       "<Table length=30>\n",
       "           name              Z    ion    A   ...   vmax  flag_N   logN  sig_logN\n",
       "                                             ...  km / s                        \n",
       "        unicode32          int64 int64 int64 ... float64 int64  float64 float64 \n",
       "-------------------------- ----- ----- ----- ... ------- ------ ------- --------\n",
       " J080003.9+421253.2_z0.598    12     2     0 ...   100.0      1   11.75    0.235\n",
       "J080424.97+274323.2_z0.911    12     2     0 ...    79.0      1   12.27     0.07\n",
       " J080630.3+144242.4_z1.094    12     2     0 ...    16.0      2   13.51      1.0\n",
       " J080630.3+144242.4_z0.924    12     2     0 ...     9.0      1   12.57     0.09\n",
       "J081002.69+502538.7_z0.650    12     2     0 ...   100.0      3   11.75     -1.0\n",
       "J081007.64+542443.7_z0.857    12     2     0 ...   115.0      2   13.55      1.0\n",
       "J095045.71+302518.4_z0.588    12     2     0 ...   150.0      2   13.35      1.0\n",
       "J095045.71+302518.4_z0.574    12     2     0 ...   191.0      1   13.24      0.1\n",
       "J095711.78+631010.1_z0.910    12     2     0 ...   100.0      3   11.89     -1.0\n",
       "                       ...   ...   ...   ... ...     ...    ...     ...      ...\n",
       "J152843.91+520517.7_z0.581    12     2     0 ...    90.0      2   13.65      1.0\n",
       "  J153602.47+393207_z0.454    12     2     0 ...    30.0      3   11.49     -1.0\n",
       "J163156.13+435943.6_z0.520    12     2     0 ...   125.0      2   12.81      1.0\n",
       " J171654.2+302701.4_z0.756    12     2     0 ...    30.0      3   11.38     -1.0\n",
       " J171654.2+302701.4_z0.710    12     2     0 ...    30.0      3   11.43     -1.0\n",
       " J171654.2+302701.4_z0.400    12     2     0 ...    20.0      1   11.94     0.08\n",
       "J225350.09+140210.3_z0.574    12     2     0 ...   190.0      1   13.28     0.07\n",
       "J225350.09+140210.3_z0.327    12     2     0 ...   100.0      1   11.96    0.225\n",
       "J225541.64+145715.9_z0.805    12     2     0 ...   135.0      1   13.11     0.06\n",
       "J225541.64+145715.9_z0.446    12     2     0 ...   100.0      3    11.7     -1.0"
      ]
     },
     "execution_count": 18,
     "metadata": {},
     "output_type": "execute_result"
    }
   ],
   "source": [
    "W16.ions((12,2))"
   ]
  },
  {
   "cell_type": "markdown",
   "metadata": {},
   "source": [
    "## Some fun"
   ]
  },
  {
   "cell_type": "code",
   "execution_count": 19,
   "metadata": {
    "collapsed": false
   },
   "outputs": [
    {
     "data": {
      "text/html": [
       "\n",
       "    <div class=\"bk-banner\">\n",
       "        <a href=\"http://bokeh.pydata.org\" target=\"_blank\" class=\"bk-logo bk-logo-small bk-logo-notebook\"></a>\n",
       "        <span id=\"c698e934-dcbe-48f8-b0c3-2a95d7db2d50\">Loading BokehJS ...</span>\n",
       "    </div>"
      ]
     },
     "metadata": {},
     "output_type": "display_data"
    },
    {
     "data": {
      "application/javascript": [
       "\n",
       "(function(global) {\n",
       "  function now() {\n",
       "    return new Date();\n",
       "  }\n",
       "\n",
       "  if (typeof (window._bokeh_onload_callbacks) === \"undefined\") {\n",
       "    window._bokeh_onload_callbacks = [];\n",
       "  }\n",
       "\n",
       "  function run_callbacks() {\n",
       "    window._bokeh_onload_callbacks.forEach(function(callback) { callback() });\n",
       "    delete window._bokeh_onload_callbacks\n",
       "    console.info(\"Bokeh: all callbacks have finished\");\n",
       "  }\n",
       "\n",
       "  function load_libs(js_urls, callback) {\n",
       "    window._bokeh_onload_callbacks.push(callback);\n",
       "    if (window._bokeh_is_loading > 0) {\n",
       "      console.log(\"Bokeh: BokehJS is being loaded, scheduling callback at\", now());\n",
       "      return null;\n",
       "    }\n",
       "    if (js_urls == null || js_urls.length === 0) {\n",
       "      run_callbacks();\n",
       "      return null;\n",
       "    }\n",
       "    console.log(\"Bokeh: BokehJS not loaded, scheduling load and callback at\", now());\n",
       "    window._bokeh_is_loading = js_urls.length;\n",
       "    for (var i = 0; i < js_urls.length; i++) {\n",
       "      var url = js_urls[i];\n",
       "      var s = document.createElement('script');\n",
       "      s.src = url;\n",
       "      s.async = false;\n",
       "      s.onreadystatechange = s.onload = function() {\n",
       "        window._bokeh_is_loading--;\n",
       "        if (window._bokeh_is_loading === 0) {\n",
       "          console.log(\"Bokeh: all BokehJS libraries loaded\");\n",
       "          run_callbacks()\n",
       "        }\n",
       "      };\n",
       "      s.onerror = function() {\n",
       "        console.warn(\"failed to load library \" + url);\n",
       "      };\n",
       "      console.log(\"Bokeh: injecting script tag for BokehJS library: \", url);\n",
       "      document.getElementsByTagName(\"head\")[0].appendChild(s);\n",
       "    }\n",
       "  };\n",
       "\n",
       "  var js_urls = ['https://cdn.pydata.org/bokeh/release/bokeh-0.11.1.min.js', 'https://cdn.pydata.org/bokeh/release/bokeh-widgets-0.11.1.min.js', 'https://cdn.pydata.org/bokeh/release/bokeh-compiler-0.11.1.min.js'];\n",
       "\n",
       "  var inline_js = [\n",
       "    function(Bokeh) {\n",
       "      Bokeh.set_log_level(\"info\");\n",
       "    },\n",
       "    \n",
       "    function(Bokeh) {\n",
       "      Bokeh.$(\"#c698e934-dcbe-48f8-b0c3-2a95d7db2d50\").text(\"BokehJS successfully loaded\");\n",
       "    },\n",
       "    function(Bokeh) {\n",
       "      console.log(\"Bokeh: injecting CSS: https://cdn.pydata.org/bokeh/release/bokeh-0.11.1.min.css\");\n",
       "      Bokeh.embed.inject_css(\"https://cdn.pydata.org/bokeh/release/bokeh-0.11.1.min.css\");\n",
       "      console.log(\"Bokeh: injecting CSS: https://cdn.pydata.org/bokeh/release/bokeh-widgets-0.11.1.min.css\");\n",
       "      Bokeh.embed.inject_css(\"https://cdn.pydata.org/bokeh/release/bokeh-widgets-0.11.1.min.css\");\n",
       "    }\n",
       "  ];\n",
       "\n",
       "  function run_inline_js() {\n",
       "    for (var i = 0; i < inline_js.length; i++) {\n",
       "      inline_js[i](window.Bokeh);\n",
       "    }\n",
       "  }\n",
       "\n",
       "  if (window._bokeh_is_loading === 0) {\n",
       "    console.log(\"Bokeh: BokehJS loaded, going straight to plotting\");\n",
       "    run_inline_js();\n",
       "  } else {\n",
       "    load_libs(js_urls, function() {\n",
       "      console.log(\"Bokeh: BokehJS plotting callback run at\", now());\n",
       "      run_inline_js();\n",
       "    });\n",
       "  }\n",
       "}(this));"
      ]
     },
     "metadata": {},
     "output_type": "display_data"
    }
   ],
   "source": [
    "from bokeh.io import output_notebook, show, hplot, output_file\n",
    "from bokeh.plotting import figure\n",
    "from bokeh.models import Range1d\n",
    "\n",
    "output_notebook()"
   ]
  },
  {
   "cell_type": "markdown",
   "metadata": {},
   "source": [
    "### NHI"
   ]
  },
  {
   "cell_type": "code",
   "execution_count": 20,
   "metadata": {
    "collapsed": false
   },
   "outputs": [
    {
     "data": {
      "text/html": [
       "\n",
       "\n",
       "    <div class=\"plotdiv\" id=\"a6357f36-46c0-49e9-8b53-ec2572491200\"></div>\n",
       "<script type=\"text/javascript\">\n",
       "  \n",
       "  (function(global) {\n",
       "    function now() {\n",
       "      return new Date();\n",
       "    }\n",
       "  \n",
       "    if (typeof (window._bokeh_onload_callbacks) === \"undefined\") {\n",
       "      window._bokeh_onload_callbacks = [];\n",
       "    }\n",
       "  \n",
       "    function run_callbacks() {\n",
       "      window._bokeh_onload_callbacks.forEach(function(callback) { callback() });\n",
       "      delete window._bokeh_onload_callbacks\n",
       "      console.info(\"Bokeh: all callbacks have finished\");\n",
       "    }\n",
       "  \n",
       "    function load_libs(js_urls, callback) {\n",
       "      window._bokeh_onload_callbacks.push(callback);\n",
       "      if (window._bokeh_is_loading > 0) {\n",
       "        console.log(\"Bokeh: BokehJS is being loaded, scheduling callback at\", now());\n",
       "        return null;\n",
       "      }\n",
       "      if (js_urls == null || js_urls.length === 0) {\n",
       "        run_callbacks();\n",
       "        return null;\n",
       "      }\n",
       "      console.log(\"Bokeh: BokehJS not loaded, scheduling load and callback at\", now());\n",
       "      window._bokeh_is_loading = js_urls.length;\n",
       "      for (var i = 0; i < js_urls.length; i++) {\n",
       "        var url = js_urls[i];\n",
       "        var s = document.createElement('script');\n",
       "        s.src = url;\n",
       "        s.async = false;\n",
       "        s.onreadystatechange = s.onload = function() {\n",
       "          window._bokeh_is_loading--;\n",
       "          if (window._bokeh_is_loading === 0) {\n",
       "            console.log(\"Bokeh: all BokehJS libraries loaded\");\n",
       "            run_callbacks()\n",
       "          }\n",
       "        };\n",
       "        s.onerror = function() {\n",
       "          console.warn(\"failed to load library \" + url);\n",
       "        };\n",
       "        console.log(\"Bokeh: injecting script tag for BokehJS library: \", url);\n",
       "        document.getElementsByTagName(\"head\")[0].appendChild(s);\n",
       "      }\n",
       "    };var element = document.getElementById(\"a6357f36-46c0-49e9-8b53-ec2572491200\");\n",
       "    if (element == null) {\n",
       "      console.log(\"Bokeh: ERROR: autoload.js configured with elementid 'a6357f36-46c0-49e9-8b53-ec2572491200' but no matching script tag was found. \")\n",
       "      return false;\n",
       "    }\n",
       "  \n",
       "    var js_urls = [];\n",
       "  \n",
       "    var inline_js = [\n",
       "      function(Bokeh) {\n",
       "        Bokeh.$(function() {\n",
       "            var docs_json = {\"594eaa59-e8a4-4219-9838-afd362845c97\":{\"roots\":{\"references\":[{\"attributes\":{\"callback\":null},\"id\":\"a17210ce-bb03-4229-ae77-4608772b7e83\",\"type\":\"DataRange1d\"},{\"attributes\":{},\"id\":\"a8a84b6d-9544-44ea-9856-d2ac494ab2a5\",\"type\":\"BasicTicker\"},{\"attributes\":{},\"id\":\"75e468b0-1f19-4fe5-b9e3-dacda61994e8\",\"type\":\"BasicTickFormatter\"},{\"attributes\":{\"dimension\":1,\"plot\":{\"id\":\"634d9196-e597-4bae-8a1e-fe041f67cce7\",\"subtype\":\"Figure\",\"type\":\"Plot\"},\"ticker\":{\"id\":\"d906df8a-eb32-4f40-816b-dfe5879f4345\",\"type\":\"BasicTicker\"}},\"id\":\"1dfeb6a9-4496-4669-b83f-cdea6119b60a\",\"type\":\"Grid\"},{\"attributes\":{\"callback\":null,\"column_names\":[\"top\",\"left\",\"right\"],\"data\":{\"left\":[15.5,15.75,16.0,16.25,16.5,16.75,17.0,17.25,17.5,17.75],\"right\":[15.75,16.0,16.25,16.5,16.75,17.0,17.25,17.5,17.75,18.0],\"top\":[0.0,0.0,0.0,0.13333333333333333,0.5333333333333333,1.7333333333333334,0.5333333333333333,0.4,0.6666666666666666,0.0]}},\"id\":\"86db610e-6a5d-4455-acbc-6cc98676de84\",\"type\":\"ColumnDataSource\"},{\"attributes\":{\"axis_label\":\"N_HI\",\"formatter\":{\"id\":\"75e468b0-1f19-4fe5-b9e3-dacda61994e8\",\"type\":\"BasicTickFormatter\"},\"plot\":{\"id\":\"634d9196-e597-4bae-8a1e-fe041f67cce7\",\"subtype\":\"Figure\",\"type\":\"Plot\"},\"ticker\":{\"id\":\"a8a84b6d-9544-44ea-9856-d2ac494ab2a5\",\"type\":\"BasicTicker\"}},\"id\":\"ce3c7a72-35e6-4ebd-805d-ad284ce49d45\",\"type\":\"LinearAxis\"},{\"attributes\":{\"plot\":{\"id\":\"634d9196-e597-4bae-8a1e-fe041f67cce7\",\"subtype\":\"Figure\",\"type\":\"Plot\"}},\"id\":\"47a8f1b5-582f-448b-912f-00d12ce002ac\",\"type\":\"HelpTool\"},{\"attributes\":{\"plot\":{\"id\":\"634d9196-e597-4bae-8a1e-fe041f67cce7\",\"subtype\":\"Figure\",\"type\":\"Plot\"},\"ticker\":{\"id\":\"a8a84b6d-9544-44ea-9856-d2ac494ab2a5\",\"type\":\"BasicTicker\"}},\"id\":\"9271f720-6e96-4f9d-9ef8-18606293ebce\",\"type\":\"Grid\"},{\"attributes\":{\"callback\":null,\"column_names\":[\"top\",\"left\",\"right\"],\"data\":{\"left\":[15.5,15.75,16.0,16.25,16.5,16.75,17.0,17.25,17.5,17.75],\"right\":[15.75,16.0,16.25,16.5,16.75,17.0,17.25,17.5,17.75,18.0],\"top\":[0.0,0.0,0.8,1.6,0.8,0.32,0.32,0.16,0.0,0.0]}},\"id\":\"4da81141-5fba-4271-bf16-544586944163\",\"type\":\"ColumnDataSource\"},{\"attributes\":{\"bottom\":{\"value\":0},\"fill_alpha\":{\"value\":0.1},\"fill_color\":{\"value\":\"#1f77b4\"},\"left\":{\"field\":\"left\"},\"line_alpha\":{\"value\":0.1},\"line_color\":{\"value\":\"#1f77b4\"},\"right\":{\"field\":\"right\"},\"top\":{\"field\":\"top\"}},\"id\":\"26360329-8085-40b0-8fdc-4cda0978cdaa\",\"type\":\"Quad\"},{\"attributes\":{\"bottom_units\":\"screen\",\"fill_alpha\":{\"value\":0.5},\"fill_color\":{\"value\":\"lightgrey\"},\"left_units\":\"screen\",\"level\":\"overlay\",\"line_alpha\":{\"value\":1.0},\"line_color\":{\"value\":\"black\"},\"line_dash\":[4,4],\"line_width\":{\"value\":2},\"plot\":null,\"render_mode\":\"css\",\"right_units\":\"screen\",\"top_units\":\"screen\"},\"id\":\"d6b06caa-67d9-4c31-94ff-222fee67f171\",\"type\":\"BoxAnnotation\"},{\"attributes\":{\"bottom\":{\"value\":0},\"fill_color\":{\"value\":\"blue\"},\"left\":{\"field\":\"left\"},\"line_color\":{\"value\":\"#1f77b4\"},\"right\":{\"field\":\"right\"},\"top\":{\"field\":\"top\"}},\"id\":\"7a3868ba-8b3c-4903-834d-4de2bbb5c860\",\"type\":\"Quad\"},{\"attributes\":{\"plot\":{\"id\":\"634d9196-e597-4bae-8a1e-fe041f67cce7\",\"subtype\":\"Figure\",\"type\":\"Plot\"}},\"id\":\"63ba7420-dd78-447e-b3df-1bd15e5c17c6\",\"type\":\"PanTool\"},{\"attributes\":{\"plot\":{\"id\":\"634d9196-e597-4bae-8a1e-fe041f67cce7\",\"subtype\":\"Figure\",\"type\":\"Plot\"}},\"id\":\"6b78bf94-7f55-45f1-9856-1f51f3442c20\",\"type\":\"ResetTool\"},{\"attributes\":{\"callback\":null},\"id\":\"17239e65-dfb0-4b90-9cdb-a1c7918d000e\",\"type\":\"DataRange1d\"},{\"attributes\":{\"plot\":{\"id\":\"634d9196-e597-4bae-8a1e-fe041f67cce7\",\"subtype\":\"Figure\",\"type\":\"Plot\"}},\"id\":\"2f4a58ce-592f-4c0a-a84c-a414476ada37\",\"type\":\"ResizeTool\"},{\"attributes\":{},\"id\":\"d906df8a-eb32-4f40-816b-dfe5879f4345\",\"type\":\"BasicTicker\"},{\"attributes\":{\"formatter\":{\"id\":\"2f1a92fa-46ba-46aa-8a70-683f39a701d2\",\"type\":\"BasicTickFormatter\"},\"plot\":{\"id\":\"634d9196-e597-4bae-8a1e-fe041f67cce7\",\"subtype\":\"Figure\",\"type\":\"Plot\"},\"ticker\":{\"id\":\"d906df8a-eb32-4f40-816b-dfe5879f4345\",\"type\":\"BasicTicker\"}},\"id\":\"fe26fab3-bc07-4d54-af4b-1808d7f6ab1b\",\"type\":\"LinearAxis\"},{\"attributes\":{\"plot\":{\"id\":\"634d9196-e597-4bae-8a1e-fe041f67cce7\",\"subtype\":\"Figure\",\"type\":\"Plot\"}},\"id\":\"cab32dcf-abcf-483e-b5b5-31edb86d38ef\",\"type\":\"PreviewSaveTool\"},{\"attributes\":{\"overlay\":{\"id\":\"d6b06caa-67d9-4c31-94ff-222fee67f171\",\"type\":\"BoxAnnotation\"},\"plot\":{\"id\":\"634d9196-e597-4bae-8a1e-fe041f67cce7\",\"subtype\":\"Figure\",\"type\":\"Plot\"}},\"id\":\"400e8993-8b1b-4b64-8ec2-b0425c86f814\",\"type\":\"BoxZoomTool\"},{\"attributes\":{},\"id\":\"2f1a92fa-46ba-46aa-8a70-683f39a701d2\",\"type\":\"BasicTickFormatter\"},{\"attributes\":{\"below\":[{\"id\":\"ce3c7a72-35e6-4ebd-805d-ad284ce49d45\",\"type\":\"LinearAxis\"}],\"left\":[{\"id\":\"fe26fab3-bc07-4d54-af4b-1808d7f6ab1b\",\"type\":\"LinearAxis\"}],\"plot_height\":400,\"plot_width\":400,\"renderers\":[{\"id\":\"ce3c7a72-35e6-4ebd-805d-ad284ce49d45\",\"type\":\"LinearAxis\"},{\"id\":\"9271f720-6e96-4f9d-9ef8-18606293ebce\",\"type\":\"Grid\"},{\"id\":\"fe26fab3-bc07-4d54-af4b-1808d7f6ab1b\",\"type\":\"LinearAxis\"},{\"id\":\"1dfeb6a9-4496-4669-b83f-cdea6119b60a\",\"type\":\"Grid\"},{\"id\":\"d6b06caa-67d9-4c31-94ff-222fee67f171\",\"type\":\"BoxAnnotation\"},{\"id\":\"bc1372dc-476a-4cb2-859a-b9a18d610660\",\"type\":\"GlyphRenderer\"},{\"id\":\"21292b7f-981f-4a03-95d9-a2b4d985f2ac\",\"type\":\"GlyphRenderer\"}],\"title\":\"L13/W16 NHI\",\"tool_events\":{\"id\":\"9ccb96f6-87b7-42e5-9618-cb69805fa9f5\",\"type\":\"ToolEvents\"},\"tools\":[{\"id\":\"63ba7420-dd78-447e-b3df-1bd15e5c17c6\",\"type\":\"PanTool\"},{\"id\":\"49d32dca-ba76-4583-9477-d7239880ed9e\",\"type\":\"WheelZoomTool\"},{\"id\":\"400e8993-8b1b-4b64-8ec2-b0425c86f814\",\"type\":\"BoxZoomTool\"},{\"id\":\"cab32dcf-abcf-483e-b5b5-31edb86d38ef\",\"type\":\"PreviewSaveTool\"},{\"id\":\"2f4a58ce-592f-4c0a-a84c-a414476ada37\",\"type\":\"ResizeTool\"},{\"id\":\"6b78bf94-7f55-45f1-9856-1f51f3442c20\",\"type\":\"ResetTool\"},{\"id\":\"47a8f1b5-582f-448b-912f-00d12ce002ac\",\"type\":\"HelpTool\"}],\"x_range\":{\"id\":\"a17210ce-bb03-4229-ae77-4608772b7e83\",\"type\":\"DataRange1d\"},\"y_range\":{\"id\":\"17239e65-dfb0-4b90-9cdb-a1c7918d000e\",\"type\":\"DataRange1d\"}},\"id\":\"634d9196-e597-4bae-8a1e-fe041f67cce7\",\"subtype\":\"Figure\",\"type\":\"Plot\"},{\"attributes\":{\"plot\":{\"id\":\"634d9196-e597-4bae-8a1e-fe041f67cce7\",\"subtype\":\"Figure\",\"type\":\"Plot\"}},\"id\":\"49d32dca-ba76-4583-9477-d7239880ed9e\",\"type\":\"WheelZoomTool\"},{\"attributes\":{\"data_source\":{\"id\":\"86db610e-6a5d-4455-acbc-6cc98676de84\",\"type\":\"ColumnDataSource\"},\"glyph\":{\"id\":\"fdfff8c6-da61-4bfe-b41d-ff4586c49520\",\"type\":\"Quad\"},\"hover_glyph\":null,\"nonselection_glyph\":{\"id\":\"26360329-8085-40b0-8fdc-4cda0978cdaa\",\"type\":\"Quad\"},\"selection_glyph\":null},\"id\":\"21292b7f-981f-4a03-95d9-a2b4d985f2ac\",\"type\":\"GlyphRenderer\"},{\"attributes\":{\"data_source\":{\"id\":\"4da81141-5fba-4271-bf16-544586944163\",\"type\":\"ColumnDataSource\"},\"glyph\":{\"id\":\"7a3868ba-8b3c-4903-834d-4de2bbb5c860\",\"type\":\"Quad\"},\"hover_glyph\":null,\"nonselection_glyph\":{\"id\":\"53ec766e-5c04-4ac7-b070-0a825e7b645f\",\"type\":\"Quad\"},\"selection_glyph\":null},\"id\":\"bc1372dc-476a-4cb2-859a-b9a18d610660\",\"type\":\"GlyphRenderer\"},{\"attributes\":{},\"id\":\"9ccb96f6-87b7-42e5-9618-cb69805fa9f5\",\"type\":\"ToolEvents\"},{\"attributes\":{\"bottom\":{\"value\":0},\"fill_color\":{\"value\":\"red\"},\"left\":{\"field\":\"left\"},\"line_color\":{\"value\":\"#1f77b4\"},\"right\":{\"field\":\"right\"},\"top\":{\"field\":\"top\"}},\"id\":\"fdfff8c6-da61-4bfe-b41d-ff4586c49520\",\"type\":\"Quad\"},{\"attributes\":{\"bottom\":{\"value\":0},\"fill_alpha\":{\"value\":0.1},\"fill_color\":{\"value\":\"#1f77b4\"},\"left\":{\"field\":\"left\"},\"line_alpha\":{\"value\":0.1},\"line_color\":{\"value\":\"#1f77b4\"},\"right\":{\"field\":\"right\"},\"top\":{\"field\":\"top\"}},\"id\":\"53ec766e-5c04-4ac7-b070-0a825e7b645f\",\"type\":\"Quad\"}],\"root_ids\":[\"634d9196-e597-4bae-8a1e-fe041f67cce7\"]},\"title\":\"Bokeh Application\",\"version\":\"0.11.1\"}};\n",
       "            var render_items = [{\"docid\":\"594eaa59-e8a4-4219-9838-afd362845c97\",\"elementid\":\"a6357f36-46c0-49e9-8b53-ec2572491200\",\"modelid\":\"634d9196-e597-4bae-8a1e-fe041f67cce7\",\"notebook_comms_target\":\"68321b17-f327-4840-91c2-e05af16967a6\"}];\n",
       "            \n",
       "            Bokeh.embed.embed_items(docs_json, render_items);\n",
       "        });\n",
       "      },\n",
       "      function(Bokeh) {\n",
       "      }\n",
       "    ];\n",
       "  \n",
       "    function run_inline_js() {\n",
       "      for (var i = 0; i < inline_js.length; i++) {\n",
       "        inline_js[i](window.Bokeh);\n",
       "      }\n",
       "    }\n",
       "  \n",
       "    if (window._bokeh_is_loading === 0) {\n",
       "      console.log(\"Bokeh: BokehJS loaded, going straight to plotting\");\n",
       "      run_inline_js();\n",
       "    } else {\n",
       "      load_libs(js_urls, function() {\n",
       "        console.log(\"Bokeh: BokehJS plotting callback run at\", now());\n",
       "        run_inline_js();\n",
       "      });\n",
       "    }\n",
       "  }(this));\n",
       "</script>"
      ]
     },
     "metadata": {},
     "output_type": "display_data"
    },
    {
     "data": {
      "text/html": [
       "<p><code>&lt;Bokeh Notebook handle for <strong>In[20]</strong>&gt;</code></p>"
      ],
      "text/plain": [
       "<bokeh.io._CommsHandle at 0x10375e8d0>"
      ]
     },
     "execution_count": 20,
     "metadata": {},
     "output_type": "execute_result"
    }
   ],
   "source": [
    "# NHI\n",
    "p_NHI = figure(plot_width=400, plot_height=400, title='L13/W16 NHI')#,background_fill=\"#E8DDCB\")\n",
    "# L13\n",
    "hist, edges = np.histogram(L13.NHI, range=(15.5,18.), density=True, bins=10)\n",
    "p_NHI.quad(top=hist, bottom=0, left=edges[:-1], right=edges[1:],fill_color='blue')\n",
    "# W16\n",
    "hist, edges = np.histogram(W16.NHI, range=(15.5,18.), density=True, bins=10)\n",
    "p_NHI.quad(top=hist, bottom=0, left=edges[:-1], right=edges[1:],fill_color='red')\n",
    "#\n",
    "p_NHI.xaxis.axis_label = 'N_HI'\n",
    "show(p_NHI)"
   ]
  },
  {
   "cell_type": "markdown",
   "metadata": {},
   "source": [
    "### Bimodality!"
   ]
  },
  {
   "cell_type": "code",
   "execution_count": 21,
   "metadata": {
    "collapsed": false
   },
   "outputs": [],
   "source": [
    "L13W16 = L13 + W16"
   ]
  },
  {
   "cell_type": "code",
   "execution_count": 22,
   "metadata": {
    "collapsed": false
   },
   "outputs": [
    {
     "data": {
      "text/html": [
       "\n",
       "\n",
       "    <div class=\"plotdiv\" id=\"8549a249-e54d-4b8a-95a1-712b862c800f\"></div>\n",
       "<script type=\"text/javascript\">\n",
       "  \n",
       "  (function(global) {\n",
       "    function now() {\n",
       "      return new Date();\n",
       "    }\n",
       "  \n",
       "    if (typeof (window._bokeh_onload_callbacks) === \"undefined\") {\n",
       "      window._bokeh_onload_callbacks = [];\n",
       "    }\n",
       "  \n",
       "    function run_callbacks() {\n",
       "      window._bokeh_onload_callbacks.forEach(function(callback) { callback() });\n",
       "      delete window._bokeh_onload_callbacks\n",
       "      console.info(\"Bokeh: all callbacks have finished\");\n",
       "    }\n",
       "  \n",
       "    function load_libs(js_urls, callback) {\n",
       "      window._bokeh_onload_callbacks.push(callback);\n",
       "      if (window._bokeh_is_loading > 0) {\n",
       "        console.log(\"Bokeh: BokehJS is being loaded, scheduling callback at\", now());\n",
       "        return null;\n",
       "      }\n",
       "      if (js_urls == null || js_urls.length === 0) {\n",
       "        run_callbacks();\n",
       "        return null;\n",
       "      }\n",
       "      console.log(\"Bokeh: BokehJS not loaded, scheduling load and callback at\", now());\n",
       "      window._bokeh_is_loading = js_urls.length;\n",
       "      for (var i = 0; i < js_urls.length; i++) {\n",
       "        var url = js_urls[i];\n",
       "        var s = document.createElement('script');\n",
       "        s.src = url;\n",
       "        s.async = false;\n",
       "        s.onreadystatechange = s.onload = function() {\n",
       "          window._bokeh_is_loading--;\n",
       "          if (window._bokeh_is_loading === 0) {\n",
       "            console.log(\"Bokeh: all BokehJS libraries loaded\");\n",
       "            run_callbacks()\n",
       "          }\n",
       "        };\n",
       "        s.onerror = function() {\n",
       "          console.warn(\"failed to load library \" + url);\n",
       "        };\n",
       "        console.log(\"Bokeh: injecting script tag for BokehJS library: \", url);\n",
       "        document.getElementsByTagName(\"head\")[0].appendChild(s);\n",
       "      }\n",
       "    };var element = document.getElementById(\"8549a249-e54d-4b8a-95a1-712b862c800f\");\n",
       "    if (element == null) {\n",
       "      console.log(\"Bokeh: ERROR: autoload.js configured with elementid '8549a249-e54d-4b8a-95a1-712b862c800f' but no matching script tag was found. \")\n",
       "      return false;\n",
       "    }\n",
       "  \n",
       "    var js_urls = [];\n",
       "  \n",
       "    var inline_js = [\n",
       "      function(Bokeh) {\n",
       "        Bokeh.$(function() {\n",
       "            var docs_json = {\"ea45b2be-8cd0-4221-bfa8-8c751fff40a4\":{\"roots\":{\"references\":[{\"attributes\":{\"data_source\":{\"id\":\"97b71a6a-0015-40ff-bfe0-fbac5ddc6192\",\"type\":\"ColumnDataSource\"},\"glyph\":{\"id\":\"8aac7ec9-f691-48e4-a0dc-c18b14ad7704\",\"type\":\"Quad\"},\"hover_glyph\":null,\"nonselection_glyph\":{\"id\":\"66fbb082-3c14-4bfc-b666-42b335e64c30\",\"type\":\"Quad\"},\"selection_glyph\":null},\"id\":\"8c0c4f17-438a-40ca-8b68-e59cba3c5810\",\"type\":\"GlyphRenderer\"},{\"attributes\":{\"callback\":null},\"id\":\"a17210ce-bb03-4229-ae77-4608772b7e83\",\"type\":\"DataRange1d\"},{\"attributes\":{\"plot\":{\"id\":\"91270566-835f-4f40-bb86-2a9f44886361\",\"subtype\":\"Figure\",\"type\":\"Plot\"}},\"id\":\"dab86bfc-955f-4759-85ae-09a7be75f2fc\",\"type\":\"WheelZoomTool\"},{\"attributes\":{\"bottom\":{\"value\":0},\"fill_alpha\":{\"value\":0.1},\"fill_color\":{\"value\":\"#1f77b4\"},\"left\":{\"field\":\"left\"},\"line_alpha\":{\"value\":0.1},\"line_color\":{\"value\":\"#1f77b4\"},\"right\":{\"field\":\"right\"},\"top\":{\"field\":\"top\"}},\"id\":\"66fbb082-3c14-4bfc-b666-42b335e64c30\",\"type\":\"Quad\"},{\"attributes\":{},\"id\":\"a8a84b6d-9544-44ea-9856-d2ac494ab2a5\",\"type\":\"BasicTicker\"},{\"attributes\":{\"formatter\":{\"id\":\"e50da222-4c92-439f-9160-4a846e6a0e71\",\"type\":\"BasicTickFormatter\"},\"plot\":{\"id\":\"91270566-835f-4f40-bb86-2a9f44886361\",\"subtype\":\"Figure\",\"type\":\"Plot\"},\"ticker\":{\"id\":\"8b8d6c93-b1c6-468d-810c-cd3b5863fa0c\",\"type\":\"BasicTicker\"}},\"id\":\"1ad80bda-7962-4597-bbef-eaa4fe5d1b60\",\"type\":\"LinearAxis\"},{\"attributes\":{\"dimension\":1,\"plot\":{\"id\":\"634d9196-e597-4bae-8a1e-fe041f67cce7\",\"subtype\":\"Figure\",\"type\":\"Plot\"},\"ticker\":{\"id\":\"d906df8a-eb32-4f40-816b-dfe5879f4345\",\"type\":\"BasicTicker\"}},\"id\":\"1dfeb6a9-4496-4669-b83f-cdea6119b60a\",\"type\":\"Grid\"},{\"attributes\":{},\"id\":\"75e468b0-1f19-4fe5-b9e3-dacda61994e8\",\"type\":\"BasicTickFormatter\"},{\"attributes\":{\"overlay\":{\"id\":\"c845bb54-c317-4c6f-846b-249030599212\",\"type\":\"BoxAnnotation\"},\"plot\":{\"id\":\"91270566-835f-4f40-bb86-2a9f44886361\",\"subtype\":\"Figure\",\"type\":\"Plot\"}},\"id\":\"a7947224-8efa-4f4e-b927-90514130721e\",\"type\":\"BoxZoomTool\"},{\"attributes\":{},\"id\":\"8b8d6c93-b1c6-468d-810c-cd3b5863fa0c\",\"type\":\"BasicTicker\"},{\"attributes\":{\"bottom\":{\"value\":0},\"fill_color\":{\"value\":\"blue\"},\"left\":{\"field\":\"left\"},\"line_color\":{\"value\":\"#1f77b4\"},\"right\":{\"field\":\"right\"},\"top\":{\"field\":\"top\"}},\"id\":\"8aac7ec9-f691-48e4-a0dc-c18b14ad7704\",\"type\":\"Quad\"},{\"attributes\":{\"callback\":null,\"column_names\":[\"top\",\"left\",\"right\"],\"data\":{\"left\":[15.5,15.75,16.0,16.25,16.5,16.75,17.0,17.25,17.5,17.75],\"right\":[15.75,16.0,16.25,16.5,16.75,17.0,17.25,17.5,17.75,18.0],\"top\":[0.0,0.0,0.0,0.13333333333333333,0.5333333333333333,1.7333333333333334,0.5333333333333333,0.4,0.6666666666666666,0.0]}},\"id\":\"86db610e-6a5d-4455-acbc-6cc98676de84\",\"type\":\"ColumnDataSource\"},{\"attributes\":{\"axis_label\":\"N_HI\",\"formatter\":{\"id\":\"75e468b0-1f19-4fe5-b9e3-dacda61994e8\",\"type\":\"BasicTickFormatter\"},\"plot\":{\"id\":\"634d9196-e597-4bae-8a1e-fe041f67cce7\",\"subtype\":\"Figure\",\"type\":\"Plot\"},\"ticker\":{\"id\":\"a8a84b6d-9544-44ea-9856-d2ac494ab2a5\",\"type\":\"BasicTicker\"}},\"id\":\"ce3c7a72-35e6-4ebd-805d-ad284ce49d45\",\"type\":\"LinearAxis\"},{\"attributes\":{\"plot\":{\"id\":\"634d9196-e597-4bae-8a1e-fe041f67cce7\",\"subtype\":\"Figure\",\"type\":\"Plot\"}},\"id\":\"47a8f1b5-582f-448b-912f-00d12ce002ac\",\"type\":\"HelpTool\"},{\"attributes\":{\"plot\":{\"id\":\"91270566-835f-4f40-bb86-2a9f44886361\",\"subtype\":\"Figure\",\"type\":\"Plot\"}},\"id\":\"c3b095aa-32ad-4845-b381-690e6dd86c02\",\"type\":\"ResetTool\"},{\"attributes\":{\"dimension\":1,\"plot\":{\"id\":\"91270566-835f-4f40-bb86-2a9f44886361\",\"subtype\":\"Figure\",\"type\":\"Plot\"},\"ticker\":{\"id\":\"8b8d6c93-b1c6-468d-810c-cd3b5863fa0c\",\"type\":\"BasicTicker\"}},\"id\":\"668db987-9052-4392-af59-b222dad6fcaf\",\"type\":\"Grid\"},{\"attributes\":{\"axis_label\":\"[Z/H]\",\"formatter\":{\"id\":\"9092baea-4439-457b-b7b7-58071ad34376\",\"type\":\"BasicTickFormatter\"},\"plot\":{\"id\":\"91270566-835f-4f40-bb86-2a9f44886361\",\"subtype\":\"Figure\",\"type\":\"Plot\"},\"ticker\":{\"id\":\"a8c3ecdd-574b-4bea-b298-e43cd63e4ca1\",\"type\":\"BasicTicker\"}},\"id\":\"bc8f8a63-82fc-446d-a739-d1ce9564feec\",\"type\":\"LinearAxis\"},{\"attributes\":{\"data_source\":{\"id\":\"4da81141-5fba-4271-bf16-544586944163\",\"type\":\"ColumnDataSource\"},\"glyph\":{\"id\":\"7a3868ba-8b3c-4903-834d-4de2bbb5c860\",\"type\":\"Quad\"},\"hover_glyph\":null,\"nonselection_glyph\":{\"id\":\"53ec766e-5c04-4ac7-b070-0a825e7b645f\",\"type\":\"Quad\"},\"selection_glyph\":null},\"id\":\"bc1372dc-476a-4cb2-859a-b9a18d610660\",\"type\":\"GlyphRenderer\"},{\"attributes\":{\"plot\":{\"id\":\"634d9196-e597-4bae-8a1e-fe041f67cce7\",\"subtype\":\"Figure\",\"type\":\"Plot\"},\"ticker\":{\"id\":\"a8a84b6d-9544-44ea-9856-d2ac494ab2a5\",\"type\":\"BasicTicker\"}},\"id\":\"9271f720-6e96-4f9d-9ef8-18606293ebce\",\"type\":\"Grid\"},{\"attributes\":{\"callback\":null,\"column_names\":[\"top\",\"left\",\"right\"],\"data\":{\"left\":[15.5,15.75,16.0,16.25,16.5,16.75,17.0,17.25,17.5,17.75],\"right\":[15.75,16.0,16.25,16.5,16.75,17.0,17.25,17.5,17.75,18.0],\"top\":[0.0,0.0,0.8,1.6,0.8,0.32,0.32,0.16,0.0,0.0]}},\"id\":\"4da81141-5fba-4271-bf16-544586944163\",\"type\":\"ColumnDataSource\"},{\"attributes\":{\"callback\":null,\"column_names\":[\"top\",\"left\",\"right\"],\"data\":{\"left\":[-2.5,-2.35,-2.2,-2.05,-1.9,-1.75,-1.6,-1.45,-1.3,-1.1500000000000001,-1.0,-0.8500000000000001,-0.7000000000000002,-0.55,-0.3999999999999999,-0.25,-0.10000000000000009,0.04999999999999982,0.19999999999999973,0.3500000000000001],\"right\":[-2.35,-2.2,-2.05,-1.9,-1.75,-1.6,-1.45,-1.3,-1.1500000000000001,-1.0,-0.8500000000000001,-0.7000000000000002,-0.55,-0.3999999999999999,-0.25,-0.10000000000000009,0.04999999999999982,0.19999999999999973,0.3500000000000001,0.5],\"top\":[0.12121212121212128,0.0,0.0,0.48484848484848514,0.6060606060606064,0.848484848484849,0.3636363636363633,0.7272727272727276,0.24242424242424257,0.3636363636363633,0.12121212121212128,0.6060606060606064,0.2424242424242422,0.9696969696969688,0.24242424242424257,0.3636363636363638,0.0,0.24242424242424257,0.12121212121212092,0.0]}},\"id\":\"97b71a6a-0015-40ff-bfe0-fbac5ddc6192\",\"type\":\"ColumnDataSource\"},{\"attributes\":{},\"id\":\"a8c3ecdd-574b-4bea-b298-e43cd63e4ca1\",\"type\":\"BasicTicker\"},{\"attributes\":{\"plot\":{\"id\":\"91270566-835f-4f40-bb86-2a9f44886361\",\"subtype\":\"Figure\",\"type\":\"Plot\"}},\"id\":\"1f9eeffb-5b12-465d-b4cb-ce036e1a94a3\",\"type\":\"PanTool\"},{\"attributes\":{\"bottom\":{\"value\":0},\"fill_alpha\":{\"value\":0.1},\"fill_color\":{\"value\":\"#1f77b4\"},\"left\":{\"field\":\"left\"},\"line_alpha\":{\"value\":0.1},\"line_color\":{\"value\":\"#1f77b4\"},\"right\":{\"field\":\"right\"},\"top\":{\"field\":\"top\"}},\"id\":\"26360329-8085-40b0-8fdc-4cda0978cdaa\",\"type\":\"Quad\"},{\"attributes\":{\"bottom_units\":\"screen\",\"fill_alpha\":{\"value\":0.5},\"fill_color\":{\"value\":\"lightgrey\"},\"left_units\":\"screen\",\"level\":\"overlay\",\"line_alpha\":{\"value\":1.0},\"line_color\":{\"value\":\"black\"},\"line_dash\":[4,4],\"line_width\":{\"value\":2},\"plot\":null,\"render_mode\":\"css\",\"right_units\":\"screen\",\"top_units\":\"screen\"},\"id\":\"d6b06caa-67d9-4c31-94ff-222fee67f171\",\"type\":\"BoxAnnotation\"},{\"attributes\":{\"bottom\":{\"value\":0},\"fill_color\":{\"value\":\"blue\"},\"left\":{\"field\":\"left\"},\"line_color\":{\"value\":\"#1f77b4\"},\"right\":{\"field\":\"right\"},\"top\":{\"field\":\"top\"}},\"id\":\"7a3868ba-8b3c-4903-834d-4de2bbb5c860\",\"type\":\"Quad\"},{\"attributes\":{\"plot\":{\"id\":\"91270566-835f-4f40-bb86-2a9f44886361\",\"subtype\":\"Figure\",\"type\":\"Plot\"}},\"id\":\"7033b849-496b-4edc-bd39-433d88e3161d\",\"type\":\"HelpTool\"},{\"attributes\":{\"plot\":{\"id\":\"91270566-835f-4f40-bb86-2a9f44886361\",\"subtype\":\"Figure\",\"type\":\"Plot\"},\"ticker\":{\"id\":\"a8c3ecdd-574b-4bea-b298-e43cd63e4ca1\",\"type\":\"BasicTicker\"}},\"id\":\"40bf6b61-cbe1-4c69-989e-5032df8c7bd4\",\"type\":\"Grid\"},{\"attributes\":{\"plot\":{\"id\":\"634d9196-e597-4bae-8a1e-fe041f67cce7\",\"subtype\":\"Figure\",\"type\":\"Plot\"}},\"id\":\"63ba7420-dd78-447e-b3df-1bd15e5c17c6\",\"type\":\"PanTool\"},{\"attributes\":{\"plot\":{\"id\":\"634d9196-e597-4bae-8a1e-fe041f67cce7\",\"subtype\":\"Figure\",\"type\":\"Plot\"}},\"id\":\"6b78bf94-7f55-45f1-9856-1f51f3442c20\",\"type\":\"ResetTool\"},{\"attributes\":{\"callback\":null},\"id\":\"ea8273c2-f5ff-4a7b-8cce-c8b460391684\",\"type\":\"DataRange1d\"},{\"attributes\":{\"callback\":null},\"id\":\"17239e65-dfb0-4b90-9cdb-a1c7918d000e\",\"type\":\"DataRange1d\"},{\"attributes\":{\"plot\":{\"id\":\"634d9196-e597-4bae-8a1e-fe041f67cce7\",\"subtype\":\"Figure\",\"type\":\"Plot\"}},\"id\":\"2f4a58ce-592f-4c0a-a84c-a414476ada37\",\"type\":\"ResizeTool\"},{\"attributes\":{},\"id\":\"d906df8a-eb32-4f40-816b-dfe5879f4345\",\"type\":\"BasicTicker\"},{\"attributes\":{\"bottom_units\":\"screen\",\"fill_alpha\":{\"value\":0.5},\"fill_color\":{\"value\":\"lightgrey\"},\"left_units\":\"screen\",\"level\":\"overlay\",\"line_alpha\":{\"value\":1.0},\"line_color\":{\"value\":\"black\"},\"line_dash\":[4,4],\"line_width\":{\"value\":2},\"plot\":null,\"render_mode\":\"css\",\"right_units\":\"screen\",\"top_units\":\"screen\"},\"id\":\"c845bb54-c317-4c6f-846b-249030599212\",\"type\":\"BoxAnnotation\"},{\"attributes\":{\"below\":[{\"id\":\"bc8f8a63-82fc-446d-a739-d1ce9564feec\",\"type\":\"LinearAxis\"}],\"left\":[{\"id\":\"1ad80bda-7962-4597-bbef-eaa4fe5d1b60\",\"type\":\"LinearAxis\"}],\"renderers\":[{\"id\":\"bc8f8a63-82fc-446d-a739-d1ce9564feec\",\"type\":\"LinearAxis\"},{\"id\":\"40bf6b61-cbe1-4c69-989e-5032df8c7bd4\",\"type\":\"Grid\"},{\"id\":\"1ad80bda-7962-4597-bbef-eaa4fe5d1b60\",\"type\":\"LinearAxis\"},{\"id\":\"668db987-9052-4392-af59-b222dad6fcaf\",\"type\":\"Grid\"},{\"id\":\"c845bb54-c317-4c6f-846b-249030599212\",\"type\":\"BoxAnnotation\"},{\"id\":\"8c0c4f17-438a-40ca-8b68-e59cba3c5810\",\"type\":\"GlyphRenderer\"}],\"title\":\"L13/W16 NHI\",\"tool_events\":{\"id\":\"d979c241-f841-4040-9283-243bf0186fda\",\"type\":\"ToolEvents\"},\"tools\":[{\"id\":\"1f9eeffb-5b12-465d-b4cb-ce036e1a94a3\",\"type\":\"PanTool\"},{\"id\":\"dab86bfc-955f-4759-85ae-09a7be75f2fc\",\"type\":\"WheelZoomTool\"},{\"id\":\"a7947224-8efa-4f4e-b927-90514130721e\",\"type\":\"BoxZoomTool\"},{\"id\":\"a0c86b9f-d313-41f8-83cb-92b272de5aa1\",\"type\":\"PreviewSaveTool\"},{\"id\":\"e6953811-eff4-4ebf-a7cb-b0bcefb3124b\",\"type\":\"ResizeTool\"},{\"id\":\"c3b095aa-32ad-4845-b381-690e6dd86c02\",\"type\":\"ResetTool\"},{\"id\":\"7033b849-496b-4edc-bd39-433d88e3161d\",\"type\":\"HelpTool\"}],\"x_range\":{\"id\":\"ea8273c2-f5ff-4a7b-8cce-c8b460391684\",\"type\":\"DataRange1d\"},\"y_range\":{\"id\":\"fbf9e68f-357d-487e-a557-33b43b7e84d3\",\"type\":\"DataRange1d\"}},\"id\":\"91270566-835f-4f40-bb86-2a9f44886361\",\"subtype\":\"Figure\",\"type\":\"Plot\"},{\"attributes\":{\"formatter\":{\"id\":\"2f1a92fa-46ba-46aa-8a70-683f39a701d2\",\"type\":\"BasicTickFormatter\"},\"plot\":{\"id\":\"634d9196-e597-4bae-8a1e-fe041f67cce7\",\"subtype\":\"Figure\",\"type\":\"Plot\"},\"ticker\":{\"id\":\"d906df8a-eb32-4f40-816b-dfe5879f4345\",\"type\":\"BasicTicker\"}},\"id\":\"fe26fab3-bc07-4d54-af4b-1808d7f6ab1b\",\"type\":\"LinearAxis\"},{\"attributes\":{},\"id\":\"d979c241-f841-4040-9283-243bf0186fda\",\"type\":\"ToolEvents\"},{\"attributes\":{\"plot\":{\"id\":\"634d9196-e597-4bae-8a1e-fe041f67cce7\",\"subtype\":\"Figure\",\"type\":\"Plot\"}},\"id\":\"cab32dcf-abcf-483e-b5b5-31edb86d38ef\",\"type\":\"PreviewSaveTool\"},{\"attributes\":{},\"id\":\"e50da222-4c92-439f-9160-4a846e6a0e71\",\"type\":\"BasicTickFormatter\"},{\"attributes\":{\"overlay\":{\"id\":\"d6b06caa-67d9-4c31-94ff-222fee67f171\",\"type\":\"BoxAnnotation\"},\"plot\":{\"id\":\"634d9196-e597-4bae-8a1e-fe041f67cce7\",\"subtype\":\"Figure\",\"type\":\"Plot\"}},\"id\":\"400e8993-8b1b-4b64-8ec2-b0425c86f814\",\"type\":\"BoxZoomTool\"},{\"attributes\":{},\"id\":\"2f1a92fa-46ba-46aa-8a70-683f39a701d2\",\"type\":\"BasicTickFormatter\"},{\"attributes\":{\"below\":[{\"id\":\"ce3c7a72-35e6-4ebd-805d-ad284ce49d45\",\"type\":\"LinearAxis\"}],\"left\":[{\"id\":\"fe26fab3-bc07-4d54-af4b-1808d7f6ab1b\",\"type\":\"LinearAxis\"}],\"plot_height\":400,\"plot_width\":400,\"renderers\":[{\"id\":\"ce3c7a72-35e6-4ebd-805d-ad284ce49d45\",\"type\":\"LinearAxis\"},{\"id\":\"9271f720-6e96-4f9d-9ef8-18606293ebce\",\"type\":\"Grid\"},{\"id\":\"fe26fab3-bc07-4d54-af4b-1808d7f6ab1b\",\"type\":\"LinearAxis\"},{\"id\":\"1dfeb6a9-4496-4669-b83f-cdea6119b60a\",\"type\":\"Grid\"},{\"id\":\"d6b06caa-67d9-4c31-94ff-222fee67f171\",\"type\":\"BoxAnnotation\"},{\"id\":\"bc1372dc-476a-4cb2-859a-b9a18d610660\",\"type\":\"GlyphRenderer\"},{\"id\":\"21292b7f-981f-4a03-95d9-a2b4d985f2ac\",\"type\":\"GlyphRenderer\"}],\"title\":\"L13/W16 NHI\",\"tool_events\":{\"id\":\"9ccb96f6-87b7-42e5-9618-cb69805fa9f5\",\"type\":\"ToolEvents\"},\"tools\":[{\"id\":\"63ba7420-dd78-447e-b3df-1bd15e5c17c6\",\"type\":\"PanTool\"},{\"id\":\"49d32dca-ba76-4583-9477-d7239880ed9e\",\"type\":\"WheelZoomTool\"},{\"id\":\"400e8993-8b1b-4b64-8ec2-b0425c86f814\",\"type\":\"BoxZoomTool\"},{\"id\":\"cab32dcf-abcf-483e-b5b5-31edb86d38ef\",\"type\":\"PreviewSaveTool\"},{\"id\":\"2f4a58ce-592f-4c0a-a84c-a414476ada37\",\"type\":\"ResizeTool\"},{\"id\":\"6b78bf94-7f55-45f1-9856-1f51f3442c20\",\"type\":\"ResetTool\"},{\"id\":\"47a8f1b5-582f-448b-912f-00d12ce002ac\",\"type\":\"HelpTool\"}],\"x_range\":{\"id\":\"a17210ce-bb03-4229-ae77-4608772b7e83\",\"type\":\"DataRange1d\"},\"y_range\":{\"id\":\"17239e65-dfb0-4b90-9cdb-a1c7918d000e\",\"type\":\"DataRange1d\"}},\"id\":\"634d9196-e597-4bae-8a1e-fe041f67cce7\",\"subtype\":\"Figure\",\"type\":\"Plot\"},{\"attributes\":{\"plot\":{\"id\":\"634d9196-e597-4bae-8a1e-fe041f67cce7\",\"subtype\":\"Figure\",\"type\":\"Plot\"}},\"id\":\"49d32dca-ba76-4583-9477-d7239880ed9e\",\"type\":\"WheelZoomTool\"},{\"attributes\":{},\"id\":\"9092baea-4439-457b-b7b7-58071ad34376\",\"type\":\"BasicTickFormatter\"},{\"attributes\":{\"data_source\":{\"id\":\"86db610e-6a5d-4455-acbc-6cc98676de84\",\"type\":\"ColumnDataSource\"},\"glyph\":{\"id\":\"fdfff8c6-da61-4bfe-b41d-ff4586c49520\",\"type\":\"Quad\"},\"hover_glyph\":null,\"nonselection_glyph\":{\"id\":\"26360329-8085-40b0-8fdc-4cda0978cdaa\",\"type\":\"Quad\"},\"selection_glyph\":null},\"id\":\"21292b7f-981f-4a03-95d9-a2b4d985f2ac\",\"type\":\"GlyphRenderer\"},{\"attributes\":{\"plot\":{\"id\":\"91270566-835f-4f40-bb86-2a9f44886361\",\"subtype\":\"Figure\",\"type\":\"Plot\"}},\"id\":\"a0c86b9f-d313-41f8-83cb-92b272de5aa1\",\"type\":\"PreviewSaveTool\"},{\"attributes\":{\"callback\":null},\"id\":\"fbf9e68f-357d-487e-a557-33b43b7e84d3\",\"type\":\"DataRange1d\"},{\"attributes\":{},\"id\":\"9ccb96f6-87b7-42e5-9618-cb69805fa9f5\",\"type\":\"ToolEvents\"},{\"attributes\":{\"bottom\":{\"value\":0},\"fill_color\":{\"value\":\"red\"},\"left\":{\"field\":\"left\"},\"line_color\":{\"value\":\"#1f77b4\"},\"right\":{\"field\":\"right\"},\"top\":{\"field\":\"top\"}},\"id\":\"fdfff8c6-da61-4bfe-b41d-ff4586c49520\",\"type\":\"Quad\"},{\"attributes\":{\"plot\":{\"id\":\"91270566-835f-4f40-bb86-2a9f44886361\",\"subtype\":\"Figure\",\"type\":\"Plot\"}},\"id\":\"e6953811-eff4-4ebf-a7cb-b0bcefb3124b\",\"type\":\"ResizeTool\"},{\"attributes\":{\"bottom\":{\"value\":0},\"fill_alpha\":{\"value\":0.1},\"fill_color\":{\"value\":\"#1f77b4\"},\"left\":{\"field\":\"left\"},\"line_alpha\":{\"value\":0.1},\"line_color\":{\"value\":\"#1f77b4\"},\"right\":{\"field\":\"right\"},\"top\":{\"field\":\"top\"}},\"id\":\"53ec766e-5c04-4ac7-b070-0a825e7b645f\",\"type\":\"Quad\"}],\"root_ids\":[\"634d9196-e597-4bae-8a1e-fe041f67cce7\",\"91270566-835f-4f40-bb86-2a9f44886361\"]},\"title\":\"Bokeh Application\",\"version\":\"0.11.1\"}};\n",
       "            var render_items = [{\"docid\":\"ea45b2be-8cd0-4221-bfa8-8c751fff40a4\",\"elementid\":\"8549a249-e54d-4b8a-95a1-712b862c800f\",\"modelid\":\"91270566-835f-4f40-bb86-2a9f44886361\",\"notebook_comms_target\":\"bad2f350-08fe-4b88-b9a7-40db52412192\"}];\n",
       "            \n",
       "            Bokeh.embed.embed_items(docs_json, render_items);\n",
       "        });\n",
       "      },\n",
       "      function(Bokeh) {\n",
       "      }\n",
       "    ];\n",
       "  \n",
       "    function run_inline_js() {\n",
       "      for (var i = 0; i < inline_js.length; i++) {\n",
       "        inline_js[i](window.Bokeh);\n",
       "      }\n",
       "    }\n",
       "  \n",
       "    if (window._bokeh_is_loading === 0) {\n",
       "      console.log(\"Bokeh: BokehJS loaded, going straight to plotting\");\n",
       "      run_inline_js();\n",
       "    } else {\n",
       "      load_libs(js_urls, function() {\n",
       "        console.log(\"Bokeh: BokehJS plotting callback run at\", now());\n",
       "        run_inline_js();\n",
       "      });\n",
       "    }\n",
       "  }(this));\n",
       "</script>"
      ]
     },
     "metadata": {},
     "output_type": "display_data"
    },
    {
     "data": {
      "text/html": [
       "<p><code>&lt;Bokeh Notebook handle for <strong>In[22]</strong>&gt;</code></p>"
      ],
      "text/plain": [
       "<bokeh.io._CommsHandle at 0x11c892a50>"
      ]
     },
     "execution_count": 22,
     "metadata": {},
     "output_type": "execute_result"
    }
   ],
   "source": [
    "# NHI\n",
    "p_ZH = figure(plot_width=600, plot_height=600, title='L13/W16 NHI')#,background_fill=\"#E8DDCB\")\n",
    "# L13\n",
    "hist, edges = np.histogram(L13W16.ZH, range=(-2.5,0.5), density=True, bins=20)\n",
    "p_ZH.quad(top=hist, bottom=0, left=edges[:-1], right=edges[1:],fill_color='blue')\n",
    "#\n",
    "p_ZH.xaxis.axis_label = '[Z/H]'\n",
    "show(p_ZH)"
   ]
  },
  {
   "cell_type": "markdown",
   "metadata": {},
   "source": [
    "## Write"
   ]
  },
  {
   "cell_type": "markdown",
   "metadata": {},
   "source": [
    "### L13"
   ]
  },
  {
   "cell_type": "code",
   "execution_count": 23,
   "metadata": {
    "collapsed": false
   },
   "outputs": [
    {
     "name": "stdout",
     "output_type": "stream",
     "text": [
      "Wrote: /Users/xavier/local/Python/pyigm/pyigm/data/LLS/Literature/lehner13.tar.gz\n"
     ]
    }
   ],
   "source": [
    "L13.write_survey(outfile=pyigm_path+'/data/LLS/Literature/lehner13.tar.gz')"
   ]
  },
  {
   "cell_type": "markdown",
   "metadata": {},
   "source": [
    "### W16"
   ]
  },
  {
   "cell_type": "code",
   "execution_count": 24,
   "metadata": {
    "collapsed": false
   },
   "outputs": [
    {
     "name": "stdout",
     "output_type": "stream",
     "text": [
      "Wrote: /Users/xavier/local/Python/pyigm/pyigm/data/LLS/Literature/wotta16.tar.gz\n"
     ]
    }
   ],
   "source": [
    "W16.write_survey(outfile=pyigm_path+'/data/LLS/Literature/wotta16.tar.gz')"
   ]
  },
  {
   "cell_type": "markdown",
   "metadata": {},
   "source": [
    "## Load (test)"
   ]
  },
  {
   "cell_type": "code",
   "execution_count": 25,
   "metadata": {
    "collapsed": false
   },
   "outputs": [
    {
     "name": "stdout",
     "output_type": "stream",
     "text": [
      "Loading systems from /Users/xavier/local/Python/pyigm/pyigm/data/LLS/Literature/lehner13.tar.gz\n",
      "Skipping a likely folder: IGM_JSON\n"
     ]
    },
    {
     "name": "stderr",
     "output_type": "stream",
     "text": [
      "/Users/xavier/local/Python/linetools/linetools/isgm/abssystem.py:302: UserWarning: Input AbsComponent with Zion=(12, 2) does not match AbsSystem rules. Not appending\n",
      "  warnings.warn('Input AbsComponent with Zion={} does not match AbsSystem rules. Not appending'.format(abscomp.Zion))\n",
      "/Users/xavier/local/Python/linetools/linetools/isgm/abssystem.py:308: UserWarning: Failed velocity overlap\n",
      "  warnings.warn('Failed velocity overlap')\n"
     ]
    }
   ],
   "source": [
    "l13file = pyigm.__path__[0]+'/data/LLS/Literature/lehner13.tar.gz'\n",
    "L13_tst = pyiu.load_sys_files(l13file, 'LLS', chk_vel=False, chk_data=False, use_coord=True)"
   ]
  },
  {
   "cell_type": "code",
   "execution_count": 26,
   "metadata": {
    "collapsed": false
   },
   "outputs": [
    {
     "data": {
      "text/plain": [
       "array([ 16.61000061,  16.71999931,  16.45000076,  16.34000015,\n",
       "        16.89999962,  16.47999954,  16.11000061,  16.20000076,\n",
       "        16.52000046,  17.        ,  16.39999962,  17.        ,\n",
       "        16.29999924,  16.45000076,  16.37999916,  16.39999962,\n",
       "        16.17000008,  16.34000015,  16.64999962,  16.18000031,\n",
       "        16.21999931,  16.65999985,  16.47999954,  16.97999954,  17.29999924])"
      ]
     },
     "execution_count": 26,
     "metadata": {},
     "output_type": "execute_result"
    }
   ],
   "source": [
    "L13_tst.NHI"
   ]
  },
  {
   "cell_type": "code",
   "execution_count": null,
   "metadata": {
    "collapsed": true
   },
   "outputs": [],
   "source": []
  }
 ],
 "metadata": {
  "kernelspec": {
   "display_name": "Python 2",
   "language": "python",
   "name": "python2"
  },
  "language_info": {
   "codemirror_mode": {
    "name": "ipython",
    "version": 2
   },
   "file_extension": ".py",
   "mimetype": "text/x-python",
   "name": "python",
   "nbconvert_exporter": "python",
   "pygments_lexer": "ipython2",
   "version": "2.7.11"
  }
 },
 "nbformat": 4,
 "nbformat_minor": 0
}
