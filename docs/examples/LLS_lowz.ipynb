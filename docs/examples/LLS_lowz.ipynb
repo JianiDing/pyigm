{
 "cells": [
  {
   "cell_type": "markdown",
   "metadata": {},
   "source": [
    "# Analysis on low z LLS (Lehner+13, Wotta+16)"
   ]
  },
  {
   "cell_type": "code",
   "execution_count": 6,
   "metadata": {
    "collapsed": true
   },
   "outputs": [],
   "source": [
    "# imports\n",
    "from scipy.io import readsav\n",
    "\n",
    "import pyigm"
   ]
  },
  {
   "cell_type": "markdown",
   "metadata": {},
   "source": [
    "## Lehner+13"
   ]
  },
  {
   "cell_type": "markdown",
   "metadata": {},
   "source": [
    "### Metals\n",
    "\n",
    "From\n",
    "http://iopscience.iop.org/0004-637X/770/2/138/suppdata/apj472363t2_mrt.txt"
   ]
  },
  {
   "cell_type": "markdown",
   "metadata": {},
   "source": [
    "## Wotta+16"
   ]
  },
  {
   "cell_type": "markdown",
   "metadata": {},
   "source": [
    "### Metallicity"
   ]
  },
  {
   "cell_type": "code",
   "execution_count": 7,
   "metadata": {
    "collapsed": true
   },
   "outputs": [],
   "source": [
    "std = readsav('/Users/xavier/Desktop/final_metallicities.save')"
   ]
  },
  {
   "cell_type": "code",
   "execution_count": 11,
   "metadata": {
    "collapsed": false
   },
   "outputs": [
    {
     "data": {
      "text/plain": [
       "['sightlinenl',\n",
       " 'ic95lownlrc',\n",
       " 'ic68lowcw',\n",
       " 'enhinlrc',\n",
       " 'icmeanallrc',\n",
       " 'ic95highcw',\n",
       " 'w2796cw',\n",
       " 'em_nmgiinl',\n",
       " 'w2803cw',\n",
       " 'ep_metcw',\n",
       " 'ep_nmgiicw',\n",
       " 'ep_nmgiiallrc',\n",
       " 'nmgiicw',\n",
       " 'em_nmgiinlrc',\n",
       " 'ep_metnlrc',\n",
       " 'zcw',\n",
       " 'ep_nmgiiall',\n",
       " 'ep_metnl',\n",
       " 'sightlinenlrc',\n",
       " 'zallrc',\n",
       " 'ic95lowallrc',\n",
       " 'em_nmgiicw',\n",
       " 'enhiall',\n",
       " 'ic68highnlrc',\n",
       " 'nhinl',\n",
       " 'metnl',\n",
       " 'enhiallrc',\n",
       " 'ew2803cw',\n",
       " 'ic95lowcw',\n",
       " 'enhinl',\n",
       " 'zall',\n",
       " 'em_nmgiiallrc',\n",
       " 'icmeannlrc',\n",
       " 'em_metcw',\n",
       " 'icmeancw',\n",
       " 'nhiall',\n",
       " 'nhinlrc',\n",
       " 'icdiffnlrc',\n",
       " 'iclogu3nlrc',\n",
       " 'ic95highnlrc',\n",
       " 'nhiallrc',\n",
       " 'metnlrc',\n",
       " 'ep_nmgiinlrc',\n",
       " 'em_metnlrc',\n",
       " 'ep_metall',\n",
       " 'znlrc',\n",
       " 'ew2796cw',\n",
       " 'em_nmgiiall',\n",
       " 'em_metall',\n",
       " 'metallrc',\n",
       " 'metcw',\n",
       " 'icdiffallrc',\n",
       " 'ic68highcw',\n",
       " 'em_metnl',\n",
       " 'iclogu3allrc',\n",
       " 'nhicw',\n",
       " 'sightlineall',\n",
       " 'ic68highallrc',\n",
       " 'enhicw',\n",
       " 'sightlineallrc',\n",
       " 'detectorcw',\n",
       " 'nmgiiall',\n",
       " 'iclogu3cw',\n",
       " 'nmgiiallrc',\n",
       " 'metall',\n",
       " 'ic95highallrc',\n",
       " 'ic68lownlrc',\n",
       " 'znl',\n",
       " 'ic68lowallrc',\n",
       " 'ep_metallrc',\n",
       " 'em_metallrc',\n",
       " 'nmgiinlrc',\n",
       " 'ep_nmgiinl',\n",
       " 'icdiffcw',\n",
       " 'sightlinecw',\n",
       " 'nmgiinl']"
      ]
     },
     "execution_count": 11,
     "metadata": {},
     "output_type": "execute_result"
    }
   ],
   "source": [
    "std.keys()"
   ]
  },
  {
   "cell_type": "code",
   "execution_count": 16,
   "metadata": {
    "collapsed": false
   },
   "outputs": [
    {
     "data": {
      "text/plain": [
       "array(['J0943+0531', 'J1419+4207', 'J1435+3604', 'PG1116+215',\n",
       "       'PG1522+101', 'PG1338+416', 'HE0439-5254', 'J1419+4207',\n",
       "       'PG1407+265', 'J1419+4207', 'PG1216+069', 'PKS0405-123',\n",
       "       'PG1338+416', 'J1619+3342', 'PKS0637-752', 'SBS1122+594',\n",
       "       'HE0153-4520', 'J1435+3604', 'PG1522+101', 'PHL1377', 'PKS0552-640',\n",
       "       'PG1630+377', 'PKS1302-102', 'PG1206+459', 'PG1634+706'], dtype=object)"
      ]
     },
     "execution_count": 16,
     "metadata": {},
     "output_type": "execute_result"
    }
   ],
   "source": [
    "std['sightlinenlrc']"
   ]
  },
  {
   "cell_type": "code",
   "execution_count": null,
   "metadata": {
    "collapsed": true
   },
   "outputs": [],
   "source": []
  }
 ],
 "metadata": {
  "kernelspec": {
   "display_name": "Python 2",
   "language": "python",
   "name": "python2"
  },
  "language_info": {
   "codemirror_mode": {
    "name": "ipython",
    "version": 2
   },
   "file_extension": ".py",
   "mimetype": "text/x-python",
   "name": "python",
   "nbconvert_exporter": "python",
   "pygments_lexer": "ipython2",
   "version": "2.7.11"
  }
 },
 "nbformat": 4,
 "nbformat_minor": 0
}
