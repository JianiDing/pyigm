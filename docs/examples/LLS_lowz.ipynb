{
 "cells": [
  {
   "cell_type": "markdown",
   "metadata": {},
   "source": [
    "# Low z LLS (Lehner+13, Wotta+16)"
   ]
  },
  {
   "cell_type": "code",
   "execution_count": 41,
   "metadata": {
    "collapsed": true
   },
   "outputs": [],
   "source": [
    "# imports\n",
    "from scipy.io import readsav\n",
    "\n",
    "import pyigm\n",
    "from pyigm.abssys.lls import LLSSystem\n",
    "from pyigm.surveys.llssurvey import LLSSurvey\n",
    "pyigm_path = pyigm.__path__[0]"
   ]
  },
  {
   "cell_type": "markdown",
   "metadata": {},
   "source": [
    "## Lehner+13"
   ]
  },
  {
   "cell_type": "markdown",
   "metadata": {},
   "source": [
    "### Metals\n",
    "\n",
    "From\n",
    "http://iopscience.iop.org/0004-637X/770/2/138/suppdata/apj472363t2_mrt.txt"
   ]
  },
  {
   "cell_type": "markdown",
   "metadata": {},
   "source": [
    "### Metallicity"
   ]
  },
  {
   "cell_type": "code",
   "execution_count": 18,
   "metadata": {
    "collapsed": true
   },
   "outputs": [],
   "source": [
    "l13w16 = readsav(pyigm_path+'/data/LLS/Literature/wotta16_final.save')"
   ]
  },
  {
   "cell_type": "markdown",
   "metadata": {},
   "source": [
    "### RA/DEC"
   ]
  },
  {
   "cell_type": "code",
   "execution_count": 22,
   "metadata": {
    "collapsed": true
   },
   "outputs": [],
   "source": [
    "l13_radec = {'J0943+0531': 'J094331.61+053131.4', \n",
    "             'J1419+4207': 'J141910.20+420746.9', \n",
    "             'J1435+3604': 'J143511.53+360437.2', \n",
    "             'PG1116+215': 'J111908.67+211918.0',\n",
    "             'PG1522+101': 'J152424.52+095829.1', \n",
    "             'PG1338+416': 'J134100.78+412314.0', \n",
    "             'HE0439-5254': 'J044012.04-524817.65',        \n",
    "             'PG1407+265': 'J140923.91+261821.1', \n",
    "             'PG1216+069': 'J121920.92+063838.5', \n",
    "             'PKS0405-123': 'J040748.44-121136.7',\n",
    "             'J1619+3342': 'J161916.54+334238.4', \n",
    "             'PKS0637-752': 'J063546.51-751616.7', \n",
    "             'SBS1122+594': 'J112553.79+591021.5',\n",
    "             'HE0153-4520': 'J015513.22-450611.6', \n",
    "             'PHL1377': 'J023507.34-040205.3', \n",
    "             'PKS0552-640': 'J055224.51-640210.8',\n",
    "             'PG1630+377': 'J163201.11+373750.0', \n",
    "             'PKS1302-102': 'J130533.01-103319.4', \n",
    "             'PG1206+459': 'J120858.00+454035.4', \n",
    "             'PG1634+706': 'J163428.99+703132.4'}"
   ]
  },
  {
   "cell_type": "markdown",
   "metadata": {},
   "source": [
    "### $z_{\\rm em}$"
   ]
  },
  {
   "cell_type": "code",
   "execution_count": 26,
   "metadata": {
    "collapsed": false
   },
   "outputs": [],
   "source": [
    "l13_zem =  {'J0943+0531': 0.56449,\n",
    "             'J1419+4207': 0.87350,\n",
    "             'J1435+3604': 0.42860,\n",
    "             'PG1116+215': 0.17650,\n",
    "             'PG1522+101': 1.32825,\n",
    "             'PG1338+416': 1.21420,\n",
    "             'HE0439-5254': 1.05300,\n",
    "             'PG1407+265': 0.94,\n",
    "             'PG1216+069': 0.3313,\n",
    "             'PKS0405-123': 0.5726,\n",
    "             'J1619+3342': 0.47093,\n",
    "             'PKS0637-752': 0.651,\n",
    "             'SBS1122+594': 0.85242, \n",
    "             'HE0153-4520': 0.451,\n",
    "             'PHL1377': 1.4398,\n",
    "             'PKS0552-640': 0.680,\n",
    "             'PG1630+377': 1.47465,\n",
    "             'PKS1302-102': 0.2784,\n",
    "             'PG1206+459': 1.16200,\n",
    "             'PG1634+706': 1.337 }"
   ]
  },
  {
   "cell_type": "code",
   "execution_count": 35,
   "metadata": {
    "collapsed": false
   },
   "outputs": [
    {
     "data": {
      "text/plain": [
       "array([ 0.35420001,  0.42559999,  0.38780001,  0.13850001,  0.51849997,\n",
       "        0.3488    ,  0.6153    ,  0.53460002,  0.68279999,  0.28889999,\n",
       "        0.2823    ,  0.1672    ,  0.68650001,  0.2694    ,  0.46849999,\n",
       "        0.55739999,  0.2261    ,  0.373     ,  0.72920001,  0.7392    ,\n",
       "        0.34509999,  0.27399999,  0.0985    ,  0.92699999,  1.03999996], dtype=float32)"
      ]
     },
     "execution_count": 35,
     "metadata": {},
     "output_type": "execute_result"
    }
   ],
   "source": [
    "l13w16['znl']"
   ]
  },
  {
   "cell_type": "markdown",
   "metadata": {},
   "source": [
    "### Build the systems"
   ]
  },
  {
   "cell_type": "code",
   "execution_count": 39,
   "metadata": {
    "collapsed": false
   },
   "outputs": [],
   "source": [
    "all_lls = []\n",
    "for ii,qso in enumerate(l13w16['sightlinenl']):\n",
    "    # init\n",
    "    lls = LLSSystem(radec=l13_radec[qso],zem=l13_zem[qso],\n",
    "                    zabs=l13w16['znl'][ii],NHI=l13w16['nhinl'][ii],\n",
    "                    sig_NHI=l13w16['enhinl'][ii], \n",
    "                    vlim=[-500,500]*u.km/u.s)\n",
    "    # Append\n",
    "    all_lls.append(lls)"
   ]
  },
  {
   "cell_type": "markdown",
   "metadata": {},
   "source": [
    "### Finish"
   ]
  },
  {
   "cell_type": "code",
   "execution_count": null,
   "metadata": {
    "collapsed": true
   },
   "outputs": [],
   "source": []
  },
  {
   "cell_type": "markdown",
   "metadata": {},
   "source": [
    "## Wotta+16"
   ]
  },
  {
   "cell_type": "markdown",
   "metadata": {},
   "source": [
    "### Metallicity"
   ]
  },
  {
   "cell_type": "code",
   "execution_count": 7,
   "metadata": {
    "collapsed": true
   },
   "outputs": [],
   "source": [
    "std = readsav('/Users/xavier/Desktop/final_metallicities.save')"
   ]
  },
  {
   "cell_type": "code",
   "execution_count": 11,
   "metadata": {
    "collapsed": false
   },
   "outputs": [
    {
     "data": {
      "text/plain": [
       "['sightlinenl',\n",
       " 'ic95lownlrc',\n",
       " 'ic68lowcw',\n",
       " 'enhinlrc',\n",
       " 'icmeanallrc',\n",
       " 'ic95highcw',\n",
       " 'w2796cw',\n",
       " 'em_nmgiinl',\n",
       " 'w2803cw',\n",
       " 'ep_metcw',\n",
       " 'ep_nmgiicw',\n",
       " 'ep_nmgiiallrc',\n",
       " 'nmgiicw',\n",
       " 'em_nmgiinlrc',\n",
       " 'ep_metnlrc',\n",
       " 'zcw',\n",
       " 'ep_nmgiiall',\n",
       " 'ep_metnl',\n",
       " 'sightlinenlrc',\n",
       " 'zallrc',\n",
       " 'ic95lowallrc',\n",
       " 'em_nmgiicw',\n",
       " 'enhiall',\n",
       " 'ic68highnlrc',\n",
       " 'nhinl',\n",
       " 'metnl',\n",
       " 'enhiallrc',\n",
       " 'ew2803cw',\n",
       " 'ic95lowcw',\n",
       " 'enhinl',\n",
       " 'zall',\n",
       " 'em_nmgiiallrc',\n",
       " 'icmeannlrc',\n",
       " 'em_metcw',\n",
       " 'icmeancw',\n",
       " 'nhiall',\n",
       " 'nhinlrc',\n",
       " 'icdiffnlrc',\n",
       " 'iclogu3nlrc',\n",
       " 'ic95highnlrc',\n",
       " 'nhiallrc',\n",
       " 'metnlrc',\n",
       " 'ep_nmgiinlrc',\n",
       " 'em_metnlrc',\n",
       " 'ep_metall',\n",
       " 'znlrc',\n",
       " 'ew2796cw',\n",
       " 'em_nmgiiall',\n",
       " 'em_metall',\n",
       " 'metallrc',\n",
       " 'metcw',\n",
       " 'icdiffallrc',\n",
       " 'ic68highcw',\n",
       " 'em_metnl',\n",
       " 'iclogu3allrc',\n",
       " 'nhicw',\n",
       " 'sightlineall',\n",
       " 'ic68highallrc',\n",
       " 'enhicw',\n",
       " 'sightlineallrc',\n",
       " 'detectorcw',\n",
       " 'nmgiiall',\n",
       " 'iclogu3cw',\n",
       " 'nmgiiallrc',\n",
       " 'metall',\n",
       " 'ic95highallrc',\n",
       " 'ic68lownlrc',\n",
       " 'znl',\n",
       " 'ic68lowallrc',\n",
       " 'ep_metallrc',\n",
       " 'em_metallrc',\n",
       " 'nmgiinlrc',\n",
       " 'ep_nmgiinl',\n",
       " 'icdiffcw',\n",
       " 'sightlinecw',\n",
       " 'nmgiinl']"
      ]
     },
     "execution_count": 11,
     "metadata": {},
     "output_type": "execute_result"
    }
   ],
   "source": [
    "std.keys()"
   ]
  },
  {
   "cell_type": "code",
   "execution_count": null,
   "metadata": {
    "collapsed": false
   },
   "outputs": [],
   "source": [
    "std['znlrc']"
   ]
  },
  {
   "cell_type": "code",
   "execution_count": null,
   "metadata": {
    "collapsed": true
   },
   "outputs": [],
   "source": []
  }
 ],
 "metadata": {
  "kernelspec": {
   "display_name": "Python 2",
   "language": "python",
   "name": "python2"
  },
  "language_info": {
   "codemirror_mode": {
    "name": "ipython",
    "version": 2
   },
   "file_extension": ".py",
   "mimetype": "text/x-python",
   "name": "python",
   "nbconvert_exporter": "python",
   "pygments_lexer": "ipython2",
   "version": "2.7.11"
  }
 },
 "nbformat": 4,
 "nbformat_minor": 0
}
