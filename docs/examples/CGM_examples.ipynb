{
 "cells": [
  {
   "cell_type": "markdown",
   "metadata": {},
   "source": [
    "# CGM Examples"
   ]
  },
  {
   "cell_type": "code",
   "execution_count": 2,
   "metadata": {},
   "outputs": [],
   "source": [
    "# import\n",
    "from pyigm.abssys.igmsys import IGMSystem\n",
    "from pyigm.field.galaxy import Galaxy\n",
    "from pyigm.cgm.cgm import CGM, CGMAbsSys"
   ]
  },
  {
   "cell_type": "markdown",
   "metadata": {},
   "source": [
    "## Instantiate CGM"
   ]
  },
  {
   "cell_type": "code",
   "execution_count": 3,
   "metadata": {},
   "outputs": [
    {
     "data": {
      "text/plain": [
       "<CGM: 08:20:00 +45:12:00, z=0.3>"
      ]
     },
     "execution_count": 3,
     "output_type": "execute_result",
     "metadata": {}
    }
   ],
   "source": [
    "radec = (125*u.deg, 45.2*u.deg)\n",
    "gal = Galaxy(radec,z=0.3)\n",
    "cgm = CGM(gal)\n",
    "cgm"
   ]
  },
  {
   "cell_type": "markdown",
   "metadata": {},
   "source": [
    "## Instantiate CGMAbsSys"
   ]
  },
  {
   "cell_type": "code",
   "execution_count": 8,
   "metadata": {},
   "outputs": [],
   "source": [
    "radec_qso = (125*u.deg, 45.203*u.deg)\n",
    "igmsys = IGMSystem('CGM', radec_qso, gal.z, [-500,500]*u.km/u.s)"
   ]
  },
  {
   "cell_type": "code",
   "execution_count": 9,
   "metadata": {},
   "outputs": [
    {
     "name": "stdout",
     "output_type": "stream",
     "text": [
      "cgm.CGMAbsSys: Using WMAP9 cosmology\n"
     ]
    },
    {
     "data": {
      "text/plain": [
       "<CGMAbsSys: Galaxy RA/DEC=08:20:00+45:12:00, zgal=0.3, rho=48.7208 kpc]"
      ]
     },
     "execution_count": 9,
     "output_type": "execute_result",
     "metadata": {}
    }
   ],
   "source": [
    "cgmabs = CGMAbsSys(gal,igmsys)\n",
    "cgmabs"
   ]
  },
  {
   "cell_type": "code",
   "execution_count": null,
   "metadata": {},
   "outputs": [],
   "source": [
    ""
   ]
  }
 ],
 "metadata": {
  "kernelspec": {
   "display_name": "Python 2",
   "language": "python",
   "name": "python2"
  },
  "language_info": {
   "codemirror_mode": {
    "name": "ipython",
    "version": 2.0
   },
   "file_extension": ".py",
   "mimetype": "text/x-python",
   "name": "python",
   "nbconvert_exporter": "python",
   "pygments_lexer": "ipython2",
   "version": "2.7.10"
  }
 },
 "nbformat": 4,
 "nbformat_minor": 0
}