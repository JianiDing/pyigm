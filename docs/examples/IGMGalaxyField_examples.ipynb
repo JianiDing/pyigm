{
 "cells": [
  {
   "cell_type": "markdown",
   "metadata": {},
   "source": [
    "# Examples for the IGMGalaxyField class"
   ]
  },
  {
   "cell_type": "code",
   "execution_count": 39,
   "metadata": {
    "collapsed": true
   },
   "outputs": [],
   "source": [
    "# import\n",
    "#from pyigm.field.igmfield import IgmGalaxyField\n",
    "from pyigm.field import igmfield as igmf"
   ]
  },
  {
   "cell_type": "markdown",
   "metadata": {},
   "source": [
    "## Instantiate"
   ]
  },
  {
   "cell_type": "code",
   "execution_count": 52,
   "metadata": {
    "collapsed": false
   },
   "outputs": [
    {
     "name": "stdout",
     "output_type": "stream",
     "text": [
      "IgmGalxyField: Using WMAP9 cosmology\n"
     ]
    },
    {
     "data": {
      "text/plain": [
       "[IgmGalaxyField: PG1407+265 14:09:23.9122 +26:18:21.114]"
      ]
     },
     "execution_count": 52,
     "metadata": {},
     "output_type": "execute_result"
    }
   ],
   "source": [
    "reload(igmf)\n",
    "field = ('PG1407+265',212.349634*u.deg,26.3058650*u.deg)\n",
    "lfield = igmf.IgmGalaxyField((field[1],field[2]), name=field[0], verbose=True)\n",
    "lfield"
   ]
  },
  {
   "cell_type": "markdown",
   "metadata": {},
   "source": [
    "## CASBAH Example"
   ]
  },
  {
   "cell_type": "code",
   "execution_count": 53,
   "metadata": {
    "collapsed": true
   },
   "outputs": [],
   "source": [
    "path = os.getenv('CASBAH_GALAXIES')"
   ]
  },
  {
   "cell_type": "markdown",
   "metadata": {},
   "source": [
    "### Load targets"
   ]
  },
  {
   "cell_type": "code",
   "execution_count": 54,
   "metadata": {
    "collapsed": true
   },
   "outputs": [],
   "source": [
    "targ_file = path+'/'+field[0]+'/'+field[0]+'_targets.ascii'\n",
    "lfield.targets = Table.read(targ_file,delimiter='|',format='ascii.fixed_width', \n",
    "    fill_values=[('--','0','MASK_NAME')])"
   ]
  },
  {
   "cell_type": "code",
   "execution_count": 55,
   "metadata": {
    "collapsed": false
   },
   "outputs": [
    {
     "data": {
      "text/html": [
       "&lt;Table masked=True length=5&gt;\n",
       "<table id=\"table4486276048\">\n",
       "<thead><tr><th>TARG_RA</th><th>TARG_DEC</th><th>EPOCH</th><th>TARG_ID</th><th>TARG_MAG</th><th>TARG_IMG</th><th>INSTR</th><th>MASK_NAME</th></tr></thead>\n",
       "<thead><tr><th>float64</th><th>float64</th><th>float64</th><th>int64</th><th>float64</th><th>str17</th><th>str9</th><th>str16</th></tr></thead>\n",
       "<tr><td>212.334796652</td><td>26.1000264737</td><td>2000.0</td><td>9</td><td>16.0561542511</td><td>pg1407.V.mos.fits</td><td>DEIMOS</td><td>--</td></tr>\n",
       "<tr><td>212.26495629</td><td>26.0947721661</td><td>2000.0</td><td>11</td><td>20.6598587036</td><td>pg1407.V.mos.fits</td><td>DEIMOS</td><td>--</td></tr>\n",
       "<tr><td>212.411925769</td><td>26.0947695972</td><td>2000.0</td><td>12</td><td>20.7155303955</td><td>pg1407.V.mos.fits</td><td>DEIMOS</td><td>--</td></tr>\n",
       "<tr><td>212.406811435</td><td>26.0947466244</td><td>2000.0</td><td>14</td><td>20.8779258728</td><td>pg1407.V.mos.fits</td><td>DEIMOS</td><td>--</td></tr>\n",
       "<tr><td>212.468298212</td><td>26.1125385718</td><td>2000.0</td><td>29</td><td>21.9139823914</td><td>pg1407.V.mos.fits</td><td>DEIMOS</td><td>--</td></tr>\n",
       "</table>"
      ],
      "text/plain": [
       "<Table masked=True length=5>\n",
       "   TARG_RA       TARG_DEC    EPOCH  ...      TARG_IMG     INSTR  MASK_NAME\n",
       "   float64       float64    float64 ...       str17        str9    str16  \n",
       "------------- ------------- ------- ... ----------------- ------ ---------\n",
       "212.334796652 26.1000264737  2000.0 ... pg1407.V.mos.fits DEIMOS        --\n",
       " 212.26495629 26.0947721661  2000.0 ... pg1407.V.mos.fits DEIMOS        --\n",
       "212.411925769 26.0947695972  2000.0 ... pg1407.V.mos.fits DEIMOS        --\n",
       "212.406811435 26.0947466244  2000.0 ... pg1407.V.mos.fits DEIMOS        --\n",
       "212.468298212 26.1125385718  2000.0 ... pg1407.V.mos.fits DEIMOS        --"
      ]
     },
     "execution_count": 55,
     "metadata": {},
     "output_type": "execute_result"
    }
   ],
   "source": [
    "lfield.targets[0:5]"
   ]
  },
  {
   "cell_type": "markdown",
   "metadata": {},
   "source": [
    "### Load observing details for multi-object follow-up"
   ]
  },
  {
   "cell_type": "code",
   "execution_count": 56,
   "metadata": {
    "collapsed": true
   },
   "outputs": [],
   "source": [
    "obs_file = path+'/'+field[0]+'/'+field[0]+'_MULTI_OBJ.ascii'\n",
    "lfield.observing = Table.read(obs_file,delimiter='|',\n",
    "    format='ascii.fixed_width', \n",
    "    fill_values=[('--','0','DATE_OBS','TEXP')])\n",
    "lfield.observing = Table(lfield.observing,masked=True)"
   ]
  },
  {
   "cell_type": "code",
   "execution_count": 57,
   "metadata": {
    "collapsed": false
   },
   "outputs": [
    {
     "data": {
      "text/html": [
       "&lt;Table masked=True length=5&gt;\n",
       "<table id=\"table4486278160\">\n",
       "<thead><tr><th>INSTR</th><th>MASK_NAME</th><th>MASK_RA</th><th>MASK_DEC</th><th>MASK_EPOCH</th><th>MASK_PA</th><th>DATE_OBS</th><th>DISPERSER</th><th>TEXP</th><th>CONDITIONS</th></tr></thead>\n",
       "<thead><tr><th>str9</th><th>str16</th><th>str12</th><th>str12</th><th>float64</th><th>float64</th><th>str11</th><th>str4</th><th>float64</th><th>str18</th></tr></thead>\n",
       "<tr><td>DEIMOS</td><td>PG1407_may_early</td><td>14:09:34.10</td><td>26:18:45.1</td><td>2000.0</td><td>-96.1</td><td>23-Jul-2015</td><td>G600</td><td>3600.0</td><td>POOR_SEEING,CLOUDS</td></tr>\n",
       "<tr><td>DEIMOS</td><td>PG1407_may_early</td><td>14:09:34.10</td><td>26:18:45.1</td><td>2000.0</td><td>-96.1</td><td>24-Jul-2015</td><td>G600</td><td>3600.0</td><td>CLEAR</td></tr>\n",
       "<tr><td>DEIMOS</td><td>PG1407_may_mid</td><td>14:09:30.58</td><td>26:18:36.8</td><td>2000.0</td><td>80.0</td><td>23-Jul-2015</td><td>G600</td><td>3600.0</td><td>MAKE_BELIEVE</td></tr>\n",
       "<tr><td>DEIMOS</td><td>PG1407_may_mid2</td><td>14:09:30.58</td><td>26:16:36.8</td><td>2000.0</td><td>-2.0</td><td>23-Jul-2015</td><td>G600</td><td>3600.0</td><td>MAKE_BELIEVE</td></tr>\n",
       "<tr><td>DEIMOS</td><td>PG1407_may_late</td><td>14:09:30.58</td><td>26:16:36.8</td><td>2000.0</td><td>126.0</td><td>23-Jul-2015</td><td>G600</td><td>3600.0</td><td>MAKE_BELIEVE</td></tr>\n",
       "</table>"
      ],
      "text/plain": [
       "<Table masked=True length=5>\n",
       "INSTR     MASK_NAME       MASK_RA   ... DISPERSER   TEXP      CONDITIONS    \n",
       " str9       str16          str12    ...    str4   float64       str18       \n",
       "------ ---------------- ----------- ... --------- ------- ------------------\n",
       "DEIMOS PG1407_may_early 14:09:34.10 ...      G600  3600.0 POOR_SEEING,CLOUDS\n",
       "DEIMOS PG1407_may_early 14:09:34.10 ...      G600  3600.0              CLEAR\n",
       "DEIMOS   PG1407_may_mid 14:09:30.58 ...      G600  3600.0       MAKE_BELIEVE\n",
       "DEIMOS  PG1407_may_mid2 14:09:30.58 ...      G600  3600.0       MAKE_BELIEVE\n",
       "DEIMOS  PG1407_may_late 14:09:30.58 ...      G600  3600.0       MAKE_BELIEVE"
      ]
     },
     "execution_count": 57,
     "metadata": {},
     "output_type": "execute_result"
    }
   ],
   "source": [
    "lfield.observing[0:5]"
   ]
  },
  {
   "cell_type": "markdown",
   "metadata": {},
   "source": [
    "### Load galaxies"
   ]
  },
  {
   "cell_type": "code",
   "execution_count": 58,
   "metadata": {
    "collapsed": true
   },
   "outputs": [],
   "source": [
    "sdss_file = path+'/'+field[0]+'/'+field[0]+'_SDSS.fits'\n",
    "sdss_tab = Table.read(sdss_file)\n",
    "# VSTACK\n",
    "#hectospec_file = xcasbahu.get_filename(field,'HECTOSPEC')\n",
    "lfield.galaxies = sdss_tab"
   ]
  },
  {
   "cell_type": "code",
   "execution_count": 59,
   "metadata": {
    "collapsed": false
   },
   "outputs": [
    {
     "data": {
      "text/html": [
       "&lt;Table length=5&gt;\n",
       "<table id=\"table4490986832\">\n",
       "<thead><tr><th>RA</th><th>DEC</th><th>Z</th><th>Z_ERR</th><th>SDSS_MAG [5]</th><th>SDSS_MAGERR [5]</th><th>TELESCOPE</th><th>INSTRUMENT</th><th>FLUX [5000]</th><th>SIG [5000]</th><th>WAVE [5000]</th></tr></thead>\n",
       "<thead><tr><th>float64</th><th>float64</th><th>float64</th><th>float64</th><th>float64</th><th>float64</th><th>str80</th><th>str80</th><th>float32</th><th>float32</th><th>float64</th></tr></thead>\n",
       "<tr><td>212.363198097</td><td>26.3766678271</td><td>1.88746607304</td><td>0.000153284345288</td><td>21.94763 .. 0.0</td><td>1.772229 .. 0.0</td><td>SDSS 2.5-M</td><td>BOSS</td><td>13.2035 .. 0.0</td><td>3.4688 .. 0.0</td><td>3592.52587891 .. 0.0</td></tr>\n",
       "<tr><td>212.430686007</td><td>26.1133116853</td><td>0.673991203308</td><td>0.000221190101001</td><td>24.90705 .. 0.0</td><td>4.125149 .. 0.0</td><td>SDSS 2.5-M</td><td>BOSS</td><td>-0.0600585 .. 0.0</td><td>2.7654 .. 0.0</td><td>3592.52587891 .. 0.0</td></tr>\n",
       "<tr><td>212.343915164</td><td>26.4916239719</td><td>0.321283131838</td><td>4.98580266139e-05</td><td>18.42358 .. 0.0</td><td>0.0526542 .. 0.0</td><td>SDSS 2.5-M</td><td>BOSS</td><td>-1.64116 .. 0.0</td><td>3.06158 .. 0.0</td><td>3590.87353516 .. 0.0</td></tr>\n",
       "<tr><td>212.385747743</td><td>26.491183107</td><td>0.67558658123</td><td>0.000228605858865</td><td>19.84492 .. 0.0</td><td>0.1783652 .. 0.0</td><td>SDSS 2.5-M</td><td>BOSS</td><td>2.83022 .. 0.0</td><td>3.29004 .. 0.0</td><td>3592.52587891 .. 0.0</td></tr>\n",
       "<tr><td>212.48142489</td><td>26.4662754507</td><td>0.130176991224</td><td>1.88579542737e-05</td><td>21.54407 .. 0.0</td><td>0.5453481 .. 0.0</td><td>SDSS 2.5-M</td><td>BOSS</td><td>3.19202 .. 0.0</td><td>2.76537 .. 0.0</td><td>3592.52587891 .. 0.0</td></tr>\n",
       "</table>"
      ],
      "text/plain": [
       "<Table length=5>\n",
       "      RA           DEC      ...   SIG [5000]       WAVE [5000]     \n",
       "   float64       float64    ...    float32           float64       \n",
       "------------- ------------- ... -------------- --------------------\n",
       "212.363198097 26.3766678271 ...  3.4688 .. 0.0 3592.52587891 .. 0.0\n",
       "212.430686007 26.1133116853 ...  2.7654 .. 0.0 3592.52587891 .. 0.0\n",
       "212.343915164 26.4916239719 ... 3.06158 .. 0.0 3590.87353516 .. 0.0\n",
       "212.385747743  26.491183107 ... 3.29004 .. 0.0 3592.52587891 .. 0.0\n",
       " 212.48142489 26.4662754507 ... 2.76537 .. 0.0 3592.52587891 .. 0.0"
      ]
     },
     "execution_count": 59,
     "metadata": {},
     "output_type": "execute_result"
    }
   ],
   "source": [
    "lfield.galaxies[0:5]"
   ]
  },
  {
   "cell_type": "markdown",
   "metadata": {},
   "source": [
    "### Observed Galaxies"
   ]
  },
  {
   "cell_type": "code",
   "execution_count": 60,
   "metadata": {
    "collapsed": false
   },
   "outputs": [],
   "source": [
    "targ, dates, idx = lfield.get_observed(5.*u.arcmin)"
   ]
  },
  {
   "cell_type": "code",
   "execution_count": 61,
   "metadata": {
    "collapsed": false
   },
   "outputs": [
    {
     "data": {
      "text/html": [
       "&lt;Table masked=True length=5&gt;\n",
       "<table id=\"table4486276304\">\n",
       "<thead><tr><th>TARG_RA</th><th>TARG_DEC</th><th>EPOCH</th><th>TARG_ID</th><th>TARG_MAG</th><th>TARG_IMG</th><th>INSTR</th><th>MASK_NAME</th></tr></thead>\n",
       "<thead><tr><th>float64</th><th>float64</th><th>float64</th><th>int64</th><th>float64</th><th>str17</th><th>str9</th><th>str16</th></tr></thead>\n",
       "<tr><td>212.366450311</td><td>26.2276203003</td><td>2000.0</td><td>2947</td><td>19.9682579041</td><td>pg1407.V.mos.fits</td><td>DEIMOS</td><td>PG1407_may_mid2</td></tr>\n",
       "<tr><td>212.337965137</td><td>26.2315178206</td><td>2000.0</td><td>3060</td><td>21.8942775726</td><td>pg1407.V.mos.fits</td><td>DEIMOS</td><td>PG1407_may_mid2</td></tr>\n",
       "<tr><td>212.388390998</td><td>26.2425689356</td><td>2000.0</td><td>3102</td><td>15.1205978394</td><td>pg1407.V.mos.fits</td><td>DEIMOS</td><td>PG1407_may_late</td></tr>\n",
       "<tr><td>212.348481868</td><td>26.2357233302</td><td>2000.0</td><td>3252</td><td>21.518989563</td><td>pg1407.V.mos.fits</td><td>DEIMOS</td><td>PG1407_may_mid2</td></tr>\n",
       "<tr><td>212.399693374</td><td>26.2492028892</td><td>2000.0</td><td>3500</td><td>20.5630588531</td><td>pg1407.V.mos.fits</td><td>DEIMOS</td><td>PG1407_may_mid2</td></tr>\n",
       "</table>"
      ],
      "text/plain": [
       "<Table masked=True length=5>\n",
       "   TARG_RA       TARG_DEC    EPOCH  ...      TARG_IMG     INSTR     MASK_NAME   \n",
       "   float64       float64    float64 ...       str17        str9       str16     \n",
       "------------- ------------- ------- ... ----------------- ------ ---------------\n",
       "212.366450311 26.2276203003  2000.0 ... pg1407.V.mos.fits DEIMOS PG1407_may_mid2\n",
       "212.337965137 26.2315178206  2000.0 ... pg1407.V.mos.fits DEIMOS PG1407_may_mid2\n",
       "212.388390998 26.2425689356  2000.0 ... pg1407.V.mos.fits DEIMOS PG1407_may_late\n",
       "212.348481868 26.2357233302  2000.0 ... pg1407.V.mos.fits DEIMOS PG1407_may_mid2\n",
       "212.399693374 26.2492028892  2000.0 ... pg1407.V.mos.fits DEIMOS PG1407_may_mid2"
      ]
     },
     "execution_count": 61,
     "metadata": {},
     "output_type": "execute_result"
    }
   ],
   "source": [
    "targ[0:5]"
   ]
  },
  {
   "cell_type": "markdown",
   "metadata": {},
   "source": [
    "### UnObserved Galaxies"
   ]
  },
  {
   "cell_type": "code",
   "execution_count": 62,
   "metadata": {
    "collapsed": false
   },
   "outputs": [],
   "source": [
    "un_targ = lfield.get_unobserved(5.*u.arcmin)"
   ]
  },
  {
   "cell_type": "code",
   "execution_count": 63,
   "metadata": {
    "collapsed": false
   },
   "outputs": [
    {
     "data": {
      "text/html": [
       "&lt;Table masked=True length=5&gt;\n",
       "<table id=\"table4486276240\">\n",
       "<thead><tr><th>TARG_RA</th><th>TARG_DEC</th><th>EPOCH</th><th>TARG_ID</th><th>TARG_MAG</th><th>TARG_IMG</th><th>INSTR</th><th>MASK_NAME</th></tr></thead>\n",
       "<thead><tr><th>float64</th><th>float64</th><th>float64</th><th>int64</th><th>float64</th><th>str17</th><th>str9</th><th>str16</th></tr></thead>\n",
       "<tr><td>212.349771362</td><td>26.2235941927</td><td>2000.0</td><td>2830</td><td>20.998041153</td><td>pg1407.V.mos.fits</td><td>DEIMOS</td><td>--</td></tr>\n",
       "<tr><td>212.356385414</td><td>26.2251667842</td><td>2000.0</td><td>2915</td><td>22.5619411469</td><td>pg1407.V.mos.fits</td><td>DEIMOS</td><td>--</td></tr>\n",
       "<tr><td>212.361692181</td><td>26.2239892741</td><td>2000.0</td><td>2916</td><td>24.1698799133</td><td>pg1407.V.mos.fits</td><td>DEIMOS</td><td>--</td></tr>\n",
       "<tr><td>212.361227903</td><td>26.224883351</td><td>2000.0</td><td>2925</td><td>23.2408084869</td><td>pg1407.V.mos.fits</td><td>DEIMOS</td><td>--</td></tr>\n",
       "<tr><td>212.356464796</td><td>26.2246469949</td><td>2000.0</td><td>2933</td><td>22.7471561432</td><td>pg1407.V.mos.fits</td><td>DEIMOS</td><td>--</td></tr>\n",
       "</table>"
      ],
      "text/plain": [
       "<Table masked=True length=5>\n",
       "   TARG_RA       TARG_DEC    EPOCH  ...      TARG_IMG     INSTR  MASK_NAME\n",
       "   float64       float64    float64 ...       str17        str9    str16  \n",
       "------------- ------------- ------- ... ----------------- ------ ---------\n",
       "212.349771362 26.2235941927  2000.0 ... pg1407.V.mos.fits DEIMOS        --\n",
       "212.356385414 26.2251667842  2000.0 ... pg1407.V.mos.fits DEIMOS        --\n",
       "212.361692181 26.2239892741  2000.0 ... pg1407.V.mos.fits DEIMOS        --\n",
       "212.361227903  26.224883351  2000.0 ... pg1407.V.mos.fits DEIMOS        --\n",
       "212.356464796 26.2246469949  2000.0 ... pg1407.V.mos.fits DEIMOS        --"
      ]
     },
     "execution_count": 63,
     "metadata": {},
     "output_type": "execute_result"
    }
   ],
   "source": [
    "un_targ[0:5]"
   ]
  },
  {
   "cell_type": "markdown",
   "metadata": {},
   "source": [
    "### Associated Galaxies"
   ]
  },
  {
   "cell_type": "code",
   "execution_count": 16,
   "metadata": {
    "collapsed": false
   },
   "outputs": [
    {
     "data": {
      "text/html": [
       "&lt;Table length=1&gt;\n",
       "<table id=\"table4491101264\">\n",
       "<thead><tr><th>RA</th><th>DEC</th><th>Z</th><th>Z_ERR</th><th>SDSS_MAG [5]</th><th>SDSS_MAGERR [5]</th><th>TELESCOPE</th><th>INSTRUMENT</th><th>FLUX [5000]</th><th>SIG [5000]</th><th>WAVE [5000]</th></tr></thead>\n",
       "<thead><tr><th>float64</th><th>float64</th><th>float64</th><th>float64</th><th>float64</th><th>float64</th><th>str80</th><th>str80</th><th>float32</th><th>float32</th><th>float64</th></tr></thead>\n",
       "<tr><td>212.366033965</td><td>26.3052041276</td><td>0.13097165525</td><td>3.56041346095e-05</td><td>22.80081 .. 0.0</td><td>1.602611 .. 0.0</td><td>SDSS 2.5-M</td><td>SDSS</td><td>5.10365 .. 0.0</td><td>5.45666 .. 0.0</td><td>3801.01879883 .. 0.0</td></tr>\n",
       "</table>"
      ],
      "text/plain": [
       "<Table length=1>\n",
       "      RA           DEC      ...   SIG [5000]       WAVE [5000]     \n",
       "   float64       float64    ...    float32           float64       \n",
       "------------- ------------- ... -------------- --------------------\n",
       "212.366033965 26.3052041276 ... 5.45666 .. 0.0 3801.01879883 .. 0.0"
      ]
     },
     "execution_count": 16,
     "metadata": {},
     "output_type": "execute_result"
    }
   ],
   "source": [
    "close_gal, rho = lfield.get_associated_galaxies(0.13, R=300*u.kpc)\n",
    "close_gal"
   ]
  },
  {
   "cell_type": "markdown",
   "metadata": {},
   "source": [
    "### Mask Date"
   ]
  },
  {
   "cell_type": "code",
   "execution_count": 64,
   "metadata": {
    "collapsed": false
   },
   "outputs": [
    {
     "data": {
      "text/plain": [
       "['23-Jul-2015']"
      ]
     },
     "execution_count": 64,
     "metadata": {},
     "output_type": "execute_result"
    }
   ],
   "source": [
    "lfield.get_mask_obsdate('PG1407_may_mid2')"
   ]
  }
 ],
 "metadata": {
  "kernelspec": {
   "display_name": "Python 2",
   "language": "python",
   "name": "python2"
  },
  "language_info": {
   "codemirror_mode": {
    "name": "ipython",
    "version": 2
   },
   "file_extension": ".py",
   "mimetype": "text/x-python",
   "name": "python",
   "nbconvert_exporter": "python",
   "pygments_lexer": "ipython2",
   "version": "2.7.10"
  }
 },
 "nbformat": 4,
 "nbformat_minor": 0
}
