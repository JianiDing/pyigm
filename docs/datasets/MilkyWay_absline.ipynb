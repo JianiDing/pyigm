{
 "cells": [
  {
   "cell_type": "markdown",
   "metadata": {},
   "source": [
    "# Absorption-line Datasets for the Milky Way"
   ]
  },
  {
   "cell_type": "code",
   "execution_count": 1,
   "metadata": {
    "collapsed": true
   },
   "outputs": [],
   "source": [
    "# imports\n",
    "import numpy as np\n",
    "from imp import reload\n",
    "import imp\n",
    "\n",
    "from astropy.table import Table\n",
    "from linetools.lists.linelist import LineList\n",
    "\n",
    "from pyigm.cgm import galaxy as py_mw"
   ]
  },
  {
   "cell_type": "markdown",
   "metadata": {},
   "source": [
    "## Init"
   ]
  },
  {
   "cell_type": "code",
   "execution_count": 2,
   "metadata": {
    "collapsed": false
   },
   "outputs": [
    {
     "name": "stdout",
     "output_type": "stream",
     "text": [
      "linetools.lists.parse: Reading linelist --- \n",
      "   /media/xavier/ExtraDrive1/Python/linetools/linetools/data/lines/morton03_table2.fits.gz\n",
      "linetools.lists.parse: Reading linelist --- \n",
      "   /media/xavier/ExtraDrive1/Python/linetools/linetools/data/lines/morton00_table2.fits.gz\n"
     ]
    },
    {
     "name": "stderr",
     "output_type": "stream",
     "text": [
      "WARNING: UnitsWarning: The unit 'Angstrom' has been deprecated in the FITS standard. Suggested: 10**-1 nm. [astropy.units.format.utils]\n"
     ]
    },
    {
     "name": "stdout",
     "output_type": "stream",
     "text": [
      "linetools.lists.parse: Reading linelist --- \n",
      "   /media/xavier/ExtraDrive1/Python/linetools/linetools/data/lines/verner96_tab1.fits.gz\n",
      "linetools.lists.parse: Reading linelist --- \n",
      "   /media/xavier/ExtraDrive1/Python/linetools/linetools/data/lines/verner94_tab6.fits\n"
     ]
    },
    {
     "name": "stderr",
     "output_type": "stream",
     "text": [
      "WARNING: UnitsWarning: '0.1nm' did not parse as fits unit: Numeric factor not supported by FITS [astropy.units.core]\n"
     ]
    },
    {
     "name": "stdout",
     "output_type": "stream",
     "text": [
      "linetools.lists.parse: Reading linelist --- \n",
      "   /media/xavier/ExtraDrive1/Python/linetools/linetools/data/lines/EUV_lines.ascii\n",
      "read_sets: Using set file -- \n",
      "  /media/xavier/ExtraDrive1/Python/linetools/linetools/lists/sets/llist_v1.1.ascii\n"
     ]
    },
    {
     "name": "stderr",
     "output_type": "stream",
     "text": [
      "/home/xavier/anaconda3/lib/python3.6/site-packages/astropy/table/column.py:1096: MaskedArrayFutureWarning: setting an item on a masked array which has a shared mask will not copy the mask and also change the original mask array in the future.\n",
      "Check the NumPy 1.11 release notes for more information.\n",
      "  ma.MaskedArray.__setitem__(self, index, value)\n",
      "/media/xavier/ExtraDrive1/Python/linetools/linetools/lists/linelist.py:306: UserWarning: WARNING: Multiple lines with wrest=9.72\n",
      "  warnings.warn(wmsg)\n",
      "/media/xavier/ExtraDrive1/Python/linetools/linetools/lists/linelist.py:308: UserWarning: Taking the first entry. Maybe use higher precision.\n",
      "  'Taking the first entry. Maybe use higher precision.')\n",
      "/media/xavier/ExtraDrive1/Python/linetools/linetools/lists/linelist.py:306: UserWarning: WARNING: Multiple lines with wrest=9.91\n",
      "  warnings.warn(wmsg)\n",
      "/media/xavier/ExtraDrive1/Python/linetools/linetools/lists/linelist.py:306: UserWarning: WARNING: Multiple lines with wrest=10.06\n",
      "  warnings.warn(wmsg)\n",
      "/media/xavier/ExtraDrive1/Python/linetools/linetools/lists/linelist.py:306: UserWarning: WARNING: Multiple lines with wrest=10.37\n",
      "  warnings.warn(wmsg)\n",
      "/media/xavier/ExtraDrive1/Python/linetools/linetools/lists/linelist.py:395: RuntimeWarning: divide by zero encountered in log10\n",
      "  self._data['log(w*f)'] = np.log10(qm_strength)\n"
     ]
    },
    {
     "name": "stdout",
     "output_type": "stream",
     "text": [
      "Loading abundances from Asplund2009\n",
      "Abundances are relative by number on a logarithmic scale with H=12\n"
     ]
    },
    {
     "name": "stderr",
     "output_type": "stream",
     "text": [
      "/media/xavier/ExtraDrive1/Python/linetools/linetools/analysis/linelimits.py:165: UserWarning: Redshift=0.  If this is unexpected, set _z and reset limits\n",
      "  warnings.warn(\"Redshift=0.  If this is unexpected, set _z and reset limits\")\n"
     ]
    }
   ],
   "source": [
    "reload(py_mw)\n",
    "mwcgm = py_mw.GalaxyCGM()"
   ]
  },
  {
   "cell_type": "markdown",
   "metadata": {},
   "source": [
    "## Fang+15 (OVII)"
   ]
  },
  {
   "cell_type": "markdown",
   "metadata": {},
   "source": [
    "### Table"
   ]
  },
  {
   "cell_type": "code",
   "execution_count": 3,
   "metadata": {
    "collapsed": false
   },
   "outputs": [
    {
     "data": {
      "text/html": [
       "&lt;Table masked=True length=10&gt;\n",
       "<table id=\"table139718321619072\" class=\"table-striped table-bordered table-condensed\">\n",
       "<thead><tr><th>Name</th><th>Type</th><th>GLON</th><th>GLAT</th><th>z</th><th>NH</th><th>Exp</th><th>CPRE</th><th>logNO</th><th>E_logNO</th><th>e_logNO</th><th>b</th><th>E_b</th><th>e_b</th><th>Vel</th><th>E_Vel</th><th>e_Vel</th><th>l_EW1</th><th>EW1</th><th>e_EW1</th><th>S/N1</th><th>C/dof</th><th>EW2</th><th>e_EW2</th><th>S/N2</th><th>Note</th></tr></thead>\n",
       "<thead><tr><th></th><th></th><th>deg</th><th>deg</th><th></th><th>1e+20 / cm2</th><th>ks</th><th></th><th>[cm-2]</th><th>[cm-2]</th><th>[cm-2]</th><th>km / s</th><th>km / s</th><th>km / s</th><th>km / s</th><th>km / s</th><th>km / s</th><th></th><th>1e-13 m</th><th>1e-13 m</th><th></th><th></th><th>1e-13 m</th><th>1e-13 m</th><th></th><th></th></tr></thead>\n",
       "<thead><tr><th>str15</th><th>int64</th><th>float64</th><th>float64</th><th>float64</th><th>float64</th><th>int64</th><th>int64</th><th>float64</th><th>float64</th><th>float64</th><th>int64</th><th>int64</th><th>int64</th><th>int64</th><th>int64</th><th>int64</th><th>str1</th><th>float64</th><th>float64</th><th>float64</th><th>str9</th><th>float64</th><th>float64</th><th>float64</th><th>str5</th></tr></thead>\n",
       "<tr><td>H 1426+428</td><td>1</td><td>77.487</td><td>64.899</td><td>0.1291</td><td>1.36</td><td>312</td><td>277</td><td>16.3</td><td>1.84</td><td>0.83</td><td>75</td><td>224</td><td>55</td><td>120</td><td>0</td><td>227</td><td>--</td><td>17.02</td><td>4.56</td><td>3.7</td><td>166/211</td><td>15.33</td><td>4.9</td><td>3.1</td><td>5</td></tr>\n",
       "<tr><td>MR 2251-178</td><td>2</td><td>46.197</td><td>-61.325</td><td>0.064</td><td>2.71</td><td>393</td><td>250</td><td>15.69</td><td>2.23</td><td>0.69</td><td>202</td><td>97</td><td>182</td><td>-120</td><td>240</td><td>0</td><td>--</td><td>12.64</td><td>4.69</td><td>2.7</td><td>148/138</td><td>11.04</td><td>5.47</td><td>2.0</td><td>5</td></tr>\n",
       "<tr><td>Mkn 335</td><td>2</td><td>108.763</td><td>-41.424</td><td>0.0258</td><td>3.99</td><td>412</td><td>227</td><td>15.9</td><td>2.3</td><td>0.31</td><td>300</td><td>0</td><td>280</td><td>-81</td><td>201</td><td>39</td><td>--</td><td>18.91</td><td>4.87</td><td>3.9</td><td>274/274</td><td>17.8</td><td>4.96</td><td>3.6</td><td>*</td></tr>\n",
       "<tr><td>Mkn 501</td><td>1</td><td>63.6</td><td>38.859</td><td>0.0337</td><td>1.74</td><td>171</td><td>212</td><td>16.75</td><td>1.62</td><td>0.98</td><td>86</td><td>213</td><td>66</td><td>68</td><td>52</td><td>188</td><td>--</td><td>24.0</td><td>5.77</td><td>4.2</td><td>156/141</td><td>22.91</td><td>5.18</td><td>4.4</td><td>8</td></tr>\n",
       "<tr><td>ESO 141-55</td><td>2</td><td>338.183</td><td>-26.711</td><td>0.0371</td><td>5.14</td><td>232</td><td>190</td><td>15.92</td><td>2.43</td><td>0.33</td><td>300</td><td>0</td><td>280</td><td>-120</td><td>223</td><td>0</td><td>--</td><td>21.13</td><td>5.65</td><td>3.7</td><td>116/136</td><td>17.62</td><td>5.72</td><td>3.1</td><td>9</td></tr>\n",
       "<tr><td>NGC 7469</td><td>2</td><td>83.099</td><td>-45.467</td><td>0.0163</td><td>4.96</td><td>163</td><td>140</td><td>15.88</td><td>2.42</td><td>0.49</td><td>300</td><td>0</td><td>280</td><td>-120</td><td>240</td><td>0</td><td>--</td><td>18.14</td><td>6.23</td><td>2.9</td><td>88/87</td><td>16.02</td><td>6.62</td><td>2.4</td><td>5</td></tr>\n",
       "<tr><td>NGC 3783</td><td>2</td><td>287.456</td><td>22.947</td><td>0.0097</td><td>9.1</td><td>304</td><td>137</td><td>16.0</td><td>2.46</td><td>0.37</td><td>300</td><td>0</td><td>280</td><td>120</td><td>0</td><td>240</td><td>--</td><td>23.3</td><td>6.65</td><td>3.5</td><td>147/103</td><td>19.82</td><td>6.61</td><td>3.0</td><td>10</td></tr>\n",
       "<tr><td>Mkn 279</td><td>2</td><td>115.042</td><td>46.865</td><td>0.0305</td><td>1.82</td><td>173</td><td>134</td><td>17.65</td><td>0.62</td><td>2.65</td><td>20</td><td>280</td><td>0</td><td>120</td><td>0</td><td>240</td><td>--</td><td>15.98</td><td>7.28</td><td>2.2</td><td>101/99</td><td>13.62</td><td>8.02</td><td>1.7</td><td>11</td></tr>\n",
       "<tr><td>NGC 5548</td><td>2</td><td>31.96</td><td>70.496</td><td>0.0172</td><td>1.83</td><td>146</td><td>119</td><td>--</td><td>--</td><td>--</td><td>--</td><td>--</td><td>--</td><td>--</td><td>--</td><td>--</td><td>&lt;</td><td>9.0</td><td>--</td><td>--</td><td>--</td><td>--</td><td>--</td><td>--</td><td>--</td></tr>\n",
       "<tr><td>H 2356-309</td><td>1</td><td>12.839</td><td>-78.035</td><td>0.1654</td><td>1.33</td><td>242</td><td>119</td><td>15.97</td><td>2.11</td><td>0.97</td><td>44</td><td>255</td><td>24</td><td>29</td><td>91</td><td>149</td><td>--</td><td>9.17</td><td>9.18</td><td>1.0</td><td>77/79</td><td>9.2</td><td>7.4</td><td>1.2</td><td>12</td></tr>\n",
       "</table>"
      ],
      "text/plain": [
       "<Table masked=True length=10>\n",
       "    Name     Type   GLON    GLAT     z    ...   EW2    e_EW2    S/N2  Note\n",
       "                    deg     deg           ... 1e-13 m 1e-13 m             \n",
       "   str15    int64 float64 float64 float64 ... float64 float64 float64 str5\n",
       "----------- ----- ------- ------- ------- ... ------- ------- ------- ----\n",
       " H 1426+428     1  77.487  64.899  0.1291 ...   15.33     4.9     3.1    5\n",
       "MR 2251-178     2  46.197 -61.325   0.064 ...   11.04    5.47     2.0    5\n",
       "    Mkn 335     2 108.763 -41.424  0.0258 ...    17.8    4.96     3.6    *\n",
       "    Mkn 501     1    63.6  38.859  0.0337 ...   22.91    5.18     4.4    8\n",
       " ESO 141-55     2 338.183 -26.711  0.0371 ...   17.62    5.72     3.1    9\n",
       "   NGC 7469     2  83.099 -45.467  0.0163 ...   16.02    6.62     2.4    5\n",
       "   NGC 3783     2 287.456  22.947  0.0097 ...   19.82    6.61     3.0   10\n",
       "    Mkn 279     2 115.042  46.865  0.0305 ...   13.62    8.02     1.7   11\n",
       "   NGC 5548     2   31.96  70.496  0.0172 ...      --      --      --   --\n",
       " H 2356-309     1  12.839 -78.035  0.1654 ...     9.2     7.4     1.2   12"
      ]
     },
     "execution_count": 3,
     "metadata": {},
     "output_type": "execute_result"
    }
   ],
   "source": [
    "mwcgm.fang15[10:20]"
   ]
  },
  {
   "cell_type": "markdown",
   "metadata": {},
   "source": [
    "### OVII System"
   ]
  },
  {
   "cell_type": "code",
   "execution_count": 4,
   "metadata": {
    "collapsed": false
   },
   "outputs": [
    {
     "data": {
      "text/plain": [
       "{'EW': <Quantity 0.013130000000000001 Angstrom>,\n",
       " 'N': <Quantity 0.0 1 / cm2>,\n",
       " 'b': <Quantity 63.0 km / s>,\n",
       " 'coord': <SkyCoord (Galactic): (l, b) in deg\n",
       "     ( 179.832,  65.032)>,\n",
       " 'flag_EW': 1,\n",
       " 'flag_N': 1,\n",
       " 'logN': 16.149999999999999,\n",
       " 'sig_EW': <Quantity 0.00067 Angstrom>,\n",
       " 'sig_N': <Quantity 0.0 1 / cm2>,\n",
       " 'sig_b': <Quantity 0.0 km / s>,\n",
       " 'sig_logN': [0.34000000000000002, 0.91000000000000003]}"
      ]
     },
     "execution_count": 4,
     "metadata": {},
     "output_type": "execute_result"
    }
   ],
   "source": [
    "mwcgm.cgm_abs[0]._components[0]._abslines[0].attrib"
   ]
  },
  {
   "cell_type": "code",
   "execution_count": null,
   "metadata": {
    "collapsed": true
   },
   "outputs": [],
   "source": []
  }
 ],
 "metadata": {
  "kernelspec": {
   "display_name": "Python 3",
   "language": "python",
   "name": "python3"
  },
  "language_info": {
   "codemirror_mode": {
    "name": "ipython",
    "version": 3
   },
   "file_extension": ".py",
   "mimetype": "text/x-python",
   "name": "python",
   "nbconvert_exporter": "python",
   "pygments_lexer": "ipython3",
   "version": "3.6.0"
  }
 },
 "nbformat": 4,
 "nbformat_minor": 2
}
