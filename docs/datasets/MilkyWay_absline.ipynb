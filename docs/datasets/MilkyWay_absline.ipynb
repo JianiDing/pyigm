{
 "cells": [
  {
   "cell_type": "markdown",
   "metadata": {},
   "source": [
    "# Absorption-line Datasets for the Milky Way"
   ]
  },
  {
   "cell_type": "code",
   "execution_count": 12,
   "metadata": {
    "collapsed": true
   },
   "outputs": [],
   "source": [
    "# imports\n",
    "import numpy as np\n",
    "from imp import reload\n",
    "import imp\n",
    "\n",
    "from astropy.table import Table\n",
    "from linetools.lists.linelist import LineList\n",
    "\n",
    "from pyigm.cgm import galaxy as py_mw"
   ]
  },
  {
   "cell_type": "markdown",
   "metadata": {},
   "source": [
    "## Init"
   ]
  },
  {
   "cell_type": "code",
   "execution_count": 26,
   "metadata": {
    "collapsed": false
   },
   "outputs": [
    {
     "name": "stdout",
     "output_type": "stream",
     "text": [
      "linetools.lists.parse: Reading linelist --- \n",
      "   /media/xavier/ExtraDrive1/Python/linetools/linetools/data/lines/morton03_table2.fits.gz\n",
      "linetools.lists.parse: Reading linelist --- \n",
      "   /media/xavier/ExtraDrive1/Python/linetools/linetools/data/lines/morton00_table2.fits.gz\n"
     ]
    },
    {
     "name": "stderr",
     "output_type": "stream",
     "text": [
      "WARNING: UnitsWarning: The unit 'Angstrom' has been deprecated in the FITS standard. Suggested: 10**-1 nm. [astropy.units.format.utils]\n"
     ]
    },
    {
     "name": "stdout",
     "output_type": "stream",
     "text": [
      "linetools.lists.parse: Reading linelist --- \n",
      "   /media/xavier/ExtraDrive1/Python/linetools/linetools/data/lines/verner96_tab1.fits.gz\n",
      "linetools.lists.parse: Reading linelist --- \n",
      "   /media/xavier/ExtraDrive1/Python/linetools/linetools/data/lines/verner94_tab6.fits\n"
     ]
    },
    {
     "name": "stderr",
     "output_type": "stream",
     "text": [
      "WARNING: UnitsWarning: '0.1nm' did not parse as fits unit: Numeric factor not supported by FITS [astropy.units.core]\n"
     ]
    },
    {
     "name": "stdout",
     "output_type": "stream",
     "text": [
      "linetools.lists.parse: Reading linelist --- \n",
      "   /media/xavier/ExtraDrive1/Python/linetools/linetools/data/lines/EUV_lines.ascii\n",
      "read_sets: Using set file -- \n",
      "  /media/xavier/ExtraDrive1/Python/linetools/linetools/lists/sets/llist_v1.1.ascii\n"
     ]
    },
    {
     "name": "stderr",
     "output_type": "stream",
     "text": [
      "/home/xavier/anaconda3/lib/python3.6/site-packages/astropy/table/column.py:1096: MaskedArrayFutureWarning: setting an item on a masked array which has a shared mask will not copy the mask and also change the original mask array in the future.\n",
      "Check the NumPy 1.11 release notes for more information.\n",
      "  ma.MaskedArray.__setitem__(self, index, value)\n",
      "/media/xavier/ExtraDrive1/Python/linetools/linetools/lists/linelist.py:305: UserWarning: WARNING: Multiple lines with wrest=9.72\n",
      "  set_data[igd]['wrest'])\n",
      "/media/xavier/ExtraDrive1/Python/linetools/linetools/lists/linelist.py:307: UserWarning: Taking the first entry. Maybe use higher precision.\n",
      "  warnings.warn(\n",
      "/media/xavier/ExtraDrive1/Python/linetools/linetools/lists/linelist.py:305: UserWarning: WARNING: Multiple lines with wrest=9.91\n",
      "  set_data[igd]['wrest'])\n",
      "/media/xavier/ExtraDrive1/Python/linetools/linetools/lists/linelist.py:305: UserWarning: WARNING: Multiple lines with wrest=10.06\n",
      "  set_data[igd]['wrest'])\n",
      "/media/xavier/ExtraDrive1/Python/linetools/linetools/lists/linelist.py:305: UserWarning: WARNING: Multiple lines with wrest=10.37\n",
      "  set_data[igd]['wrest'])\n",
      "/media/xavier/ExtraDrive1/Python/linetools/linetools/lists/linelist.py:394: RuntimeWarning: divide by zero encountered in log10\n",
      "  qm_strength.name = 'qm_strength'\n"
     ]
    },
    {
     "name": "stdout",
     "output_type": "stream",
     "text": [
      "Loading abundances from Asplund2009\n",
      "Abundances are relative by number on a logarithmic scale with H=12\n"
     ]
    },
    {
     "name": "stderr",
     "output_type": "stream",
     "text": [
      "/media/xavier/ExtraDrive1/Python/linetools/linetools/analysis/linelimits.py:165: UserWarning: Redshift=0.  If this is unexpected, set _z and reset limits\n",
      "  warnings.warn(\"Redshift=0.  If this is unexpected, set _z and reset limits\")\n"
     ]
    },
    {
     "ename": "TypeError",
     "evalue": "unsupported format string passed to MaskedConstant.__format__",
     "output_type": "error",
     "traceback": [
      "\u001b[0;31m---------------------------------------------------------------------------\u001b[0m",
      "\u001b[0;31mTypeError\u001b[0m                                 Traceback (most recent call last)",
      "\u001b[0;32m<ipython-input-26-99fc22f3bee4>\u001b[0m in \u001b[0;36m<module>\u001b[0;34m()\u001b[0m\n\u001b[1;32m      1\u001b[0m \u001b[0mreload\u001b[0m\u001b[0;34m(\u001b[0m\u001b[0mpy_mw\u001b[0m\u001b[0;34m)\u001b[0m\u001b[0;34m\u001b[0m\u001b[0m\n\u001b[0;32m----> 2\u001b[0;31m \u001b[0mmwcgm\u001b[0m \u001b[0;34m=\u001b[0m \u001b[0mpy_mw\u001b[0m\u001b[0;34m.\u001b[0m\u001b[0mGalaxyCGM\u001b[0m\u001b[0;34m(\u001b[0m\u001b[0;34m)\u001b[0m\u001b[0;34m\u001b[0m\u001b[0m\n\u001b[0m",
      "\u001b[0;32m/media/xavier/ExtraDrive1/Python/pyigm/pyigm/cgm/galaxy.py\u001b[0m in \u001b[0;36m__init__\u001b[0;34m(self, load, **kwargs)\u001b[0m\n\u001b[1;32m     53\u001b[0m         \u001b[0;31m# Hot gas\u001b[0m\u001b[0;34m\u001b[0m\u001b[0;34m\u001b[0m\u001b[0m\n\u001b[1;32m     54\u001b[0m         \u001b[0;32mif\u001b[0m \u001b[0mload\u001b[0m\u001b[0;34m:\u001b[0m\u001b[0;34m\u001b[0m\u001b[0m\n\u001b[0;32m---> 55\u001b[0;31m             \u001b[0mself\u001b[0m\u001b[0;34m.\u001b[0m\u001b[0mload_hotgas\u001b[0m\u001b[0;34m(\u001b[0m\u001b[0;34m)\u001b[0m\u001b[0;34m\u001b[0m\u001b[0m\n\u001b[0m\u001b[1;32m     56\u001b[0m \u001b[0;34m\u001b[0m\u001b[0m\n\u001b[1;32m     57\u001b[0m     \u001b[0;32mdef\u001b[0m \u001b[0mload_hotgas\u001b[0m\u001b[0;34m(\u001b[0m\u001b[0mself\u001b[0m\u001b[0;34m)\u001b[0m\u001b[0;34m:\u001b[0m\u001b[0;34m\u001b[0m\u001b[0m\n",
      "\u001b[0;32m/media/xavier/ExtraDrive1/Python/pyigm/pyigm/cgm/galaxy.py\u001b[0m in \u001b[0;36mload_hotgas\u001b[0;34m(self)\u001b[0m\n\u001b[1;32m     73\u001b[0m             \u001b[0mvlim\u001b[0m \u001b[0;34m=\u001b[0m \u001b[0mnp\u001b[0m\u001b[0;34m.\u001b[0m\u001b[0marray\u001b[0m\u001b[0;34m(\u001b[0m\u001b[0;34m[\u001b[0m\u001b[0;34m-\u001b[0m\u001b[0;36m1\u001b[0m\u001b[0;34m,\u001b[0m\u001b[0;36m1\u001b[0m\u001b[0;34m]\u001b[0m\u001b[0;34m)\u001b[0m \u001b[0;34m*\u001b[0m \u001b[0;34m(\u001b[0m\u001b[0;36m2\u001b[0m \u001b[0;34m*\u001b[0m \u001b[0mrow\u001b[0m\u001b[0;34m[\u001b[0m\u001b[0;34m'b'\u001b[0m\u001b[0;34m]\u001b[0m \u001b[0;34m+\u001b[0m \u001b[0;36m2\u001b[0m \u001b[0;34m*\u001b[0m \u001b[0mrow\u001b[0m\u001b[0;34m[\u001b[0m\u001b[0;34m'E_b'\u001b[0m\u001b[0;34m]\u001b[0m\u001b[0;34m)\u001b[0m \u001b[0;34m*\u001b[0m \u001b[0mu\u001b[0m\u001b[0;34m.\u001b[0m\u001b[0mkm\u001b[0m\u001b[0;34m/\u001b[0m\u001b[0mu\u001b[0m\u001b[0;34m.\u001b[0m\u001b[0ms\u001b[0m\u001b[0;34m\u001b[0m\u001b[0m\n\u001b[1;32m     74\u001b[0m             \u001b[0;31m# Instantiate\u001b[0m\u001b[0;34m\u001b[0m\u001b[0;34m\u001b[0m\u001b[0m\n\u001b[0;32m---> 75\u001b[0;31m             \u001b[0mabssys\u001b[0m \u001b[0;34m=\u001b[0m \u001b[0mGenericAbsSystem\u001b[0m\u001b[0;34m(\u001b[0m\u001b[0mgc\u001b[0m\u001b[0;34m,\u001b[0m \u001b[0mz\u001b[0m\u001b[0;34m,\u001b[0m \u001b[0mvlim\u001b[0m\u001b[0;34m)\u001b[0m\u001b[0;34m\u001b[0m\u001b[0m\n\u001b[0m\u001b[1;32m     76\u001b[0m             \u001b[0;31m# OVII line\u001b[0m\u001b[0;34m\u001b[0m\u001b[0;34m\u001b[0m\u001b[0m\n\u001b[1;32m     77\u001b[0m             \u001b[0maline\u001b[0m \u001b[0;34m=\u001b[0m \u001b[0movii\u001b[0m\u001b[0;34m.\u001b[0m\u001b[0mcopy\u001b[0m\u001b[0;34m(\u001b[0m\u001b[0;34m)\u001b[0m\u001b[0;34m\u001b[0m\u001b[0m\n",
      "\u001b[0;32m/media/xavier/ExtraDrive1/Python/linetools/linetools/isgm/abssystem.py\u001b[0m in \u001b[0;36m__init__\u001b[0;34m(self, radec, zabs, vlim, **kwargs)\u001b[0m\n\u001b[1;32m    587\u001b[0m     \"\"\"\n\u001b[1;32m    588\u001b[0m     \u001b[0;32mdef\u001b[0m \u001b[0m__init__\u001b[0m\u001b[0;34m(\u001b[0m\u001b[0mself\u001b[0m\u001b[0;34m,\u001b[0m \u001b[0mradec\u001b[0m\u001b[0;34m,\u001b[0m \u001b[0mzabs\u001b[0m\u001b[0;34m,\u001b[0m \u001b[0mvlim\u001b[0m\u001b[0;34m,\u001b[0m \u001b[0;34m**\u001b[0m\u001b[0mkwargs\u001b[0m\u001b[0;34m)\u001b[0m\u001b[0;34m:\u001b[0m\u001b[0;34m\u001b[0m\u001b[0m\n\u001b[0;32m--> 589\u001b[0;31m         \u001b[0mAbsSystem\u001b[0m\u001b[0;34m.\u001b[0m\u001b[0m__init__\u001b[0m\u001b[0;34m(\u001b[0m\u001b[0mself\u001b[0m\u001b[0;34m,\u001b[0m \u001b[0mradec\u001b[0m\u001b[0;34m,\u001b[0m \u001b[0mzabs\u001b[0m\u001b[0;34m,\u001b[0m \u001b[0mvlim\u001b[0m\u001b[0;34m,\u001b[0m \u001b[0mabs_type\u001b[0m\u001b[0;34m=\u001b[0m\u001b[0;34m'Generic'\u001b[0m\u001b[0;34m,\u001b[0m \u001b[0;34m**\u001b[0m\u001b[0mkwargs\u001b[0m\u001b[0;34m)\u001b[0m\u001b[0;34m\u001b[0m\u001b[0m\n\u001b[0m\u001b[1;32m    590\u001b[0m \u001b[0;34m\u001b[0m\u001b[0m\n\u001b[1;32m    591\u001b[0m     \u001b[0;32mdef\u001b[0m \u001b[0mprint_abs_type\u001b[0m\u001b[0;34m(\u001b[0m\u001b[0mself\u001b[0m\u001b[0;34m)\u001b[0m\u001b[0;34m:\u001b[0m\u001b[0;34m\u001b[0m\u001b[0m\n",
      "\u001b[0;32m/media/xavier/ExtraDrive1/Python/linetools/linetools/isgm/abssystem.py\u001b[0m in \u001b[0;36m__init__\u001b[0;34m(self, radec, zabs, vlim, zem, abs_type, NHI, sig_NHI, flag_NHI, name)\u001b[0m\n\u001b[1;32m    194\u001b[0m                     \u001b[0mself\u001b[0m\u001b[0;34m.\u001b[0m\u001b[0mcoord\u001b[0m\u001b[0;34m.\u001b[0m\u001b[0mfk5\u001b[0m\u001b[0;34m.\u001b[0m\u001b[0mra\u001b[0m\u001b[0;34m.\u001b[0m\u001b[0mto_string\u001b[0m\u001b[0;34m(\u001b[0m\u001b[0munit\u001b[0m\u001b[0;34m=\u001b[0m\u001b[0mu\u001b[0m\u001b[0;34m.\u001b[0m\u001b[0mhour\u001b[0m\u001b[0;34m,\u001b[0m\u001b[0msep\u001b[0m\u001b[0;34m=\u001b[0m\u001b[0;34m''\u001b[0m\u001b[0;34m,\u001b[0m\u001b[0mpad\u001b[0m\u001b[0;34m=\u001b[0m\u001b[0;32mTrue\u001b[0m\u001b[0;34m)\u001b[0m\u001b[0;34m,\u001b[0m\u001b[0;34m\u001b[0m\u001b[0m\n\u001b[1;32m    195\u001b[0m                     \u001b[0mself\u001b[0m\u001b[0;34m.\u001b[0m\u001b[0mcoord\u001b[0m\u001b[0;34m.\u001b[0m\u001b[0mfk5\u001b[0m\u001b[0;34m.\u001b[0m\u001b[0mdec\u001b[0m\u001b[0;34m.\u001b[0m\u001b[0mto_string\u001b[0m\u001b[0;34m(\u001b[0m\u001b[0msep\u001b[0m\u001b[0;34m=\u001b[0m\u001b[0;34m''\u001b[0m\u001b[0;34m,\u001b[0m\u001b[0mpad\u001b[0m\u001b[0;34m=\u001b[0m\u001b[0;32mTrue\u001b[0m\u001b[0;34m,\u001b[0m\u001b[0malwayssign\u001b[0m\u001b[0;34m=\u001b[0m\u001b[0;32mTrue\u001b[0m\u001b[0;34m)\u001b[0m\u001b[0;34m,\u001b[0m\u001b[0;34m\u001b[0m\u001b[0m\n\u001b[0;32m--> 196\u001b[0;31m                     self.zabs)\n\u001b[0m\u001b[1;32m    197\u001b[0m         \u001b[0;32melse\u001b[0m\u001b[0;34m:\u001b[0m\u001b[0;34m\u001b[0m\u001b[0m\n\u001b[1;32m    198\u001b[0m             \u001b[0mself\u001b[0m\u001b[0;34m.\u001b[0m\u001b[0mname\u001b[0m \u001b[0;34m=\u001b[0m \u001b[0mname\u001b[0m\u001b[0;34m\u001b[0m\u001b[0m\n",
      "\u001b[0;31mTypeError\u001b[0m: unsupported format string passed to MaskedConstant.__format__"
     ]
    }
   ],
   "source": [
    "reload(py_mw)\n",
    "mwcgm = py_mw.GalaxyCGM()"
   ]
  },
  {
   "cell_type": "markdown",
   "metadata": {},
   "source": [
    "## Fang+15 (OVII)"
   ]
  },
  {
   "cell_type": "code",
   "execution_count": 25,
   "metadata": {
    "collapsed": false
   },
   "outputs": [
    {
     "ename": "NameError",
     "evalue": "name 'mwcgm' is not defined",
     "output_type": "error",
     "traceback": [
      "\u001b[0;31m---------------------------------------------------------------------------\u001b[0m",
      "\u001b[0;31mNameError\u001b[0m                                 Traceback (most recent call last)",
      "\u001b[0;32m<ipython-input-25-77cd7d86a3d2>\u001b[0m in \u001b[0;36m<module>\u001b[0;34m()\u001b[0m\n\u001b[0;32m----> 1\u001b[0;31m \u001b[0mmwcgm\u001b[0m\u001b[0;34m.\u001b[0m\u001b[0mfang15\u001b[0m\u001b[0;34m[\u001b[0m\u001b[0;36m10\u001b[0m\u001b[0;34m:\u001b[0m\u001b[0;36m20\u001b[0m\u001b[0;34m]\u001b[0m\u001b[0;34m\u001b[0m\u001b[0m\n\u001b[0m",
      "\u001b[0;31mNameError\u001b[0m: name 'mwcgm' is not defined"
     ]
    }
   ],
   "source": [
    "mwcgm.fang15[10:20]"
   ]
  },
  {
   "cell_type": "markdown",
   "metadata": {},
   "source": [
    "### X-ray lines"
   ]
  },
  {
   "cell_type": "code",
   "execution_count": 21,
   "metadata": {
    "collapsed": false
   },
   "outputs": [
    {
     "name": "stdout",
     "output_type": "stream",
     "text": [
      "linetools.lists.parse: Reading linelist --- \n",
      "   /media/xavier/ExtraDrive1/Python/linetools/linetools/data/lines/morton03_table2.fits.gz\n",
      "linetools.lists.parse: Reading linelist --- \n",
      "   /media/xavier/ExtraDrive1/Python/linetools/linetools/data/lines/morton00_table2.fits.gz\n"
     ]
    },
    {
     "name": "stderr",
     "output_type": "stream",
     "text": [
      "WARNING: UnitsWarning: The unit 'Angstrom' has been deprecated in the FITS standard. Suggested: 10**-1 nm. [astropy.units.format.utils]\n"
     ]
    },
    {
     "name": "stdout",
     "output_type": "stream",
     "text": [
      "linetools.lists.parse: Reading linelist --- \n",
      "   /media/xavier/ExtraDrive1/Python/linetools/linetools/data/lines/verner96_tab1.fits.gz\n",
      "linetools.lists.parse: Reading linelist --- \n",
      "   /media/xavier/ExtraDrive1/Python/linetools/linetools/data/lines/verner94_tab6.fits\n"
     ]
    },
    {
     "name": "stderr",
     "output_type": "stream",
     "text": [
      "WARNING: UnitsWarning: '0.1nm' did not parse as fits unit: Numeric factor not supported by FITS [astropy.units.core]\n"
     ]
    },
    {
     "name": "stdout",
     "output_type": "stream",
     "text": [
      "linetools.lists.parse: Reading linelist --- \n",
      "   /media/xavier/ExtraDrive1/Python/linetools/linetools/data/lines/EUV_lines.ascii\n"
     ]
    },
    {
     "name": "stderr",
     "output_type": "stream",
     "text": [
      "/home/xavier/anaconda3/lib/python3.6/site-packages/astropy/table/column.py:1096: MaskedArrayFutureWarning: setting an item on a masked array which has a shared mask will not copy the mask and also change the original mask array in the future.\n",
      "Check the NumPy 1.11 release notes for more information.\n",
      "  ma.MaskedArray.__setitem__(self, index, value)\n"
     ]
    }
   ],
   "source": [
    "ism = LineList('ISM', use_ISM_table=False)"
   ]
  },
  {
   "cell_type": "code",
   "execution_count": 23,
   "metadata": {
    "collapsed": false
   },
   "outputs": [
    {
     "data": {
      "text/plain": [
       "9"
      ]
     },
     "execution_count": 23,
     "metadata": {},
     "output_type": "execute_result"
    }
   ],
   "source": [
    "ovii = (ism._fulltable['Z'] == 8) & (ism._fulltable['ion'] == 7)\n",
    "np.sum(ovii)"
   ]
  },
  {
   "cell_type": "code",
   "execution_count": 24,
   "metadata": {
    "collapsed": false
   },
   "outputs": [
    {
     "data": {
      "text/html": [
       "&lt;QTable masked=True length=9&gt;\n",
       "<table id=\"table140149712016216\" class=\"table-striped table-bordered table-condensed\">\n",
       "<thead><tr><th>A</th><th>el</th><th>nj</th><th>nk</th><th>group</th><th>name</th><th>Ek</th><th>f</th><th>wrest</th><th>Ref</th><th>mol</th><th>Ej</th><th>Am</th><th>ion</th><th>Ex</th><th>Jj</th><th>Jk</th><th>Z</th><th>gk</th><th>gj</th><th>gamma</th><th>col0</th><th>col7</th></tr></thead>\n",
       "<thead><tr><th>1 / s</th><th></th><th></th><th></th><th></th><th></th><th>1 / cm</th><th></th><th>Angstrom</th><th></th><th></th><th>1 / cm</th><th></th><th></th><th>1 / cm</th><th></th><th></th><th></th><th></th><th></th><th>1 / s</th><th></th><th></th></tr></thead>\n",
       "<thead><tr><th>float64</th><th>int64</th><th>int64</th><th>int64</th><th>int64</th><th>str80</th><th>float64</th><th>float64</th><th>float64</th><th>str200</th><th>str40</th><th>float64</th><th>int64</th><th>int64</th><th>float64</th><th>float64</th><th>float64</th><th>int64</th><th>int64</th><th>int64</th><th>float64</th><th>int64</th><th>int64</th></tr></thead>\n",
       "<tr><td>3320000000000.0</td><td>0</td><td>0</td><td>0</td><td>0</td><td>OVII 21</td><td>4629226.0</td><td>0.696</td><td>21.6019</td><td>Verner1996</td><td></td><td>0.0</td><td>0</td><td>7</td><td>0.0</td><td>0.0</td><td>0.0</td><td>8</td><td>3</td><td>1</td><td>3320000000000.0</td><td>--</td><td>--</td></tr>\n",
       "<tr><td>935000000000.0</td><td>0</td><td>0</td><td>0</td><td>0</td><td>OVII 18</td><td>5368028.0</td><td>0.146</td><td>18.6288</td><td>Verner1996</td><td></td><td>0.0</td><td>0</td><td>7</td><td>0.0</td><td>0.0</td><td>0.0</td><td>8</td><td>3</td><td>1</td><td>935000000000.0</td><td>--</td><td>--</td></tr>\n",
       "<tr><td>389000000000.0</td><td>0</td><td>0</td><td>0</td><td>0</td><td>OVII 17</td><td>5628095.0</td><td>0.0552</td><td>17.768</td><td>Verner1996</td><td></td><td>0.0</td><td>0</td><td>7</td><td>0.0</td><td>0.0</td><td>0.0</td><td>8</td><td>3</td><td>1</td><td>389000000000.0</td><td>--</td><td>--</td></tr>\n",
       "<tr><td>197000000000.0</td><td>0</td><td>0</td><td>0</td><td>0</td><td>OVII 17</td><td>5748448.0</td><td>0.0268</td><td>17.396</td><td>Verner1996</td><td></td><td>0.0</td><td>0</td><td>7</td><td>0.0</td><td>0.0</td><td>0.0</td><td>8</td><td>3</td><td>1</td><td>197000000000.0</td><td>--</td><td>--</td></tr>\n",
       "<tr><td>113000000000.0</td><td>0</td><td>0</td><td>0</td><td>0</td><td>OVII 17</td><td>5813953.0</td><td>0.0151</td><td>17.2</td><td>Verner1996</td><td></td><td>0.0</td><td>0</td><td>7</td><td>0.0</td><td>0.0</td><td>0.0</td><td>8</td><td>3</td><td>1</td><td>113000000000.0</td><td>--</td><td>--</td></tr>\n",
       "<tr><td>71400000000.0</td><td>0</td><td>0</td><td>0</td><td>0</td><td>OVII 17</td><td>5852745.0</td><td>0.00937</td><td>17.086</td><td>Verner1996</td><td></td><td>0.0</td><td>0</td><td>7</td><td>0.0</td><td>0.0</td><td>0.0</td><td>8</td><td>3</td><td>1</td><td>71400000000.0</td><td>--</td><td>--</td></tr>\n",
       "<tr><td>47800000000.0</td><td>0</td><td>0</td><td>0</td><td>0</td><td>OVII 17</td><td>5879164.0</td><td>0.00622</td><td>17.0092</td><td>Verner1996</td><td></td><td>0.0</td><td>0</td><td>7</td><td>0.0</td><td>0.0</td><td>0.0</td><td>8</td><td>3</td><td>1</td><td>47800000000.0</td><td>--</td><td>--</td></tr>\n",
       "<tr><td>33600000000.0</td><td>0</td><td>0</td><td>0</td><td>0</td><td>OVII 16</td><td>5896766.0</td><td>0.00434</td><td>16.9584</td><td>Verner1996</td><td></td><td>0.0</td><td>0</td><td>7</td><td>0.0</td><td>0.0</td><td>0.0</td><td>8</td><td>3</td><td>1</td><td>33600000000.0</td><td>--</td><td>--</td></tr>\n",
       "<tr><td>24400000000.0</td><td>0</td><td>0</td><td>0</td><td>0</td><td>OVII 16</td><td>5909359.0</td><td>0.00314</td><td>16.9223</td><td>Verner1996</td><td></td><td>0.0</td><td>0</td><td>7</td><td>0.0</td><td>0.0</td><td>0.0</td><td>8</td><td>3</td><td>1</td><td>24400000000.0</td><td>--</td><td>--</td></tr>\n",
       "</table>"
      ],
      "text/plain": [
       "<QTable masked=True length=9>\n",
       "       A          el    nj    nk  group ...   gj       gamma       col0  col7\n",
       "     1 / s                              ...            1 / s                 \n",
       "    float64     int64 int64 int64 int64 ... int64     float64     int64 int64\n",
       "--------------- ----- ----- ----- ----- ... ----- --------------- ----- -----\n",
       "3320000000000.0     0     0     0     0 ...     1 3320000000000.0    --    --\n",
       " 935000000000.0     0     0     0     0 ...     1  935000000000.0    --    --\n",
       " 389000000000.0     0     0     0     0 ...     1  389000000000.0    --    --\n",
       " 197000000000.0     0     0     0     0 ...     1  197000000000.0    --    --\n",
       " 113000000000.0     0     0     0     0 ...     1  113000000000.0    --    --\n",
       "  71400000000.0     0     0     0     0 ...     1   71400000000.0    --    --\n",
       "  47800000000.0     0     0     0     0 ...     1   47800000000.0    --    --\n",
       "  33600000000.0     0     0     0     0 ...     1   33600000000.0    --    --\n",
       "  24400000000.0     0     0     0     0 ...     1   24400000000.0    --    --"
      ]
     },
     "execution_count": 24,
     "metadata": {},
     "output_type": "execute_result"
    }
   ],
   "source": [
    "ism._fulltable[ovii]"
   ]
  },
  {
   "cell_type": "code",
   "execution_count": null,
   "metadata": {
    "collapsed": true
   },
   "outputs": [],
   "source": []
  }
 ],
 "metadata": {
  "kernelspec": {
   "display_name": "Python 3",
   "language": "python",
   "name": "python3"
  },
  "language_info": {
   "codemirror_mode": {
    "name": "ipython",
    "version": 3
   },
   "file_extension": ".py",
   "mimetype": "text/x-python",
   "name": "python",
   "nbconvert_exporter": "python",
   "pygments_lexer": "ipython3",
   "version": "3.6.0"
  }
 },
 "nbformat": 4,
 "nbformat_minor": 2
}
