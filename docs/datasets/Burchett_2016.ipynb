{
 "cells": [
  {
   "cell_type": "markdown",
   "metadata": {},
   "source": [
    "# Data from Burchett et al. 2016 (ApJ, 832, 124)"
   ]
  },
  {
   "cell_type": "code",
   "execution_count": 1,
   "metadata": {
    "collapsed": true
   },
   "outputs": [],
   "source": [
    "# imports\n",
    "from pkg_resources import resource_filename\n",
    "\n",
    "from astropy.table import Table\n",
    "\n",
    "from pyigm.cgm.cgmsurvey import CGMAbsSurvey"
   ]
  },
  {
   "cell_type": "markdown",
   "metadata": {},
   "source": [
    "## Load"
   ]
  },
  {
   "cell_type": "code",
   "execution_count": 11,
   "metadata": {
    "collapsed": true
   },
   "outputs": [],
   "source": [
    "b16_vir_file = resource_filename('pyigm', 'data/CGM/z0/Burchett2016_CIV_HI_virselect.fits')"
   ]
  },
  {
   "cell_type": "code",
   "execution_count": 12,
   "metadata": {},
   "outputs": [
    {
     "data": {
      "text/html": [
       "&lt;Table length=3&gt;\n",
       "<table id=\"table139638027292232\" class=\"table-striped table-bordered table-condensed\">\n",
       "<thead><tr><th>field</th><th>ra</th><th>dec</th><th>zgal</th><th>NSAidx</th><th>mstars</th><th>rrvir</th><th>rhokpc</th><th>col_c4</th><th>colsig_c4</th><th>EW_c4</th><th>EWsig_c4</th><th>flag_c4</th><th>flag_h1</th><th>EW_h1</th><th>EWsig_h1</th><th>col_h1</th><th>colsig_h1</th></tr></thead>\n",
       "<thead><tr><th>str10</th><th>float64</th><th>float64</th><th>float64</th><th>int64</th><th>float64</th><th>float64</th><th>float64</th><th>float64</th><th>float64</th><th>float64</th><th>float64</th><th>int64</th><th>int64</th><th>float64</th><th>float64</th><th>float64</th><th>float64</th></tr></thead>\n",
       "<tr><td>J0809+4619</td><td>122.787524394</td><td>46.468633855</td><td>0.00751854619011</td><td>120856</td><td>10.8100976944</td><td>0.649301290512</td><td>211.62828064</td><td>13.1480093002</td><td>-99.0</td><td>0.0583479627967</td><td>-99.0</td><td>3</td><td>1</td><td>0.111001105322</td><td>0.0216465849607</td><td>13.4755275554</td><td>0.061702456142</td></tr>\n",
       "<tr><td>J0809+4619</td><td>123.496047313</td><td>45.7442846399</td><td>0.00180124887265</td><td>120870</td><td>8.85513877869</td><td>0.988569498062</td><td>138.611984253</td><td>13.0261411667</td><td>-99.0</td><td>0.0382551550865</td><td>-99.0</td><td>3</td><td>0</td><td>0.0</td><td>0.0</td><td>0.0</td><td>0.0</td></tr>\n",
       "<tr><td>J0843+4117</td><td>131.066261948</td><td>41.7188011603</td><td>0.00598414894193</td><td>121356</td><td>8.06238174438</td><td>1.8094625473</td><td>193.648269653</td><td>13.2731494904</td><td>-99.0</td><td>0.077730961144</td><td>-99.0</td><td>3</td><td>1</td><td>0.171908</td><td>0.04826</td><td>13.669</td><td>0.128</td></tr>\n",
       "</table>"
      ],
      "text/plain": [
       "<Table length=3>\n",
       "  field          ra           dec      ...     col_h1      colsig_h1   \n",
       "  str10       float64       float64    ...    float64       float64    \n",
       "---------- ------------- ------------- ... ------------- --------------\n",
       "J0809+4619 122.787524394  46.468633855 ... 13.4755275554 0.061702456142\n",
       "J0809+4619 123.496047313 45.7442846399 ...           0.0            0.0\n",
       "J0843+4117 131.066261948 41.7188011603 ...        13.669          0.128"
      ]
     },
     "execution_count": 12,
     "metadata": {},
     "output_type": "execute_result"
    }
   ],
   "source": [
    "b16_vir = Table.read(b16_vir_file)\n",
    "b16_vir[0:3]"
   ]
  },
  {
   "cell_type": "code",
   "execution_count": 4,
   "metadata": {},
   "outputs": [
    {
     "data": {
      "text/plain": [
       "array([  6.17024561e-02,   1.28000000e-01,   9.90000000e+01,\n",
       "         9.90000000e+01,   9.51553675e-02,  -9.90000000e+01,\n",
       "         9.90000000e+01,  -9.90000000e+01,   8.89397365e-02,\n",
       "         9.90000000e+01,  -9.90000000e+01,   9.90000000e+01,\n",
       "         9.90000000e+01,  -9.90000000e+01,   9.90000000e+01,\n",
       "         9.90000000e+01,   9.90000000e+01,   9.90000000e+01,\n",
       "        -9.90000000e+01,  -9.90000000e+01,   9.90000000e+01,\n",
       "         9.90000000e+01,  -9.90000000e+01,   7.74471846e-02,\n",
       "         9.90000000e+01,   9.90000000e+01,   9.90000000e+01,\n",
       "        -9.90000000e+01,  -9.90000000e+01,   5.00000000e-02,\n",
       "         9.90000000e+01,   9.90000000e+01,   9.90000000e+01,\n",
       "         1.27000000e-01,   9.90000000e+01,  -9.90000000e+01,\n",
       "         9.90000000e+01,  -9.90000000e+01,   1.07748241e-01,\n",
       "         9.90000000e+01,   9.90000000e+01,   9.90000000e+01])"
      ]
     },
     "execution_count": 4,
     "metadata": {},
     "output_type": "execute_result"
    }
   ],
   "source": [
    "b16_vir['h1colsig'].data"
   ]
  },
  {
   "cell_type": "markdown",
   "metadata": {},
   "source": [
    "## Load survey"
   ]
  },
  {
   "cell_type": "code",
   "execution_count": 5,
   "metadata": {},
   "outputs": [
    {
     "name": "stdout",
     "output_type": "stream",
     "text": [
      "read_sets: Using set file -- \n",
      "  /home/xavier/local/Python/linetools/linetools/lists/sets/llist_v1.2.ascii\n"
     ]
    },
    {
     "name": "stderr",
     "output_type": "stream",
     "text": [
      "/home/xavier/local/Python/linetools/linetools/lists/linelist.py:402: RuntimeWarning: divide by zero encountered in log10\n",
      "  self._extra_table['log(w*f)'] = np.log10(qm_strength)\n",
      "/home/xavier/local/Python/linetools/linetools/spectralline.py:214: UserWarning: Redshift not input.  Setting to 0 for zLimits\n",
      "  warnings.warn(\"Redshift not input.  Setting to 0 for zLimits\")\n"
     ]
    },
    {
     "name": "stdout",
     "output_type": "stream",
     "text": [
      "Loading abundances from Asplund2009\n",
      "Abundances are relative by number on a logarithmic scale with H=12\n",
      "Skipping a likely folder: CGM_JSON\n"
     ]
    }
   ],
   "source": [
    "b16 = CGMAbsSurvey.load_B16()"
   ]
  },
  {
   "cell_type": "code",
   "execution_count": 6,
   "metadata": {},
   "outputs": [
    {
     "data": {
      "text/plain": [
       "<CGM_Survey:  nsys=42, ref=>\n",
       "<IGMSystem: IGMSystem 02:42:50.8573 -07:59:14.2861, zabs=0.00503683, Z/H=0, NHI=14.4171>\n",
       "<IGMSystem: IGMSystem 09:43:31.6167 05:31:31.4573, zabs=0.00655788, Z/H=0, NHI=13.1279>\n",
       "<IGMSystem: IGMSystem 12:33:04.0527 -00:31:34.1821, zabs=0.00376261, Z/H=0, NHI=14.1818>\n",
       "<IGMSystem: IGMSystem 10:16:22.6037 47:06:43.3271, zabs=0.0022264, Z/H=0, NHI=14.592>\n",
       "<IGMSystem: IGMSystem 12:36:04.0328 26:41:35.8741, zabs=0.00410284, Z/H=0, NHI=14.332>\n",
       "<IGMSystem: IGMSystem 11:17:54.3129 26:34:16.6674, zabs=0.00938348, Z/H=0, NHI=12.6929>\n",
       "<IGMSystem: IGMSystem 02:26:14.4687 00:15:29.7675, zabs=0.00446977, Z/H=0, NHI=13.325>\n",
       "<IGMSystem: IGMSystem 11:51:20.4609 54:37:33.0682, zabs=0.00316532, Z/H=0, NHI=14.1671>\n",
       "<IGMSystem: IGMSystem 14:37:26.1406 50:45:55.8416, zabs=0.00734989, Z/H=0, NHI=13.3719>\n",
       "<IGMSystem: IGMSystem 12:33:35.0784 47:58:00.4739, zabs=0.00254176, Z/H=0, NHI=13.849>\n",
       "<IGMSystem: IGMSystem 09:50:00.7398 48:31:29.3696, zabs=0.00621528, Z/H=0, NHI=13.805>\n",
       "<IGMSystem: IGMSystem 13:57:12.6251 17:04:44.0418, zabs=0.00317848, Z/H=0, NHI=12.0356>\n",
       "<IGMSystem: IGMSystem 13:42:31.2244 38:29:03.4804, zabs=0.00221159, Z/H=0, NHI=13.8533>\n",
       "<IGMSystem: IGMSystem 13:27:04.1281 44:35:04.9189, zabs=0.0015444, Z/H=0, NHI=11.6613>\n",
       "<IGMSystem: IGMSystem 11:21:14.2095 03:25:46.9077, zabs=0.00495343, Z/H=0, NHI=13.6668>\n",
       "<IGMSystem: IGMSystem 10:59:45.2412 14:41:43.066, zabs=0.0023016, Z/H=0, NHI=14.1486>\n",
       "<IGMSystem: IGMSystem 09:59:15.6495 05:03:55.0621, zabs=0.0133866, Z/H=0, NHI=13.743>\n",
       "<IGMSystem: IGMSystem 02:12:18.3373 -07:37:19.9232, zabs=0.0128656, Z/H=0, NHI=12.6254>\n",
       "<IGMSystem: IGMSystem 11:21:14.2095 03:25:46.9077, zabs=0.00866204, Z/H=0, NHI=13.3351>\n",
       "<IGMSystem: IGMSystem 12:45:11.2614 33:56:10.135, zabs=0.00189594, Z/H=0, NHI=14.185>\n",
       "<IGMSystem: IGMSystem 23:45:00.4335 -00:59:36.0496, zabs=0.00693147, Z/H=0, NHI=14.21>\n",
       "<IGMSystem: IGMSystem 13:42:31.2244 38:29:03.4804, zabs=0.00458666, Z/H=0, NHI=13.8533>\n",
       "<IGMSystem: IGMSystem 12:07:21.0009 26:24:29.1515, zabs=0.00722756, Z/H=0, NHI=13.3815>\n",
       "<IGMSystem: IGMSystem 09:28:37.9827 60:25:20.9806, zabs=0.0135472, Z/H=0, NHI=14.1887>\n",
       "<IGMSystem: IGMSystem 15:21:39.6734 03:37:29.2895, zabs=0.00493676, Z/H=0, NHI=12.9576>\n",
       "<IGMSystem: IGMSystem 22:57:38.205 13:40:45.4941, zabs=0.00856594, Z/H=0, NHI=13.9797>\n",
       "<IGMSystem: IGMSystem 13:42:51.6087 -00:53:45.3116, zabs=0.0053804, Z/H=0, NHI=12.6628>\n",
       "<IGMSystem: IGMSystem 09:25:54.7066 40:04:14.1045, zabs=0.00544711, Z/H=0, NHI=14.1348>\n",
       "<IGMSystem: IGMSystem 09:49:52.9209 39:02:03.8216, zabs=0.00528493, Z/H=0, NHI=14.1784>\n",
       "<IGMSystem: IGMSystem 08:20:24.2198 23:34:50.4625, zabs=0.0138696, Z/H=0, NHI=13.853>\n",
       "<IGMSystem: IGMSystem 11:22:44.8796 57:55:42.9478, zabs=0.00518026, Z/H=0, NHI=14.0306>\n",
       "<IGMSystem: IGMSystem 12:11:14.5685 36:57:39.5919, zabs=0.00350576, Z/H=0, NHI=14.152>\n",
       "<IGMSystem: IGMSystem 08:09:08.1373 46:19:25.6583, zabs=0.00751855, Z/H=0, NHI=13.4755>\n",
       "<IGMSystem: IGMSystem 09:10:29.759 10:14:13.5759, zabs=0.00705489, Z/H=0, NHI=13.8059>\n",
       "<IGMSystem: IGMSystem 12:33:04.0527 -00:31:34.1821, zabs=0.0109376, Z/H=0, NHI=13.129>\n",
       "<IGMSystem: IGMSystem 00:42:22.2925 -10:37:43.7827, zabs=0.0131189, Z/H=0, NHI=12.7425>\n",
       "<IGMSystem: IGMSystem 01:55:30.0253 -08:57:03.9616, zabs=0.00546712, Z/H=0, NHI=14.347>\n",
       "<IGMSystem: IGMSystem 11:17:54.3129 26:34:16.6674, zabs=0.00504788, Z/H=0, NHI=13.2528>\n",
       "<IGMSystem: IGMSystem 12:10:37.5607 31:57:06.1118, zabs=0.00253757, Z/H=0, NHI=13.959>\n",
       "<IGMSystem: IGMSystem 14:35:11.5325 36:04:37.2414, zabs=0.0101101, Z/H=0, NHI=14.0628>\n",
       "<IGMSystem: IGMSystem 13:41:00.7834 41:23:14.0787, zabs=0.00850258, Z/H=0, NHI=14.27>\n",
       "<IGMSystem: IGMSystem 08:43:49.4892 41:17:41.619, zabs=0.00598415, Z/H=0, NHI=13.669>"
      ]
     },
     "execution_count": 6,
     "metadata": {},
     "output_type": "execute_result"
    }
   ],
   "source": [
    "b16"
   ]
  },
  {
   "cell_type": "markdown",
   "metadata": {},
   "source": [
    "### Ly$\\alpha$"
   ]
  },
  {
   "cell_type": "code",
   "execution_count": 7,
   "metadata": {
    "collapsed": true
   },
   "outputs": [],
   "source": [
    "Lya_tbl = b16.ion_tbl((1,1))"
   ]
  },
  {
   "cell_type": "code",
   "execution_count": 8,
   "metadata": {},
   "outputs": [
    {
     "data": {
      "text/html": [
       "&lt;Table length=42&gt;\n",
       "<table id=\"table139638017006616\" class=\"table-striped table-bordered table-condensed\">\n",
       "<thead><tr><th>name</th><th>Z</th><th>ion</th><th>A</th><th>Ej</th><th>z</th><th>vmin</th><th>vmax</th><th>flag_N</th><th>logN</th><th>sig_logN</th><th>cgm_name</th><th>rho_impact</th></tr></thead>\n",
       "<thead><tr><th></th><th></th><th></th><th></th><th>1 / cm</th><th></th><th>km / s</th><th>km / s</th><th></th><th></th><th></th><th></th><th>kpc</th></tr></thead>\n",
       "<thead><tr><th>str32</th><th>int64</th><th>int64</th><th>int64</th><th>float64</th><th>float64</th><th>float64</th><th>float64</th><th>int64</th><th>float64</th><th>float64</th><th>str21</th><th>float64</th></tr></thead>\n",
       "<tr><td>J024250.856-075914.28_z0.005</td><td>1</td><td>1</td><td>0</td><td>0.0</td><td>0.00503682531416</td><td>-400.0</td><td>400.0</td><td>2</td><td>14.4170674465</td><td>99.0</td><td>J0242-0759_37_391245</td><td>53803.2107475</td></tr>\n",
       "<tr><td>J094331.6152+053131.476_z0.007</td><td>1</td><td>1</td><td>0</td><td>0.0</td><td>0.00655787996948</td><td>-400.0</td><td>400.0</td><td>3</td><td>13.1278847597</td><td>-99.0</td><td>J0943+0531_53_372504</td><td>64442.6399544</td></tr>\n",
       "<tr><td>J123304.0512-003134.176_z0.004</td><td>1</td><td>1</td><td>0</td><td>0.0</td><td>0.00376260862686</td><td>-400.0</td><td>400.0</td><td>2</td><td>14.1818198593</td><td>99.0</td><td>J1233-0031_92_121104</td><td>11507.2405106</td></tr>\n",
       "<tr><td>J101622.6032+470643.344_z0.002</td><td>1</td><td>1</td><td>0</td><td>0.0</td><td>0.00222639506683</td><td>-400.0</td><td>400.0</td><td>2</td><td>14.592</td><td>99.0</td><td>J1016+4706_303_367432</td><td>19596.3069924</td></tr>\n",
       "<tr><td>J123604.032+264135.88_z0.004</td><td>1</td><td>1</td><td>0</td><td>0.0</td><td>0.00410284474492</td><td>-400.0</td><td>400.0</td><td>2</td><td>14.3319639498</td><td>99.0</td><td>J1236+2641_47_517281</td><td>49273.855592</td></tr>\n",
       "<tr><td>J111754.312+263416.68_z0.009</td><td>1</td><td>1</td><td>0</td><td>0.0</td><td>0.0093834772706</td><td>-400.0</td><td>400.0</td><td>3</td><td>12.6928908159</td><td>-99.0</td><td>J1117+2634_243_160911</td><td>35154.1799262</td></tr>\n",
       "<tr><td>J022614.4672+001529.772_z0.004</td><td>1</td><td>1</td><td>0</td><td>0.0</td><td>0.00446976581588</td><td>-400.0</td><td>400.0</td><td>1</td><td>13.3250004217</td><td>0.0774471846384</td><td>J0226+0015_269_298681</td><td>33032.0150215</td></tr>\n",
       "<tr><td>J115120.4612+543733.078_z0.003</td><td>1</td><td>1</td><td>0</td><td>0.0</td><td>0.00316531653516</td><td>-400.0</td><td>400.0</td><td>2</td><td>14.1670521675</td><td>99.0</td><td>J1151+5437_330_384620</td><td>27699.3894454</td></tr>\n",
       "<tr><td>J143726.1408+504555.836_z0.007</td><td>1</td><td>1</td><td>0</td><td>0.0</td><td>0.00734989158809</td><td>-400.0</td><td>400.0</td><td>3</td><td>13.3719168021</td><td>-99.0</td><td>J1437+5045_310_186598</td><td>33645.2976066</td></tr>\n",
       "<tr><td>...</td><td>...</td><td>...</td><td>...</td><td>...</td><td>...</td><td>...</td><td>...</td><td>...</td><td>...</td><td>...</td><td>...</td><td>...</td></tr>\n",
       "<tr><td>J080908.136+461925.68_z0.008</td><td>1</td><td>1</td><td>0</td><td>0.0</td><td>0.00751854619011</td><td>-400.0</td><td>400.0</td><td>1</td><td>13.4755275554</td><td>0.061702456142</td><td>J0809+4619_57_144844</td><td>28126.9460472</td></tr>\n",
       "<tr><td>J091029.7576+101413.596_z0.007</td><td>1</td><td>1</td><td>0</td><td>0.0</td><td>0.00705489143729</td><td>-400.0</td><td>400.0</td><td>2</td><td>13.8059456335</td><td>99.0</td><td>J0910+1014_30_238721</td><td>43988.8434539</td></tr>\n",
       "<tr><td>J123304.0512-003134.176_z0.011</td><td>1</td><td>1</td><td>0</td><td>0.0</td><td>0.0109375836328</td><td>-400.0</td><td>400.0</td><td>1</td><td>13.129</td><td>0.127</td><td>J1233-0031_241_575043</td><td>130279.137591</td></tr>\n",
       "<tr><td>J004222.2912-103743.788_z0.013</td><td>1</td><td>1</td><td>0</td><td>0.0</td><td>0.0131189003587</td><td>-400.0</td><td>400.0</td><td>3</td><td>12.7425322296</td><td>-99.0</td><td>J0042-1037_250_539381</td><td>168854.704481</td></tr>\n",
       "<tr><td>J015530.024-085703.96_z0.005</td><td>1</td><td>1</td><td>0</td><td>0.0</td><td>0.00546712381765</td><td>-400.0</td><td>400.0</td><td>2</td><td>14.3469893234</td><td>99.0</td><td>J0155-0857_295_179193</td><td>22273.6113493</td></tr>\n",
       "<tr><td>J111754.312+263416.68_z0.005</td><td>1</td><td>1</td><td>0</td><td>0.0</td><td>0.00504788337275</td><td>-400.0</td><td>400.0</td><td>1</td><td>13.2527724494</td><td>0.0951553675256</td><td>J1117+2634_297_147899</td><td>19191.6330685</td></tr>\n",
       "<tr><td>J121037.56+315706.12_z0.003</td><td>1</td><td>1</td><td>0</td><td>0.0</td><td>0.00253756972961</td><td>-400.0</td><td>400.0</td><td>2</td><td>13.959</td><td>99.0</td><td>J1210+3157_10_568127</td><td>33449.9857058</td></tr>\n",
       "<tr><td>J143511.532+360437.236_z0.010</td><td>1</td><td>1</td><td>0</td><td>0.0</td><td>0.0101100616157</td><td>-400.0</td><td>400.0</td><td>2</td><td>14.0628487312</td><td>99.0</td><td>J1435+3604_233_174443</td><td>41998.4161152</td></tr>\n",
       "<tr><td>J134100.7831+412314.0784_z0.009</td><td>1</td><td>1</td><td>0</td><td>0.0</td><td>0.00850258208811</td><td>-400.0</td><td>400.0</td><td>2</td><td>14.27</td><td>99.0</td><td>J1341+4123_297_222755</td><td>44835.5659993</td></tr>\n",
       "<tr><td>J084349.488+411741.64_z0.006</td><td>1</td><td>1</td><td>0</td><td>0.0</td><td>0.00598414894193</td><td>-400.0</td><td>400.0</td><td>1</td><td>13.669</td><td>0.128</td><td>J0843+4117_54_162253</td><td>26552.9848513</td></tr>\n",
       "</table>"
      ],
      "text/plain": [
       "<Table length=42>\n",
       "              name                Z   ...        cgm_name         rho_impact \n",
       "                                      ...                            kpc     \n",
       "             str32              int64 ...         str21            float64   \n",
       "------------------------------- ----- ... --------------------- -------------\n",
       "   J024250.856-075914.28_z0.005     1 ...  J0242-0759_37_391245 53803.2107475\n",
       " J094331.6152+053131.476_z0.007     1 ...  J0943+0531_53_372504 64442.6399544\n",
       " J123304.0512-003134.176_z0.004     1 ...  J1233-0031_92_121104 11507.2405106\n",
       " J101622.6032+470643.344_z0.002     1 ... J1016+4706_303_367432 19596.3069924\n",
       "   J123604.032+264135.88_z0.004     1 ...  J1236+2641_47_517281  49273.855592\n",
       "   J111754.312+263416.68_z0.009     1 ... J1117+2634_243_160911 35154.1799262\n",
       " J022614.4672+001529.772_z0.004     1 ... J0226+0015_269_298681 33032.0150215\n",
       " J115120.4612+543733.078_z0.003     1 ... J1151+5437_330_384620 27699.3894454\n",
       " J143726.1408+504555.836_z0.007     1 ... J1437+5045_310_186598 33645.2976066\n",
       "                            ...   ... ...                   ...           ...\n",
       "   J080908.136+461925.68_z0.008     1 ...  J0809+4619_57_144844 28126.9460472\n",
       " J091029.7576+101413.596_z0.007     1 ...  J0910+1014_30_238721 43988.8434539\n",
       " J123304.0512-003134.176_z0.011     1 ... J1233-0031_241_575043 130279.137591\n",
       " J004222.2912-103743.788_z0.013     1 ... J0042-1037_250_539381 168854.704481\n",
       "   J015530.024-085703.96_z0.005     1 ... J0155-0857_295_179193 22273.6113493\n",
       "   J111754.312+263416.68_z0.005     1 ... J1117+2634_297_147899 19191.6330685\n",
       "    J121037.56+315706.12_z0.003     1 ...  J1210+3157_10_568127 33449.9857058\n",
       "  J143511.532+360437.236_z0.010     1 ... J1435+3604_233_174443 41998.4161152\n",
       "J134100.7831+412314.0784_z0.009     1 ... J1341+4123_297_222755 44835.5659993\n",
       "   J084349.488+411741.64_z0.006     1 ...  J0843+4117_54_162253 26552.9848513"
      ]
     },
     "execution_count": 8,
     "metadata": {},
     "output_type": "execute_result"
    }
   ],
   "source": [
    "Lya_tbl"
   ]
  },
  {
   "cell_type": "code",
   "execution_count": null,
   "metadata": {
    "collapsed": true
   },
   "outputs": [],
   "source": []
  }
 ],
 "metadata": {
  "kernelspec": {
   "display_name": "Python 3",
   "language": "python",
   "name": "python3"
  },
  "language_info": {
   "codemirror_mode": {
    "name": "ipython",
    "version": 3
   },
   "file_extension": ".py",
   "mimetype": "text/x-python",
   "name": "python",
   "nbconvert_exporter": "python",
   "pygments_lexer": "ipython3",
   "version": "3.6.1"
  }
 },
 "nbformat": 4,
 "nbformat_minor": 2
}
