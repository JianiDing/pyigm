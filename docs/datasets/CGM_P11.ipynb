{
 "cells": [
  {
   "cell_type": "markdown",
   "metadata": {},
   "source": [
    "# Ingesting Prochaska+11 CGM dataset [v1.0]"
   ]
  },
  {
   "cell_type": "code",
   "execution_count": 2,
   "metadata": {
    "collapsed": true
   },
   "outputs": [],
   "source": [
    "# imports\n",
    "from astropy.table import Table\n",
    "from astropy.coordinates import SkyCoord\n",
    "\n",
    "import pyigm\n",
    "from pyigm.cgm.cgmsurvey import CGMAbsSurvey"
   ]
  },
  {
   "cell_type": "markdown",
   "metadata": {},
   "source": [
    "## Summary"
   ]
  },
  {
   "cell_type": "code",
   "execution_count": 2,
   "metadata": {
    "collapsed": true
   },
   "outputs": [],
   "source": [
    "ovi_file = pyigm.__path__[0]+'/data/CGM/P11/lowovidat.fits'"
   ]
  },
  {
   "cell_type": "code",
   "execution_count": 3,
   "metadata": {
    "collapsed": true
   },
   "outputs": [],
   "source": [
    "ovidat = Table.read(ovi_file)"
   ]
  },
  {
   "cell_type": "code",
   "execution_count": 4,
   "metadata": {
    "collapsed": false
   },
   "outputs": [
    {
     "data": {
      "text/html": [
       "&lt;Table length=3&gt;\n",
       "<table id=\"table4599547088\">\n",
       "<thead><tr><th>QSO</th><th>QSO_RA</th><th>QSO_DEC</th><th>QSO_ZEM</th><th>QSO_VMAG</th><th>QSO_UV</th><th>FLG_GAL</th><th>GAL_FIL</th><th>R_LIMIT</th><th>N_GAL [4]</th><th>COMPLETE [2,4]</th><th>FLG_FUSE</th><th>FUSE_EXP</th><th>FUSE_SNR</th><th>FLG_STIS</th><th>STIS_COMM [4]</th><th>FLG_GHRS</th><th>GHRS_COMM [4]</th></tr></thead>\n",
       "<thead><tr><th>str15</th><th>str15</th><th>str15</th><th>float32</th><th>float32</th><th>float32</th><th>int16</th><th>str58</th><th>float32</th><th>int32</th><th>int32</th><th>int16</th><th>float32</th><th>float32</th><th>int16</th><th>str60</th><th>int16</th><th>str60</th></tr></thead>\n",
       "<tr><td>Q0026+1259</td><td>00:29:13.8</td><td>+13:16:04</td><td>0.142</td><td>14.78</td><td>20.0</td><td>1</td><td>/u/xavier/LCO/OVI/FUSE/data/Q0026+1259/Q0026+1259_gal.fits</td><td>20.0</td><td>131 .. 47</td><td>22 .. 85</td><td>1</td><td>20000.0</td><td>7.0</td><td>0</td><td>..</td><td>1</td><td>G270M 5222s                                                  ..</td></tr>\n",
       "<tr><td>TONS180</td><td>00:57:20.0</td><td>-22:22:56</td><td>0.06198</td><td>16.6</td><td>30.0</td><td>1</td><td>/u/xavier/LCO/OVI/FUSE/data/TONS180/TONS180_gal.fits</td><td>19.7</td><td>110 .. 4</td><td>15 .. 92</td><td>1</td><td>132453.0</td><td>15.0</td><td>2</td><td>G140M 7000s 15.                                              ..</td><td>0</td><td>..</td></tr>\n",
       "<tr><td>TONS210</td><td>01:21:51.5</td><td>-28:20:57</td><td>0.116</td><td>14.7</td><td>70.0</td><td>1</td><td>/u/xavier/LCO/OVI/FUSE/data/TONS210/TONS210_gal.fits</td><td>20.0</td><td>71 .. 5</td><td>6 .. 87</td><td>1</td><td>56500.0</td><td>20.0</td><td>2</td><td>E140M 22000s                                                 ..</td><td>0</td><td>..</td></tr>\n",
       "</table>"
      ],
      "text/plain": [
       "<Table length=3>\n",
       "      QSO       ...\n",
       "     str15      ...\n",
       "--------------- ...\n",
       "Q0026+1259      ...\n",
       "TONS180         ...\n",
       "TONS210         ..."
      ]
     },
     "execution_count": 4,
     "metadata": {},
     "output_type": "execute_result"
    }
   ],
   "source": [
    "ovidat[0:3]"
   ]
  },
  {
   "cell_type": "code",
   "execution_count": 5,
   "metadata": {
    "collapsed": true
   },
   "outputs": [],
   "source": [
    "qso_radec = SkyCoord(ra=ovidat['QSO_RA'], dec=ovidat['QSO_DEC'], unit=(u.hourangle, u.deg))"
   ]
  },
  {
   "cell_type": "markdown",
   "metadata": {},
   "source": [
    "## Dwarfs"
   ]
  },
  {
   "cell_type": "code",
   "execution_count": 6,
   "metadata": {
    "collapsed": true
   },
   "outputs": [],
   "source": [
    "cgm_dwarf_file = pyigm.__path__[0]+'/data/CGM/P11/dwarf_galabs_strct.fits'"
   ]
  },
  {
   "cell_type": "code",
   "execution_count": 7,
   "metadata": {
    "collapsed": true
   },
   "outputs": [],
   "source": [
    "cgm_dwarfs = Table.read(cgm_dwarf_file)"
   ]
  },
  {
   "cell_type": "code",
   "execution_count": 8,
   "metadata": {
    "collapsed": false
   },
   "outputs": [
    {
     "data": {
      "text/html": [
       "&lt;Table length=3&gt;\n",
       "<table id=\"table4599717648\">\n",
       "<thead><tr><th>FIELD</th><th>ID</th><th>OBJ_ID</th><th>FLG_ANLY</th><th>FLG_SURVEY</th><th>OBJ_TYPE</th><th>MAG [10]</th><th>MAGERR [10]</th><th>FILTER [10]</th><th>IMG_FIL [10]</th><th>XYPIX [2]</th><th>RA</th><th>DEC</th><th>AREA</th><th>STARGAL</th><th>GAL_TYPE</th><th>GAL_COEFF [10]</th><th>Z</th><th>VCIRC</th><th>FSPEC_FIL [10]</th><th>DRA</th><th>DDEC</th></tr></thead>\n",
       "<thead><tr><th>str11</th><th>int32</th><th>str1</th><th>int16</th><th>int16</th><th>int16</th><th>float32</th><th>float32</th><th>str1</th><th>str27</th><th>float32</th><th>float64</th><th>float64</th><th>float32</th><th>float32</th><th>str5</th><th>float32</th><th>float64</th><th>float32</th><th>str29</th><th>float64</th><th>float64</th></tr></thead>\n",
       "<tr><td>Q0026+1259</td><td>1303</td><td>a</td><td>7</td><td>1</td><td>0</td><td>19.733 .. 0.0</td><td>0.125 .. 9.99</td><td>B ..</td><td>Images/Q0026+1259XB.fits    ..</td><td>1014.76 .. 1034.29</td><td>7.28886499155</td><td>13.2746021629</td><td>10.43</td><td>0.18</td><td>Late</td><td>0.331349 .. 0.0</td><td>0.0329451337457</td><td>0.0</td><td>..</td><td>45.6990947951</td><td>0.0191390593786</td></tr>\n",
       "<tr><td>TONS180</td><td>2295</td><td>a</td><td>7</td><td>1</td><td>0</td><td>18.923 .. 1.0</td><td>0.088 .. 0.05</td><td>B ..</td><td>Images/TONS180XB.fits       ..</td><td>1318.89 .. 607.18</td><td>14.2667432785</td><td>-22.44755991</td><td>10.92</td><td>0.19</td><td>Late</td><td>-0.0115093 .. 0.0</td><td>0.0233643911779</td><td>0.0</td><td>..</td><td>154.07390626</td><td>0.0207054292147</td></tr>\n",
       "<tr><td>PKS0405-123</td><td>90033</td><td>a</td><td>7</td><td>1</td><td>0</td><td>0.0 .. 0.44</td><td>0.0 .. 0.06</td><td>..</td><td>..</td><td>61.9512 .. -12.1839</td><td>61.9512481689</td><td>-12.1838884354</td><td>0.0</td><td>0.0</td><td>Late</td><td>0.0 .. 0.0</td><td>0.167</td><td>1.0</td><td>..</td><td>97.7760719383</td><td>0.0877822129587</td></tr>\n",
       "</table>"
      ],
      "text/plain": [
       "<Table length=3>\n",
       "   FIELD      ID  OBJ_ID ...      DRA            DDEC     \n",
       "   str11    int32  str1  ...    float64        float64    \n",
       "----------- ----- ------ ... ------------- ---------------\n",
       "Q0026+1259   1303      a ... 45.6990947951 0.0191390593786\n",
       "TONS180      2295      a ...  154.07390626 0.0207054292147\n",
       "PKS0405-123 90033      a ... 97.7760719383 0.0877822129587"
      ]
     },
     "execution_count": 8,
     "metadata": {},
     "output_type": "execute_result"
    }
   ],
   "source": [
    "cgm_dwarfs[0:3]"
   ]
  },
  {
   "cell_type": "markdown",
   "metadata": {},
   "source": [
    "### Funny columns -- Renaming"
   ]
  },
  {
   "cell_type": "code",
   "execution_count": 9,
   "metadata": {
    "collapsed": false
   },
   "outputs": [],
   "source": [
    "cgm_dwarfs.rename_column('DRA', 'rho(kpc)')\n",
    "cgm_dwarfs.rename_column('DDEC', 'L(L*)')"
   ]
  },
  {
   "cell_type": "markdown",
   "metadata": {},
   "source": [
    "#### MAG has HI\n",
    "    2 == Ref\n",
    "    3 == z\n",
    "    4 == Lya EW\n",
    "    5 == sigEW Lya\n",
    "    8 == NHI\n",
    "    9 == sigNHI"
   ]
  },
  {
   "cell_type": "code",
   "execution_count": 10,
   "metadata": {
    "collapsed": false
   },
   "outputs": [
    {
     "data": {
      "text/plain": [
       "array([  1.89230003e+01,   1.80701466e+01,   5.00000000e+00,\n",
       "         2.34109219e-02,   2.22000000e+02,   2.90000000e+01,\n",
       "         5.60000000e+01,   4.00000000e+00,   1.38000002e+01,\n",
       "         1.00000000e+00], dtype=float32)"
      ]
     },
     "execution_count": 10,
     "metadata": {},
     "output_type": "execute_result"
    }
   ],
   "source": [
    "cgm_dwarfs[1]['MAG']"
   ]
  },
  {
   "cell_type": "markdown",
   "metadata": {},
   "source": [
    "#### MAGERR has OVI\n",
    "    2 == Ref\n",
    "    3 == z\n",
    "    4 == EW 1031\n",
    "    5 == sigEW 1031\n",
    "    8 == NOVI    \n",
    "    9 == sigNOVI"
   ]
  },
  {
   "cell_type": "code",
   "execution_count": 11,
   "metadata": {
    "collapsed": false
   },
   "outputs": [
    {
     "data": {
      "text/plain": [
       "array([  8.79999995e-02,   6.49999976e-02,   4.00000000e+00,\n",
       "         2.33999994e-02,   4.30000000e+01,   1.50000000e+01,\n",
       "         3.00000000e+01,   0.00000000e+00,   1.34799995e+01,\n",
       "         5.00000007e-02], dtype=float32)"
      ]
     },
     "execution_count": 11,
     "metadata": {},
     "output_type": "execute_result"
    }
   ],
   "source": [
    "cgm_dwarfs[1]['MAGERR']"
   ]
  },
  {
   "cell_type": "markdown",
   "metadata": {},
   "source": [
    "#### Refs"
   ]
  },
  {
   "cell_type": "code",
   "execution_count": 12,
   "metadata": {
    "collapsed": true
   },
   "outputs": [],
   "source": [
    "refdict = {1: 'tripp08', 2: 'tc08a', 3: 'ds08', 4: 'dsr+06', 5: 'pss04', 6: 'cm09', 9: 'p+11'}"
   ]
  },
  {
   "cell_type": "markdown",
   "metadata": {},
   "source": [
    "## Ingest\n",
    "    python ingest_lit.py"
   ]
  },
  {
   "cell_type": "markdown",
   "metadata": {},
   "source": [
    "## Read"
   ]
  },
  {
   "cell_type": "code",
   "execution_count": 3,
   "metadata": {
    "collapsed": false
   },
   "outputs": [],
   "source": [
    "p11_tarfile = pyigm.__path__[0]+'/data/CGM/P11/P11_sys.tar'"
   ]
  },
  {
   "cell_type": "code",
   "execution_count": 4,
   "metadata": {
    "collapsed": false
   },
   "outputs": [
    {
     "name": "stderr",
     "output_type": "stream",
     "text": [
      "WARNING: UnitsWarning: The unit 'Angstrom' has been deprecated in the FITS standard. Suggested: 10**-1 nm. [astropy.units.format.utils]\n",
      "/Users/xavier/local/Python/linetools/linetools/lists/linelist.py:374: RuntimeWarning: divide by zero encountered in log10\n",
      "  self._data['log(w*f)'] = np.log10(qm_strength)\n",
      "/Users/xavier/anaconda/lib/python2.7/site-packages/numpy/ma/core.py:824: RuntimeWarning: invalid value encountered in less_equal\n",
      "  return umath.less_equal(x, self.critical_value)\n"
     ]
    },
    {
     "name": "stdout",
     "output_type": "stream",
     "text": [
      "Loading abundances from Asplund2009\n",
      "Abundances are relative by number on a logarithmic scale with H=12\n",
      "Skipping a likely folder: CGM_JSON\n"
     ]
    },
    {
     "name": "stderr",
     "output_type": "stream",
     "text": [
      "/Users/xavier/local/Python/linetools/linetools/isgm/abssystem.py:288: UserWarning: Input AbsComponent with Zion=(8, 6) does not match AbsSystem rules. Not appending\n",
      "  warnings.warn('Input AbsComponent with Zion={} does not match AbsSystem rules. Not appending'.format(abscomp.Zion))\n",
      "/Users/xavier/local/Python/linetools/linetools/isgm/abssystem.py:294: UserWarning: Failed velocity overlap\n",
      "  warnings.warn('Failed velocity overlap')\n",
      "/Users/xavier/local/Python/linetools/linetools/isgm/abssystem.py:288: UserWarning: Input AbsComponent with Zion=(1, 1) does not match AbsSystem rules. Not appending\n",
      "  warnings.warn('Input AbsComponent with Zion={} does not match AbsSystem rules. Not appending'.format(abscomp.Zion))\n"
     ]
    }
   ],
   "source": [
    "p11 = CGMAbsSurvey.from_tarball(p11_tarfile, chk_lowz=False)"
   ]
  },
  {
   "cell_type": "code",
   "execution_count": 5,
   "metadata": {
    "collapsed": false
   },
   "outputs": [
    {
     "data": {
      "text/plain": [
       "<CGM_Survey:  nsys=54, ref=>\n",
       "<IGMSystem: IGMSystem 00:29:13.8 13:16:04, 0.0329451, NHI=0, Z/H=0>\n",
       "<IGMSystem: IGMSystem 00:29:13.8 13:16:04, 0.039311, NHI=0, Z/H=0>\n",
       "<IGMSystem: IGMSystem 00:57:20 -22:22:56, 0.0233644, NHI=13.8, Z/H=0>\n",
       "<IGMSystem: IGMSystem 00:57:20 -22:22:56, 0.045619, NHI=13.8, Z/H=0>\n",
       "<IGMSystem: IGMSystem 03:11:55.2 -76:51:51, 0.202643, NHI=15.14, Z/H=0>\n",
       "<IGMSystem: IGMSystem 03:11:55.2 -76:51:51, 0.0593531, NHI=13.53, Z/H=0>\n",
       "<IGMSystem: IGMSystem 04:07:48.4 -12:11:37, 0.0964516, NHI=14.64, Z/H=0>\n",
       "<IGMSystem: IGMSystem 04:07:48.4 -12:11:37, 0.297609, NHI=13.85, Z/H=0>\n",
       "<IGMSystem: IGMSystem 04:07:48.4 -12:11:37, 0.352, NHI=14.04, Z/H=0>\n",
       "<IGMSystem: IGMSystem 04:07:48.4 -12:11:37, 0.153212, NHI=13.46, Z/H=0>\n",
       "<IGMSystem: IGMSystem 04:07:48.4 -12:11:37, 0.203022, NHI=13, Z/H=0>\n",
       "<IGMSystem: IGMSystem 04:07:48.4 -12:11:37, 0.36124, NHI=15.14, Z/H=0>\n",
       "<IGMSystem: IGMSystem 04:07:48.4 -12:11:37, 0.167, NHI=15.47, Z/H=0>\n",
       "<IGMSystem: IGMSystem 04:07:48.4 -12:11:37, 0.167043, NHI=15.47, Z/H=0>\n",
       "<IGMSystem: IGMSystem 10:07:26.1 12:48:56, 0.0296659, NHI=0, Z/H=0>\n",
       "<IGMSystem: IGMSystem 10:07:26.1 12:48:56, 0.0092207, NHI=13.9, Z/H=0>\n",
       "<IGMSystem: IGMSystem 10:31:54.3 -14:16:51, 0.0508329, NHI=14, Z/H=0>\n",
       "<IGMSystem: IGMSystem 11:19:08.7 21:19:18, 0.165951, NHI=14.43, Z/H=0>\n",
       "<IGMSystem: IGMSystem 11:19:08.7 21:19:18, 0.0600208, NHI=13.64, Z/H=0>\n",
       "<IGMSystem: IGMSystem 11:19:08.7 21:19:18, 0.0593876, NHI=13.64, Z/H=0>\n",
       "<IGMSystem: IGMSystem 11:19:08.7 21:19:18, 0.13829, NHI=14.35, Z/H=0>\n",
       "<IGMSystem: IGMSystem 12:14:17.7 14:03:13, 0.06438, NHI=15.73, Z/H=0>\n",
       "<IGMSystem: IGMSystem 12:14:17.7 14:03:13, 0.0646084, NHI=15.73, Z/H=0>\n",
       "<IGMSystem: IGMSystem 12:14:17.7 14:03:13, 0.0519877, NHI=15.67, Z/H=0>\n",
       "<IGMSystem: IGMSystem 12:14:17.7 14:03:13, 0.0511341, NHI=15.67, Z/H=0>\n",
       "<IGMSystem: IGMSystem 12:19:20.9 06:38:38, 0.124102, NHI=14.78, Z/H=0>\n",
       "<IGMSystem: IGMSystem 12:19:20.9 06:38:38, 0.0131789, NHI=13.94, Z/H=0>\n",
       "<IGMSystem: IGMSystem 12:19:20.9 06:38:38, 0.00666757, NHI=19.3, Z/H=0>\n",
       "<IGMSystem: IGMSystem 12:19:20.9 06:38:38, 0.0080957, NHI=13.1, Z/H=0>\n",
       "<IGMSystem: IGMSystem 12:29:06.7 02:03:09, 0.00620912, NHI=15.38, Z/H=0>\n",
       "<IGMSystem: IGMSystem 12:33:25.8 09:31:23, 0.0118122, NHI=0, Z/H=0>\n",
       "<IGMSystem: IGMSystem 12:33:25.8 09:31:23, 0.125431, NHI=0, Z/H=0>\n",
       "<IGMSystem: IGMSystem 12:33:25.8 09:31:23, 0.0905207, NHI=0, Z/H=0>\n",
       "<IGMSystem: IGMSystem 12:33:25.8 09:31:23, 0.206801, NHI=0, Z/H=0>\n",
       "<IGMSystem: IGMSystem 13:05:33 -10:33:19, 0.191709, NHI=15.01, Z/H=0>\n",
       "<IGMSystem: IGMSystem 13:05:33 -10:33:19, 0.0935802, NHI=15.35, Z/H=0>\n",
       "<IGMSystem: IGMSystem 13:05:33 -10:33:19, 0.0425621, NHI=14.83, Z/H=0>\n",
       "<IGMSystem: IGMSystem 13:05:33 -10:33:19, 0.145303, NHI=15.29, Z/H=0>\n",
       "<IGMSystem: IGMSystem 13:09:47 08:19:49, 0.127621, NHI=0, Z/H=0>\n",
       "<IGMSystem: IGMSystem 13:09:47 08:19:49, 0.0337313, NHI=0, Z/H=0>\n",
       "<IGMSystem: IGMSystem 14:29:06.4 01:17:06, 0.0299413, NHI=13.1, Z/H=0>\n",
       "<IGMSystem: IGMSystem 14:29:06.4 01:17:06, 0.0281113, NHI=13.67, Z/H=0>\n",
       "<IGMSystem: IGMSystem 15:55:43 11:11:24, 0.0150682, NHI=0, Z/H=0>\n",
       "<IGMSystem: IGMSystem 15:55:43 11:11:24, 0.0395311, NHI=0, Z/H=0>\n",
       "<IGMSystem: IGMSystem 15:55:43 11:11:24, 0.0420751, NHI=0, Z/H=0>\n",
       "<IGMSystem: IGMSystem 15:55:43 11:11:24, 0.0416811, NHI=0, Z/H=0>\n",
       "<IGMSystem: IGMSystem 21:55:01.5 -09:22:25, 0.13262, NHI=14.3, Z/H=0>\n",
       "<IGMSystem: IGMSystem 21:55:01.5 -09:22:25, 0.0503651, NHI=14.08, Z/H=0>\n",
       "<IGMSystem: IGMSystem 21:55:01.5 -09:22:25, 0.155532, NHI=13.06, Z/H=0>\n",
       "<IGMSystem: IGMSystem 21:55:01.5 -09:22:25, 0.0807993, NHI=15.11, Z/H=0>\n",
       "<IGMSystem: IGMSystem 21:55:01.5 -09:22:25, 0.0788036, NHI=14.29, Z/H=0>\n",
       "<IGMSystem: IGMSystem 21:55:01.5 -09:22:25, 0.0809754, NHI=15.11, Z/H=0>\n",
       "<IGMSystem: IGMSystem 21:55:01.5 -09:22:25, 0.0516533, NHI=14.08, Z/H=0>\n",
       "<IGMSystem: IGMSystem 21:58:51.8 -30:13:30, 0.0169383, NHI=13.56, Z/H=0>"
      ]
     },
     "execution_count": 5,
     "metadata": {},
     "output_type": "execute_result"
    }
   ],
   "source": [
    "p11"
   ]
  },
  {
   "cell_type": "code",
   "execution_count": 6,
   "metadata": {
    "collapsed": false
   },
   "outputs": [
    {
     "data": {
      "text/latex": [
       "$[46.32007,~231.08717,~153.91919,~281.05024,~34.785816,~241.08236,~271.56657,~263.85542,~170.30404,~193.11905,~277.85574,~228.92416,~101.21597,~122.3351,~181.21741,~78.670472,~306.79467,~159.32049,~133.01256,~221.58367,~137.97841,~151.94839,~72.602911,~182.7867,~138.10197,~94.401827,~106.07147,~92.907301,~37.14687,~85.547486,~41.258645,~260.27253,~120.93128,~243.45857,~225.98147,~69.865838,~227.78876,~88.463791,~99.493909,~274.85217,~162.60742,~309.02131,~176.70156,~282.59707,~293.98086,~184.38542,~228.32783,~305.40178,~266.93147,~292.71387,~236.98361,~35.061178,~271.77462,~108.99879] \\; \\mathrm{kpc}$"
      ],
      "text/plain": [
       "<Quantity [  46.32007042, 231.08717107, 153.91919088, 281.05023842,\n",
       "             34.78581646, 241.08235808, 271.56656557, 263.85542101,\n",
       "            170.30403727, 193.11905036, 277.85573984, 228.92416305,\n",
       "            101.21597012, 122.33510368, 181.21741485,  78.67047199,\n",
       "            306.79467169, 159.32049028, 133.01256117, 221.58366503,\n",
       "            137.97841172, 151.94838708,  72.60291124, 182.78669925,\n",
       "            138.10197377,  94.40182666, 106.07146536,  92.90730056,\n",
       "             37.14686961,  85.54748551,  41.25864481, 260.27253479,\n",
       "            120.93128195, 243.45856691, 225.98146589,  69.86583806,\n",
       "            227.78876094,  88.46379097,  99.49390855, 274.8521744 ,\n",
       "            162.60742332, 309.02130732, 176.70156002, 282.59706888,\n",
       "            293.98085988, 184.38541882, 228.32783121, 305.40178171,\n",
       "            266.93146969, 292.71386558, 236.98360734,  35.06117805,\n",
       "            271.77462491, 108.99879108] kpc>"
      ]
     },
     "execution_count": 6,
     "metadata": {},
     "output_type": "execute_result"
    }
   ],
   "source": [
    "p11.rho"
   ]
  },
  {
   "cell_type": "code",
   "execution_count": 7,
   "metadata": {
    "collapsed": false
   },
   "outputs": [
    {
     "data": {
      "text/plain": [
       "array([  0.        ,   0.        ,  13.80000019,  13.80000019,\n",
       "        15.14000034,  13.52999973,  14.64000034,  13.85000038,\n",
       "        14.03999996,  13.46000004,  13.        ,  15.14000034,\n",
       "        15.47000027,  15.47000027,   0.        ,  13.89999962,\n",
       "        14.        ,  14.43000031,  13.64000034,  13.64000034,\n",
       "        14.35000038,  15.72999954,  15.72999954,  15.67000008,\n",
       "        15.67000008,  14.77999973,  13.93999958,  19.29999924,\n",
       "        13.10000038,  15.38000011,   0.        ,   0.        ,\n",
       "         0.        ,   0.        ,  15.01000023,  15.35000038,\n",
       "        14.82999992,  15.28999996,   0.        ,   0.        ,\n",
       "        13.10000038,  13.67000008,   0.        ,   0.        ,\n",
       "         0.        ,   0.        ,  14.30000019,  14.07999992,\n",
       "        13.06000042,  15.10999966,  14.28999996,  15.10999966,\n",
       "        14.07999992,  13.56000042])"
      ]
     },
     "execution_count": 7,
     "metadata": {},
     "output_type": "execute_result"
    }
   ],
   "source": [
    "p11.NHI"
   ]
  },
  {
   "cell_type": "code",
   "execution_count": null,
   "metadata": {
    "collapsed": true
   },
   "outputs": [],
   "source": []
  }
 ],
 "metadata": {
  "kernelspec": {
   "display_name": "Python 2",
   "language": "python",
   "name": "python2"
  },
  "language_info": {
   "codemirror_mode": {
    "name": "ipython",
    "version": 2
   },
   "file_extension": ".py",
   "mimetype": "text/x-python",
   "name": "python",
   "nbconvert_exporter": "python",
   "pygments_lexer": "ipython2",
   "version": "2.7.11"
  }
 },
 "nbformat": 4,
 "nbformat_minor": 0
}
