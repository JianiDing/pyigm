{
 "cells": [
  {
   "cell_type": "markdown",
   "metadata": {},
   "source": [
    "# Ingesting Prochaska+11 CGM dataset [v1.0]"
   ]
  },
  {
   "cell_type": "code",
   "execution_count": 25,
   "metadata": {
    "collapsed": true
   },
   "outputs": [],
   "source": [
    "# imports\n",
    "from astropy.table import Table\n",
    "from astropy.coordinates import SkyCoord\n",
    "\n",
    "import pyigm\n",
    "from pyigm.cgm.cgmsurvey import CGMAbsSurvey"
   ]
  },
  {
   "cell_type": "markdown",
   "metadata": {},
   "source": [
    "## Summary"
   ]
  },
  {
   "cell_type": "code",
   "execution_count": 17,
   "metadata": {
    "collapsed": true
   },
   "outputs": [],
   "source": [
    "ovi_file = pyigm.__path__[0]+'/data/CGM/P11/lowovidat.fits'"
   ]
  },
  {
   "cell_type": "code",
   "execution_count": 18,
   "metadata": {
    "collapsed": true
   },
   "outputs": [],
   "source": [
    "ovidat = Table.read(ovi_file)"
   ]
  },
  {
   "cell_type": "code",
   "execution_count": 23,
   "metadata": {
    "collapsed": false
   },
   "outputs": [
    {
     "data": {
      "text/html": [
       "&lt;Table length=3&gt;\n",
       "<table id=\"table4605761872\">\n",
       "<thead><tr><th>QSO</th><th>QSO_RA</th><th>QSO_DEC</th><th>QSO_ZEM</th><th>QSO_VMAG</th><th>QSO_UV</th><th>FLG_GAL</th><th>GAL_FIL</th><th>R_LIMIT</th><th>N_GAL [4]</th><th>COMPLETE [2,4]</th><th>FLG_FUSE</th><th>FUSE_EXP</th><th>FUSE_SNR</th><th>FLG_STIS</th><th>STIS_COMM [4]</th><th>FLG_GHRS</th><th>GHRS_COMM [4]</th></tr></thead>\n",
       "<thead><tr><th>str15</th><th>str15</th><th>str15</th><th>float32</th><th>float32</th><th>float32</th><th>int16</th><th>str58</th><th>float32</th><th>int32</th><th>int32</th><th>int16</th><th>float32</th><th>float32</th><th>int16</th><th>str60</th><th>int16</th><th>str60</th></tr></thead>\n",
       "<tr><td>Q0026+1259</td><td>00:29:13.8</td><td>+13:16:04</td><td>0.142</td><td>14.78</td><td>20.0</td><td>1</td><td>/u/xavier/LCO/OVI/FUSE/data/Q0026+1259/Q0026+1259_gal.fits</td><td>20.0</td><td>131 .. 47</td><td>22 .. 85</td><td>1</td><td>20000.0</td><td>7.0</td><td>0</td><td>..</td><td>1</td><td>G270M 5222s                                                  ..</td></tr>\n",
       "<tr><td>TONS180</td><td>00:57:20.0</td><td>-22:22:56</td><td>0.06198</td><td>16.6</td><td>30.0</td><td>1</td><td>/u/xavier/LCO/OVI/FUSE/data/TONS180/TONS180_gal.fits</td><td>19.7</td><td>110 .. 4</td><td>15 .. 92</td><td>1</td><td>132453.0</td><td>15.0</td><td>2</td><td>G140M 7000s 15.                                              ..</td><td>0</td><td>..</td></tr>\n",
       "<tr><td>TONS210</td><td>01:21:51.5</td><td>-28:20:57</td><td>0.116</td><td>14.7</td><td>70.0</td><td>1</td><td>/u/xavier/LCO/OVI/FUSE/data/TONS210/TONS210_gal.fits</td><td>20.0</td><td>71 .. 5</td><td>6 .. 87</td><td>1</td><td>56500.0</td><td>20.0</td><td>2</td><td>E140M 22000s                                                 ..</td><td>0</td><td>..</td></tr>\n",
       "</table>"
      ],
      "text/plain": [
       "<Table length=3>\n",
       "      QSO       ...\n",
       "     str15      ...\n",
       "--------------- ...\n",
       "Q0026+1259      ...\n",
       "TONS180         ...\n",
       "TONS210         ..."
      ]
     },
     "execution_count": 23,
     "metadata": {},
     "output_type": "execute_result"
    }
   ],
   "source": [
    "ovidat[0:3]"
   ]
  },
  {
   "cell_type": "code",
   "execution_count": 21,
   "metadata": {
    "collapsed": true
   },
   "outputs": [],
   "source": [
    "qso_radec = SkyCoord(ra=ovidat['QSO_RA'], dec=ovidat['QSO_DEC'], unit=(u.hourangle, u.deg))"
   ]
  },
  {
   "cell_type": "markdown",
   "metadata": {},
   "source": [
    "## Dwarfs"
   ]
  },
  {
   "cell_type": "code",
   "execution_count": 9,
   "metadata": {
    "collapsed": true
   },
   "outputs": [],
   "source": [
    "cgm_dwarf_file = pyigm.__path__[0]+'/data/CGM/P11/dwarf_galabs_strct.fits'"
   ]
  },
  {
   "cell_type": "code",
   "execution_count": 10,
   "metadata": {
    "collapsed": true
   },
   "outputs": [],
   "source": [
    "cgm_dwarfs = Table.read(cgm_dwarf_file)"
   ]
  },
  {
   "cell_type": "code",
   "execution_count": 11,
   "metadata": {
    "collapsed": false
   },
   "outputs": [
    {
     "data": {
      "text/html": [
       "&lt;Table length=3&gt;\n",
       "<table id=\"table4554311760\">\n",
       "<thead><tr><th>FIELD</th><th>ID</th><th>OBJ_ID</th><th>FLG_ANLY</th><th>FLG_SURVEY</th><th>OBJ_TYPE</th><th>MAG [10]</th><th>MAGERR [10]</th><th>FILTER [10]</th><th>IMG_FIL [10]</th><th>XYPIX [2]</th><th>RA</th><th>DEC</th><th>AREA</th><th>STARGAL</th><th>GAL_TYPE</th><th>GAL_COEFF [10]</th><th>Z</th><th>VCIRC</th><th>FSPEC_FIL [10]</th><th>DRA</th><th>DDEC</th></tr></thead>\n",
       "<thead><tr><th>str11</th><th>int32</th><th>str1</th><th>int16</th><th>int16</th><th>int16</th><th>float32</th><th>float32</th><th>str1</th><th>str27</th><th>float32</th><th>float64</th><th>float64</th><th>float32</th><th>float32</th><th>str5</th><th>float32</th><th>float64</th><th>float32</th><th>str29</th><th>float64</th><th>float64</th></tr></thead>\n",
       "<tr><td>Q0026+1259</td><td>1303</td><td>a</td><td>7</td><td>1</td><td>0</td><td>19.733 .. 0.0</td><td>0.125 .. 9.99</td><td>B ..</td><td>Images/Q0026+1259XB.fits    ..</td><td>1014.76 .. 1034.29</td><td>7.28886499155</td><td>13.2746021629</td><td>10.43</td><td>0.18</td><td>Late</td><td>0.331349 .. 0.0</td><td>0.0329451337457</td><td>0.0</td><td>..</td><td>45.6990947951</td><td>0.0191390593786</td></tr>\n",
       "<tr><td>TONS180</td><td>2295</td><td>a</td><td>7</td><td>1</td><td>0</td><td>18.923 .. 1.0</td><td>0.088 .. 0.05</td><td>B ..</td><td>Images/TONS180XB.fits       ..</td><td>1318.89 .. 607.18</td><td>14.2667432785</td><td>-22.44755991</td><td>10.92</td><td>0.19</td><td>Late</td><td>-0.0115093 .. 0.0</td><td>0.0233643911779</td><td>0.0</td><td>..</td><td>154.07390626</td><td>0.0207054292147</td></tr>\n",
       "<tr><td>PKS0405-123</td><td>90033</td><td>a</td><td>7</td><td>1</td><td>0</td><td>0.0 .. 0.44</td><td>0.0 .. 0.06</td><td>..</td><td>..</td><td>61.9512 .. -12.1839</td><td>61.9512481689</td><td>-12.1838884354</td><td>0.0</td><td>0.0</td><td>Late</td><td>0.0 .. 0.0</td><td>0.167</td><td>1.0</td><td>..</td><td>97.7760719383</td><td>0.0877822129587</td></tr>\n",
       "</table>"
      ],
      "text/plain": [
       "<Table length=3>\n",
       "   FIELD      ID  OBJ_ID ...      DRA            DDEC     \n",
       "   str11    int32  str1  ...    float64        float64    \n",
       "----------- ----- ------ ... ------------- ---------------\n",
       "Q0026+1259   1303      a ... 45.6990947951 0.0191390593786\n",
       "TONS180      2295      a ...  154.07390626 0.0207054292147\n",
       "PKS0405-123 90033      a ... 97.7760719383 0.0877822129587"
      ]
     },
     "execution_count": 11,
     "metadata": {},
     "output_type": "execute_result"
    }
   ],
   "source": [
    "cgm_dwarfs[0:3]"
   ]
  },
  {
   "cell_type": "markdown",
   "metadata": {},
   "source": [
    "### Funny columns -- Renaming"
   ]
  },
  {
   "cell_type": "code",
   "execution_count": 12,
   "metadata": {
    "collapsed": false
   },
   "outputs": [],
   "source": [
    "cgm_dwarfs.rename_column('DRA', 'rho(kpc)')\n",
    "cgm_dwarfs.rename_column('DDEC', 'L(L*)')"
   ]
  },
  {
   "cell_type": "markdown",
   "metadata": {},
   "source": [
    "#### MAG has HI\n",
    "    2 == Ref\n",
    "    3 == z\n",
    "    4 == Lya EW\n",
    "    5 == sigEW Lya\n",
    "    8 == NHI\n",
    "    9 == sigNHI"
   ]
  },
  {
   "cell_type": "code",
   "execution_count": 14,
   "metadata": {
    "collapsed": false
   },
   "outputs": [
    {
     "data": {
      "text/plain": [
       "array([  1.89230003e+01,   1.80701466e+01,   5.00000000e+00,\n",
       "         2.34109219e-02,   2.22000000e+02,   2.90000000e+01,\n",
       "         5.60000000e+01,   4.00000000e+00,   1.38000002e+01,\n",
       "         1.00000000e+00], dtype=float32)"
      ]
     },
     "execution_count": 14,
     "metadata": {},
     "output_type": "execute_result"
    }
   ],
   "source": [
    "cgm_dwarfs[1]['MAG']"
   ]
  },
  {
   "cell_type": "markdown",
   "metadata": {},
   "source": [
    "#### MAGERR has OVI\n",
    "    2 == Ref\n",
    "    3 == z\n",
    "    4 == EW 1031\n",
    "    5 == sigEW 1031\n",
    "    8 == NOVI    \n",
    "    9 == sigNOVI"
   ]
  },
  {
   "cell_type": "code",
   "execution_count": 15,
   "metadata": {
    "collapsed": false
   },
   "outputs": [
    {
     "data": {
      "text/plain": [
       "array([  8.79999995e-02,   6.49999976e-02,   4.00000000e+00,\n",
       "         2.33999994e-02,   4.30000000e+01,   1.50000000e+01,\n",
       "         3.00000000e+01,   0.00000000e+00,   1.34799995e+01,\n",
       "         5.00000007e-02], dtype=float32)"
      ]
     },
     "execution_count": 15,
     "metadata": {},
     "output_type": "execute_result"
    }
   ],
   "source": [
    "cgm_dwarfs[1]['MAGERR']"
   ]
  },
  {
   "cell_type": "markdown",
   "metadata": {},
   "source": [
    "#### Refs"
   ]
  },
  {
   "cell_type": "code",
   "execution_count": 16,
   "metadata": {
    "collapsed": true
   },
   "outputs": [],
   "source": [
    "refdict = {1: 'tripp08', 2: 'tc08a', 3: 'ds08', 4: 'dsr+06', 5: 'pss04', 6: 'cm09', 9: 'p+11'}"
   ]
  },
  {
   "cell_type": "markdown",
   "metadata": {},
   "source": [
    "## Ingest\n",
    "    python ingest_lit.py"
   ]
  },
  {
   "cell_type": "markdown",
   "metadata": {},
   "source": [
    "## Read"
   ]
  },
  {
   "cell_type": "code",
   "execution_count": 26,
   "metadata": {
    "collapsed": true
   },
   "outputs": [],
   "source": [
    "p11_tarfile = pyigm.__path__[0]+'/data/CGM/P11/P11_sys.tar'"
   ]
  },
  {
   "cell_type": "code",
   "execution_count": 28,
   "metadata": {
    "collapsed": false
   },
   "outputs": [
    {
     "name": "stdout",
     "output_type": "stream",
     "text": [
      "Skipping a likely folder: CGM_JSON\n"
     ]
    },
    {
     "name": "stderr",
     "output_type": "stream",
     "text": [
      "/Users/xavier/local/Python/linetools/linetools/isgm/abssystem.py:288: UserWarning: Input AbsComponent with Zion=(1, 1) does not match AbsSystem rules. Not appending\n",
      "  warnings.warn('Input AbsComponent with Zion={} does not match AbsSystem rules. Not appending'.format(abscomp.Zion))\n"
     ]
    }
   ],
   "source": [
    "p11 = CGMAbsSurvey.from_tarball(p11_tarfile, chk_lowz=False)"
   ]
  },
  {
   "cell_type": "code",
   "execution_count": 29,
   "metadata": {
    "collapsed": false
   },
   "outputs": [
    {
     "data": {
      "text/plain": [
       "<CGM_Survey:  nsys=54, ref=>\n",
       "<IGMSystem: IGMSystem 00:29:13.8 13:16:04, 0.0329451, NHI=0, Z/H=0>\n",
       "<IGMSystem: IGMSystem 00:29:13.8 13:16:04, 0.039311, NHI=0, Z/H=0>\n",
       "<IGMSystem: IGMSystem 00:57:20 -22:22:56, 0.0233644, NHI=0, Z/H=0>\n",
       "<IGMSystem: IGMSystem 00:57:20 -22:22:56, 0.045619, NHI=0, Z/H=0>\n",
       "<IGMSystem: IGMSystem 03:11:55.2 -76:51:51, 0.202643, NHI=0, Z/H=0>\n",
       "<IGMSystem: IGMSystem 03:11:55.2 -76:51:51, 0.0593531, NHI=0, Z/H=0>\n",
       "<IGMSystem: IGMSystem 04:07:48.4 -12:11:37, 0.0964516, NHI=0, Z/H=0>\n",
       "<IGMSystem: IGMSystem 04:07:48.4 -12:11:37, 0.297609, NHI=0, Z/H=0>\n",
       "<IGMSystem: IGMSystem 04:07:48.4 -12:11:37, 0.352, NHI=0, Z/H=0>\n",
       "<IGMSystem: IGMSystem 04:07:48.4 -12:11:37, 0.153212, NHI=0, Z/H=0>\n",
       "<IGMSystem: IGMSystem 04:07:48.4 -12:11:37, 0.203022, NHI=0, Z/H=0>\n",
       "<IGMSystem: IGMSystem 04:07:48.4 -12:11:37, 0.36124, NHI=0, Z/H=0>\n",
       "<IGMSystem: IGMSystem 04:07:48.4 -12:11:37, 0.167, NHI=0, Z/H=0>\n",
       "<IGMSystem: IGMSystem 04:07:48.4 -12:11:37, 0.167043, NHI=0, Z/H=0>\n",
       "<IGMSystem: IGMSystem 10:07:26.1 12:48:56, 0.0296659, NHI=0, Z/H=0>\n",
       "<IGMSystem: IGMSystem 10:07:26.1 12:48:56, 0.0092207, NHI=0, Z/H=0>\n",
       "<IGMSystem: IGMSystem 10:31:54.3 -14:16:51, 0.0508329, NHI=0, Z/H=0>\n",
       "<IGMSystem: IGMSystem 11:19:08.7 21:19:18, 0.165951, NHI=0, Z/H=0>\n",
       "<IGMSystem: IGMSystem 11:19:08.7 21:19:18, 0.0600208, NHI=0, Z/H=0>\n",
       "<IGMSystem: IGMSystem 11:19:08.7 21:19:18, 0.0593876, NHI=0, Z/H=0>\n",
       "<IGMSystem: IGMSystem 11:19:08.7 21:19:18, 0.13829, NHI=0, Z/H=0>\n",
       "<IGMSystem: IGMSystem 12:14:17.7 14:03:13, 0.06438, NHI=0, Z/H=0>\n",
       "<IGMSystem: IGMSystem 12:14:17.7 14:03:13, 0.0646084, NHI=0, Z/H=0>\n",
       "<IGMSystem: IGMSystem 12:14:17.7 14:03:13, 0.0519877, NHI=0, Z/H=0>\n",
       "<IGMSystem: IGMSystem 12:14:17.7 14:03:13, 0.0511341, NHI=0, Z/H=0>\n",
       "<IGMSystem: IGMSystem 12:19:20.9 06:38:38, 0.124102, NHI=0, Z/H=0>\n",
       "<IGMSystem: IGMSystem 12:19:20.9 06:38:38, 0.0131789, NHI=0, Z/H=0>\n",
       "<IGMSystem: IGMSystem 12:19:20.9 06:38:38, 0.00666757, NHI=0, Z/H=0>\n",
       "<IGMSystem: IGMSystem 12:19:20.9 06:38:38, 0.0080957, NHI=0, Z/H=0>\n",
       "<IGMSystem: IGMSystem 12:29:06.7 02:03:09, 0.00620912, NHI=0, Z/H=0>\n",
       "<IGMSystem: IGMSystem 12:33:25.8 09:31:23, 0.0118122, NHI=0, Z/H=0>\n",
       "<IGMSystem: IGMSystem 12:33:25.8 09:31:23, 0.125431, NHI=0, Z/H=0>\n",
       "<IGMSystem: IGMSystem 12:33:25.8 09:31:23, 0.0905207, NHI=0, Z/H=0>\n",
       "<IGMSystem: IGMSystem 12:33:25.8 09:31:23, 0.206801, NHI=0, Z/H=0>\n",
       "<IGMSystem: IGMSystem 13:05:33 -10:33:19, 0.191709, NHI=0, Z/H=0>\n",
       "<IGMSystem: IGMSystem 13:05:33 -10:33:19, 0.0935802, NHI=0, Z/H=0>\n",
       "<IGMSystem: IGMSystem 13:05:33 -10:33:19, 0.0425621, NHI=0, Z/H=0>\n",
       "<IGMSystem: IGMSystem 13:05:33 -10:33:19, 0.145303, NHI=0, Z/H=0>\n",
       "<IGMSystem: IGMSystem 13:09:47 08:19:49, 0.127621, NHI=0, Z/H=0>\n",
       "<IGMSystem: IGMSystem 13:09:47 08:19:49, 0.0337313, NHI=0, Z/H=0>\n",
       "<IGMSystem: IGMSystem 14:29:06.4 01:17:06, 0.0299413, NHI=0, Z/H=0>\n",
       "<IGMSystem: IGMSystem 14:29:06.4 01:17:06, 0.0281113, NHI=0, Z/H=0>\n",
       "<IGMSystem: IGMSystem 15:55:43 11:11:24, 0.0150682, NHI=0, Z/H=0>\n",
       "<IGMSystem: IGMSystem 15:55:43 11:11:24, 0.0395311, NHI=0, Z/H=0>\n",
       "<IGMSystem: IGMSystem 15:55:43 11:11:24, 0.0420751, NHI=0, Z/H=0>\n",
       "<IGMSystem: IGMSystem 15:55:43 11:11:24, 0.0416811, NHI=0, Z/H=0>\n",
       "<IGMSystem: IGMSystem 21:55:01.5 -09:22:25, 0.13262, NHI=0, Z/H=0>\n",
       "<IGMSystem: IGMSystem 21:55:01.5 -09:22:25, 0.0503651, NHI=0, Z/H=0>\n",
       "<IGMSystem: IGMSystem 21:55:01.5 -09:22:25, 0.155532, NHI=0, Z/H=0>\n",
       "<IGMSystem: IGMSystem 21:55:01.5 -09:22:25, 0.0807993, NHI=0, Z/H=0>\n",
       "<IGMSystem: IGMSystem 21:55:01.5 -09:22:25, 0.0788036, NHI=0, Z/H=0>\n",
       "<IGMSystem: IGMSystem 21:55:01.5 -09:22:25, 0.0809754, NHI=0, Z/H=0>\n",
       "<IGMSystem: IGMSystem 21:55:01.5 -09:22:25, 0.0516533, NHI=0, Z/H=0>\n",
       "<IGMSystem: IGMSystem 21:58:51.8 -30:13:30, 0.0169383, NHI=0, Z/H=0>"
      ]
     },
     "execution_count": 29,
     "metadata": {},
     "output_type": "execute_result"
    }
   ],
   "source": [
    "p11"
   ]
  },
  {
   "cell_type": "code",
   "execution_count": null,
   "metadata": {
    "collapsed": true
   },
   "outputs": [],
   "source": []
  }
 ],
 "metadata": {
  "kernelspec": {
   "display_name": "Python 2",
   "language": "python",
   "name": "python2"
  },
  "language_info": {
   "codemirror_mode": {
    "name": "ipython",
    "version": 2
   },
   "file_extension": ".py",
   "mimetype": "text/x-python",
   "name": "python",
   "nbconvert_exporter": "python",
   "pygments_lexer": "ipython2",
   "version": "2.7.11"
  }
 },
 "nbformat": 4,
 "nbformat_minor": 0
}
