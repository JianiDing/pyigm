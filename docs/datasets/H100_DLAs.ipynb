{
 "cells": [
  {
   "cell_type": "markdown",
   "metadata": {},
   "source": [
    "# H100 Sample of DLAs [v1.0]\n",
    "    v1.0 -- Updating CII* flag"
   ]
  },
  {
   "cell_type": "code",
   "execution_count": 12,
   "metadata": {},
   "outputs": [],
   "source": [
    "# imports\n",
    "import pdb\n",
    "\n",
    "from astropy import units as u\n",
    "\n",
    "from pyigm.surveys.dlasurvey import DLASurvey\n",
    "from pyigm.surveys import utils as pyisu"
   ]
  },
  {
   "cell_type": "markdown",
   "metadata": {},
   "source": [
    "## Update CII* flag"
   ]
  },
  {
   "cell_type": "code",
   "execution_count": 2,
   "metadata": {},
   "outputs": [
    {
     "name": "stdout",
     "output_type": "stream",
     "text": [
      "H100: Loading summary file /home/xavier/local/Python/pyigm/pyigm/data/DLA/H100/H100_DLA.fits\n",
      "H100: Loading ions file /home/xavier/local/Python/pyigm/pyigm/data/DLA/H100/H100_DLA_ions.json\n",
      "H100: Loading systems.  This takes ~90s\n",
      "Loading systems from /home/xavier/local/Python/pyigm/pyigm/data/DLA/H100/H100_DLA_sys.tar.gz\n",
      "Skipping a likely folder: SYS\n"
     ]
    },
    {
     "name": "stderr",
     "output_type": "stream",
     "text": [
      "/home/xavier/local/Python/linetools/linetools/spectralline.py:200: UserWarning: Redshift not input.  Setting to 0 for zLimits\n",
      "  warnings.warn(\"Redshift not input.  Setting to 0 for zLimits\")\n",
      "/home/xavier/local/Python/linetools/linetools/spectralline.py:117: UserWarning: Key Id not in your input dict\n",
      "  warnings.warn(\"Key {:s} not in your input dict\".format(key))\n",
      "/home/xavier/local/Python/linetools/linetools/isgm/abscomponent.py:237: UserWarning: No stars provided.  Adding one because Ej > 0.\n",
      "  warnings.warn(\"No stars provided.  Adding one because Ej > 0.\")\n"
     ]
    }
   ],
   "source": [
    "h100 = DLASurvey.load_H100()"
   ]
  },
  {
   "cell_type": "markdown",
   "metadata": {},
   "source": [
    "### Loop me"
   ]
  },
  {
   "cell_type": "code",
   "execution_count": 3,
   "metadata": {},
   "outputs": [
    {
     "data": {
      "text/plain": [
       "[<AbsComponent: 00:01:50 -01:59:40.34, Name=AlIII_z2.09507, Zion=(13,3), Ej=0 1 / cm, z=2.09507, vlim=-150 km / s,70 km / s, logN=13.387, sig_logN=0.009, flag_N=1>,\n",
       " <AbsComponent: 00:01:50 -01:59:40.34, Name=AlII_z2.09507, Zion=(13,2), Ej=0 1 / cm, z=2.09507, vlim=-160 km / s,100 km / s, logN=13.612, sig_logN=0.038, flag_N=2>,\n",
       " <AbsComponent: 00:01:50 -01:59:40.34, Name=CII*_z2.09507, Zion=(6,2), Ej=63.42 1 / cm, z=2.09507, vlim=-20 km / s,40 km / s>,\n",
       " <AbsComponent: 00:01:50 -01:59:40.34, Name=CII_z2.09507, Zion=(6,2), Ej=0 1 / cm, z=2.09507, vlim=-190 km / s,90 km / s, logN=15.112, sig_logN=0.235, flag_N=2>,\n",
       " <AbsComponent: 00:01:50 -01:59:40.34, Name=CIV_z2.09507, Zion=(6,4), Ej=0 1 / cm, z=2.09507, vlim=-200 km / s,80 km / s, logN=14.755, sig_logN=0.309, flag_N=2>,\n",
       " <AbsComponent: 00:01:50 -01:59:40.34, Name=CI_z2.09507, Zion=(6,1), Ej=0 1 / cm, z=2.09507, vlim=-100 km / s,50 km / s, logN=12.79, sig_logN=0.0, flag_N=3>,\n",
       " <AbsComponent: 00:01:50 -01:59:40.34, Name=CoII_z2.09507, Zion=(27,2), Ej=0 1 / cm, z=2.09507, vlim=-40 km / s,40 km / s, logN=12.853, sig_logN=0.0, flag_N=3>,\n",
       " <AbsComponent: 00:01:50 -01:59:40.34, Name=CrII_z2.09507, Zion=(24,2), Ej=0 1 / cm, z=2.09507, vlim=-39 km / s,40 km / s, logN=12.826, sig_logN=0.054, flag_N=1>,\n",
       " <AbsComponent: 00:01:50 -01:59:40.34, Name=FeII_z2.09507, Zion=(26,2), Ej=0 1 / cm, z=2.09507, vlim=-150 km / s,60 km / s, logN=14.53, sig_logN=0.025, flag_N=2>,\n",
       " <AbsComponent: 00:01:50 -01:59:40.34, Name=NiII_z2.09507, Zion=(28,2), Ej=0 1 / cm, z=2.09507, vlim=-110 km / s,40 km / s, logN=13.423, sig_logN=0.064, flag_N=1>,\n",
       " <AbsComponent: 00:01:50 -01:59:40.34, Name=SiII*_z2.09507, Zion=(14,2), Ej=287.24 1 / cm, z=2.09507, vlim=-20 km / s,20 km / s>,\n",
       " <AbsComponent: 00:01:50 -01:59:40.34, Name=SiII_z2.09507, Zion=(14,2), Ej=0 1 / cm, z=2.09507, vlim=-170 km / s,100 km / s, logN=15.486, sig_logN=0.02, flag_N=1>,\n",
       " <AbsComponent: 00:01:50 -01:59:40.34, Name=SiIV_z2.09507, Zion=(14,4), Ej=0 1 / cm, z=2.09507, vlim=-160 km / s,90 km / s, logN=14.037, sig_logN=0.112, flag_N=2>,\n",
       " <AbsComponent: 00:01:50 -01:59:40.34, Name=TiII_z2.09507, Zion=(22,2), Ej=0 1 / cm, z=2.09507, vlim=-70 km / s,40 km / s, logN=12.577, sig_logN=0.04, flag_N=1>,\n",
       " <AbsComponent: 00:01:50 -01:59:40.34, Name=ZnII_z2.09507, Zion=(30,2), Ej=0 1 / cm, z=2.09507, vlim=-40 km / s,50 km / s, logN=12.578, sig_logN=0.028, flag_N=1>]"
      ]
     },
     "execution_count": 3,
     "metadata": {},
     "output_type": "execute_result"
    }
   ],
   "source": [
    "h100._abs_sys[0]._components"
   ]
  },
  {
   "cell_type": "code",
   "execution_count": 4,
   "metadata": {},
   "outputs": [
    {
     "name": "stdout",
     "output_type": "stream",
     "text": [
      "Q2359-02_z2.095: flag=0 logN=13.697000, sigN=0.062900\n",
      "Q2359-02_z2.154: flag=4 logN=14.475700, sigN=0.020000\n",
      "BR0019-15_z3.439: flag=0 logN=13.842600, sigN=0.018400\n",
      "J0040-0915_z4.739: flag=6 logN=13.879600, sigN=0.035900\n",
      "PH957_z2.309: flag=8 logN=13.590000, sigN=0.050100\n",
      "Q0149+33_z2.141: flag=4 logN=12.790800, sigN=0.144800\n",
      "Q0201+11_z3.387: flag=8 logN=14.117000, sigN=0.100900\n",
      "PSS0209+05_z3.864: flag=4 logN=12.512600, sigN=0.100200\n",
      "J0255+00_z3.915: flag=0 logN=13.409500, sigN=0.038000\n",
      "Q0336-01_z3.062: flag=0 logN=14.008800, sigN=0.014000\n",
      "Q0347-38_z3.025: flag=0 logN=13.474800, sigN=0.032900\n",
      "Q0450-13_z2.067: flag=4 logN=12.629200, sigN=0.144800\n",
      "Q0458-02_z2.040: flag=10 logN=14.889000, sigN=0.046100\n",
      "HS0741+4741_z3.017: flag=4 logN=12.516500, sigN=0.144800\n",
      "J0747+4434_z4.020: flag=0 logN=13.283200, sigN=0.060900\n",
      "J0814+5029_z3.708: flag=0 logN=13.092400, sigN=0.042300\n",
      "J0817+1351_z4.258: flag=2 logN=14.407000, sigN=0.821500\n",
      "J0825+3544_z3.207: flag=0 logN=13.809200, sigN=0.040100\n",
      "J0826+3148_z2.912: flag=4 logN=12.617800, sigN=0.144800\n",
      "Q0836+11_z2.465: flag=4 logN=13.132200, sigN=0.144800\n",
      "J0900+4215_z3.246: flag=0 logN=13.071100, sigN=0.033500\n",
      "Q0913+072_z2.618: flag=4 logN=12.777200, sigN=0.144800\n",
      "J0929+2825_z3.263: flag=0 logN=13.189600, sigN=0.026200\n",
      "Q0930+28_z3.235: flag=4 logN=12.576500, sigN=0.144800\n",
      "BR0951-04_z4.203: flag=4 logN=13.358400, sigN=0.086300\n",
      "BRI0952-01_z4.024: flag=0 logN=13.551500, sigN=0.024200\n",
      "J1014+4300_z2.959: flag=0 logN=12.635600, sigN=0.064800\n",
      "Q1021+30_z2.949: flag=4 logN=12.763600, sigN=0.144800\n",
      "J1035+5440_z2.684: flag=2 logN=13.213100, sigN=0.033600\n",
      "J1051+3107_z4.139: flag=4 logN=13.014200, sigN=0.144800\n",
      "J1051+3545_z4.821: flag=4 logN=12.839300, sigN=0.144800\n",
      "J1100+1122_z4.395: flag=0 logN=14.158200, sigN=0.028700\n",
      "Q1104-18_z1.661: flag=8 logN=13.440000, sigN=0.050100\n",
      "BRI1108-07_z3.608: flag=4 logN=12.362400, sigN=0.144800\n",
      "J1131+6044_z2.876: flag=4 logN=12.730700, sigN=0.144800\n",
      "HS1132+2243_z2.783: flag=4 logN=12.691300, sigN=0.144800\n",
      "Q1157+014_z1.944: flag=10 logN=14.755400, sigN=0.041500\n",
      "J1200+4618_z4.476: flag=4 logN=13.735900, sigN=0.144800\n",
      "J1200+4015_z3.220: flag=0 logN=13.683200, sigN=0.026900\n",
      "J1201+2117_z4.158: flag=6 logN=13.416300, sigN=0.034800\n",
      "J1202+3235_z4.795: flag=0 logN=13.294000, sigN=0.021900\n",
      "J1202+3235_z5.065: flag=4 logN=12.635000, sigN=0.144800\n",
      "BR1202-07_z4.383: flag=0 logN=13.483600, sigN=0.048400\n",
      "Q1215+33_z1.999: flag=4 logN=13.182000, sigN=0.144800\n",
      "Q1223+17_z2.466: flag=4 logN=14.010800, sigN=0.027200\n",
      "J1240+1455_z3.024: flag=4 logN=13.319200, sigN=0.144800\n",
      "J1304+1202_z2.913: flag=4 logN=12.819200, sigN=0.144800\n",
      "J1304+1202_z2.929: flag=4 logN=12.773900, sigN=0.144800\n",
      "Q1331+17_z1.776: flag=8 logN=14.050000, sigN=0.050100\n",
      "Q1337+11_z2.796: flag=4 logN=13.109800, sigN=0.097900\n",
      "BRI1346-03_z3.736: flag=0 logN=12.555400, sigN=0.123600\n",
      "J1353+5328_z2.835: flag=0 logN=13.203100, sigN=0.058300\n",
      "PKS1354-17_z2.780: flag=0 logN=12.757400, sigN=0.061400\n",
      "J1410+5111_z2.934: flag=0 logN=13.392900, sigN=0.040500\n",
      "J1410+5111_z2.964: flag=4 logN=13.014300, sigN=0.108200\n",
      "Q1425+6039_z2.827: flag=4 logN=13.522300, sigN=0.008200\n",
      "J1435+5359_z2.343: flag=0 logN=12.886300, sigN=0.034900\n",
      "J1438+4314_z4.399: flag=0 logN=13.530900, sigN=0.030400\n",
      "PSS1443+27_z4.224: flag=2 logN=14.607700, sigN=0.174000\n",
      "PSS1506+522_z3.224: flag=4 logN=12.907600, sigN=0.144800\n",
      "J1541+3153_z2.443: flag=0 logN=13.075500, sigN=0.092300\n",
      "J1607+1604_z4.474: flag=0 logN=13.107000, sigN=0.096400\n",
      "Q1759+75_z2.625: flag=0 logN=13.143300, sigN=0.033100\n",
      "J2036-0553_z2.280: flag=0 logN=13.415100, sigN=0.030500\n",
      "Q2206-19_z2.076: flag=4 logN=13.205200, sigN=0.051700\n",
      "Q2231-002_z2.066: flag=0 logN=13.703500, sigN=0.036000\n",
      "BR2237-0607_z4.080: flag=12 logN=12.530000, sigN=0.153000\n",
      "J2315+1456_z3.273: flag=4 logN=12.886900, sigN=0.144800\n",
      "J2340-0053_z2.055: flag=0 logN=13.723100, sigN=0.012400\n",
      "J2343+1410_z2.677: flag=4 logN=13.055800, sigN=0.144800\n",
      "Q2343+125_z2.431: flag=0 logN=12.686100, sigN=0.114500\n",
      "Q2344+12_z2.538: flag=4 logN=12.848700, sigN=0.144800\n",
      "Q2348-14_z2.279: flag=4 logN=13.198100, sigN=0.072300\n"
     ]
    }
   ],
   "source": [
    "for abssys in h100._abs_sys:\n",
    "    for comp in abssys._components:\n",
    "        if (comp.Zion == (6,2)) & (comp.Ej == 63.42/u.cm):\n",
    "            print('{:s}: flag={:d} logN={:f}, sigN={:f}'.format(abssys.name, comp._abslines[0].attrib['flag_N'],\n",
    "                                                               comp._abslines[0].attrib['logN'], \n",
    "                                                                comp._abslines[0].attrib['sig_logN']))\n",
    "            #pdb.set_trace()"
   ]
  },
  {
   "cell_type": "code",
   "execution_count": 5,
   "metadata": {
    "collapsed": true
   },
   "outputs": [],
   "source": [
    "# Mapping line flags to component flag\n",
    "fdict = {}\n",
    "fdict[0] = 1\n",
    "fdict[2] = 2\n",
    "fdict[4] = 3\n",
    "fdict[6] = 1\n",
    "fdict[8] = 1\n",
    "fdict[12] = 3\n",
    "fdict[10] = 2"
   ]
  },
  {
   "cell_type": "code",
   "execution_count": 6,
   "metadata": {},
   "outputs": [],
   "source": [
    "# Resetting\n",
    "for abssys in h100._abs_sys:\n",
    "    for comp in abssys._components:\n",
    "        if (comp.Zion == (6,2)) & (comp.Ej == 63.42/u.cm):\n",
    "            if len(comp._abslines) != 1:\n",
    "                pdb.set_trace()\n",
    "            #\n",
    "            aline = comp._abslines[0]\n",
    "            comp.flag_N = fdict[aline.attrib['flag_N']]\n",
    "            comp.logN = aline.attrib['logN']\n",
    "            comp.sig_logN = aline.attrib['sig_logN']"
   ]
  },
  {
   "cell_type": "markdown",
   "metadata": {},
   "source": [
    "### Test"
   ]
  },
  {
   "cell_type": "code",
   "execution_count": 7,
   "metadata": {},
   "outputs": [
    {
     "name": "stderr",
     "output_type": "stream",
     "text": [
      "/home/xavier/local/Python/linetools/linetools/isgm/abscomponent.py:237: UserWarning: No stars provided.  Adding one because Ej > 0.\n",
      "  warnings.warn(\"No stars provided.  Adding one because Ej > 0.\")\n"
     ]
    }
   ],
   "source": [
    "h100.fill_ions(use_components=True)"
   ]
  },
  {
   "cell_type": "code",
   "execution_count": 8,
   "metadata": {
    "collapsed": true
   },
   "outputs": [],
   "source": [
    "CIIs = h100.ions((6,2), Ej=63.42/u.cm)"
   ]
  },
  {
   "cell_type": "code",
   "execution_count": 9,
   "metadata": {},
   "outputs": [
    {
     "data": {
      "text/html": [
       "&lt;Table length=15&gt;\n",
       "<table id=\"table140295639663784\" class=\"table-striped table-bordered table-condensed\">\n",
       "<thead><tr><th>Z</th><th>ion</th><th>A</th><th>Ej</th><th>z</th><th>vmin</th><th>vmax</th><th>flag_N</th><th>logN</th><th>sig_logN</th></tr></thead>\n",
       "<thead><tr><th></th><th></th><th></th><th>1 / cm</th><th></th><th>km / s</th><th>km / s</th><th></th><th></th><th></th></tr></thead>\n",
       "<thead><tr><th>int64</th><th>int64</th><th>int64</th><th>float64</th><th>float64</th><th>float64</th><th>float64</th><th>int64</th><th>float64</th><th>float64</th></tr></thead>\n",
       "<tr><td>6</td><td>1</td><td>0</td><td>0.0</td><td>2.09507</td><td>-100.290583856</td><td>49.7094161443</td><td>3</td><td>12.79</td><td>0.0</td></tr>\n",
       "<tr><td>6</td><td>2</td><td>0</td><td>0.0</td><td>2.09507</td><td>-190.290583856</td><td>89.7094161444</td><td>2</td><td>15.112</td><td>0.235</td></tr>\n",
       "<tr><td>6</td><td>2</td><td>0</td><td>63.42</td><td>2.09507</td><td>-20.2905838557</td><td>39.7094161443</td><td>1</td><td>13.697</td><td>0.0629</td></tr>\n",
       "<tr><td>6</td><td>4</td><td>0</td><td>0.0</td><td>2.09507</td><td>-200.290583856</td><td>79.7094161444</td><td>2</td><td>14.755</td><td>0.309</td></tr>\n",
       "<tr><td>13</td><td>2</td><td>0</td><td>0.0</td><td>2.09507</td><td>-160.290583856</td><td>99.7094161443</td><td>2</td><td>13.612</td><td>0.038</td></tr>\n",
       "<tr><td>13</td><td>3</td><td>0</td><td>0.0</td><td>2.09507</td><td>-150.290583856</td><td>69.7094161444</td><td>1</td><td>13.387</td><td>0.009</td></tr>\n",
       "<tr><td>14</td><td>2</td><td>0</td><td>0.0</td><td>2.09507</td><td>-170.290583856</td><td>99.7094161443</td><td>1</td><td>15.486</td><td>0.02</td></tr>\n",
       "<tr><td>14</td><td>2</td><td>0</td><td>287.24</td><td>2.09507</td><td>-20.2905838557</td><td>19.7094161444</td><td>0</td><td>0.0</td><td>0.0</td></tr>\n",
       "<tr><td>14</td><td>4</td><td>0</td><td>0.0</td><td>2.09507</td><td>-160.290583856</td><td>89.7094161444</td><td>2</td><td>14.037</td><td>0.112</td></tr>\n",
       "<tr><td>22</td><td>2</td><td>0</td><td>0.0</td><td>2.09507</td><td>-70.2905838557</td><td>39.7094161443</td><td>1</td><td>12.577</td><td>0.04</td></tr>\n",
       "<tr><td>24</td><td>2</td><td>0</td><td>0.0</td><td>2.09507</td><td>-39.2905838557</td><td>39.7094161443</td><td>1</td><td>12.826</td><td>0.054</td></tr>\n",
       "<tr><td>26</td><td>2</td><td>0</td><td>0.0</td><td>2.09507</td><td>-150.290583856</td><td>59.7094161443</td><td>2</td><td>14.53</td><td>0.025</td></tr>\n",
       "<tr><td>27</td><td>2</td><td>0</td><td>0.0</td><td>2.09507</td><td>-40.2905838557</td><td>39.7094161443</td><td>3</td><td>12.853</td><td>0.0</td></tr>\n",
       "<tr><td>28</td><td>2</td><td>0</td><td>0.0</td><td>2.09507</td><td>-110.290583856</td><td>39.7094161443</td><td>1</td><td>13.423</td><td>0.064</td></tr>\n",
       "<tr><td>30</td><td>2</td><td>0</td><td>0.0</td><td>2.09507</td><td>-40.2905838557</td><td>49.7094161443</td><td>1</td><td>12.578</td><td>0.028</td></tr>\n",
       "</table>"
      ],
      "text/plain": [
       "<Table length=15>\n",
       "  Z    ion    A      Ej      z    ...      vmax     flag_N   logN  sig_logN\n",
       "                   1 / cm         ...     km / s                           \n",
       "int64 int64 int64 float64 float64 ...    float64    int64  float64 float64 \n",
       "----- ----- ----- ------- ------- ... ------------- ------ ------- --------\n",
       "    6     1     0     0.0 2.09507 ... 49.7094161443      3   12.79      0.0\n",
       "    6     2     0     0.0 2.09507 ... 89.7094161444      2  15.112    0.235\n",
       "    6     2     0   63.42 2.09507 ... 39.7094161443      1  13.697   0.0629\n",
       "    6     4     0     0.0 2.09507 ... 79.7094161444      2  14.755    0.309\n",
       "   13     2     0     0.0 2.09507 ... 99.7094161443      2  13.612    0.038\n",
       "   13     3     0     0.0 2.09507 ... 69.7094161444      1  13.387    0.009\n",
       "   14     2     0     0.0 2.09507 ... 99.7094161443      1  15.486     0.02\n",
       "   14     2     0  287.24 2.09507 ... 19.7094161444      0     0.0      0.0\n",
       "   14     4     0     0.0 2.09507 ... 89.7094161444      2  14.037    0.112\n",
       "   22     2     0     0.0 2.09507 ... 39.7094161443      1  12.577     0.04\n",
       "   24     2     0     0.0 2.09507 ... 39.7094161443      1  12.826    0.054\n",
       "   26     2     0     0.0 2.09507 ... 59.7094161443      2   14.53    0.025\n",
       "   27     2     0     0.0 2.09507 ... 39.7094161443      3  12.853      0.0\n",
       "   28     2     0     0.0 2.09507 ... 39.7094161443      1  13.423    0.064\n",
       "   30     2     0     0.0 2.09507 ... 49.7094161443      1  12.578    0.028"
      ]
     },
     "execution_count": 9,
     "metadata": {},
     "output_type": "execute_result"
    }
   ],
   "source": [
    "h100._abs_sys[0]._ionN"
   ]
  },
  {
   "cell_type": "code",
   "execution_count": 10,
   "metadata": {},
   "outputs": [
    {
     "data": {
      "text/html": [
       "&lt;Table length=100&gt;\n",
       "<table id=\"table140295639259064\" class=\"table-striped table-bordered table-condensed\">\n",
       "<thead><tr><th>name</th><th>Z</th><th>ion</th><th>A</th><th>Ej</th><th>z</th><th>vmin</th><th>vmax</th><th>flag_N</th><th>logN</th><th>sig_logN</th></tr></thead>\n",
       "<thead><tr><th></th><th></th><th></th><th></th><th>1 / cm</th><th></th><th>km / s</th><th>km / s</th><th></th><th></th><th></th></tr></thead>\n",
       "<thead><tr><th>str32</th><th>int64</th><th>int64</th><th>int64</th><th>float64</th><th>float64</th><th>float64</th><th>float64</th><th>int64</th><th>float64</th><th>float64</th></tr></thead>\n",
       "<tr><td>Q2359-02_z2.095</td><td>6</td><td>2</td><td>0</td><td>63.42</td><td>2.09507</td><td>-20.2905838557</td><td>39.7094161443</td><td>1</td><td>13.697</td><td>0.0629</td></tr>\n",
       "<tr><td>Q2359-02_z2.154</td><td>6</td><td>2</td><td>0</td><td>63.42</td><td>2.153934</td><td>-175.0</td><td>100.0</td><td>3</td><td>14.4757</td><td>0.02</td></tr>\n",
       "<tr><td>Q0000-2619_z3.390</td><td>0</td><td>0</td><td>0</td><td>0.0</td><td>0.0</td><td>0.0</td><td>0.0</td><td>0</td><td>0.0</td><td>0.0</td></tr>\n",
       "<tr><td>BR0019-15_z3.439</td><td>6</td><td>2</td><td>0</td><td>63.42</td><td>3.43886</td><td>-59.9999999999</td><td>30.0</td><td>1</td><td>13.8426</td><td>0.0184</td></tr>\n",
       "<tr><td>J0040-0915_z4.739</td><td>6</td><td>2</td><td>0</td><td>63.42</td><td>4.7394</td><td>-80.0000000001</td><td>100.0</td><td>1</td><td>13.8796</td><td>0.0359</td></tr>\n",
       "<tr><td>PH957_z2.309</td><td>6</td><td>2</td><td>0</td><td>63.42</td><td>2.309</td><td>0.0</td><td>0.0</td><td>1</td><td>13.59</td><td>0.0501</td></tr>\n",
       "<tr><td>Q0149+33_z2.141</td><td>6</td><td>2</td><td>0</td><td>63.42</td><td>2.14076</td><td>-60.47726101</td><td>49.5227389898</td><td>3</td><td>12.7908</td><td>0.1448</td></tr>\n",
       "<tr><td>Q0201+11_z3.387</td><td>6</td><td>2</td><td>0</td><td>63.42</td><td>3.38686</td><td>0.0</td><td>0.0</td><td>1</td><td>14.117</td><td>0.1009</td></tr>\n",
       "<tr><td>Q0201+36_z2.463</td><td>0</td><td>0</td><td>0</td><td>0.0</td><td>0.0</td><td>0.0</td><td>0.0</td><td>0</td><td>0.0</td><td>0.0</td></tr>\n",
       "<tr><td>...</td><td>...</td><td>...</td><td>...</td><td>...</td><td>...</td><td>...</td><td>...</td><td>...</td><td>...</td><td>...</td></tr>\n",
       "<tr><td>Q2231-002_z2.066</td><td>6</td><td>2</td><td>0</td><td>63.42</td><td>2.06615</td><td>-100.0</td><td>39.9999999999</td><td>1</td><td>13.7035</td><td>0.036</td></tr>\n",
       "<tr><td>BR2237-0607_z4.080</td><td>6</td><td>2</td><td>0</td><td>63.42</td><td>4.0803</td><td>0.0</td><td>0.0</td><td>3</td><td>12.53</td><td>0.153</td></tr>\n",
       "<tr><td>J2315+1456_z3.273</td><td>6</td><td>2</td><td>0</td><td>63.42</td><td>3.2732</td><td>-30.0</td><td>60.0</td><td>3</td><td>12.8869</td><td>0.1448</td></tr>\n",
       "<tr><td>J2340-0053_z2.055</td><td>6</td><td>2</td><td>0</td><td>63.42</td><td>2.05452</td><td>-70.0</td><td>90.0</td><td>1</td><td>13.7231</td><td>0.0124</td></tr>\n",
       "<tr><td>J2343+1410_z2.677</td><td>6</td><td>2</td><td>0</td><td>63.42</td><td>2.67675</td><td>-40.0</td><td>50.0</td><td>3</td><td>13.0558</td><td>0.1448</td></tr>\n",
       "<tr><td>Q2343+125_z2.431</td><td>6</td><td>2</td><td>0</td><td>63.42</td><td>2.4313</td><td>-100.0</td><td>200.0</td><td>1</td><td>12.6861</td><td>0.1145</td></tr>\n",
       "<tr><td>Q2344+12_z2.538</td><td>6</td><td>2</td><td>0</td><td>63.42</td><td>2.5379</td><td>-30.0</td><td>30.0</td><td>3</td><td>12.8487</td><td>0.1448</td></tr>\n",
       "<tr><td>Q2348-01_z2.426</td><td>0</td><td>0</td><td>0</td><td>0.0</td><td>0.0</td><td>0.0</td><td>0.0</td><td>0</td><td>0.0</td><td>0.0</td></tr>\n",
       "<tr><td>Q2348-01_z2.615</td><td>0</td><td>0</td><td>0</td><td>0.0</td><td>0.0</td><td>0.0</td><td>0.0</td><td>0</td><td>0.0</td><td>0.0</td></tr>\n",
       "<tr><td>Q2348-14_z2.279</td><td>6</td><td>2</td><td>0</td><td>63.42</td><td>2.2794</td><td>-100.0</td><td>40.0</td><td>3</td><td>13.1981</td><td>0.0723</td></tr>\n",
       "</table>"
      ],
      "text/plain": [
       "<Table length=100>\n",
       "       name          Z    ion    A   ...      vmax     flag_N   logN  sig_logN\n",
       "                                     ...     km / s                           \n",
       "      str32        int64 int64 int64 ...    float64    int64  float64 float64 \n",
       "------------------ ----- ----- ----- ... ------------- ------ ------- --------\n",
       "   Q2359-02_z2.095     6     2     0 ... 39.7094161443      1  13.697   0.0629\n",
       "   Q2359-02_z2.154     6     2     0 ...         100.0      3 14.4757     0.02\n",
       " Q0000-2619_z3.390     0     0     0 ...           0.0      0     0.0      0.0\n",
       "  BR0019-15_z3.439     6     2     0 ...          30.0      1 13.8426   0.0184\n",
       " J0040-0915_z4.739     6     2     0 ...         100.0      1 13.8796   0.0359\n",
       "      PH957_z2.309     6     2     0 ...           0.0      1   13.59   0.0501\n",
       "   Q0149+33_z2.141     6     2     0 ... 49.5227389898      3 12.7908   0.1448\n",
       "   Q0201+11_z3.387     6     2     0 ...           0.0      1  14.117   0.1009\n",
       "   Q0201+36_z2.463     0     0     0 ...           0.0      0     0.0      0.0\n",
       "               ...   ...   ...   ... ...           ...    ...     ...      ...\n",
       "  Q2231-002_z2.066     6     2     0 ... 39.9999999999      1 13.7035    0.036\n",
       "BR2237-0607_z4.080     6     2     0 ...           0.0      3   12.53    0.153\n",
       " J2315+1456_z3.273     6     2     0 ...          60.0      3 12.8869   0.1448\n",
       " J2340-0053_z2.055     6     2     0 ...          90.0      1 13.7231   0.0124\n",
       " J2343+1410_z2.677     6     2     0 ...          50.0      3 13.0558   0.1448\n",
       "  Q2343+125_z2.431     6     2     0 ...         200.0      1 12.6861   0.1145\n",
       "   Q2344+12_z2.538     6     2     0 ...          30.0      3 12.8487   0.1448\n",
       "   Q2348-01_z2.426     0     0     0 ...           0.0      0     0.0      0.0\n",
       "   Q2348-01_z2.615     0     0     0 ...           0.0      0     0.0      0.0\n",
       "   Q2348-14_z2.279     6     2     0 ...          40.0      3 13.1981   0.0723"
      ]
     },
     "execution_count": 10,
     "metadata": {},
     "output_type": "execute_result"
    }
   ],
   "source": [
    "CIIs"
   ]
  },
  {
   "cell_type": "markdown",
   "metadata": {},
   "source": [
    "### Write"
   ]
  },
  {
   "cell_type": "code",
   "execution_count": 11,
   "metadata": {},
   "outputs": [
    {
     "name": "stdout",
     "output_type": "stream",
     "text": [
      "Wrote: h100_DLA_sys_v2.tar.gz\n"
     ]
    }
   ],
   "source": [
    "h100.write_survey(outfile='h100_DLA_sys_v2.tar.gz', tmpdir='SYS/')"
   ]
  },
  {
   "cell_type": "markdown",
   "metadata": {},
   "source": [
    "### Another test"
   ]
  },
  {
   "cell_type": "code",
   "execution_count": 13,
   "metadata": {},
   "outputs": [
    {
     "name": "stdout",
     "output_type": "stream",
     "text": [
      "Loading systems from h100_DLA_sys_v2.tar.gz\n",
      "Skipping a likely folder: SYS\n"
     ]
    },
    {
     "name": "stderr",
     "output_type": "stream",
     "text": [
      "/home/xavier/local/Python/linetools/linetools/spectralline.py:200: UserWarning: Redshift not input.  Setting to 0 for zLimits\n",
      "  warnings.warn(\"Redshift not input.  Setting to 0 for zLimits\")\n",
      "/home/xavier/local/Python/linetools/linetools/spectralline.py:117: UserWarning: Key mol not in your input dict\n",
      "  warnings.warn(\"Key {:s} not in your input dict\".format(key))\n"
     ]
    }
   ],
   "source": [
    "dla_survey = pyisu.load_sys_files('h100_DLA_sys_v2.tar.gz', 'DLA', use_coord=True)"
   ]
  },
  {
   "cell_type": "code",
   "execution_count": 15,
   "metadata": {},
   "outputs": [
    {
     "name": "stderr",
     "output_type": "stream",
     "text": [
      "/home/xavier/local/Python/linetools/linetools/isgm/abscomponent.py:237: UserWarning: No stars provided.  Adding one because Ej > 0.\n",
      "  warnings.warn(\"No stars provided.  Adding one because Ej > 0.\")\n"
     ]
    }
   ],
   "source": [
    "dla_survey.fill_ions(use_components=True)"
   ]
  },
  {
   "cell_type": "code",
   "execution_count": 16,
   "metadata": {},
   "outputs": [],
   "source": [
    "CIIs2 = dla_survey.ions((6,2),Ej=63.42/u.cm)"
   ]
  },
  {
   "cell_type": "code",
   "execution_count": 17,
   "metadata": {},
   "outputs": [
    {
     "data": {
      "text/html": [
       "&lt;Table length=100&gt;\n",
       "<table id=\"table140295673704632\" class=\"table-striped table-bordered table-condensed\">\n",
       "<thead><tr><th>name</th><th>Z</th><th>ion</th><th>A</th><th>Ej</th><th>z</th><th>vmin</th><th>vmax</th><th>flag_N</th><th>logN</th><th>sig_logN</th></tr></thead>\n",
       "<thead><tr><th></th><th></th><th></th><th></th><th>1 / cm</th><th></th><th>km / s</th><th>km / s</th><th></th><th></th><th></th></tr></thead>\n",
       "<thead><tr><th>str32</th><th>int64</th><th>int64</th><th>int64</th><th>float64</th><th>float64</th><th>float64</th><th>float64</th><th>int64</th><th>float64</th><th>float64</th></tr></thead>\n",
       "<tr><td>J1051+3107_z4.139</td><td>6</td><td>2</td><td>0</td><td>63.42</td><td>4.1392</td><td>-100.0</td><td>170.0</td><td>3</td><td>13.0142</td><td>0.1448</td></tr>\n",
       "<tr><td>J0929+2825_z3.263</td><td>6</td><td>2</td><td>0</td><td>63.42</td><td>3.2627</td><td>-60.0</td><td>110.0</td><td>1</td><td>13.1896</td><td>0.0262</td></tr>\n",
       "<tr><td>Q0201+11_z3.387</td><td>6</td><td>2</td><td>0</td><td>63.42</td><td>3.38686</td><td>0.0</td><td>0.0</td><td>1</td><td>14.117</td><td>0.1009</td></tr>\n",
       "<tr><td>Q0000-2619_z3.390</td><td>0</td><td>0</td><td>0</td><td>0.0</td><td>0.0</td><td>0.0</td><td>0.0</td><td>0</td><td>0.0</td><td>0.0</td></tr>\n",
       "<tr><td>J0255+00_z3.915</td><td>6</td><td>2</td><td>0</td><td>63.42</td><td>3.91462</td><td>-35.0</td><td>35.0</td><td>1</td><td>13.4095</td><td>0.038</td></tr>\n",
       "<tr><td>Q0201+36_z2.463</td><td>0</td><td>0</td><td>0</td><td>0.0</td><td>0.0</td><td>0.0</td><td>0.0</td><td>0</td><td>0.0</td><td>0.0</td></tr>\n",
       "<tr><td>J1200+4015_z3.220</td><td>6</td><td>2</td><td>0</td><td>63.42</td><td>3.22</td><td>-150.0</td><td>69.9999999999</td><td>1</td><td>13.6832</td><td>0.0269</td></tr>\n",
       "<tr><td>BR2237-0607_z4.080</td><td>6</td><td>2</td><td>0</td><td>63.42</td><td>4.0803</td><td>0.0</td><td>0.0</td><td>3</td><td>12.53</td><td>0.153</td></tr>\n",
       "<tr><td>J1202+3235_z5.065</td><td>6</td><td>2</td><td>0</td><td>63.42</td><td>5.0647</td><td>-30.0</td><td>20.0000000001</td><td>3</td><td>12.635</td><td>0.1448</td></tr>\n",
       "<tr><td>...</td><td>...</td><td>...</td><td>...</td><td>...</td><td>...</td><td>...</td><td>...</td><td>...</td><td>...</td><td>...</td></tr>\n",
       "<tr><td>Q1759+75_z2.625</td><td>6</td><td>2</td><td>0</td><td>63.42</td><td>2.6253</td><td>-60.0</td><td>60.0</td><td>1</td><td>13.1433</td><td>0.0331</td></tr>\n",
       "<tr><td>Q2359-02_z2.095</td><td>6</td><td>2</td><td>0</td><td>63.42</td><td>2.09507</td><td>-20.2905838557</td><td>39.7094161443</td><td>1</td><td>13.697</td><td>0.0629</td></tr>\n",
       "<tr><td>Q0216+08_z2.293</td><td>0</td><td>0</td><td>0</td><td>0.0</td><td>0.0</td><td>0.0</td><td>0.0</td><td>0</td><td>0.0</td><td>0.0</td></tr>\n",
       "<tr><td>Q0149+33_z2.141</td><td>6</td><td>2</td><td>0</td><td>63.42</td><td>2.14076</td><td>-60.47726101</td><td>49.5227389898</td><td>3</td><td>12.7908</td><td>0.1448</td></tr>\n",
       "<tr><td>PSS0957+33_z3.280</td><td>0</td><td>0</td><td>0</td><td>0.0</td><td>0.0</td><td>0.0</td><td>0.0</td><td>0</td><td>0.0</td><td>0.0</td></tr>\n",
       "<tr><td>J0255+00_z3.253</td><td>0</td><td>0</td><td>0</td><td>0.0</td><td>0.0</td><td>0.0</td><td>0.0</td><td>0</td><td>0.0</td><td>0.0</td></tr>\n",
       "<tr><td>Q1215+33_z1.999</td><td>6</td><td>2</td><td>0</td><td>63.42</td><td>1.9991</td><td>-70.0</td><td>30.0</td><td>3</td><td>13.182</td><td>0.1448</td></tr>\n",
       "<tr><td>J1541+3153_z2.443</td><td>6</td><td>2</td><td>0</td><td>63.42</td><td>2.4435</td><td>-50.0</td><td>70.0</td><td>1</td><td>13.0755</td><td>0.0923</td></tr>\n",
       "<tr><td>J1607+1604_z4.474</td><td>6</td><td>2</td><td>0</td><td>63.42</td><td>4.4741</td><td>-55.0</td><td>45.0</td><td>1</td><td>13.107</td><td>0.0964</td></tr>\n",
       "<tr><td>Q1331+17_z1.776</td><td>6</td><td>2</td><td>0</td><td>63.42</td><td>1.77636</td><td>0.0</td><td>0.0</td><td>1</td><td>14.05</td><td>0.0501</td></tr>\n",
       "</table>"
      ],
      "text/plain": [
       "<Table length=100>\n",
       "       name          Z    ion    A   ...      vmax     flag_N   logN  sig_logN\n",
       "                                     ...     km / s                           \n",
       "      str32        int64 int64 int64 ...    float64    int64  float64 float64 \n",
       "------------------ ----- ----- ----- ... ------------- ------ ------- --------\n",
       " J1051+3107_z4.139     6     2     0 ...         170.0      3 13.0142   0.1448\n",
       " J0929+2825_z3.263     6     2     0 ...         110.0      1 13.1896   0.0262\n",
       "   Q0201+11_z3.387     6     2     0 ...           0.0      1  14.117   0.1009\n",
       " Q0000-2619_z3.390     0     0     0 ...           0.0      0     0.0      0.0\n",
       "   J0255+00_z3.915     6     2     0 ...          35.0      1 13.4095    0.038\n",
       "   Q0201+36_z2.463     0     0     0 ...           0.0      0     0.0      0.0\n",
       " J1200+4015_z3.220     6     2     0 ... 69.9999999999      1 13.6832   0.0269\n",
       "BR2237-0607_z4.080     6     2     0 ...           0.0      3   12.53    0.153\n",
       " J1202+3235_z5.065     6     2     0 ... 20.0000000001      3  12.635   0.1448\n",
       "               ...   ...   ...   ... ...           ...    ...     ...      ...\n",
       "   Q1759+75_z2.625     6     2     0 ...          60.0      1 13.1433   0.0331\n",
       "   Q2359-02_z2.095     6     2     0 ... 39.7094161443      1  13.697   0.0629\n",
       "   Q0216+08_z2.293     0     0     0 ...           0.0      0     0.0      0.0\n",
       "   Q0149+33_z2.141     6     2     0 ... 49.5227389898      3 12.7908   0.1448\n",
       " PSS0957+33_z3.280     0     0     0 ...           0.0      0     0.0      0.0\n",
       "   J0255+00_z3.253     0     0     0 ...           0.0      0     0.0      0.0\n",
       "   Q1215+33_z1.999     6     2     0 ...          30.0      3  13.182   0.1448\n",
       " J1541+3153_z2.443     6     2     0 ...          70.0      1 13.0755   0.0923\n",
       " J1607+1604_z4.474     6     2     0 ...          45.0      1  13.107   0.0964\n",
       "   Q1331+17_z1.776     6     2     0 ...           0.0      1   14.05   0.0501"
      ]
     },
     "execution_count": 17,
     "metadata": {},
     "output_type": "execute_result"
    }
   ],
   "source": [
    "CIIs2"
   ]
  },
  {
   "cell_type": "code",
   "execution_count": null,
   "metadata": {
    "collapsed": true
   },
   "outputs": [],
   "source": []
  }
 ],
 "metadata": {
  "kernelspec": {
   "display_name": "Python 3",
   "language": "python",
   "name": "python3"
  },
  "language_info": {
   "codemirror_mode": {
    "name": "ipython",
    "version": 3
   },
   "file_extension": ".py",
   "mimetype": "text/x-python",
   "name": "python",
   "nbconvert_exporter": "python",
   "pygments_lexer": "ipython3",
   "version": "3.6.1"
  }
 },
 "nbformat": 4,
 "nbformat_minor": 2
}
