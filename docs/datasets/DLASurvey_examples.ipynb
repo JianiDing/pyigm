{
 "cells": [
  {
   "cell_type": "markdown",
   "metadata": {},
   "source": [
    "# Examples for the DLA Survey Class (v1.4.1)"
   ]
  },
  {
   "cell_type": "code",
   "execution_count": 1,
   "metadata": {
    "collapsed": true
   },
   "outputs": [],
   "source": [
    "%matplotlib inline"
   ]
  },
  {
   "cell_type": "code",
   "execution_count": 2,
   "metadata": {},
   "outputs": [
    {
     "data": {
      "text/html": [
       "\n",
       "    <div class=\"bk-root\">\n",
       "        <a href=\"http://bokeh.pydata.org\" target=\"_blank\" class=\"bk-logo bk-logo-small bk-logo-notebook\"></a>\n",
       "        <span id=\"82358238-f1ef-4307-8e30-e79c85b9c2c4\">Loading BokehJS ...</span>\n",
       "    </div>"
      ]
     },
     "metadata": {},
     "output_type": "display_data"
    },
    {
     "data": {
      "application/javascript": [
       "\n",
       "(function(global) {\n",
       "  function now() {\n",
       "    return new Date();\n",
       "  }\n",
       "\n",
       "  var force = true;\n",
       "\n",
       "  if (typeof (window._bokeh_onload_callbacks) === \"undefined\" || force === true) {\n",
       "    window._bokeh_onload_callbacks = [];\n",
       "    window._bokeh_is_loading = undefined;\n",
       "  }\n",
       "\n",
       "\n",
       "  \n",
       "  if (typeof (window._bokeh_timeout) === \"undefined\" || force === true) {\n",
       "    window._bokeh_timeout = Date.now() + 5000;\n",
       "    window._bokeh_failed_load = false;\n",
       "  }\n",
       "\n",
       "  var NB_LOAD_WARNING = {'data': {'text/html':\n",
       "     \"<div style='background-color: #fdd'>\\n\"+\n",
       "     \"<p>\\n\"+\n",
       "     \"BokehJS does not appear to have successfully loaded. If loading BokehJS from CDN, this \\n\"+\n",
       "     \"may be due to a slow or bad network connection. Possible fixes:\\n\"+\n",
       "     \"</p>\\n\"+\n",
       "     \"<ul>\\n\"+\n",
       "     \"<li>re-rerun `output_notebook()` to attempt to load from CDN again, or</li>\\n\"+\n",
       "     \"<li>use INLINE resources instead, as so:</li>\\n\"+\n",
       "     \"</ul>\\n\"+\n",
       "     \"<code>\\n\"+\n",
       "     \"from bokeh.resources import INLINE\\n\"+\n",
       "     \"output_notebook(resources=INLINE)\\n\"+\n",
       "     \"</code>\\n\"+\n",
       "     \"</div>\"}};\n",
       "\n",
       "  function display_loaded() {\n",
       "    if (window.Bokeh !== undefined) {\n",
       "      var el = document.getElementById(\"82358238-f1ef-4307-8e30-e79c85b9c2c4\");\n",
       "      el.textContent = \"BokehJS \" + Bokeh.version + \" successfully loaded.\";\n",
       "    } else if (Date.now() < window._bokeh_timeout) {\n",
       "      setTimeout(display_loaded, 100)\n",
       "    }\n",
       "  }\n",
       "\n",
       "  function run_callbacks() {\n",
       "    window._bokeh_onload_callbacks.forEach(function(callback) { callback() });\n",
       "    delete window._bokeh_onload_callbacks\n",
       "    console.info(\"Bokeh: all callbacks have finished\");\n",
       "  }\n",
       "\n",
       "  function load_libs(js_urls, callback) {\n",
       "    window._bokeh_onload_callbacks.push(callback);\n",
       "    if (window._bokeh_is_loading > 0) {\n",
       "      console.log(\"Bokeh: BokehJS is being loaded, scheduling callback at\", now());\n",
       "      return null;\n",
       "    }\n",
       "    if (js_urls == null || js_urls.length === 0) {\n",
       "      run_callbacks();\n",
       "      return null;\n",
       "    }\n",
       "    console.log(\"Bokeh: BokehJS not loaded, scheduling load and callback at\", now());\n",
       "    window._bokeh_is_loading = js_urls.length;\n",
       "    for (var i = 0; i < js_urls.length; i++) {\n",
       "      var url = js_urls[i];\n",
       "      var s = document.createElement('script');\n",
       "      s.src = url;\n",
       "      s.async = false;\n",
       "      s.onreadystatechange = s.onload = function() {\n",
       "        window._bokeh_is_loading--;\n",
       "        if (window._bokeh_is_loading === 0) {\n",
       "          console.log(\"Bokeh: all BokehJS libraries loaded\");\n",
       "          run_callbacks()\n",
       "        }\n",
       "      };\n",
       "      s.onerror = function() {\n",
       "        console.warn(\"failed to load library \" + url);\n",
       "      };\n",
       "      console.log(\"Bokeh: injecting script tag for BokehJS library: \", url);\n",
       "      document.getElementsByTagName(\"head\")[0].appendChild(s);\n",
       "    }\n",
       "  };var element = document.getElementById(\"82358238-f1ef-4307-8e30-e79c85b9c2c4\");\n",
       "  if (element == null) {\n",
       "    console.log(\"Bokeh: ERROR: autoload.js configured with elementid '82358238-f1ef-4307-8e30-e79c85b9c2c4' but no matching script tag was found. \")\n",
       "    return false;\n",
       "  }\n",
       "\n",
       "  var js_urls = [\"https://cdn.pydata.org/bokeh/release/bokeh-0.12.5.min.js\", \"https://cdn.pydata.org/bokeh/release/bokeh-widgets-0.12.5.min.js\"];\n",
       "\n",
       "  var inline_js = [\n",
       "    function(Bokeh) {\n",
       "      Bokeh.set_log_level(\"info\");\n",
       "    },\n",
       "    \n",
       "    function(Bokeh) {\n",
       "      \n",
       "    },\n",
       "    \n",
       "    function(Bokeh) {\n",
       "      \n",
       "      document.getElementById(\"82358238-f1ef-4307-8e30-e79c85b9c2c4\").textContent = \"BokehJS is loading...\";\n",
       "    },\n",
       "    function(Bokeh) {\n",
       "      console.log(\"Bokeh: injecting CSS: https://cdn.pydata.org/bokeh/release/bokeh-0.12.5.min.css\");\n",
       "      Bokeh.embed.inject_css(\"https://cdn.pydata.org/bokeh/release/bokeh-0.12.5.min.css\");\n",
       "      console.log(\"Bokeh: injecting CSS: https://cdn.pydata.org/bokeh/release/bokeh-widgets-0.12.5.min.css\");\n",
       "      Bokeh.embed.inject_css(\"https://cdn.pydata.org/bokeh/release/bokeh-widgets-0.12.5.min.css\");\n",
       "    }\n",
       "  ];\n",
       "\n",
       "  function run_inline_js() {\n",
       "    \n",
       "    if ((window.Bokeh !== undefined) || (force === true)) {\n",
       "      for (var i = 0; i < inline_js.length; i++) {\n",
       "        inline_js[i](window.Bokeh);\n",
       "      }if (force === true) {\n",
       "        display_loaded();\n",
       "      }} else if (Date.now() < window._bokeh_timeout) {\n",
       "      setTimeout(run_inline_js, 100);\n",
       "    } else if (!window._bokeh_failed_load) {\n",
       "      console.log(\"Bokeh: BokehJS failed to load within specified timeout.\");\n",
       "      window._bokeh_failed_load = true;\n",
       "    } else if (force !== true) {\n",
       "      var cell = $(document.getElementById(\"82358238-f1ef-4307-8e30-e79c85b9c2c4\")).parents('.cell').data().cell;\n",
       "      cell.output_area.append_execute_result(NB_LOAD_WARNING)\n",
       "    }\n",
       "\n",
       "  }\n",
       "\n",
       "  if (window._bokeh_is_loading === 0) {\n",
       "    console.log(\"Bokeh: BokehJS loaded, going straight to plotting\");\n",
       "    run_inline_js();\n",
       "  } else {\n",
       "    load_libs(js_urls, function() {\n",
       "      console.log(\"Bokeh: BokehJS plotting callback run at\", now());\n",
       "      run_inline_js();\n",
       "    });\n",
       "  }\n",
       "}(this));"
      ]
     },
     "metadata": {},
     "output_type": "display_data"
    },
    {
     "name": "stdout",
     "output_type": "stream",
     "text": [
      "read_sets: Using set file -- \n",
      "  /home/xavier/local/Python/linetools/linetools/lists/sets/llist_v1.2.ascii\n",
      "Loading abundances from Asplund2009\n",
      "Abundances are relative by number on a logarithmic scale with H=12\n"
     ]
    },
    {
     "name": "stderr",
     "output_type": "stream",
     "text": [
      "/home/xavier/.pyenv/versions/anaconda3-4.4.0/lib/python3.6/site-packages/astropy/table/column.py:1096: MaskedArrayFutureWarning: setting an item on a masked array which has a shared mask will not copy the mask and also change the original mask array in the future.\n",
      "Check the NumPy 1.11 release notes for more information.\n",
      "  ma.MaskedArray.__setitem__(self, index, value)\n",
      "/home/xavier/local/Python/linetools/linetools/lists/linelist.py:402: RuntimeWarning: divide by zero encountered in log10\n",
      "  self._extra_table['log(w*f)'] = np.log10(qm_strength)\n"
     ]
    }
   ],
   "source": [
    "# imports\n",
    "import seaborn as sns; sns.set_style(\"white\")\n",
    "\n",
    "import imp, os\n",
    "from imp import reload\n",
    "import numpy as np\n",
    "\n",
    "import datetime\n",
    "\n",
    "from pkg_resources import resource_filename\n",
    "\n",
    "from matplotlib import pyplot as plt\n",
    "\n",
    "from bokeh.io import output_notebook, show, output_file\n",
    "from bokeh.plotting import figure\n",
    "from bokeh.models import Range1d\n",
    "from bokeh.layouts import row\n",
    "\n",
    "output_notebook()\n",
    "\n",
    "from astropy.table import Table\n",
    "\n",
    "from pyigm.surveys.dlasurvey import DLASurvey\n",
    "from pyigm.surveys import dlasurvey as dlasrv\n",
    "from pyigm.abssys.igmsys import AbsSubSystem"
   ]
  },
  {
   "cell_type": "markdown",
   "metadata": {},
   "source": [
    "## Instantiate"
   ]
  },
  {
   "cell_type": "code",
   "execution_count": 3,
   "metadata": {
    "collapsed": true
   },
   "outputs": [],
   "source": [
    "dlas = DLASurvey(ref='null')"
   ]
  },
  {
   "cell_type": "markdown",
   "metadata": {},
   "source": [
    "### H100  (Neeleman, M. et al. 2013, ApJ, 769, 54)"
   ]
  },
  {
   "cell_type": "code",
   "execution_count": 4,
   "metadata": {
    "scrolled": true
   },
   "outputs": [
    {
     "name": "stdout",
     "output_type": "stream",
     "text": [
      "2017-09-24 19:08:08.390484\n",
      "H100: Loading summary file /home/xavier/local/Python/pyigm/pyigm/data/DLA/H100/H100_DLA.fits\n",
      "H100: Loading ions file /home/xavier/local/Python/pyigm/pyigm/data/DLA/H100/H100_DLA_ions.json\n",
      "H100: Loading systems.  This takes ~90s\n",
      "Loading systems from /home/xavier/local/Python/pyigm/pyigm/data/DLA/H100/H100_DLA_sys.tar.gz\n",
      "Skipping a likely folder: SYS\n"
     ]
    },
    {
     "name": "stderr",
     "output_type": "stream",
     "text": [
      "/home/xavier/local/Python/linetools/linetools/spectralline.py:200: UserWarning: Redshift not input.  Setting to 0 for zLimits\n",
      "  warnings.warn(\"Redshift not input.  Setting to 0 for zLimits\")\n",
      "/home/xavier/local/Python/linetools/linetools/spectralline.py:117: UserWarning: Key Id not in your input dict\n",
      "  warnings.warn(\"Key {:s} not in your input dict\".format(key))\n",
      "/home/xavier/local/Python/linetools/linetools/isgm/abscomponent.py:237: UserWarning: No stars provided.  Adding one because Ej > 0.\n",
      "  warnings.warn(\"No stars provided.  Adding one because Ej > 0.\")\n"
     ]
    },
    {
     "name": "stdout",
     "output_type": "stream",
     "text": [
      "2017-09-24 19:09:57.395952\n"
     ]
    },
    {
     "data": {
      "text/plain": [
       "<IGMSurvey: nsys=100, type=DLA, ref=Neeleman+13>"
      ]
     },
     "execution_count": 4,
     "metadata": {},
     "output_type": "execute_result"
    }
   ],
   "source": [
    "reload(dlasrv)\n",
    "print(datetime.datetime.now())\n",
    "h100 = dlasrv.DLASurvey.load_H100()\n",
    "print(datetime.datetime.now())\n",
    "h100"
   ]
  },
  {
   "cell_type": "markdown",
   "metadata": {},
   "source": [
    "#### Grab spectra (be patient; may require Internet access)"
   ]
  },
  {
   "cell_type": "code",
   "execution_count": 5,
   "metadata": {},
   "outputs": [
    {
     "name": "stdout",
     "output_type": "stream",
     "text": [
      "H100: Loading summary file /home/xavier/local/Python/pyigm/pyigm/data/DLA/H100/H100_DLA.fits\n",
      "H100: Loading ions file /home/xavier/local/Python/pyigm/pyigm/data/DLA/H100/H100_DLA_ions.json\n",
      "H100: Loading systems.  This takes ~90s\n",
      "Loading systems from /home/xavier/local/Python/pyigm/pyigm/data/DLA/H100/H100_DLA_sys.tar.gz\n",
      "Skipping a likely folder: SYS\n"
     ]
    },
    {
     "name": "stderr",
     "output_type": "stream",
     "text": [
      "/home/xavier/local/Python/linetools/linetools/spectralline.py:200: UserWarning: Redshift not input.  Setting to 0 for zLimits\n",
      "  warnings.warn(\"Redshift not input.  Setting to 0 for zLimits\")\n",
      "/home/xavier/local/Python/linetools/linetools/spectralline.py:117: UserWarning: Key Id not in your input dict\n",
      "  warnings.warn(\"Key {:s} not in your input dict\".format(key))\n",
      "/home/xavier/local/Python/linetools/linetools/isgm/abscomponent.py:237: UserWarning: No stars provided.  Adding one because Ej > 0.\n",
      "  warnings.warn(\"No stars provided.  Adding one because Ej > 0.\")\n"
     ]
    },
    {
     "name": "stdout",
     "output_type": "stream",
     "text": [
      "H100: Using files in /home/xavier/local/Python/pyigm/pyigm/data/DLA/H100/Spectra/\n"
     ]
    },
    {
     "name": "stderr",
     "output_type": "stream",
     "text": [
      "/home/xavier/local/Python/pyigm/pyigm/surveys/dlasurvey.py:223: UserWarning: All of these spectra are in igmspec at https://github.com/specdb/specdb\n",
      "  warnings.warn(\"All of these spectra are in igmspec at https://github.com/specdb/specdb\")\n"
     ]
    }
   ],
   "source": [
    "h100 = DLASurvey.load_H100(grab_spectra=True)"
   ]
  },
  {
   "cell_type": "markdown",
   "metadata": {},
   "source": [
    "#### Metallicity"
   ]
  },
  {
   "cell_type": "code",
   "execution_count": 6,
   "metadata": {},
   "outputs": [
    {
     "data": {
      "text/plain": [
       "array([-0.72, -1.53, -1.68, -1.01, -1.39, -1.41, -1.43, -1.2 , -0.24,\n",
       "       -1.83, -2.54, -0.61, -0.88, -1.72, -1.49, -1.08, -1.39, -1.11,\n",
       "       -1.27, -0.27, -1.54, -2.28, -1.83, -2.07, -1.15, -1.68, -1.5 ,\n",
       "       -1.11, -1.46, -1.33, -0.82, -2.52, -0.67, -1.56, -1.69, -1.64,\n",
       "       -2.56, -1.51, -1.08, -1.45, -0.83, -0.82, -1.97, -0.94, -1.99,\n",
       "       -1.88, -2.27, -1.6 , -1.68, -0.99, -1.74, -1.8 , -1.9 , -1.6 ,\n",
       "       -1.25, -1.38, -0.64, -0.74, -2.38, -2.35, -2.66, -1.75, -1.  ,\n",
       "       -0.79, -1.43, -1.54, -1.39, -1.65, -1.54, -1.34, -1.75, -2.27,\n",
       "       -1.37, -1.31, -0.89, -1.94, -0.75, -1.42, -1.31, -0.94, -2.24,\n",
       "       -1.49, -1.7 , -1.65, -0.7 , -1.81, -0.38, -2.25, -2.17, -0.71,\n",
       "       -0.61, -1.82, -1.68, -0.55, -1.96, -0.47, -1.69, -0.64, -1.92, -2.01])"
      ]
     },
     "execution_count": 6,
     "metadata": {},
     "output_type": "execute_result"
    }
   ],
   "source": [
    "h100.ZH"
   ]
  },
  {
   "cell_type": "markdown",
   "metadata": {},
   "source": [
    "## Simple Attributes"
   ]
  },
  {
   "cell_type": "code",
   "execution_count": 7,
   "metadata": {},
   "outputs": [
    {
     "data": {
      "text/plain": [
       "100"
      ]
     },
     "execution_count": 7,
     "metadata": {},
     "output_type": "execute_result"
    }
   ],
   "source": [
    "h100.nsys"
   ]
  },
  {
   "cell_type": "code",
   "execution_count": 8,
   "metadata": {},
   "outputs": [
    {
     "data": {
      "text/plain": [
       "array([ 20.7 ,  20.3 ,  21.41,  20.92,  20.3 ,  21.37,  20.5 ,  21.26,\n",
       "        20.38,  20.45])"
      ]
     },
     "execution_count": 8,
     "metadata": {},
     "output_type": "execute_result"
    }
   ],
   "source": [
    "h100.NHI[0:10]"
   ]
  },
  {
   "cell_type": "code",
   "execution_count": 9,
   "metadata": {},
   "outputs": [
    {
     "data": {
      "text/plain": [
       "array(['Q2359-02_z2.095', 'Q2359-02_z2.154', 'Q0000-2619_z3.390',\n",
       "       'BR0019-15_z3.439', 'J0040-0915_z4.739'], \n",
       "      dtype='<U18')"
      ]
     },
     "execution_count": 9,
     "metadata": {},
     "output_type": "execute_result"
    }
   ],
   "source": [
    "h100.name[0:5]"
   ]
  },
  {
   "cell_type": "markdown",
   "metadata": {},
   "source": [
    "## Column Densities"
   ]
  },
  {
   "cell_type": "code",
   "execution_count": 10,
   "metadata": {},
   "outputs": [
    {
     "data": {
      "text/html": [
       "&lt;Table length=5&gt;\n",
       "<table id=\"table140677817958072\" class=\"table-striped table-bordered table-condensed\">\n",
       "<thead><tr><th>name</th><th>Z</th><th>ion</th><th>A</th><th>Ej</th><th>z</th><th>vmin</th><th>vmax</th><th>flag_N</th><th>logN</th><th>sig_logN</th></tr></thead>\n",
       "<thead><tr><th></th><th></th><th></th><th></th><th>1 / cm</th><th></th><th>km / s</th><th>km / s</th><th></th><th></th><th></th></tr></thead>\n",
       "<thead><tr><th>str32</th><th>int64</th><th>int64</th><th>int64</th><th>float64</th><th>float64</th><th>float64</th><th>float64</th><th>int64</th><th>float64</th><th>float64</th></tr></thead>\n",
       "<tr><td>Q2359-02_z2.095</td><td>14</td><td>2</td><td>0</td><td>0.0</td><td>2.09507</td><td>-170.290583856</td><td>99.7094161443</td><td>1</td><td>15.486</td><td>0.02</td></tr>\n",
       "<tr><td>Q2359-02_z2.154</td><td>14</td><td>2</td><td>0</td><td>0.0</td><td>2.153934</td><td>-170.0</td><td>180.0</td><td>1</td><td>14.277</td><td>0.015</td></tr>\n",
       "<tr><td>Q0000-2619_z3.390</td><td>14</td><td>2</td><td>0</td><td>0.0</td><td>3.3901</td><td>-70.0000000001</td><td>100.0</td><td>1</td><td>15.088</td><td>0.012</td></tr>\n",
       "<tr><td>BR0019-15_z3.439</td><td>14</td><td>2</td><td>0</td><td>0.0</td><td>3.43886</td><td>-170.0</td><td>100.0</td><td>1</td><td>15.419</td><td>0.054</td></tr>\n",
       "<tr><td>J0040-0915_z4.739</td><td>14</td><td>2</td><td>0</td><td>0.0</td><td>4.7394</td><td>-40.0</td><td>70.0</td><td>2</td><td>14.178</td><td>0.727</td></tr>\n",
       "</table>"
      ],
      "text/plain": [
       "<Table length=5>\n",
       "       name         Z    ion    A   ...      vmax     flag_N   logN  sig_logN\n",
       "                                    ...     km / s                           \n",
       "      str32       int64 int64 int64 ...    float64    int64  float64 float64 \n",
       "----------------- ----- ----- ----- ... ------------- ------ ------- --------\n",
       "  Q2359-02_z2.095    14     2     0 ... 99.7094161443      1  15.486     0.02\n",
       "  Q2359-02_z2.154    14     2     0 ...         180.0      1  14.277    0.015\n",
       "Q0000-2619_z3.390    14     2     0 ...         100.0      1  15.088    0.012\n",
       " BR0019-15_z3.439    14     2     0 ...         100.0      1  15.419    0.054\n",
       "J0040-0915_z4.739    14     2     0 ...          70.0      2  14.178    0.727"
      ]
     },
     "execution_count": 10,
     "metadata": {},
     "output_type": "execute_result"
    }
   ],
   "source": [
    "SiII_clms = h100.ions((14,2))\n",
    "SiII_clms[0:5]"
   ]
  },
  {
   "cell_type": "code",
   "execution_count": 11,
   "metadata": {},
   "outputs": [
    {
     "data": {
      "text/plain": [
       "98"
      ]
     },
     "execution_count": 11,
     "metadata": {},
     "output_type": "execute_result"
    }
   ],
   "source": [
    "gdSiII = SiII_clms['flag_N']>0\n",
    "np.sum(gdSiII)"
   ]
  },
  {
   "cell_type": "code",
   "execution_count": 12,
   "metadata": {},
   "outputs": [
    {
     "data": {
      "text/plain": [
       "array(['BRI0952-01_z4.024', 'Q1055+46_z3.317'], \n",
       "      dtype='<U18')"
      ]
     },
     "execution_count": 12,
     "metadata": {},
     "output_type": "execute_result"
    }
   ],
   "source": [
    "h100.name[~gdSiII]"
   ]
  },
  {
   "cell_type": "markdown",
   "metadata": {},
   "source": [
    "## Simple Plots"
   ]
  },
  {
   "cell_type": "code",
   "execution_count": 13,
   "metadata": {},
   "outputs": [
    {
     "data": {
      "text/html": [
       "\n",
       "\n",
       "    <div class=\"bk-root\">\n",
       "        <div class=\"bk-plotdiv\" id=\"26125168-faa6-4d86-8d86-9b008c428c23\"></div>\n",
       "    </div>\n",
       "<script type=\"text/javascript\">\n",
       "  \n",
       "  (function(global) {\n",
       "    function now() {\n",
       "      return new Date();\n",
       "    }\n",
       "  \n",
       "    var force = false;\n",
       "  \n",
       "    if (typeof (window._bokeh_onload_callbacks) === \"undefined\" || force === true) {\n",
       "      window._bokeh_onload_callbacks = [];\n",
       "      window._bokeh_is_loading = undefined;\n",
       "    }\n",
       "  \n",
       "  \n",
       "    \n",
       "    if (typeof (window._bokeh_timeout) === \"undefined\" || force === true) {\n",
       "      window._bokeh_timeout = Date.now() + 0;\n",
       "      window._bokeh_failed_load = false;\n",
       "    }\n",
       "  \n",
       "    var NB_LOAD_WARNING = {'data': {'text/html':\n",
       "       \"<div style='background-color: #fdd'>\\n\"+\n",
       "       \"<p>\\n\"+\n",
       "       \"BokehJS does not appear to have successfully loaded. If loading BokehJS from CDN, this \\n\"+\n",
       "       \"may be due to a slow or bad network connection. Possible fixes:\\n\"+\n",
       "       \"</p>\\n\"+\n",
       "       \"<ul>\\n\"+\n",
       "       \"<li>re-rerun `output_notebook()` to attempt to load from CDN again, or</li>\\n\"+\n",
       "       \"<li>use INLINE resources instead, as so:</li>\\n\"+\n",
       "       \"</ul>\\n\"+\n",
       "       \"<code>\\n\"+\n",
       "       \"from bokeh.resources import INLINE\\n\"+\n",
       "       \"output_notebook(resources=INLINE)\\n\"+\n",
       "       \"</code>\\n\"+\n",
       "       \"</div>\"}};\n",
       "  \n",
       "    function display_loaded() {\n",
       "      if (window.Bokeh !== undefined) {\n",
       "        var el = document.getElementById(\"26125168-faa6-4d86-8d86-9b008c428c23\");\n",
       "        el.textContent = \"BokehJS \" + Bokeh.version + \" successfully loaded.\";\n",
       "      } else if (Date.now() < window._bokeh_timeout) {\n",
       "        setTimeout(display_loaded, 100)\n",
       "      }\n",
       "    }\n",
       "  \n",
       "    function run_callbacks() {\n",
       "      window._bokeh_onload_callbacks.forEach(function(callback) { callback() });\n",
       "      delete window._bokeh_onload_callbacks\n",
       "      console.info(\"Bokeh: all callbacks have finished\");\n",
       "    }\n",
       "  \n",
       "    function load_libs(js_urls, callback) {\n",
       "      window._bokeh_onload_callbacks.push(callback);\n",
       "      if (window._bokeh_is_loading > 0) {\n",
       "        console.log(\"Bokeh: BokehJS is being loaded, scheduling callback at\", now());\n",
       "        return null;\n",
       "      }\n",
       "      if (js_urls == null || js_urls.length === 0) {\n",
       "        run_callbacks();\n",
       "        return null;\n",
       "      }\n",
       "      console.log(\"Bokeh: BokehJS not loaded, scheduling load and callback at\", now());\n",
       "      window._bokeh_is_loading = js_urls.length;\n",
       "      for (var i = 0; i < js_urls.length; i++) {\n",
       "        var url = js_urls[i];\n",
       "        var s = document.createElement('script');\n",
       "        s.src = url;\n",
       "        s.async = false;\n",
       "        s.onreadystatechange = s.onload = function() {\n",
       "          window._bokeh_is_loading--;\n",
       "          if (window._bokeh_is_loading === 0) {\n",
       "            console.log(\"Bokeh: all BokehJS libraries loaded\");\n",
       "            run_callbacks()\n",
       "          }\n",
       "        };\n",
       "        s.onerror = function() {\n",
       "          console.warn(\"failed to load library \" + url);\n",
       "        };\n",
       "        console.log(\"Bokeh: injecting script tag for BokehJS library: \", url);\n",
       "        document.getElementsByTagName(\"head\")[0].appendChild(s);\n",
       "      }\n",
       "    };var element = document.getElementById(\"26125168-faa6-4d86-8d86-9b008c428c23\");\n",
       "    if (element == null) {\n",
       "      console.log(\"Bokeh: ERROR: autoload.js configured with elementid '26125168-faa6-4d86-8d86-9b008c428c23' but no matching script tag was found. \")\n",
       "      return false;\n",
       "    }\n",
       "  \n",
       "    var js_urls = [];\n",
       "  \n",
       "    var inline_js = [\n",
       "      function(Bokeh) {\n",
       "        (function() {\n",
       "          var fn = function() {\n",
       "            var docs_json = {\"a6de080a-9267-4615-afc9-7b01366ada8e\":{\"roots\":{\"references\":[{\"attributes\":{\"callback\":null,\"column_names\":[\"left\",\"right\",\"top\"],\"data\":{\"left\":{\"__ndarray__\":\"MzMzMzMzNEAK16NwPUo0QOF6FK5HYTRAuB6F61F4NECPwvUoXI80QGZmZmZmpjRAPQrXo3C9NEAUrkfhetQ0QOtRuB6F6zRAwvUoXI8CNUCamZmZmRk1QHE9CtejMDVASOF6FK5HNUAfhetRuF41QPYoXI/CdTVAzczMzMyMNUCkcD0K16M1QHsUrkfhujVAUrgehevRNUApXI/C9eg1QA==\",\"dtype\":\"float64\",\"shape\":[20]},\"right\":{\"__ndarray__\":\"CtejcD1KNEDhehSuR2E0QLgehetReDRAj8L1KFyPNEBmZmZmZqY0QD0K16NwvTRAFK5H4XrUNEDrUbgehes0QML1KFyPAjVAmpmZmZkZNUBxPQrXozA1QEjhehSuRzVAH4XrUbheNUD2KFyPwnU1QM3MzMzMjDVApHA9CtejNUB7FK5H4bo1QFK4HoXr0TVAKVyPwvXoNUAAAAAAAAA2QA==\",\"dtype\":\"float64\",\"shape\":[20]},\"top\":{\"__ndarray__\":\"AAAAAAAAAAB6HMdxHMcBQCnHcRzHcew/t6qqqqqq+j8HAAAAAADwPynHcRzHcew/ehzHcRzH4T8px3Ecx3HcP3ocx3Ecx/E/7cVxHMdxvD8px3Ecx3HcP19VVVVVVdU/ehzHcRzH4T9fVVVVVVXVPynHcRzHccw/AAAAAAAAAAApx3Ecx3HMPynHcRzHcbw/AAAAAAAAAAAAAAAAAAAAAA==\",\"dtype\":\"float64\",\"shape\":[20]}}},\"id\":\"301d49a5-b71b-4314-bf02-547583c78746\",\"type\":\"ColumnDataSource\"},{\"attributes\":{\"plot\":{\"id\":\"e3b56a6b-d07f-469f-af51-09721790761f\",\"subtype\":\"Figure\",\"type\":\"Plot\"}},\"id\":\"ff71daac-e5be-4c12-b4f5-a3a62cb9580d\",\"type\":\"PanTool\"},{\"attributes\":{\"callback\":null,\"column_names\":[\"left\",\"right\",\"top\"],\"data\":{\"left\":{\"__ndarray__\":\"mpmZmZmZ+T9SuB6F61H8PwrXo3A9Cv8/4noUrkfhAEA+CtejcD0CQJqZmZmZmQNA9ihcj8L1BEBSuB6F61EGQK5H4XoUrgdACtejcD0KCUBmZmZmZmYKQML1KFyPwgtAH4XrUbgeDUB7FK5H4XoOQNejcD0K1w9AmpmZmZmZEEBI4XoUrkcRQPYoXI/C9RFApHA9CtejEkBSuB6F61ETQA==\",\"dtype\":\"float64\",\"shape\":[20]},\"right\":{\"__ndarray__\":\"UrgehetR/D8K16NwPQr/P+J6FK5H4QBAPgrXo3A9AkCamZmZmZkDQPYoXI/C9QRAUrgehetRBkCuR+F6FK4HQArXo3A9CglAZmZmZmZmCkDC9Shcj8ILQB+F61G4Hg1AexSuR+F6DkDXo3A9CtcPQJqZmZmZmRBASOF6FK5HEUD2KFyPwvURQKRwPQrXoxJAUrgehetRE0AAAAAAAAAUQA==\",\"dtype\":\"float64\",\"shape\":[20]},\"top\":{\"__ndarray__\":\"xXM9ZP9rrj9baKaefwPTP01opp5/A+M/xXM9ZP9rzj/Fcz1k/2veP8VzPWT/a94/1BYui//Q1j9baKaefwPjP0zFtXd/nto/H5FiqL8c4T/Fcz1k/2vOP69zPWT/a64/xXM9ZP9rzj/UFi6L/9DGP01opp5/A9M/W2imnn8D0z/UFi6L/9DWPwAAAAAAAAAA1BYui//Qxj8AAAAAAAAAAA==\",\"dtype\":\"float64\",\"shape\":[20]}}},\"id\":\"a75b01d2-3ae0-49fc-87d5-c3abe6791a68\",\"type\":\"ColumnDataSource\"},{\"attributes\":{\"axis_label\":\"N_HI\",\"formatter\":{\"id\":\"5fa5f1aa-83b7-48c3-84f0-bd536b2fd0a9\",\"type\":\"BasicTickFormatter\"},\"plot\":{\"id\":\"0c157992-ba26-4ae0-811a-72bc288b546f\",\"subtype\":\"Figure\",\"type\":\"Plot\"},\"ticker\":{\"id\":\"c5706a15-c479-42c8-a297-3a7f3ff47547\",\"type\":\"BasicTicker\"}},\"id\":\"5d130b64-76f4-4322-8ea9-357b063f87e7\",\"type\":\"LinearAxis\"},{\"attributes\":{},\"id\":\"a09c5f5e-1561-4a35-ab8e-4efdc224929b\",\"type\":\"ToolEvents\"},{\"attributes\":{\"active_drag\":\"auto\",\"active_scroll\":\"auto\",\"active_tap\":\"auto\",\"tools\":[{\"id\":\"a9c5de17-a338-4c57-826a-80107656ad08\",\"type\":\"PanTool\"},{\"id\":\"db5273f4-8706-49e3-a171-3966424f939d\",\"type\":\"WheelZoomTool\"},{\"id\":\"504306c9-ef21-4bbd-9999-de81040c9bee\",\"type\":\"BoxZoomTool\"},{\"id\":\"d5a1705e-ccc9-418e-a6f9-f80e968d2f98\",\"type\":\"SaveTool\"},{\"id\":\"6e9330a0-6d81-4a94-b0bb-6c5f0ffc231b\",\"type\":\"ResetTool\"},{\"id\":\"6f560823-d06a-4bca-82c7-fd3b6733ea32\",\"type\":\"HelpTool\"}]},\"id\":\"5f670b48-5533-4755-8db5-04aec95b5cfb\",\"type\":\"Toolbar\"},{\"attributes\":{},\"id\":\"c56c5881-660e-49df-a4f0-9d410ed1cbd7\",\"type\":\"BasicTicker\"},{\"attributes\":{\"bottom_units\":\"screen\",\"fill_alpha\":{\"value\":0.5},\"fill_color\":{\"value\":\"lightgrey\"},\"left_units\":\"screen\",\"level\":\"overlay\",\"line_alpha\":{\"value\":1.0},\"line_color\":{\"value\":\"black\"},\"line_dash\":[4,4],\"line_width\":{\"value\":2},\"plot\":null,\"render_mode\":\"css\",\"right_units\":\"screen\",\"top_units\":\"screen\"},\"id\":\"5058cc42-47cd-42db-bc64-df8973e0c6c6\",\"type\":\"BoxAnnotation\"},{\"attributes\":{\"bottom\":{\"value\":0},\"fill_alpha\":{\"value\":0.1},\"fill_color\":{\"value\":\"#1f77b4\"},\"left\":{\"field\":\"left\"},\"line_alpha\":{\"value\":0.1},\"line_color\":{\"value\":\"#1f77b4\"},\"right\":{\"field\":\"right\"},\"top\":{\"field\":\"top\"}},\"id\":\"4e0350f6-912f-4f88-a6f1-017c9ef6888a\",\"type\":\"Quad\"},{\"attributes\":{\"callback\":null},\"id\":\"9adbbad0-1f06-4160-96a6-e89c86cc25b1\",\"type\":\"DataRange1d\"},{\"attributes\":{},\"id\":\"c5706a15-c479-42c8-a297-3a7f3ff47547\",\"type\":\"BasicTicker\"},{\"attributes\":{\"plot\":{\"id\":\"0c157992-ba26-4ae0-811a-72bc288b546f\",\"subtype\":\"Figure\",\"type\":\"Plot\"}},\"id\":\"db5273f4-8706-49e3-a171-3966424f939d\",\"type\":\"WheelZoomTool\"},{\"attributes\":{\"plot\":{\"id\":\"e3b56a6b-d07f-469f-af51-09721790761f\",\"subtype\":\"Figure\",\"type\":\"Plot\"}},\"id\":\"c42bec60-69dd-4ace-898b-60fc73d9d784\",\"type\":\"HelpTool\"},{\"attributes\":{\"plot\":{\"id\":\"0c157992-ba26-4ae0-811a-72bc288b546f\",\"subtype\":\"Figure\",\"type\":\"Plot\"},\"ticker\":{\"id\":\"c5706a15-c479-42c8-a297-3a7f3ff47547\",\"type\":\"BasicTicker\"}},\"id\":\"c2fa1baa-1928-4b57-9114-161dcd919a5e\",\"type\":\"Grid\"},{\"attributes\":{\"bottom\":{\"value\":0},\"fill_color\":{\"value\":\"blue\"},\"left\":{\"field\":\"left\"},\"line_color\":{\"value\":\"#1f77b4\"},\"right\":{\"field\":\"right\"},\"top\":{\"field\":\"top\"}},\"id\":\"1dde1093-d509-40e1-bcfc-a4c0eaa15a5a\",\"type\":\"Quad\"},{\"attributes\":{},\"id\":\"2099e684-d6dc-4a90-8dc9-36c5fa4f5c11\",\"type\":\"BasicTicker\"},{\"attributes\":{},\"id\":\"c4f99dcf-18bb-4570-ac3b-3d8960f27174\",\"type\":\"BasicTickFormatter\"},{\"attributes\":{},\"id\":\"fe9c5cbc-26d4-4fba-bd89-078b9b3d42fe\",\"type\":\"BasicTickFormatter\"},{\"attributes\":{},\"id\":\"06c9bcb8-3719-4f12-bf4b-cb3ed172efbd\",\"type\":\"BasicTicker\"},{\"attributes\":{\"plot\":{\"id\":\"e3b56a6b-d07f-469f-af51-09721790761f\",\"subtype\":\"Figure\",\"type\":\"Plot\"},\"ticker\":{\"id\":\"06c9bcb8-3719-4f12-bf4b-cb3ed172efbd\",\"type\":\"BasicTicker\"}},\"id\":\"f01a132e-7f81-4905-984a-5df007740d1e\",\"type\":\"Grid\"},{\"attributes\":{\"plot\":{\"id\":\"0c157992-ba26-4ae0-811a-72bc288b546f\",\"subtype\":\"Figure\",\"type\":\"Plot\"}},\"id\":\"6f560823-d06a-4bca-82c7-fd3b6733ea32\",\"type\":\"HelpTool\"},{\"attributes\":{\"plot\":{\"id\":\"e3b56a6b-d07f-469f-af51-09721790761f\",\"subtype\":\"Figure\",\"type\":\"Plot\"}},\"id\":\"c08e92e8-cf5f-4c0e-823d-50f4cc6b19c4\",\"type\":\"SaveTool\"},{\"attributes\":{\"plot\":{\"id\":\"0c157992-ba26-4ae0-811a-72bc288b546f\",\"subtype\":\"Figure\",\"type\":\"Plot\"}},\"id\":\"6e9330a0-6d81-4a94-b0bb-6c5f0ffc231b\",\"type\":\"ResetTool\"},{\"attributes\":{\"plot\":null,\"text\":\"H100 z\"},\"id\":\"d55c2f0c-4329-45fa-a644-d8dc22b33bc3\",\"type\":\"Title\"},{\"attributes\":{\"callback\":null},\"id\":\"fc37b099-179a-4896-8a1b-039dc775d1b9\",\"type\":\"DataRange1d\"},{\"attributes\":{\"overlay\":{\"id\":\"5058cc42-47cd-42db-bc64-df8973e0c6c6\",\"type\":\"BoxAnnotation\"},\"plot\":{\"id\":\"0c157992-ba26-4ae0-811a-72bc288b546f\",\"subtype\":\"Figure\",\"type\":\"Plot\"}},\"id\":\"504306c9-ef21-4bbd-9999-de81040c9bee\",\"type\":\"BoxZoomTool\"},{\"attributes\":{\"plot\":{\"id\":\"0c157992-ba26-4ae0-811a-72bc288b546f\",\"subtype\":\"Figure\",\"type\":\"Plot\"}},\"id\":\"d5a1705e-ccc9-418e-a6f9-f80e968d2f98\",\"type\":\"SaveTool\"},{\"attributes\":{\"dimension\":1,\"plot\":{\"id\":\"0c157992-ba26-4ae0-811a-72bc288b546f\",\"subtype\":\"Figure\",\"type\":\"Plot\"},\"ticker\":{\"id\":\"2099e684-d6dc-4a90-8dc9-36c5fa4f5c11\",\"type\":\"BasicTicker\"}},\"id\":\"d87e52d1-3819-4b99-ad68-a570d71d751d\",\"type\":\"Grid\"},{\"attributes\":{\"active_drag\":\"auto\",\"active_scroll\":\"auto\",\"active_tap\":\"auto\",\"tools\":[{\"id\":\"ff71daac-e5be-4c12-b4f5-a3a62cb9580d\",\"type\":\"PanTool\"},{\"id\":\"711cb3ed-7f5b-40f6-8aa3-ba5bd0d56bb4\",\"type\":\"WheelZoomTool\"},{\"id\":\"70db4e3c-3cf3-4917-9338-21c1c9c3ed29\",\"type\":\"BoxZoomTool\"},{\"id\":\"c08e92e8-cf5f-4c0e-823d-50f4cc6b19c4\",\"type\":\"SaveTool\"},{\"id\":\"4f41c325-0330-4f33-b8ba-7bfbcdb14c62\",\"type\":\"ResetTool\"},{\"id\":\"c42bec60-69dd-4ace-898b-60fc73d9d784\",\"type\":\"HelpTool\"}]},\"id\":\"dc4025e9-e815-487b-8c3e-d42e5fa58637\",\"type\":\"Toolbar\"},{\"attributes\":{\"formatter\":{\"id\":\"fe9c5cbc-26d4-4fba-bd89-078b9b3d42fe\",\"type\":\"BasicTickFormatter\"},\"plot\":{\"id\":\"0c157992-ba26-4ae0-811a-72bc288b546f\",\"subtype\":\"Figure\",\"type\":\"Plot\"},\"ticker\":{\"id\":\"2099e684-d6dc-4a90-8dc9-36c5fa4f5c11\",\"type\":\"BasicTicker\"}},\"id\":\"93480e55-d68c-4d9d-97d0-a6885dfa5e7d\",\"type\":\"LinearAxis\"},{\"attributes\":{\"overlay\":{\"id\":\"02d9d1aa-81ee-4a18-811d-a411726ea23d\",\"type\":\"BoxAnnotation\"},\"plot\":{\"id\":\"e3b56a6b-d07f-469f-af51-09721790761f\",\"subtype\":\"Figure\",\"type\":\"Plot\"}},\"id\":\"70db4e3c-3cf3-4917-9338-21c1c9c3ed29\",\"type\":\"BoxZoomTool\"},{\"attributes\":{\"plot\":{\"id\":\"0c157992-ba26-4ae0-811a-72bc288b546f\",\"subtype\":\"Figure\",\"type\":\"Plot\"}},\"id\":\"a9c5de17-a338-4c57-826a-80107656ad08\",\"type\":\"PanTool\"},{\"attributes\":{},\"id\":\"5fa5f1aa-83b7-48c3-84f0-bd536b2fd0a9\",\"type\":\"BasicTickFormatter\"},{\"attributes\":{\"callback\":null},\"id\":\"7aa75066-a8f1-449a-bbb8-7b920c95415c\",\"type\":\"DataRange1d\"},{\"attributes\":{\"plot\":{\"id\":\"e3b56a6b-d07f-469f-af51-09721790761f\",\"subtype\":\"Figure\",\"type\":\"Plot\"}},\"id\":\"711cb3ed-7f5b-40f6-8aa3-ba5bd0d56bb4\",\"type\":\"WheelZoomTool\"},{\"attributes\":{\"formatter\":{\"id\":\"c4f99dcf-18bb-4570-ac3b-3d8960f27174\",\"type\":\"BasicTickFormatter\"},\"plot\":{\"id\":\"e3b56a6b-d07f-469f-af51-09721790761f\",\"subtype\":\"Figure\",\"type\":\"Plot\"},\"ticker\":{\"id\":\"c56c5881-660e-49df-a4f0-9d410ed1cbd7\",\"type\":\"BasicTicker\"}},\"id\":\"82f553f5-5378-46f5-9072-86a103466a2e\",\"type\":\"LinearAxis\"},{\"attributes\":{\"data_source\":{\"id\":\"301d49a5-b71b-4314-bf02-547583c78746\",\"type\":\"ColumnDataSource\"},\"glyph\":{\"id\":\"1dde1093-d509-40e1-bcfc-a4c0eaa15a5a\",\"type\":\"Quad\"},\"hover_glyph\":null,\"muted_glyph\":null,\"nonselection_glyph\":{\"id\":\"4e0350f6-912f-4f88-a6f1-017c9ef6888a\",\"type\":\"Quad\"},\"selection_glyph\":null},\"id\":\"336d2eb4-6f60-4020-a445-1d0bd901b3f0\",\"type\":\"GlyphRenderer\"},{\"attributes\":{\"bottom_units\":\"screen\",\"fill_alpha\":{\"value\":0.5},\"fill_color\":{\"value\":\"lightgrey\"},\"left_units\":\"screen\",\"level\":\"overlay\",\"line_alpha\":{\"value\":1.0},\"line_color\":{\"value\":\"black\"},\"line_dash\":[4,4],\"line_width\":{\"value\":2},\"plot\":null,\"render_mode\":\"css\",\"right_units\":\"screen\",\"top_units\":\"screen\"},\"id\":\"02d9d1aa-81ee-4a18-811d-a411726ea23d\",\"type\":\"BoxAnnotation\"},{\"attributes\":{\"bottom\":{\"value\":0},\"fill_alpha\":{\"value\":0.1},\"fill_color\":{\"value\":\"#1f77b4\"},\"left\":{\"field\":\"left\"},\"line_alpha\":{\"value\":0.1},\"line_color\":{\"value\":\"#1f77b4\"},\"right\":{\"field\":\"right\"},\"top\":{\"field\":\"top\"}},\"id\":\"271dd983-eed4-42ac-b028-d8bec57ebd7e\",\"type\":\"Quad\"},{\"attributes\":{},\"id\":\"5fb8a1ce-8ff8-4742-94e9-efc4df522660\",\"type\":\"BasicTickFormatter\"},{\"attributes\":{},\"id\":\"1a9b76c5-1e78-4191-bdaa-6fcdb0fed848\",\"type\":\"ToolEvents\"},{\"attributes\":{\"axis_label\":\"z_DLA\",\"formatter\":{\"id\":\"5fb8a1ce-8ff8-4742-94e9-efc4df522660\",\"type\":\"BasicTickFormatter\"},\"plot\":{\"id\":\"e3b56a6b-d07f-469f-af51-09721790761f\",\"subtype\":\"Figure\",\"type\":\"Plot\"},\"ticker\":{\"id\":\"06c9bcb8-3719-4f12-bf4b-cb3ed172efbd\",\"type\":\"BasicTicker\"}},\"id\":\"465e8923-cb72-4602-ae5f-507afa99c763\",\"type\":\"LinearAxis\"},{\"attributes\":{\"below\":[{\"id\":\"465e8923-cb72-4602-ae5f-507afa99c763\",\"type\":\"LinearAxis\"}],\"left\":[{\"id\":\"82f553f5-5378-46f5-9072-86a103466a2e\",\"type\":\"LinearAxis\"}],\"plot_height\":400,\"plot_width\":400,\"renderers\":[{\"id\":\"465e8923-cb72-4602-ae5f-507afa99c763\",\"type\":\"LinearAxis\"},{\"id\":\"f01a132e-7f81-4905-984a-5df007740d1e\",\"type\":\"Grid\"},{\"id\":\"82f553f5-5378-46f5-9072-86a103466a2e\",\"type\":\"LinearAxis\"},{\"id\":\"afa33296-8616-4de6-89c5-ee4073fdf9dc\",\"type\":\"Grid\"},{\"id\":\"02d9d1aa-81ee-4a18-811d-a411726ea23d\",\"type\":\"BoxAnnotation\"},{\"id\":\"3575a580-8a73-43e5-9ece-12d2f22d282f\",\"type\":\"GlyphRenderer\"}],\"title\":{\"id\":\"d55c2f0c-4329-45fa-a644-d8dc22b33bc3\",\"type\":\"Title\"},\"tool_events\":{\"id\":\"1a9b76c5-1e78-4191-bdaa-6fcdb0fed848\",\"type\":\"ToolEvents\"},\"toolbar\":{\"id\":\"dc4025e9-e815-487b-8c3e-d42e5fa58637\",\"type\":\"Toolbar\"},\"x_range\":{\"id\":\"fc37b099-179a-4896-8a1b-039dc775d1b9\",\"type\":\"DataRange1d\"},\"y_range\":{\"id\":\"7aa75066-a8f1-449a-bbb8-7b920c95415c\",\"type\":\"DataRange1d\"}},\"id\":\"e3b56a6b-d07f-469f-af51-09721790761f\",\"subtype\":\"Figure\",\"type\":\"Plot\"},{\"attributes\":{\"children\":[{\"id\":\"0c157992-ba26-4ae0-811a-72bc288b546f\",\"subtype\":\"Figure\",\"type\":\"Plot\"},{\"id\":\"e3b56a6b-d07f-469f-af51-09721790761f\",\"subtype\":\"Figure\",\"type\":\"Plot\"}]},\"id\":\"4478985b-92d8-42ee-a9cd-f1e688002799\",\"type\":\"Row\"},{\"attributes\":{\"dimension\":1,\"plot\":{\"id\":\"e3b56a6b-d07f-469f-af51-09721790761f\",\"subtype\":\"Figure\",\"type\":\"Plot\"},\"ticker\":{\"id\":\"c56c5881-660e-49df-a4f0-9d410ed1cbd7\",\"type\":\"BasicTicker\"}},\"id\":\"afa33296-8616-4de6-89c5-ee4073fdf9dc\",\"type\":\"Grid\"},{\"attributes\":{\"plot\":{\"id\":\"e3b56a6b-d07f-469f-af51-09721790761f\",\"subtype\":\"Figure\",\"type\":\"Plot\"}},\"id\":\"4f41c325-0330-4f33-b8ba-7bfbcdb14c62\",\"type\":\"ResetTool\"},{\"attributes\":{\"data_source\":{\"id\":\"a75b01d2-3ae0-49fc-87d5-c3abe6791a68\",\"type\":\"ColumnDataSource\"},\"glyph\":{\"id\":\"2c4ab6bd-0e3b-45af-8ece-2ef1a21e76cf\",\"type\":\"Quad\"},\"hover_glyph\":null,\"muted_glyph\":null,\"nonselection_glyph\":{\"id\":\"271dd983-eed4-42ac-b028-d8bec57ebd7e\",\"type\":\"Quad\"},\"selection_glyph\":null},\"id\":\"3575a580-8a73-43e5-9ece-12d2f22d282f\",\"type\":\"GlyphRenderer\"},{\"attributes\":{\"bottom\":{\"value\":0},\"fill_color\":{\"value\":\"red\"},\"left\":{\"field\":\"left\"},\"line_color\":{\"value\":\"#1f77b4\"},\"right\":{\"field\":\"right\"},\"top\":{\"field\":\"top\"}},\"id\":\"2c4ab6bd-0e3b-45af-8ece-2ef1a21e76cf\",\"type\":\"Quad\"},{\"attributes\":{\"below\":[{\"id\":\"5d130b64-76f4-4322-8ea9-357b063f87e7\",\"type\":\"LinearAxis\"}],\"left\":[{\"id\":\"93480e55-d68c-4d9d-97d0-a6885dfa5e7d\",\"type\":\"LinearAxis\"}],\"plot_height\":400,\"plot_width\":400,\"renderers\":[{\"id\":\"5d130b64-76f4-4322-8ea9-357b063f87e7\",\"type\":\"LinearAxis\"},{\"id\":\"c2fa1baa-1928-4b57-9114-161dcd919a5e\",\"type\":\"Grid\"},{\"id\":\"93480e55-d68c-4d9d-97d0-a6885dfa5e7d\",\"type\":\"LinearAxis\"},{\"id\":\"d87e52d1-3819-4b99-ad68-a570d71d751d\",\"type\":\"Grid\"},{\"id\":\"5058cc42-47cd-42db-bc64-df8973e0c6c6\",\"type\":\"BoxAnnotation\"},{\"id\":\"336d2eb4-6f60-4020-a445-1d0bd901b3f0\",\"type\":\"GlyphRenderer\"}],\"title\":{\"id\":\"210d380d-0637-4776-ba43-e69be3903cdc\",\"type\":\"Title\"},\"tool_events\":{\"id\":\"a09c5f5e-1561-4a35-ab8e-4efdc224929b\",\"type\":\"ToolEvents\"},\"toolbar\":{\"id\":\"5f670b48-5533-4755-8db5-04aec95b5cfb\",\"type\":\"Toolbar\"},\"x_range\":{\"id\":\"ef89bb42-a88e-45ca-8c45-685cb826b78e\",\"type\":\"DataRange1d\"},\"y_range\":{\"id\":\"9adbbad0-1f06-4160-96a6-e89c86cc25b1\",\"type\":\"DataRange1d\"}},\"id\":\"0c157992-ba26-4ae0-811a-72bc288b546f\",\"subtype\":\"Figure\",\"type\":\"Plot\"},{\"attributes\":{\"plot\":null,\"text\":\"H100 NHI\"},\"id\":\"210d380d-0637-4776-ba43-e69be3903cdc\",\"type\":\"Title\"},{\"attributes\":{\"callback\":null},\"id\":\"ef89bb42-a88e-45ca-8c45-685cb826b78e\",\"type\":\"DataRange1d\"}],\"root_ids\":[\"4478985b-92d8-42ee-a9cd-f1e688002799\"]},\"title\":\"Bokeh Application\",\"version\":\"0.12.5\"}};\n",
       "            var render_items = [{\"docid\":\"a6de080a-9267-4615-afc9-7b01366ada8e\",\"elementid\":\"26125168-faa6-4d86-8d86-9b008c428c23\",\"modelid\":\"4478985b-92d8-42ee-a9cd-f1e688002799\"}];\n",
       "            \n",
       "            Bokeh.embed.embed_items(docs_json, render_items);\n",
       "          };\n",
       "          if (document.readyState != \"loading\") fn();\n",
       "          else document.addEventListener(\"DOMContentLoaded\", fn);\n",
       "        })();\n",
       "      },\n",
       "      function(Bokeh) {\n",
       "      }\n",
       "    ];\n",
       "  \n",
       "    function run_inline_js() {\n",
       "      \n",
       "      if ((window.Bokeh !== undefined) || (force === true)) {\n",
       "        for (var i = 0; i < inline_js.length; i++) {\n",
       "          inline_js[i](window.Bokeh);\n",
       "        }if (force === true) {\n",
       "          display_loaded();\n",
       "        }} else if (Date.now() < window._bokeh_timeout) {\n",
       "        setTimeout(run_inline_js, 100);\n",
       "      } else if (!window._bokeh_failed_load) {\n",
       "        console.log(\"Bokeh: BokehJS failed to load within specified timeout.\");\n",
       "        window._bokeh_failed_load = true;\n",
       "      } else if (force !== true) {\n",
       "        var cell = $(document.getElementById(\"26125168-faa6-4d86-8d86-9b008c428c23\")).parents('.cell').data().cell;\n",
       "        cell.output_area.append_execute_result(NB_LOAD_WARNING)\n",
       "      }\n",
       "  \n",
       "    }\n",
       "  \n",
       "    if (window._bokeh_is_loading === 0) {\n",
       "      console.log(\"Bokeh: BokehJS loaded, going straight to plotting\");\n",
       "      run_inline_js();\n",
       "    } else {\n",
       "      load_libs(js_urls, function() {\n",
       "        console.log(\"Bokeh: BokehJS plotting callback run at\", now());\n",
       "        run_inline_js();\n",
       "      });\n",
       "    }\n",
       "  }(this));\n",
       "</script>"
      ]
     },
     "metadata": {},
     "output_type": "display_data"
    }
   ],
   "source": [
    "# NHI\n",
    "p_NHI = figure(plot_width=400, plot_height=400, title='H100 NHI')#,background_fill=\"#E8DDCB\")\n",
    "hist, edges = np.histogram(h100.NHI, range=(20.2, 22), density=True, bins=20)\n",
    "p_NHI.quad(top=hist, bottom=0, left=edges[:-1], right=edges[1:],fill_color='blue')\n",
    "p_NHI.xaxis.axis_label = 'N_HI'\n",
    "# z\n",
    "p_z = figure(plot_width=400, plot_height=400, title='H100 z')#,background_fill=\"#E8DDCB\")\n",
    "hist, edges = np.histogram(h100.zabs, range=(1.6, 5.0), density=True, bins=20)\n",
    "p_z.quad(top=hist, bottom=0, left=edges[:-1], right=edges[1:],fill_color='red')\n",
    "p_z.xaxis.axis_label = 'z_DLA'\n",
    "# Show\n",
    "show(row(p_NHI,p_z))"
   ]
  },
  {
   "cell_type": "markdown",
   "metadata": {},
   "source": [
    "----"
   ]
  },
  {
   "cell_type": "markdown",
   "metadata": {},
   "source": [
    "## SDSS DLAs (DR5) -- Prochaska & Wolfe 2009, ApJ, 696, 1543"
   ]
  },
  {
   "cell_type": "markdown",
   "metadata": {},
   "source": [
    "### Load"
   ]
  },
  {
   "cell_type": "code",
   "execution_count": 14,
   "metadata": {},
   "outputs": [
    {
     "name": "stdout",
     "output_type": "stream",
     "text": [
      "SDSS-DR5: Loading DLA file /home/xavier/local/Python/pyigm/pyigm/data/DLA/SDSS_DR5/dr5_alldla.fits.gz\n",
      "SDSS-DR5: Loading QSOs file /home/xavier/local/Python/pyigm/pyigm/data/DLA/SDSS_DR5/dr5_dlagz_s2n4.fits\n"
     ]
    },
    {
     "data": {
      "text/plain": [
       "<IGMSurvey: nsys=1182, type=DLA, ref=SDSS-DR5 (PW09), nsightlines=7482>"
      ]
     },
     "execution_count": 14,
     "metadata": {},
     "output_type": "execute_result"
    }
   ],
   "source": [
    "sdss = DLASurvey.load_SDSS_DR5(sample='all')\n",
    "sdss"
   ]
  },
  {
   "cell_type": "code",
   "execution_count": 15,
   "metadata": {},
   "outputs": [
    {
     "name": "stdout",
     "output_type": "stream",
     "text": [
      "SDSS-DR5: Loading DLA file /home/xavier/local/Python/pyigm/pyigm/data/DLA/SDSS_DR5/dr5_alldla.fits.gz\n",
      "SDSS-DR5: Loading QSOs file /home/xavier/local/Python/pyigm/pyigm/data/DLA/SDSS_DR5/dr5_dlagz_s2n4.fits\n",
      "SDSS-DR5: Performing stats\n"
     ]
    },
    {
     "name": "stderr",
     "output_type": "stream",
     "text": [
      "/home/xavier/local/Python/pyigm/pyigm/surveys/dlasurvey.py:891: UserWarning: Resetting mask to None.  Be careful here\n",
      "  True = statistical\n"
     ]
    },
    {
     "name": "stdout",
     "output_type": "stream",
     "text": [
      "SDSS-DR5: Loaded\n"
     ]
    },
    {
     "data": {
      "text/plain": [
       "<IGMSurvey: nsys=737, type=DLA, ref=SDSS-DR5 (PW09), nsightlines=7482>"
      ]
     },
     "execution_count": 15,
     "metadata": {},
     "output_type": "execute_result"
    }
   ],
   "source": [
    "sdss_stat = DLASurvey.load_SDSS_DR5()\n",
    "sdss_stat"
   ]
  },
  {
   "cell_type": "code",
   "execution_count": 16,
   "metadata": {},
   "outputs": [
    {
     "data": {
      "text/html": [
       "&lt;QTable length=5&gt;\n",
       "<table id=\"table140677807377152\" class=\"table-striped table-bordered table-condensed\">\n",
       "<thead><tr><th>PLATE</th><th>FIB</th><th>RA</th><th>DEC</th><th>FLG_BAL</th><th>IQSO</th><th>MAG</th><th>S2N</th><th>Z_START</th><th>Z_END</th><th>ZEM</th><th>DX</th></tr></thead>\n",
       "<thead><tr><th></th><th></th><th>deg</th><th>deg</th><th></th><th></th><th></th><th></th><th></th><th></th><th></th><th></th></tr></thead>\n",
       "<thead><tr><th>int32</th><th>int32</th><th>float64</th><th>float64</th><th>int16</th><th>int32</th><th>float64</th><th>float64</th><th>float64</th><th>float64</th><th>float64</th><th>float64</th></tr></thead>\n",
       "<tr><td>266</td><td>5</td><td>146.93861</td><td>-0.68701194</td><td>1</td><td>0</td><td>19.341999054</td><td>4.94595003128</td><td>2.39664643878</td><td>2.74649000168</td><td>2.8287498951</td><td>1.17426266257</td></tr>\n",
       "<tr><td>266</td><td>92</td><td>146.22601</td><td>-0.72509875</td><td>0</td><td>4</td><td>19.0820007324</td><td>8.54980564117</td><td>2.20000004768</td><td>2.25759506226</td><td>2.29049992561</td><td>0.184012498912</td></tr>\n",
       "<tr><td>270</td><td>254</td><td>152.23239</td><td>-0.97123272</td><td>0</td><td>9</td><td>19.0230007172</td><td>7.49763822556</td><td>2.30636157714</td><td>3.0556242466</td><td>3.09659004211</td><td>2.56581152274</td></tr>\n",
       "<tr><td>271</td><td>391</td><td>154.14992</td><td>0.14750838</td><td>0</td><td>16</td><td>18.0650005341</td><td>18.982629776</td><td>2.20000004768</td><td>2.25551605225</td><td>2.28839993477</td><td>0.177634457341</td></tr>\n",
       "<tr><td>271</td><td>166</td><td>154.45375</td><td>-0.52347949</td><td>0</td><td>17</td><td>18.9650001526</td><td>10.8409719467</td><td>2.20000004768</td><td>2.25027894974</td><td>2.28310990334</td><td>0.158514320617</td></tr>\n",
       "</table>"
      ],
      "text/plain": [
       "<QTable length=5>\n",
       "PLATE  FIB      RA        DEC     ...     Z_END          ZEM            DX      \n",
       "               deg        deg     ...                                           \n",
       "int32 int32  float64    float64   ...    float64       float64       float64    \n",
       "----- ----- --------- ----------- ... ------------- ------------- --------------\n",
       "  266     5 146.93861 -0.68701194 ... 2.74649000168  2.8287498951  1.17426266257\n",
       "  266    92 146.22601 -0.72509875 ... 2.25759506226 2.29049992561 0.184012498912\n",
       "  270   254 152.23239 -0.97123272 ...  3.0556242466 3.09659004211  2.56581152274\n",
       "  271   391 154.14992  0.14750838 ... 2.25551605225 2.28839993477 0.177634457341\n",
       "  271   166 154.45375 -0.52347949 ... 2.25027894974 2.28310990334 0.158514320617"
      ]
     },
     "execution_count": 16,
     "metadata": {},
     "output_type": "execute_result"
    }
   ],
   "source": [
    "sdss_stat.sightlines[0:5]"
   ]
  },
  {
   "cell_type": "markdown",
   "metadata": {},
   "source": [
    "### $g(z)$"
   ]
  },
  {
   "cell_type": "code",
   "execution_count": 17,
   "metadata": {
    "collapsed": true
   },
   "outputs": [],
   "source": [
    "zeval, gz = sdss_stat.calculate_gz()"
   ]
  },
  {
   "cell_type": "code",
   "execution_count": 18,
   "metadata": {},
   "outputs": [
    {
     "data": {
      "image/png": "[encoded data removed]",
      "text/plain": [
       "<matplotlib.figure.Figure at 0x7ff21a2d1eb8>"
      ]
     },
     "metadata": {},
     "output_type": "display_data"
    }
   ],
   "source": [
    "plt.clf()\n",
    "plt.plot(zeval, gz)\n",
    "plt.xlabel('z')\n",
    "plt.ylabel('g(z)')\n",
    "plt.show()"
   ]
  },
  {
   "cell_type": "markdown",
   "metadata": {},
   "source": [
    "### Binned stats"
   ]
  },
  {
   "cell_type": "markdown",
   "metadata": {},
   "source": [
    "#### $\\ell(X)$"
   ]
  },
  {
   "cell_type": "code",
   "execution_count": 19,
   "metadata": {},
   "outputs": [],
   "source": [
    "lX, lX_lo, lX_hi= sdss_stat.binned_lox([2., 2.5, 3])"
   ]
  },
  {
   "cell_type": "code",
   "execution_count": 20,
   "metadata": {},
   "outputs": [
    {
     "data": {
      "text/plain": [
       "(array([ 0.04625038,  0.06430632]),\n",
       " array([ 0.00434442,  0.00393302]),\n",
       " array([ 0.00477301,  0.00418125]))"
      ]
     },
     "execution_count": 20,
     "metadata": {},
     "output_type": "execute_result"
    }
   ],
   "source": [
    "lX, lX_lo, lX_hi"
   ]
  },
  {
   "cell_type": "markdown",
   "metadata": {},
   "source": [
    "#### $\\rho_{\\rm HI}$"
   ]
  },
  {
   "cell_type": "code",
   "execution_count": 21,
   "metadata": {},
   "outputs": [],
   "source": [
    "rho, rho_lo, rho_hi = sdss_stat.binned_rhoHI([2., 2.5, 3.], (20.3,23.))"
   ]
  },
  {
   "cell_type": "code",
   "execution_count": 22,
   "metadata": {},
   "outputs": [
    {
     "data": {
      "text/plain": [
       "(<Quantity [ 0.50109093, 0.77673707] solMass / Mpc3>,\n",
       " <Quantity [  9844532.72342437, 12926489.76807207] solMass / Mpc3>,\n",
       " <Quantity [ 10074803.40773631, 13039660.50449806] solMass / Mpc3>)"
      ]
     },
     "execution_count": 22,
     "metadata": {},
     "output_type": "execute_result"
    }
   ],
   "source": [
    "rho/1e8, rho_lo, rho_hi"
   ]
  },
  {
   "cell_type": "markdown",
   "metadata": {},
   "source": [
    "#### $f(N,X)$"
   ]
  },
  {
   "cell_type": "code",
   "execution_count": 23,
   "metadata": {
    "collapsed": true
   },
   "outputs": [],
   "source": [
    "fN, fN_lo, fN_hi = sdss_stat.binned_fn([20.3, 20.5, 21., 21.5, 22.], [2, 2.5], log=True)"
   ]
  },
  {
   "cell_type": "code",
   "execution_count": 24,
   "metadata": {},
   "outputs": [
    {
     "data": {
      "text/plain": [
       "(array([[-21.78294186],\n",
       "        [-22.49859874],\n",
       "        [-23.68148193],\n",
       "        [-24.74575336]]), array([[ 0.0682087 ],\n",
       "        [ 0.06395184],\n",
       "        [ 0.1529649 ],\n",
       "        [ 0.34125893]]), array([[ 0.06750842],\n",
       "        [ 0.06336817],\n",
       "        [ 0.14659368],\n",
       "        [ 0.29506734]]))"
      ]
     },
     "execution_count": 24,
     "metadata": {},
     "output_type": "execute_result"
    }
   ],
   "source": [
    "fN, fN_lo, fN_hi"
   ]
  },
  {
   "cell_type": "markdown",
   "metadata": {},
   "source": [
    "### Peroux03  (Peroux et al. 2003, MNRAS, 346, 1103)"
   ]
  },
  {
   "cell_type": "code",
   "execution_count": 25,
   "metadata": {},
   "outputs": [
    {
     "name": "stdout",
     "output_type": "stream",
     "text": [
      "Loading QSOs file /home/xavier/local/Python/pyigm/pyigm/data/DLA/P03/P03_zpath.fit\n"
     ]
    },
    {
     "name": "stderr",
     "output_type": "stream",
     "text": [
      "/home/xavier/local/Python/pyigm/pyigm/surveys/dlasurvey.py:891: UserWarning: Resetting mask to None.  Be careful here\n",
      "  True = statistical\n"
     ]
    },
    {
     "name": "stdout",
     "output_type": "stream",
     "text": [
      "Loaded survey\n"
     ]
    },
    {
     "data": {
      "text/plain": [
       "<IGMSurvey: nsys=105, type=DLA, ref=P03, nsightlines=514>"
      ]
     },
     "execution_count": 25,
     "metadata": {},
     "output_type": "execute_result"
    }
   ],
   "source": [
    "p03_statdla = DLASurvey.load_P03()#sample='all')\n",
    "p03_statdla"
   ]
  },
  {
   "cell_type": "markdown",
   "metadata": {},
   "source": [
    "### Guimaraes et al. 2009"
   ]
  },
  {
   "cell_type": "code",
   "execution_count": 26,
   "metadata": {},
   "outputs": [
    {
     "name": "stdout",
     "output_type": "stream",
     "text": [
      "Loading QSOs file /home/xavier/local/Python/pyigm/pyigm/data/DLA/G09/G09_zpath.fit\n",
      "Loaded survey\n"
     ]
    },
    {
     "name": "stderr",
     "output_type": "stream",
     "text": [
      "/home/xavier/local/Python/pyigm/pyigm/surveys/dlasurvey.py:891: UserWarning: Resetting mask to None.  Be careful here\n",
      "  True = statistical\n"
     ]
    },
    {
     "data": {
      "text/plain": [
       "<IGMSurvey: nsys=38, type=DLA, ref=G09, nsightlines=77>"
      ]
     },
     "execution_count": 26,
     "metadata": {},
     "output_type": "execute_result"
    }
   ],
   "source": [
    "g09_statdla = DLASurvey.load_G09()#sample='all')\n",
    "g09_statdla"
   ]
  },
  {
   "cell_type": "code",
   "execution_count": 27,
   "metadata": {},
   "outputs": [],
   "source": [
    "zeval, gz = g09_statdla.calculate_gz()"
   ]
  },
  {
   "cell_type": "code",
   "execution_count": 28,
   "metadata": {},
   "outputs": [
    {
     "data": {
      "image/png": "[encoded data removed]",
      "text/plain": [
       "<matplotlib.figure.Figure at 0x7ff21a08fb38>"
      ]
     },
     "metadata": {},
     "output_type": "display_data"
    }
   ],
   "source": [
    "plt.clf()\n",
    "plt.plot(zeval, gz)\n",
    "plt.xlabel('z')\n",
    "plt.ylabel('g(z)')\n",
    "plt.show()\n",
    "plt.close()"
   ]
  },
  {
   "cell_type": "markdown",
   "metadata": {},
   "source": [
    "## GGG (Crighton et al. 2015, MNRAS, 452, 217)"
   ]
  },
  {
   "cell_type": "code",
   "execution_count": 29,
   "metadata": {},
   "outputs": [
    {
     "name": "stdout",
     "output_type": "stream",
     "text": [
      "Loading QSOs file /home/xavier/local/Python/pyigm/pyigm/data/DLA/GGG/GGG_QSO.dat\n",
      "Loaded survey\n"
     ]
    },
    {
     "name": "stderr",
     "output_type": "stream",
     "text": [
      "/home/xavier/local/Python/pyigm/pyigm/surveys/dlasurvey.py:891: UserWarning: Resetting mask to None.  Be careful here\n",
      "  True = statistical\n"
     ]
    }
   ],
   "source": [
    "ggg = DLASurvey.load_GGG()"
   ]
  },
  {
   "cell_type": "code",
   "execution_count": 30,
   "metadata": {},
   "outputs": [
    {
     "data": {
      "text/plain": [
       "<IGMSurvey: nsys=49, type=DLA, ref=GGG, nsightlines=163>"
      ]
     },
     "execution_count": 30,
     "metadata": {},
     "output_type": "execute_result"
    }
   ],
   "source": [
    "ggg"
   ]
  },
  {
   "cell_type": "markdown",
   "metadata": {},
   "source": [
    "### XQ-100 (Sanchez-Ramirez et al. 2016, MNRAS, 456, 4488)"
   ]
  },
  {
   "cell_type": "code",
   "execution_count": 31,
   "metadata": {},
   "outputs": [
    {
     "name": "stdout",
     "output_type": "stream",
     "text": [
      "Loading QSOs file /home/xavier/local/Python/pyigm/pyigm/data/DLA/XQ-100/XQ100_zpath.fit\n",
      "Loaded survey\n"
     ]
    },
    {
     "name": "stderr",
     "output_type": "stream",
     "text": [
      "/home/xavier/local/Python/pyigm/pyigm/surveys/dlasurvey.py:891: UserWarning: Resetting mask to None.  Be careful here\n",
      "  True = statistical\n"
     ]
    },
    {
     "data": {
      "text/plain": [
       "<IGMSurvey: nsys=36, type=DLA, ref=XQ-100, nsightlines=100>"
      ]
     },
     "execution_count": 31,
     "metadata": {},
     "output_type": "execute_result"
    }
   ],
   "source": [
    "xq100_statdla = DLASurvey.load_XQ100()\n",
    "xq100_statdla"
   ]
  },
  {
   "cell_type": "markdown",
   "metadata": {},
   "source": [
    "#### $g(z)$"
   ]
  },
  {
   "cell_type": "code",
   "execution_count": 32,
   "metadata": {
    "collapsed": true
   },
   "outputs": [],
   "source": [
    "zeval, gz = xq100_statdla.calculate_gz()"
   ]
  },
  {
   "cell_type": "code",
   "execution_count": 33,
   "metadata": {},
   "outputs": [
    {
     "data": {
      "image/png": "[encoded data removed]",
      "text/plain": [
       "<matplotlib.figure.Figure at 0x7ff219f07c50>"
      ]
     },
     "metadata": {},
     "output_type": "display_data"
    }
   ],
   "source": [
    "plt.clf()\n",
    "plt.plot(zeval, gz)\n",
    "plt.xlabel('z')\n",
    "plt.ylabel('g(z)')\n",
    "plt.show()\n",
    "plt.close()"
   ]
  },
  {
   "cell_type": "markdown",
   "metadata": {},
   "source": [
    "## HST -- (Neeleman et al. 2016)"
   ]
  },
  {
   "cell_type": "code",
   "execution_count": 34,
   "metadata": {},
   "outputs": [
    {
     "name": "stderr",
     "output_type": "stream",
     "text": [
      "/home/xavier/local/Python/pyigm/pyigm/surveys/dlasurvey.py:891: UserWarning: Resetting mask to None.  Be careful here\n",
      "  True = statistical\n"
     ]
    },
    {
     "data": {
      "text/plain": [
       "<IGMSurvey: nsys=4, type=DLA, ref=Neeleman+16, nsightlines=381>"
      ]
     },
     "execution_count": 34,
     "metadata": {},
     "output_type": "execute_result"
    }
   ],
   "source": [
    "hst16 = DLASurvey.load_HST16()\n",
    "hst16"
   ]
  },
  {
   "cell_type": "code",
   "execution_count": 35,
   "metadata": {},
   "outputs": [
    {
     "data": {
      "text/plain": [
       "<IGMSurvey: nsys=48, type=DLA, ref=Neeleman+16, nsightlines=596>"
      ]
     },
     "execution_count": 35,
     "metadata": {},
     "output_type": "execute_result"
    }
   ],
   "source": [
    "hst16_all = DLASurvey.load_HST16(sample='all')  # Includes MgII-selected DLAs\n",
    "hst16_all"
   ]
  },
  {
   "cell_type": "code",
   "execution_count": null,
   "metadata": {
    "collapsed": true
   },
   "outputs": [],
   "source": []
  }
 ],
 "metadata": {
  "kernelspec": {
   "display_name": "Python 3",
   "language": "python",
   "name": "python3"
  },
  "language_info": {
   "codemirror_mode": {
    "name": "ipython",
    "version": 3
   },
   "file_extension": ".py",
   "mimetype": "text/x-python",
   "name": "python",
   "nbconvert_exporter": "python",
   "pygments_lexer": "ipython3",
   "version": "3.6.1"
  }
 },
 "nbformat": 4,
 "nbformat_minor": 1
}
