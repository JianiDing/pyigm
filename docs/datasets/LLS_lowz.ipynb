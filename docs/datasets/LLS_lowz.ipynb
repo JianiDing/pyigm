{
 "cells": [
  {
   "cell_type": "markdown",
   "metadata": {},
   "source": [
    "# Low z LLS (Lehner+13, Wotta+16)  [v1.3]\n",
    "\n",
    "### 2016oct06 by JXP -- Ingesting L13 systems that were excluded"
   ]
  },
  {
   "cell_type": "code",
   "execution_count": 1,
   "metadata": {
    "collapsed": true
   },
   "outputs": [],
   "source": [
    "# imports\n",
    "import pdb\n",
    "from scipy.io import readsav\n",
    "\n",
    "from linetools.isgm.abscomponent import AbsComponent\n",
    "\n",
    "import pyigm\n",
    "from pyigm.abssys.lls import LLSSystem\n",
    "from pyigm.surveys.llssurvey import LLSSurvey\n",
    "pyigm_path = pyigm.__path__[0]\n",
    "from pyigm.surveys import utils as pyiu"
   ]
  },
  {
   "cell_type": "markdown",
   "metadata": {},
   "source": [
    "## Big Table\n",
    "\n",
    "    Summary file from Wotta\n",
    "    Includes W16 sample at the top and L13 at the bottom"
   ]
  },
  {
   "cell_type": "code",
   "execution_count": 15,
   "metadata": {
    "collapsed": true
   },
   "outputs": [],
   "source": [
    "w16_mtl = Table.read(pyigm_path+'/data/LLS/Literature/wotta16_metallicities.ascii',format='ascii', guess=False)"
   ]
  },
  {
   "cell_type": "code",
   "execution_count": 16,
   "metadata": {
    "collapsed": false
   },
   "outputs": [
    {
     "data": {
      "text/html": [
       "&lt;Table length=5&gt;\n",
       "<table id=\"table4628118096\">\n",
       "<thead><tr><th>Target</th><th>z_em</th><th>RA</th><th>DEC</th><th>z_abs</th><th>logNHI</th><th>elogNHI</th><th>vmin</th><th>vmax</th><th>logNMgII</th><th>ep_logNMgII</th><th>em_logNMgII</th><th>[X/H]</th><th>ep_[X/H]</th><th>em_[X/H]</th><th>68%[X/H]_low</th><th>68%[X/H]_high</th><th>95%[X/H]_low</th><th>95%[X/H]_high</th></tr></thead>\n",
       "<thead><tr><th>str11</th><th>float64</th><th>str12</th><th>str11</th><th>float64</th><th>float64</th><th>float64</th><th>int64</th><th>int64</th><th>str5</th><th>float64</th><th>float64</th><th>float64</th><th>float64</th><th>float64</th><th>str7</th><th>str7</th><th>str7</th><th>str7</th></tr></thead>\n",
       "<tr><td>J0800+4212</td><td>0.99407</td><td>+08:00:03.90</td><td>+42:12:53.2</td><td>0.598</td><td>16.95</td><td>0.2</td><td>-100</td><td>100</td><td>11.75</td><td>0.17</td><td>0.3</td><td>-1.99</td><td>0.3</td><td>0.3</td><td>-2.13</td><td>-1.85</td><td>-2.24</td><td>-1.62</td></tr>\n",
       "<tr><td>J0804+2743</td><td>1.21924</td><td>+08:04:24.97</td><td>+27:43:23.2</td><td>0.9106</td><td>17.45</td><td>0.1</td><td>-103</td><td>79</td><td>12.27</td><td>0.06</td><td>0.08</td><td>-1.96</td><td>0.13</td><td>0.13</td><td>-2.12</td><td>-1.79</td><td>-2.24</td><td>-1.52</td></tr>\n",
       "<tr><td>J0806+1442</td><td>1.21268</td><td>+08:06:30.30</td><td>+14:42:42.4</td><td>1.0943</td><td>17.4</td><td>0.2</td><td>-26</td><td>16</td><td>13.51</td><td>1.0</td><td>1.0</td><td>-0.64</td><td>1.0</td><td>1.0</td><td>&gt;-0.80</td><td>\\nodata</td><td>&gt;-0.92</td><td>\\nodata</td></tr>\n",
       "<tr><td>J0806+1442</td><td>1.21268</td><td>+08:06:30.30</td><td>+14:42:42.4</td><td>0.9238</td><td>17.2</td><td>0.2</td><td>-14</td><td>9</td><td>12.57</td><td>0.09</td><td>0.09</td><td>-1.4</td><td>0.22</td><td>0.22</td><td>-1.55</td><td>-1.26</td><td>-1.66</td><td>-1.01</td></tr>\n",
       "<tr><td>J0810+5025</td><td>1.20573</td><td>+08:10:02.69</td><td>+50:25:38.7</td><td>0.65</td><td>16.82</td><td>0.15</td><td>-100</td><td>100</td><td>11.75</td><td>-1.0</td><td>-1.0</td><td>-1.81</td><td>-1.0</td><td>-1.0</td><td>\\nodata</td><td>&lt;-1.67</td><td>\\nodata</td><td>&lt;-1.43</td></tr>\n",
       "</table>"
      ],
      "text/plain": [
       "<Table length=5>\n",
       "  Target     z_em       RA      ... 68%[X/H]_high 95%[X/H]_low 95%[X/H]_high\n",
       "  str11    float64    str12     ...      str7         str7          str7    \n",
       "---------- ------- ------------ ... ------------- ------------ -------------\n",
       "J0800+4212 0.99407 +08:00:03.90 ...         -1.85        -2.24         -1.62\n",
       "J0804+2743 1.21924 +08:04:24.97 ...         -1.79        -2.24         -1.52\n",
       "J0806+1442 1.21268 +08:06:30.30 ...       \\nodata       >-0.92       \\nodata\n",
       "J0806+1442 1.21268 +08:06:30.30 ...         -1.26        -1.66         -1.01\n",
       "J0810+5025 1.20573 +08:10:02.69 ...        <-1.67      \\nodata        <-1.43"
      ]
     },
     "execution_count": 16,
     "metadata": {},
     "output_type": "execute_result"
    }
   ],
   "source": [
    "w16_mtl[0:5]"
   ]
  },
  {
   "cell_type": "code",
   "execution_count": 17,
   "metadata": {
    "collapsed": false
   },
   "outputs": [
    {
     "data": {
      "text/html": [
       "&lt;Table length=5&gt;\n",
       "<table id=\"table4628118352\">\n",
       "<thead><tr><th>Target</th><th>z_em</th><th>RA</th><th>DEC</th><th>z_abs</th><th>logNHI</th><th>elogNHI</th><th>vmin</th><th>vmax</th><th>logNMgII</th><th>ep_logNMgII</th><th>em_logNMgII</th><th>[X/H]</th><th>ep_[X/H]</th><th>em_[X/H]</th><th>68%[X/H]_low</th><th>68%[X/H]_high</th><th>95%[X/H]_low</th><th>95%[X/H]_high</th></tr></thead>\n",
       "<thead><tr><th>str11</th><th>float64</th><th>str12</th><th>str11</th><th>float64</th><th>float64</th><th>float64</th><th>int64</th><th>int64</th><th>str5</th><th>float64</th><th>float64</th><th>float64</th><th>float64</th><th>float64</th><th>str7</th><th>str7</th><th>str7</th><th>str7</th></tr></thead>\n",
       "<tr><td>PKS0552-640</td><td>999.0</td><td>999</td><td>999</td><td>0.3451</td><td>16.9</td><td>0.08</td><td>999</td><td>999</td><td>12.22</td><td>-1.0</td><td>-1.0</td><td>-1.6</td><td>-1.0</td><td>-1.0</td><td>999</td><td>999</td><td>999</td><td>999</td></tr>\n",
       "<tr><td>PG1630+377</td><td>999.0</td><td>999</td><td>999</td><td>0.274</td><td>16.98</td><td>0.05</td><td>999</td><td>999</td><td>12.19</td><td>0.02</td><td>0.02</td><td>-1.71</td><td>0.06</td><td>0.06</td><td>999</td><td>999</td><td>999</td><td>999</td></tr>\n",
       "<tr><td>PKS1302-102</td><td>999.0</td><td>999</td><td>999</td><td>0.0985</td><td>17.0</td><td>0.2</td><td>999</td><td>999</td><td>UV</td><td>9999.0</td><td>9999.0</td><td>-1.6</td><td>-1.0</td><td>-1.0</td><td>999</td><td>999</td><td>999</td><td>999</td></tr>\n",
       "<tr><td>PG1206+459</td><td>999.0</td><td>999</td><td>999</td><td>0.927</td><td>17.0</td><td>0.1</td><td>999</td><td>999</td><td>13.80</td><td>0.05</td><td>0.05</td><td>0.3</td><td>999.0</td><td>999.0</td><td>999</td><td>999</td><td>999</td><td>999</td></tr>\n",
       "<tr><td>PG1634+706</td><td>999.0</td><td>999</td><td>999</td><td>1.04</td><td>17.3</td><td>0.3</td><td>999</td><td>999</td><td>12.42</td><td>0.03</td><td>0.03</td><td>-1.4</td><td>0.2</td><td>0.2</td><td>999</td><td>999</td><td>999</td><td>999</td></tr>\n",
       "</table>"
      ],
      "text/plain": [
       "<Table length=5>\n",
       "   Target     z_em    RA   DEC  ... 68%[X/H]_high 95%[X/H]_low 95%[X/H]_high\n",
       "   str11    float64 str12 str11 ...      str7         str7          str7    \n",
       "----------- ------- ----- ----- ... ------------- ------------ -------------\n",
       "PKS0552-640   999.0   999   999 ...           999          999           999\n",
       " PG1630+377   999.0   999   999 ...           999          999           999\n",
       "PKS1302-102   999.0   999   999 ...           999          999           999\n",
       " PG1206+459   999.0   999   999 ...           999          999           999\n",
       " PG1634+706   999.0   999   999 ...           999          999           999"
      ]
     },
     "execution_count": 17,
     "metadata": {},
     "output_type": "execute_result"
    }
   ],
   "source": [
    "w16_mtl[-5:]"
   ]
  },
  {
   "cell_type": "markdown",
   "metadata": {},
   "source": [
    "## Lehner+13\n",
    "\n",
    "### Metals\n",
    "\n",
    "From\n",
    "http://iopscience.iop.org/0004-637X/770/2/138/suppdata/apj472363t2_mrt.txt\n",
    "\n",
    "    In progress.."
   ]
  },
  {
   "cell_type": "markdown",
   "metadata": {},
   "source": [
    "### Metallicity"
   ]
  },
  {
   "cell_type": "code",
   "execution_count": 9,
   "metadata": {
    "collapsed": true
   },
   "outputs": [],
   "source": [
    "l13w16_anly = readsav(pyigm_path+'/data/LLS/Literature/wotta16_final.save')"
   ]
  },
  {
   "cell_type": "code",
   "execution_count": 62,
   "metadata": {
    "collapsed": true
   },
   "outputs": [],
   "source": [
    "l13_exc = readsav(pyigm_path+'/data/LLS/Literature/l13_final_excluded.save')"
   ]
  },
  {
   "cell_type": "code",
   "execution_count": 64,
   "metadata": {
    "collapsed": false
   },
   "outputs": [
    {
     "data": {
      "text/plain": [
       "array(['PHL1811', 'PKS0312-77', 'J1009+0713'], dtype=object)"
      ]
     },
     "execution_count": 64,
     "metadata": {},
     "output_type": "execute_result"
    }
   ],
   "source": [
    "l13_exc['sightlinenlexcl']"
   ]
  },
  {
   "cell_type": "markdown",
   "metadata": {},
   "source": [
    "### RA/DEC"
   ]
  },
  {
   "cell_type": "code",
   "execution_count": 35,
   "metadata": {
    "collapsed": false
   },
   "outputs": [],
   "source": [
    "l13_radec = {'J0943+0531': 'J094331.61+053131.4', \n",
    "             'J1419+4207': 'J141910.20+420746.9', \n",
    "             'J1435+3604': 'J143511.53+360437.2', \n",
    "             'PG1116+215': 'J111908.67+211918.0',\n",
    "             'PG1522+101': 'J152424.52+095829.1', \n",
    "             'PG1338+416': 'J134100.78+412314.0', \n",
    "             'HE0439-5254': 'J044012.04-524817.65',        \n",
    "             'PG1407+265': 'J140923.91+261821.1', \n",
    "             'PG1216+069': 'J121920.92+063838.5', \n",
    "             'PKS0405-123': 'J040748.44-121136.7',\n",
    "             'J1619+3342': 'J161916.54+334238.4', \n",
    "             'PKS0637-752': 'J063546.51-751616.7', \n",
    "             'SBS1122+594': 'J112553.79+591021.5',\n",
    "             'HE0153-4520': 'J015513.22-450611.6', \n",
    "             'PHL1377': 'J023507.34-040205.3', \n",
    "             'PKS0552-640': 'J055224.51-640210.8',\n",
    "             'PG1630+377': 'J163201.11+373750.0', \n",
    "             'PKS1302-102': 'J130533.01-103319.4', \n",
    "             'PG1206+459': 'J120858.00+454035.4', \n",
    "             'PG1634+706': 'J163428.99+703132.4',\n",
    "             'PHL1811': 'J215501.4-092224',\n",
    "             'PKS0312-77': 'J031155.23-765150.9',\n",
    "             'J1009+0713': 'J100902.16+071343.9',\n",
    "            }"
   ]
  },
  {
   "cell_type": "markdown",
   "metadata": {},
   "source": [
    "### $z_{\\rm em}$"
   ]
  },
  {
   "cell_type": "code",
   "execution_count": 36,
   "metadata": {
    "collapsed": false
   },
   "outputs": [],
   "source": [
    "l13_zem =  {'J0943+0531': 0.56449,\n",
    "             'J1419+4207': 0.87350,\n",
    "             'J1435+3604': 0.42860,\n",
    "             'PG1116+215': 0.17650,\n",
    "             'PG1522+101': 1.32825,\n",
    "             'PG1338+416': 1.21420,\n",
    "             'HE0439-5254': 1.05300,\n",
    "             'PG1407+265': 0.94,\n",
    "             'PG1216+069': 0.3313,\n",
    "             'PKS0405-123': 0.5726,\n",
    "             'J1619+3342': 0.47093,\n",
    "             'PKS0637-752': 0.651,\n",
    "             'SBS1122+594': 0.85242, \n",
    "             'HE0153-4520': 0.451,\n",
    "             'PHL1377': 1.4398,\n",
    "             'PKS0552-640': 0.680,\n",
    "             'PG1630+377': 1.47465,\n",
    "             'PKS1302-102': 0.2784,\n",
    "             'PG1206+459': 1.16200,\n",
    "             'PG1634+706': 1.337,\n",
    "            'PHL1811': 0.192,\n",
    "            'PKS0312-77': 0.223,\n",
    "            'J1009+0713': 0.456,\n",
    "           }"
   ]
  },
  {
   "cell_type": "code",
   "execution_count": 32,
   "metadata": {
    "collapsed": false
   },
   "outputs": [
    {
     "data": {
      "text/plain": [
       "array([ 0.35420001,  0.42559999,  0.38780001,  0.13850001,  0.51849997,\n",
       "        0.3488    ,  0.6153    ,  0.53460002,  0.68279999,  0.28889999,\n",
       "        0.2823    ,  0.1672    ,  0.68650001,  0.2694    ,  0.46849999,\n",
       "        0.55739999,  0.2261    ,  0.373     ,  0.72920001,  0.7392    ,\n",
       "        0.34509999,  0.27399999,  0.0985    ,  0.92699999,  1.03999996], dtype=float32)"
      ]
     },
     "execution_count": 32,
     "metadata": {},
     "output_type": "execute_result"
    }
   ],
   "source": [
    "l13w16_anly['znl']"
   ]
  },
  {
   "cell_type": "markdown",
   "metadata": {},
   "source": [
    "### Build the systems"
   ]
  },
  {
   "cell_type": "code",
   "execution_count": 37,
   "metadata": {
    "collapsed": false
   },
   "outputs": [],
   "source": [
    "L13_lls = []\n",
    "for qq in range(2):\n",
    "    if qq == 0:\n",
    "        addk = ''\n",
    "        l13w16 = l13w16_anly\n",
    "    else:\n",
    "        addk = 'excl'\n",
    "        l13w16 = l13_exc\n",
    "    # Main loop\n",
    "    for ii,qso in enumerate(l13w16['sightlinenl'+addk]):\n",
    "        # init\n",
    "        lls = LLSSystem(radec=l13_radec[qso],zem=l13_zem[qso],\n",
    "                        zabs=l13w16['znl'+addk][ii],NHI=l13w16['nhinl'+addk][ii],\n",
    "                        sig_NHI=l13w16['enhinl'+addk][ii], \n",
    "                        vlim=[-500,500]*u.km/u.s)\n",
    "        # Metallicity\n",
    "        lls.ZH = l13w16['metnl'+addk][ii]\n",
    "        lls.sig_ZH = (l13w16['em_metnl'+addk][ii], l13w16['ep_metnl'+addk][ii])\n",
    "        # MgII\n",
    "        mtw = np.where((w16_mtl['Target'] == qso) & (np.abs(w16_mtl['z_abs']-lls.zabs) < 1e-2))[0]\n",
    "        if len(mtw) != 1:\n",
    "            if addk == 'excl':\n",
    "                flg_MgII = False\n",
    "            else:\n",
    "                pdb.set_trace()\n",
    "        else:\n",
    "            iw16 = mtw[0]\n",
    "        try:\n",
    "            eMgII = float(w16_mtl['ep_logNMgII'][iw16])\n",
    "        except:\n",
    "            pass\n",
    "        else:\n",
    "            if eMgII > 9000:\n",
    "                pass\n",
    "            else:\n",
    "                if w16_mtl['ep_logNMgII'][iw16] == -1.:\n",
    "                    flg = 3\n",
    "                elif w16_mtl['ep_logNMgII'][iw16] == 1.:\n",
    "                    flg = 2\n",
    "                else:\n",
    "                    flg = 1\n",
    "                # Build a component\n",
    "                absc = AbsComponent(lls.coord, (12,2), lls.zabs, [w16_mtl['vmin'][iw16],w16_mtl['vmax'][iw16]]*u.km/u.s, \n",
    "                                   Ntup=(flg, float(w16_mtl['logNMgII'][iw16]), \n",
    "                                        np.mean([w16_mtl['em_logNMgII'][iw16],w16_mtl['ep_logNMgII'][iw16]])))\n",
    "                # Add\n",
    "                lls._components.append(absc)\n",
    "        # Append\n",
    "        L13_lls.append(lls)"
   ]
  },
  {
   "cell_type": "code",
   "execution_count": 38,
   "metadata": {
    "collapsed": false
   },
   "outputs": [
    {
     "data": {
      "text/plain": [
       "28"
      ]
     },
     "execution_count": 38,
     "metadata": {},
     "output_type": "execute_result"
    }
   ],
   "source": [
    "len(L13_lls)"
   ]
  },
  {
   "cell_type": "markdown",
   "metadata": {},
   "source": [
    "### Finish"
   ]
  },
  {
   "cell_type": "code",
   "execution_count": 39,
   "metadata": {
    "collapsed": true
   },
   "outputs": [],
   "source": [
    "L13 = LLSSurvey()\n",
    "L13._abs_sys = L13_lls"
   ]
  },
  {
   "cell_type": "code",
   "execution_count": 40,
   "metadata": {
    "collapsed": false
   },
   "outputs": [
    {
     "data": {
      "text/plain": [
       "array([-1.29999995, -1.39999998, -1.39999998, -0.5       , -0.40000001,\n",
       "       -0.75      , -0.30000001, -0.2       , -1.79999995, -0.64999998,\n",
       "       -1.64999998,  0.1       ,  0.1       , -1.60000002, -0.40000001,\n",
       "       -1.04999995, -0.80000001, -1.85000002, -2.        , -1.45000005,\n",
       "       -1.60000002, -1.71000004, -1.60000002,  0.30000001, -1.39999998,\n",
       "       -0.19      , -0.60000002, -0.40000001], dtype=float32)"
      ]
     },
     "execution_count": 40,
     "metadata": {},
     "output_type": "execute_result"
    }
   ],
   "source": [
    "L13.ZH"
   ]
  },
  {
   "cell_type": "code",
   "execution_count": 41,
   "metadata": {
    "collapsed": true
   },
   "outputs": [],
   "source": [
    "L13.fill_ions(use_components=True)"
   ]
  },
  {
   "cell_type": "code",
   "execution_count": 42,
   "metadata": {
    "collapsed": false
   },
   "outputs": [
    {
     "data": {
      "text/html": [
       "&lt;Table length=28&gt;\n",
       "<table id=\"table4636071888\">\n",
       "<thead><tr><th>name</th><th>Z</th><th>ion</th><th>A</th><th>Ej</th><th>z</th><th>vmin</th><th>vmax</th><th>flag_N</th><th>logN</th><th>sig_logN</th></tr></thead>\n",
       "<thead><tr><th></th><th></th><th></th><th></th><th>1 / cm</th><th></th><th>km / s</th><th>km / s</th><th></th><th></th><th></th></tr></thead>\n",
       "<thead><tr><th>unicode32</th><th>int64</th><th>int64</th><th>int64</th><th>float64</th><th>float64</th><th>float64</th><th>float64</th><th>int64</th><th>float64</th><th>float64</th></tr></thead>\n",
       "<tr><td>J094331.61+053131.4_z0.354</td><td>12</td><td>2</td><td>0</td><td>0.0</td><td>0.354200005531</td><td>999.0</td><td>999.0</td><td>3</td><td>11.68</td><td>-1.0</td></tr>\n",
       "<tr><td>J141910.2+420746.9_z0.426</td><td>12</td><td>2</td><td>0</td><td>0.0</td><td>0.425599992275</td><td>999.0</td><td>999.0</td><td>3</td><td>11.78</td><td>-1.0</td></tr>\n",
       "<tr><td>J143511.53+360437.2_z0.388</td><td>12</td><td>2</td><td>0</td><td>0.0</td><td>0.387800008059</td><td>999.0</td><td>999.0</td><td>3</td><td>11.66</td><td>-1.0</td></tr>\n",
       "<tr><td>J111908.67+211918_z0.139</td><td>0</td><td>0</td><td>0</td><td>0.0</td><td>0.0</td><td>0.0</td><td>0.0</td><td>0</td><td>0.0</td><td>0.0</td></tr>\n",
       "<tr><td>J152424.52+095829.1_z0.518</td><td>12</td><td>2</td><td>0</td><td>0.0</td><td>0.518499970436</td><td>999.0</td><td>999.0</td><td>1</td><td>12.28</td><td>0.03</td></tr>\n",
       "<tr><td>J134100.78+412314_z0.349</td><td>12</td><td>2</td><td>0</td><td>0.0</td><td>0.348800003529</td><td>999.0</td><td>999.0</td><td>1</td><td>12.49</td><td>0.02</td></tr>\n",
       "<tr><td>J044012.04-524817.65_z0.615</td><td>12</td><td>2</td><td>0</td><td>0.0</td><td>0.615299999714</td><td>999.0</td><td>999.0</td><td>2</td><td>12.66</td><td>1.0</td></tr>\n",
       "<tr><td>J141910.2+420746.9_z0.535</td><td>12</td><td>2</td><td>0</td><td>0.0</td><td>0.534600019455</td><td>999.0</td><td>999.0</td><td>1</td><td>12.64</td><td>0.02</td></tr>\n",
       "<tr><td>J140923.91+261821.1_z0.683</td><td>12</td><td>2</td><td>0</td><td>0.0</td><td>0.682799994946</td><td>999.0</td><td>999.0</td><td>3</td><td>11.47</td><td>-1.0</td></tr>\n",
       "<tr><td>...</td><td>...</td><td>...</td><td>...</td><td>...</td><td>...</td><td>...</td><td>...</td><td>...</td><td>...</td><td>...</td></tr>\n",
       "<tr><td>J152424.52+095829.1_z0.729</td><td>12</td><td>2</td><td>0</td><td>0.0</td><td>0.729200005531</td><td>999.0</td><td>999.0</td><td>3</td><td>11.49</td><td>-1.0</td></tr>\n",
       "<tr><td>J023507.34-040205.3_z0.739</td><td>12</td><td>2</td><td>0</td><td>0.0</td><td>0.739199995995</td><td>999.0</td><td>999.0</td><td>1</td><td>11.98</td><td>0.1</td></tr>\n",
       "<tr><td>J055224.51-640210.8_z0.345</td><td>12</td><td>2</td><td>0</td><td>0.0</td><td>0.3450999856</td><td>999.0</td><td>999.0</td><td>3</td><td>12.22</td><td>-1.0</td></tr>\n",
       "<tr><td>J163201.11+373750_z0.274</td><td>12</td><td>2</td><td>0</td><td>0.0</td><td>0.273999989033</td><td>999.0</td><td>999.0</td><td>1</td><td>12.19</td><td>0.02</td></tr>\n",
       "<tr><td>J130533.01-103319.4_z0.098</td><td>0</td><td>0</td><td>0</td><td>0.0</td><td>0.0</td><td>0.0</td><td>0.0</td><td>0</td><td>0.0</td><td>0.0</td></tr>\n",
       "<tr><td>J120858+454035.4_z0.927</td><td>12</td><td>2</td><td>0</td><td>0.0</td><td>0.926999986172</td><td>999.0</td><td>999.0</td><td>1</td><td>13.8</td><td>0.05</td></tr>\n",
       "<tr><td>J163428.99+703132.4_z1.040</td><td>12</td><td>2</td><td>0</td><td>0.0</td><td>1.03999996185</td><td>999.0</td><td>999.0</td><td>1</td><td>12.42</td><td>0.03</td></tr>\n",
       "<tr><td>J215501.4-092224_z0.081</td><td>12</td><td>2</td><td>0</td><td>0.0</td><td>0.0810000002384</td><td>999.0</td><td>999.0</td><td>1</td><td>12.42</td><td>0.03</td></tr>\n",
       "<tr><td>J031155.23-765150.9_z0.203</td><td>12</td><td>2</td><td>0</td><td>0.0</td><td>0.202600002289</td><td>999.0</td><td>999.0</td><td>1</td><td>12.42</td><td>0.03</td></tr>\n",
       "<tr><td>J100902.16+071343.9_z0.359</td><td>12</td><td>2</td><td>0</td><td>0.0</td><td>0.358799993992</td><td>999.0</td><td>999.0</td><td>1</td><td>12.42</td><td>0.03</td></tr>\n",
       "</table>"
      ],
      "text/plain": [
       "<Table length=28>\n",
       "            name              Z    ion    A   ... flag_N   logN  sig_logN\n",
       "                                              ...                        \n",
       "         unicode32          int64 int64 int64 ... int64  float64 float64 \n",
       "--------------------------- ----- ----- ----- ... ------ ------- --------\n",
       " J094331.61+053131.4_z0.354    12     2     0 ...      3   11.68     -1.0\n",
       "  J141910.2+420746.9_z0.426    12     2     0 ...      3   11.78     -1.0\n",
       " J143511.53+360437.2_z0.388    12     2     0 ...      3   11.66     -1.0\n",
       "   J111908.67+211918_z0.139     0     0     0 ...      0     0.0      0.0\n",
       " J152424.52+095829.1_z0.518    12     2     0 ...      1   12.28     0.03\n",
       "   J134100.78+412314_z0.349    12     2     0 ...      1   12.49     0.02\n",
       "J044012.04-524817.65_z0.615    12     2     0 ...      2   12.66      1.0\n",
       "  J141910.2+420746.9_z0.535    12     2     0 ...      1   12.64     0.02\n",
       " J140923.91+261821.1_z0.683    12     2     0 ...      3   11.47     -1.0\n",
       "                        ...   ...   ...   ... ...    ...     ...      ...\n",
       " J152424.52+095829.1_z0.729    12     2     0 ...      3   11.49     -1.0\n",
       " J023507.34-040205.3_z0.739    12     2     0 ...      1   11.98      0.1\n",
       " J055224.51-640210.8_z0.345    12     2     0 ...      3   12.22     -1.0\n",
       "   J163201.11+373750_z0.274    12     2     0 ...      1   12.19     0.02\n",
       " J130533.01-103319.4_z0.098     0     0     0 ...      0     0.0      0.0\n",
       "    J120858+454035.4_z0.927    12     2     0 ...      1    13.8     0.05\n",
       " J163428.99+703132.4_z1.040    12     2     0 ...      1   12.42     0.03\n",
       "    J215501.4-092224_z0.081    12     2     0 ...      1   12.42     0.03\n",
       " J031155.23-765150.9_z0.203    12     2     0 ...      1   12.42     0.03\n",
       " J100902.16+071343.9_z0.359    12     2     0 ...      1   12.42     0.03"
      ]
     },
     "execution_count": 42,
     "metadata": {},
     "output_type": "execute_result"
    }
   ],
   "source": [
    "L13.ions((12,2))"
   ]
  },
  {
   "cell_type": "markdown",
   "metadata": {},
   "source": [
    "## Wotta+16"
   ]
  },
  {
   "cell_type": "markdown",
   "metadata": {},
   "source": [
    "### Build Systems"
   ]
  },
  {
   "cell_type": "code",
   "execution_count": 43,
   "metadata": {
    "collapsed": false
   },
   "outputs": [],
   "source": [
    "w16_lls = []\n",
    "for ii,row in enumerate(w16_mtl):\n",
    "    # L13?\n",
    "    if ':' not in row['RA']:\n",
    "        continue\n",
    "    # init\n",
    "    lls = LLSSystem(radec=(row['RA']+row['DEC']),zem=row['z_em'],\n",
    "                    zabs=row['z_abs'],NHI=row['logNHI'],\n",
    "                    sig_NHI=row['elogNHI'],\n",
    "                    vlim=[-500,500]*u.km/u.s)\n",
    "    # Metallicity\n",
    "    lls.ZH = row['[X/H]']\n",
    "    lls.sig_ZH = (row['em_[X/H]'], row['ep_[X/H]'])\n",
    "    # MgII component\n",
    "    try:\n",
    "        eMgII = float(row['ep_logNMgII'])\n",
    "    except:\n",
    "        pass\n",
    "    else:\n",
    "        if eMgII > 9000:\n",
    "            pass\n",
    "        else:\n",
    "            if row['ep_logNMgII'] == -1.:\n",
    "                flg = 3\n",
    "            elif row['ep_logNMgII'] == 1.:\n",
    "                flg = 2\n",
    "            else:\n",
    "                flg = 1\n",
    "            # Build a component\n",
    "            absc = AbsComponent(lls.coord, (12,2), lls.zabs, [row['vmin'],row['vmax']]*u.km/u.s, \n",
    "                               Ntup=(flg, float(row['logNMgII']), \n",
    "                                    np.mean([row['em_logNMgII'],row['ep_logNMgII']])))\n",
    "            # Add\n",
    "            #pdb.set_trace()\n",
    "            lls._components.append(absc)\n",
    "    # Append\n",
    "    w16_lls.append(lls)"
   ]
  },
  {
   "cell_type": "code",
   "execution_count": 44,
   "metadata": {
    "collapsed": true
   },
   "outputs": [],
   "source": [
    "W16 = LLSSurvey()\n",
    "W16._abs_sys = w16_lls"
   ]
  },
  {
   "cell_type": "code",
   "execution_count": 45,
   "metadata": {
    "collapsed": false
   },
   "outputs": [
    {
     "data": {
      "text/plain": [
       "array([-1.99, -1.96, -0.64, -1.4 , -1.81, -0.73, -0.39, -1.08, -1.56,\n",
       "       -0.17, -1.31, -1.33, -1.12, -0.85, -0.52, -0.92, -0.41, -1.27,\n",
       "       -2.48, -0.49, -0.44, -1.92, -0.72, -1.79, -1.65, -1.77, -0.23,\n",
       "       -1.6 , -0.48, -1.66])"
      ]
     },
     "execution_count": 45,
     "metadata": {},
     "output_type": "execute_result"
    }
   ],
   "source": [
    "W16.ZH"
   ]
  },
  {
   "cell_type": "code",
   "execution_count": 46,
   "metadata": {
    "collapsed": true
   },
   "outputs": [],
   "source": [
    "W16.fill_ions(use_components=True)"
   ]
  },
  {
   "cell_type": "code",
   "execution_count": 47,
   "metadata": {
    "collapsed": false
   },
   "outputs": [
    {
     "data": {
      "text/html": [
       "&lt;Table length=30&gt;\n",
       "<table id=\"table4639409104\">\n",
       "<thead><tr><th>name</th><th>Z</th><th>ion</th><th>A</th><th>Ej</th><th>z</th><th>vmin</th><th>vmax</th><th>flag_N</th><th>logN</th><th>sig_logN</th></tr></thead>\n",
       "<thead><tr><th></th><th></th><th></th><th></th><th>1 / cm</th><th></th><th>km / s</th><th>km / s</th><th></th><th></th><th></th></tr></thead>\n",
       "<thead><tr><th>unicode32</th><th>int64</th><th>int64</th><th>int64</th><th>float64</th><th>float64</th><th>float64</th><th>float64</th><th>int64</th><th>float64</th><th>float64</th></tr></thead>\n",
       "<tr><td>J080003.9+421253.2_z0.598</td><td>12</td><td>2</td><td>0</td><td>0.0</td><td>0.598</td><td>-100.0</td><td>100.0</td><td>1</td><td>11.75</td><td>0.235</td></tr>\n",
       "<tr><td>J080424.97+274323.2_z0.911</td><td>12</td><td>2</td><td>0</td><td>0.0</td><td>0.9106</td><td>-103.0</td><td>79.0</td><td>1</td><td>12.27</td><td>0.07</td></tr>\n",
       "<tr><td>J080630.3+144242.4_z1.094</td><td>12</td><td>2</td><td>0</td><td>0.0</td><td>1.0943</td><td>-26.0</td><td>16.0</td><td>2</td><td>13.51</td><td>1.0</td></tr>\n",
       "<tr><td>J080630.3+144242.4_z0.924</td><td>12</td><td>2</td><td>0</td><td>0.0</td><td>0.9238</td><td>-14.0</td><td>9.0</td><td>1</td><td>12.57</td><td>0.09</td></tr>\n",
       "<tr><td>J081002.69+502538.7_z0.650</td><td>12</td><td>2</td><td>0</td><td>0.0</td><td>0.65</td><td>-100.0</td><td>100.0</td><td>3</td><td>11.75</td><td>-1.0</td></tr>\n",
       "<tr><td>J081007.64+542443.7_z0.857</td><td>12</td><td>2</td><td>0</td><td>0.0</td><td>0.857</td><td>-115.0</td><td>115.0</td><td>2</td><td>13.55</td><td>1.0</td></tr>\n",
       "<tr><td>J095045.71+302518.4_z0.588</td><td>12</td><td>2</td><td>0</td><td>0.0</td><td>0.5876</td><td>-150.0</td><td>150.0</td><td>2</td><td>13.35</td><td>1.0</td></tr>\n",
       "<tr><td>J095045.71+302518.4_z0.574</td><td>12</td><td>2</td><td>0</td><td>0.0</td><td>0.5739</td><td>-142.0</td><td>191.0</td><td>1</td><td>13.24</td><td>0.1</td></tr>\n",
       "<tr><td>J095711.78+631010.1_z0.910</td><td>12</td><td>2</td><td>0</td><td>0.0</td><td>0.91</td><td>-100.0</td><td>100.0</td><td>3</td><td>11.89</td><td>-1.0</td></tr>\n",
       "<tr><td>...</td><td>...</td><td>...</td><td>...</td><td>...</td><td>...</td><td>...</td><td>...</td><td>...</td><td>...</td><td>...</td></tr>\n",
       "<tr><td>J152843.91+520517.7_z0.581</td><td>12</td><td>2</td><td>0</td><td>0.0</td><td>0.5809</td><td>-103.0</td><td>90.0</td><td>2</td><td>13.65</td><td>1.0</td></tr>\n",
       "<tr><td>J153602.47+393207_z0.454</td><td>12</td><td>2</td><td>0</td><td>0.0</td><td>0.454</td><td>-30.0</td><td>30.0</td><td>3</td><td>11.49</td><td>-1.0</td></tr>\n",
       "<tr><td>J163156.13+435943.6_z0.520</td><td>12</td><td>2</td><td>0</td><td>0.0</td><td>0.5196</td><td>-100.0</td><td>125.0</td><td>2</td><td>12.81</td><td>1.0</td></tr>\n",
       "<tr><td>J171654.2+302701.4_z0.756</td><td>12</td><td>2</td><td>0</td><td>0.0</td><td>0.756</td><td>-30.0</td><td>30.0</td><td>3</td><td>11.38</td><td>-1.0</td></tr>\n",
       "<tr><td>J171654.2+302701.4_z0.710</td><td>12</td><td>2</td><td>0</td><td>0.0</td><td>0.7103</td><td>-30.0</td><td>30.0</td><td>3</td><td>11.43</td><td>-1.0</td></tr>\n",
       "<tr><td>J171654.2+302701.4_z0.400</td><td>12</td><td>2</td><td>0</td><td>0.0</td><td>0.3995</td><td>-11.0</td><td>20.0</td><td>1</td><td>11.94</td><td>0.08</td></tr>\n",
       "<tr><td>J225350.09+140210.3_z0.574</td><td>12</td><td>2</td><td>0</td><td>0.0</td><td>0.5737</td><td>-220.0</td><td>190.0</td><td>1</td><td>13.28</td><td>0.07</td></tr>\n",
       "<tr><td>J225350.09+140210.3_z0.327</td><td>12</td><td>2</td><td>0</td><td>0.0</td><td>0.327</td><td>-100.0</td><td>100.0</td><td>1</td><td>11.96</td><td>0.225</td></tr>\n",
       "<tr><td>J225541.64+145715.9_z0.805</td><td>12</td><td>2</td><td>0</td><td>0.0</td><td>0.8051</td><td>-100.0</td><td>135.0</td><td>1</td><td>13.11</td><td>0.06</td></tr>\n",
       "<tr><td>J225541.64+145715.9_z0.446</td><td>12</td><td>2</td><td>0</td><td>0.0</td><td>0.446</td><td>-100.0</td><td>100.0</td><td>3</td><td>11.7</td><td>-1.0</td></tr>\n",
       "</table>"
      ],
      "text/plain": [
       "<Table length=30>\n",
       "           name              Z    ion    A   ...   vmax  flag_N   logN  sig_logN\n",
       "                                             ...  km / s                        \n",
       "        unicode32          int64 int64 int64 ... float64 int64  float64 float64 \n",
       "-------------------------- ----- ----- ----- ... ------- ------ ------- --------\n",
       " J080003.9+421253.2_z0.598    12     2     0 ...   100.0      1   11.75    0.235\n",
       "J080424.97+274323.2_z0.911    12     2     0 ...    79.0      1   12.27     0.07\n",
       " J080630.3+144242.4_z1.094    12     2     0 ...    16.0      2   13.51      1.0\n",
       " J080630.3+144242.4_z0.924    12     2     0 ...     9.0      1   12.57     0.09\n",
       "J081002.69+502538.7_z0.650    12     2     0 ...   100.0      3   11.75     -1.0\n",
       "J081007.64+542443.7_z0.857    12     2     0 ...   115.0      2   13.55      1.0\n",
       "J095045.71+302518.4_z0.588    12     2     0 ...   150.0      2   13.35      1.0\n",
       "J095045.71+302518.4_z0.574    12     2     0 ...   191.0      1   13.24      0.1\n",
       "J095711.78+631010.1_z0.910    12     2     0 ...   100.0      3   11.89     -1.0\n",
       "                       ...   ...   ...   ... ...     ...    ...     ...      ...\n",
       "J152843.91+520517.7_z0.581    12     2     0 ...    90.0      2   13.65      1.0\n",
       "  J153602.47+393207_z0.454    12     2     0 ...    30.0      3   11.49     -1.0\n",
       "J163156.13+435943.6_z0.520    12     2     0 ...   125.0      2   12.81      1.0\n",
       " J171654.2+302701.4_z0.756    12     2     0 ...    30.0      3   11.38     -1.0\n",
       " J171654.2+302701.4_z0.710    12     2     0 ...    30.0      3   11.43     -1.0\n",
       " J171654.2+302701.4_z0.400    12     2     0 ...    20.0      1   11.94     0.08\n",
       "J225350.09+140210.3_z0.574    12     2     0 ...   190.0      1   13.28     0.07\n",
       "J225350.09+140210.3_z0.327    12     2     0 ...   100.0      1   11.96    0.225\n",
       "J225541.64+145715.9_z0.805    12     2     0 ...   135.0      1   13.11     0.06\n",
       "J225541.64+145715.9_z0.446    12     2     0 ...   100.0      3    11.7     -1.0"
      ]
     },
     "execution_count": 47,
     "metadata": {},
     "output_type": "execute_result"
    }
   ],
   "source": [
    "W16.ions((12,2))"
   ]
  },
  {
   "cell_type": "markdown",
   "metadata": {},
   "source": [
    "## Some fun"
   ]
  },
  {
   "cell_type": "code",
   "execution_count": 48,
   "metadata": {
    "collapsed": false
   },
   "outputs": [
    {
     "data": {
      "text/html": [
       "\n",
       "    <div class=\"bk-banner\">\n",
       "        <a href=\"http://bokeh.pydata.org\" target=\"_blank\" class=\"bk-logo bk-logo-small bk-logo-notebook\"></a>\n",
       "        <span id=\"615e8470-fc50-412f-9a81-146b7e9646c3\">Loading BokehJS ...</span>\n",
       "    </div>"
      ]
     },
     "metadata": {},
     "output_type": "display_data"
    },
    {
     "data": {
      "application/javascript": [
       "\n",
       "(function(global) {\n",
       "  function now() {\n",
       "    return new Date();\n",
       "  }\n",
       "\n",
       "  if (typeof (window._bokeh_onload_callbacks) === \"undefined\") {\n",
       "    window._bokeh_onload_callbacks = [];\n",
       "  }\n",
       "\n",
       "  function run_callbacks() {\n",
       "    window._bokeh_onload_callbacks.forEach(function(callback) { callback() });\n",
       "    delete window._bokeh_onload_callbacks\n",
       "    console.info(\"Bokeh: all callbacks have finished\");\n",
       "  }\n",
       "\n",
       "  function load_libs(js_urls, callback) {\n",
       "    window._bokeh_onload_callbacks.push(callback);\n",
       "    if (window._bokeh_is_loading > 0) {\n",
       "      console.log(\"Bokeh: BokehJS is being loaded, scheduling callback at\", now());\n",
       "      return null;\n",
       "    }\n",
       "    if (js_urls == null || js_urls.length === 0) {\n",
       "      run_callbacks();\n",
       "      return null;\n",
       "    }\n",
       "    console.log(\"Bokeh: BokehJS not loaded, scheduling load and callback at\", now());\n",
       "    window._bokeh_is_loading = js_urls.length;\n",
       "    for (var i = 0; i < js_urls.length; i++) {\n",
       "      var url = js_urls[i];\n",
       "      var s = document.createElement('script');\n",
       "      s.src = url;\n",
       "      s.async = false;\n",
       "      s.onreadystatechange = s.onload = function() {\n",
       "        window._bokeh_is_loading--;\n",
       "        if (window._bokeh_is_loading === 0) {\n",
       "          console.log(\"Bokeh: all BokehJS libraries loaded\");\n",
       "          run_callbacks()\n",
       "        }\n",
       "      };\n",
       "      s.onerror = function() {\n",
       "        console.warn(\"failed to load library \" + url);\n",
       "      };\n",
       "      console.log(\"Bokeh: injecting script tag for BokehJS library: \", url);\n",
       "      document.getElementsByTagName(\"head\")[0].appendChild(s);\n",
       "    }\n",
       "  };\n",
       "\n",
       "  var js_urls = ['https://cdn.pydata.org/bokeh/release/bokeh-0.11.1.min.js', 'https://cdn.pydata.org/bokeh/release/bokeh-widgets-0.11.1.min.js', 'https://cdn.pydata.org/bokeh/release/bokeh-compiler-0.11.1.min.js'];\n",
       "\n",
       "  var inline_js = [\n",
       "    function(Bokeh) {\n",
       "      Bokeh.set_log_level(\"info\");\n",
       "    },\n",
       "    \n",
       "    function(Bokeh) {\n",
       "      Bokeh.$(\"#615e8470-fc50-412f-9a81-146b7e9646c3\").text(\"BokehJS successfully loaded\");\n",
       "    },\n",
       "    function(Bokeh) {\n",
       "      console.log(\"Bokeh: injecting CSS: https://cdn.pydata.org/bokeh/release/bokeh-0.11.1.min.css\");\n",
       "      Bokeh.embed.inject_css(\"https://cdn.pydata.org/bokeh/release/bokeh-0.11.1.min.css\");\n",
       "      console.log(\"Bokeh: injecting CSS: https://cdn.pydata.org/bokeh/release/bokeh-widgets-0.11.1.min.css\");\n",
       "      Bokeh.embed.inject_css(\"https://cdn.pydata.org/bokeh/release/bokeh-widgets-0.11.1.min.css\");\n",
       "    }\n",
       "  ];\n",
       "\n",
       "  function run_inline_js() {\n",
       "    for (var i = 0; i < inline_js.length; i++) {\n",
       "      inline_js[i](window.Bokeh);\n",
       "    }\n",
       "  }\n",
       "\n",
       "  if (window._bokeh_is_loading === 0) {\n",
       "    console.log(\"Bokeh: BokehJS loaded, going straight to plotting\");\n",
       "    run_inline_js();\n",
       "  } else {\n",
       "    load_libs(js_urls, function() {\n",
       "      console.log(\"Bokeh: BokehJS plotting callback run at\", now());\n",
       "      run_inline_js();\n",
       "    });\n",
       "  }\n",
       "}(this));"
      ]
     },
     "metadata": {},
     "output_type": "display_data"
    }
   ],
   "source": [
    "from bokeh.io import output_notebook, show, hplot, output_file\n",
    "from bokeh.plotting import figure\n",
    "from bokeh.models import Range1d\n",
    "\n",
    "output_notebook()"
   ]
  },
  {
   "cell_type": "markdown",
   "metadata": {},
   "source": [
    "### NHI"
   ]
  },
  {
   "cell_type": "code",
   "execution_count": 50,
   "metadata": {
    "collapsed": false
   },
   "outputs": [
    {
     "data": {
      "text/html": [
       "\n",
       "\n",
       "    <div class=\"plotdiv\" id=\"ddf0aaee-eadd-4fe8-9899-2258e85af297\"></div>\n",
       "<script type=\"text/javascript\">\n",
       "  \n",
       "  (function(global) {\n",
       "    function now() {\n",
       "      return new Date();\n",
       "    }\n",
       "  \n",
       "    if (typeof (window._bokeh_onload_callbacks) === \"undefined\") {\n",
       "      window._bokeh_onload_callbacks = [];\n",
       "    }\n",
       "  \n",
       "    function run_callbacks() {\n",
       "      window._bokeh_onload_callbacks.forEach(function(callback) { callback() });\n",
       "      delete window._bokeh_onload_callbacks\n",
       "      console.info(\"Bokeh: all callbacks have finished\");\n",
       "    }\n",
       "  \n",
       "    function load_libs(js_urls, callback) {\n",
       "      window._bokeh_onload_callbacks.push(callback);\n",
       "      if (window._bokeh_is_loading > 0) {\n",
       "        console.log(\"Bokeh: BokehJS is being loaded, scheduling callback at\", now());\n",
       "        return null;\n",
       "      }\n",
       "      if (js_urls == null || js_urls.length === 0) {\n",
       "        run_callbacks();\n",
       "        return null;\n",
       "      }\n",
       "      console.log(\"Bokeh: BokehJS not loaded, scheduling load and callback at\", now());\n",
       "      window._bokeh_is_loading = js_urls.length;\n",
       "      for (var i = 0; i < js_urls.length; i++) {\n",
       "        var url = js_urls[i];\n",
       "        var s = document.createElement('script');\n",
       "        s.src = url;\n",
       "        s.async = false;\n",
       "        s.onreadystatechange = s.onload = function() {\n",
       "          window._bokeh_is_loading--;\n",
       "          if (window._bokeh_is_loading === 0) {\n",
       "            console.log(\"Bokeh: all BokehJS libraries loaded\");\n",
       "            run_callbacks()\n",
       "          }\n",
       "        };\n",
       "        s.onerror = function() {\n",
       "          console.warn(\"failed to load library \" + url);\n",
       "        };\n",
       "        console.log(\"Bokeh: injecting script tag for BokehJS library: \", url);\n",
       "        document.getElementsByTagName(\"head\")[0].appendChild(s);\n",
       "      }\n",
       "    };var element = document.getElementById(\"ddf0aaee-eadd-4fe8-9899-2258e85af297\");\n",
       "    if (element == null) {\n",
       "      console.log(\"Bokeh: ERROR: autoload.js configured with elementid 'ddf0aaee-eadd-4fe8-9899-2258e85af297' but no matching script tag was found. \")\n",
       "      return false;\n",
       "    }\n",
       "  \n",
       "    var js_urls = [];\n",
       "  \n",
       "    var inline_js = [\n",
       "      function(Bokeh) {\n",
       "        Bokeh.$(function() {\n",
       "            var docs_json = {\"4f5d32c9-df4d-46ef-baaf-0c5b3864e024\":{\"roots\":{\"references\":[{\"attributes\":{},\"id\":\"e7fe709a-e720-42b7-acf7-88c3a376c321\",\"type\":\"ToolEvents\"},{\"attributes\":{\"plot\":{\"id\":\"2e05a3e6-6964-4e89-bd14-f251c068e858\",\"subtype\":\"Figure\",\"type\":\"Plot\"}},\"id\":\"e8cbcc51-9f10-44cc-b6bb-0a4f6fcb494e\",\"type\":\"ResetTool\"},{\"attributes\":{\"callback\":null,\"column_names\":[\"top\",\"left\",\"right\"],\"data\":{\"left\":[15.5,15.75,16.0,16.25,16.5,16.75,17.0,17.25,17.5,17.75],\"right\":[15.75,16.0,16.25,16.5,16.75,17.0,17.25,17.5,17.75,18.0],\"top\":[0.0,0.0,0.0,0.13333333333333333,0.5333333333333333,1.7333333333333334,0.5333333333333333,0.4,0.6666666666666666,0.0]}},\"id\":\"6d76180a-4775-4190-9ae1-7c6e23a3ada0\",\"type\":\"ColumnDataSource\"},{\"attributes\":{\"below\":[{\"id\":\"b6a5572e-cce7-4cc4-a6ae-7e692a13a9e4\",\"type\":\"LinearAxis\"}],\"left\":[{\"id\":\"d9d1ff4e-be96-42f9-8bb6-398a979d09d2\",\"type\":\"LinearAxis\"}],\"plot_height\":400,\"plot_width\":400,\"renderers\":[{\"id\":\"b6a5572e-cce7-4cc4-a6ae-7e692a13a9e4\",\"type\":\"LinearAxis\"},{\"id\":\"3fb3471a-004e-4383-a48e-29d9d2d0f44c\",\"type\":\"Grid\"},{\"id\":\"d9d1ff4e-be96-42f9-8bb6-398a979d09d2\",\"type\":\"LinearAxis\"},{\"id\":\"c3bda54c-eeac-405f-ad31-f1d5c827d006\",\"type\":\"Grid\"},{\"id\":\"15ff2bde-7c88-40c3-97c6-985f3edcb1df\",\"type\":\"BoxAnnotation\"},{\"id\":\"456a8208-ec2d-4f09-a068-6765beb820f3\",\"type\":\"GlyphRenderer\"},{\"id\":\"1d6c39c7-05cd-49e0-83d8-f9cd6bf14af9\",\"type\":\"GlyphRenderer\"}],\"title\":\"L13/W16 NHI\",\"tool_events\":{\"id\":\"e7fe709a-e720-42b7-acf7-88c3a376c321\",\"type\":\"ToolEvents\"},\"tools\":[{\"id\":\"f29ad6e6-48f3-41cf-b36a-9c80335ec98e\",\"type\":\"PanTool\"},{\"id\":\"5aeb66e4-4215-4f01-9545-c85b7e0f530e\",\"type\":\"WheelZoomTool\"},{\"id\":\"35045bda-1bef-45b6-99fd-34ca44783a18\",\"type\":\"BoxZoomTool\"},{\"id\":\"bd8ba60e-6f89-4df8-bed4-56a14a961361\",\"type\":\"PreviewSaveTool\"},{\"id\":\"76b66f70-1589-4e48-ad30-ee482cf4594b\",\"type\":\"ResizeTool\"},{\"id\":\"700fcc58-a6d6-4de1-863e-b4cfd3ca6f50\",\"type\":\"ResetTool\"},{\"id\":\"ebd46eaa-1823-459b-91c0-d8d2961aba67\",\"type\":\"HelpTool\"}],\"x_range\":{\"id\":\"47a8f999-327c-41f4-9fd1-4c34e02ab2e7\",\"type\":\"DataRange1d\"},\"y_range\":{\"id\":\"1ca1209a-ec35-4f18-8b18-5762ff0d7fb5\",\"type\":\"DataRange1d\"}},\"id\":\"cab4f60b-405e-4d0c-98f0-54e6872e80a5\",\"subtype\":\"Figure\",\"type\":\"Plot\"},{\"attributes\":{\"plot\":{\"id\":\"2e05a3e6-6964-4e89-bd14-f251c068e858\",\"subtype\":\"Figure\",\"type\":\"Plot\"}},\"id\":\"1683b604-b7f2-4430-87ba-65491d6ae385\",\"type\":\"WheelZoomTool\"},{\"attributes\":{\"bottom_units\":\"screen\",\"fill_alpha\":{\"value\":0.5},\"fill_color\":{\"value\":\"lightgrey\"},\"left_units\":\"screen\",\"level\":\"overlay\",\"line_alpha\":{\"value\":1.0},\"line_color\":{\"value\":\"black\"},\"line_dash\":[4,4],\"line_width\":{\"value\":2},\"plot\":null,\"render_mode\":\"css\",\"right_units\":\"screen\",\"top_units\":\"screen\"},\"id\":\"d720cb2c-1b3d-48a8-8ab3-f412c2edfbde\",\"type\":\"BoxAnnotation\"},{\"attributes\":{\"plot\":{\"id\":\"cab4f60b-405e-4d0c-98f0-54e6872e80a5\",\"subtype\":\"Figure\",\"type\":\"Plot\"}},\"id\":\"f29ad6e6-48f3-41cf-b36a-9c80335ec98e\",\"type\":\"PanTool\"},{\"attributes\":{\"callback\":null,\"column_names\":[\"top\",\"left\",\"right\"],\"data\":{\"left\":[15.5,15.85,16.2,16.55,16.9,17.25,17.6,17.95,18.3,18.65],\"right\":[15.85,16.2,16.55,16.9,17.25,17.6,17.95,18.3,18.65,19.0],\"top\":[0.0,0.3061224489795921,1.3265306122448925,0.5102040816326562,0.3061224489795906,0.1020408163265302,0.0,0.2040816326530604,0.10204081632653124,0.0]}},\"id\":\"20171042-eb28-4d25-ac34-dd1e4d3426d7\",\"type\":\"ColumnDataSource\"},{\"attributes\":{\"dimension\":1,\"plot\":{\"id\":\"cab4f60b-405e-4d0c-98f0-54e6872e80a5\",\"subtype\":\"Figure\",\"type\":\"Plot\"},\"ticker\":{\"id\":\"79a56b8a-73b0-40fb-ac91-c123e9f67758\",\"type\":\"BasicTicker\"}},\"id\":\"c3bda54c-eeac-405f-ad31-f1d5c827d006\",\"type\":\"Grid\"},{\"attributes\":{},\"id\":\"da5bb68e-8037-4a3a-b6ba-2601ca992a48\",\"type\":\"BasicTickFormatter\"},{\"attributes\":{\"plot\":{\"id\":\"2e05a3e6-6964-4e89-bd14-f251c068e858\",\"subtype\":\"Figure\",\"type\":\"Plot\"}},\"id\":\"5aea39bc-829c-4a3d-b6c1-275dda46cb34\",\"type\":\"ResizeTool\"},{\"attributes\":{\"plot\":{\"id\":\"2e05a3e6-6964-4e89-bd14-f251c068e858\",\"subtype\":\"Figure\",\"type\":\"Plot\"}},\"id\":\"47b51f49-29dc-45f3-a278-c8175dbc2087\",\"type\":\"PanTool\"},{\"attributes\":{\"plot\":{\"id\":\"cab4f60b-405e-4d0c-98f0-54e6872e80a5\",\"subtype\":\"Figure\",\"type\":\"Plot\"},\"ticker\":{\"id\":\"abbae872-3b5b-45d3-990b-1126ac1c2c04\",\"type\":\"BasicTicker\"}},\"id\":\"3fb3471a-004e-4383-a48e-29d9d2d0f44c\",\"type\":\"Grid\"},{\"attributes\":{\"data_source\":{\"id\":\"6d76180a-4775-4190-9ae1-7c6e23a3ada0\",\"type\":\"ColumnDataSource\"},\"glyph\":{\"id\":\"a7ff6967-6007-4325-a62f-e2e8d6c248f7\",\"type\":\"Quad\"},\"hover_glyph\":null,\"nonselection_glyph\":{\"id\":\"a5a01578-2717-4a23-ac7f-14c010b6caaf\",\"type\":\"Quad\"},\"selection_glyph\":null},\"id\":\"1d6c39c7-05cd-49e0-83d8-f9cd6bf14af9\",\"type\":\"GlyphRenderer\"},{\"attributes\":{\"plot\":{\"id\":\"cab4f60b-405e-4d0c-98f0-54e6872e80a5\",\"subtype\":\"Figure\",\"type\":\"Plot\"}},\"id\":\"5aeb66e4-4215-4f01-9545-c85b7e0f530e\",\"type\":\"WheelZoomTool\"},{\"attributes\":{\"bottom\":{\"value\":0},\"fill_alpha\":{\"value\":0.1},\"fill_color\":{\"value\":\"#1f77b4\"},\"left\":{\"field\":\"left\"},\"line_alpha\":{\"value\":0.1},\"line_color\":{\"value\":\"#1f77b4\"},\"right\":{\"field\":\"right\"},\"top\":{\"field\":\"top\"}},\"id\":\"cadf456c-d02e-4b6f-acd2-92156f2a8f37\",\"type\":\"Quad\"},{\"attributes\":{\"bottom\":{\"value\":0},\"fill_color\":{\"value\":\"blue\"},\"left\":{\"field\":\"left\"},\"line_color\":{\"value\":\"#1f77b4\"},\"right\":{\"field\":\"right\"},\"top\":{\"field\":\"top\"}},\"id\":\"e04757dd-2954-498b-9f98-484d9d58f8ad\",\"type\":\"Quad\"},{\"attributes\":{\"axis_label\":\"N_HI\",\"formatter\":{\"id\":\"da5bb68e-8037-4a3a-b6ba-2601ca992a48\",\"type\":\"BasicTickFormatter\"},\"plot\":{\"id\":\"cab4f60b-405e-4d0c-98f0-54e6872e80a5\",\"subtype\":\"Figure\",\"type\":\"Plot\"},\"ticker\":{\"id\":\"abbae872-3b5b-45d3-990b-1126ac1c2c04\",\"type\":\"BasicTicker\"}},\"id\":\"b6a5572e-cce7-4cc4-a6ae-7e692a13a9e4\",\"type\":\"LinearAxis\"},{\"attributes\":{\"bottom\":{\"value\":0},\"fill_color\":{\"value\":\"blue\"},\"left\":{\"field\":\"left\"},\"line_color\":{\"value\":\"#1f77b4\"},\"right\":{\"field\":\"right\"},\"top\":{\"field\":\"top\"}},\"id\":\"23b6d302-700e-42af-a5f0-dea93cc00f25\",\"type\":\"Quad\"},{\"attributes\":{\"data_source\":{\"id\":\"d9a5fb03-bab5-4142-8749-b00a0d8c75cc\",\"type\":\"ColumnDataSource\"},\"glyph\":{\"id\":\"f02cc185-7789-4c99-be25-2e5a1a7198a4\",\"type\":\"Quad\"},\"hover_glyph\":null,\"nonselection_glyph\":{\"id\":\"f54c8f4b-3427-4f6e-b393-dfdaeda8c4a4\",\"type\":\"Quad\"},\"selection_glyph\":null},\"id\":\"eddb17cb-f758-4c8a-9cfb-ed041863a6d1\",\"type\":\"GlyphRenderer\"},{\"attributes\":{\"plot\":{\"id\":\"cab4f60b-405e-4d0c-98f0-54e6872e80a5\",\"subtype\":\"Figure\",\"type\":\"Plot\"}},\"id\":\"76b66f70-1589-4e48-ad30-ee482cf4594b\",\"type\":\"ResizeTool\"},{\"attributes\":{\"bottom\":{\"value\":0},\"fill_alpha\":{\"value\":0.1},\"fill_color\":{\"value\":\"#1f77b4\"},\"left\":{\"field\":\"left\"},\"line_alpha\":{\"value\":0.1},\"line_color\":{\"value\":\"#1f77b4\"},\"right\":{\"field\":\"right\"},\"top\":{\"field\":\"top\"}},\"id\":\"bc768cff-9654-40db-be1a-1e3b9148cfef\",\"type\":\"Quad\"},{\"attributes\":{},\"id\":\"02132872-1a32-44e2-a49d-909555e9747e\",\"type\":\"BasicTickFormatter\"},{\"attributes\":{\"callback\":null,\"column_names\":[\"top\",\"left\",\"right\"],\"data\":{\"left\":[15.5,15.75,16.0,16.25,16.5,16.75,17.0,17.25,17.5,17.75],\"right\":[15.75,16.0,16.25,16.5,16.75,17.0,17.25,17.5,17.75,18.0],\"top\":[0.0,0.0,0.0,0.13333333333333333,0.5333333333333333,1.7333333333333334,0.5333333333333333,0.4,0.6666666666666666,0.0]}},\"id\":\"d9a5fb03-bab5-4142-8749-b00a0d8c75cc\",\"type\":\"ColumnDataSource\"},{\"attributes\":{\"plot\":{\"id\":\"cab4f60b-405e-4d0c-98f0-54e6872e80a5\",\"subtype\":\"Figure\",\"type\":\"Plot\"}},\"id\":\"bd8ba60e-6f89-4df8-bed4-56a14a961361\",\"type\":\"PreviewSaveTool\"},{\"attributes\":{},\"id\":\"750fa6b3-05a4-4478-b422-06904d8cb6a5\",\"type\":\"BasicTickFormatter\"},{\"attributes\":{\"callback\":null},\"id\":\"6acfad83-513e-4d9b-a54c-869dd4db8ee0\",\"type\":\"DataRange1d\"},{\"attributes\":{\"bottom_units\":\"screen\",\"fill_alpha\":{\"value\":0.5},\"fill_color\":{\"value\":\"lightgrey\"},\"left_units\":\"screen\",\"level\":\"overlay\",\"line_alpha\":{\"value\":1.0},\"line_color\":{\"value\":\"black\"},\"line_dash\":[4,4],\"line_width\":{\"value\":2},\"plot\":null,\"render_mode\":\"css\",\"right_units\":\"screen\",\"top_units\":\"screen\"},\"id\":\"15ff2bde-7c88-40c3-97c6-985f3edcb1df\",\"type\":\"BoxAnnotation\"},{\"attributes\":{\"callback\":null},\"id\":\"47a8f999-327c-41f4-9fd1-4c34e02ab2e7\",\"type\":\"DataRange1d\"},{\"attributes\":{\"plot\":{\"id\":\"cab4f60b-405e-4d0c-98f0-54e6872e80a5\",\"subtype\":\"Figure\",\"type\":\"Plot\"}},\"id\":\"ebd46eaa-1823-459b-91c0-d8d2961aba67\",\"type\":\"HelpTool\"},{\"attributes\":{\"formatter\":{\"id\":\"750fa6b3-05a4-4478-b422-06904d8cb6a5\",\"type\":\"BasicTickFormatter\"},\"plot\":{\"id\":\"2e05a3e6-6964-4e89-bd14-f251c068e858\",\"subtype\":\"Figure\",\"type\":\"Plot\"},\"ticker\":{\"id\":\"8444e494-5d87-4695-943f-5a56a2568c39\",\"type\":\"BasicTicker\"}},\"id\":\"5442c9f7-b7ef-4c88-b41c-1095be0d344b\",\"type\":\"LinearAxis\"},{\"attributes\":{\"plot\":{\"id\":\"2e05a3e6-6964-4e89-bd14-f251c068e858\",\"subtype\":\"Figure\",\"type\":\"Plot\"}},\"id\":\"c32f0a5d-df80-4e9e-8d99-45ca3ccda2c0\",\"type\":\"PreviewSaveTool\"},{\"attributes\":{\"dimension\":1,\"plot\":{\"id\":\"2e05a3e6-6964-4e89-bd14-f251c068e858\",\"subtype\":\"Figure\",\"type\":\"Plot\"},\"ticker\":{\"id\":\"8444e494-5d87-4695-943f-5a56a2568c39\",\"type\":\"BasicTicker\"}},\"id\":\"8af8b62d-fd93-43ac-82e6-93f4d4990d32\",\"type\":\"Grid\"},{\"attributes\":{},\"id\":\"a7b45c33-5b43-4093-be32-92edc4362a3c\",\"type\":\"ToolEvents\"},{\"attributes\":{\"bottom\":{\"value\":0},\"fill_alpha\":{\"value\":0.1},\"fill_color\":{\"value\":\"#1f77b4\"},\"left\":{\"field\":\"left\"},\"line_alpha\":{\"value\":0.1},\"line_color\":{\"value\":\"#1f77b4\"},\"right\":{\"field\":\"right\"},\"top\":{\"field\":\"top\"}},\"id\":\"f54c8f4b-3427-4f6e-b393-dfdaeda8c4a4\",\"type\":\"Quad\"},{\"attributes\":{\"overlay\":{\"id\":\"d720cb2c-1b3d-48a8-8ab3-f412c2edfbde\",\"type\":\"BoxAnnotation\"},\"plot\":{\"id\":\"2e05a3e6-6964-4e89-bd14-f251c068e858\",\"subtype\":\"Figure\",\"type\":\"Plot\"}},\"id\":\"f2d820b0-79a0-4e34-9034-1f28c0bc1e47\",\"type\":\"BoxZoomTool\"},{\"attributes\":{\"plot\":{\"id\":\"2e05a3e6-6964-4e89-bd14-f251c068e858\",\"subtype\":\"Figure\",\"type\":\"Plot\"}},\"id\":\"73abaf94-ce4e-44a3-9209-231aa7816358\",\"type\":\"HelpTool\"},{\"attributes\":{\"bottom\":{\"value\":0},\"fill_color\":{\"value\":\"red\"},\"left\":{\"field\":\"left\"},\"line_color\":{\"value\":\"#1f77b4\"},\"right\":{\"field\":\"right\"},\"top\":{\"field\":\"top\"}},\"id\":\"f02cc185-7789-4c99-be25-2e5a1a7198a4\",\"type\":\"Quad\"},{\"attributes\":{},\"id\":\"7a901a90-58e5-401d-9fed-e4b8ce9b2888\",\"type\":\"BasicTicker\"},{\"attributes\":{\"bottom\":{\"value\":0},\"fill_alpha\":{\"value\":0.1},\"fill_color\":{\"value\":\"#1f77b4\"},\"left\":{\"field\":\"left\"},\"line_alpha\":{\"value\":0.1},\"line_color\":{\"value\":\"#1f77b4\"},\"right\":{\"field\":\"right\"},\"top\":{\"field\":\"top\"}},\"id\":\"a5a01578-2717-4a23-ac7f-14c010b6caaf\",\"type\":\"Quad\"},{\"attributes\":{},\"id\":\"e09eb110-9d48-418c-aec4-70b2e4d2583d\",\"type\":\"BasicTickFormatter\"},{\"attributes\":{\"bottom\":{\"value\":0},\"fill_color\":{\"value\":\"red\"},\"left\":{\"field\":\"left\"},\"line_color\":{\"value\":\"#1f77b4\"},\"right\":{\"field\":\"right\"},\"top\":{\"field\":\"top\"}},\"id\":\"a7ff6967-6007-4325-a62f-e2e8d6c248f7\",\"type\":\"Quad\"},{\"attributes\":{\"below\":[{\"id\":\"793b2c40-bd47-4731-bffa-dd7560d231cd\",\"type\":\"LinearAxis\"}],\"left\":[{\"id\":\"5442c9f7-b7ef-4c88-b41c-1095be0d344b\",\"type\":\"LinearAxis\"}],\"plot_height\":400,\"plot_width\":400,\"renderers\":[{\"id\":\"793b2c40-bd47-4731-bffa-dd7560d231cd\",\"type\":\"LinearAxis\"},{\"id\":\"74c80c76-63f9-4722-a156-2b71659b474e\",\"type\":\"Grid\"},{\"id\":\"5442c9f7-b7ef-4c88-b41c-1095be0d344b\",\"type\":\"LinearAxis\"},{\"id\":\"8af8b62d-fd93-43ac-82e6-93f4d4990d32\",\"type\":\"Grid\"},{\"id\":\"d720cb2c-1b3d-48a8-8ab3-f412c2edfbde\",\"type\":\"BoxAnnotation\"},{\"id\":\"9c2fc599-f503-4438-a78e-dfddf37ffe77\",\"type\":\"GlyphRenderer\"},{\"id\":\"eddb17cb-f758-4c8a-9cfb-ed041863a6d1\",\"type\":\"GlyphRenderer\"}],\"title\":\"L13/W16 NHI\",\"tool_events\":{\"id\":\"a7b45c33-5b43-4093-be32-92edc4362a3c\",\"type\":\"ToolEvents\"},\"tools\":[{\"id\":\"47b51f49-29dc-45f3-a278-c8175dbc2087\",\"type\":\"PanTool\"},{\"id\":\"1683b604-b7f2-4430-87ba-65491d6ae385\",\"type\":\"WheelZoomTool\"},{\"id\":\"f2d820b0-79a0-4e34-9034-1f28c0bc1e47\",\"type\":\"BoxZoomTool\"},{\"id\":\"c32f0a5d-df80-4e9e-8d99-45ca3ccda2c0\",\"type\":\"PreviewSaveTool\"},{\"id\":\"5aea39bc-829c-4a3d-b6c1-275dda46cb34\",\"type\":\"ResizeTool\"},{\"id\":\"e8cbcc51-9f10-44cc-b6bb-0a4f6fcb494e\",\"type\":\"ResetTool\"},{\"id\":\"73abaf94-ce4e-44a3-9209-231aa7816358\",\"type\":\"HelpTool\"}],\"x_range\":{\"id\":\"9b607aec-2f82-41c7-bd22-474b5ca0174b\",\"type\":\"DataRange1d\"},\"y_range\":{\"id\":\"6acfad83-513e-4d9b-a54c-869dd4db8ee0\",\"type\":\"DataRange1d\"}},\"id\":\"2e05a3e6-6964-4e89-bd14-f251c068e858\",\"subtype\":\"Figure\",\"type\":\"Plot\"},{\"attributes\":{\"callback\":null,\"column_names\":[\"top\",\"left\",\"right\"],\"data\":{\"left\":[15.5,15.75,16.0,16.25,16.5,16.75,17.0,17.25,17.5,17.75],\"right\":[15.75,16.0,16.25,16.5,16.75,17.0,17.25,17.5,17.75,18.0],\"top\":[0.0,0.0,0.7692307692307693,1.5384615384615385,0.7692307692307693,0.3076923076923077,0.3076923076923077,0.15384615384615385,0.0,0.15384615384615385]}},\"id\":\"9f458619-51f1-47d0-8227-588898597812\",\"type\":\"ColumnDataSource\"},{\"attributes\":{},\"id\":\"79a56b8a-73b0-40fb-ac91-c123e9f67758\",\"type\":\"BasicTicker\"},{\"attributes\":{\"plot\":{\"id\":\"cab4f60b-405e-4d0c-98f0-54e6872e80a5\",\"subtype\":\"Figure\",\"type\":\"Plot\"}},\"id\":\"700fcc58-a6d6-4de1-863e-b4cfd3ca6f50\",\"type\":\"ResetTool\"},{\"attributes\":{\"formatter\":{\"id\":\"e09eb110-9d48-418c-aec4-70b2e4d2583d\",\"type\":\"BasicTickFormatter\"},\"plot\":{\"id\":\"cab4f60b-405e-4d0c-98f0-54e6872e80a5\",\"subtype\":\"Figure\",\"type\":\"Plot\"},\"ticker\":{\"id\":\"79a56b8a-73b0-40fb-ac91-c123e9f67758\",\"type\":\"BasicTicker\"}},\"id\":\"d9d1ff4e-be96-42f9-8bb6-398a979d09d2\",\"type\":\"LinearAxis\"},{\"attributes\":{\"plot\":{\"id\":\"2e05a3e6-6964-4e89-bd14-f251c068e858\",\"subtype\":\"Figure\",\"type\":\"Plot\"},\"ticker\":{\"id\":\"7a901a90-58e5-401d-9fed-e4b8ce9b2888\",\"type\":\"BasicTicker\"}},\"id\":\"74c80c76-63f9-4722-a156-2b71659b474e\",\"type\":\"Grid\"},{\"attributes\":{\"overlay\":{\"id\":\"15ff2bde-7c88-40c3-97c6-985f3edcb1df\",\"type\":\"BoxAnnotation\"},\"plot\":{\"id\":\"cab4f60b-405e-4d0c-98f0-54e6872e80a5\",\"subtype\":\"Figure\",\"type\":\"Plot\"}},\"id\":\"35045bda-1bef-45b6-99fd-34ca44783a18\",\"type\":\"BoxZoomTool\"},{\"attributes\":{\"callback\":null},\"id\":\"1ca1209a-ec35-4f18-8b18-5762ff0d7fb5\",\"type\":\"DataRange1d\"},{\"attributes\":{\"data_source\":{\"id\":\"20171042-eb28-4d25-ac34-dd1e4d3426d7\",\"type\":\"ColumnDataSource\"},\"glyph\":{\"id\":\"e04757dd-2954-498b-9f98-484d9d58f8ad\",\"type\":\"Quad\"},\"hover_glyph\":null,\"nonselection_glyph\":{\"id\":\"cadf456c-d02e-4b6f-acd2-92156f2a8f37\",\"type\":\"Quad\"},\"selection_glyph\":null},\"id\":\"456a8208-ec2d-4f09-a068-6765beb820f3\",\"type\":\"GlyphRenderer\"},{\"attributes\":{\"callback\":null},\"id\":\"9b607aec-2f82-41c7-bd22-474b5ca0174b\",\"type\":\"DataRange1d\"},{\"attributes\":{\"axis_label\":\"N_HI\",\"formatter\":{\"id\":\"02132872-1a32-44e2-a49d-909555e9747e\",\"type\":\"BasicTickFormatter\"},\"plot\":{\"id\":\"2e05a3e6-6964-4e89-bd14-f251c068e858\",\"subtype\":\"Figure\",\"type\":\"Plot\"},\"ticker\":{\"id\":\"7a901a90-58e5-401d-9fed-e4b8ce9b2888\",\"type\":\"BasicTicker\"}},\"id\":\"793b2c40-bd47-4731-bffa-dd7560d231cd\",\"type\":\"LinearAxis\"},{\"attributes\":{},\"id\":\"abbae872-3b5b-45d3-990b-1126ac1c2c04\",\"type\":\"BasicTicker\"},{\"attributes\":{},\"id\":\"8444e494-5d87-4695-943f-5a56a2568c39\",\"type\":\"BasicTicker\"},{\"attributes\":{\"data_source\":{\"id\":\"9f458619-51f1-47d0-8227-588898597812\",\"type\":\"ColumnDataSource\"},\"glyph\":{\"id\":\"23b6d302-700e-42af-a5f0-dea93cc00f25\",\"type\":\"Quad\"},\"hover_glyph\":null,\"nonselection_glyph\":{\"id\":\"bc768cff-9654-40db-be1a-1e3b9148cfef\",\"type\":\"Quad\"},\"selection_glyph\":null},\"id\":\"9c2fc599-f503-4438-a78e-dfddf37ffe77\",\"type\":\"GlyphRenderer\"}],\"root_ids\":[\"2e05a3e6-6964-4e89-bd14-f251c068e858\",\"cab4f60b-405e-4d0c-98f0-54e6872e80a5\"]},\"title\":\"Bokeh Application\",\"version\":\"0.11.1\"}};\n",
       "            var render_items = [{\"docid\":\"4f5d32c9-df4d-46ef-baaf-0c5b3864e024\",\"elementid\":\"ddf0aaee-eadd-4fe8-9899-2258e85af297\",\"modelid\":\"cab4f60b-405e-4d0c-98f0-54e6872e80a5\",\"notebook_comms_target\":\"2f020b23-4424-4ea8-bdd1-e512b7a4a2bc\"}];\n",
       "            \n",
       "            Bokeh.embed.embed_items(docs_json, render_items);\n",
       "        });\n",
       "      },\n",
       "      function(Bokeh) {\n",
       "      }\n",
       "    ];\n",
       "  \n",
       "    function run_inline_js() {\n",
       "      for (var i = 0; i < inline_js.length; i++) {\n",
       "        inline_js[i](window.Bokeh);\n",
       "      }\n",
       "    }\n",
       "  \n",
       "    if (window._bokeh_is_loading === 0) {\n",
       "      console.log(\"Bokeh: BokehJS loaded, going straight to plotting\");\n",
       "      run_inline_js();\n",
       "    } else {\n",
       "      load_libs(js_urls, function() {\n",
       "        console.log(\"Bokeh: BokehJS plotting callback run at\", now());\n",
       "        run_inline_js();\n",
       "      });\n",
       "    }\n",
       "  }(this));\n",
       "</script>"
      ]
     },
     "metadata": {},
     "output_type": "display_data"
    },
    {
     "data": {
      "text/html": [
       "<p><code>&lt;Bokeh Notebook handle for <strong>In[50]</strong>&gt;</code></p>"
      ],
      "text/plain": [
       "<bokeh.io._CommsHandle at 0x11d2e8d10>"
      ]
     },
     "execution_count": 50,
     "metadata": {},
     "output_type": "execute_result"
    }
   ],
   "source": [
    "# NHI\n",
    "p_NHI = figure(plot_width=400, plot_height=400, title='L13/W16 NHI')#,background_fill=\"#E8DDCB\")\n",
    "# L13\n",
    "hist, edges = np.histogram(L13.NHI, range=(15.5,19.), density=True, bins=10)\n",
    "p_NHI.quad(top=hist, bottom=0, left=edges[:-1], right=edges[1:],fill_color='blue')\n",
    "# W16\n",
    "hist, edges = np.histogram(W16.NHI, range=(15.5,18.), density=True, bins=10)\n",
    "p_NHI.quad(top=hist, bottom=0, left=edges[:-1], right=edges[1:],fill_color='red')\n",
    "#\n",
    "p_NHI.xaxis.axis_label = 'N_HI'\n",
    "show(p_NHI)"
   ]
  },
  {
   "cell_type": "markdown",
   "metadata": {},
   "source": [
    "### Bimodality!"
   ]
  },
  {
   "cell_type": "code",
   "execution_count": 51,
   "metadata": {
    "collapsed": false
   },
   "outputs": [],
   "source": [
    "L13W16 = L13 + W16"
   ]
  },
  {
   "cell_type": "code",
   "execution_count": 52,
   "metadata": {
    "collapsed": false
   },
   "outputs": [
    {
     "data": {
      "text/html": [
       "\n",
       "\n",
       "    <div class=\"plotdiv\" id=\"3d990bf5-a071-4ce6-a959-dab990263974\"></div>\n",
       "<script type=\"text/javascript\">\n",
       "  \n",
       "  (function(global) {\n",
       "    function now() {\n",
       "      return new Date();\n",
       "    }\n",
       "  \n",
       "    if (typeof (window._bokeh_onload_callbacks) === \"undefined\") {\n",
       "      window._bokeh_onload_callbacks = [];\n",
       "    }\n",
       "  \n",
       "    function run_callbacks() {\n",
       "      window._bokeh_onload_callbacks.forEach(function(callback) { callback() });\n",
       "      delete window._bokeh_onload_callbacks\n",
       "      console.info(\"Bokeh: all callbacks have finished\");\n",
       "    }\n",
       "  \n",
       "    function load_libs(js_urls, callback) {\n",
       "      window._bokeh_onload_callbacks.push(callback);\n",
       "      if (window._bokeh_is_loading > 0) {\n",
       "        console.log(\"Bokeh: BokehJS is being loaded, scheduling callback at\", now());\n",
       "        return null;\n",
       "      }\n",
       "      if (js_urls == null || js_urls.length === 0) {\n",
       "        run_callbacks();\n",
       "        return null;\n",
       "      }\n",
       "      console.log(\"Bokeh: BokehJS not loaded, scheduling load and callback at\", now());\n",
       "      window._bokeh_is_loading = js_urls.length;\n",
       "      for (var i = 0; i < js_urls.length; i++) {\n",
       "        var url = js_urls[i];\n",
       "        var s = document.createElement('script');\n",
       "        s.src = url;\n",
       "        s.async = false;\n",
       "        s.onreadystatechange = s.onload = function() {\n",
       "          window._bokeh_is_loading--;\n",
       "          if (window._bokeh_is_loading === 0) {\n",
       "            console.log(\"Bokeh: all BokehJS libraries loaded\");\n",
       "            run_callbacks()\n",
       "          }\n",
       "        };\n",
       "        s.onerror = function() {\n",
       "          console.warn(\"failed to load library \" + url);\n",
       "        };\n",
       "        console.log(\"Bokeh: injecting script tag for BokehJS library: \", url);\n",
       "        document.getElementsByTagName(\"head\")[0].appendChild(s);\n",
       "      }\n",
       "    };var element = document.getElementById(\"3d990bf5-a071-4ce6-a959-dab990263974\");\n",
       "    if (element == null) {\n",
       "      console.log(\"Bokeh: ERROR: autoload.js configured with elementid '3d990bf5-a071-4ce6-a959-dab990263974' but no matching script tag was found. \")\n",
       "      return false;\n",
       "    }\n",
       "  \n",
       "    var js_urls = [];\n",
       "  \n",
       "    var inline_js = [\n",
       "      function(Bokeh) {\n",
       "        Bokeh.$(function() {\n",
       "            var docs_json = {\"07f0f464-63ba-41ab-a5d9-f928430b5a9a\":{\"roots\":{\"references\":[{\"attributes\":{},\"id\":\"e7fe709a-e720-42b7-acf7-88c3a376c321\",\"type\":\"ToolEvents\"},{\"attributes\":{},\"id\":\"abbae872-3b5b-45d3-990b-1126ac1c2c04\",\"type\":\"BasicTicker\"},{\"attributes\":{\"plot\":{\"id\":\"2e05a3e6-6964-4e89-bd14-f251c068e858\",\"subtype\":\"Figure\",\"type\":\"Plot\"}},\"id\":\"e8cbcc51-9f10-44cc-b6bb-0a4f6fcb494e\",\"type\":\"ResetTool\"},{\"attributes\":{\"callback\":null,\"column_names\":[\"top\",\"left\",\"right\"],\"data\":{\"left\":[15.5,15.75,16.0,16.25,16.5,16.75,17.0,17.25,17.5,17.75],\"right\":[15.75,16.0,16.25,16.5,16.75,17.0,17.25,17.5,17.75,18.0],\"top\":[0.0,0.0,0.0,0.13333333333333333,0.5333333333333333,1.7333333333333334,0.5333333333333333,0.4,0.6666666666666666,0.0]}},\"id\":\"6d76180a-4775-4190-9ae1-7c6e23a3ada0\",\"type\":\"ColumnDataSource\"},{\"attributes\":{\"plot\":{\"id\":\"a4d79ea5-62c9-4771-8098-3f786c622d99\",\"subtype\":\"Figure\",\"type\":\"Plot\"}},\"id\":\"64ceb577-9629-40e6-974c-bca5c8e4f448\",\"type\":\"WheelZoomTool\"},{\"attributes\":{\"plot\":{\"id\":\"2e05a3e6-6964-4e89-bd14-f251c068e858\",\"subtype\":\"Figure\",\"type\":\"Plot\"}},\"id\":\"1683b604-b7f2-4430-87ba-65491d6ae385\",\"type\":\"WheelZoomTool\"},{\"attributes\":{},\"id\":\"764b5250-8d1b-4070-989d-102596453dcc\",\"type\":\"BasicTicker\"},{\"attributes\":{\"bottom_units\":\"screen\",\"fill_alpha\":{\"value\":0.5},\"fill_color\":{\"value\":\"lightgrey\"},\"left_units\":\"screen\",\"level\":\"overlay\",\"line_alpha\":{\"value\":1.0},\"line_color\":{\"value\":\"black\"},\"line_dash\":[4,4],\"line_width\":{\"value\":2},\"plot\":null,\"render_mode\":\"css\",\"right_units\":\"screen\",\"top_units\":\"screen\"},\"id\":\"d720cb2c-1b3d-48a8-8ab3-f412c2edfbde\",\"type\":\"BoxAnnotation\"},{\"attributes\":{\"plot\":{\"id\":\"cab4f60b-405e-4d0c-98f0-54e6872e80a5\",\"subtype\":\"Figure\",\"type\":\"Plot\"}},\"id\":\"f29ad6e6-48f3-41cf-b36a-9c80335ec98e\",\"type\":\"PanTool\"},{\"attributes\":{},\"id\":\"9c14f1b1-fb42-4fd8-a34b-8b6732888dd9\",\"type\":\"BasicTicker\"},{\"attributes\":{\"dimension\":1,\"plot\":{\"id\":\"a4d79ea5-62c9-4771-8098-3f786c622d99\",\"subtype\":\"Figure\",\"type\":\"Plot\"},\"ticker\":{\"id\":\"9c14f1b1-fb42-4fd8-a34b-8b6732888dd9\",\"type\":\"BasicTicker\"}},\"id\":\"80c3790b-9101-4143-93fe-f581f6c6349e\",\"type\":\"Grid\"},{\"attributes\":{\"callback\":null,\"column_names\":[\"top\",\"left\",\"right\"],\"data\":{\"left\":[15.5,15.85,16.2,16.55,16.9,17.25,17.6,17.95,18.3,18.65],\"right\":[15.85,16.2,16.55,16.9,17.25,17.6,17.95,18.3,18.65,19.0],\"top\":[0.0,0.3061224489795921,1.3265306122448925,0.5102040816326562,0.3061224489795906,0.1020408163265302,0.0,0.2040816326530604,0.10204081632653124,0.0]}},\"id\":\"20171042-eb28-4d25-ac34-dd1e4d3426d7\",\"type\":\"ColumnDataSource\"},{\"attributes\":{\"overlay\":{\"id\":\"15ff2bde-7c88-40c3-97c6-985f3edcb1df\",\"type\":\"BoxAnnotation\"},\"plot\":{\"id\":\"cab4f60b-405e-4d0c-98f0-54e6872e80a5\",\"subtype\":\"Figure\",\"type\":\"Plot\"}},\"id\":\"35045bda-1bef-45b6-99fd-34ca44783a18\",\"type\":\"BoxZoomTool\"},{\"attributes\":{\"plot\":{\"id\":\"cab4f60b-405e-4d0c-98f0-54e6872e80a5\",\"subtype\":\"Figure\",\"type\":\"Plot\"}},\"id\":\"76b66f70-1589-4e48-ad30-ee482cf4594b\",\"type\":\"ResizeTool\"},{\"attributes\":{},\"id\":\"79a56b8a-73b0-40fb-ac91-c123e9f67758\",\"type\":\"BasicTicker\"},{\"attributes\":{\"plot\":{\"id\":\"2e05a3e6-6964-4e89-bd14-f251c068e858\",\"subtype\":\"Figure\",\"type\":\"Plot\"}},\"id\":\"5aea39bc-829c-4a3d-b6c1-275dda46cb34\",\"type\":\"ResizeTool\"},{\"attributes\":{\"plot\":{\"id\":\"2e05a3e6-6964-4e89-bd14-f251c068e858\",\"subtype\":\"Figure\",\"type\":\"Plot\"}},\"id\":\"47b51f49-29dc-45f3-a278-c8175dbc2087\",\"type\":\"PanTool\"},{\"attributes\":{\"plot\":{\"id\":\"a4d79ea5-62c9-4771-8098-3f786c622d99\",\"subtype\":\"Figure\",\"type\":\"Plot\"}},\"id\":\"e87ae1cb-8e95-4e1d-9b54-9bff2e2fefa4\",\"type\":\"ResetTool\"},{\"attributes\":{\"plot\":{\"id\":\"cab4f60b-405e-4d0c-98f0-54e6872e80a5\",\"subtype\":\"Figure\",\"type\":\"Plot\"},\"ticker\":{\"id\":\"abbae872-3b5b-45d3-990b-1126ac1c2c04\",\"type\":\"BasicTicker\"}},\"id\":\"3fb3471a-004e-4383-a48e-29d9d2d0f44c\",\"type\":\"Grid\"},{\"attributes\":{\"data_source\":{\"id\":\"6d76180a-4775-4190-9ae1-7c6e23a3ada0\",\"type\":\"ColumnDataSource\"},\"glyph\":{\"id\":\"a7ff6967-6007-4325-a62f-e2e8d6c248f7\",\"type\":\"Quad\"},\"hover_glyph\":null,\"nonselection_glyph\":{\"id\":\"a5a01578-2717-4a23-ac7f-14c010b6caaf\",\"type\":\"Quad\"},\"selection_glyph\":null},\"id\":\"1d6c39c7-05cd-49e0-83d8-f9cd6bf14af9\",\"type\":\"GlyphRenderer\"},{\"attributes\":{\"plot\":{\"id\":\"cab4f60b-405e-4d0c-98f0-54e6872e80a5\",\"subtype\":\"Figure\",\"type\":\"Plot\"}},\"id\":\"5aeb66e4-4215-4f01-9545-c85b7e0f530e\",\"type\":\"WheelZoomTool\"},{\"attributes\":{\"bottom\":{\"value\":0},\"fill_alpha\":{\"value\":0.1},\"fill_color\":{\"value\":\"#1f77b4\"},\"left\":{\"field\":\"left\"},\"line_alpha\":{\"value\":0.1},\"line_color\":{\"value\":\"#1f77b4\"},\"right\":{\"field\":\"right\"},\"top\":{\"field\":\"top\"}},\"id\":\"cadf456c-d02e-4b6f-acd2-92156f2a8f37\",\"type\":\"Quad\"},{\"attributes\":{\"bottom\":{\"value\":0},\"fill_color\":{\"value\":\"blue\"},\"left\":{\"field\":\"left\"},\"line_color\":{\"value\":\"#1f77b4\"},\"right\":{\"field\":\"right\"},\"top\":{\"field\":\"top\"}},\"id\":\"e04757dd-2954-498b-9f98-484d9d58f8ad\",\"type\":\"Quad\"},{\"attributes\":{\"axis_label\":\"N_HI\",\"formatter\":{\"id\":\"da5bb68e-8037-4a3a-b6ba-2601ca992a48\",\"type\":\"BasicTickFormatter\"},\"plot\":{\"id\":\"cab4f60b-405e-4d0c-98f0-54e6872e80a5\",\"subtype\":\"Figure\",\"type\":\"Plot\"},\"ticker\":{\"id\":\"abbae872-3b5b-45d3-990b-1126ac1c2c04\",\"type\":\"BasicTicker\"}},\"id\":\"b6a5572e-cce7-4cc4-a6ae-7e692a13a9e4\",\"type\":\"LinearAxis\"},{\"attributes\":{\"bottom\":{\"value\":0},\"fill_color\":{\"value\":\"blue\"},\"left\":{\"field\":\"left\"},\"line_color\":{\"value\":\"#1f77b4\"},\"right\":{\"field\":\"right\"},\"top\":{\"field\":\"top\"}},\"id\":\"23b6d302-700e-42af-a5f0-dea93cc00f25\",\"type\":\"Quad\"},{\"attributes\":{\"data_source\":{\"id\":\"d9a5fb03-bab5-4142-8749-b00a0d8c75cc\",\"type\":\"ColumnDataSource\"},\"glyph\":{\"id\":\"f02cc185-7789-4c99-be25-2e5a1a7198a4\",\"type\":\"Quad\"},\"hover_glyph\":null,\"nonselection_glyph\":{\"id\":\"f54c8f4b-3427-4f6e-b393-dfdaeda8c4a4\",\"type\":\"Quad\"},\"selection_glyph\":null},\"id\":\"eddb17cb-f758-4c8a-9cfb-ed041863a6d1\",\"type\":\"GlyphRenderer\"},{\"attributes\":{},\"id\":\"a7b45c33-5b43-4093-be32-92edc4362a3c\",\"type\":\"ToolEvents\"},{\"attributes\":{\"data_source\":{\"id\":\"89eecdf4-8d00-4f92-8964-f3c39c70f71a\",\"type\":\"ColumnDataSource\"},\"glyph\":{\"id\":\"db45bd6d-fdd1-4fb1-ba13-c89993e4c0a3\",\"type\":\"Quad\"},\"hover_glyph\":null,\"nonselection_glyph\":{\"id\":\"c5beb941-7663-4e7a-8de6-031a7e87329a\",\"type\":\"Quad\"},\"selection_glyph\":null},\"id\":\"9ceb8257-e874-4f3a-b102-019403c0c49a\",\"type\":\"GlyphRenderer\"},{\"attributes\":{\"bottom\":{\"value\":0},\"fill_alpha\":{\"value\":0.1},\"fill_color\":{\"value\":\"#1f77b4\"},\"left\":{\"field\":\"left\"},\"line_alpha\":{\"value\":0.1},\"line_color\":{\"value\":\"#1f77b4\"},\"right\":{\"field\":\"right\"},\"top\":{\"field\":\"top\"}},\"id\":\"bc768cff-9654-40db-be1a-1e3b9148cfef\",\"type\":\"Quad\"},{\"attributes\":{\"axis_label\":\"N_HI\",\"formatter\":{\"id\":\"02132872-1a32-44e2-a49d-909555e9747e\",\"type\":\"BasicTickFormatter\"},\"plot\":{\"id\":\"2e05a3e6-6964-4e89-bd14-f251c068e858\",\"subtype\":\"Figure\",\"type\":\"Plot\"},\"ticker\":{\"id\":\"7a901a90-58e5-401d-9fed-e4b8ce9b2888\",\"type\":\"BasicTicker\"}},\"id\":\"793b2c40-bd47-4731-bffa-dd7560d231cd\",\"type\":\"LinearAxis\"},{\"attributes\":{\"callback\":null,\"column_names\":[\"top\",\"left\",\"right\"],\"data\":{\"left\":[15.5,15.75,16.0,16.25,16.5,16.75,17.0,17.25,17.5,17.75],\"right\":[15.75,16.0,16.25,16.5,16.75,17.0,17.25,17.5,17.75,18.0],\"top\":[0.0,0.0,0.0,0.13333333333333333,0.5333333333333333,1.7333333333333334,0.5333333333333333,0.4,0.6666666666666666,0.0]}},\"id\":\"d9a5fb03-bab5-4142-8749-b00a0d8c75cc\",\"type\":\"ColumnDataSource\"},{\"attributes\":{\"plot\":{\"id\":\"cab4f60b-405e-4d0c-98f0-54e6872e80a5\",\"subtype\":\"Figure\",\"type\":\"Plot\"}},\"id\":\"bd8ba60e-6f89-4df8-bed4-56a14a961361\",\"type\":\"PreviewSaveTool\"},{\"attributes\":{\"below\":[{\"id\":\"793b2c40-bd47-4731-bffa-dd7560d231cd\",\"type\":\"LinearAxis\"}],\"left\":[{\"id\":\"5442c9f7-b7ef-4c88-b41c-1095be0d344b\",\"type\":\"LinearAxis\"}],\"plot_height\":400,\"plot_width\":400,\"renderers\":[{\"id\":\"793b2c40-bd47-4731-bffa-dd7560d231cd\",\"type\":\"LinearAxis\"},{\"id\":\"74c80c76-63f9-4722-a156-2b71659b474e\",\"type\":\"Grid\"},{\"id\":\"5442c9f7-b7ef-4c88-b41c-1095be0d344b\",\"type\":\"LinearAxis\"},{\"id\":\"8af8b62d-fd93-43ac-82e6-93f4d4990d32\",\"type\":\"Grid\"},{\"id\":\"d720cb2c-1b3d-48a8-8ab3-f412c2edfbde\",\"type\":\"BoxAnnotation\"},{\"id\":\"9c2fc599-f503-4438-a78e-dfddf37ffe77\",\"type\":\"GlyphRenderer\"},{\"id\":\"eddb17cb-f758-4c8a-9cfb-ed041863a6d1\",\"type\":\"GlyphRenderer\"}],\"title\":\"L13/W16 NHI\",\"tool_events\":{\"id\":\"a7b45c33-5b43-4093-be32-92edc4362a3c\",\"type\":\"ToolEvents\"},\"tools\":[{\"id\":\"47b51f49-29dc-45f3-a278-c8175dbc2087\",\"type\":\"PanTool\"},{\"id\":\"1683b604-b7f2-4430-87ba-65491d6ae385\",\"type\":\"WheelZoomTool\"},{\"id\":\"f2d820b0-79a0-4e34-9034-1f28c0bc1e47\",\"type\":\"BoxZoomTool\"},{\"id\":\"c32f0a5d-df80-4e9e-8d99-45ca3ccda2c0\",\"type\":\"PreviewSaveTool\"},{\"id\":\"5aea39bc-829c-4a3d-b6c1-275dda46cb34\",\"type\":\"ResizeTool\"},{\"id\":\"e8cbcc51-9f10-44cc-b6bb-0a4f6fcb494e\",\"type\":\"ResetTool\"},{\"id\":\"73abaf94-ce4e-44a3-9209-231aa7816358\",\"type\":\"HelpTool\"}],\"x_range\":{\"id\":\"9b607aec-2f82-41c7-bd22-474b5ca0174b\",\"type\":\"DataRange1d\"},\"y_range\":{\"id\":\"6acfad83-513e-4d9b-a54c-869dd4db8ee0\",\"type\":\"DataRange1d\"}},\"id\":\"2e05a3e6-6964-4e89-bd14-f251c068e858\",\"subtype\":\"Figure\",\"type\":\"Plot\"},{\"attributes\":{},\"id\":\"750fa6b3-05a4-4478-b422-06904d8cb6a5\",\"type\":\"BasicTickFormatter\"},{\"attributes\":{\"callback\":null},\"id\":\"6acfad83-513e-4d9b-a54c-869dd4db8ee0\",\"type\":\"DataRange1d\"},{\"attributes\":{\"callback\":null,\"column_names\":[\"top\",\"left\",\"right\"],\"data\":{\"left\":[-2.5,-2.35,-2.2,-2.05,-1.9,-1.75,-1.6,-1.45,-1.3,-1.1500000000000001,-1.0,-0.8500000000000001,-0.7000000000000002,-0.55,-0.3999999999999999,-0.25,-0.10000000000000009,0.04999999999999982,0.19999999999999973,0.3500000000000001],\"right\":[-2.35,-2.2,-2.05,-1.9,-1.75,-1.6,-1.45,-1.3,-1.1500000000000001,-1.0,-0.8500000000000001,-0.7000000000000002,-0.55,-0.3999999999999999,-0.25,-0.10000000000000009,0.04999999999999982,0.19999999999999973,0.3500000000000001,0.5],\"top\":[0.11494252873563225,0.0,0.0,0.459770114942529,0.5747126436781612,0.8045977011494257,0.34482758620689624,0.6896551724137935,0.2298850574712645,0.34482758620689624,0.11494252873563225,0.5747126436781612,0.34482758620689624,1.0344827586206888,0.2298850574712645,0.459770114942529,0.0,0.2298850574712645,0.11494252873563192,0.0]}},\"id\":\"89eecdf4-8d00-4f92-8964-f3c39c70f71a\",\"type\":\"ColumnDataSource\"},{\"attributes\":{\"below\":[{\"id\":\"b6a5572e-cce7-4cc4-a6ae-7e692a13a9e4\",\"type\":\"LinearAxis\"}],\"left\":[{\"id\":\"d9d1ff4e-be96-42f9-8bb6-398a979d09d2\",\"type\":\"LinearAxis\"}],\"plot_height\":400,\"plot_width\":400,\"renderers\":[{\"id\":\"b6a5572e-cce7-4cc4-a6ae-7e692a13a9e4\",\"type\":\"LinearAxis\"},{\"id\":\"3fb3471a-004e-4383-a48e-29d9d2d0f44c\",\"type\":\"Grid\"},{\"id\":\"d9d1ff4e-be96-42f9-8bb6-398a979d09d2\",\"type\":\"LinearAxis\"},{\"id\":\"c3bda54c-eeac-405f-ad31-f1d5c827d006\",\"type\":\"Grid\"},{\"id\":\"15ff2bde-7c88-40c3-97c6-985f3edcb1df\",\"type\":\"BoxAnnotation\"},{\"id\":\"456a8208-ec2d-4f09-a068-6765beb820f3\",\"type\":\"GlyphRenderer\"},{\"id\":\"1d6c39c7-05cd-49e0-83d8-f9cd6bf14af9\",\"type\":\"GlyphRenderer\"}],\"title\":\"L13/W16 NHI\",\"tool_events\":{\"id\":\"e7fe709a-e720-42b7-acf7-88c3a376c321\",\"type\":\"ToolEvents\"},\"tools\":[{\"id\":\"f29ad6e6-48f3-41cf-b36a-9c80335ec98e\",\"type\":\"PanTool\"},{\"id\":\"5aeb66e4-4215-4f01-9545-c85b7e0f530e\",\"type\":\"WheelZoomTool\"},{\"id\":\"35045bda-1bef-45b6-99fd-34ca44783a18\",\"type\":\"BoxZoomTool\"},{\"id\":\"bd8ba60e-6f89-4df8-bed4-56a14a961361\",\"type\":\"PreviewSaveTool\"},{\"id\":\"76b66f70-1589-4e48-ad30-ee482cf4594b\",\"type\":\"ResizeTool\"},{\"id\":\"700fcc58-a6d6-4de1-863e-b4cfd3ca6f50\",\"type\":\"ResetTool\"},{\"id\":\"ebd46eaa-1823-459b-91c0-d8d2961aba67\",\"type\":\"HelpTool\"}],\"x_range\":{\"id\":\"47a8f999-327c-41f4-9fd1-4c34e02ab2e7\",\"type\":\"DataRange1d\"},\"y_range\":{\"id\":\"1ca1209a-ec35-4f18-8b18-5762ff0d7fb5\",\"type\":\"DataRange1d\"}},\"id\":\"cab4f60b-405e-4d0c-98f0-54e6872e80a5\",\"subtype\":\"Figure\",\"type\":\"Plot\"},{\"attributes\":{\"callback\":null},\"id\":\"47a8f999-327c-41f4-9fd1-4c34e02ab2e7\",\"type\":\"DataRange1d\"},{\"attributes\":{\"plot\":{\"id\":\"cab4f60b-405e-4d0c-98f0-54e6872e80a5\",\"subtype\":\"Figure\",\"type\":\"Plot\"}},\"id\":\"ebd46eaa-1823-459b-91c0-d8d2961aba67\",\"type\":\"HelpTool\"},{\"attributes\":{\"axis_label\":\"[Z/H]\",\"formatter\":{\"id\":\"00b24e46-c8c4-4b01-90fb-9713004148d5\",\"type\":\"BasicTickFormatter\"},\"plot\":{\"id\":\"a4d79ea5-62c9-4771-8098-3f786c622d99\",\"subtype\":\"Figure\",\"type\":\"Plot\"},\"ticker\":{\"id\":\"764b5250-8d1b-4070-989d-102596453dcc\",\"type\":\"BasicTicker\"}},\"id\":\"33643c80-16b0-4ce4-95dd-1cd3b0fb4c74\",\"type\":\"LinearAxis\"},{\"attributes\":{\"formatter\":{\"id\":\"750fa6b3-05a4-4478-b422-06904d8cb6a5\",\"type\":\"BasicTickFormatter\"},\"plot\":{\"id\":\"2e05a3e6-6964-4e89-bd14-f251c068e858\",\"subtype\":\"Figure\",\"type\":\"Plot\"},\"ticker\":{\"id\":\"8444e494-5d87-4695-943f-5a56a2568c39\",\"type\":\"BasicTicker\"}},\"id\":\"5442c9f7-b7ef-4c88-b41c-1095be0d344b\",\"type\":\"LinearAxis\"},{\"attributes\":{\"plot\":{\"id\":\"2e05a3e6-6964-4e89-bd14-f251c068e858\",\"subtype\":\"Figure\",\"type\":\"Plot\"}},\"id\":\"c32f0a5d-df80-4e9e-8d99-45ca3ccda2c0\",\"type\":\"PreviewSaveTool\"},{\"attributes\":{\"dimension\":1,\"plot\":{\"id\":\"2e05a3e6-6964-4e89-bd14-f251c068e858\",\"subtype\":\"Figure\",\"type\":\"Plot\"},\"ticker\":{\"id\":\"8444e494-5d87-4695-943f-5a56a2568c39\",\"type\":\"BasicTicker\"}},\"id\":\"8af8b62d-fd93-43ac-82e6-93f4d4990d32\",\"type\":\"Grid\"},{\"attributes\":{\"plot\":{\"id\":\"a4d79ea5-62c9-4771-8098-3f786c622d99\",\"subtype\":\"Figure\",\"type\":\"Plot\"}},\"id\":\"42b86f2a-c7e3-41f6-94bf-8988715627f9\",\"type\":\"HelpTool\"},{\"attributes\":{\"bottom\":{\"value\":0},\"fill_alpha\":{\"value\":0.1},\"fill_color\":{\"value\":\"#1f77b4\"},\"left\":{\"field\":\"left\"},\"line_alpha\":{\"value\":0.1},\"line_color\":{\"value\":\"#1f77b4\"},\"right\":{\"field\":\"right\"},\"top\":{\"field\":\"top\"}},\"id\":\"f54c8f4b-3427-4f6e-b393-dfdaeda8c4a4\",\"type\":\"Quad\"},{\"attributes\":{},\"id\":\"da5bb68e-8037-4a3a-b6ba-2601ca992a48\",\"type\":\"BasicTickFormatter\"},{\"attributes\":{\"overlay\":{\"id\":\"d720cb2c-1b3d-48a8-8ab3-f412c2edfbde\",\"type\":\"BoxAnnotation\"},\"plot\":{\"id\":\"2e05a3e6-6964-4e89-bd14-f251c068e858\",\"subtype\":\"Figure\",\"type\":\"Plot\"}},\"id\":\"f2d820b0-79a0-4e34-9034-1f28c0bc1e47\",\"type\":\"BoxZoomTool\"},{\"attributes\":{},\"id\":\"00b24e46-c8c4-4b01-90fb-9713004148d5\",\"type\":\"BasicTickFormatter\"},{\"attributes\":{\"plot\":{\"id\":\"2e05a3e6-6964-4e89-bd14-f251c068e858\",\"subtype\":\"Figure\",\"type\":\"Plot\"}},\"id\":\"73abaf94-ce4e-44a3-9209-231aa7816358\",\"type\":\"HelpTool\"},{\"attributes\":{\"plot\":{\"id\":\"a4d79ea5-62c9-4771-8098-3f786c622d99\",\"subtype\":\"Figure\",\"type\":\"Plot\"}},\"id\":\"29e1ae6b-222c-471c-895f-52b4035b24ff\",\"type\":\"PanTool\"},{\"attributes\":{\"bottom\":{\"value\":0},\"fill_color\":{\"value\":\"red\"},\"left\":{\"field\":\"left\"},\"line_color\":{\"value\":\"#1f77b4\"},\"right\":{\"field\":\"right\"},\"top\":{\"field\":\"top\"}},\"id\":\"f02cc185-7789-4c99-be25-2e5a1a7198a4\",\"type\":\"Quad\"},{\"attributes\":{},\"id\":\"7a901a90-58e5-401d-9fed-e4b8ce9b2888\",\"type\":\"BasicTicker\"},{\"attributes\":{},\"id\":\"02132872-1a32-44e2-a49d-909555e9747e\",\"type\":\"BasicTickFormatter\"},{\"attributes\":{\"bottom\":{\"value\":0},\"fill_alpha\":{\"value\":0.1},\"fill_color\":{\"value\":\"#1f77b4\"},\"left\":{\"field\":\"left\"},\"line_alpha\":{\"value\":0.1},\"line_color\":{\"value\":\"#1f77b4\"},\"right\":{\"field\":\"right\"},\"top\":{\"field\":\"top\"}},\"id\":\"a5a01578-2717-4a23-ac7f-14c010b6caaf\",\"type\":\"Quad\"},{\"attributes\":{},\"id\":\"e09eb110-9d48-418c-aec4-70b2e4d2583d\",\"type\":\"BasicTickFormatter\"},{\"attributes\":{\"bottom\":{\"value\":0},\"fill_color\":{\"value\":\"red\"},\"left\":{\"field\":\"left\"},\"line_color\":{\"value\":\"#1f77b4\"},\"right\":{\"field\":\"right\"},\"top\":{\"field\":\"top\"}},\"id\":\"a7ff6967-6007-4325-a62f-e2e8d6c248f7\",\"type\":\"Quad\"},{\"attributes\":{\"bottom_units\":\"screen\",\"fill_alpha\":{\"value\":0.5},\"fill_color\":{\"value\":\"lightgrey\"},\"left_units\":\"screen\",\"level\":\"overlay\",\"line_alpha\":{\"value\":1.0},\"line_color\":{\"value\":\"black\"},\"line_dash\":[4,4],\"line_width\":{\"value\":2},\"plot\":null,\"render_mode\":\"css\",\"right_units\":\"screen\",\"top_units\":\"screen\"},\"id\":\"07f9cd2c-79d0-43fa-80ca-f046467ed21e\",\"type\":\"BoxAnnotation\"},{\"attributes\":{\"below\":[{\"id\":\"33643c80-16b0-4ce4-95dd-1cd3b0fb4c74\",\"type\":\"LinearAxis\"}],\"left\":[{\"id\":\"ce79c996-c6b2-4c51-bc83-8faf41094e68\",\"type\":\"LinearAxis\"}],\"renderers\":[{\"id\":\"33643c80-16b0-4ce4-95dd-1cd3b0fb4c74\",\"type\":\"LinearAxis\"},{\"id\":\"8e30ecc7-2897-4e57-9ce9-7d880daa2c43\",\"type\":\"Grid\"},{\"id\":\"ce79c996-c6b2-4c51-bc83-8faf41094e68\",\"type\":\"LinearAxis\"},{\"id\":\"80c3790b-9101-4143-93fe-f581f6c6349e\",\"type\":\"Grid\"},{\"id\":\"07f9cd2c-79d0-43fa-80ca-f046467ed21e\",\"type\":\"BoxAnnotation\"},{\"id\":\"9ceb8257-e874-4f3a-b102-019403c0c49a\",\"type\":\"GlyphRenderer\"}],\"title\":\"L13/W16 NHI\",\"tool_events\":{\"id\":\"3fca5a8b-b19d-48d9-9e5c-e512ac4bd61a\",\"type\":\"ToolEvents\"},\"tools\":[{\"id\":\"29e1ae6b-222c-471c-895f-52b4035b24ff\",\"type\":\"PanTool\"},{\"id\":\"64ceb577-9629-40e6-974c-bca5c8e4f448\",\"type\":\"WheelZoomTool\"},{\"id\":\"6b80a612-f63a-4c28-98d8-a505dee07367\",\"type\":\"BoxZoomTool\"},{\"id\":\"27b7af81-cf13-4481-8427-3903acb3072a\",\"type\":\"PreviewSaveTool\"},{\"id\":\"9ac93aaa-2388-4071-833a-30296aa99f5e\",\"type\":\"ResizeTool\"},{\"id\":\"e87ae1cb-8e95-4e1d-9b54-9bff2e2fefa4\",\"type\":\"ResetTool\"},{\"id\":\"42b86f2a-c7e3-41f6-94bf-8988715627f9\",\"type\":\"HelpTool\"}],\"x_range\":{\"id\":\"07ab0c12-5c30-4049-b24b-b4db2c2cc965\",\"type\":\"DataRange1d\"},\"y_range\":{\"id\":\"dc220532-f88f-45e2-8f13-d3c3af6a2349\",\"type\":\"DataRange1d\"}},\"id\":\"a4d79ea5-62c9-4771-8098-3f786c622d99\",\"subtype\":\"Figure\",\"type\":\"Plot\"},{\"attributes\":{},\"id\":\"74264c4b-49e8-4b07-bd21-39fc398a9da8\",\"type\":\"BasicTickFormatter\"},{\"attributes\":{\"plot\":{\"id\":\"a4d79ea5-62c9-4771-8098-3f786c622d99\",\"subtype\":\"Figure\",\"type\":\"Plot\"}},\"id\":\"27b7af81-cf13-4481-8427-3903acb3072a\",\"type\":\"PreviewSaveTool\"},{\"attributes\":{\"callback\":null,\"column_names\":[\"top\",\"left\",\"right\"],\"data\":{\"left\":[15.5,15.75,16.0,16.25,16.5,16.75,17.0,17.25,17.5,17.75],\"right\":[15.75,16.0,16.25,16.5,16.75,17.0,17.25,17.5,17.75,18.0],\"top\":[0.0,0.0,0.7692307692307693,1.5384615384615385,0.7692307692307693,0.3076923076923077,0.3076923076923077,0.15384615384615385,0.0,0.15384615384615385]}},\"id\":\"9f458619-51f1-47d0-8227-588898597812\",\"type\":\"ColumnDataSource\"},{\"attributes\":{\"callback\":null},\"id\":\"dc220532-f88f-45e2-8f13-d3c3af6a2349\",\"type\":\"DataRange1d\"},{\"attributes\":{\"plot\":{\"id\":\"cab4f60b-405e-4d0c-98f0-54e6872e80a5\",\"subtype\":\"Figure\",\"type\":\"Plot\"}},\"id\":\"700fcc58-a6d6-4de1-863e-b4cfd3ca6f50\",\"type\":\"ResetTool\"},{\"attributes\":{\"callback\":null},\"id\":\"07ab0c12-5c30-4049-b24b-b4db2c2cc965\",\"type\":\"DataRange1d\"},{\"attributes\":{\"bottom_units\":\"screen\",\"fill_alpha\":{\"value\":0.5},\"fill_color\":{\"value\":\"lightgrey\"},\"left_units\":\"screen\",\"level\":\"overlay\",\"line_alpha\":{\"value\":1.0},\"line_color\":{\"value\":\"black\"},\"line_dash\":[4,4],\"line_width\":{\"value\":2},\"plot\":null,\"render_mode\":\"css\",\"right_units\":\"screen\",\"top_units\":\"screen\"},\"id\":\"15ff2bde-7c88-40c3-97c6-985f3edcb1df\",\"type\":\"BoxAnnotation\"},{\"attributes\":{\"formatter\":{\"id\":\"e09eb110-9d48-418c-aec4-70b2e4d2583d\",\"type\":\"BasicTickFormatter\"},\"plot\":{\"id\":\"cab4f60b-405e-4d0c-98f0-54e6872e80a5\",\"subtype\":\"Figure\",\"type\":\"Plot\"},\"ticker\":{\"id\":\"79a56b8a-73b0-40fb-ac91-c123e9f67758\",\"type\":\"BasicTicker\"}},\"id\":\"d9d1ff4e-be96-42f9-8bb6-398a979d09d2\",\"type\":\"LinearAxis\"},{\"attributes\":{\"plot\":{\"id\":\"a4d79ea5-62c9-4771-8098-3f786c622d99\",\"subtype\":\"Figure\",\"type\":\"Plot\"},\"ticker\":{\"id\":\"764b5250-8d1b-4070-989d-102596453dcc\",\"type\":\"BasicTicker\"}},\"id\":\"8e30ecc7-2897-4e57-9ce9-7d880daa2c43\",\"type\":\"Grid\"},{\"attributes\":{\"plot\":{\"id\":\"2e05a3e6-6964-4e89-bd14-f251c068e858\",\"subtype\":\"Figure\",\"type\":\"Plot\"},\"ticker\":{\"id\":\"7a901a90-58e5-401d-9fed-e4b8ce9b2888\",\"type\":\"BasicTicker\"}},\"id\":\"74c80c76-63f9-4722-a156-2b71659b474e\",\"type\":\"Grid\"},{\"attributes\":{\"bottom\":{\"value\":0},\"fill_alpha\":{\"value\":0.1},\"fill_color\":{\"value\":\"#1f77b4\"},\"left\":{\"field\":\"left\"},\"line_alpha\":{\"value\":0.1},\"line_color\":{\"value\":\"#1f77b4\"},\"right\":{\"field\":\"right\"},\"top\":{\"field\":\"top\"}},\"id\":\"c5beb941-7663-4e7a-8de6-031a7e87329a\",\"type\":\"Quad\"},{\"attributes\":{\"callback\":null},\"id\":\"1ca1209a-ec35-4f18-8b18-5762ff0d7fb5\",\"type\":\"DataRange1d\"},{\"attributes\":{\"data_source\":{\"id\":\"20171042-eb28-4d25-ac34-dd1e4d3426d7\",\"type\":\"ColumnDataSource\"},\"glyph\":{\"id\":\"e04757dd-2954-498b-9f98-484d9d58f8ad\",\"type\":\"Quad\"},\"hover_glyph\":null,\"nonselection_glyph\":{\"id\":\"cadf456c-d02e-4b6f-acd2-92156f2a8f37\",\"type\":\"Quad\"},\"selection_glyph\":null},\"id\":\"456a8208-ec2d-4f09-a068-6765beb820f3\",\"type\":\"GlyphRenderer\"},{\"attributes\":{\"formatter\":{\"id\":\"74264c4b-49e8-4b07-bd21-39fc398a9da8\",\"type\":\"BasicTickFormatter\"},\"plot\":{\"id\":\"a4d79ea5-62c9-4771-8098-3f786c622d99\",\"subtype\":\"Figure\",\"type\":\"Plot\"},\"ticker\":{\"id\":\"9c14f1b1-fb42-4fd8-a34b-8b6732888dd9\",\"type\":\"BasicTicker\"}},\"id\":\"ce79c996-c6b2-4c51-bc83-8faf41094e68\",\"type\":\"LinearAxis\"},{\"attributes\":{\"callback\":null},\"id\":\"9b607aec-2f82-41c7-bd22-474b5ca0174b\",\"type\":\"DataRange1d\"},{\"attributes\":{\"plot\":{\"id\":\"a4d79ea5-62c9-4771-8098-3f786c622d99\",\"subtype\":\"Figure\",\"type\":\"Plot\"}},\"id\":\"9ac93aaa-2388-4071-833a-30296aa99f5e\",\"type\":\"ResizeTool\"},{\"attributes\":{\"dimension\":1,\"plot\":{\"id\":\"cab4f60b-405e-4d0c-98f0-54e6872e80a5\",\"subtype\":\"Figure\",\"type\":\"Plot\"},\"ticker\":{\"id\":\"79a56b8a-73b0-40fb-ac91-c123e9f67758\",\"type\":\"BasicTicker\"}},\"id\":\"c3bda54c-eeac-405f-ad31-f1d5c827d006\",\"type\":\"Grid\"},{\"attributes\":{},\"id\":\"8444e494-5d87-4695-943f-5a56a2568c39\",\"type\":\"BasicTicker\"},{\"attributes\":{\"overlay\":{\"id\":\"07f9cd2c-79d0-43fa-80ca-f046467ed21e\",\"type\":\"BoxAnnotation\"},\"plot\":{\"id\":\"a4d79ea5-62c9-4771-8098-3f786c622d99\",\"subtype\":\"Figure\",\"type\":\"Plot\"}},\"id\":\"6b80a612-f63a-4c28-98d8-a505dee07367\",\"type\":\"BoxZoomTool\"},{\"attributes\":{\"bottom\":{\"value\":0},\"fill_color\":{\"value\":\"blue\"},\"left\":{\"field\":\"left\"},\"line_color\":{\"value\":\"#1f77b4\"},\"right\":{\"field\":\"right\"},\"top\":{\"field\":\"top\"}},\"id\":\"db45bd6d-fdd1-4fb1-ba13-c89993e4c0a3\",\"type\":\"Quad\"},{\"attributes\":{\"data_source\":{\"id\":\"9f458619-51f1-47d0-8227-588898597812\",\"type\":\"ColumnDataSource\"},\"glyph\":{\"id\":\"23b6d302-700e-42af-a5f0-dea93cc00f25\",\"type\":\"Quad\"},\"hover_glyph\":null,\"nonselection_glyph\":{\"id\":\"bc768cff-9654-40db-be1a-1e3b9148cfef\",\"type\":\"Quad\"},\"selection_glyph\":null},\"id\":\"9c2fc599-f503-4438-a78e-dfddf37ffe77\",\"type\":\"GlyphRenderer\"},{\"attributes\":{},\"id\":\"3fca5a8b-b19d-48d9-9e5c-e512ac4bd61a\",\"type\":\"ToolEvents\"}],\"root_ids\":[\"2e05a3e6-6964-4e89-bd14-f251c068e858\",\"cab4f60b-405e-4d0c-98f0-54e6872e80a5\",\"a4d79ea5-62c9-4771-8098-3f786c622d99\"]},\"title\":\"Bokeh Application\",\"version\":\"0.11.1\"}};\n",
       "            var render_items = [{\"docid\":\"07f0f464-63ba-41ab-a5d9-f928430b5a9a\",\"elementid\":\"3d990bf5-a071-4ce6-a959-dab990263974\",\"modelid\":\"a4d79ea5-62c9-4771-8098-3f786c622d99\",\"notebook_comms_target\":\"1464706e-fb4a-4a7e-86c8-f376d7663687\"}];\n",
       "            \n",
       "            Bokeh.embed.embed_items(docs_json, render_items);\n",
       "        });\n",
       "      },\n",
       "      function(Bokeh) {\n",
       "      }\n",
       "    ];\n",
       "  \n",
       "    function run_inline_js() {\n",
       "      for (var i = 0; i < inline_js.length; i++) {\n",
       "        inline_js[i](window.Bokeh);\n",
       "      }\n",
       "    }\n",
       "  \n",
       "    if (window._bokeh_is_loading === 0) {\n",
       "      console.log(\"Bokeh: BokehJS loaded, going straight to plotting\");\n",
       "      run_inline_js();\n",
       "    } else {\n",
       "      load_libs(js_urls, function() {\n",
       "        console.log(\"Bokeh: BokehJS plotting callback run at\", now());\n",
       "        run_inline_js();\n",
       "      });\n",
       "    }\n",
       "  }(this));\n",
       "</script>"
      ]
     },
     "metadata": {},
     "output_type": "display_data"
    },
    {
     "data": {
      "text/html": [
       "<p><code>&lt;Bokeh Notebook handle for <strong>In[52]</strong>&gt;</code></p>"
      ],
      "text/plain": [
       "<bokeh.io._CommsHandle at 0x11d2caa90>"
      ]
     },
     "execution_count": 52,
     "metadata": {},
     "output_type": "execute_result"
    }
   ],
   "source": [
    "# NHI\n",
    "p_ZH = figure(plot_width=600, plot_height=600, title='L13/W16 NHI')#,background_fill=\"#E8DDCB\")\n",
    "# L13\n",
    "hist, edges = np.histogram(L13W16.ZH, range=(-2.5,0.5), density=True, bins=20)\n",
    "p_ZH.quad(top=hist, bottom=0, left=edges[:-1], right=edges[1:],fill_color='blue')\n",
    "#\n",
    "p_ZH.xaxis.axis_label = '[Z/H]'\n",
    "show(p_ZH)"
   ]
  },
  {
   "cell_type": "markdown",
   "metadata": {},
   "source": [
    "## Write"
   ]
  },
  {
   "cell_type": "markdown",
   "metadata": {},
   "source": [
    "### L13"
   ]
  },
  {
   "cell_type": "code",
   "execution_count": 53,
   "metadata": {
    "collapsed": false
   },
   "outputs": [
    {
     "name": "stdout",
     "output_type": "stream",
     "text": [
      "Wrote: /Users/xavier/local/Python/pyigm/pyigm/data/LLS/Literature/lehner13.tar.gz\n"
     ]
    }
   ],
   "source": [
    "L13.write_survey(outfile=pyigm_path+'/data/LLS/Literature/lehner13.tar.gz')"
   ]
  },
  {
   "cell_type": "markdown",
   "metadata": {},
   "source": [
    "### W16"
   ]
  },
  {
   "cell_type": "code",
   "execution_count": 54,
   "metadata": {
    "collapsed": false
   },
   "outputs": [
    {
     "name": "stdout",
     "output_type": "stream",
     "text": [
      "Wrote: /Users/xavier/local/Python/pyigm/pyigm/data/LLS/Literature/wotta16.tar.gz\n"
     ]
    }
   ],
   "source": [
    "W16.write_survey(outfile=pyigm_path+'/data/LLS/Literature/wotta16.tar.gz')"
   ]
  },
  {
   "cell_type": "markdown",
   "metadata": {},
   "source": [
    "## Load (test)"
   ]
  },
  {
   "cell_type": "code",
   "execution_count": 25,
   "metadata": {
    "collapsed": false
   },
   "outputs": [
    {
     "name": "stdout",
     "output_type": "stream",
     "text": [
      "Loading systems from /Users/xavier/local/Python/pyigm/pyigm/data/LLS/Literature/lehner13.tar.gz\n",
      "Skipping a likely folder: IGM_JSON\n"
     ]
    },
    {
     "name": "stderr",
     "output_type": "stream",
     "text": [
      "/Users/xavier/local/Python/linetools/linetools/isgm/abssystem.py:288: UserWarning: Input AbsComponent with Zion=(12, 2) does not match AbsSystem rules. Not appending\n",
      "  warnings.warn('Input AbsComponent with Zion={} does not match AbsSystem rules. Not appending'.format(abscomp.Zion))\n",
      "/Users/xavier/local/Python/linetools/linetools/isgm/abssystem.py:294: UserWarning: Failed velocity overlap\n",
      "  warnings.warn('Failed velocity overlap')\n"
     ]
    }
   ],
   "source": [
    "l13file = pyigm.__path__[0]+'/data/LLS/Literature/lehner13.tar.gz'\n",
    "L13_tst = pyiu.load_sys_files(l13file, 'LLS', chk_vel=False, chk_data=False, use_coord=True)"
   ]
  },
  {
   "cell_type": "code",
   "execution_count": 26,
   "metadata": {
    "collapsed": false
   },
   "outputs": [
    {
     "data": {
      "text/plain": [
       "array([-0.80000001, -1.45000005,  0.1       , -0.30000001, -1.60000002,\n",
       "       -0.40000001, -1.29999995, -0.5       , -1.04999995,  0.30000001,\n",
       "       -1.64999998, -1.60000002, -0.75      ,  0.1       , -1.79999995,\n",
       "       -0.64999998, -1.39999998, -0.2       , -1.85000002, -1.39999998,\n",
       "       -0.40000001, -2.        , -1.60000002, -1.71000004, -1.39999998])"
      ]
     },
     "execution_count": 26,
     "metadata": {},
     "output_type": "execute_result"
    }
   ],
   "source": [
    "L13_tst.ZH"
   ]
  },
  {
   "cell_type": "markdown",
   "metadata": {
    "collapsed": true
   },
   "source": [
    "### Simpler"
   ]
  },
  {
   "cell_type": "code",
   "execution_count": 55,
   "metadata": {
    "collapsed": true
   },
   "outputs": [],
   "source": [
    "from pyigm.surveys import llssurvey as llss"
   ]
  },
  {
   "cell_type": "code",
   "execution_count": 56,
   "metadata": {
    "collapsed": false
   },
   "outputs": [
    {
     "name": "stdout",
     "output_type": "stream",
     "text": [
      "Loading systems from /Users/xavier/local/Python/pyigm/pyigm/data/LLS/Literature/lehner13.tar.gz\n",
      "Skipping a likely folder: IGM_JSON\n"
     ]
    },
    {
     "name": "stderr",
     "output_type": "stream",
     "text": [
      "/Users/xavier/local/Python/linetools/linetools/isgm/abssystem.py:288: UserWarning: Input AbsComponent with Zion=(12, 2) does not match AbsSystem rules. Not appending\n",
      "  warnings.warn('Input AbsComponent with Zion={} does not match AbsSystem rules. Not appending'.format(abscomp.Zion))\n",
      "/Users/xavier/local/Python/linetools/linetools/isgm/abssystem.py:294: UserWarning: Failed velocity overlap\n",
      "  warnings.warn('Failed velocity overlap')\n"
     ]
    },
    {
     "name": "stdout",
     "output_type": "stream",
     "text": [
      "Loading systems from /Users/xavier/local/Python/pyigm/pyigm/data/LLS/Literature/wotta16.tar.gz\n",
      "Skipping a likely folder: IGM_JSON\n"
     ]
    }
   ],
   "source": [
    "reload(llss)\n",
    "lowz = llss.LLSSurvey.load_lowz()"
   ]
  },
  {
   "cell_type": "code",
   "execution_count": 57,
   "metadata": {
    "collapsed": false
   },
   "outputs": [
    {
     "data": {
      "text/plain": [
       "<IGMSurvey: nsys=58, type=LLS, ref=Lehner+13,Wotta+16>"
      ]
     },
     "execution_count": 57,
     "metadata": {},
     "output_type": "execute_result"
    }
   ],
   "source": [
    "lowz"
   ]
  },
  {
   "cell_type": "code",
   "execution_count": null,
   "metadata": {
    "collapsed": true
   },
   "outputs": [],
   "source": []
  }
 ],
 "metadata": {
  "kernelspec": {
   "display_name": "Python 2",
   "language": "python",
   "name": "python2"
  },
  "language_info": {
   "codemirror_mode": {
    "name": "ipython",
    "version": 2
   },
   "file_extension": ".py",
   "mimetype": "text/x-python",
   "name": "python",
   "nbconvert_exporter": "python",
   "pygments_lexer": "ipython2",
   "version": "2.7.11"
  }
 },
 "nbformat": 4,
 "nbformat_minor": 0
}
