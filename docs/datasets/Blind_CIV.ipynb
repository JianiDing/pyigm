{
 "cells": [
  {
   "cell_type": "markdown",
   "metadata": {},
   "source": [
    "# Blind CIV Survey by Burchett et al."
   ]
  },
  {
   "cell_type": "code",
   "execution_count": 1,
   "metadata": {
    "collapsed": true
   },
   "outputs": [],
   "source": [
    "# imports\n",
    "import pdb\n",
    "\n",
    "import pyigm\n",
    "from astropy import constants as const\n",
    "from astropy import units as u\n",
    "\n",
    "from linetools.isgm.abscomponent import AbsComponent\n",
    "from linetools.abund.ions import name_ion\n",
    "from linetools import utils as ltu\n",
    "\n",
    "from pyigm.igm.igmsightline import IGMSightline"
   ]
  },
  {
   "cell_type": "code",
   "execution_count": 2,
   "metadata": {
    "collapsed": true
   },
   "outputs": [],
   "source": [
    "c_kms = const.c.to('km/s').value"
   ]
  },
  {
   "cell_type": "markdown",
   "metadata": {},
   "source": [
    "## Read Table"
   ]
  },
  {
   "cell_type": "code",
   "execution_count": 3,
   "metadata": {
    "collapsed": false
   },
   "outputs": [
    {
     "data": {
      "text/html": [
       "&lt;Table length=5&gt;\n",
       "<table id=\"table4621870480\" class=\"table-striped table-bordered table-condensed\">\n",
       "<thead><tr><th>QSO</th><th>z_abs</th><th>ion</th><th>log_N</th><th>log_N_err</th><th>b_dop</th><th>b_dop_err</th><th>vel</th><th>vel_err</th><th>flag</th></tr></thead>\n",
       "<thead><tr><th>str14</th><th>float64</th><th>str6</th><th>float64</th><th>float64</th><th>int64</th><th>int64</th><th>int64</th><th>int64</th><th>int64</th></tr></thead>\n",
       "<tr><td>PG1522+101</td><td>0.07523</td><td>C IV</td><td>13.56</td><td>0.05</td><td>9</td><td>2</td><td>-6</td><td>1</td><td>0</td></tr>\n",
       "<tr><td>PG1522+101</td><td>0.07523</td><td>H I</td><td>13.87</td><td>0.02</td><td>26</td><td>1</td><td>-24</td><td>1</td><td>0</td></tr>\n",
       "<tr><td>PG1522+101</td><td>0.07523</td><td>N V</td><td>13.19</td><td>0.08</td><td>10</td><td>4</td><td>-4</td><td>2</td><td>0</td></tr>\n",
       "<tr><td>PG1407+265</td><td>0.07227</td><td>C IV</td><td>13.47</td><td>0.04</td><td>22</td><td>3</td><td>-17</td><td>2</td><td>0</td></tr>\n",
       "<tr><td>PG1407+265</td><td>0.07227</td><td>H I</td><td>0.0</td><td>0.0</td><td>9999</td><td>9999</td><td>0</td><td>0</td><td>9</td></tr>\n",
       "</table>"
      ],
      "text/plain": [
       "<Table length=5>\n",
       "   QSO      z_abs  ion   log_N  log_N_err b_dop b_dop_err  vel  vel_err  flag\n",
       "  str14    float64 str6 float64  float64  int64   int64   int64  int64  int64\n",
       "---------- ------- ---- ------- --------- ----- --------- ----- ------- -----\n",
       "PG1522+101 0.07523 C IV   13.56      0.05     9         2    -6       1     0\n",
       "PG1522+101 0.07523  H I   13.87      0.02    26         1   -24       1     0\n",
       "PG1522+101 0.07523  N V   13.19      0.08    10         4    -4       2     0\n",
       "PG1407+265 0.07227 C IV   13.47      0.04    22         3   -17       2     0\n",
       "PG1407+265 0.07227  H I     0.0       0.0  9999      9999     0       0     9"
      ]
     },
     "execution_count": 3,
     "metadata": {},
     "output_type": "execute_result"
    }
   ],
   "source": [
    "blind_file = pyigm.__path__[0]+'/data/sightlines/Blind_CIV/BlindCIV_measurements.dat'\n",
    "blind_tbl = Table.read(blind_file, format='ascii')\n",
    "blind_tbl[-5:]"
   ]
  },
  {
   "cell_type": "code",
   "execution_count": 4,
   "metadata": {
    "collapsed": true
   },
   "outputs": [],
   "source": [
    "flag_dict = {0:1, 1:2, 3:2, 9: 3}"
   ]
  },
  {
   "cell_type": "markdown",
   "metadata": {},
   "source": [
    "## Ingest PG1407+265"
   ]
  },
  {
   "cell_type": "code",
   "execution_count": 5,
   "metadata": {
    "collapsed": true
   },
   "outputs": [],
   "source": [
    "pg1407_idx = np.where(blind_tbl['QSO'] == 'PG1407+265')[0]\n",
    "radec = 'J140923.897+261821.043'\n",
    "coord = ltu.radec_to_coord(radec)"
   ]
  },
  {
   "cell_type": "markdown",
   "metadata": {},
   "source": [
    "### Generate components"
   ]
  },
  {
   "cell_type": "code",
   "execution_count": 6,
   "metadata": {
    "collapsed": false
   },
   "outputs": [],
   "source": [
    "comps = []\n",
    "for row in blind_tbl[pg1407_idx]:\n",
    "    # Calculate redshift\n",
    "    zabs= row['z_abs'] + (1+row['z_abs'])*row['vel']/c_kms\n",
    "    # Generate\n",
    "    comp = AbsComponent(coord, name_ion(row['ion']), zabs, np.sqrt(2)*row['b_dop']*np.array([-1,1])*u.km/u.s,\n",
    "                       Ntup=(flag_dict[row['flag']], row['log_N'], row['log_N_err']))\n",
    "    # Parse b-values\n",
    "    comp.bval = row['b_dop']*u.km/u.s\n",
    "    comp.sig_bval = row['b_dop_err']*u.km/u.s\n",
    "    # Append\n",
    "    comps.append(comp)"
   ]
  },
  {
   "cell_type": "markdown",
   "metadata": {},
   "source": [
    "### Generate the sightline"
   ]
  },
  {
   "cell_type": "code",
   "execution_count": 7,
   "metadata": {
    "collapsed": false
   },
   "outputs": [
    {
     "data": {
      "text/plain": [
       "<IGMSightline: 14:09:23.897 +26:18:21.043, zem=0.940000>"
      ]
     },
     "execution_count": 7,
     "metadata": {},
     "output_type": "execute_result"
    }
   ],
   "source": [
    "pg1407 = IGMSightline(coord, 0.94)\n",
    "pg1407"
   ]
  },
  {
   "cell_type": "code",
   "execution_count": 8,
   "metadata": {
    "collapsed": true
   },
   "outputs": [],
   "source": [
    "pg1407._components = comps"
   ]
  },
  {
   "cell_type": "code",
   "execution_count": 9,
   "metadata": {
    "collapsed": false
   },
   "outputs": [
    {
     "data": {
      "text/plain": [
       "[<AbsComponent: 14:09:23.897 +26:18:21.043, Name=CIV_z0.07221, Zion=(6,4), Ej=0 1 / cm, z=0.0722092, vlim=-31.1127 km / s,31.1127 km / s, logN=13.47, sig_N=0.04, flag_N=1>,\n",
       " <AbsComponent: 14:09:23.897 +26:18:21.043, Name=HI_z0.07227, Zion=(1,1), Ej=0 1 / cm, z=0.07227, vlim=-14140.7 km / s,14140.7 km / s, logN=0, sig_N=0, flag_N=3>]"
      ]
     },
     "execution_count": 9,
     "metadata": {},
     "output_type": "execute_result"
    }
   ],
   "source": [
    "pg1407._components"
   ]
  },
  {
   "cell_type": "markdown",
   "metadata": {},
   "source": [
    "### Write a sightline"
   ]
  },
  {
   "cell_type": "code",
   "execution_count": 10,
   "metadata": {
    "collapsed": false
   },
   "outputs": [],
   "source": [
    "pg1407_dict = pg1407.to_dict()"
   ]
  },
  {
   "cell_type": "code",
   "execution_count": 11,
   "metadata": {
    "collapsed": false
   },
   "outputs": [
    {
     "data": {
      "text/plain": [
       "{'CreationDate': '2016-Nov-17',\n",
       " 'DEC': 26.305845277777777,\n",
       " 'RA': 212.3495708333333,\n",
       " u'components': {u'CIV_z0.07221': {'A': None,\n",
       "   'DEC': 26.305845277777777,\n",
       "   'Ej': 0.0,\n",
       "   'Name': u'CIV_z0.07221',\n",
       "   'RA': 212.3495708333333,\n",
       "   'Zion': (6, 4),\n",
       "   'comment': u'',\n",
       "   'flag_N': 1,\n",
       "   u'lines': {},\n",
       "   'logN': 13.47,\n",
       "   'sig_logN': 0.04,\n",
       "   'vlim': [-31.112698372208094, 31.112698372208094],\n",
       "   'zcomp': 0.07220919596869912},\n",
       "  u'HI_z0.07227': {'A': None,\n",
       "   'DEC': 26.305845277777777,\n",
       "   'Ej': 0.0,\n",
       "   'Name': u'HI_z0.07227',\n",
       "   'RA': 212.3495708333333,\n",
       "   'Zion': (1, 1),\n",
       "   'comment': u'',\n",
       "   'flag_N': 3,\n",
       "   u'lines': {},\n",
       "   'logN': 0.0,\n",
       "   'sig_logN': 0.0,\n",
       "   'vlim': [-14140.721410168579, 14140.721410168579],\n",
       "   'zcomp': 0.07227}},\n",
       " 'em_type': None,\n",
       " 'name': u'J140923.897+261821.043',\n",
       " 'sl_type': u'IGM',\n",
       " 'user': 'xavier',\n",
       " 'zem': 0.94}"
      ]
     },
     "execution_count": 11,
     "metadata": {},
     "output_type": "execute_result"
    }
   ],
   "source": [
    "pg1407_dict"
   ]
  },
  {
   "cell_type": "code",
   "execution_count": 12,
   "metadata": {
    "collapsed": true
   },
   "outputs": [],
   "source": [
    "ltu.savejson('PG1407+265_sl.json', pg1407_dict, easy_to_read=True, overwrite=True)"
   ]
  },
  {
   "cell_type": "markdown",
   "metadata": {},
   "source": [
    "### Read the sightline"
   ]
  },
  {
   "cell_type": "code",
   "execution_count": 13,
   "metadata": {
    "collapsed": true
   },
   "outputs": [],
   "source": [
    "pg1407_dict = ltu.loadjson('PG1407+265_sl.json')"
   ]
  },
  {
   "cell_type": "code",
   "execution_count": 15,
   "metadata": {
    "collapsed": false
   },
   "outputs": [
    {
     "name": "stdout",
     "output_type": "stream",
     "text": [
      "> /Users/xavier/local/Python/pyigm/pyigm/igm/igmsightline.py(43)from_dict()\n",
      "-> \n",
      "(Pdb) c\n"
     ]
    },
    {
     "data": {
      "text/plain": [
       "<IGMSightline: 14:09:23.897 +26:18:21.043, zem=0.940000>"
      ]
     },
     "execution_count": 15,
     "metadata": {},
     "output_type": "execute_result"
    }
   ],
   "source": [
    "pg1407 = IGMSightline.from_dict(pg1407_dict)\n",
    "pg1407"
   ]
  },
  {
   "cell_type": "code",
   "execution_count": 16,
   "metadata": {
    "collapsed": false
   },
   "outputs": [
    {
     "data": {
      "text/plain": [
       "[<AbsComponent: 14:09:23.897 +26:18:21.043, Name=HI_z0.07227, Zion=(1,1), Ej=0 1 / cm, z=0.07227, vlim=-14140.7 km / s,14140.7 km / s, logN=0, sig_N=0, flag_N=3>,\n",
       " <AbsComponent: 14:09:23.897 +26:18:21.043, Name=CIV_z0.07221, Zion=(6,4), Ej=0 1 / cm, z=0.0722092, vlim=-31.1127 km / s,31.1127 km / s, logN=13.47, sig_N=0.04, flag_N=1>]"
      ]
     },
     "execution_count": 16,
     "metadata": {},
     "output_type": "execute_result"
    }
   ],
   "source": [
    "pg1407._components"
   ]
  },
  {
   "cell_type": "code",
   "execution_count": null,
   "metadata": {
    "collapsed": true
   },
   "outputs": [],
   "source": []
  }
 ],
 "metadata": {
  "kernelspec": {
   "display_name": "Python 2",
   "language": "python",
   "name": "python2"
  },
  "language_info": {
   "codemirror_mode": {
    "name": "ipython",
    "version": 2
   },
   "file_extension": ".py",
   "mimetype": "text/x-python",
   "name": "python",
   "nbconvert_exporter": "python",
   "pygments_lexer": "ipython2",
   "version": "2.7.11"
  }
 },
 "nbformat": 4,
 "nbformat_minor": 0
}
